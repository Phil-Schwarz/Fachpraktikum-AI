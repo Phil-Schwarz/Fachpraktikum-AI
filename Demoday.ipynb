{
 "cells": [
  {
   "cell_type": "code",
   "execution_count": 1,
   "id": "405fb98c-1851-4f7c-8481-52fb614ee44e",
   "metadata": {},
   "outputs": [],
   "source": [
    "# ./elasticsearch-7.12.1/bin/elasticsearch -d"
   ]
  },
  {
   "cell_type": "code",
   "execution_count": 2,
   "id": "86b9fee2-1f0e-4bf1-b535-498c06027c8a",
   "metadata": {},
   "outputs": [
    {
     "name": "stdout",
     "output_type": "stream",
     "text": [
      "Sun Jul 18 11:16:26 2021       \n",
      "+-----------------------------------------------------------------------------+\n",
      "| NVIDIA-SMI 450.51.06    Driver Version: 450.51.06    CUDA Version: 11.0     |\n",
      "|-------------------------------+----------------------+----------------------+\n",
      "| GPU  Name        Persistence-M| Bus-Id        Disp.A | Volatile Uncorr. ECC |\n",
      "| Fan  Temp  Perf  Pwr:Usage/Cap|         Memory-Usage | GPU-Util  Compute M. |\n",
      "|                               |                      |               MIG M. |\n",
      "|===============================+======================+======================|\n",
      "|   0  Tesla V100-SXM2...  Off  | 00000000:3A:00.0 Off |                    0 |\n",
      "| N/A   32C    P0    59W / 300W |     34MiB / 32510MiB |    100%      Default |\n",
      "|                               |                      |                  N/A |\n",
      "+-------------------------------+----------------------+----------------------+\n",
      "|   1  Tesla V100-SXM2...  Off  | 00000000:3B:00.0 Off |                    0 |\n",
      "| N/A   35C    P0    51W / 300W |     43MiB / 32510MiB |      0%      Default |\n",
      "|                               |                      |                  N/A |\n",
      "+-------------------------------+----------------------+----------------------+\n",
      "|   2  Tesla V100-SXM2...  Off  | 00000000:B2:00.0 Off |                    0 |\n",
      "| N/A   34C    P0    52W / 300W |     36MiB / 32510MiB |      0%      Default |\n",
      "|                               |                      |                  N/A |\n",
      "+-------------------------------+----------------------+----------------------+\n",
      "|   3  Tesla V100-SXM2...  Off  | 00000000:B3:00.0 Off |                    0 |\n",
      "| N/A   35C    P0    51W / 300W |      9MiB / 32510MiB |      0%      Default |\n",
      "|                               |                      |                  N/A |\n",
      "+-------------------------------+----------------------+----------------------+\n",
      "                                                                               \n",
      "+-----------------------------------------------------------------------------+\n",
      "| Processes:                                                                  |\n",
      "|  GPU   GI   CI        PID   Type   Process name                  GPU Memory |\n",
      "|        ID   ID                                                   Usage      |\n",
      "|=============================================================================|\n",
      "|    0   N/A  N/A      1737      G   /usr/libexec/Xorg                  33MiB |\n",
      "|    1   N/A  N/A      1737      G   /usr/libexec/Xorg                  42MiB |\n",
      "|    2   N/A  N/A      1737      G   /usr/libexec/Xorg                  35MiB |\n",
      "|    3   N/A  N/A      1737      G   /usr/libexec/Xorg                   8MiB |\n",
      "+-----------------------------------------------------------------------------+\n"
     ]
    }
   ],
   "source": [
    "!nvidia-smi"
   ]
  },
  {
   "cell_type": "code",
   "execution_count": 3,
   "id": "8ba3e319-af9b-422f-b361-f3d7ebad9ee4",
   "metadata": {},
   "outputs": [
    {
     "name": "stderr",
     "output_type": "stream",
     "text": [
      "07/18/2021 11:16:31 - INFO - faiss.loader -   Loading faiss with AVX2 support.\n",
      "07/18/2021 11:16:31 - INFO - faiss.loader -   Could not load library with AVX2 support due to:\n",
      "ModuleNotFoundError(\"No module named 'faiss.swigfaiss_avx2'\",)\n",
      "07/18/2021 11:16:31 - INFO - faiss.loader -   Loading faiss.\n",
      "07/18/2021 11:16:31 - INFO - faiss.loader -   Successfully loaded faiss.\n",
      "07/18/2021 11:16:31 - INFO - farm.modeling.prediction_head -   Better speed can be achieved with apex installed from https://www.github.com/nvidia/apex .\n",
      "/pfs/data5/home/st/st_us-051200/st_st171103/env2hay/lib64/python3.6/site-packages/pytorch_lightning/metrics/__init__.py:44: LightningDeprecationWarning: `pytorch_lightning.metrics.*` module has been renamed to `torchmetrics.*` and split off to its own package (https://github.com/PyTorchLightning/metrics) since v1.3 and will be removed in v1.5\n",
      "  \"`pytorch_lightning.metrics.*` module has been renamed to `torchmetrics.*` and split off to its own package\"\n"
     ]
    }
   ],
   "source": [
    "import sys\n",
    "import os\n",
    "\n",
    "#!{sys.executable} -m pip install elasticsearch\n",
    "\n",
    "import matplotlib.pyplot as plt\n",
    "import io\n",
    "import unicodedata\n",
    "import numpy as np\n",
    "import re\n",
    "import string\n",
    "import csv                 \n",
    "import pickle\n",
    "import json\n",
    "import json_lines\n",
    "import pandas as pd\n",
    "import math\n",
    "\n",
    "from six import string_types\n",
    "from typing import Dict\n",
    "from pathlib import Path\n",
    "from functools import partial\n",
    "from collections import OrderedDict\n",
    "from argparse import ArgumentParser\n",
    "\n",
    "import tqdm\n",
    "\n",
    "import haystack\n",
    "import elasticsearch\n",
    "\n",
    "from haystack.document_store.elasticsearch import ElasticsearchDocumentStore\n",
    "from haystack.retriever.sparse import ElasticsearchRetriever\n",
    "\n",
    "import lineflow as lf\n",
    "from transformers import AlbertForMultipleChoice, AlbertTokenizer, AdamW, AlbertConfig, AlbertModel\n",
    "import pytorch_lightning as pl\n",
    "from pytorch_lightning.metrics import functional as FM\n",
    "\n",
    "import torch\n",
    "from torch.utils.data import DataLoader, SequentialSampler, RandomSampler\n",
    "\n",
    "import time\n",
    "\n",
    "from pytorch_lightning import seed_everything\n",
    "import random\n"
   ]
  },
  {
   "cell_type": "code",
   "execution_count": 4,
   "id": "cb5c474a-a2fc-45c2-85e0-f4e047f937cf",
   "metadata": {},
   "outputs": [
    {
     "name": "stderr",
     "output_type": "stream",
     "text": [
      "07/18/2021 11:16:32 - INFO - pytorch_lightning.utilities.seed -   Global seed set to 42\n"
     ]
    }
   ],
   "source": [
    "seed = 42\n",
    "\n",
    "seed_everything(seed, workers=True)\n",
    "\n",
    "# python RNG\n",
    "import random\n",
    "random.seed(seed)\n",
    "\n",
    "# pytorch RNGs\n",
    "torch.manual_seed(seed)\n",
    "torch.backends.cudnn.deterministic = True\n",
    "if torch.cuda.is_available(): torch.cuda.manual_seed_all(seed)\n",
    "\n",
    "# numpy RNG\n",
    "np.random.seed(seed)"
   ]
  },
  {
   "cell_type": "code",
   "execution_count": 5,
   "id": "3d52ee6c-932c-4fac-86df-69626ce59643",
   "metadata": {
    "colab": {
     "base_uri": "https://localhost:8080/"
    },
    "id": "jx7p9UEDchcq",
    "outputId": "3069a346-8175-4e5b-8553-9be536a116f6"
   },
   "outputs": [
    {
     "name": "stderr",
     "output_type": "stream",
     "text": [
      "/opt/bwhpc/common/jupyter/tensorflow/2021-07-05/lib/python3.6/site-packages/ipykernel_launcher.py:3: DeprecationWarning: `import kerastuner` is deprecated, please use `import keras_tuner`.\n",
      "  This is separate from the ipykernel package so we can avoid doing imports until\n"
     ]
    }
   ],
   "source": [
    "from tensorflow import keras\n",
    "from tensorflow.keras.optimizers import Adam\n",
    "from kerastuner.tuners import RandomSearch\n",
    "from tensorflow.keras.layers import Dense, Input, TimeDistributed, Flatten, LSTM, Bidirectional, GRU, ConvLSTM2D \n",
    "from tensorflow.keras.layers import Concatenate, Dropout, SpatialDropout1D, SpatialDropout2D\n",
    "from tensorflow.keras.models import Model\n",
    "\n",
    "import tensorflow as tf\n",
    "\n",
    "from datetime import datetime\n",
    "from tensorflow import keras\n",
    "import jsonlines\n",
    "import argparse\n",
    "from os import listdir\n",
    "from os.path import isfile, join\n",
    "\n",
    "import uuid"
   ]
  },
  {
   "cell_type": "code",
   "execution_count": 7,
   "id": "14153ab8-6acf-4900-996e-aecfc803b037",
   "metadata": {},
   "outputs": [],
   "source": [
    "from keras.callbacks import ModelCheckpoint"
   ]
  },
  {
   "cell_type": "code",
   "execution_count": 8,
   "id": "defdb043-2de0-4f2e-8cb6-d6b079643b70",
   "metadata": {},
   "outputs": [],
   "source": [
    "tf.random.set_seed(42)"
   ]
  },
  {
   "cell_type": "code",
   "execution_count": 9,
   "id": "5bf9c437-9dbd-4fe7-94eb-bf30bfa4c5dc",
   "metadata": {},
   "outputs": [
    {
     "name": "stdout",
     "output_type": "stream",
     "text": [
      "{\n",
      "  \"name\" : \"node-1\",\n",
      "  \"cluster_name\" : \"ARC-cluster\",\n",
      "  \"cluster_uuid\" : \"OKjJu8d1R7GBO1mjNE0iEw\",\n",
      "  \"version\" : {\n",
      "    \"number\" : \"7.12.1\",\n",
      "    \"build_flavor\" : \"default\",\n",
      "    \"build_type\" : \"tar\",\n",
      "    \"build_hash\" : \"3186837139b9c6b6d23c3200870651f10d3343b7\",\n",
      "    \"build_date\" : \"2021-04-20T20:56:39.040728659Z\",\n",
      "    \"build_snapshot\" : false,\n",
      "    \"lucene_version\" : \"8.8.0\",\n",
      "    \"minimum_wire_compatibility_version\" : \"6.8.0\",\n",
      "    \"minimum_index_compatibility_version\" : \"6.0.0-beta1\"\n",
      "  },\n",
      "  \"tagline\" : \"You Know, for Search\"\n",
      "}\n"
     ]
    }
   ],
   "source": [
    "!curl localhost:9200"
   ]
  },
  {
   "cell_type": "code",
   "execution_count": 10,
   "id": "2e400f2a-1ba2-47e9-a7a2-a787fa66c84d",
   "metadata": {},
   "outputs": [
    {
     "name": "stderr",
     "output_type": "stream",
     "text": [
      "07/18/2021 11:16:47 - INFO - elasticsearch -   HEAD http://localhost:9200/ [status:200 request:0.007s]\n",
      "07/18/2021 11:16:47 - INFO - elasticsearch -   HEAD http://localhost:9200/document [status:200 request:0.001s]\n",
      "07/18/2021 11:16:47 - INFO - elasticsearch -   GET http://localhost:9200/document [status:200 request:0.001s]\n",
      "07/18/2021 11:16:47 - INFO - elasticsearch -   PUT http://localhost:9200/document/_mapping [status:200 request:0.004s]\n",
      "07/18/2021 11:16:47 - INFO - elasticsearch -   HEAD http://localhost:9200/label [status:200 request:0.001s]\n"
     ]
    }
   ],
   "source": [
    "document_store = ElasticsearchDocumentStore(host=\"localhost\", username=\"\", password=\"\", index=\"document\")"
   ]
  },
  {
   "cell_type": "code",
   "execution_count": 11,
   "id": "72c4eb2b-5704-455f-a27a-9e882c62d928",
   "metadata": {},
   "outputs": [
    {
     "name": "stderr",
     "output_type": "stream",
     "text": [
      "07/18/2021 11:16:47 - INFO - elasticsearch -   POST http://localhost:9200/document/_count [status:200 request:0.002s]\n"
     ]
    },
    {
     "data": {
      "text/plain": [
       "19670197"
      ]
     },
     "execution_count": 11,
     "metadata": {},
     "output_type": "execute_result"
    }
   ],
   "source": [
    "document_store.get_document_count()"
   ]
  },
  {
   "cell_type": "code",
   "execution_count": 12,
   "id": "768198bf-fb15-4b81-932c-98fc15c4a8fa",
   "metadata": {},
   "outputs": [],
   "source": [
    "retriever = ElasticsearchRetriever(document_store=document_store)"
   ]
  },
  {
   "cell_type": "code",
   "execution_count": null,
   "id": "ec3c6517-bcc2-425f-a957-f5ec3c231826",
   "metadata": {},
   "outputs": [],
   "source": []
  },
  {
   "cell_type": "code",
   "execution_count": 13,
   "id": "58ac8078-d792-4088-a463-aa6320a10425",
   "metadata": {},
   "outputs": [],
   "source": [
    "MAX_LEN = 512\n",
    "NUM_LABELS = 4\n",
    "label_map = {\"A\": 0, \"B\": 1, \"C\": 2, \"D\": 3}\n",
    "BATCH_SIZE = 8"
   ]
  },
  {
   "cell_type": "code",
   "execution_count": 14,
   "id": "c3fa2d8f-8bb1-4f16-86f8-9bdbb0f4efdd",
   "metadata": {},
   "outputs": [],
   "source": [
    "def raw_samples_to_dataset(samples, daset):\n",
    "    datas = []\n",
    "    i = 0\n",
    "    for sample in samples:\n",
    "        i+=1\n",
    "        if i%250 == 0:\n",
    "            print(i)\n",
    "\n",
    "        _uniques = []\n",
    "        _rscore = []\n",
    "        _article = []\n",
    "        _options = []\n",
    "        toomany = 0\n",
    "        \n",
    "        _id = sample[\"id\"]          \n",
    "        \n",
    "        _answer = sample[\"answerKey\"]        \n",
    "        if _answer == \"5\" or _answer == \"E\":\n",
    "            toomany = random.randint(1, 4)   \n",
    "            _answer = str(toomany)\n",
    "            print(_id)\n",
    "            print(\"Too many :\")\n",
    "            print(toomany)  \n",
    "        if _answer == \"1\":\n",
    "            _answer = \"A\"\n",
    "        if _answer == \"2\":\n",
    "            _answer = \"B\"\n",
    "        if _answer == \"3\":\n",
    "            _answer = \"C\"\n",
    "        if _answer == \"4\":\n",
    "            _answer = \"D\"        \n",
    "        if _answer not in [\"A\", \"B\", \"C\", \"D\"]:\n",
    "            print(_id)\n",
    "            print(\"skipped\")\n",
    "            continue\n",
    "        assert(_answer in [\"A\", \"B\", \"C\", \"D\"])        \n",
    "        \n",
    "        _question = sample[\"question\"]['stem']   \n",
    "        for idx in range(len(sample['question']['choices'])): \n",
    "            answer = sample[\"question\"]['choices'][idx]['label']\n",
    "            if answer == \"1\":\n",
    "                answer = \"A\"\n",
    "            if answer == \"2\":\n",
    "                answer = \"B\"\n",
    "            if answer == \"3\":\n",
    "                answer = \"C\"\n",
    "            if answer == \"4\":\n",
    "                answer = \"D\"            \n",
    "            if answer not in [\"A\", \"B\", \"C\", \"D\"]:\n",
    "                continue                \n",
    "            if toomany > 0 and _answer == answer:\n",
    "                _options.append(sample[\"question\"]['choices'][4]['text'])\n",
    "                continue          \n",
    "            _options.append(sample[\"question\"]['choices'][idx]['text'])            \n",
    "\n",
    "        if len(_options) < 4:\n",
    "            print(_id)\n",
    "            print(\"skipped, less than 4 options\")\n",
    "            continue\n",
    "        assert(len(_options) == 4)            \n",
    "\n",
    "        for idx in range(len(_options)): \n",
    "            _facts = \"\"\n",
    "            _scores = []\n",
    "            for result in retriever.retrieve(query= _question + \" \" + _options[idx], top_k=4):\n",
    "                _facts = _facts + \" \" + result.text\n",
    "                _scores.append(result.score)\n",
    "            _rscore.append(_scores)\n",
    "            _article.append(_facts)\n",
    "                \n",
    "        data = {\n",
    "                \"id\": _id,\n",
    "                \"article\": _article,\n",
    "                \"options\": _options,\n",
    "                \"question\": _question,\n",
    "                \"answer\": _answer,\n",
    "                \"optionscore\": [],\n",
    "                \"final_optionscore\": [],\n",
    "                \"rscore\": _rscore,\n",
    "                \"chosen\": [],\n",
    "                \"chosen_index\": []\n",
    "                }\n",
    "        datas.append(data)\n",
    "        daset.append(data)\n",
    "    return lf.Dataset(datas)   "
   ]
  },
  {
   "cell_type": "code",
   "execution_count": 15,
   "id": "92261dde-0488-454c-ba1a-d292b27eefad",
   "metadata": {},
   "outputs": [],
   "source": [
    "def preprocess(tokenizer: AlbertTokenizer, x: Dict) -> Dict:\n",
    "\n",
    "    choices_features = []\n",
    "    i=0\n",
    "    option: str\n",
    "    for option in x[\"options\"]:\n",
    "        text_a = x[\"article\"][i]\n",
    "        i+=1\n",
    "        text_b = x[\"question\"] + \" \" + option\n",
    "        \n",
    "        inputs = tokenizer.encode_plus(\n",
    "                text_a,\n",
    "                text_b,\n",
    "                add_special_tokens=True,\n",
    "                max_length=MAX_LEN\n",
    "                )\n",
    "        input_ids, token_type_ids = inputs[\"input_ids\"], inputs[\"token_type_ids\"]\n",
    "        attention_mask = [1] * len(input_ids)\n",
    "\n",
    "        pad_token_id = tokenizer.pad_token_id\n",
    "        padding_length = MAX_LEN - len(input_ids)\n",
    "        input_ids = input_ids + ([pad_token_id] * padding_length)\n",
    "        attention_mask = attention_mask + ([0] * padding_length)\n",
    "        token_type_ids = token_type_ids + ([pad_token_id] * padding_length)\n",
    "\n",
    "        assert len(input_ids) == MAX_LEN, \"Error with input length {} vs {}\".format(len(input_ids), MAX_LEN)\n",
    "        assert len(attention_mask) == MAX_LEN, \"Error with input length {} vs {}\".format(len(attention_mask), MAX_LEN)\n",
    "        assert len(token_type_ids) == MAX_LEN, \"Error with input length {} vs {}\".format(len(token_type_ids), MAX_LEN)\n",
    "\n",
    "        choices_features.append({\n",
    "            \"input_ids\": input_ids,\n",
    "            \"attention_mask\": attention_mask,\n",
    "            \"token_type_ids\": token_type_ids,\n",
    "            })\n",
    "\n",
    "    labels = label_map.get(x[\"answer\"], -1)\n",
    "    label = torch.tensor(labels).long()\n",
    "\n",
    "    return {\n",
    "            \"id\": x[\"id\"],\n",
    "            \"label\": label,\n",
    "            \"input_ids\": torch.tensor([cf[\"input_ids\"] for cf in choices_features]),\n",
    "            \"attention_mask\": torch.tensor([cf[\"attention_mask\"] for cf in choices_features]),\n",
    "            \"token_type_ids\": torch.tensor([cf[\"token_type_ids\"] for cf in choices_features]),\n",
    "            }"
   ]
  },
  {
   "cell_type": "code",
   "execution_count": 16,
   "id": "b267ded8-1094-4df7-b063-2fdb919fadbd",
   "metadata": {},
   "outputs": [],
   "source": [
    "def get_demo_dataloader(tokenizer, datadir: str = './', cachedir: str = \"./\"):\n",
    "    datadir = Path(datadir)\n",
    "    datafile = \"test_demo_day_10.jsonl\"\n",
    "    cachedir = Path(cachedir)\n",
    "    filename = \"_demo_\"\n",
    "    cachefile = \"cache\" + filename + \".cache\"\n",
    "    ds_file = \"DS\" + filename + \".pkl\"\n",
    "    dl_file = \"DL\" + filename + \".pkl\"\n",
    "    \n",
    "    if os.path.isfile(cachedir / cachefile):\n",
    "        os.remove(cachedir / cachefile)\n",
    "    if os.path.isfile(ds_file):\n",
    "        os.remove(ds_file)\n",
    "    if os.path.isfile(dl_file):\n",
    "        os.remove(dl_file)\n",
    "        \n",
    "    preprocessor = partial(preprocess, tokenizer)\n",
    "\n",
    "    test_samples = []\n",
    "    with open(datadir / datafile) as f:\n",
    "        for item in json_lines.reader(f):\n",
    "            test_samples.append(item)\n",
    "    test = raw_samples_to_dataset(test_samples,t_dataset)\n",
    "    pickle.dump(test, open(ds_file, \"wb\"))   \n",
    "    test_dataloader = DataLoader(\n",
    "            test.map(preprocessor).save(cachedir / cachefile),\n",
    "            sampler=SequentialSampler(test),\n",
    "            batch_size=BATCH_SIZE\n",
    "            )\n",
    "    \n",
    "    pickle.dump(test_dataloader, open(dl_file, \"wb\"))\n",
    "    return test_dataloader\n"
   ]
  },
  {
   "cell_type": "code",
   "execution_count": 17,
   "id": "c6bc63b6-09eb-48e3-8333-c3900e050226",
   "metadata": {},
   "outputs": [],
   "source": [
    "class TestModel(pl.LightningModule):\n",
    "\n",
    "    def __init__(self, model, test_dataloader, model2):\n",
    "        super(TestModel, self).__init__()\n",
    "\n",
    "        self.model = model\n",
    "        self.model2 = model2\n",
    "        self._test_dataloader = test_dataloader\n",
    "\n",
    "    def test_step(self, batch, batch_idx):\n",
    "        ids = batch[\"id\"]\n",
    "        labels = batch[\"label\"]\n",
    "        input_ids = batch[\"input_ids\"]\n",
    "        attention_mask = batch[\"attention_mask\"]\n",
    "        token_type_ids = batch[\"token_type_ids\"]\n",
    "\n",
    "        outputs = self.model(\n",
    "                input_ids,\n",
    "                token_type_ids=token_type_ids,\n",
    "                attention_mask=attention_mask,\n",
    "                labels=labels\n",
    "        )\n",
    "        outputs_pooler = self.model2(input_ids = torch.reshape(input_ids,(-1,512)),\n",
    "                           token_type_ids=torch.reshape(token_type_ids,(-1,512)),\n",
    "                           attention_mask=torch.reshape(attention_mask,(-1,512)))\n",
    "        \n",
    "        labels_hat = torch.argmax(outputs.logits, dim=1)\n",
    "\n",
    "        i = 0\n",
    "        j = int(len(batch[\"id\"])/torch.cuda.device_count())\n",
    "\n",
    "        for element in outputs.logits:\n",
    "            for element2 in t_dataset:\n",
    "                if j == 0 and element2[\"id\"] == batch[\"id\"][torch.cuda.current_device()]:\n",
    "                    hidden_pos = i*4\n",
    "                    element2[\"final_optionscore\"].append(element.cpu().numpy())\n",
    "                    element2[\"optionscore\"] = outputs_pooler.pooler_output[hidden_pos:hidden_pos+4].cpu().numpy()\n",
    "                    element2[\"chosen\"].append(labels_hat.cpu().numpy()[i])    \n",
    "                elif j != 0 and element2[\"id\"] == batch[\"id\"][torch.cuda.current_device()*j+i]:\n",
    "                    hidden_pos = i*4\n",
    "                    element2[\"final_optionscore\"].append(element.cpu().numpy())\n",
    "                    element2[\"optionscore\"] = outputs_pooler.pooler_output[hidden_pos:hidden_pos+4].cpu().numpy()\n",
    "                    element2[\"chosen\"].append(labels_hat.cpu().numpy()[i])    \n",
    "            i+=1\n",
    "        acc = FM.accuracy(labels_hat, labels)\n",
    "        self.log('test_acc', acc, on_step=True, on_epoch=True, prog_bar=True, logger=True)\n",
    "\n",
    "    def test_dataloader(self):\n",
    "        return self._test_dataloader"
   ]
  },
  {
   "cell_type": "raw",
   "id": "dde813eb-a08f-4a02-83ca-a8975e4fa2ca",
   "metadata": {},
   "source": []
  },
  {
   "cell_type": "code",
   "execution_count": 18,
   "id": "60b231a9-cd07-4711-ada6-8d2e9e634982",
   "metadata": {},
   "outputs": [],
   "source": [
    "def Generate_NN_file(src ,nn_file, runs):\n",
    "    if os.path.isfile(nn_file):\n",
    "        os.remove(nn_file)\n",
    "    checkpoint_path = src\n",
    "    checkpoint = torch.load(checkpoint_path)\n",
    "    new_checkpoint = {}\n",
    "\n",
    "    for key in checkpoint['state_dict'].keys():\n",
    "        if 'model' in key:\n",
    "            new_key = key[6:]\n",
    "            new_checkpoint[new_key] = checkpoint['state_dict'][key]\n",
    "        else:\n",
    "            new_checkpoint[key] = checkpoint['state_dict'][key]\n",
    "\n",
    "    config = AlbertConfig.from_pretrained('albert-base-v2')\n",
    "    m = AlbertForMultipleChoice.from_pretrained(pretrained_model_name_or_path= None, config=config, state_dict=new_checkpoint)\n",
    "    m2 = AlbertModel.from_pretrained(pretrained_model_name_or_path= None, config=config, state_dict=new_checkpoint)\n",
    "\n",
    "    trainer_for_test = pl.Trainer(gpus=-1, accelerator='dp')\n",
    "    model_for_test = TestModel(m, test_dataloader, m2)\n",
    "    \n",
    "    \n",
    "    i = 0\n",
    "    ret_saved = 0.0\n",
    "    ret_data = t_dataset\n",
    "    ret_i = -1\n",
    "    avg=0\n",
    "    while i < runs: \n",
    "        ret = trainer_for_test.test(model=model_for_test)\n",
    "        count=0\n",
    "        count_c=0\n",
    "        for element in t_dataset:\n",
    "            if chr(element[\"chosen\"][-1] + 65) == element[\"answer\"]:\n",
    "                count_c = count_c +1\n",
    "            count = count +1\n",
    "        acc = count_c/count\n",
    "        avg = avg + acc\n",
    "#        avg = avg + ret[0][\"test_acc_epoch\"]\n",
    "        if acc > ret_saved:\n",
    "            ret_saved = acc\n",
    "            ret_data = t_dataset\n",
    "            ret_i = i\n",
    "        i = i+1\n",
    "    avg = avg/i   \n",
    "    for element in ret_data:\n",
    "        element[\"chosen_index\"] = ret_i\n",
    "    pickle.dump(ret_data, open(nn_file, \"wb\"))  \n",
    "    print(\"test_acc_epoch:\")\n",
    "    print(ret_saved)\n",
    "    print(\"avg:\")\n",
    "    print(avg)"
   ]
  },
  {
   "cell_type": "code",
   "execution_count": null,
   "id": "94c6fafe-7067-4a6a-a18b-c6b71f53db05",
   "metadata": {},
   "outputs": [],
   "source": []
  },
  {
   "cell_type": "code",
   "execution_count": null,
   "id": "c8715913-fa38-4821-9d3a-aaacb1dc2a3f",
   "metadata": {},
   "outputs": [],
   "source": []
  },
  {
   "cell_type": "code",
   "execution_count": null,
   "id": "bf3ffb47-37a4-4080-aabe-2bd742cbfe0e",
   "metadata": {},
   "outputs": [],
   "source": []
  },
  {
   "cell_type": "code",
   "execution_count": 19,
   "id": "cca51978-583a-4942-bbae-bb7b0b987125",
   "metadata": {},
   "outputs": [
    {
     "name": "stderr",
     "output_type": "stream",
     "text": [
      "07/18/2021 11:16:49 - INFO - elasticsearch -   POST http://localhost:9200/document/_search [status:200 request:0.045s]\n",
      "07/18/2021 11:16:49 - INFO - elasticsearch -   POST http://localhost:9200/document/_search [status:200 request:0.038s]\n",
      "07/18/2021 11:16:49 - INFO - elasticsearch -   POST http://localhost:9200/document/_search [status:200 request:0.041s]\n",
      "07/18/2021 11:16:49 - INFO - elasticsearch -   POST http://localhost:9200/document/_search [status:200 request:0.041s]\n",
      "07/18/2021 11:16:49 - INFO - elasticsearch -   POST http://localhost:9200/document/_search [status:200 request:0.276s]\n",
      "07/18/2021 11:16:49 - INFO - elasticsearch -   POST http://localhost:9200/document/_search [status:200 request:0.261s]\n",
      "07/18/2021 11:16:50 - INFO - elasticsearch -   POST http://localhost:9200/document/_search [status:200 request:0.221s]\n",
      "07/18/2021 11:16:50 - INFO - elasticsearch -   POST http://localhost:9200/document/_search [status:200 request:0.221s]\n",
      "07/18/2021 11:16:50 - INFO - elasticsearch -   POST http://localhost:9200/document/_search [status:200 request:0.032s]\n",
      "07/18/2021 11:16:50 - INFO - elasticsearch -   POST http://localhost:9200/document/_search [status:200 request:0.041s]\n",
      "07/18/2021 11:16:50 - INFO - elasticsearch -   POST http://localhost:9200/document/_search [status:200 request:0.029s]\n",
      "07/18/2021 11:16:50 - INFO - elasticsearch -   POST http://localhost:9200/document/_search [status:200 request:0.038s]\n",
      "07/18/2021 11:16:50 - INFO - elasticsearch -   POST http://localhost:9200/document/_search [status:200 request:0.060s]\n",
      "07/18/2021 11:16:50 - INFO - elasticsearch -   POST http://localhost:9200/document/_search [status:200 request:0.084s]\n",
      "07/18/2021 11:16:50 - INFO - elasticsearch -   POST http://localhost:9200/document/_search [status:200 request:0.090s]\n",
      "07/18/2021 11:16:50 - INFO - elasticsearch -   POST http://localhost:9200/document/_search [status:200 request:0.088s]\n",
      "07/18/2021 11:16:50 - INFO - elasticsearch -   POST http://localhost:9200/document/_search [status:200 request:0.138s]\n",
      "07/18/2021 11:16:51 - INFO - elasticsearch -   POST http://localhost:9200/document/_search [status:200 request:0.157s]\n",
      "07/18/2021 11:16:51 - INFO - elasticsearch -   POST http://localhost:9200/document/_search [status:200 request:0.137s]\n",
      "07/18/2021 11:16:51 - INFO - elasticsearch -   POST http://localhost:9200/document/_search [status:200 request:0.108s]\n",
      "07/18/2021 11:16:51 - INFO - elasticsearch -   POST http://localhost:9200/document/_search [status:200 request:0.167s]\n",
      "07/18/2021 11:16:51 - INFO - elasticsearch -   POST http://localhost:9200/document/_search [status:200 request:0.163s]\n",
      "07/18/2021 11:16:51 - INFO - elasticsearch -   POST http://localhost:9200/document/_search [status:200 request:0.166s]\n",
      "07/18/2021 11:16:51 - INFO - elasticsearch -   POST http://localhost:9200/document/_search [status:200 request:0.166s]\n",
      "07/18/2021 11:16:52 - INFO - elasticsearch -   POST http://localhost:9200/document/_search [status:200 request:0.092s]\n",
      "07/18/2021 11:16:52 - INFO - elasticsearch -   POST http://localhost:9200/document/_search [status:200 request:0.092s]\n",
      "07/18/2021 11:16:52 - INFO - elasticsearch -   POST http://localhost:9200/document/_search [status:200 request:0.081s]\n",
      "07/18/2021 11:16:52 - INFO - elasticsearch -   POST http://localhost:9200/document/_search [status:200 request:0.077s]\n",
      "07/18/2021 11:16:52 - INFO - elasticsearch -   POST http://localhost:9200/document/_search [status:200 request:0.043s]\n",
      "07/18/2021 11:16:52 - INFO - elasticsearch -   POST http://localhost:9200/document/_search [status:200 request:0.049s]\n",
      "07/18/2021 11:16:52 - INFO - elasticsearch -   POST http://localhost:9200/document/_search [status:200 request:0.038s]\n",
      "07/18/2021 11:16:52 - INFO - elasticsearch -   POST http://localhost:9200/document/_search [status:200 request:0.025s]\n",
      "07/18/2021 11:16:52 - INFO - elasticsearch -   POST http://localhost:9200/document/_search [status:200 request:0.154s]\n",
      "07/18/2021 11:16:52 - INFO - elasticsearch -   POST http://localhost:9200/document/_search [status:200 request:0.202s]\n",
      "07/18/2021 11:16:53 - INFO - elasticsearch -   POST http://localhost:9200/document/_search [status:200 request:0.216s]\n",
      "07/18/2021 11:16:53 - INFO - elasticsearch -   POST http://localhost:9200/document/_search [status:200 request:0.215s]\n",
      "07/18/2021 11:16:53 - INFO - elasticsearch -   POST http://localhost:9200/document/_search [status:200 request:0.137s]\n",
      "07/18/2021 11:16:53 - INFO - elasticsearch -   POST http://localhost:9200/document/_search [status:200 request:0.153s]\n",
      "07/18/2021 11:16:53 - INFO - elasticsearch -   POST http://localhost:9200/document/_search [status:200 request:0.196s]\n",
      "07/18/2021 11:16:53 - INFO - elasticsearch -   POST http://localhost:9200/document/_search [status:200 request:0.194s]\n",
      "Truncation was not explicitly activated but `max_length` is provided a specific value, please use `truncation=True` to explicitly truncate examples to max length. Defaulting to 'longest_first' truncation strategy. If you encode pairs of sequences (GLUE-style) with the tokenizer you can select this strategy more precisely by providing a specific strategy to `truncation`.\n"
     ]
    },
    {
     "name": "stdout",
     "output_type": "stream",
     "text": [
      "Saving data to cache_demo_.cache...\n"
     ]
    }
   ],
   "source": [
    "t_dataset = []\n",
    "tokenizer = AlbertTokenizer.from_pretrained(\"albert-base-v2\", do_lower_case=True)\n",
    "test_dataloader = get_demo_dataloader(tokenizer)"
   ]
  },
  {
   "cell_type": "code",
   "execution_count": null,
   "id": "649e27de-b7e8-4f30-83fb-cd58f0e09750",
   "metadata": {},
   "outputs": [],
   "source": []
  },
  {
   "cell_type": "code",
   "execution_count": null,
   "id": "5c4c8bf3-a238-4cef-a75f-e4026f656e2b",
   "metadata": {},
   "outputs": [],
   "source": []
  },
  {
   "cell_type": "code",
   "execution_count": 20,
   "id": "0b342354-e695-4f1e-b62c-7a70bfad4526",
   "metadata": {},
   "outputs": [],
   "source": [
    "with  open(\"DL_demo_.pkl\", 'rb') as f:\n",
    "    test_dataloader = pickle.load(f)\n",
    "    \n",
    "with  open(\"DS_demo_.pkl\", 'rb') as f:\n",
    "    t_dataset = pickle.load(f)\n",
    "    \n",
    "NN_filename = \"NN-Demo-OB.pkl\"\n",
    "model_path = \"/pfs/work7/workspace/scratch/st_st169719-TQA-0/Chen/OpenBook/dr_ex01-albert-openbook-epoch=02-val_acc_epoch=0.557.ckpt\""
   ]
  },
  {
   "cell_type": "code",
   "execution_count": 21,
   "id": "17c8237a-8098-49e8-8460-e66779fc9182",
   "metadata": {
    "tags": []
   },
   "outputs": [
    {
     "name": "stderr",
     "output_type": "stream",
     "text": [
      "Some weights of the model checkpoint at None were not used when initializing AlbertModel: ['classifier.weight', 'classifier.bias']\n",
      "- This IS expected if you are initializing AlbertModel from the checkpoint of a model trained on another task or with another architecture (e.g. initializing a BertForSequenceClassification model from a BertForPreTraining model).\n",
      "- This IS NOT expected if you are initializing AlbertModel from the checkpoint of a model that you expect to be exactly identical (initializing a BertForSequenceClassification model from a BertForSequenceClassification model).\n",
      "07/18/2021 11:16:57 - INFO - pytorch_lightning.utilities.distributed -   GPU available: True, used: True\n",
      "07/18/2021 11:16:57 - INFO - pytorch_lightning.utilities.distributed -   TPU available: False, using: 0 TPU cores\n",
      "07/18/2021 11:16:57 - INFO - pytorch_lightning.accelerators.gpu -   LOCAL_RANK: 0 - CUDA_VISIBLE_DEVICES: [0,1,2,3]\n",
      "/pfs/data5/home/st/st_us-051200/st_st171103/env2hay/lib64/python3.6/site-packages/pytorch_lightning/trainer/data_loading.py:103: UserWarning: The dataloader, test dataloader 0, does not have many workers which may be a bottleneck. Consider increasing the value of the `num_workers` argument` (try 80 which is the number of cpus on this machine) in the `DataLoader` init to improve performance.\n",
      "  f'The dataloader, {name}, does not have many workers which may be a bottleneck.'\n"
     ]
    },
    {
     "data": {
      "application/vnd.jupyter.widget-view+json": {
       "model_id": "946291ec924f41889ea80192b2fbb449",
       "version_major": 2,
       "version_minor": 0
      },
      "text/plain": [
       "Testing: 0it [00:00, ?it/s]"
      ]
     },
     "metadata": {},
     "output_type": "display_data"
    },
    {
     "name": "stderr",
     "output_type": "stream",
     "text": [
      "/pfs/data5/home/st/st_us-051200/st_st171103/env2hay/lib64/python3.6/site-packages/deprecate/deprecation.py:115: LightningDeprecationWarning: The `accuracy` was deprecated since v1.3.0 in favor of `torchmetrics.functional.classification.accuracy.accuracy`. It will be removed in v1.5.0.\n",
      "  stream(template_mgs % msg_args)\n"
     ]
    },
    {
     "name": "stdout",
     "output_type": "stream",
     "text": [
      "--------------------------------------------------------------------------------\n",
      "DATALOADER:0 TEST RESULTS\n",
      "{'test_acc': 0.0, 'test_acc_epoch': 0.0}\n",
      "--------------------------------------------------------------------------------\n",
      "test_acc_epoch:\n",
      "0.0\n",
      "avg:\n",
      "0.0\n"
     ]
    }
   ],
   "source": [
    "Generate_NN_file(model_path, NN_filename, 1)"
   ]
  },
  {
   "cell_type": "code",
   "execution_count": 22,
   "id": "02f2c7a7-3073-45f4-bf45-c5abb17bcaa3",
   "metadata": {},
   "outputs": [],
   "source": [
    "with  open(\"DL_demo_.pkl\", 'rb') as f:\n",
    "    test_dataloader = pickle.load(f)\n",
    "    \n",
    "with  open(\"DS_demo_.pkl\", 'rb') as f:\n",
    "    t_dataset = pickle.load(f)\n",
    "    \n",
    "NN_filename = \"NN-Demo-Commonqa.pkl\"\n",
    "model_path = \"/pfs/work7/workspace/scratch/st_st169719-TQA-0/Chen/Commonsense/dr_ex01-albert-commonsense-epoch=01-val_loss_epoch=1.066.ckpt\""
   ]
  },
  {
   "cell_type": "code",
   "execution_count": 23,
   "id": "265f9278-22dc-463f-875b-0b51a3f68f0e",
   "metadata": {
    "tags": []
   },
   "outputs": [
    {
     "name": "stderr",
     "output_type": "stream",
     "text": [
      "Some weights of the model checkpoint at None were not used when initializing AlbertModel: ['classifier.weight', 'classifier.bias']\n",
      "- This IS expected if you are initializing AlbertModel from the checkpoint of a model trained on another task or with another architecture (e.g. initializing a BertForSequenceClassification model from a BertForPreTraining model).\n",
      "- This IS NOT expected if you are initializing AlbertModel from the checkpoint of a model that you expect to be exactly identical (initializing a BertForSequenceClassification model from a BertForSequenceClassification model).\n",
      "07/18/2021 11:17:05 - INFO - pytorch_lightning.utilities.distributed -   GPU available: True, used: True\n",
      "07/18/2021 11:17:05 - INFO - pytorch_lightning.utilities.distributed -   TPU available: False, using: 0 TPU cores\n",
      "07/18/2021 11:17:05 - INFO - pytorch_lightning.accelerators.gpu -   LOCAL_RANK: 0 - CUDA_VISIBLE_DEVICES: [0,1,2,3]\n"
     ]
    },
    {
     "data": {
      "application/vnd.jupyter.widget-view+json": {
       "model_id": "be6aa290205b4f74ba41ba3b7c16412c",
       "version_major": 2,
       "version_minor": 0
      },
      "text/plain": [
       "Testing: 0it [00:00, ?it/s]"
      ]
     },
     "metadata": {},
     "output_type": "display_data"
    },
    {
     "name": "stdout",
     "output_type": "stream",
     "text": [
      "--------------------------------------------------------------------------------\n",
      "DATALOADER:0 TEST RESULTS\n",
      "{'test_acc': 1.0, 'test_acc_epoch': 1.0}\n",
      "--------------------------------------------------------------------------------\n",
      "test_acc_epoch:\n",
      "0.8\n",
      "avg:\n",
      "0.8\n"
     ]
    }
   ],
   "source": [
    "Generate_NN_file(model_path, NN_filename, 1)"
   ]
  },
  {
   "cell_type": "code",
   "execution_count": 24,
   "id": "245ee0eb-97ba-4b6d-bba6-d683926e3be3",
   "metadata": {},
   "outputs": [],
   "source": [
    "with  open(\"DL_demo_.pkl\", 'rb') as f:\n",
    "    test_dataloader = pickle.load(f)\n",
    "    \n",
    "with  open(\"DS_demo_.pkl\", 'rb') as f:\n",
    "    t_dataset = pickle.load(f)\n",
    "    \n",
    "NN_filename = \"NN-Demo-Race.pkl\"\n",
    "model_path = \"/pfs/work7/workspace/scratch/st_st169719-TQA-0/Chen/RACE/e3-albert-race-epoch=01-val_loss_epoch=1.16.ckpt\""
   ]
  },
  {
   "cell_type": "code",
   "execution_count": 25,
   "id": "a91325c4-7374-4a38-84db-ca8b56557ddd",
   "metadata": {
    "tags": []
   },
   "outputs": [
    {
     "name": "stderr",
     "output_type": "stream",
     "text": [
      "Some weights of the model checkpoint at None were not used when initializing AlbertModel: ['classifier.weight', 'classifier.bias']\n",
      "- This IS expected if you are initializing AlbertModel from the checkpoint of a model trained on another task or with another architecture (e.g. initializing a BertForSequenceClassification model from a BertForPreTraining model).\n",
      "- This IS NOT expected if you are initializing AlbertModel from the checkpoint of a model that you expect to be exactly identical (initializing a BertForSequenceClassification model from a BertForSequenceClassification model).\n",
      "07/18/2021 11:17:07 - INFO - pytorch_lightning.utilities.distributed -   GPU available: True, used: True\n",
      "07/18/2021 11:17:07 - INFO - pytorch_lightning.utilities.distributed -   TPU available: False, using: 0 TPU cores\n",
      "07/18/2021 11:17:07 - INFO - pytorch_lightning.accelerators.gpu -   LOCAL_RANK: 0 - CUDA_VISIBLE_DEVICES: [0,1,2,3]\n"
     ]
    },
    {
     "data": {
      "application/vnd.jupyter.widget-view+json": {
       "model_id": "3440e99efcc24603bb012b310da8fcdc",
       "version_major": 2,
       "version_minor": 0
      },
      "text/plain": [
       "Testing: 0it [00:00, ?it/s]"
      ]
     },
     "metadata": {},
     "output_type": "display_data"
    },
    {
     "name": "stdout",
     "output_type": "stream",
     "text": [
      "--------------------------------------------------------------------------------\n",
      "DATALOADER:0 TEST RESULTS\n",
      "{'test_acc': 0.0, 'test_acc_epoch': 0.5}\n",
      "--------------------------------------------------------------------------------\n",
      "test_acc_epoch:\n",
      "0.7\n",
      "avg:\n",
      "0.7\n"
     ]
    }
   ],
   "source": [
    "Generate_NN_file(model_path, NN_filename, 1)"
   ]
  },
  {
   "cell_type": "code",
   "execution_count": 26,
   "id": "5f604d42-5e95-49b2-a381-6deb7322735c",
   "metadata": {},
   "outputs": [],
   "source": [
    "with  open(\"DL_demo_.pkl\", 'rb') as f:\n",
    "    test_dataloader = pickle.load(f)\n",
    "    \n",
    "with  open(\"DS_demo_.pkl\", 'rb') as f:\n",
    "    t_dataset = pickle.load(f)\n",
    "    \n",
    "NN_filename = \"NN-Demo-CQA.pkl\"\n",
    "model_path = \"/pfs/work7/workspace/scratch/st_st169719-TQA-0/Chen/Cosmos/ex02-albert-cosmos-epoch=03-val_acc_epoch=0.588.ckpt\""
   ]
  },
  {
   "cell_type": "code",
   "execution_count": 27,
   "id": "469754ff-720f-4698-8643-fcfe93982454",
   "metadata": {
    "tags": []
   },
   "outputs": [
    {
     "name": "stderr",
     "output_type": "stream",
     "text": [
      "Some weights of the model checkpoint at None were not used when initializing AlbertModel: ['classifier.weight', 'classifier.bias']\n",
      "- This IS expected if you are initializing AlbertModel from the checkpoint of a model trained on another task or with another architecture (e.g. initializing a BertForSequenceClassification model from a BertForPreTraining model).\n",
      "- This IS NOT expected if you are initializing AlbertModel from the checkpoint of a model that you expect to be exactly identical (initializing a BertForSequenceClassification model from a BertForSequenceClassification model).\n",
      "07/18/2021 11:17:08 - INFO - pytorch_lightning.utilities.distributed -   GPU available: True, used: True\n",
      "07/18/2021 11:17:08 - INFO - pytorch_lightning.utilities.distributed -   TPU available: False, using: 0 TPU cores\n",
      "07/18/2021 11:17:08 - INFO - pytorch_lightning.accelerators.gpu -   LOCAL_RANK: 0 - CUDA_VISIBLE_DEVICES: [0,1,2,3]\n"
     ]
    },
    {
     "data": {
      "application/vnd.jupyter.widget-view+json": {
       "model_id": "ff142a25d0704fbeae4f4a18366c9d4c",
       "version_major": 2,
       "version_minor": 0
      },
      "text/plain": [
       "Testing: 0it [00:00, ?it/s]"
      ]
     },
     "metadata": {},
     "output_type": "display_data"
    },
    {
     "name": "stdout",
     "output_type": "stream",
     "text": [
      "--------------------------------------------------------------------------------\n",
      "DATALOADER:0 TEST RESULTS\n",
      "{'test_acc': 1.0, 'test_acc_epoch': 0.75}\n",
      "--------------------------------------------------------------------------------\n",
      "test_acc_epoch:\n",
      "0.8\n",
      "avg:\n",
      "0.8\n"
     ]
    }
   ],
   "source": [
    "Generate_NN_file(model_path, NN_filename, 1)"
   ]
  },
  {
   "cell_type": "code",
   "execution_count": null,
   "id": "2f33d958-380e-48d3-b87f-299c5c0bd5a5",
   "metadata": {},
   "outputs": [],
   "source": []
  },
  {
   "cell_type": "code",
   "execution_count": 28,
   "id": "3354c568-6521-4eab-b201-17b20c692450",
   "metadata": {},
   "outputs": [],
   "source": [
    "import pickle\n",
    "with  open(\"NN-Demo-CQA.pkl\", 'rb') as f:\n",
    "    t_dataset = pickle.load(f)"
   ]
  },
  {
   "cell_type": "code",
   "execution_count": 29,
   "id": "9c2a6ea5-5c01-4962-80d5-85dff4f3888a",
   "metadata": {
    "tags": []
   },
   "outputs": [
    {
     "name": "stdout",
     "output_type": "stream",
     "text": [
      "Which gas do plants absorb from the atmosphere?\n",
      "['oxigen', 'nitrogen', 'carbon dioxide', 'helium']\n",
      "C\n",
      "C\n",
      "[2]\n",
      "[-4.145136  -2.000894   1.9445158 -5.8803186]\n",
      "[[39.45624, 39.10998, 37.332546, 35.562355], [48.692398, 41.470398, 40.56738, 39.45624], [57.20912, 50.405483, 49.27131, 49.09628], [39.45624, 39.10998, 37.332546, 35.562355]]\n",
      "[' Plants are rooted in the soil, from which they absorb the minerals they need to grow, and they take up carbon dioxide gas from the atmosphere, which they convert into sugars in the process of photosynthesis.\\n Plants and animals simply cannot absorb the gas directly from the atmosphere.\\n For example, cyanobacteria not only restore oxygen to the atmosphere; some of them also convert nitrogen gas (N2) in the atmosphere to nitrogen compounds that plants can absorb from soil and water (see Figure 15.11 b ).\\n SOME PLANTS THAT FEED ON INSECTS BY JOH\\\\ J. W.-\\\\RD, F.E.S. Plants, by means of their leaves, can absorb light and the carbonic acid gas of the atmosphere.\\n', ' For example, cyanobacteria not only restore oxygen to the atmosphere; some of them also convert nitrogen gas (N2) in the atmosphere to nitrogen compounds that plants can absorb from soil and water (see Figure 15.11 b ).\\n 21 Plants: Obtaining Nutrients Plants have organs which help them take in nutrients and to do photosynthesis: Roots – Absorb (take in) water and nitrogen from the soil Leaves – take in carbon dioxide and carry out photosynthesis Take in CO 2 Location of photosynthesis Absorb water Absorb nitrogen CONTENTS\\n It was proved by Boussingault in 1858 that plants are unable to absorb Nitrogen directly from the atmosphere, of which it composes about four- fifths, but that it is absorbed in the form of nitrates from the soil.\\n Plants are rooted in the soil, from which they absorb the minerals they need to grow, and they take up carbon dioxide gas from the atmosphere, which they convert into sugars in the process of photosynthesis.\\n', ' Plants are rooted in the soil, from which they absorb the minerals they need to grow, and they take up carbon dioxide gas from the atmosphere, which they convert into sugars in the process of photosynthesis.\\n Plants absorb it from the atmosphere in the form of carbon dioxide.\\n During active photosynthesis, plants can absorb more carbon dioxide from the atmosphere than they use in respiration.\\n Green plants differ from other organisms in their ability to absorb carbon dioxide from the atmosphere and utilize it in the manufacture of carbohydrates, which then are used as food not only by the plants that made them but by all other organisms also.\\n', ' Plants are rooted in the soil, from which they absorb the minerals they need to grow, and they take up carbon dioxide gas from the atmosphere, which they convert into sugars in the process of photosynthesis.\\n Plants and animals simply cannot absorb the gas directly from the atmosphere.\\n For example, cyanobacteria not only restore oxygen to the atmosphere; some of them also convert nitrogen gas (N2) in the atmosphere to nitrogen compounds that plants can absorb from soil and water (see Figure 15.11 b ).\\n SOME PLANTS THAT FEED ON INSECTS BY JOH\\\\ J. W.-\\\\RD, F.E.S. Plants, by means of their leaves, can absorb light and the carbonic acid gas of the atmosphere.\\n']\n",
      "What colour do you get if you mix blue and yellow paint together?\n",
      "['red', 'green', 'blue', 'yellow']\n",
      "B\n",
      "C\n",
      "[2]\n",
      "[-3.3887045  -6.826045    0.43089005 -4.5955625 ]\n",
      "[[47.177612, 47.055843, 42.85254, 42.459766], [47.055843, 45.061836, 43.307026, 42.459766], [47.92331, 47.055843, 45.31928, 44.048615], [48.910675, 47.055843, 46.211254, 43.511257]]\n",
      "[' You can make brown by mixing red, yellow and blue paint together.\\n What do you get when you mix pallets…chalkboard paint…some nails and plants?\\n White light, as you know, is made up of a compound of seven colours — red, orange, yellow, green, blue, indigo, violet — which is clearly demonstrated by dissecting a beam of sunlight through the spectrum, but it is known that it is not necessary to have all the seven colours to reform white light ; if we mix the red, green, and violet we shall get a very good white, which I will demonstrate to you by means of the triple lantern which we have here.\\n What do you get when you mix sarcasm, bloodlust, twin issues, True Love, and Peter Pan all together?\\n', ' What do you get when you mix pallets…chalkboard paint…some nails and plants?\\n Think of mixing paint, where alleles for yellow (Y) and blue (B) were both dominant; where the two occur together (YB) neither is dominant over the other and so they each express their characteristics, giving you green paint.\\n White light, as you know, is made up of a compound of seven colours — red, orange, yellow, green, blue, indigo, violet — which is clearly demonstrated by dissecting a beam of sunlight through the spectrum, but it is known that it is not necessary to have all the seven colours to reform white light ; if we mix the red, green, and violet we shall get a very good white, which I will demonstrate to you by means of the triple lantern which we have here.\\n What do you get when you mix sarcasm, bloodlust, twin issues, True Love, and Peter Pan all together?\\n', \" You can make brown by mixing red, yellow and blue paint together.\\n What do you get when you mix pallets…chalkboard paint…some nails and plants?\\n Think of mixing paint, where alleles for yellow (Y) and blue (B) were both dominant; where the two occur together (YB) neither is dominant over the other and so they each express their characteristics, giving you green paint.\\n As you can probably guess, if the blue version of the eye color gene made a pigment, then you'd get some mix of brown and blue.\\n\", ' You can make brown by mixing red, yellow and blue paint together.\\n What do you get when you mix pallets…chalkboard paint…some nails and plants?\\n Think of mixing paint, where alleles for yellow (Y) and blue (B) were both dominant; where the two occur together (YB) neither is dominant over the other and so they each express their characteristics, giving you green paint.\\n the official adventures of grandmaster flash is dj mix album by grandmaster flash and was released in january it is mix album consisting of interview snippets newly recorded old school hip hop mixes live grandmaster flash and the furious five segments and four other tracks by various artists that were popular in flash early dj repertoire the enclosed page colour booklet contains an extensive and detailed history of grandmaster flash with many photos and interviews with the characters involved and was written by frank broughton and bill brewster authors of last night dj saved my life track listing intro the turntable scientist grandmaster flash turntable mix flash tears the roof off the mexican babe ruth grandmaster flash live at the connection grandmaster flash turntable mix flash got more bounce trans europe express kraftwerk grandmaster flash interview females do what you gotta do eddie drennon the bbs orchestra grandmaster flash turntable mix freestyle mix grandmaster flash live at disco convention computer games yellow magic orchestra grandmaster flash interview set it off grandmaster flash turntable mix get off your horse jam untitled references\\n']\n",
      "What is the sweet substance made by bees?\n",
      "['beeswax', 'pollen', 'propolis', 'honey']\n",
      "D\n",
      "D\n",
      "[3]\n",
      "[-4.2344084  -4.279823   -1.1877078   0.30880472]\n",
      "[[38.970123, 37.518593, 37.42827, 36.492603], [43.03351, 36.492603, 35.631718, 32.18816], [41.848587, 40.39351, 39.27196, 39.028397], [47.929718, 46.888065, 40.098557, 38.34081]]\n",
      "[\" a yellowish moldable substance produced by bees and used by them for making the honeycomb (also called beeswax)\\n beeswax\\tNoun\\t#{{uncountable}} 'Beeswax' is a wax made by bees for their honeycombs.\\n the sticky, fatty substance of which bees make their cells; beeswax.\\n Honey is the complex substance made from nectar and sweet deposits from plants and trees which are gathered, modified and stored in the comb by honey bees.\\n\", \" sweet substance produced by bees from pollen or nectar.\\n Honey is the complex substance made from nectar and sweet deposits from plants and trees which are gathered, modified and stored in the comb by honey bees.\\n Honey is the complex substance made when the nectar and sweet deposits from plants and trees are gathered, modified, and stored in the honeycomb by honey bees as a food source for the colony.\\n hinnie, -ny) sweetheart, darling ; h.-bee, common hive-bee ; h.-buzzard, bird of prey feeding on larvae of bees & wasps; h.-deiv, sweet sticky substance found on leaves & stems, held to be excreted by aphides, ideally sweet substance, tobacco sweetened with molasses ; honeysuckle, woodbine, climbing shrub with fragrant yellow flowers ; h.-sweet, sweet as h. Hence ho'ney - ed 2 , -nied, a. [OE himig, cf. Du., G, honig] honeycomb (-m), n., & v.t. Bees' wax structure of hexagonal cells for honey & eggs ; cavernous flaw in metal, esp.\\n\", \" Propolis ` Propolis ' ' „ for `` y ' „ city `` is a wax-like resinous substance collected by honey bees from tree buds -LRB- e.g. poplar -RRB- or other plant-related sources and used as cement and to seal cracks or open spaces in the beehive .\\n Propolis is a resinous substance that the bees collect from trees and sticky buds.\\n Other construction in and around the hive is done with propolis, a sticky substance bees manufacture from tree and plant resin.\\n (Propolis is the sticky resinous substance that the bees collect from the buds of trees and use to seal up cracks in the hive.)\\n\", \" Honey is the complex substance made from nectar and sweet deposits from plants and trees which are gathered, modified and stored in the comb by honey bees.\\n Honey is the complex substance made when the nectar and sweet deposits from plants and trees are gathered, modified, and stored in the honeycomb by honey bees as a food source for the colony.\\n hinnie, -ny) sweetheart, darling ; h.-bee, common hive-bee ; h.-buzzard, bird of prey feeding on larvae of bees & wasps; h.-deiv, sweet sticky substance found on leaves & stems, held to be excreted by aphides, ideally sweet substance, tobacco sweetened with molasses ; honeysuckle, woodbine, climbing shrub with fragrant yellow flowers ; h.-sweet, sweet as h. Hence ho'ney - ed 2 , -nied, a. [OE himig, cf. Du., G, honig] honeycomb (-m), n., & v.t. Bees' wax structure of hexagonal cells for honey & eggs ; cavernous flaw in metal, esp.\\n Honey is a sweet liquid made by bees using nectar from flowers.\\n\"]\n",
      "What is the only metal that is liquid at room temperature?\n",
      "['mercury', 'copper', 'gold', 'silver']\n",
      "A\n",
      "A\n",
      "[0]\n",
      "[ 2.8540208 -6.4620214 -6.421046  -4.3794065]\n",
      "[[56.642525, 56.418373, 54.554142, 52.116093], [46.55841, 46.375397, 46.13423, 45.821243], [47.85965, 46.55841, 46.375397, 46.13423], [47.793114, 46.55841, 46.375397, 46.13423]]\n",
      "[\" Mercury is the only metal that is in liquid form at room temperature.\\n Mercury is the only metal that is liquid at standard room temperature and pressure\\n Mercury is the only liquid metal at room temperature.\\n mercury\\tNoun\\t#{{uncountable}} 'Mercury' is a type of metal (Hg) that is silver in colour. It is liquid at room temperature.\\n\", ' Mercury is the only metal that is in liquid form at room temperature.\\n Mercury is the only metal that is liquid at standard room temperature and pressure\\n liquid metal is metal or metal alloy which is liquid at or near room temperature the only stable liquid elemental metal at room temperature is mercury hg which is molten above three more stable elemental metals melt just above room temperature caesium cs which has melting point of gallium ga and rubidium rb the radioactive metal francium fr is probably liquid close to room temperature as well calculations predict that the radioactive metals copernicium cn and flerovium fl should also be liquid at room temperature alloys can be liquid if they form eutectic meaning that the alloy melting point is lower than any of the alloy constituent metals the standard metal for creating liquid alloys used to be mercury but gallium based alloys which are lower both in their vapor pressure at room temperature and toxicity are being used as replacement in various applications thermal and electrical conductivity alloy systems that are liquid at room temperature have thermal conductivity far superior to ordinary non metallic liquids allowing liquid metal to efficiently transfer energy from the heat source to the liquid they also have higher electrical conductivity that allows the liquid to be pumped by more efficient electromagnetic pumps this results in the use of these materials for specific heat conducting and or dissipation applications another advantage of liquid alloy systems is their inherent high densities viscosity the viscosity of liquid metals can vary greatly depending on the atomic composition of the liquid especially in the case of alloys in particular the temperature dependence of the viscosity of liquid metals may range from the standard arrhenius law dependence to much steeper non arrhenius dependence such as that given empirically by the vogel fulcher tammann equation physical model for the viscosity of liquid metals which captures this great variability in terms of the underlying interatomic interactions was also developed the electrical resistance of liquid metal can be estimated by means of the ziman formula which gives the resistance in terms of the static structure factor of the liquid as can be determined by neutron or ray scattering measurements wetting to metallic and non metallic surfaces once oxides have been removed from the substrate surface most liquid metals will wet most metallic surfaces at room temperature liquid metals are often reactive and soluble to metallic surfaces though some solid metals are resistant to attack by the common liquid metals for example gallium is corrosive to all metals except tungsten and tantalum which have high resistance to corrosion more so than niobium titanium and molybdenum similar to indium gallium and gallium containing alloys have the ability to wet to many non metallic surfaces such as glass and quartz gently rubbing the alloy into the surface may help induce wetting however this observation of wetting by rubbing into glass surface has created widely spread misconception that the gallium based liquid metals wet glass surfaces as if the liquid breaks free of the oxide skin and wets the surface the reality is the opposite the oxide makes the liquid wet the glass in more details as the liquid is rubbed into and spread onto the glass surface the liquid oxidizes and coats the glass with thin layer of oxide solid residues on which the liquid metal wets in other words what is seen is gallium based liquid metal wetting its solid oxide not glass apparently the above misconception was caused by the super fast oxidation of the liquid gallium in even trace amount of oxygen nobody observed the true behavior of liquid gallium on glass until research at the ucla debunked the above myth by testing galinstan gallium based alloy that is liquid at room temperature in an oxygen free environment note these alloys form thin dull looking oxide skin that is easily dispersed with mild agitation the oxide free surfaces are bright and lustrous applications because of their excellent characteristics and manufacturing methods liquid metals are often used in wearable devices medical devices interconnected devices and so on typical uses of liquid metals include thermostats switches barometers heat transfer systems and thermal cooling and heating designs uniquely they can be used to conduct heat and or electricity between non metallic and metallic surfaces thermal interfaces liquid metal is sometimes used as thermal interface material between coolers and processors because of its high thermal conductivity the playstation video game console uses liquid metal to help cool high temperatures inside the console printing devices liquid metal can be used for wearable devices emerging iot applications require reliable and effective wireless connectivity therefore it is necessary to make small flexible antenna see also electromagnetic pump nak mercury other metals which are liquid at room temperature fusible alloy references\\n It is the only common metal that exists as a liquid at room temperature.\\n', ' It is a soft, silvery-gold alkali metal with a melting point of 28.5\\xa0°C (83.3\\xa0°F), which makes it one of only five elemental metals that are liquid at or near room temperature .\\n Mercury is the only metal that is in liquid form at room temperature.\\n Mercury is the only metal that is liquid at standard room temperature and pressure\\n liquid metal is metal or metal alloy which is liquid at or near room temperature the only stable liquid elemental metal at room temperature is mercury hg which is molten above three more stable elemental metals melt just above room temperature caesium cs which has melting point of gallium ga and rubidium rb the radioactive metal francium fr is probably liquid close to room temperature as well calculations predict that the radioactive metals copernicium cn and flerovium fl should also be liquid at room temperature alloys can be liquid if they form eutectic meaning that the alloy melting point is lower than any of the alloy constituent metals the standard metal for creating liquid alloys used to be mercury but gallium based alloys which are lower both in their vapor pressure at room temperature and toxicity are being used as replacement in various applications thermal and electrical conductivity alloy systems that are liquid at room temperature have thermal conductivity far superior to ordinary non metallic liquids allowing liquid metal to efficiently transfer energy from the heat source to the liquid they also have higher electrical conductivity that allows the liquid to be pumped by more efficient electromagnetic pumps this results in the use of these materials for specific heat conducting and or dissipation applications another advantage of liquid alloy systems is their inherent high densities viscosity the viscosity of liquid metals can vary greatly depending on the atomic composition of the liquid especially in the case of alloys in particular the temperature dependence of the viscosity of liquid metals may range from the standard arrhenius law dependence to much steeper non arrhenius dependence such as that given empirically by the vogel fulcher tammann equation physical model for the viscosity of liquid metals which captures this great variability in terms of the underlying interatomic interactions was also developed the electrical resistance of liquid metal can be estimated by means of the ziman formula which gives the resistance in terms of the static structure factor of the liquid as can be determined by neutron or ray scattering measurements wetting to metallic and non metallic surfaces once oxides have been removed from the substrate surface most liquid metals will wet most metallic surfaces at room temperature liquid metals are often reactive and soluble to metallic surfaces though some solid metals are resistant to attack by the common liquid metals for example gallium is corrosive to all metals except tungsten and tantalum which have high resistance to corrosion more so than niobium titanium and molybdenum similar to indium gallium and gallium containing alloys have the ability to wet to many non metallic surfaces such as glass and quartz gently rubbing the alloy into the surface may help induce wetting however this observation of wetting by rubbing into glass surface has created widely spread misconception that the gallium based liquid metals wet glass surfaces as if the liquid breaks free of the oxide skin and wets the surface the reality is the opposite the oxide makes the liquid wet the glass in more details as the liquid is rubbed into and spread onto the glass surface the liquid oxidizes and coats the glass with thin layer of oxide solid residues on which the liquid metal wets in other words what is seen is gallium based liquid metal wetting its solid oxide not glass apparently the above misconception was caused by the super fast oxidation of the liquid gallium in even trace amount of oxygen nobody observed the true behavior of liquid gallium on glass until research at the ucla debunked the above myth by testing galinstan gallium based alloy that is liquid at room temperature in an oxygen free environment note these alloys form thin dull looking oxide skin that is easily dispersed with mild agitation the oxide free surfaces are bright and lustrous applications because of their excellent characteristics and manufacturing methods liquid metals are often used in wearable devices medical devices interconnected devices and so on typical uses of liquid metals include thermostats switches barometers heat transfer systems and thermal cooling and heating designs uniquely they can be used to conduct heat and or electricity between non metallic and metallic surfaces thermal interfaces liquid metal is sometimes used as thermal interface material between coolers and processors because of its high thermal conductivity the playstation video game console uses liquid metal to help cool high temperatures inside the console printing devices liquid metal can be used for wearable devices emerging iot applications require reliable and effective wireless connectivity therefore it is necessary to make small flexible antenna see also electromagnetic pump nak mercury other metals which are liquid at room temperature fusible alloy references\\n', \" mercury\\tNoun\\t#{{uncountable}} 'Mercury' is a type of metal (Hg) that is silver in colour. It is liquid at room temperature.\\n Mercury is the only metal that is in liquid form at room temperature.\\n Mercury is the only metal that is liquid at standard room temperature and pressure\\n liquid metal is metal or metal alloy which is liquid at or near room temperature the only stable liquid elemental metal at room temperature is mercury hg which is molten above three more stable elemental metals melt just above room temperature caesium cs which has melting point of gallium ga and rubidium rb the radioactive metal francium fr is probably liquid close to room temperature as well calculations predict that the radioactive metals copernicium cn and flerovium fl should also be liquid at room temperature alloys can be liquid if they form eutectic meaning that the alloy melting point is lower than any of the alloy constituent metals the standard metal for creating liquid alloys used to be mercury but gallium based alloys which are lower both in their vapor pressure at room temperature and toxicity are being used as replacement in various applications thermal and electrical conductivity alloy systems that are liquid at room temperature have thermal conductivity far superior to ordinary non metallic liquids allowing liquid metal to efficiently transfer energy from the heat source to the liquid they also have higher electrical conductivity that allows the liquid to be pumped by more efficient electromagnetic pumps this results in the use of these materials for specific heat conducting and or dissipation applications another advantage of liquid alloy systems is their inherent high densities viscosity the viscosity of liquid metals can vary greatly depending on the atomic composition of the liquid especially in the case of alloys in particular the temperature dependence of the viscosity of liquid metals may range from the standard arrhenius law dependence to much steeper non arrhenius dependence such as that given empirically by the vogel fulcher tammann equation physical model for the viscosity of liquid metals which captures this great variability in terms of the underlying interatomic interactions was also developed the electrical resistance of liquid metal can be estimated by means of the ziman formula which gives the resistance in terms of the static structure factor of the liquid as can be determined by neutron or ray scattering measurements wetting to metallic and non metallic surfaces once oxides have been removed from the substrate surface most liquid metals will wet most metallic surfaces at room temperature liquid metals are often reactive and soluble to metallic surfaces though some solid metals are resistant to attack by the common liquid metals for example gallium is corrosive to all metals except tungsten and tantalum which have high resistance to corrosion more so than niobium titanium and molybdenum similar to indium gallium and gallium containing alloys have the ability to wet to many non metallic surfaces such as glass and quartz gently rubbing the alloy into the surface may help induce wetting however this observation of wetting by rubbing into glass surface has created widely spread misconception that the gallium based liquid metals wet glass surfaces as if the liquid breaks free of the oxide skin and wets the surface the reality is the opposite the oxide makes the liquid wet the glass in more details as the liquid is rubbed into and spread onto the glass surface the liquid oxidizes and coats the glass with thin layer of oxide solid residues on which the liquid metal wets in other words what is seen is gallium based liquid metal wetting its solid oxide not glass apparently the above misconception was caused by the super fast oxidation of the liquid gallium in even trace amount of oxygen nobody observed the true behavior of liquid gallium on glass until research at the ucla debunked the above myth by testing galinstan gallium based alloy that is liquid at room temperature in an oxygen free environment note these alloys form thin dull looking oxide skin that is easily dispersed with mild agitation the oxide free surfaces are bright and lustrous applications because of their excellent characteristics and manufacturing methods liquid metals are often used in wearable devices medical devices interconnected devices and so on typical uses of liquid metals include thermostats switches barometers heat transfer systems and thermal cooling and heating designs uniquely they can be used to conduct heat and or electricity between non metallic and metallic surfaces thermal interfaces liquid metal is sometimes used as thermal interface material between coolers and processors because of its high thermal conductivity the playstation video game console uses liquid metal to help cool high temperatures inside the console printing devices liquid metal can be used for wearable devices emerging iot applications require reliable and effective wireless connectivity therefore it is necessary to make small flexible antenna see also electromagnetic pump nak mercury other metals which are liquid at room temperature fusible alloy references\\n\"]\n",
      "What is the name of the largest ocean on Earth?\n",
      "['The Pacific Ocean', 'The Indian Ocean', 'The Atlantic Ocean', 'The Arctic Ocean']\n",
      "A\n",
      "C\n",
      "[2]\n",
      "[-3.298042   -5.315578    0.71349055 -6.9157567 ]\n",
      "[[43.30391, 40.95376, 40.49595, 40.077785], [43.27823, 39.709538, 39.10268, 39.086224], [42.11762, 41.10244, 41.095943, 40.690403], [43.347195, 43.328842, 42.757908, 42.545197]]\n",
      "[\" The Pacific Ocean is the largest of the Earth 's oceanic divisions.\\n the rd parallel south is circle of latitude that is degrees south of the earth equatorial plane it crosses the atlantic ocean the indian ocean australasia the pacific ocean and south america on december the sun is at degrees in the sky at this latitude the sun is visible for hours minutes during the summer solstice and hours minutes during the winter solstice around the world starting at the prime meridian and heading eastwards the parallel south passes through co ordinates country territory or ocean notes atlantic ocean indian ocean tasmania pacific ocean tasman sea south island pacific ocean chiloé island los lagos region pacific ocean gulf of corcovado los lagos region chubut province atlantic ocean see also nd parallel south th parallel south\\n in argentina the th parallel south defines the border between chubut province and santa cruz province the th parallel south is circle of latitude that is degrees south of the earth equatorial plane it crosses the atlantic ocean the indian ocean australasia the pacific ocean and south america at this latitude the sun is visible for hours minutes during the december solstice and hours minutes during the june solstice the largest city south of the th parallel is punta arenas around the world starting at the prime meridian and heading eastwards the parallel south passes through co ordinates country territory or ocean notes atlantic ocean indian ocean passing between île aux cochons and îlots des apôtres in the crozet islands pacific ocean tasman sea fiordland passing through lake hauroko and chalky sound southland region close to the townships of nightcaps and mandeville otago region passing south of the city of dunedin close to the townships of waitahuna and henley pacific ocean taitao peninsula moraleda channel also passes near balmaceda aysén region border between chubut province and santa cruz provincepasses near comodoro rivadavia chubut province atlantic ocean see also th parallel south th parallel south\\n Endemic to nine islands of an archipelago in the Pacific Ocean, what is the largest living tortoise?\\n\", ' the ministry of earth sciences was formed on january from merger of the india meteorological department imd the national centre for medium range weather forecasting ncmrwf the indian institute of tropical meteorology iitm pune and earth risk evaluation centre erec and the ministry of ocean development history in the government of india created department of ocean development dod as part of cabinet secretariat which was kept directly under the charge of prime minister of india in it became separate department and it started carrying out its activities in the field of ocean development in it was made separate ministry called ministry of ocean development in july itself the ministry was again reorganised and the new ministry of earth sciences came into being with various institutions under its ambit the government via resolution in brought indian metrological department indian institute of tropical meteorology and national centre for medium range weather forecasting and research ncmrwf into its administrative control the resolution also set up an earth commission just like atomic energy commission and space commission currently the ministry is headed by dr harsh vardhan functions the ministry mandate is to look after atmospheric sciences ocean science technology and seismology in an integrated manner list of ministers name tenure political party prime minister kapil sibal ocean development january may indian national congress united progressive alliance manmohan singh prithviraj chavan mos independent charge may november kapil sibal november january pawan kumar bansal january july vilasrao deshmukh july august vayalar ravi august october jaipal reddy october may jitendra singh mos independent charge may november bharatiya janata party national democratic alliance narendra modi dr harsh vardhan november incumbent institutions under the earth system science organisation national centre for coastal research indian institute of tropical meteorology india meteorological department national centre for seismology indian national centre for ocean information services national centre for medium range weather forecasting national centre for antarctic and ocean research national institute of ocean technology earthquake risk evaluation centre under the atmospheric sciences and seismology sector indian tsunami early warning centre centre for marine living resources ecology under the ocean science technology sector national center for earth system sciences networking all institutions under esso are connected through national knowledge network and its common user group cug computation facility adithya hpc located at indian institute of tropical meteorology is one of the largest computation facility in india see also ministry of science and technology india references external links official ministry of earth sciences website dod nic in ministry of earth sciences national centre for coastal research nccr national institute of ocean technology niot indian national centre for ocean information services incois national centre for antarctic ocean research ncaor centre for marine living resources ecology cmlre national centre for medium range weather forecasting ncmrwf india meteorological department imd indian institute of tropical meteorology iitm\\n the th parallel south is circle of latitude that is degrees south of the earth equatorial plane about km north of the antarctic circle it crosses the southern ocean and antarctica at this latitude the sun rises on december and does not set again until december around the world starting at the prime meridian and heading eastwards the parallel south passes through co ordinates continent or ocean notes southern ocean south of the atlantic ocean south of the indian ocean antarctica enderby land territory claimed by southern ocean south of the indian ocean antarctica princess elizabeth land territory claimed by southern ocean south of the indian ocean antarctica wilhelm ii land territory claimed by southern ocean south of the indian ocean passing just south of drygalski island antarctica queen mary land territory claimed by southern ocean south of the indian ocean antarctica wilkes land territory claimed by southern ocean south of the indian ocean antarctica wilkes land territory claimed by southern ocean south of the indian ocean antarctica wilkes land territory claimed by southern ocean south of the indian ocean antarctica wilkes land territory claimed by southern ocean south of the indian ocean south of the pacific ocean antarctica antarctic peninsula claimed by and southern ocean south of the atlantic ocean see also th parallel south th parallel south references\\n listed below are the largest lakes and seas on various worlds in the solar system the table includes single bodies of water or other liquid on or near the surface of solid body terrestrial planet planetoid or moon all objects on this list are expected to be round hence anything that is part of belt or disc is expected to be dwarf planet cold surface oceans or lakes are found on two worlds earth and saturn moon titan lava lakes are found on earth and jupiter moon io subsurface oceans or seas occur on the other galilean moons of jupiter saturn moons titan and enceladus and are suspected to exist on the some of saturn other moons the asteroid ceres the larger trans neptunian objects and ice planets in planetary systems recent analysis of the interior of ganymede the largest moon of jupiter taking into account the effects of salt suggests that it and some of the other icy bodies may not have single interior global ocean but several stacked ones separated by different phases of ice with the lowest liquid layer adjacent to the rocky mantle below in june nasa scientists reported that it is likely that exoplanets with oceans may be common in the milky way galaxy based on mathematical modeling studies of their internal heating rates the majority of such worlds would probably have subsurface oceans similar to those of the icy moons europa and enceladus list largest known lakes and seas with composition and dimensions where known grouped by celestial body but sortable by size depth etc body type of object lake sea composition location area km average depth km image notes earth planet terrestrial world ocean salt water surface max px of earth surface caspian sea salt water surface max px smallest ocean geologically of earth surface lake michigan huron fresh water surface max px largest lake today geologically west siberian glacial lake fresh water surface ka glacial lakes during the ice age lake agassiz fresh water surface max mars planet terrestrial south polar lake salt water or brine subglacial shallow px there may be additional such lakes ceres asteroid internal ocean water subsurface possible subsurface equatorial ocean io moon of jupiter gish bar patera lava surface px loki patera lava surface subsurface est global ocean under to km of ice perhaps twice the volume of earth ocean ganymede moon of jupiter internal global ocean salt water subsurface apiece km thick under km of ice six times the volume of earth ocean possibly three oceans one under another callisto moon of jupiter internal global ocean water subsurface global ocean under to km of ice enceladus moon of saturn internal global ocean salt water subsurface or global ocean under or km of ice based on libration dione moon of saturn internal global ocean water subsurface global ocean under km of ice rhea moon of saturn internal global ocean water subsurface possible global ocean under the ice km titan moon of saturn kraken mare hydrocarbons surface of titan surface max px only measured bathymetry is in the northern bay moray sinus ligeia mare hydrocarbons surface px punga mare hydrocarbons surface px internal global ocean water subsurface subsurface possible global ocean under the ice km oberon moon of uranus internal global ocean water subsurface possible global ocean under the ice km triton moon of neptune internal global ocean water subsurface possible global ocean under the ice km kuiper belt object plutino internal global ocean water subsurface possible global ocean under the ice km kuiper belt object plutino internal global ocean water subsurface possible global ocean under the ice km kuiper belt object cubewano internal global ocean water subsurface possible global ocean under the ice internal global ocean water subsurface possible global ocean under the ice internal global ocean water subsurface possible global ocean under the ice km sednoid internal global ocean water subsurface possible global ocean under the ice km see also list of tallest mountains in the solar system list of largest rifts and valleys in the solar system list of largest craters in the solar system hydrosphere notes references external links jpl ocean worlds infographic\\n in argentina the th parallel south defines the border between chubut province and santa cruz province the th parallel south is circle of latitude that is degrees south of the earth equatorial plane it crosses the atlantic ocean the indian ocean australasia the pacific ocean and south america at this latitude the sun is visible for hours minutes during the december solstice and hours minutes during the june solstice the largest city south of the th parallel is punta arenas around the world starting at the prime meridian and heading eastwards the parallel south passes through co ordinates country territory or ocean notes atlantic ocean indian ocean passing between île aux cochons and îlots des apôtres in the crozet islands pacific ocean tasman sea fiordland passing through lake hauroko and chalky sound southland region close to the townships of nightcaps and mandeville otago region passing south of the city of dunedin close to the townships of waitahuna and henley pacific ocean taitao peninsula moraleda channel also passes near balmaceda aysén region border between chubut province and santa cruz provincepasses near comodoro rivadavia chubut province atlantic ocean see also th parallel south th parallel south\\n', ' aethiopian æthiopian æthiopic or ethiopian sea or ocean or oceanus æthiopicus was the name given to the southern half of the atlantic ocean in classical geographical works the name appeared in maps from ancient times up to the turn of the th century geography the originally greek term okeanos aithiopos is an old name for what is now called the south atlantic ocean it is separated from the north atlantic ocean by narrow region between natal brazil and monrovia liberia the term ethiopian ocean appeared until the mid th century for example on the map accuratissima totius africae in lucem producta engraved by johann baptist homann and frederick de wit and published by jacob von sandrart in nürnberg in the name aethiopian was related to the fact that historically africa west and south of egypt was known as aethiopia nowadays the classical use of the term has become obsolete also the nation of ethiopia then known as abyssinia is located nowhere near its namesake body of water but in the opposite eastern end of africa which is much closer to indian ocean and its subset the red sea oceanus æthiopicus in the map guinea propria nec non nigritiae vel terrae nigorum aethiopia inferior map with all the oceans surrounding the african continent ocean ethiopien in daniel de la feuille map of africa history southern ocean as an alternative name for the aethiopian ocean in map of africa ancient greek historians diodorus and palaephatus mentioned that the gorgons lived in the gorgades islands in the aethiopian sea the main island was called cerna and according to henry riley these islands may correspond to cape verde portugal claimed the aethiopian sea as its mare clausum during the age of discovery on th century maps the name of the northern atlantic ocean was sinus occidentalis while the central atlantic southwest of present day liberia appeared as sinus atlanticus and the southern atlantic as mare aethiopicum by the th century john seller divided the atlantic ocean in two parts by means of the equator he named the northern portion of the atlantic mar del nort and the southern part oceanus æthiopicus in his atlas maritimus published in edward wright did not label the north atlantic at all but called the portion south of the equator the aethiopian sea in map that was published posthumously in john thornton used the term in new map of the world from decades after the terms ethiopian ocean or ethiopian sea had fallen into disuse to refer to the southern atlantic ocean botanist william albert setchell used the term for the sea around certain islands close to antarctica see also ethiopia mythology gorgons references external links transactions and proceedings of the royal society of new zealand anais do museu paulista história cultura material do oceano dos clássicos aos mares dos impérios transformações cartográficas do atlântico sul tekeli li or hollow earth lives bibliography of antarctic fiction pomponius mela de chorographia liber primus bbc mapping africa\\n the rd parallel south is circle of latitude that is degrees south of the earth equatorial plane it crosses the atlantic ocean the indian ocean australasia the pacific ocean and south america on december the sun is at degrees in the sky at this latitude the sun is visible for hours minutes during the summer solstice and hours minutes during the winter solstice around the world starting at the prime meridian and heading eastwards the parallel south passes through co ordinates country territory or ocean notes atlantic ocean indian ocean tasmania pacific ocean tasman sea south island pacific ocean chiloé island los lagos region pacific ocean gulf of corcovado los lagos region chubut province atlantic ocean see also nd parallel south th parallel south\\n in argentina the th parallel south defines the border between chubut province and santa cruz province the th parallel south is circle of latitude that is degrees south of the earth equatorial plane it crosses the atlantic ocean the indian ocean australasia the pacific ocean and south america at this latitude the sun is visible for hours minutes during the december solstice and hours minutes during the june solstice the largest city south of the th parallel is punta arenas around the world starting at the prime meridian and heading eastwards the parallel south passes through co ordinates country territory or ocean notes atlantic ocean indian ocean passing between île aux cochons and îlots des apôtres in the crozet islands pacific ocean tasman sea fiordland passing through lake hauroko and chalky sound southland region close to the townships of nightcaps and mandeville otago region passing south of the city of dunedin close to the townships of waitahuna and henley pacific ocean taitao peninsula moraleda channel also passes near balmaceda aysén region border between chubut province and santa cruz provincepasses near comodoro rivadavia chubut province atlantic ocean see also th parallel south th parallel south\\n the th parallel south is circle of latitude that is degrees south of the earth equatorial plane the only landmass on this parallel is bristol island at this latitude the sun is visible for hours minutes during the december solstice and hours minutes during the june solstice around the world starting at the prime meridian and heading eastwards the parallel south passes through co ordinates territory or ocean notes atlantic ocean indian ocean pacific ocean passing through the drake passage between south america and the antarctic peninsula atlantic ocean running through the scotia sea bristol island claimed by atlantic ocean see also th parallel south th parallel south notes references\\n', ' map of the arctic with the arctic circle in blue and the july mean isotherm in red the arctic circle is one of the two polar circles and the most northerly of the five major circles of latitude as shown on maps of earth it marks the northernmost point at which the center of the noon sun is just visible on the december solstice and the southernmost point at which the center of the midnight sun is just visible on the june solstice the region north of this circle is known as the arctic and the zone just to the south is called the northern temperate zone as seen from the arctic the sun is above the horizon for continuous hours at least once per year and therefore visible at midnight and below the horizon for continuous hours at least once per year and therefore not visible at noon this is also true in the antarctic region south of the equivalent antarctic circle the position of the arctic circle is not fixed and currently runs north of the equator its latitude depends on the earth axial tilt which fluctuates within margin of more than over year period owing to tidal forces resulting from the orbit of the moon consequently the arctic circle is currently drifting northwards shrinking at speed of about per year etymology the word arctic comes from the greek word ἀρκτικός arktikos near the bear northern and that from the word ἄρκτος arktos bear midnight sun and polar night relationship of earth axial tilt to the tropical and polar circles at night bright aurora borealis are fairly common sight in the arctic circle the picture of the northern lights in rovaniemi the arctic circle is the southernmost latitude in the northern hemisphere at which the center of the sun can remain continuously above or below the horizon for twenty four hours as result at least once each year at any location within the arctic circle the center of the sun is visible at local midnight and at least once the center is not visible at local noon directly on the arctic circle these events occur in principle exactly once per year at the june and december solstices respectively however because of atmospheric refraction and mirages and also because the sun appears as disk and not point part of the midnight sun may be seen on the night of the northern summer solstice up to about minutes south of the arctic circle similarly on the day of the northern winter solstice part of the sun may be seen up to about north of the arctic circle that is true at sea level those limits increase with elevation above sea level although in mountainous regions there is often no direct view of the true horizon human habitation cylindrical projection showing the arctic circle in red only four million people live north of the arctic circle because of the climate nonetheless some areas have been settled for thousands of years by indigenous peoples who today make up of the region population the largest communities north of the arctic circle are situated in russia norway and sweden murmansk population norilsk tromsø vorkuta and kiruna rovaniemi in finland is the largest settlement in the immediate vicinity of the arctic circle lying south of the line in contrast the largest north american community north of the arctic circle sisimiut greenland has approximately inhabitants in the united states utqiaġvik alaska is the largest settlement north of the arctic circle with about inhabitants the largest such community in canada is inuvik in the northwest territories with people living there geography the arctic circle is roughly long the area north of the circle is about and covers roughly of earth surface the arctic circle passes through the arctic ocean the scandinavian peninsula north asia northern america and greenland the land within the arctic circle is divided among eight countries norway sweden finland russia the united states alaska canada yukon northwest territories and nunavut denmark greenland and iceland where it passes through the small offshore island of grímsey climate the climate inside the arctic circle is generally cold but the coastal areas of norway have generally mild climate as result of the gulf stream which makes the ports of northern norway and northwest russia ice free all year long in the interior summers can be quite warm while winters are extremely cold for example summer temperatures in norilsk russia will sometimes reach as high as while the winter temperatures frequently fall below sites along the arctic circle starting at the prime meridian and heading eastwards the arctic circle passes through co ordinates country territory or ocean notes atlantic ocean norwegian sea islands and skerries of træna nordland county atlantic ocean trænfjorden norwegian sea islands and skerries of nesøya nordland county atlantic ocean nesøyfjorden norwegian sea islands and skerries of storseløya nordland county atlantic ocean kvarøyfjorden norwegian sea islands and skerries of rangsundøya nordland county including vikingen island atlantic ocean værangfjorden norwegian sea nordland county norrbotten county provinces of lapland and norrbotten lapland region crosses rovaniemi airport republic of karelia murmansk oblast republic of karelia grand island murmansk oblast arctic ocean kandalaksha gulf white sea barents sea kola peninsula murmansk oblast for about arctic ocean kandalaksha gulf white sea barents sea kola peninsula murmansk oblast arctic ocean white sea barents sea nenets autonomous okrug komi republic yamalo nenets autonomous okrug arctic ocean gulf of ob kara sea yamalo nenets autonomous okrug krasnoyarsk krai yukaghir highlands sakha republic anadyr highlands and chukotka mountains chukotka autonomous okrug arctic ocean chukchi sea seward peninsula alaska arctic ocean kotzebue sound chukchi sea alaska passing through selawik lake yukon northwest territories passing through great bear lake nunavut arctic ocean foxe basin nunavut baffin island passing through nettilling lake and auyuittuq national park sign location atlantic ocean davis strait passing through kangerlussuaq fjord and schweizerland atlantic ocean denmark strait greenland sea island of grímsey atlantic ocean greenland sea norwegian sea sign along the dalton highway marking the location of the arctic circle in alaska arctic circle line in rovaniemi finland aurora borealis above arctic circle sign along the dempster highway in yukon at file arctic circle marker on the island of vikingen norway jpg northern polar circle globe on vikingen island marking the arctic circle in norway file iceland grimsey arctic circle jpg arctic circle marker on island of grímsey in iceland file polarkreis inlandsbanan jpg arctic circle sign by the inland line railway sweden file полярный_круг россия jpg arctic circle sign in the republic of karelia russia file россия янао полярный круг jpg arctic circle sign by the yamalo nenets autonomous okrug russia file круиз якутск ленские столбы тикси якутск jpg sign in the sakha republic yakutia russia see also th parallel north antarctic circle arctic cooperation and politics arctic haze circumpolar star scott polar research institute territorial claims in the arctic tropic of cancer tropic of capricorn references external links terra incognita exploration of the canadian arctic historical essay about early expeditions to the canadian arctic illustrated with maps photographs and drawings temporal epoch calculations by james jacobs download epoch xls modify useful constants see obliquity of the ecliptic\\n the th parallel north is circle of latitude that is degrees north of the earth equatorial plane in the arctic it passes solely through the arctic ocean the northernmost land on earth kaffeklubben island greenland is roughly kilometres south of this parallel at this latitude the sun is visible for hours minutes during the summer solstice and astronomical twilight during the winter solstice see also rd parallel north arctic ocean\\n circumpolar may refer to antarctic region antarctic circle the antarctic circumpolar current subantarctic list of antarctic and subantarctic islands antarctic convergence antarctic circumpolar wave antarctic ocean arctic region arctic circle subarctic circumpolar peoples arctic cooperation and politics arctic ocean list of islands in the arctic ocean circumpolar constellation constellation that never rises or sets from the perspective of given latitude on earth circumpolar star star that never rises or sets from the perspective of given latitude on earth polar front in meteorology circumpolar navigation global which traverses both poles see also circumpolar distribution antipodes\\n indarc is india first underwater moored observatory in the arctic region it was deployed in at kongsfjorden fjord svalbard norway which is midway between norway and north pole its research goal is to study the arctic climate and its influence on the monsoon development this moored observatory is designed and developed by earth system science organisation esso national institute of ocean technology niot and esso national centre for polar and ocean research ncpor with esso indian national centre for ocean information services incois see also list of research stations in the arctic references external links earth system science organisation\\n']\n",
      "What do you call a person who studies rocks?\n",
      "['mineralogist', 'geologist', 'vulcanologist', 'speologist']\n",
      "B\n",
      "B\n",
      "[1]\n",
      "[-6.3290696 -3.7860053 -7.1235905 -5.655487 ]\n",
      "[[35.24857, 34.09999, 33.43393, 30.414135], [35.24857, 33.43393, 32.00583, 31.513683], [35.24857, 33.43393, 30.414135, 29.327162], [35.24857, 33.43393, 30.414135, 29.327162]]\n",
      "[\" What do you call a specialist who studies how disease affects tissues?\\n Mineralogist: A person who studies the formation, occurrence, properties, composition, and classification of mineral specimens.\\n Nonliving things such as rocks, ... What is a person who studies butterflies and moths called?\\n What we're going to do now is have you put together all the parts of check, call, care for an unconscious person who is not breathing and shows no signs of life.\\n\", ' What do you call a specialist who studies how disease affects tissues?\\n Nonliving things such as rocks, ... What is a person who studies butterflies and moths called?\\n 1\\xa0\\xa0\\xa0\\xa0\\xa0A geologist is a person who studies the earth.\\n Geologist: Someone who studies geology (the earth and rocks).\\n', \" What do you call a specialist who studies how disease affects tissues?\\n Nonliving things such as rocks, ... What is a person who studies butterflies and moths called?\\n What we're going to do now is have you put together all the parts of check, call, care for an unconscious person who is not breathing and shows no signs of life.\\n When most investigators do controlled studies, what do you call the group that does not receive treatment?\\n\", \" What do you call a specialist who studies how disease affects tissues?\\n Nonliving things such as rocks, ... What is a person who studies butterflies and moths called?\\n What we're going to do now is have you put together all the parts of check, call, care for an unconscious person who is not breathing and shows no signs of life.\\n When most investigators do controlled studies, what do you call the group that does not receive treatment?\\n\"]\n",
      "What country does parmesan cheese come from?\n",
      "['Germany', 'France', 'Italy', 'Switzerland']\n",
      "C\n",
      "C\n",
      "[2]\n",
      "[-4.3234863 -6.026112   2.6567938  0.548499 ]\n",
      "[[30.594658, 30.411175, 30.341248, 29.957603], [32.574783, 30.594658, 30.411175, 30.341248], [33.694714, 31.428087, 31.00042, 30.594658], [33.795284, 30.594658, 30.411175, 30.341248]]\n",
      "[\" parmesan cheese being grated grated cheese is cheese that has been grated typically aged hard cheeses are used cheese can be grated by hand using hand grater and can be bought already grated commercial grated cheeses are often blends of cheeses shredded cheese is coarser and cooks differently popular types of grated cheese cheshire cheese parmesan red leicester cheddar cheese edam cheese external links\\n Parmesan cheese -LRB- Parmigiano Reggiano -RRB- ` Parmesan cheese ' is the name of a few kinds of Italian extra-hard cheeses made of cow 's milk .\\n It can prevent caking, such as in grated parmesan cheese, but some companies fraudulently use it as a cheap filler in their “100%” grated parmesan cheese.\\n say cheese smile please is song recorded by the british bubblegum pop group fast food rockers in it was released as single on october in the united kingdom the single debuted and peaked at number on the uk singles chart track listing cd say cheese parmesan pop mix say cheese mag mozarella club mix say cheese sing long cheese say cheese video cd say cheese parmesan pop mix say cheese lmc extended fondue remix stompin charts chart peakposition references\\n\", \" pistou provençal pisto classical or pistou mistralian or pistou sauce is provençal cold sauce made from cloves of garlic fresh basil and olive oil it is somewhat similar to the ligurian sauce pesto although it lacks pine nuts some modern versions of the recipe include grated parmesan pecorino or similar hard cheeses etymology and history in the provençal dialect of occitan pistou means pounded the sauce is derived from the genoese pesto which is traditionally made of garlic basil pine nuts grated sardinian pecorino and olive oil crushed and mixed together with mortar and pestle the key difference between pistou and pesto is the absence of pine nuts in pistou use soupe au pistou pistou soup pistou is typical condiment from the provence region of france most often associated with the provençal dish soupe au pistou which resembles minestrone and may include white beans green beans tomatoes summer squash potatoes and pasta the pistou is incorporated into the soup just before serving gruyère cheese is used in nice some regions substitute parmesan cheese in liguria pecorino hard sheep milk cheese from sardinia or corsica is used whatever cheese is used stringy cheese is not preferred so that when it melts in hot liquid like in the pistou soup for instance it does not melt into long strands see also argentine chimichurri somewhat similar sauce made with parsley list of garlic dishes persillade references external links soupe au pistou wolfgang puck soupe au pistou paula wolfert\\n parmesan cheese being grated grated cheese is cheese that has been grated typically aged hard cheeses are used cheese can be grated by hand using hand grater and can be bought already grated commercial grated cheeses are often blends of cheeses shredded cheese is coarser and cooks differently popular types of grated cheese cheshire cheese parmesan red leicester cheddar cheese edam cheese external links\\n Parmesan cheese -LRB- Parmigiano Reggiano -RRB- ` Parmesan cheese ' is the name of a few kinds of Italian extra-hard cheeses made of cow 's milk .\\n It can prevent caking, such as in grated parmesan cheese, but some companies fraudulently use it as a cheap filler in their “100%” grated parmesan cheese.\\n\", ' the region in which parmigiano reggiano can be produced according to eu and italian pdo legislation parmigiano reggiano is an italian hard granular cheese produced from cow milk and aged at least months parmigiano reggiano it is named after the producing areas the provinces of reggio emilia parma the part of bologna west of the reno and modena all in emilia romagna and the part of mantua lombardy on the right south bank of the po parmigiano is the italian adjective for parma and reggiano that for reggio emilia both parmigiano reggiano and parmesan are protected designations of origin pdo for cheeses produced in these provinces under italian and european law outside the eu the name parmesan can legally be used for similar cheeses with only the full italian name unambiguously referring to pdo parmigiano reggiano it has been called the king of cheeses and practically perfect food production parmigiano reggiano is made from unpasteurised cow milk the whole milk of the morning milking is mixed with the naturally skimmed milk which is made by keeping milk in large shallow tanks to allow the cream to separate of the previous evening milking resulting in part skim mixture this mixture is pumped into copper lined vats which heat evenly and contribute copper ions to the mix copper lined vats for the production of parmigiano reggiano starter whey containing mixture of certain thermophilic lactic acid bacteria is added and the temperature is raised to calf rennet is added and the mixture is left to curdle for minutes the curd is then broken up mechanically into small pieces around the size of rice grains the temperature is then raised to with careful control by the cheese maker the curd is left to settle for minutes the compacted curd is collected in piece of muslin before being divided in two and placed in molds there is of milk per vat producing two cheeses each the curd making up each wheel at this point weighs around the remaining whey in the vat was traditionally used to feed the pigs from which prosciutto di parma cured parma ham was produced the barns for these animals were usually just few metres away from the cheese production rooms cracking open wheel of parmigiano reggiano cheese the cheese is put into stainless steel round form that is pulled tight with spring powered buckle so the cheese retains its wheel shape after day or two the buckle is released and plastic belt imprinted numerous times with the parmigiano reggiano name the plant number and month and year of production is put around the cheese and the metal form is buckled tight again the imprints take hold on the rind of the cheese in about day and the wheel is then put into brine bath to absorb salt for days after brining the wheels are then transferred to the aging rooms in the plant for months each cheese is placed on wooden shelves that can be cheeses high by cheeses long or total wheels per aisle each cheese and the shelf underneath it is then cleaned manually or robotically every seven days the cheese is also turned at this time parmigiano reggiano factory maturation room product process of parmesan cheese at months the consorzio parmigiano reggiano inspects every wheel the cheese is tested by master grader who taps each wheel to identify undesirable cracks and voids within the wheel wheels that pass the test are then heat branded on the rind with the consorzio logo those that do not pass the test used to have their rinds marked with lines or crosses all the way around to inform consumers that they are not getting top quality parmigiano reggiano more recent practices simply have these lesser rinds stripped of all markings traditionally cows are fed only on grass or hay producing grass fed milk only natural whey culture is allowed as starter together with calf rennet the only additive allowed is salt which the cheese absorbs while being submerged for days in brine tanks saturated to near total salinity with mediterranean sea salt the product is aged an average of two years the cheese is produced daily and it can show natural variability true parmigiano reggiano cheese has sharp complex fruity nutty taste with strong savory flavour and slightly gritty texture inferior versions can impart bitter taste the average parmigiano reggiano wheel is about high in diameter and weighs industry official logo of parmigiano reggiano all producers of parmesan cheese belong to the consorzio del formaggio parmigiano reggiano parmigiano reggiano cheese consortium which was founded in besides setting and enforcing the standards for the pdo the consorzio also sponsors marketing activities about million wheels approx metric tons of parmesan are produced every year they use about of all the milk produced in italy most workers in the italian dairy industry bergamini belong to the italian general confederation of labour as older dairy workers retire younger italians have tended to work in factories or offices immigrants have filled that role with of the workers in the parmesan industry now immigrants from india almost all sikhs uses parmigiano reggiano is commonly grated over pasta dishes stirred into soups and risottos and eaten on its own it is often shaved or grated over other dishes like salads half wheel of parmigiano reggiano cheese carved with parmesan knife slivers and chunks of the hardest parts of the crust are sometimes simmered in soup they can also be roasted and eaten as snack can also be smoked history parmigiano reggiano festival in modena each wheel block of cheese costs parmigiano reggiano being taste tested at festival in modena with balsamic vinegar drizzled on top according to legend parmigiano reggiano was created in the course of the middle ages in bibbiano in the province of reggio emilia its production soon spread to the parma and modena areas historical documents show that in the th and th centuries parmigiano was already very similar to that produced today which suggests its origins can be traced to far earlier some evidence suggests that the name was used for parmesan cheese in italy and france in the th th century it was praised as early as in the writings of boccaccio in the decameron he invents mountain all of grated parmesan cheese on which dwell folk that do nought else but make macaroni and ravioli and boil them in capon broth and then throw them down to be scrambled for and hard by flows rivulet of vernaccia the best that ever was drunk and never drop of water therein during the great fire of london of samuel pepys buried his parmazan cheese as well as his wine and some other things to preserve them in the memoirs of giacomo casanova he remarked that the name parmesan was misnomer common throughout an ungrateful europe in his time mid th century as the cheese was produced in the town of lodi lombardy not parma though casanova knew his table and claimed in his memoir to have been compiling never completed dictionary of cheeses his comment has been taken to refer mistakenly to grana cheese similar to parmigiano grana padano which is produced in the lodi area parmigiano reggiano has been the target of organized crime in italy particularly the mafia or camorra which ambush delivery trucks on the autostrada in northern italy between milan and bologna hijacking shipments the cheese is ultimately sold in southern italy between november and january an organised crime gang stole wheels of parmigiano reggiano from warehouses in northern and central italy aroma and chemical components parmigiano has many aroma active compounds including various aldehydes and butyrates butyric acid and isovaleric acid together are sometimes used to imitate the dominant aromas parmigiano is also particularly high in glutamate containing as much as of glutamate per of cheese the high concentration of glutamate explains the strong umami taste of parmigiano parmigiano cheese typically contains cheese crystals semi solid to gritty crystalline spots that at least partially consist of the amino acid tyrosine name use wheel of parmigiano reggiano manufactured in january in spilamberto with dop marking and parmigiano reggiano written vertically around the complete edge of the wheel an official certification will be stamped into the central oval when it is graded voice of america report showing production of the cheese and imitations using the name without authorization the name is legally protected and in italy exclusive control is exercised over the cheese production and sale by the parmigiano reggiano cheese consorzio which was created by governmental decree each wheel must meet strict criteria early in the aging process when the cheese is still soft and creamy to merit the official seal and be placed in storage for aging because it is widely imitated parmigiano reggiano has become an increasingly regulated product and in it became what is known as certified name which is not the same as brand name in an eu court determined that the name parmesan in europe only refers to parmigiano reggiano and cannot be used for imitation parmesan thus in the european union parmigiano reggiano is protected designation of origin pdo dop in italian legally the name refers exclusively to the parmigiano reggiano pdo cheese manufactured in limited area in northern italy special seals identify the product as authentic with the identification number of the dairy the production month and year code identifying the individual wheel and stamps regarding the length of aging generic parmesan cheese generic parmesan cheese is family of hard grating cheeses made from cow milk and inspired by the original italian cheese they are generally pale yellow in color and usually used grated on dishes like spaghetti caesar salad and pizza american generic parmesan is frequently sold already grated and has been aged for less than months within the european union the term parmesan may only be used by law to refer to parmigiano reggiano itself which must be made in restricted geographic area using stringently defined methods in many areas outside europe the name parmesan has become genericised and may denote any of number of hard italian style grating cheeses often commercialised under names intended to evoke the original such as parmesan parmigiana parmesana parmabon real parma parmezan or parmezano after the european ruling that parmesan could not be used as generic name kraft renamed its grated cheese pamesello in europe production generic parmesans may be legally defined in various jurisdictions in the united states the code of federal regulations includes standard of identity for parmesan and reggiano cheese this defines both aspects of the production process and of the final result in particular parmesan must be made of cow milk cured for months or more contain no more than water and have no less than milkfat in its solids most grated parmesans in the us have cellulose added as an anti caking agent with up to considered acceptable under federal law kraft foods is major north american producer of generic parmesan and has been selling it since as parmesan is common seasoning for pizzas and pastas many major pizza and pasta chains offer it several manufacturers have been investigated for allegedly going beyond the cellulose limit in one case fda findings found no parmesan cheese was used to manufacture pennsylvania manufacturer grated cheese labeled parmesan apparently made from mixture of other cheeses and cellulose the manufacturer declared bankruptcy in and their president was expected to plead guilty to criminal charges facing up to in fines and year in jail similar cheeses grana padano grana padano is an italian cheese similar to parmigiano reggiano but is produced mainly in lombardy where padano refers to the po valley pianura padana the cows producing the milk may be fed silage as well as grass the milk may contain slightly less fat milk from several different days may be used and must be aged minimum of months gran moravia gran moravia is cheese from the czech republic similar to grana padano and parmigiano reggianito reggianito is an argentine cheese similar to parmigiano developed by italian argentine cheesemakers the cheese is made in smaller wheels and aged for less time but is otherwise broadly similar see also list of cheeses parmesan knife references external links official website\\n pizza quattro formaggi four cheese pizza is variety of pizza in italian cuisine that is topped with combination of four kinds of cheese usually melted together with rossa red or without bianca white tomato sauce it is popular worldwide including in italy and is one of the iconic items from pizzerias menus traditionally the cheeses include mozzarella as the fundamental component which maintains humidity during cooking partially protecting the other cheeses from the strong heat of the oven gorgonzola is almost systematically present and the completing duo consists of other local cheeses depending on the region with fontina and parmigiano reggiano as the typical complements but other variants include pecorino ricotta stracchino robiola taleggio smoked provola or caciocavallo beside mozzarella mass produced pizzas often use parmesan romano asiago and other italian style cheeses though some use non italian cheeses such as edam emmental and blue cheese the choice of cheeses is not random they should be full fat or semi fat and vary in flavour besides mozzarella the quattro formaggi usually combines blue or mature cheese soft cheese such as emmental or gruyere or creamy cheese such as robiola or stracchino and hard cheese parmesan or pecorino grated unlike other pizzas like the napolitan or the margherita which have an old rich and documented history the quattro formaggi despite its popularity and preponderance has less clear origin certainly due to its composition being so obvious it is believed to originate from the lazio region at the beginning of the th century its less obvious and more recent versions like the quattro latti pizza can be on the opposite tracked in the history of gastronomy see also list of italian dishes list of pizza varieties by country references\\n pecorino toscano tuscan pecorino is firm textured ewe milk cheese produced in tuscany since it has enjoyed protected designation of origin pdo status history pliny the elder in his major encyclopædic work naturalis historia describes several stages in the production of pecorino toscano which he names as lunense apparently after the territory of lunigiana other early names of the cheese include marzolino after the month of march in which production traditionally began in the writer bartolomeo platina said that the etruscan marzolino was as good as parmesan cheese in italy there are two types of cheese that compete for the first place marzolino so called by the etruscans because it is made in etruria in march and parmesan cheese from the cisalpine region that is also known as maggengo because it is produced in may maggio in italian today this style of pecorino is widely produced across tuscany and also in several nearer districts of umbria and lazio production according to estimate by the italian dairy producers association assolatte annual production of pecorino toscano was this ranks the cheese as the third highest sheep cheese in italy the largest being pecorino romano and pecorino sardo description the cheese is prepared with full cream pasteurised ewe milk often by farm based cheese producers the cheese is ready to be eaten after maturation period of just twenty days however it is generally regarded as hard cheese frequently used for grating and to achieve this characteristic hard texture the cheese should be left alone for at least four months the cheese usually takes the form of semi flattened sphere typically with diameter between and height between the weight will normally be between the outer rind is yellow coloured but there is considerable variability according to how the outside of the cheese has been washed during maturation generally with combination involving crushed tomato ash and or olive oil uses there is wide range of uses for the cheese which varies according to local traditions and the season the delicate flavour of young pecorino toscano can provide an excellent complement to salad based starters as the cheese matures and the flavour strengthens it can be eaten with honey or jam as well as with fresh vegetables or fruits especially pears and figs well matured pecorino toscano is widely used across italy as an alternative to parmesan for grating over wide range of dishes especially pastas or soups see also list of cheeses list of italian cheeses list of italian pdo cheeses references\\n parmesan cheese being grated grated cheese is cheese that has been grated typically aged hard cheeses are used cheese can be grated by hand using hand grater and can be bought already grated commercial grated cheeses are often blends of cheeses shredded cheese is coarser and cooks differently popular types of grated cheese cheshire cheese parmesan red leicester cheddar cheese edam cheese external links\\n', \" sbrinz is very hard cheese produced in central switzerland it is often used instead of parmesan cheese in swiss cuisine the cheese is produced in only dairies in central switzerland only local cow milk is used when producing this cheese it is kept in the region until ready for consumption contrary to popular belief the name sbrinz does not originally refer to particular place or region nevertheless the swiss cheese union added to this myth by launching an advertising campaign in the as result of this campaign there is now an area called sbrinz character sbrinz is an extra hard full fat cheese it contains approximately to of fat when dry the cheese must ripen for months before it can be sold as sbrinz and the full flavour only develops after about months in storage history sbrinz is claimed to be the oldest european cheese the celtic ancestors of the swiss were making cheese centuries before the birth of christ this cheese may have been an ancestor to modern sbrinz the official web site claims that the cheese was first mentioned in ad but does not give any details other sources claim that the cheese is mentioned in contracts dated around it seems certain however that it is mentioned in documents dating from which are kept in the state archive in bern starting in sbrinz was granted an appellation origine contrôlée aoc certification the aoc provides specifications for the origin of the milk and the processes that must be followed in order for the cheese to labeled as sbrinz in this was replaced by the appellation origine protégée aop certification consumption sbrinz is commonly consumed in several ways it can be used grated such as on pasta it can be eaten in small pieces often to accompany wine it is also eaten in thin slices planed from the hard cheese sbrinz is often simply enjoyed with bread and butter see also cheeses of switzerland bergkäse culinary heritage of switzerland references external links official page in german french italian and english\\n parmesan cheese being grated grated cheese is cheese that has been grated typically aged hard cheeses are used cheese can be grated by hand using hand grater and can be bought already grated commercial grated cheeses are often blends of cheeses shredded cheese is coarser and cooks differently popular types of grated cheese cheshire cheese parmesan red leicester cheddar cheese edam cheese external links\\n Parmesan cheese -LRB- Parmigiano Reggiano -RRB- ` Parmesan cheese ' is the name of a few kinds of Italian extra-hard cheeses made of cow 's milk .\\n It can prevent caking, such as in grated parmesan cheese, but some companies fraudulently use it as a cheap filler in their “100%” grated parmesan cheese.\\n\"]\n",
      "A thermometer is a device used to measure what?\n",
      "['length', 'height', 'distance', 'temperature']\n",
      "D\n",
      "D\n",
      "[3]\n",
      "[-7.073253  -7.4535108 -7.630579  -3.530938 ]\n",
      "[[45.09785, 44.49798, 44.36189, 41.639664], [45.09785, 44.49798, 44.36189, 40.185463], [45.09785, 44.49798, 44.36189, 40.185463], [52.455013, 48.53667, 48.475273, 47.020664]]\n",
      "[\" Most common device used to measure this is a thermometer.\\n ~Tool or piece of equipment (e.g., a thermometer is a device used to measure the patient's body temperature).\\n Thermometer is a device used to measure the hotness or coldness of an object.\\n thermometer: a tool used to measure temperature two-dimensional: A shape is 2-dimensional when it has length and area but no volume.\\n\", \" Most common device used to measure this is a thermometer.\\n ~Tool or piece of equipment (e.g., a thermometer is a device used to measure the patient's body temperature).\\n Thermometer is a device used to measure the hotness or coldness of an object.\\n Thermometer is the device used to measure temperature.\\n\", \" Most common device used to measure this is a thermometer.\\n ~Tool or piece of equipment (e.g., a thermometer is a device used to measure the patient's body temperature).\\n Thermometer is a device used to measure the hotness or coldness of an object.\\n Thermometer is the device used to measure temperature.\\n\", \" ~Tool or piece of equipment (e.g., a thermometer is a device used to measure the patient's body temperature).\\n Analog thermometers measure temperature using either a bulb (tube thermometer) or a special spring (dial thermometer) in which a physical change occurs with temperature and is displayed on the scale of the device.\\n Thermometer is the device used to measure temperature.\\n A ` clinical thermometer ' is a thermometer used to measure body temperature .\\n\"]\n",
      "What is the name of the part of the human skeleton which protects our brain?\n",
      "['skull', 'sternum', 'femur', 'scapula']\n",
      "A\n",
      "A\n",
      "[0]\n",
      "[-3.004956  -6.5809035 -5.153359  -6.242737 ]\n",
      "[[46.714825, 45.615845, 45.22869, 44.943165], [47.406536, 41.54384, 38.80827, 38.764397], [38.764397, 37.73436, 36.956944, 36.395256], [38.764397, 37.874516, 37.73436, 37.11145]]\n",
      "[' 3 1 9 Though generally possessed of a shell, there is no internal skeleton, save that in a few forms e.g. the cuttle-fish there is an internal shell, and a cartilaginous case partly protects what maybe called the brain, and so far simulates a\" skull.\"\\n The human skull is the part of the skeleton that supports the structures of the face and forms a cavity for the brain.\\n the facial skeleton comprises the facial bones that may attach to build portion of the skull the remainder of the skull is the braincase in human anatomy and development the facial skeleton is sometimes called the membranous viscerocranium which comprises the mandible and dermatocranial elements that are not part of the braincase structure in the human skull the facial skeleton consists of fourteen bones in the face inferior turbinal lacrimal bones mandible maxilla nasal bones palatine bones vomer zygomatic bones variations elements of the cartilaginous viscerocranium elements such as the hyoid bone are sometimes considered part of the facial skeleton the ethmoid bone or part of it and also the sphenoid bone are sometimes included but otherwise considered part of the neurocranium because the maxillary bones are fused they are often collectively listed as only one bone the mandible is generally considered separately from the cranium development the facial skeleton is composed of dermal bone and derived from the neural crest cells also responsible for the development of the neurocranium teeth and adrenal medulla or from the sclerotome which derives from the somite block of the mesoderm as with the neurocranium in chondricthyes and other cartilaginous vertebrates they are not replaced via endochondral ossification variation in craniofacial form between humans is largely due to differing patterns of biological inheritance cross analysis of osteological variables and genome wide snps has identified specific genes that control this craniofacial development of these genes dchs runx gli pax and pax were found to determine nasal morphology whereas edar impacts chin protrusion additional images file slide rome jpg human facial skeleton front view file lateral view of skull svg human skull lateral view file parts of skull jpg facial bones and neurocranium labeled as brain case file bodyparts facial skeleton stl model click to move see also axial skeleton appendicular skeleton references external links facial bone anatomy de schädel die knochen des schädels\\n medical animation still shot of human skull the axial skeleton is the part of the skeleton that consists of the bones of the head and trunk of vertebrate in the human skeleton it consists of bones and is composed of six parts the skull bones also the ossicles of the middle ear the hyoid bone the rib cage sternum and the vertebral column the axial skeleton together with the appendicular skeleton form the complete skeleton another definition of axial skeleton is the bones including the vertebrae sacrum coccyx ribs and sternum structure flat bones house the brain and other vital organs this article mainly deals with the axial skeletons of humans however it is important to understand the evolutionary lineage of the axial skeleton the human axial skeleton consists of different bones it is the medial core of the body and connects the pelvis to the body where the appendix skeleton attaches as the skeleton grows older the bones get weaker with the exception of the skull the skull remains strong to protect the brain from injury human skull the human skull consists of the cranium and the facial bones the cranium holds and protects the brain in large space called the cranial vault the cranium is formed from eight plate shaped bones which fit together at meeting points joints called sutures in addition there are facial bones which form the lower front part of the skull together the bones that compose the skull form additional smaller spaces besides the cranial vault such as the cavities for the eyes the internal ear the nose and the mouth the most important facial bones include the jaw or mandible the upper jaw or maxilla the zygomatic or cheek bone and the nasal bone humans are born with separate plates which later fuse to allow flexibility as the skull passes through the pelvis and birth canal during birth during development the eight separate plates of the immature bones fuse together into one single structure known as the skull the only bone that remains separate from the rest of the skull is the mandible rib cage the rib cage is composed of pairs of ribs plus the sternum for total of separate bones the rib cage functions as protection for the vital organs such as the heart and lungs the ribs are shaped like crescents with one end flattened and the other end rounded the rounded ends are attached at joints to the thoracic vertebrae at the back and the flattened ends come together at the sternum in the front the upper seven pairs of ribs attach to the sternum with costal cartilage and are known as true ribs the th through th ribs have non costal cartilage which connects them to the ribs above and for this they are known as false ribs the last two ribs are called floating ribs because they do not attach to the sternum or to other ribs and simply hang free the length of each rib increases from number one to seven and then decreases until rib pair number the first rib is the shortest broadest flattest and most curved vertebral column at birth the majority of humans have separate vertebrae however during normal development several vertebrae fuse together leaving total of in most cases the confusion about whether or not there are vertebrae stems from the fact that the two lowest vertebrae the sacrum and the coccyx are single bones made up of several smaller bones which have fused together this is how the vertebrae are counted separate vertebrae and the sacrum formed from fused vertebrae and the coccyx formed from fused vertebrae if you count the coccyx and sacrum each as one vertebra then there are vertebrae if the fused vertebrae are all counted separately then the total number of vertebrae comes to between and the vertebral column consists of parts the most cranial uppermost part is made up by the cervical vertebrae followed by thoracic lumbar sacral and coccygeal vertebrae cervical vertebrae make up the junction between the vertebral column and the cranium sacral and coccygeal vertebras are fused and thus often called sacral bone or ccoccygeal bone as unit the sacral bone makes up the junction between the vertebral column and the pelvic bones etymology the word axial is taken from the word axis and refers to the fact that the bones are located close to or along the central axis of the body the term axis means the central point around which the other structures are distributed short summary the axial skeleton consists of bones the skull which contains bones from which are cranial and are facial middle ear ossicles in each ear hyoid bone in the neck bones of vertebral column chest bone sternum and ribs pairs see also appendicular skeleton skull hyoid bone sternum ribs references external links botany uwc ac za\\n', ' medical animation still shot of human skull the axial skeleton is the part of the skeleton that consists of the bones of the head and trunk of vertebrate in the human skeleton it consists of bones and is composed of six parts the skull bones also the ossicles of the middle ear the hyoid bone the rib cage sternum and the vertebral column the axial skeleton together with the appendicular skeleton form the complete skeleton another definition of axial skeleton is the bones including the vertebrae sacrum coccyx ribs and sternum structure flat bones house the brain and other vital organs this article mainly deals with the axial skeletons of humans however it is important to understand the evolutionary lineage of the axial skeleton the human axial skeleton consists of different bones it is the medial core of the body and connects the pelvis to the body where the appendix skeleton attaches as the skeleton grows older the bones get weaker with the exception of the skull the skull remains strong to protect the brain from injury human skull the human skull consists of the cranium and the facial bones the cranium holds and protects the brain in large space called the cranial vault the cranium is formed from eight plate shaped bones which fit together at meeting points joints called sutures in addition there are facial bones which form the lower front part of the skull together the bones that compose the skull form additional smaller spaces besides the cranial vault such as the cavities for the eyes the internal ear the nose and the mouth the most important facial bones include the jaw or mandible the upper jaw or maxilla the zygomatic or cheek bone and the nasal bone humans are born with separate plates which later fuse to allow flexibility as the skull passes through the pelvis and birth canal during birth during development the eight separate plates of the immature bones fuse together into one single structure known as the skull the only bone that remains separate from the rest of the skull is the mandible rib cage the rib cage is composed of pairs of ribs plus the sternum for total of separate bones the rib cage functions as protection for the vital organs such as the heart and lungs the ribs are shaped like crescents with one end flattened and the other end rounded the rounded ends are attached at joints to the thoracic vertebrae at the back and the flattened ends come together at the sternum in the front the upper seven pairs of ribs attach to the sternum with costal cartilage and are known as true ribs the th through th ribs have non costal cartilage which connects them to the ribs above and for this they are known as false ribs the last two ribs are called floating ribs because they do not attach to the sternum or to other ribs and simply hang free the length of each rib increases from number one to seven and then decreases until rib pair number the first rib is the shortest broadest flattest and most curved vertebral column at birth the majority of humans have separate vertebrae however during normal development several vertebrae fuse together leaving total of in most cases the confusion about whether or not there are vertebrae stems from the fact that the two lowest vertebrae the sacrum and the coccyx are single bones made up of several smaller bones which have fused together this is how the vertebrae are counted separate vertebrae and the sacrum formed from fused vertebrae and the coccyx formed from fused vertebrae if you count the coccyx and sacrum each as one vertebra then there are vertebrae if the fused vertebrae are all counted separately then the total number of vertebrae comes to between and the vertebral column consists of parts the most cranial uppermost part is made up by the cervical vertebrae followed by thoracic lumbar sacral and coccygeal vertebrae cervical vertebrae make up the junction between the vertebral column and the cranium sacral and coccygeal vertebras are fused and thus often called sacral bone or ccoccygeal bone as unit the sacral bone makes up the junction between the vertebral column and the pelvic bones etymology the word axial is taken from the word axis and refers to the fact that the bones are located close to or along the central axis of the body the term axis means the central point around which the other structures are distributed short summary the axial skeleton consists of bones the skull which contains bones from which are cranial and are facial middle ear ossicles in each ear hyoid bone in the neck bones of vertebral column chest bone sternum and ribs pairs see also appendicular skeleton skull hyoid bone sternum ribs references external links botany uwc ac za\\n THE HUMAN SKELETAL SYSTEM Part of the Skeleton Number of Bones Axial Skeleton Skull Ossicles (malleus, incus and stapes) Vertebral column Ribs Sternum Hyoid Appendicular Skeleton Upper extremities Lower extremities 80 22 6 26 24 1 1 126 64 62 Characteristics of Bone Bone is a specialized type of connective tissue consisting of cells (osteocytes) embedded in a calcified matrix which gives bone its characteristic hard and rigid nature.\\n The axial skeleton (80 bones) is formed by the vertebral column (32–34 bones; the number of the vertebrae differs from human to human as the lower 2 parts, sacral and coccygeal bone may vary in length), a part of the rib cage (12 pairs of ribs and the sternum ), and the skull (22 bones and 7 associated bones).\\n This part of the skeleton helps relay messages, and it protects the vital organs such as the heart and the brain.\\n', ' This part of the skeleton helps relay messages, and it protects the vital organs such as the heart and the brain.\\n 3 1 9 Though generally possessed of a shell, there is no internal skeleton, save that in a few forms e.g. the cuttle-fish there is an internal shell, and a cartilaginous case partly protects what maybe called the brain, and so far simulates a\" skull.\"\\n an epicondyle is rounded eminence on bone that lies upon condyle epi upon condyle from root meaning knuckle or rounded articular area there are various epicondyles in the human skeleton each named by its anatomic site they include the following epicondyle name comments medial epicondyle of the humerus ventral epicondyle in birds in humans on the inboard side of the elbow medial epicondyle of the femur lateral epicondyle of the humerus dorsal epicondyle in birds in humans on the outboard side of the elbow lateral epicondyle of the femur\\n the appendicular skeleton is the portion of the skeleton of vertebrates consisting of the bones that support the appendages there are bones the appendicular skeleton includes the skeletal elements within the limbs as well as supporting shoulder girdle pectoral and pelvic girdle the word appendicular is the adjective of the noun appendage which itself means part that is joined to something larger human structure of the bones in the human skeleton the appendicular skeleton comprises functionally it is involved in locomotion lower limbs of the axial skeleton and manipulation of objects in the environment upper limbs the appendicular skeleton forms during development from cartilage by the process of endochondral ossification the appendicular skeleton is divided into six major regions shoulder girdles bones left and right clavicle and scapula arms and forearms bones left and right humerus arm ulna and radius forearm hands bones left and right carpals wrist metacarpals proximal phalanges intermediate phalanges and distal phalanges pelvis bones left hip bone and right hip bone thighs and legs bones left and right femur thigh patella knee tibia and fibula leg feet and ankles bones left and right tarsals ankle metatarsals proximal phalanges intermediate phalanges and distal phalanges it is important to realize that through anatomical variation it is common for the skeleton to have many accessory bones sutural bones in the skull cervical ribs lumbar ribs and even extra lumbar vertebrae the appendicular skeleton of bones and the axial skeleton of bones together form the complete skeleton of bones in the human body unlike the axial skeleton the appendicular skeleton is unfused this allows for much greater range of motion see also legs references\\n', ' This part of the skeleton helps relay messages, and it protects the vital organs such as the heart and the brain.\\n There are bones in the frog\\'s forelimbs, AND THEY ARE CONNECTED TO THE scapula (shoulder blade) WHICH IS A PART OF THE AXIAL SKELETON as it\\'s called.\\n 3 1 9 Though generally possessed of a shell, there is no internal skeleton, save that in a few forms e.g. the cuttle-fish there is an internal shell, and a cartilaginous case partly protects what maybe called the brain, and so far simulates a\" skull.\"\\n the appendicular skeleton is the portion of the skeleton of vertebrates consisting of the bones that support the appendages there are bones the appendicular skeleton includes the skeletal elements within the limbs as well as supporting shoulder girdle pectoral and pelvic girdle the word appendicular is the adjective of the noun appendage which itself means part that is joined to something larger human structure of the bones in the human skeleton the appendicular skeleton comprises functionally it is involved in locomotion lower limbs of the axial skeleton and manipulation of objects in the environment upper limbs the appendicular skeleton forms during development from cartilage by the process of endochondral ossification the appendicular skeleton is divided into six major regions shoulder girdles bones left and right clavicle and scapula arms and forearms bones left and right humerus arm ulna and radius forearm hands bones left and right carpals wrist metacarpals proximal phalanges intermediate phalanges and distal phalanges pelvis bones left hip bone and right hip bone thighs and legs bones left and right femur thigh patella knee tibia and fibula leg feet and ankles bones left and right tarsals ankle metatarsals proximal phalanges intermediate phalanges and distal phalanges it is important to realize that through anatomical variation it is common for the skeleton to have many accessory bones sutural bones in the skull cervical ribs lumbar ribs and even extra lumbar vertebrae the appendicular skeleton of bones and the axial skeleton of bones together form the complete skeleton of bones in the human body unlike the axial skeleton the appendicular skeleton is unfused this allows for much greater range of motion see also legs references\\n']\n",
      "What is the name of the organ that pumps blood around the human body?\n",
      "['lungs', 'heart', 'skin', 'brain']\n",
      "B\n",
      "B\n",
      "[1]\n",
      "[-6.963499   2.6571615 -7.518269  -7.802338 ]\n",
      "[[48.425312, 45.718933, 44.798843, 44.467793], [51.327812, 51.1426, 48.261635, 47.55105], [44.798843, 44.130222, 41.27798, 41.149258], [44.798843, 44.130222, 41.27798, 41.149258]]\n",
      "[' For example, your heart is an organ that pumps blood through your body, so the cells that make up the heart would be quite different in appearance and overall function from the cells that make up your lungs.\\n What would AURICLES VENTRICLES Fishes One; receives blood returning through veins from entire body One; receives blood from auricle and pumps it through gills on its way to all parts of the body Amphibia (frogs, toads, etc.) Two separate; left receives blood from veins from lung; right receives blood from veins from all parts of body One; receives blood from both auricles and pumps the mix- ture through arteries to all parts of the body Reptiles (lower types; lizards, snakes, turtles) Two separate; left receives blood from veins from lungs ; right receives blood from veins from all parts of the body Two partially separated; right receives blood from right auricle; left receives from left auricle; blood from the two auricles is mixed in the partially separated ventricles and pumped to all parts of the body Reptiles (higher types; alli- gators, croco- diles, etc.) Two separate; left receives blood from veins from lungs; right receives blood from veins from all parts of the body Two completely separated; right receives blood from right auricle; left receives blood from left auricle Birds (adults) Two separate; left receives blood from veins from lungs ; right receives blood from veins from all parts of the body Two completely separated ; right receives blood from right auricle; left from left auricle; left ventricle pumps blood to all parts of body; right ventricle, to lungs Mammals (adults) Two separate; left receives blood from veins from lungs ; right receives blood from veins from all parts of the body Two completely separated; right and left have same functions as in birds Fig. 364.\\n The human heart is an organ that pumps blood throughout the body via the circulatory system, supplying oxygen and nutrients to the tissues and removing carbon dioxide and other wastes.\\n Heart and Lungs- FUNCTIONS Heart= pumps all the blood around the body.\\n', ' The human heart is an organ that pumps blood throughout the body via the circulatory system, supplying oxygen and nutrients to the tissues and removing carbon dioxide and other wastes.\\n b) The heart is an organ and pumps blood around the body.\\n For example, the heart is an organ that pumps blood throughout the body.\\n Groups of Organs Form Organ Systems Your heart pumps blood around your body.\\n', ' The human heart is an organ that pumps blood throughout the body via the circulatory system, supplying oxygen and nutrients to the tissues and removing carbon dioxide and other wastes.\\n b) The heart is an organ and pumps blood around the body.\\n For example, the heart is an organ that pumps blood throughout the body.\\n a hallow muscular organ that pumps blood throughout the blood vessels to various parts of the body.\\n', ' The human heart is an organ that pumps blood throughout the body via the circulatory system, supplying oxygen and nutrients to the tissues and removing carbon dioxide and other wastes.\\n b) The heart is an organ and pumps blood around the body.\\n For example, the heart is an organ that pumps blood throughout the body.\\n a hallow muscular organ that pumps blood throughout the blood vessels to various parts of the body.\\n']\n"
     ]
    }
   ],
   "source": [
    "for element in t_dataset:\n",
    "    print(element[\"question\"])    \n",
    "    print(element[\"options\"])    \n",
    "    print(element[\"answer\"])    \n",
    "    print(chr(element[\"chosen\"][element[\"chosen_index\"]] + 65))    \n",
    "    print(element[\"chosen\"])    \n",
    "    print(element[\"final_optionscore\"][element[\"chosen_index\"]])    \n",
    "#    print(element[\"final_optionscore\"])    \n",
    "    print(element[\"rscore\"])        \n",
    "    print(element[\"article\"])             "
   ]
  },
  {
   "cell_type": "code",
   "execution_count": null,
   "id": "3a970a17-7af2-4eab-9842-2493c07c8e47",
   "metadata": {},
   "outputs": [],
   "source": []
  },
  {
   "cell_type": "code",
   "execution_count": null,
   "id": "a48f56ac-c94c-4161-9184-561c00b16c25",
   "metadata": {},
   "outputs": [],
   "source": []
  },
  {
   "cell_type": "code",
   "execution_count": null,
   "id": "e8e3452c-6cd1-4372-b0d9-1e22d57285ac",
   "metadata": {},
   "outputs": [],
   "source": []
  },
  {
   "cell_type": "code",
   "execution_count": null,
   "id": "4ef093d9-69b5-4321-87c5-1580ee60e537",
   "metadata": {},
   "outputs": [],
   "source": []
  },
  {
   "cell_type": "code",
   "execution_count": null,
   "id": "c5958dfc-ef6c-4c54-8743-a3c57d1e8e16",
   "metadata": {},
   "outputs": [],
   "source": []
  },
  {
   "cell_type": "code",
   "execution_count": null,
   "id": "4b86c911-701a-46d0-a883-2d88474f86b2",
   "metadata": {},
   "outputs": [],
   "source": []
  },
  {
   "cell_type": "markdown",
   "id": "edd97296-5c07-455f-b633-7ae3f3b042a8",
   "metadata": {
    "id": "ROlFpVIzDYYh"
   },
   "source": [
    "## CONSTANTS"
   ]
  },
  {
   "cell_type": "code",
   "execution_count": 30,
   "id": "b2cd3283-159c-4eca-9516-b8717ac13630",
   "metadata": {
    "id": "mRhCnUAEDXJr"
   },
   "outputs": [],
   "source": [
    "# TRAIN_DATA_PATH =\n",
    "# VAL_DATA_PATH = \n",
    "DOC_QUANTITY = 4\n",
    "NUM_SCORES = 4 #rtf-idf, model1, model2, model3, model4\n",
    "#LEN_DATASET = 4000\n",
    "TOP_N = 20\n",
    "MODELS_DIR = \"model\"\n",
    "\n",
    "\n",
    "# BATCH_SIZE = 256\n",
    "LAST_LAYER_SIZE = 768"
   ]
  },
  {
   "cell_type": "markdown",
   "id": "5363b9cd-f40a-4857-8010-db99d57dc0f1",
   "metadata": {
    "id": "vlKI-olJbQr-"
   },
   "source": [
    "## Getting test output data"
   ]
  },
  {
   "cell_type": "code",
   "execution_count": 31,
   "id": "78899ae8-cf95-4c89-8a7c-045fb7dd8996",
   "metadata": {},
   "outputs": [],
   "source": [
    "### Loading test data"
   ]
  },
  {
   "cell_type": "code",
   "execution_count": 32,
   "id": "276e4533-4685-4cf7-a3cb-3416ab720905",
   "metadata": {},
   "outputs": [],
   "source": [
    "# TEST DATA\n",
    "# CHALLENGE\n",
    "with open('NN-Demo-CQA.pkl', 'rb') as f:\n",
    "    NN_ARC_Challenge_Test_CQA4 = pickle.load(f)\n",
    "\n",
    "with open('NN-Demo-Commonqa.pkl', 'rb') as f:\n",
    "    NN_ARC_Challenge_Test_Commonqa4 = pickle.load(f)\n",
    "\n",
    "with open('NN-Demo-OB.pkl', 'rb') as f:\n",
    "    NN_ARC_Challenge_Test_OB4 = pickle.load(f)\n",
    "\n",
    "with open('NN-Demo-Race.pkl', 'rb') as f:\n",
    "    NN_ARC_Challenge_Test_Race4 = pickle.load(f)"
   ]
  },
  {
   "cell_type": "markdown",
   "id": "291a3f7a-1632-4536-89d1-8049ef85de69",
   "metadata": {
    "id": "O8GAiiv3xWfX"
   },
   "source": [
    "# Prepare Transfomer Data"
   ]
  },
  {
   "cell_type": "markdown",
   "id": "a416f8b0-af8f-48de-9268-64e8fde1019b",
   "metadata": {
    "id": "Ovb6tRsU6U1_"
   },
   "source": [
    "## Prepare input for 4 models optionscore shape (4,768)"
   ]
  },
  {
   "cell_type": "code",
   "execution_count": 33,
   "id": "873db205-d035-4bdb-b113-d47e4194bd2a",
   "metadata": {
    "colab": {
     "base_uri": "https://localhost:8080/"
    },
    "id": "2oiRVyOA6jC2",
    "outputId": "1332ab89-952d-477a-faf8-ff2bcf84471a"
   },
   "outputs": [],
   "source": [
    "def prepare_input_data_for_4_models(data_model_1, data_model_2, data_model_3, data_model_4):\n",
    "    LEN_DATASET = len(data_model_1)\n",
    "    data = data_model_1\n",
    "\n",
    "    answer_a = np.zeros((LEN_DATASET, NUM_SCORES, LAST_LAYER_SIZE + 4),\n",
    "                      dtype=\"float\")\n",
    "    answer_b = np.zeros((LEN_DATASET, NUM_SCORES, LAST_LAYER_SIZE + 4),\n",
    "                      dtype=\"float\")\n",
    "    answer_c = np.zeros((LEN_DATASET, NUM_SCORES, LAST_LAYER_SIZE + 4),\n",
    "                      dtype=\"float\")\n",
    "    answer_d = np.zeros((LEN_DATASET, NUM_SCORES, LAST_LAYER_SIZE + 4),\n",
    "                      dtype=\"float\")\n",
    "    #labels = np.zeros((LEN_DATASET, DOC_QUANTITY, 4), dtype=\"int32\")\n",
    "    labels = np.zeros((LEN_DATASET, 4), dtype=\"int32\")\n",
    "\n",
    "  \n",
    "    for i in range(0, LEN_DATASET):\n",
    "    #model 1 scores \n",
    "        try:\n",
    "            ms1a = data_model_1[i]['optionscore'][0] #(768,)\n",
    "            ms1b = data_model_1[i]['optionscore'][1]\n",
    "            ms1c = data_model_1[i]['optionscore'][2]\n",
    "            ms1d = data_model_1[i]['optionscore'][3]\n",
    "\n",
    "        except IndexError:\n",
    "            # count_index_error +=1\n",
    "            ms1a = 0\n",
    "            ms1b = 0\n",
    "            ms1c = 0\n",
    "            ms1d = 0\n",
    "\n",
    "        #model 2 scores\n",
    "        try:\n",
    "            ms2a = data_model_2[i]['optionscore'][0]\n",
    "            ms2b = data_model_2[i]['optionscore'][1]\n",
    "            ms2c = data_model_2[i]['optionscore'][2]\n",
    "            ms2d = data_model_2[i]['optionscore'][3]\n",
    "        except IndexError:\n",
    "            # count_index_error +=1\n",
    "            ms2a = 0\n",
    "            ms2b = 0\n",
    "            ms2c = 0\n",
    "            ms2d = 0\n",
    "\n",
    "        #model 3 scores\n",
    "        try:\n",
    "            ms3a = data_model_3[i]['optionscore'][0]\n",
    "            ms3b = data_model_3[i]['optionscore'][1]\n",
    "            ms3c = data_model_3[i]['optionscore'][2]\n",
    "            ms3d = data_model_3[i]['optionscore'][3]\n",
    "        except IndexError:\n",
    "            # count_index_error +=1\n",
    "            ms3a = 0\n",
    "            ms3b = 0\n",
    "            ms3c = 0\n",
    "            ms3d = 0\n",
    "\n",
    "        #model 4 scores\n",
    "        try:\n",
    "            ms4a = data_model_4[i]['optionscore'][0]\n",
    "            ms4b = data_model_4[i]['optionscore'][1]\n",
    "            ms4c = data_model_4[i]['optionscore'][2]\n",
    "            ms4d = data_model_4[i]['optionscore'][3]\n",
    "        except IndexError:\n",
    "            # count_index_error +=1\n",
    "            ms4a = 0\n",
    "            ms4b = 0\n",
    "            ms4c = 0\n",
    "            ms4d = 0\n",
    "\n",
    "        model_scores_a = np.array([ms1a,ms2a,ms3a,ms4a])\n",
    "        model_scores_b = np.array([ms1b,ms2b,ms3b,ms4b])\n",
    "        model_scores_c = np.array([ms1c,ms2c,ms3c,ms4c])\n",
    "        model_scores_d = np.array([ms1d,ms2d,ms3d,ms4d])\n",
    "\n",
    "        ###### ANSWER A ############\n",
    "        # rs1 = data[i]['rscore'][0][0]\n",
    "        # rs2 = data[i]['rscore'][0][1]\n",
    "        # rs3 = data[i]['rscore'][0][2]\n",
    "        # rs4 = data[i]['rscore'][0][3]\n",
    "\n",
    "        # rscores = np.array([rs1,rs2,rs3,rs4])\n",
    "        rscores = data[i]['rscore'][0]\n",
    "\n",
    "        # for j in range(0, DOC_QUANTITY):\n",
    "        #   i_ms = 0\n",
    "        #   for k in range(0, NUM_SCORES):\n",
    "        #     #qa_index, doc_index, num_score_index\n",
    "        #     if k == 0:\n",
    "        #       rscore_array = np.full((LAST_LAYER_SIZE), rscores[j])\n",
    "        #       answer_a[i][j][k] = rscore_array\n",
    "        #     else:\n",
    "        #       answer_a[i][j][k] = model_scores_a[i_ms] #doc1\n",
    "        #       i_ms += 1\n",
    "\n",
    "        for k in range(0, NUM_SCORES):\n",
    "          #qa_index, doc_index, num_score_index\n",
    "          answer_a[i][k] = np.concatenate((model_scores_a[k], rscores), axis=None)\n",
    "\n",
    "\n",
    "\n",
    "        ###### ANSWER B ############\n",
    "        # rs1 = data[i]['rscore'][1][0]\n",
    "        # rs2 = data[i]['rscore'][1][1]\n",
    "        # rs3 = data[i]['rscore'][1][2]\n",
    "        # rs4 = data[i]['rscore'][1][3]\n",
    "\n",
    "        # rscores = np.array([rs1,rs2,rs3,rs4])\n",
    "\n",
    "        rscores = data[i]['rscore'][1]\n",
    "\n",
    "\n",
    "        # for j in range(0, DOC_QUANTITY):\n",
    "        #   i_ms = 0\n",
    "        #   for k in range(0, NUM_SCORES):\n",
    "        #     #qa_index, doc_index, num_score_index\n",
    "        #     if k == 0:\n",
    "        #       rscore_array = np.full((LAST_LAYER_SIZE), rscores[j])\n",
    "        #       answer_b[i][j][k] = rscore_array\n",
    "        #     else:\n",
    "        #       answer_b[i][j][k] = model_scores_b[i_ms] #doc1\n",
    "        #       i_ms += 1\n",
    "\n",
    "        for k in range(0, NUM_SCORES):\n",
    "          #qa_index, doc_index, num_score_index\n",
    "          answer_b[i][k] = np.concatenate((model_scores_b[k], rscores), axis=None)\n",
    "\n",
    "\n",
    "\n",
    "        ###### ANSWER C ############\n",
    "        # rs1 = data[i]['rscore'][2][0]\n",
    "        # rs2 = data[i]['rscore'][2][1]\n",
    "        # rs3 = data[i]['rscore'][2][2]\n",
    "        # rs4 = data[i]['rscore'][2][3]\n",
    "\n",
    "        # rscores = np.array([rs1,rs2,rs3,rs4])\n",
    "\n",
    "        rscores = data[i]['rscore'][2]\n",
    "\n",
    "\n",
    "        # for j in range(0, DOC_QUANTITY):\n",
    "        #   i_ms = 0\n",
    "        #   for k in range(0, NUM_SCORES):\n",
    "        #     #qa_index, doc_index, num_score_index\n",
    "        #     if k == 0:\n",
    "        #       rscore_array = np.full((LAST_LAYER_SIZE), rscores[j])\n",
    "        #       answer_c[i][j][k] = rscore_array\n",
    "        #     else:\n",
    "        #       answer_c[i][j][k] = model_scores_c[i_ms] #doc1\n",
    "        #       i_ms += 1\n",
    "\n",
    "        for k in range(0, NUM_SCORES):\n",
    "          #qa_index, doc_index, num_score_index\n",
    "          answer_c[i][k] = np.concatenate((model_scores_c[k], rscores), axis=None)\n",
    "\n",
    "\n",
    "        ###### ANSWER D ############\n",
    "        # rs1 = data[i]['rscore'][3][0]\n",
    "        # rs2 = data[i]['rscore'][3][1]\n",
    "        # rs3 = data[i]['rscore'][3][2]\n",
    "        # rs4 = data[i]['rscore'][3][3]\n",
    "\n",
    "        # rscores = np.array([rs1,rs2,rs3,rs4])\n",
    "\n",
    "        rscores = data[i]['rscore'][3]\n",
    "\n",
    "\n",
    "        # for j in range(0, DOC_QUANTITY):\n",
    "        #   i_ms = 0\n",
    "        #   for k in range(0, NUM_SCORES):\n",
    "        #     #qa_index, doc_index, num_score_index\n",
    "        #     if k == 0:\n",
    "        #       rscore_array = np.full((LAST_LAYER_SIZE), rscores[j])\n",
    "        #       answer_d[i][j][k] = rscore_array\n",
    "        #     else:\n",
    "        #       answer_d[i][j][k] = model_scores_d[i_ms] #doc1\n",
    "        #       i_ms += 1\n",
    "\n",
    "\n",
    "        for k in range(0, NUM_SCORES):\n",
    "          # qa_index, doc_index, num_score_index\n",
    "          answer_d[i][k] = np.concatenate((model_scores_d[k], rscores), axis=None)\n",
    "\n",
    "\n",
    "        ###### CORRECT ANSWER ############\n",
    "\n",
    "        answer = data[i]['answer']\n",
    "        if answer == 'a' or answer == 'A' or answer == '1' or answer == 1:\n",
    "            a_index = 0\n",
    "        elif answer == 'b' or answer == 'B' or answer == '2' or answer == 2:\n",
    "            a_index = 1\n",
    "        elif answer == 'c' or answer == 'C' or answer == '3' or answer == 3:\n",
    "            a_index = 2\n",
    "        elif answer == 'd' or answer == 'D' or answer == '4' or answer == 4:\n",
    "            a_index = 3\n",
    "        else:\n",
    "            a_index = 5 #or random number between 0 and 3 for a,b,c,d\n",
    "\n",
    "        # labels[i][0][a_index] = 1\n",
    "        # labels[i][1][a_index] = 1\n",
    "        # labels[i][2][a_index] = 1\n",
    "        # labels[i][3][a_index] = 1\n",
    "        labels[i][a_index] = 1\n",
    "\n",
    "    return {\n",
    "          \"answer_a\": answer_a,\n",
    "          \"answer_b\": answer_b,\n",
    "          \"answer_c\": answer_c,\n",
    "          \"answer_d\": answer_d\n",
    "    }, labels\n",
    "\n",
    "# train_data_input_easy = prepare_input_data_for_4_models(NN_ARC_Easy_Train_CQA4, NN_ARC_Easy_Train_Commonqa4, NN_ARC_Easy_Train_OB4, NN_ARC_Easy_Train_Race4)\n",
    "# dev_data_input_easy = prepare_input_data_for_4_models(NN_ARC_Easy_Dev_CQA4, NN_ARC_Easy_Dev_Commonqa4, NN_ARC_Easy_Dev_OB4, NN_ARC_Easy_Dev_Race4)\n",
    "#test_data_input_easy = prepare_input_data_for_4_models(NN_ARC_Easy_Test_CQA4, NN_ARC_Easy_Test_Commonqa4, NN_ARC_Easy_Test_OB4, NN_ARC_Easy_Test_Race4)\n",
    "\n",
    "# train_data_input_challenge = prepare_input_data_for_4_models(NN_ARC_Challenge_Train_CQA4, NN_ARC_Challenge_Train_Commonqa4, NN_ARC_Challenge_Train_OB4, NN_ARC_Challenge_Train_Race4)\n",
    "# dev_data_input_challenge = prepare_input_data_for_4_models(NN_ARC_Challenge_Dev_CQA4, NN_ARC_Challenge_Dev_Commonqa4, NN_ARC_Challenge_Dev_OB4, NN_ARC_Challenge_Dev_Race4)\n",
    "test_data_input = prepare_input_data_for_4_models(NN_ARC_Challenge_Test_CQA4, NN_ARC_Challenge_Test_Commonqa4, NN_ARC_Challenge_Test_OB4, NN_ARC_Challenge_Test_Race4)\n",
    "\n",
    "def concatenate_two_sets(set1, set2):\n",
    "    answer_a = np.concatenate((set1[0]['answer_a'],set2[0]['answer_a']))\n",
    "    answer_b = np.concatenate((set1[0]['answer_b'],set2[0]['answer_b']))\n",
    "    answer_c = np.concatenate((set1[0]['answer_c'],set2[0]['answer_c']))\n",
    "    answer_d = np.concatenate((set1[0]['answer_d'],set2[0]['answer_d']))\n",
    "    labels = np.concatenate((set1[1], set2[1]))\n",
    "\n",
    "    return {'answer_a':answer_a,\n",
    "      'answer_b':answer_b,\n",
    "      'answer_c':answer_c,\n",
    "      'answer_d':answer_d\n",
    "    }, labels\n",
    "\n",
    "\n",
    "#train_data_input = concatenate_two_sets(train_data_input_easy, train_data_input_challenge)\n",
    "#dev_data_input = concatenate_two_sets(dev_data_input_easy, dev_data_input_challenge)\n",
    "#test_data_input = concatenate_two_sets(test_data_input_easy, test_data_input_challenge)\n",
    "\n",
    "#print(test_data_input[0])\n",
    "# print(train_data_input_easy[0])"
   ]
  },
  {
   "cell_type": "markdown",
   "id": "322877ef-133e-4370-8b0e-43b7ea46f514",
   "metadata": {
    "id": "omK43TlGIYSV"
   },
   "source": [
    "# Neural network setup"
   ]
  },
  {
   "cell_type": "markdown",
   "id": "e0eca9cf-cf72-4820-8ad7-54f0fe7815f5",
   "metadata": {
    "id": "hw1PSa2XDKdM"
   },
   "source": [
    "## MODEL"
   ]
  },
  {
   "cell_type": "markdown",
   "id": "02f56977-6f05-47fd-b4d6-e78ccac1ddd1",
   "metadata": {
    "id": "0b9y2ImUcgtT"
   },
   "source": [
    "### experiment arch for reshaped inputs"
   ]
  },
  {
   "cell_type": "code",
   "execution_count": 34,
   "id": "78d9841b-bf68-472d-a063-daef06d629fc",
   "metadata": {
    "id": "UrwiZIJ5ckPT"
   },
   "outputs": [],
   "source": [
    "# from arch.py\n",
    "\n",
    "model_quantitiy = 4\n",
    "\n",
    "def get_model():\n",
    "\n",
    "    if model_quantitiy == 3:\n",
    "        print(\"model_quantitiy: \" + str(model_quantitiy))\n",
    "        answer_a = Input(shape=(DOC_QUANTITY , NUM_SCORES + 1), name=\"answer_a\")\n",
    "        answer_b = Input(shape=(DOC_QUANTITY , NUM_SCORES + 1), name=\"answer_b\") \n",
    "        answer_c = Input(shape=(DOC_QUANTITY , NUM_SCORES + 1), name=\"answer_c\") \n",
    "        answer_d = Input(shape=(DOC_QUANTITY , NUM_SCORES + 1), name=\"answer_d\") \n",
    "\n",
    "    elif model_quantitiy == 4:\n",
    "        print(\"model_quantitiy: \" + str(model_quantitiy))\n",
    "        answer_a = Input(shape=(NUM_SCORES , LAST_LAYER_SIZE + 4), name=\"answer_a\") #4,5*768\n",
    "        answer_b = Input(shape=(NUM_SCORES , LAST_LAYER_SIZE + 4), name=\"answer_b\") \n",
    "        answer_c = Input(shape=(NUM_SCORES , LAST_LAYER_SIZE + 4), name=\"answer_c\") \n",
    "        answer_d = Input(shape=(NUM_SCORES , LAST_LAYER_SIZE + 4), name=\"answer_d\")    \n",
    "    else:\n",
    "        print(\"model_quantitiy: \" + str(model_quantitiy))\n",
    "        answer_a = Input(shape=(DOC_QUANTITY , NUM_SCORES), name=\"answer_a\") #4,3\n",
    "        answer_b = Input(shape=(DOC_QUANTITY , NUM_SCORES), name=\"answer_b\") \n",
    "        answer_c = Input(shape=(DOC_QUANTITY , NUM_SCORES), name=\"answer_c\") \n",
    "        answer_d = Input(shape=(DOC_QUANTITY , NUM_SCORES), name=\"answer_d\") \n",
    "    # These layers are shared for each answer.\n",
    "    # apply a layer to every temporal slice of an input\n",
    "    #  The input should be at least 3D, and the dimension of index one\n",
    "    #  will be considered to be the temporal dimension.\n",
    "    encoder_layer1 = TimeDistributed(\n",
    "                      Dense(32, activation='tanh', name=\"dense_1\"),\n",
    "                      name=\"time_distributed_1\"\n",
    "    )\n",
    "    # if model_quantitiy == 4:\n",
    "    #   dropout_layer = SpatialDropout2D(0.25, name=\"spatial_dropout_1\") \n",
    "    # else:\n",
    "    #   dropout_layer = SpatialDropout1D(0.25, name=\"spatial_dropout_1\")\n",
    "    dropout_layer = SpatialDropout1D(0.15, name=\"spatial_dropout_1\")\n",
    "\n",
    "    # implementing lstm\n",
    "    # input_dim = 3\n",
    "    # hidden_dim = 32\n",
    "    # n_layers = 100\n",
    "\n",
    "    #lstm_layer = LSTM(return_sequences=False, dropout = 0.225, units = 4) #do it in keras!!!\n",
    "    bilstm_layer = Bidirectional(LSTM(return_sequences=False, dropout = 0.275, units = 4)) #do it in keras!!! input_shape=(5,768)\n",
    "    # gru_layer = Bidirectional(GRU(return_sequences=False, dropout = 0.25, units = 4))\n",
    "    # convLSTM2d_layer = ConvLSTM2D(filters = 4, kernel_size = (5,768), return_sequences=False, dropout = 0.225)\n",
    "\n",
    "\n",
    "    # to_scalar_layer = KVAttention(\n",
    "    #                     key_size=64, value_size=8, name=\"att\",\n",
    "    #                     return_attention_scores=return_attention_scores\n",
    "    # )\n",
    "    def encode_answer(answer):\n",
    "        x = encoder_layer1(answer)\n",
    "        x = dropout_layer(x)\n",
    "        #x = lstm_layer(x)\n",
    "        x = bilstm_layer(x)\n",
    "        # x = gru_layer(x)\n",
    "        #x = convLSTM2d_layer(x)\n",
    "        #x = to_scalar_layer(x)\n",
    "        return x\n",
    "    a = encode_answer(answer_a)\n",
    "    b = encode_answer(answer_b)\n",
    "    c = encode_answer(answer_c)\n",
    "    d = encode_answer(answer_d)\n",
    "    y = Concatenate(axis=-1, name=\"concatenate_answers\")([a, b, c, d])\n",
    "    # if return_attention_scores:\n",
    "    #   output = y\n",
    "    # else:\n",
    "\n",
    "\n",
    "    y = Dense(16, activation='relu', name=\"dense_2\")(y)\n",
    "    y = Dropout(0.1, name=\"dropout_1\")(y)\n",
    "    y = Dense(16, activation='relu', name=\"dense_3\")(y)\n",
    "    y = Dropout(0.1, name=\"dropout_2\")(y)\n",
    "    y = Dense(16, activation='relu', name=\"dense_4\")(y)\n",
    "\n",
    "    output = Dense(4, activation='softmax', name=\"dense_5\")(y)\n",
    "\n",
    "    model = Model(inputs=[answer_a, answer_b, answer_c, answer_d],\n",
    "                    outputs=[output])\n",
    "\n",
    "    model.compile(loss='categorical_crossentropy',\n",
    "                optimizer=keras.optimizers.Adam(learning_rate=1e-4),\n",
    "                # optimizer = sgd,\n",
    "                # metrics = ['accuracy'])\n",
    "                metrics = ['acc'])\n",
    "    # new_model.summary()\n",
    "    # plot_model(model, to_file='model_plot.png', show_shapes=True, show_layer_names=True)\n",
    "    return model"
   ]
  },
  {
   "cell_type": "markdown",
   "id": "f0f2824e-99c7-4754-b334-a8a2387194b1",
   "metadata": {
    "id": "feQos7WM0noP"
   },
   "source": [
    "## Evaluate trained Model on Test Set"
   ]
  },
  {
   "cell_type": "markdown",
   "id": "0080eccc-5375-4d20-9bfc-342dc76a6215",
   "metadata": {
    "id": "C_1C-qsvzSAn"
   },
   "source": [
    "### fit model"
   ]
  },
  {
   "cell_type": "code",
   "execution_count": 35,
   "id": "79b6a5ba-015f-4bc3-89e6-39482fddb734",
   "metadata": {
    "colab": {
     "base_uri": "https://localhost:8080/"
    },
    "id": "5FZFMP1-0yEt",
    "outputId": "5834edc5-fd8f-4d86-eed1-deed6225fe96"
   },
   "outputs": [
    {
     "name": "stdout",
     "output_type": "stream",
     "text": [
      "model_quantitiy: 4\n",
      "Accuracy: 80.0000%\n"
     ]
    }
   ],
   "source": [
    "# eval.py\n",
    "def fit(file_name):\n",
    "    model_weights = None\n",
    "    model_weights = os.path.join('', str(file_name))  # noqa: E502\n",
    "    assert(model_weights is not None)\n",
    "\n",
    "    # easy and dev combined\n",
    "    data, labels = test_data_input\n",
    "    # LEN_DATASET_VAL = len(data['answer_a'])\n",
    "    # re_val_answer_a = data['answer_a'].reshape(LEN_DATASET_VAL, NUM_SCORES, LAST_LAYER_SIZE)\n",
    "    # re_val_answer_b = data['answer_b'].reshape(LEN_DATASET_VAL, NUM_SCORES, LAST_LAYER_SIZE)\n",
    "    # re_val_answer_c = data['answer_c'].reshape(LEN_DATASET_VAL, NUM_SCORES, LAST_LAYER_SIZE)\n",
    "    # re_val_answer_d = data['answer_d'].reshape(LEN_DATASET_VAL, NUM_SCORES, LAST_LAYER_SIZE)\n",
    "    # re_val_data = {'answer_a':re_val_answer_a,\n",
    "    #         'answer_b':re_val_answer_b,\n",
    "    #         'answer_c':re_val_answer_c,\n",
    "    #         'answer_d':re_val_answer_d\n",
    "    #       }\n",
    "\n",
    "\n",
    "\n",
    "    model = get_model()\n",
    "    model.compile(loss='categorical_crossentropy',\n",
    "                optimizer='adam',\n",
    "                metrics=['accuracy'])\n",
    "    model.load_weights(model_weights)\n",
    "    #model.summary()\n",
    "    y = model.predict(data, batch_size=24)\n",
    "\n",
    "\n",
    "    num_questions = labels.shape[0]\n",
    "    correct = 0\n",
    "    for i in range(0, num_questions):\n",
    "        expected = np.argmax(labels[i])\n",
    "        predicted = np.argmax(y[i])\n",
    "        if expected == predicted:\n",
    "            correct += 1\n",
    "\n",
    "    accuracy = 100.0 * (correct / num_questions)\n",
    "    print(\"Accuracy: {0:.4f}%\".format(100.0 * correct / num_questions))\n",
    "\n",
    "    return y,accuracy\n",
    "\n",
    "nn_predicted = fit(\"content/model/20210627-175001/model-0372-1.1408-0.5273.hdf5\")\n",
    "\n",
    "# if __name__ == \"__main__\":\n",
    "#     main()"
   ]
  },
  {
   "cell_type": "code",
   "execution_count": null,
   "id": "073001dd-3830-4de1-817b-d2a6ea437fc7",
   "metadata": {},
   "outputs": [],
   "source": []
  },
  {
   "cell_type": "code",
   "execution_count": null,
   "id": "61f137bb-6486-4de5-a4b3-684ed74601dc",
   "metadata": {},
   "outputs": [],
   "source": []
  },
  {
   "cell_type": "code",
   "execution_count": null,
   "id": "f29ce668-eebf-4121-b9e6-c5de67409eda",
   "metadata": {},
   "outputs": [],
   "source": []
  },
  {
   "cell_type": "code",
   "execution_count": 36,
   "id": "f9ffacb3-72e6-420f-a54d-81ff51b23c72",
   "metadata": {},
   "outputs": [
    {
     "name": "stdout",
     "output_type": "stream",
     "text": [
      "at least one: 1.0\n",
      "cqa: 0.8\n",
      "commonqa: 0.8\n",
      "ob: 0.0\n",
      "race: 0.7\n"
     ]
    }
   ],
   "source": [
    "# CHALLENGE\n",
    "len_set = len(NN_ARC_Challenge_Test_OB4)\n",
    "count_at_least_one_model_answered_correctly_challenge = 0\n",
    "correct_cqa_challenge = 0\n",
    "correct_commonqa_challenge = 0\n",
    "correct_ob_challenge = 0\n",
    "correct_race_challenge = 0\n",
    "check_arr = []\n",
    "\n",
    "for qa_index in range(0, len_set):\n",
    "    chosen_array_index_cqa = NN_ARC_Challenge_Test_CQA4[qa_index]['chosen_index']\n",
    "    answer_of_tm_cqa = NN_ARC_Challenge_Test_CQA4[qa_index]['chosen'][chosen_array_index_cqa]\n",
    "\n",
    "    chosen_array_index_commonqa = NN_ARC_Challenge_Test_Commonqa4[qa_index]['chosen_index']\n",
    "    answer_of_tm_commonqa = NN_ARC_Challenge_Test_Commonqa4[qa_index]['chosen'][chosen_array_index_commonqa]\n",
    "\n",
    "    chosen_array_index_ob = NN_ARC_Challenge_Test_OB4[qa_index]['chosen_index']\n",
    "    answer_of_tm_ob4 = NN_ARC_Challenge_Test_OB4[qa_index]['chosen'][chosen_array_index_ob]\n",
    "\n",
    "    chosen_array_index_race = NN_ARC_Challenge_Test_Race4[qa_index]['chosen_index']\n",
    "    answer_of_tm_race = NN_ARC_Challenge_Test_Race4[qa_index]['chosen'][chosen_array_index_race]\n",
    "    \n",
    "    answer = NN_ARC_Challenge_Test_OB4[qa_index]['answer']\n",
    "    if answer == 'a' or answer == 'A' or answer == '1' or answer == 1:\n",
    "        a_index = 0\n",
    "    elif answer == 'b' or answer == 'B' or answer == '2' or answer == 2:\n",
    "        a_index = 1\n",
    "    elif answer == 'c' or answer == 'C' or answer == '3' or answer == 3:\n",
    "        a_index = 2\n",
    "    elif answer == 'd' or answer == 'D' or answer == '4' or answer == 4:\n",
    "        a_index = 3\n",
    "    else:\n",
    "        a_index = 5 #or random number between 0 and 3 for a,b,c,d\n",
    "    \n",
    "    check_arr.append([NN_ARC_Challenge_Test_OB4[qa_index]['question'],NN_ARC_Challenge_Test_OB4[qa_index]['options'],answer,[answer_of_tm_cqa,answer_of_tm_commonqa,answer_of_tm_race,answer_of_tm_ob4]])\n",
    "    \n",
    "    if answer_of_tm_cqa == a_index:\n",
    "        correct_cqa_challenge +=1\n",
    "\n",
    "    if answer_of_tm_commonqa == a_index:\n",
    "        correct_commonqa_challenge += 1\n",
    "\n",
    "    if answer_of_tm_ob4 == a_index:\n",
    "        correct_ob_challenge += 1\n",
    "\n",
    "    if answer_of_tm_race == a_index:\n",
    "        correct_race_challenge += 1\n",
    "\n",
    "    if answer_of_tm_cqa == a_index:\n",
    "        count_at_least_one_model_answered_correctly_challenge += 1\n",
    "        continue\n",
    "    \n",
    "    if answer_of_tm_commonqa == a_index:\n",
    "        count_at_least_one_model_answered_correctly_challenge += 1\n",
    "        continue\n",
    "    \n",
    "    if answer_of_tm_ob4 == a_index:\n",
    "        count_at_least_one_model_answered_correctly_challenge += 1\n",
    "        continue\n",
    "    \n",
    "    if answer_of_tm_race == a_index:\n",
    "        count_at_least_one_model_answered_correctly_challenge += 1\n",
    "        continue\n",
    "\n",
    "\n",
    "at_least_one_correct_answer_challenge_acc = count_at_least_one_model_answered_correctly_challenge/len_set\n",
    "correct_cqa_challenge_acc = correct_cqa_challenge/len_set\n",
    "correct_commonqa_challenge_acc = correct_commonqa_challenge/len_set\n",
    "correct_ob_challenge_acc = correct_ob_challenge/len_set\n",
    "correct_race_challenge_acc = correct_race_challenge/len_set\n",
    "\n",
    "\n",
    "print('at least one: ' + str(at_least_one_correct_answer_challenge_acc))\n",
    "print('cqa: ' + str(correct_cqa_challenge_acc))\n",
    "print('commonqa: ' + str(correct_commonqa_challenge_acc))\n",
    "print('ob: ' + str(correct_ob_challenge_acc))\n",
    "print('race: ' + str(correct_race_challenge_acc))"
   ]
  },
  {
   "cell_type": "code",
   "execution_count": null,
   "id": "70ca0244-b41d-463a-b469-00e243f6d256",
   "metadata": {},
   "outputs": [],
   "source": []
  },
  {
   "cell_type": "code",
   "execution_count": null,
   "id": "79571a43-cc88-4354-a479-4d3b3cc0ebb1",
   "metadata": {},
   "outputs": [],
   "source": []
  },
  {
   "cell_type": "code",
   "execution_count": null,
   "id": "c30b5c82-3200-4456-8d4f-4942d79cbcf5",
   "metadata": {},
   "outputs": [],
   "source": []
  },
  {
   "cell_type": "code",
   "execution_count": 37,
   "id": "fa4eea1e-9f31-4e2f-8e19-047af2d52512",
   "metadata": {
    "tags": []
   },
   "outputs": [
    {
     "name": "stdout",
     "output_type": "stream",
     "text": [
      "CQA|ComQA|Race|OB\n",
      " \n",
      "Which gas do plants absorb from the atmosphere?\n",
      "['oxigen', 'nitrogen', 'carbon dioxide', 'helium']\n",
      "C\n",
      "[2, 2, 2, 0]\n",
      "What colour do you get if you mix blue and yellow paint together?\n",
      "['red', 'green', 'blue', 'yellow']\n",
      "B\n",
      "[2, 2, 1, 3]\n",
      "What is the sweet substance made by bees?\n",
      "['beeswax', 'pollen', 'propolis', 'honey']\n",
      "D\n",
      "[3, 3, 3, 2]\n",
      "What is the only metal that is liquid at room temperature?\n",
      "['mercury', 'copper', 'gold', 'silver']\n",
      "A\n",
      "[0, 0, 0, 1]\n",
      "What is the name of the largest ocean on Earth?\n",
      "['The Pacific Ocean', 'The Indian Ocean', 'The Atlantic Ocean', 'The Arctic Ocean']\n",
      "A\n",
      "[2, 0, 1, 2]\n",
      "What do you call a person who studies rocks?\n",
      "['mineralogist', 'geologist', 'vulcanologist', 'speologist']\n",
      "B\n",
      "[1, 1, 3, 0]\n",
      "What country does parmesan cheese come from?\n",
      "['Germany', 'France', 'Italy', 'Switzerland']\n",
      "C\n",
      "[2, 2, 2, 1]\n",
      "A thermometer is a device used to measure what?\n",
      "['length', 'height', 'distance', 'temperature']\n",
      "D\n",
      "[3, 3, 3, 0]\n",
      "What is the name of the part of the human skeleton which protects our brain?\n",
      "['skull', 'sternum', 'femur', 'scapula']\n",
      "A\n",
      "[0, 0, 2, 1]\n",
      "What is the name of the organ that pumps blood around the human body?\n",
      "['lungs', 'heart', 'skin', 'brain']\n",
      "B\n",
      "[1, 0, 1, 0]\n"
     ]
    }
   ],
   "source": [
    "print(\"CQA|ComQA|Race|OB\")\n",
    "print(\" \")\n",
    "for element in check_arr:\n",
    "    for sub in element:\n",
    "        print(sub)           "
   ]
  },
  {
   "cell_type": "code",
   "execution_count": null,
   "id": "05cc637a-8877-44a0-b9b6-0d4d2e1e10a9",
   "metadata": {},
   "outputs": [],
   "source": []
  },
  {
   "cell_type": "code",
   "execution_count": null,
   "id": "fe789e87-9f52-4080-9663-7fa41b16de94",
   "metadata": {},
   "outputs": [],
   "source": []
  },
  {
   "cell_type": "code",
   "execution_count": null,
   "id": "0605b3b1-83b2-49f4-926d-a1ffe24245b2",
   "metadata": {},
   "outputs": [],
   "source": []
  }
 ],
 "metadata": {
  "kernelspec": {
   "display_name": "env2hay",
   "language": "python",
   "name": "env2hay"
  },
  "language_info": {
   "codemirror_mode": {
    "name": "ipython",
    "version": 3
   },
   "file_extension": ".py",
   "mimetype": "text/x-python",
   "name": "python",
   "nbconvert_exporter": "python",
   "pygments_lexer": "ipython3",
   "version": "3.6.8"
  }
 },
 "nbformat": 4,
 "nbformat_minor": 5
}
