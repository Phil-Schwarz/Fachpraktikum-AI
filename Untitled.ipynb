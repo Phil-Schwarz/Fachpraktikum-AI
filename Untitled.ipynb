{
 "cells": [
  {
   "cell_type": "code",
   "execution_count": null,
   "id": "statutory-midnight",
   "metadata": {},
   "outputs": [],
   "source": []
  },
  {
   "cell_type": "code",
   "execution_count": null,
   "id": "growing-instrument",
   "metadata": {},
   "outputs": [],
   "source": []
  },
  {
   "cell_type": "code",
   "execution_count": null,
   "id": "thorough-hello",
   "metadata": {},
   "outputs": [
    {
     "name": "stdout",
     "output_type": "stream",
     "text": [
      "--2021-05-12 12:54:57--  http://nlp.stanford.edu/data/glove.840B.300d.zip\n",
      "Resolving nlp.stanford.edu (nlp.stanford.edu)... 171.64.67.140\n",
      "Connecting to nlp.stanford.edu (nlp.stanford.edu)|171.64.67.140|:80... connected.\n",
      "HTTP request sent, awaiting response... 302 Found\n",
      "Location: https://nlp.stanford.edu/data/glove.840B.300d.zip [following]\n",
      "--2021-05-12 12:54:58--  https://nlp.stanford.edu/data/glove.840B.300d.zip\n",
      "Connecting to nlp.stanford.edu (nlp.stanford.edu)|171.64.67.140|:443... connected.\n",
      "HTTP request sent, awaiting response... 301 Moved Permanently\n",
      "Location: http://downloads.cs.stanford.edu/nlp/data/glove.840B.300d.zip [following]\n",
      "--2021-05-12 12:54:58--  http://downloads.cs.stanford.edu/nlp/data/glove.840B.300d.zip\n",
      "Resolving downloads.cs.stanford.edu (downloads.cs.stanford.edu)... 171.64.64.22\n",
      "Connecting to downloads.cs.stanford.edu (downloads.cs.stanford.edu)|171.64.64.22|:80... connected.\n",
      "HTTP request sent, awaiting response... 200 OK\n",
      "Length: 2176768927 (2.0G) [application/zip]\n",
      "Saving to: 'glove.840B.300d.zip'\n",
      "\n",
      "glove.840B.300d.zip 100%[===================>]   2.03G  5.13MB/s    in 6m 53s  \n",
      "\n",
      "2021-05-12 13:01:52 (5.02 MB/s) - 'glove.840B.300d.zip' saved [2176768927/2176768927]\n",
      "\n",
      "Archive:  glove.840B.300d.zip\n",
      "  inflating: glove.840B.300d.txt     \n"
     ]
    }
   ],
   "source": [
    "!EMBEDDINGS_DIR=data/glove\n",
    "\n",
    "!wget -O glove.840B.300d.zip http://nlp.stanford.edu/data/glove.840B.300d.zip\n",
    "\n",
    "!unzip glove.840B.300d.zip && gzip glove.840B.300d.txt\n",
    "\n",
    "!mkdir -p ${EMBEDDINGS_DIR}\n",
    "!mv glove.840B.300d.txt.gz ${EMBEDDINGS_DIR}/glove.840B.300d.txt.gz"
   ]
  },
  {
   "cell_type": "code",
   "execution_count": null,
   "id": "guilty-passage",
   "metadata": {},
   "outputs": [],
   "source": []
  },
  {
   "cell_type": "code",
   "execution_count": null,
   "id": "sporting-joshua",
   "metadata": {},
   "outputs": [],
   "source": []
  },
  {
   "cell_type": "code",
   "execution_count": null,
   "id": "surface-display",
   "metadata": {},
   "outputs": [],
   "source": []
  },
  {
   "cell_type": "code",
   "execution_count": 7,
   "id": "bigger-southeast",
   "metadata": {},
   "outputs": [
    {
     "name": "stdout",
     "output_type": "stream",
     "text": [
      "Defaulting to user installation because normal site-packages is not writeable\n",
      "Requirement already satisfied: elasticsearch in ./.local/lib/python3.6/site-packages (7.12.1)\n",
      "Requirement already satisfied: certifi in /pfs/data5/software_uc2/bwhpc/common/jupyter/tensorflow/lib/python3.6/site-packages (from elasticsearch) (2020.12.5)\n",
      "Requirement already satisfied: urllib3<2,>=1.21.1 in /pfs/data5/software_uc2/bwhpc/common/jupyter/tensorflow/lib/python3.6/site-packages (from elasticsearch) (1.26.3)\n",
      "\u001b[33mWARNING: You are using pip version 21.0.1; however, version 21.1.1 is available.\n",
      "You should consider upgrading via the '/pfs/data5/software_uc2/bwhpc/common/jupyter/tensorflow/bin/python -m pip install --upgrade pip' command.\u001b[0m\n"
     ]
    }
   ],
   "source": [
    "# Setup\n",
    "import sys\n",
    "#!{sys.executable} -m pip install -q wordcloud\n",
    "#!{sys.executable} -m pip install -U sentence-transformers\n",
    "#!{sys.executable} -m pip install annoy\n",
    "!{sys.executable} -m pip install elasticsearch\n",
    "#!{sys.executable} -m pip install pytorch\n",
    "\n",
    "#import wordcloud\n",
    "\n",
    "#import nltk\n",
    "#nltk.download('stopwords')\n",
    "#nltk.download('wordnet')\n",
    "#nltk.download('punkt')\n",
    "#nltk.download('averaged_perceptron_tagger') \n",
    "\n",
    "import pandas as pd\n",
    "import matplotlib.pyplot as plt\n",
    "import io\n",
    "import unicodedata\n",
    "import numpy as np\n",
    "import re\n",
    "import string\n",
    "\n",
    "import csv\n",
    "from sklearn.feature_extraction.text import TfidfVectorizer\n",
    "from sklearn.naive_bayes import MultinomialNB\n",
    "from sklearn.model_selection import train_test_split\n",
    "                 \n",
    "import pickle\n",
    "#from sentence_transformers import SentenceTransformer\n",
    "\n",
    "#from annoy import AnnoyIndex\n",
    "\n",
    "import json\n",
    "\n",
    "from six import string_types\n",
    "\n",
    "import tqdm"
   ]
  },
  {
   "cell_type": "code",
   "execution_count": 9,
   "id": "tested-sixth",
   "metadata": {},
   "outputs": [
    {
     "ename": "ModuleNotFoundError",
     "evalue": "No module named 'elasticsearch'",
     "output_type": "error",
     "traceback": [
      "\u001b[0;31m---------------------------------------------------------------------------\u001b[0m",
      "\u001b[0;31mModuleNotFoundError\u001b[0m                       Traceback (most recent call last)",
      "\u001b[0;32m<ipython-input-9-6be29892466b>\u001b[0m in \u001b[0;36m<module>\u001b[0;34m\u001b[0m\n\u001b[0;32m----> 1\u001b[0;31m \u001b[0;32mimport\u001b[0m \u001b[0margparse\u001b[0m\u001b[0;34m,\u001b[0m \u001b[0melasticsearch\u001b[0m\u001b[0;34m,\u001b[0m \u001b[0mjson\u001b[0m\u001b[0;34m\u001b[0m\u001b[0;34m\u001b[0m\u001b[0m\n\u001b[0m\u001b[1;32m      2\u001b[0m \u001b[0;32mfrom\u001b[0m \u001b[0melasticsearch\u001b[0m \u001b[0;32mimport\u001b[0m \u001b[0mElasticsearch\u001b[0m\u001b[0;34m\u001b[0m\u001b[0;34m\u001b[0m\u001b[0m\n\u001b[1;32m      3\u001b[0m \u001b[0;32mfrom\u001b[0m \u001b[0melasticsearch\u001b[0m\u001b[0;34m.\u001b[0m\u001b[0mhelpers\u001b[0m \u001b[0;32mimport\u001b[0m \u001b[0mbulk\u001b[0m\u001b[0;34m\u001b[0m\u001b[0;34m\u001b[0m\u001b[0m\n",
      "\u001b[0;31mModuleNotFoundError\u001b[0m: No module named 'elasticsearch'"
     ]
    }
   ],
   "source": [
    "import argparse, elasticsearch, json\n",
    "from elasticsearch import Elasticsearch\n",
    "from elasticsearch.helpers import bulk"
   ]
  },
  {
   "cell_type": "code",
   "execution_count": 1,
   "id": "shaped-syracuse",
   "metadata": {},
   "outputs": [
    {
     "name": "stdout",
     "output_type": "stream",
     "text": [
      "Defaulting to user installation because normal site-packages is not writeable\n",
      "Collecting elasticsearch\n",
      "  Downloading elasticsearch-7.12.1-py2.py3-none-any.whl (339 kB)\n",
      "\u001b[K     |████████████████████████████████| 339 kB 6.4 MB/s eta 0:00:01\n",
      "\u001b[?25hRequirement already satisfied: certifi in /pfs/data5/software_uc2/bwhpc/common/jupyter/base/lib/python3.6/site-packages (from elasticsearch) (2020.12.5)\n",
      "Requirement already satisfied: urllib3<2,>=1.21.1 in /pfs/data5/software_uc2/bwhpc/common/jupyter/base/lib/python3.6/site-packages (from elasticsearch) (1.26.3)\n",
      "Installing collected packages: elasticsearch\n",
      "Successfully installed elasticsearch\n",
      "\u001b[33mWARNING: You are using pip version 21.0.1; however, version 21.1.1 is available.\n",
      "You should consider upgrading via the '/pfs/data5/software_uc2/bwhpc/common/jupyter/base/bin/python -m pip install --upgrade pip' command.\u001b[0m\n",
      "Note: you may need to restart the kernel to use updated packages.\n"
     ]
    }
   ],
   "source": [
    "%pip install elasticsearch"
   ]
  },
  {
   "cell_type": "code",
   "execution_count": 2,
   "id": "liberal-botswana",
   "metadata": {},
   "outputs": [],
   "source": [
    "import elasticsearch "
   ]
  },
  {
   "cell_type": "code",
   "execution_count": 5,
   "id": "southeast-folder",
   "metadata": {},
   "outputs": [
    {
     "name": "stdout",
     "output_type": "stream",
     "text": [
      "Defaulting to user installation because normal site-packages is not writeable\n",
      "Collecting farm-haystack\n",
      "  Using cached farm_haystack-0.8.0-py3-none-any.whl\n",
      "Collecting tika\n",
      "  Using cached tika-1.24-py3-none-any.whl\n",
      "Collecting elastic-apm\n",
      "  Using cached elastic_apm-6.1.3-cp36-cp36m-manylinux2010_x86_64.whl (324 kB)\n",
      "Collecting python-multipart\n",
      "  Using cached python_multipart-0.0.5-py3-none-any.whl\n",
      "Collecting httptools\n",
      "  Using cached httptools-0.2.0-cp36-cp36m-manylinux1_x86_64.whl (343 kB)\n",
      "Collecting fastapi\n",
      "  Using cached fastapi-0.65.1-py3-none-any.whl (50 kB)\n",
      "Collecting pymilvus\n",
      "  Using cached pymilvus-1.1.0-py3-none-any.whl (56 kB)\n",
      "Collecting faiss-cpu>=1.6.3\n",
      "  Using cached faiss_cpu-1.7.0-cp36-cp36m-manylinux2014_x86_64.whl (8.1 MB)\n",
      "Collecting elasticsearch<=7.10,>=7.7\n",
      "  Using cached elasticsearch-7.10.0-py2.py3-none-any.whl (321 kB)\n",
      "Collecting uvicorn\n",
      "  Using cached uvicorn-0.13.4-py3-none-any.whl (46 kB)\n",
      "Collecting sklearn\n",
      "  Using cached sklearn-0.0-py2.py3-none-any.whl\n",
      "Collecting more-itertools\n",
      "  Using cached more_itertools-8.7.0-py3-none-any.whl (48 kB)\n",
      "Collecting psycopg2-binary\n",
      "  Using cached psycopg2_binary-2.8.6-cp36-cp36m-manylinux1_x86_64.whl (3.0 MB)\n",
      "Collecting farm==0.7.1\n",
      "  Using cached farm-0.7.1-py3-none-any.whl (203 kB)\n",
      "Collecting python-docx\n",
      "  Using cached python_docx-0.8.10-py3-none-any.whl\n",
      "Collecting nltk\n",
      "  Using cached nltk-3.6.2-py3-none-any.whl (1.5 MB)\n",
      "Collecting langdetect\n",
      "  Using cached langdetect-1.0.9-py3-none-any.whl\n",
      "Requirement already satisfied: coverage in /usr/lib64/python3.6/site-packages (from farm-haystack) (4.5.1)\n",
      "Collecting uvloop==0.14\n",
      "  Using cached uvloop-0.14.0-cp36-cp36m-manylinux2010_x86_64.whl (3.9 MB)\n",
      "Collecting networkx\n",
      "  Using cached networkx-2.5.1-py3-none-any.whl (1.6 MB)\n",
      "Collecting SPARQLWrapper\n",
      "  Using cached SPARQLWrapper-1.8.5-py3-none-any.whl (26 kB)\n",
      "Collecting gunicorn\n",
      "  Using cached gunicorn-20.1.0-py3-none-any.whl (79 kB)\n",
      "Requirement already satisfied: pandas in /pfs/data5/software_uc2/bwhpc/common/jupyter/tensorflow/lib/python3.6/site-packages (from farm-haystack) (1.1.5)\n",
      "Collecting sqlalchemy-utils\n",
      "  Using cached SQLAlchemy_Utils-0.37.2-py3-none-any.whl (99 kB)\n",
      "Collecting tox\n",
      "  Using cached tox-3.23.1-py2.py3-none-any.whl (85 kB)\n",
      "Collecting sqlalchemy>=1.4.2\n",
      "  Using cached SQLAlchemy-1.4.15-cp36-cp36m-manylinux_2_5_x86_64.manylinux1_x86_64.manylinux_2_17_x86_64.manylinux2014_x86_64.whl (1.5 MB)\n",
      "Collecting flask-cors\n",
      "  Using cached Flask_Cors-3.0.10-py2.py3-none-any.whl (14 kB)\n",
      "Requirement already satisfied: psutil in /pfs/data5/software_uc2/bwhpc/common/jupyter/tensorflow/lib/python3.6/site-packages (from farm==0.7.1->farm-haystack) (5.8.0)\n",
      "Collecting sentencepiece\n",
      "  Using cached sentencepiece-0.1.95-cp36-cp36m-manylinux2014_x86_64.whl (1.2 MB)\n",
      "Requirement already satisfied: torch<1.8,>1.5 in /pfs/data5/software_uc2/bwhpc/common/jupyter/tensorflow/lib/python3.6/site-packages (from farm==0.7.1->farm-haystack) (1.7.1)\n",
      "Collecting seqeval\n",
      "  Using cached seqeval-1.2.2-py3-none-any.whl\n",
      "Collecting flask\n",
      "  Using cached Flask-2.0.0-py3-none-any.whl (93 kB)\n",
      "Requirement already satisfied: scipy>=1.3.2 in /pfs/data5/software_uc2/bwhpc/common/jupyter/tensorflow/lib/python3.6/site-packages (from farm==0.7.1->farm-haystack) (1.5.4)\n",
      "Collecting transformers==4.1.1\n",
      "  Using cached transformers-4.1.1-py3-none-any.whl (1.5 MB)\n",
      "Requirement already satisfied: setuptools in /pfs/data5/software_uc2/bwhpc/common/jupyter/tensorflow/lib/python3.6/site-packages (from farm==0.7.1->farm-haystack) (52.0.0)\n",
      "Collecting mlflow<=1.13.1\n",
      "  Using cached mlflow-1.13.1-py3-none-any.whl (14.1 MB)\n",
      "Collecting Werkzeug==0.16.1\n",
      "  Using cached Werkzeug-0.16.1-py2.py3-none-any.whl (327 kB)\n",
      "Collecting flask-restplus\n",
      "  Using cached flask_restplus-0.13.0-py2.py3-none-any.whl (2.5 MB)\n",
      "Collecting dotmap\n",
      "  Using cached dotmap-1.3.23-py3-none-any.whl (10 kB)\n",
      "Requirement already satisfied: wheel in /pfs/data5/software_uc2/bwhpc/common/jupyter/tensorflow/lib/python3.6/site-packages (from farm==0.7.1->farm-haystack) (0.36.2)\n",
      "Requirement already satisfied: requests in /pfs/data5/software_uc2/bwhpc/common/jupyter/tensorflow/lib/python3.6/site-packages (from farm==0.7.1->farm-haystack) (2.25.1)\n",
      "Collecting boto3\n",
      "  Using cached boto3-1.17.71-py2.py3-none-any.whl (131 kB)\n",
      "Collecting dill\n",
      "  Using cached dill-0.3.3-py2.py3-none-any.whl (81 kB)\n",
      "Requirement already satisfied: tqdm in /pfs/data5/software_uc2/bwhpc/common/jupyter/tensorflow/lib/python3.6/site-packages (from farm==0.7.1->farm-haystack) (4.56.0)\n",
      "Collecting sacremoses\n",
      "  Using cached sacremoses-0.0.45-py3-none-any.whl (895 kB)\n",
      "Collecting regex!=2019.12.17\n",
      "  Using cached regex-2021.4.4-cp36-cp36m-manylinux2014_x86_64.whl (722 kB)\n",
      "Requirement already satisfied: dataclasses in /pfs/data5/software_uc2/bwhpc/common/jupyter/tensorflow/lib/python3.6/site-packages (from transformers==4.1.1->farm==0.7.1->farm-haystack) (0.8)\n",
      "Requirement already satisfied: numpy in /pfs/data5/software_uc2/bwhpc/common/jupyter/tensorflow/lib/python3.6/site-packages (from transformers==4.1.1->farm==0.7.1->farm-haystack) (1.19.5)\n",
      "Collecting tokenizers==0.9.4\n",
      "  Using cached tokenizers-0.9.4-cp36-cp36m-manylinux2010_x86_64.whl (2.9 MB)\n",
      "Requirement already satisfied: packaging in /pfs/data5/software_uc2/bwhpc/common/jupyter/tensorflow/lib/python3.6/site-packages (from transformers==4.1.1->farm==0.7.1->farm-haystack) (20.9)\n",
      "Collecting filelock\n",
      "  Using cached filelock-3.0.12-py3-none-any.whl (7.6 kB)\n",
      "Requirement already satisfied: certifi in /pfs/data5/software_uc2/bwhpc/common/jupyter/tensorflow/lib/python3.6/site-packages (from elasticsearch<=7.10,>=7.7->farm-haystack) (2020.12.5)\n",
      "Requirement already satisfied: urllib3<2,>=1.21.1 in /pfs/data5/software_uc2/bwhpc/common/jupyter/tensorflow/lib/python3.6/site-packages (from elasticsearch<=7.10,>=7.7->farm-haystack) (1.26.3)\n",
      "Requirement already satisfied: click>=7.0 in /pfs/data5/software_uc2/bwhpc/common/jupyter/tensorflow/lib/python3.6/site-packages (from mlflow<=1.13.1->farm==0.7.1->farm-haystack) (7.1.2)\n",
      "Requirement already satisfied: six>=1.10.0 in /pfs/data5/software_uc2/bwhpc/common/jupyter/tensorflow/lib/python3.6/site-packages (from mlflow<=1.13.1->farm==0.7.1->farm-haystack) (1.15.0)\n",
      "Collecting querystring-parser\n",
      "  Using cached querystring_parser-1.2.4-py2.py3-none-any.whl (7.9 kB)\n",
      "Collecting gitpython>=2.1.0\n",
      "  Using cached GitPython-3.1.14-py3-none-any.whl (159 kB)\n",
      "Collecting docker>=4.0.0\n",
      "  Using cached docker-5.0.0-py2.py3-none-any.whl (146 kB)\n",
      "Collecting databricks-cli>=0.8.7\n",
      "  Using cached databricks_cli-0.14.3-py3-none-any.whl\n",
      "Requirement already satisfied: cloudpickle in /pfs/data5/software_uc2/bwhpc/common/jupyter/tensorflow/lib/python3.6/site-packages (from mlflow<=1.13.1->farm==0.7.1->farm-haystack) (1.6.0)\n",
      "Requirement already satisfied: protobuf>=3.6.0 in /pfs/data5/software_uc2/bwhpc/common/jupyter/tensorflow/lib/python3.6/site-packages (from mlflow<=1.13.1->farm==0.7.1->farm-haystack) (3.14.0)\n",
      "Requirement already satisfied: pyyaml in /pfs/data5/software_uc2/bwhpc/common/jupyter/tensorflow/lib/python3.6/site-packages (from mlflow<=1.13.1->farm==0.7.1->farm-haystack) (5.4.1)\n",
      "Collecting alembic<=1.4.1\n",
      "  Using cached alembic-1.4.1-py2.py3-none-any.whl\n",
      "Collecting azure-storage-blob>=12.0.0\n",
      "  Using cached azure_storage_blob-12.8.1-py2.py3-none-any.whl (345 kB)\n",
      "Requirement already satisfied: python-dateutil in /pfs/data5/software_uc2/bwhpc/common/jupyter/tensorflow/lib/python3.6/site-packages (from mlflow<=1.13.1->farm==0.7.1->farm-haystack) (2.8.1)\n",
      "Collecting sqlparse>=0.3.1\n",
      "  Using cached sqlparse-0.4.1-py3-none-any.whl (42 kB)\n",
      "Collecting prometheus-flask-exporter\n",
      "  Using cached prometheus_flask_exporter-0.18.2-py3-none-any.whl\n",
      "Requirement already satisfied: entrypoints in /pfs/data5/software_uc2/bwhpc/common/jupyter/tensorflow/lib/python3.6/site-packages (from mlflow<=1.13.1->farm==0.7.1->farm-haystack) (0.3)\n",
      "Requirement already satisfied: Mako in /pfs/data5/software_uc2/bwhpc/common/jupyter/tensorflow/lib/python3.6/site-packages (from alembic<=1.4.1->mlflow<=1.13.1->farm==0.7.1->farm-haystack) (1.1.4)\n",
      "Requirement already satisfied: python-editor>=0.3 in /pfs/data5/software_uc2/bwhpc/common/jupyter/tensorflow/lib/python3.6/site-packages (from alembic<=1.4.1->mlflow<=1.13.1->farm==0.7.1->farm-haystack) (1.0.4)\n",
      "Collecting azure-core<2.0.0,>=1.10.0\n",
      "  Using cached azure_core-1.13.0-py2.py3-none-any.whl (133 kB)\n",
      "Requirement already satisfied: cryptography>=2.1.4 in /pfs/data5/software_uc2/bwhpc/common/jupyter/tensorflow/lib/python3.6/site-packages (from azure-storage-blob>=12.0.0->mlflow<=1.13.1->farm==0.7.1->farm-haystack) (3.3.1)\n",
      "Collecting msrest>=0.6.18\n",
      "  Using cached msrest-0.6.21-py2.py3-none-any.whl (85 kB)\n",
      "Requirement already satisfied: cffi>=1.12 in /pfs/data5/software_uc2/bwhpc/common/jupyter/tensorflow/lib/python3.6/site-packages (from cryptography>=2.1.4->azure-storage-blob>=12.0.0->mlflow<=1.13.1->farm==0.7.1->farm-haystack) (1.14.4)\n",
      "Requirement already satisfied: pycparser in /pfs/data5/software_uc2/bwhpc/common/jupyter/tensorflow/lib/python3.6/site-packages (from cffi>=1.12->cryptography>=2.1.4->azure-storage-blob>=12.0.0->mlflow<=1.13.1->farm==0.7.1->farm-haystack) (2.20)\n",
      "Collecting tabulate>=0.7.7\n",
      "  Using cached tabulate-0.8.9-py3-none-any.whl (25 kB)\n",
      "Collecting websocket-client>=0.32.0\n",
      "  Using cached websocket_client-0.59.0-py2.py3-none-any.whl (67 kB)\n",
      "Collecting gitdb<5,>=4.0.1\n",
      "  Using cached gitdb-4.0.7-py3-none-any.whl (63 kB)\n",
      "Collecting smmap<5,>=3.0.1\n",
      "  Using cached smmap-4.0.0-py2.py3-none-any.whl (24 kB)\n",
      "Collecting isodate>=0.6.0\n",
      "  Using cached isodate-0.6.0-py2.py3-none-any.whl (45 kB)\n",
      "Requirement already satisfied: requests-oauthlib>=0.5.0 in /pfs/data5/software_uc2/bwhpc/common/jupyter/tensorflow/lib/python3.6/site-packages (from msrest>=0.6.18->azure-storage-blob>=12.0.0->mlflow<=1.13.1->farm==0.7.1->farm-haystack) (1.3.0)\n",
      "Requirement already satisfied: chardet<5,>=3.0.2 in /pfs/data5/software_uc2/bwhpc/common/jupyter/tensorflow/lib/python3.6/site-packages (from requests->farm==0.7.1->farm-haystack) (3.0.4)\n",
      "Requirement already satisfied: idna<3,>=2.5 in /pfs/data5/software_uc2/bwhpc/common/jupyter/tensorflow/lib/python3.6/site-packages (from requests->farm==0.7.1->farm-haystack) (2.10)\n",
      "Requirement already satisfied: oauthlib>=3.0.0 in /pfs/data5/software_uc2/bwhpc/common/jupyter/tensorflow/lib/python3.6/site-packages (from requests-oauthlib>=0.5.0->msrest>=0.6.18->azure-storage-blob>=12.0.0->mlflow<=1.13.1->farm==0.7.1->farm-haystack) (3.1.0)\n",
      "Collecting greenlet!=0.4.17\n",
      "  Using cached greenlet-1.1.0-cp36-cp36m-manylinux_2_17_x86_64.manylinux2014_x86_64.whl (155 kB)\n",
      "Requirement already satisfied: importlib-metadata in /pfs/data5/software_uc2/bwhpc/common/jupyter/tensorflow/lib/python3.6/site-packages (from sqlalchemy>=1.4.2->farm-haystack) (3.4.0)\n",
      "Requirement already satisfied: typing-extensions in /pfs/data5/software_uc2/bwhpc/common/jupyter/tensorflow/lib/python3.6/site-packages (from torch<1.8,>1.5->farm==0.7.1->farm-haystack) (3.7.4.3)\n",
      "Collecting botocore<1.21.0,>=1.20.71\n",
      "  Using cached botocore-1.20.71-py2.py3-none-any.whl (7.5 MB)\n",
      "Collecting jmespath<1.0.0,>=0.7.1\n",
      "  Using cached jmespath-0.10.0-py2.py3-none-any.whl (24 kB)\n",
      "Collecting s3transfer<0.5.0,>=0.4.0\n",
      "  Using cached s3transfer-0.4.2-py2.py3-none-any.whl (79 kB)\n",
      "Collecting starlette==0.14.2\n",
      "  Using cached starlette-0.14.2-py3-none-any.whl (60 kB)\n",
      "Collecting pydantic!=1.7,!=1.7.1,!=1.7.2,!=1.7.3,!=1.8,!=1.8.1,<2.0.0,>=1.6.2\n",
      "  Using cached pydantic-1.8.2-cp36-cp36m-manylinux2014_x86_64.whl (10.2 MB)\n",
      "Collecting Jinja2>=3.0\n",
      "  Using cached Jinja2-3.0.0-py3-none-any.whl (133 kB)\n",
      "Collecting itsdangerous>=2.0\n",
      "  Using cached itsdangerous-2.0.0-py3-none-any.whl (18 kB)\n",
      "Collecting flask\n",
      "  Using cached Flask-1.1.2-py2.py3-none-any.whl (94 kB)\n",
      "Requirement already satisfied: Jinja2>=2.10.1 in /pfs/data5/software_uc2/bwhpc/common/jupyter/tensorflow/lib/python3.6/site-packages (from flask->farm==0.7.1->farm-haystack) (2.11.3)\n",
      "Requirement already satisfied: MarkupSafe>=0.23 in /pfs/data5/software_uc2/bwhpc/common/jupyter/tensorflow/lib/python3.6/site-packages (from Jinja2>=2.10.1->flask->farm==0.7.1->farm-haystack) (1.1.1)\n",
      "Collecting aniso8601>=0.82\n",
      "  Using cached aniso8601-9.0.1-py2.py3-none-any.whl (52 kB)\n",
      "Requirement already satisfied: jsonschema in /pfs/data5/software_uc2/bwhpc/common/jupyter/tensorflow/lib/python3.6/site-packages (from flask-restplus->farm==0.7.1->farm-haystack) (3.2.0)\n",
      "Requirement already satisfied: pytz in /pfs/data5/software_uc2/bwhpc/common/jupyter/tensorflow/lib/python3.6/site-packages (from flask-restplus->farm==0.7.1->farm-haystack) (2021.1)\n",
      "Requirement already satisfied: zipp>=0.5 in /pfs/data5/software_uc2/bwhpc/common/jupyter/tensorflow/lib/python3.6/site-packages (from importlib-metadata->sqlalchemy>=1.4.2->farm-haystack) (3.4.0)\n",
      "Requirement already satisfied: attrs>=17.4.0 in /pfs/data5/software_uc2/bwhpc/common/jupyter/tensorflow/lib/python3.6/site-packages (from jsonschema->flask-restplus->farm==0.7.1->farm-haystack) (20.3.0)\n",
      "Requirement already satisfied: pyrsistent>=0.14.0 in /pfs/data5/software_uc2/bwhpc/common/jupyter/tensorflow/lib/python3.6/site-packages (from jsonschema->flask-restplus->farm==0.7.1->farm-haystack) (0.17.3)\n",
      "Requirement already satisfied: decorator<5,>=4.3 in /pfs/data5/software_uc2/bwhpc/common/jupyter/tensorflow/lib/python3.6/site-packages (from networkx->farm-haystack) (4.4.2)\n",
      "Requirement already satisfied: joblib in /pfs/data5/software_uc2/bwhpc/common/jupyter/tensorflow/lib/python3.6/site-packages (from nltk->farm-haystack) (1.0.0)\n",
      "Requirement already satisfied: pyparsing>=2.0.2 in /pfs/data5/software_uc2/bwhpc/common/jupyter/tensorflow/lib/python3.6/site-packages (from packaging->transformers==4.1.1->farm==0.7.1->farm-haystack) (2.4.7)\n",
      "Requirement already satisfied: prometheus-client in /pfs/data5/software_uc2/bwhpc/common/jupyter/tensorflow/lib/python3.6/site-packages (from prometheus-flask-exporter->mlflow<=1.13.1->farm==0.7.1->farm-haystack) (0.9.0)\n",
      "Requirement already satisfied: grpcio>=1.22.0 in /pfs/data5/software_uc2/bwhpc/common/jupyter/tensorflow/lib/python3.6/site-packages (from pymilvus->farm-haystack) (1.32.0)\n",
      "Collecting grpcio-tools>=1.22.0\n",
      "  Using cached grpcio_tools-1.37.1-cp36-cp36m-manylinux2014_x86_64.whl (2.5 MB)\n",
      "Collecting ujson>=2.0.0\n",
      "  Using cached ujson-4.0.2-cp36-cp36m-manylinux1_x86_64.whl (179 kB)\n",
      "Collecting grpcio>=1.22.0\n",
      "  Using cached grpcio-1.37.1-cp36-cp36m-manylinux2014_x86_64.whl (4.2 MB)\n",
      "Collecting lxml>=2.3.2\n",
      "  Using cached lxml-4.6.3-cp36-cp36m-manylinux2014_x86_64.whl (6.3 MB)\n",
      "Requirement already satisfied: scikit-learn>=0.21.3 in /pfs/data5/software_uc2/bwhpc/common/jupyter/tensorflow/lib/python3.6/site-packages (from seqeval->farm==0.7.1->farm-haystack) (0.24.1)\n",
      "Requirement already satisfied: threadpoolctl>=2.0.0 in /pfs/data5/software_uc2/bwhpc/common/jupyter/tensorflow/lib/python3.6/site-packages (from scikit-learn>=0.21.3->seqeval->farm==0.7.1->farm-haystack) (2.1.0)\n",
      "Collecting rdflib>=4.0\n",
      "  Using cached rdflib-5.0.0-py3-none-any.whl (231 kB)\n",
      "Collecting toml>=0.9.4\n",
      "  Using cached toml-0.10.2-py2.py3-none-any.whl (16 kB)\n",
      "Collecting virtualenv!=20.0.0,!=20.0.1,!=20.0.2,!=20.0.3,!=20.0.4,!=20.0.5,!=20.0.6,!=20.0.7,>=16.0.0\n",
      "  Using cached virtualenv-20.4.6-py2.py3-none-any.whl (7.2 MB)\n",
      "Collecting py>=1.4.17\n",
      "  Using cached py-1.10.0-py2.py3-none-any.whl (97 kB)\n",
      "Collecting pluggy>=0.12.0\n",
      "  Using cached pluggy-0.13.1-py2.py3-none-any.whl (18 kB)\n",
      "Collecting distlib<1,>=0.3.1\n",
      "  Using cached distlib-0.3.1-py2.py3-none-any.whl (335 kB)\n",
      "Collecting appdirs<2,>=1.4.3\n",
      "  Using cached appdirs-1.4.4-py2.py3-none-any.whl (9.6 kB)\n",
      "Collecting importlib-resources>=1.0\n",
      "  Using cached importlib_resources-5.1.2-py3-none-any.whl (25 kB)\n",
      "Collecting h11>=0.8\n",
      "  Using cached h11-0.12.0-py3-none-any.whl (54 kB)\n",
      "\u001b[31mERROR: Will not install to the user site because it will lack sys.path precedence to Werkzeug in /pfs/data5/software_uc2/bwhpc/common/jupyter/tensorflow/lib/python3.6/site-packages\u001b[0m\n",
      "\u001b[33mWARNING: You are using pip version 21.0.1; however, version 21.1.1 is available.\n",
      "You should consider upgrading via the '/pfs/data5/software_uc2/bwhpc/common/jupyter/tensorflow/bin/python -m pip install --upgrade pip' command.\u001b[0m\n",
      "Note: you may need to restart the kernel to use updated packages.\n"
     ]
    }
   ],
   "source": [
    "%pip install farm-haystack"
   ]
  },
  {
   "cell_type": "code",
   "execution_count": 5,
   "id": "separated-parent",
   "metadata": {},
   "outputs": [
    {
     "name": "stdout",
     "output_type": "stream",
     "text": [
      "Collecting tokenizers\n",
      "  Using cached tokenizers-0.10.2-cp36-cp36m-manylinux2010_x86_64.whl (3.3 MB)\n",
      "Installing collected packages: tokenizers\n",
      "\u001b[31mERROR: pip's dependency resolver does not currently take into account all the packages that are installed. This behaviour is the source of the following dependency conflicts.\n",
      "farm 0.7.1 requires torch<1.8,>1.5, but you have torch 1.8.1 which is incompatible.\n",
      "farm 0.7.1 requires transformers==4.1.1, but you have transformers 4.5.1 which is incompatible.\n",
      "farm 0.7.1 requires Werkzeug==0.16.1, but you have werkzeug 2.0.0 which is incompatible.\n",
      "farm-haystack 0.8.0 requires elasticsearch<=7.10,>=7.7, but you have elasticsearch 7.12.1 which is incompatible.\n",
      "farm-haystack 0.8.0 requires sqlalchemy>=1.4.2, but you have sqlalchemy 1.3.22 which is incompatible.\u001b[0m\n",
      "Successfully installed tokenizers-0.10.2\n",
      "\u001b[33mWARNING: You are using pip version 21.0.1; however, version 21.1.1 is available.\n",
      "You should consider upgrading via the '/pfs/data5/software_uc2/bwhpc/common/jupyter/tensorflow/bin/python -m pip install --upgrade pip' command.\u001b[0m\n",
      "Note: you may need to restart the kernel to use updated packages.\n"
     ]
    }
   ],
   "source": [
    "%pip install --prefix=./.local tokenizers"
   ]
  },
  {
   "cell_type": "code",
   "execution_count": 3,
   "id": "suffering-tunnel",
   "metadata": {},
   "outputs": [
    {
     "ename": "ModuleNotFoundError",
     "evalue": "No module named 'tokenizers'",
     "output_type": "error",
     "traceback": [
      "\u001b[0;31m---------------------------------------------------------------------------\u001b[0m",
      "\u001b[0;31mModuleNotFoundError\u001b[0m                       Traceback (most recent call last)",
      "\u001b[0;32m<ipython-input-3-7d3a455cb7a9>\u001b[0m in \u001b[0;36m<module>\u001b[0;34m\u001b[0m\n\u001b[0;32m----> 1\u001b[0;31m \u001b[0;32mimport\u001b[0m \u001b[0mtokenizers\u001b[0m\u001b[0;34m\u001b[0m\u001b[0;34m\u001b[0m\u001b[0m\n\u001b[0m",
      "\u001b[0;31mModuleNotFoundError\u001b[0m: No module named 'tokenizers'"
     ]
    }
   ],
   "source": [
    "import tokenizers"
   ]
  },
  {
   "cell_type": "code",
   "execution_count": 5,
   "id": "interstate-nigeria",
   "metadata": {},
   "outputs": [
    {
     "ename": "ModuleNotFoundError",
     "evalue": "No module named 'tokenizers'",
     "output_type": "error",
     "traceback": [
      "\u001b[0;31m---------------------------------------------------------------------------\u001b[0m",
      "\u001b[0;31mModuleNotFoundError\u001b[0m                       Traceback (most recent call last)",
      "\u001b[0;32m<ipython-input-5-7d633c6c0c74>\u001b[0m in \u001b[0;36m<module>\u001b[0;34m\u001b[0m\n\u001b[0;32m----> 1\u001b[0;31m \u001b[0;32mimport\u001b[0m \u001b[0mhaystack\u001b[0m\u001b[0;34m\u001b[0m\u001b[0;34m\u001b[0m\u001b[0m\n\u001b[0m",
      "\u001b[0;32m~/.local/lib/python3.6/site-packages/haystack/__init__.py\u001b[0m in \u001b[0;36m<module>\u001b[0;34m\u001b[0m\n\u001b[1;32m      3\u001b[0m \u001b[0;32mimport\u001b[0m \u001b[0mpandas\u001b[0m \u001b[0;32mas\u001b[0m \u001b[0mpd\u001b[0m\u001b[0;34m\u001b[0m\u001b[0;34m\u001b[0m\u001b[0m\n\u001b[1;32m      4\u001b[0m \u001b[0;32mfrom\u001b[0m \u001b[0mhaystack\u001b[0m\u001b[0;34m.\u001b[0m\u001b[0mschema\u001b[0m \u001b[0;32mimport\u001b[0m \u001b[0mDocument\u001b[0m\u001b[0;34m,\u001b[0m \u001b[0mLabel\u001b[0m\u001b[0;34m,\u001b[0m \u001b[0mMultiLabel\u001b[0m\u001b[0;34m,\u001b[0m \u001b[0mBaseComponent\u001b[0m\u001b[0;34m\u001b[0m\u001b[0;34m\u001b[0m\u001b[0m\n\u001b[0;32m----> 5\u001b[0;31m \u001b[0;32mfrom\u001b[0m \u001b[0mhaystack\u001b[0m\u001b[0;34m.\u001b[0m\u001b[0mfinder\u001b[0m \u001b[0;32mimport\u001b[0m \u001b[0mFinder\u001b[0m\u001b[0;34m\u001b[0m\u001b[0;34m\u001b[0m\u001b[0m\n\u001b[0m\u001b[1;32m      6\u001b[0m \u001b[0;32mfrom\u001b[0m \u001b[0mhaystack\u001b[0m\u001b[0;34m.\u001b[0m\u001b[0mpipeline\u001b[0m \u001b[0;32mimport\u001b[0m \u001b[0mPipeline\u001b[0m\u001b[0;34m\u001b[0m\u001b[0;34m\u001b[0m\u001b[0m\n\u001b[1;32m      7\u001b[0m \u001b[0;34m\u001b[0m\u001b[0m\n",
      "\u001b[0;32m~/.local/lib/python3.6/site-packages/haystack/finder.py\u001b[0m in \u001b[0;36m<module>\u001b[0;34m\u001b[0m\n\u001b[1;32m      6\u001b[0m \u001b[0;32mfrom\u001b[0m \u001b[0mcollections\u001b[0m \u001b[0;32mimport\u001b[0m \u001b[0mdefaultdict\u001b[0m\u001b[0;34m\u001b[0m\u001b[0;34m\u001b[0m\u001b[0m\n\u001b[1;32m      7\u001b[0m \u001b[0;34m\u001b[0m\u001b[0m\n\u001b[0;32m----> 8\u001b[0;31m \u001b[0;32mfrom\u001b[0m \u001b[0mhaystack\u001b[0m\u001b[0;34m.\u001b[0m\u001b[0mreader\u001b[0m\u001b[0;34m.\u001b[0m\u001b[0mbase\u001b[0m \u001b[0;32mimport\u001b[0m \u001b[0mBaseReader\u001b[0m\u001b[0;34m\u001b[0m\u001b[0;34m\u001b[0m\u001b[0m\n\u001b[0m\u001b[1;32m      9\u001b[0m \u001b[0;32mfrom\u001b[0m \u001b[0mhaystack\u001b[0m\u001b[0;34m.\u001b[0m\u001b[0mretriever\u001b[0m\u001b[0;34m.\u001b[0m\u001b[0mbase\u001b[0m \u001b[0;32mimport\u001b[0m \u001b[0mBaseRetriever\u001b[0m\u001b[0;34m\u001b[0m\u001b[0;34m\u001b[0m\u001b[0m\n\u001b[1;32m     10\u001b[0m \u001b[0;32mfrom\u001b[0m \u001b[0mhaystack\u001b[0m \u001b[0;32mimport\u001b[0m \u001b[0mMultiLabel\u001b[0m\u001b[0;34m\u001b[0m\u001b[0;34m\u001b[0m\u001b[0m\n",
      "\u001b[0;32m~/.local/lib/python3.6/site-packages/haystack/reader/__init__.py\u001b[0m in \u001b[0;36m<module>\u001b[0;34m\u001b[0m\n\u001b[0;32m----> 1\u001b[0;31m \u001b[0;32mfrom\u001b[0m \u001b[0mhaystack\u001b[0m\u001b[0;34m.\u001b[0m\u001b[0mreader\u001b[0m\u001b[0;34m.\u001b[0m\u001b[0mfarm\u001b[0m \u001b[0;32mimport\u001b[0m \u001b[0mFARMReader\u001b[0m\u001b[0;34m\u001b[0m\u001b[0;34m\u001b[0m\u001b[0m\n\u001b[0m\u001b[1;32m      2\u001b[0m \u001b[0;32mfrom\u001b[0m \u001b[0mhaystack\u001b[0m\u001b[0;34m.\u001b[0m\u001b[0mreader\u001b[0m\u001b[0;34m.\u001b[0m\u001b[0mtransformers\u001b[0m \u001b[0;32mimport\u001b[0m \u001b[0mTransformersReader\u001b[0m\u001b[0;34m\u001b[0m\u001b[0;34m\u001b[0m\u001b[0m\n",
      "\u001b[0;32m~/.local/lib/python3.6/site-packages/haystack/reader/farm.py\u001b[0m in \u001b[0;36m<module>\u001b[0;34m\u001b[0m\n\u001b[1;32m      7\u001b[0m \u001b[0;34m\u001b[0m\u001b[0m\n\u001b[1;32m      8\u001b[0m \u001b[0;32mimport\u001b[0m \u001b[0mnumpy\u001b[0m \u001b[0;32mas\u001b[0m \u001b[0mnp\u001b[0m\u001b[0;34m\u001b[0m\u001b[0;34m\u001b[0m\u001b[0m\n\u001b[0;32m----> 9\u001b[0;31m \u001b[0;32mfrom\u001b[0m \u001b[0mfarm\u001b[0m\u001b[0;34m.\u001b[0m\u001b[0mdata_handler\u001b[0m\u001b[0;34m.\u001b[0m\u001b[0mdata_silo\u001b[0m \u001b[0;32mimport\u001b[0m \u001b[0mDataSilo\u001b[0m\u001b[0;34m\u001b[0m\u001b[0;34m\u001b[0m\u001b[0m\n\u001b[0m\u001b[1;32m     10\u001b[0m \u001b[0;32mfrom\u001b[0m \u001b[0mfarm\u001b[0m\u001b[0;34m.\u001b[0m\u001b[0mdata_handler\u001b[0m\u001b[0;34m.\u001b[0m\u001b[0mprocessor\u001b[0m \u001b[0;32mimport\u001b[0m \u001b[0mSquadProcessor\u001b[0m\u001b[0;34m\u001b[0m\u001b[0;34m\u001b[0m\u001b[0m\n\u001b[1;32m     11\u001b[0m \u001b[0;32mfrom\u001b[0m \u001b[0mfarm\u001b[0m\u001b[0;34m.\u001b[0m\u001b[0mdata_handler\u001b[0m\u001b[0;34m.\u001b[0m\u001b[0mdataloader\u001b[0m \u001b[0;32mimport\u001b[0m \u001b[0mNamedDataLoader\u001b[0m\u001b[0;34m\u001b[0m\u001b[0;34m\u001b[0m\u001b[0m\n",
      "\u001b[0;32m~/.local/lib/python3.6/site-packages/farm/data_handler/data_silo.py\u001b[0m in \u001b[0;36m<module>\u001b[0;34m\u001b[0m\n\u001b[1;32m     18\u001b[0m \u001b[0;34m\u001b[0m\u001b[0m\n\u001b[1;32m     19\u001b[0m \u001b[0;32mfrom\u001b[0m \u001b[0mfarm\u001b[0m\u001b[0;34m.\u001b[0m\u001b[0mdata_handler\u001b[0m\u001b[0;34m.\u001b[0m\u001b[0mdataloader\u001b[0m \u001b[0;32mimport\u001b[0m \u001b[0mNamedDataLoader\u001b[0m\u001b[0;34m\u001b[0m\u001b[0;34m\u001b[0m\u001b[0m\n\u001b[0;32m---> 20\u001b[0;31m \u001b[0;32mfrom\u001b[0m \u001b[0mfarm\u001b[0m\u001b[0;34m.\u001b[0m\u001b[0mdata_handler\u001b[0m\u001b[0;34m.\u001b[0m\u001b[0mprocessor\u001b[0m \u001b[0;32mimport\u001b[0m \u001b[0mProcessor\u001b[0m\u001b[0;34m,\u001b[0m \u001b[0mBertStyleLMProcessor\u001b[0m\u001b[0;34m\u001b[0m\u001b[0;34m\u001b[0m\u001b[0m\n\u001b[0m\u001b[1;32m     21\u001b[0m \u001b[0;32mfrom\u001b[0m \u001b[0mfarm\u001b[0m\u001b[0;34m.\u001b[0m\u001b[0mdata_handler\u001b[0m\u001b[0;34m.\u001b[0m\u001b[0mutils\u001b[0m \u001b[0;32mimport\u001b[0m \u001b[0mgrouper\u001b[0m\u001b[0;34m\u001b[0m\u001b[0;34m\u001b[0m\u001b[0m\n\u001b[1;32m     22\u001b[0m \u001b[0;32mfrom\u001b[0m \u001b[0mfarm\u001b[0m\u001b[0;34m.\u001b[0m\u001b[0mmodeling\u001b[0m\u001b[0;34m.\u001b[0m\u001b[0mtokenization\u001b[0m \u001b[0;32mimport\u001b[0m \u001b[0mEmbeddingTokenizer\u001b[0m\u001b[0;34m\u001b[0m\u001b[0;34m\u001b[0m\u001b[0m\n",
      "\u001b[0;32m~/.local/lib/python3.6/site-packages/farm/data_handler/processor.py\u001b[0m in \u001b[0;36m<module>\u001b[0;34m\u001b[0m\n\u001b[1;32m     13\u001b[0m \u001b[0;32mfrom\u001b[0m \u001b[0mnumpy\u001b[0m\u001b[0;34m.\u001b[0m\u001b[0mrandom\u001b[0m \u001b[0;32mimport\u001b[0m \u001b[0mrandom\u001b[0m \u001b[0;32mas\u001b[0m \u001b[0mrandom_float\u001b[0m\u001b[0;34m\u001b[0m\u001b[0;34m\u001b[0m\u001b[0m\n\u001b[1;32m     14\u001b[0m \u001b[0;32mfrom\u001b[0m \u001b[0msklearn\u001b[0m\u001b[0;34m.\u001b[0m\u001b[0mpreprocessing\u001b[0m \u001b[0;32mimport\u001b[0m \u001b[0mStandardScaler\u001b[0m\u001b[0;34m\u001b[0m\u001b[0;34m\u001b[0m\u001b[0m\n\u001b[0;32m---> 15\u001b[0;31m \u001b[0;32mfrom\u001b[0m \u001b[0mtokenizers\u001b[0m \u001b[0;32mimport\u001b[0m \u001b[0mEncoding\u001b[0m\u001b[0;34m\u001b[0m\u001b[0;34m\u001b[0m\u001b[0m\n\u001b[0m\u001b[1;32m     16\u001b[0m \u001b[0;32mfrom\u001b[0m \u001b[0mtokenizers\u001b[0m\u001b[0;34m.\u001b[0m\u001b[0mpre_tokenizers\u001b[0m \u001b[0;32mimport\u001b[0m \u001b[0mWhitespaceSplit\u001b[0m\u001b[0;34m\u001b[0m\u001b[0;34m\u001b[0m\u001b[0m\n\u001b[1;32m     17\u001b[0m \u001b[0;32mfrom\u001b[0m \u001b[0mtransformers\u001b[0m \u001b[0;32mimport\u001b[0m \u001b[0mAutoConfig\u001b[0m\u001b[0;34m\u001b[0m\u001b[0;34m\u001b[0m\u001b[0m\n",
      "\u001b[0;31mModuleNotFoundError\u001b[0m: No module named 'tokenizers'"
     ]
    }
   ],
   "source": [
    "import haystack"
   ]
  },
  {
   "cell_type": "code",
   "execution_count": null,
   "id": "agreed-placement",
   "metadata": {},
   "outputs": [],
   "source": []
  }
 ],
 "metadata": {
  "kernelspec": {
   "display_name": "Python 3",
   "language": "python",
   "name": "python3"
  },
  "language_info": {
   "codemirror_mode": {
    "name": "ipython",
    "version": 3
   },
   "file_extension": ".py",
   "mimetype": "text/x-python",
   "name": "python",
   "nbconvert_exporter": "python",
   "pygments_lexer": "ipython3",
   "version": "3.6.8"
  }
 },
 "nbformat": 4,
 "nbformat_minor": 5
}
