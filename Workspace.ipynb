{
 "cells": [
  {
   "cell_type": "code",
   "execution_count": 1,
   "id": "together-martin",
   "metadata": {},
   "outputs": [
    {
     "name": "stdout",
     "output_type": "stream",
     "text": [
      "Chen  create_work_space.ipynb  Philippe  Sabri\ttest\n"
     ]
    }
   ],
   "source": [
    "!cd /pfs/work7/workspace/scratch/st_st169719-TQA-0/ && ls"
   ]
  },
  {
   "cell_type": "code",
   "execution_count": 2,
   "id": "fc7b1a95-be8f-416c-aa23-208a78874c98",
   "metadata": {},
   "outputs": [
    {
     "name": "stdout",
     "output_type": "stream",
     "text": [
      "20210627-175001-32-0275.zip  content\t   predictions.csv\n",
      "aristo-leaderboard\t     metrics.json  question-answers.jsonl\n",
      "combiner_model.ipynb\t     NN_final\n"
     ]
    }
   ],
   "source": [
    "!cd /pfs/work7/workspace/scratch/st_st169719-TQA-0/Sabri && ls"
   ]
  },
  {
   "cell_type": "code",
   "execution_count": 1,
   "id": "42ad5def-3dc8-4e02-aaaf-4e2b17618897",
   "metadata": {},
   "outputs": [],
   "source": [
    "!cp /pfs/work7/workspace/scratch/st_st169719-TQA-0/Sabri/20210627-175001-32-0275.zip ."
   ]
  },
  {
   "cell_type": "code",
   "execution_count": 2,
   "id": "5e194d6a-dc9a-4bef-85a0-736c6ec0b9ed",
   "metadata": {},
   "outputs": [
    {
     "name": "stdout",
     "output_type": "stream",
     "text": [
      "arc  eqasc  LICENSE  openbookqa  propara  qasc\tREADME.md  scitail  tracie\n"
     ]
    }
   ],
   "source": [
    "!cd /pfs/work7/workspace/scratch/st_st169719-TQA-0/Sabri/aristo-leaderboard && ls"
   ]
  },
  {
   "cell_type": "code",
   "execution_count": null,
   "id": "34c33add-4592-429c-b3d7-5962deb249b6",
   "metadata": {},
   "outputs": [],
   "source": []
  },
  {
   "cell_type": "code",
   "execution_count": 1,
   "id": "cardiac-tracy",
   "metadata": {},
   "outputs": [
    {
     "name": "stdout",
     "output_type": "stream",
     "text": [
      "Commonsense  Cosmos  OpenBook  RACE\n"
     ]
    }
   ],
   "source": [
    "!cd /pfs/work7/workspace/scratch/st_st169719-TQA-0/Chen && ls"
   ]
  },
  {
   "cell_type": "code",
   "execution_count": 45,
   "id": "joined-zimbabwe",
   "metadata": {},
   "outputs": [
    {
     "name": "stdout",
     "output_type": "stream",
     "text": [
      "'ex02-albert-cosmos-epoch=03-val_acc_epoch=0.588.ckpt'\n"
     ]
    }
   ],
   "source": [
    "!cd /pfs/work7/workspace/scratch/st_st169719-TQA-0/Chen/Cosmos && ls"
   ]
  },
  {
   "cell_type": "code",
   "execution_count": 1,
   "id": "bridal-shell",
   "metadata": {},
   "outputs": [
    {
     "name": "stdout",
     "output_type": "stream",
     "text": [
      "'e3-albert-race-epoch=00-val_loss_epoch=0.97.ckpt'\n",
      "'e3-albert-race-epoch=01-val_loss_epoch=1.16.ckpt'\n"
     ]
    }
   ],
   "source": [
    "!cd /pfs/work7/workspace/scratch/st_st169719-TQA-0/Chen/RACE && ls"
   ]
  },
  {
   "cell_type": "code",
   "execution_count": 2,
   "id": "complex-glass",
   "metadata": {},
   "outputs": [
    {
     "name": "stdout",
     "output_type": "stream",
     "text": [
      "'dr_ex01-albert-openbook-epoch=02-val_acc_epoch=0.557.ckpt'\n"
     ]
    }
   ],
   "source": [
    "!cd /pfs/work7/workspace/scratch/st_st169719-TQA-0/Chen/OpenBook   && ls"
   ]
  },
  {
   "cell_type": "code",
   "execution_count": 3,
   "id": "overhead-bracket",
   "metadata": {},
   "outputs": [
    {
     "name": "stdout",
     "output_type": "stream",
     "text": [
      "'dr_ex01-albert-commonsense-epoch=01-val_loss_epoch=1.066.ckpt'\n"
     ]
    }
   ],
   "source": [
    "!cd /pfs/work7/workspace/scratch/st_st169719-TQA-0/Chen/Commonsense   && ls"
   ]
  },
  {
   "cell_type": "code",
   "execution_count": 2,
   "id": "crazy-travel",
   "metadata": {},
   "outputs": [
    {
     "name": "stdout",
     "output_type": "stream",
     "text": [
      "SSSS\n"
     ]
    }
   ],
   "source": [
    "import os\n",
    "if os.path.isfile(\"/pfs/work7/workspace/scratch/st_st169719-TQA-0/Chen/Cosmos/ex02-albert-cosmos-epoch=03-val_acc_epoch=0.588.ckpt\"):\n",
    "        print(\"SSSS\")"
   ]
  },
  {
   "cell_type": "code",
   "execution_count": 1,
   "id": "filled-extraction",
   "metadata": {},
   "outputs": [
    {
     "name": "stdout",
     "output_type": "stream",
     "text": [
      "caches\t    NN-ARC-Easy-Dev-Commonqa4.pkl  NN-ARC-Easy-Dev-Race4.pkl\n",
      "Caches_New  NN-ARC-Easy-Dev-OB4.pkl\t   NN_files\n"
     ]
    }
   ],
   "source": [
    "!cd /pfs/work7/workspace/scratch/st_st169719-TQA-0/Philippe/ && ls"
   ]
  },
  {
   "cell_type": "code",
   "execution_count": 4,
   "id": "6342b227-2974-41a5-8cd5-3d50859f34e4",
   "metadata": {},
   "outputs": [
    {
     "name": "stdout",
     "output_type": "stream",
     "text": [
      "NN-ARC-Challenge-Dev-Commonqa4.pkl    NN-ARC-Easy-Dev-Commonqa4.pkl\n",
      "NN-ARC-Challenge-Dev-CQA4.pkl\t      NN-ARC-Easy-Dev-CQA4.pkl\n",
      "NN-ARC-Challenge-Dev-OB4.pkl\t      NN-ARC-Easy-Dev-OB4.pkl\n",
      "NN-ARC-Challenge-Dev-Race4.pkl\t      NN-ARC-Easy-Dev-Race4.pkl\n",
      "NN-ARC-Challenge-Train-Commonqa4.pkl  NN-ARC-Easy-Train-Commonqa4.pkl\n",
      "NN-ARC-Challenge-Train-CQA4.pkl       NN-ARC-Easy-Train-CQA4.pkl\n",
      "NN-ARC-Challenge-Train-OB4.pkl\t      NN-ARC-Easy-Train-OB4.pkl\n",
      "NN-ARC-Challenge-Train-Race4.pkl      NN-ARC-Easy-Train-Race4.pkl\n"
     ]
    }
   ],
   "source": [
    "!cd /pfs/work7/workspace/scratch/st_st169719-TQA-0/Philippe/NN_files/ && ls"
   ]
  },
  {
   "cell_type": "code",
   "execution_count": null,
   "id": "chemical-guarantee",
   "metadata": {},
   "outputs": [],
   "source": []
  },
  {
   "cell_type": "code",
   "execution_count": 5,
   "id": "swedish-optimum",
   "metadata": {},
   "outputs": [
    {
     "name": "stdout",
     "output_type": "stream",
     "text": [
      "arrayfiles\t\t\t    libpasteurize\n",
      "arrayfiles-0.0.1-py3.6.egg-info     lineflow\n",
      "caffe2\t\t\t\t    lineflow-0.6.4-py3.6.egg-info\n",
      "construct\t\t\t    ordlookup\n",
      "construct-2.5.3-py3.6.egg-info\t    past\n",
      "elasticsearch\t\t\t    pefile-2021.5.24-py3.6.egg-info\n",
      "elasticsearch-7.13.1.dist-info\t    pefile.py\n",
      "filelock-3.0.12.dist-info\t    peutils.py\n",
      "filelock.py\t\t\t    protobuf-3.17.3.dist-info\n",
      "future\t\t\t\t    protobuf-3.17.3-py3.6-nspkg.pth\n",
      "future-0.18.2.dist-info\t\t    ptrace\n",
      "gdown\t\t\t\t    __pycache__\n",
      "gdown-3.10.1-py3.6.egg-info\t    python_ptrace-0.9.8.dist-info\n",
      "gensim\t\t\t\t    regex\n",
      "gensim-4.0.1.dist-info\t\t    regex-2021.4.4.dist-info\n",
      "google\t\t\t\t    sacremoses\n",
      "grpc\t\t\t\t    sacremoses-0.0.45.dist-info\n",
      "grpcio-1.38.1.dist-info\t\t    sentencepiece\n",
      "grpcio_tools-1.34.1.dist-info\t    sentencepiece-0.1.95.dist-info\n",
      "grpc_tools\t\t\t    smart_open\n",
      "huggingface_hub\t\t\t    smart_open-5.1.0.dist-info\n",
      "huggingface_hub-0.0.8.dist-info     tokenizers\n",
      "joblib\t\t\t\t    tokenizers-0.10.2.dist-info\n",
      "joblib-1.0.1.dist-info\t\t    torch\n",
      "jq-1.1.3.dist-info\t\t    torch-1.6.0+cu101.dist-info\n",
      "jq.cpython-36m-x86_64-linux-gnu.so  tqdm\n",
      "json_lines\t\t\t    tqdm-4.60.0.dist-info\n",
      "json_lines-0.5.0.dist-info\t    transformers\n",
      "libfuturize\t\t\t    transformers-4.6.0.dist-info\n"
     ]
    }
   ],
   "source": [
    "!cd ./.local/lib/python3.6/site-packages && rm -R haystack-0.42.dist-info && ls"
   ]
  },
  {
   "cell_type": "code",
   "execution_count": null,
   "id": "extreme-asthma",
   "metadata": {},
   "outputs": [],
   "source": []
  },
  {
   "cell_type": "code",
   "execution_count": 1,
   "id": "opposite-lending",
   "metadata": {},
   "outputs": [],
   "source": [
    "!mkdir /pfs/work7/workspace/scratch/st_st169719-TQA-0/Philippe/NN_merged_100/\n",
    "!mkdir /pfs/work7/workspace/scratch/st_st169719-TQA-0/Philippe/NN_merged_200/\n",
    "!mkdir /pfs/work7/workspace/scratch/st_st169719-TQA-0/Philippe/NN_final/"
   ]
  },
  {
   "cell_type": "code",
   "execution_count": null,
   "id": "historic-happening",
   "metadata": {},
   "outputs": [],
   "source": []
  },
  {
   "cell_type": "code",
   "execution_count": null,
   "id": "confidential-warrior",
   "metadata": {},
   "outputs": [],
   "source": []
  },
  {
   "cell_type": "code",
   "execution_count": null,
   "id": "85a56b73-87f4-4adb-88e5-bd5f66290f0e",
   "metadata": {},
   "outputs": [],
   "source": []
  },
  {
   "cell_type": "code",
   "execution_count": null,
   "id": "507ddc95-c653-48f2-81f1-5eb99353e0b7",
   "metadata": {},
   "outputs": [],
   "source": []
  },
  {
   "cell_type": "code",
   "execution_count": null,
   "id": "f2b06ea7-a7e1-45b1-a0ac-10839f33df7a",
   "metadata": {},
   "outputs": [],
   "source": []
  },
  {
   "cell_type": "code",
   "execution_count": 3,
   "id": "qualified-suicide",
   "metadata": {},
   "outputs": [],
   "source": [
    "iter_version = \"4\"\n",
    "cache_path = \"/pfs/work7/workspace/scratch/st_st169719-TQA-0/Philippe/Caches_New/\"\n",
    "NN_path = \"/pfs/work7/workspace/scratch/st_st169719-TQA-0/Philippe/alternate_NN_files/\""
   ]
  },
  {
   "cell_type": "code",
   "execution_count": null,
   "id": "internal-european",
   "metadata": {},
   "outputs": [],
   "source": []
  },
  {
   "cell_type": "code",
   "execution_count": null,
   "id": "mediterranean-judge",
   "metadata": {},
   "outputs": [],
   "source": []
  },
  {
   "cell_type": "code",
   "execution_count": 7,
   "id": "8cdf3830-3d46-4737-b5ed-5dd36a5227fa",
   "metadata": {},
   "outputs": [],
   "source": [
    "cachefile =  \"NN-ARC-Easy-Dev-\"+\"OB\"+iter_version+\".pkl\"\n",
    "!cp $cachefile /pfs/work7/workspace/scratch/st_st169719-TQA-0/Philippe/"
   ]
  },
  {
   "cell_type": "code",
   "execution_count": null,
   "id": "0ce2659d-b86c-4a44-845a-f0dc23b47726",
   "metadata": {},
   "outputs": [],
   "source": []
  },
  {
   "cell_type": "code",
   "execution_count": null,
   "id": "marked-leather",
   "metadata": {},
   "outputs": [],
   "source": [
    "!rm /pfs/work7/workspace/scratch/st_st169719-TQA-0/Philippe/Caches_New/*"
   ]
  },
  {
   "cell_type": "code",
   "execution_count": null,
   "id": "revised-coordination",
   "metadata": {},
   "outputs": [],
   "source": []
  },
  {
   "cell_type": "code",
   "execution_count": 1,
   "id": "angry-ideal",
   "metadata": {},
   "outputs": [],
   "source": [
    "!rm /pfs/work7/workspace/scratch/st_st169719-TQA-0/Philippe/NN_files/*"
   ]
  },
  {
   "cell_type": "code",
   "execution_count": null,
   "id": "respiratory-dating",
   "metadata": {},
   "outputs": [],
   "source": []
  },
  {
   "cell_type": "code",
   "execution_count": 2,
   "id": "a1d3b692-d453-4104-bd70-109ef0939994",
   "metadata": {
    "collapsed": true,
    "jupyter": {
     "outputs_hidden": true
    },
    "tags": []
   },
   "outputs": [
    {
     "name": "stdout",
     "output_type": "stream",
     "text": [
      "{'id': 'Mercury_7122448', 'article': [' kepler formerly known as koi is red dwarf located in the constellation cygnus and approximately light years from the sun it has three known extrasolar planets all of which are smaller than earth in radius and likely also in mass characteristics kepler mass is estimated to be times that of the sun and to have radius times that of the sun that is just times that of the gas giant jupiter due to its small radius and hence surface area the luminosity of kepler is only of that of the sun its metallicity is one third of the sun kepler has an appreciable proper motion of up to mas yr due to its small size and low temperature the star habitable zone is much closer to the star than earth is to the sun planetary system earth mars and the planets of this system compared to kepler and kepler the first terrestrial sized exoplanets to be discovered outside of the solar system the kepler system as compared to the jovian system the planetary system comprising three transiting planets was discovered in february and confirmed on january using the kepler space telescope these planets radii range from approximately those of mars to venus the kepler system is only the second known system containing planets of earth radius or smaller the first was the kepler system pictured at left these planets orbits are also compact making the system whose host star itself has radius comparable to those of some hot jupiters resemble the moon systems of giant planets such as jupiter or saturn more than it does the solar system despite these planets small size and the star being one of the faintest stars in kepler field with confirmed planets the detection of these planets was possible due to small size of the star causing these planets to block larger proportion of starlight during their transits not all of the orbital parameters of the system are known for example as with all transiting planets that have not had their properties established by means of other methods such as the radial velocity method the orbital eccentricity remains unknown based on the orbits of the planets and the luminosity and effective temperature of the host star the equilibrium temperatures of the planets can be calculated assuming an extremely high albedo of and absence of greenhouse effect the outer planet kepler would have an equilibrium temperature of about similar to earth estimates for the known planets are in the tables below kepler kepler kepler earth references notes references\\n kepler also designated as mass is sun like star slightly larger than the sun in the constellation cygnus located some light years from earth it is located within the field of vision of the kepler spacecraft the satellite that nasa kepler mission uses to detect planets that may be transiting their stars announced on february the star system is among the most compact and flattest systems yet discovered it is the first discovered case of star system with six transiting planets all discovered planets are larger than earth with the larger ones being about neptune size nomenclature and history kepler and its planets were discovered by nasa kepler mission mission tasked with discovering planets in transit around their stars the transit method that kepler uses involves detecting dips in brightness in stars these dips in brightness can be interpreted as planets whose orbits move in front of their stars from the perspective of earth kepler is the first discovered exoplanetary system with more than three transiting planets kepler is named for the kepler mission it is the th star with confirmed planets discovered in the kepler field of view the planets are named alphabetically starting with the innermost and distinguishers that are tagged onto the name of their home star the orbit of the kepler planets in comparison to orbits of planets mercury and venus characteristics kepler is type star that is approximately the mass of and the radius of the sun it has surface temperature of about and is estimated to have an age of around billion years in comparison the sun is about billion years old and has surface temperature of with an apparent magnitude of it is too faint to be seen with the naked eye planetary system all known planets transit the star this means that all six planets orbits appear to cross in front of their star as viewed from the earth perspective their inclinations relative to earth line of sight or how far above or below the plane of sight they are vary by little more than degree this allows direct measurements of the planets periods and relative diameters compared to the host star by monitoring each planet transit of the star simulations suggest that the mean mutual inclinations of the planetary orbits are about meaning the system is probably more coplanar flatter than the solar system where the corresponding figure is the estimated masses of planets fall in the range between those of earth and neptune their estimated densities all lower than that of earth imply that none of them have an earth like composition significant hydrogen helium atmosphere is predicted for planets and while planet may be surrounded by steam atmosphere or perhaps by hydrogen atmosphere the low densities likely result from high volume extended atmospheres that surround cores of iron rock and possibly the inner constituents of the kepler system were at the time of their discoveries the most comprehensively understood extrasolar planets smaller than neptune currently observations do not place firm constraint on the mass of planet however formation and evolution studies indicate that the mass of planet is not much greater than about me kepler planets may have formed in situ at their observed orbital locations or ex situ that is they may have started their formation farther away from the star while migrating inward through gravitational interactions with gaseous protoplanetary disk this second scenario predicts that substantial fraction of the planets mass is in regardless of the formation scenario the gaseous component of the planets accounts for less than about of their masses but for to of their radii in the dynamical simulation shown what the kepler planetary system have likely to undergone substantial inward migration in the past producing an observed pattern of lower mass planets on tightest orbits additional yet unobserved gas giant planets on wider orbit are likely necessary for migration of smaller planets to proceed that far inward the system is among the most compact known the orbits of planets would easily fit inside the orbit of mercury with only slightly outside it despite this close packing of the orbits dynamical integrations indicate the system has the potential to be stable on time scale of billions of years however the planetary system of kepler currently may be on the verge of instability none of the planets are in low ratio orbital resonances in which multiple planets gravitationally tug on and stabilize each other orbits resulting in simple ratios of their orbital periods however and are close to ratio there could conceivably be other planets in the system that do not transit the star but they would only be detectable by the effects of their gravity on the motion of the visible planets much as how neptune was discovered the presence of additional gas giant planets is currently excluded up to orbital radius of au planet has low chance of being desert planet pxrelative size and positions of the planets of kepler and of the innermost solar system for comparison the diameters of the planets but not of the stars are scaled up by factor of see also list of multiplanetary systems kepler mission gliese cancri hd references external links official release nasa kepler spacecraft discovers extraordinary new planetary system youtube animation of kepler planetary system kepler planetary system with orbits and planet sizes astronomers find pack of planets in alien solar system\\n small solar system body sssb is an object in the solar system that is neither planet dwarf planet nor natural satellite the term was first defined in by the international astronomical union iau as follows all other objects except satellites orbiting the sun shall be referred to collectively as small solar system bodies euler diagram showing the types of bodies in the solar system this encompasses all comets and all minor planets other than those that are dwarf planets thus sssbs are the comets the classical asteroids with the exception of the dwarf planet ceres the trojans and the centaurs and trans neptunian objects with the exception of the dwarf planets pluto haumea makemake and eris and others that may turn out to be dwarf planets definition distribution of centaurs and trans neptunian objects it is not presently clear whether lower size bound will be established as part of the definition of small solar system bodies in the future or if it will encompass all material down to the level of meteoroids the smallest macroscopic bodies in orbit around the sun on microscopic level there are even smaller objects such as interplanetary dust particles of solar wind and free particles of hydrogen except for the largest which are in hydrostatic equilibrium natural satellites moons differ from small solar system bodies not in size but in their orbits the orbits of natural satellites are not centered on the sun but around other solar system objects such as planets dwarf planets and small solar system bodies some of the larger small solar system bodies may be reclassified in future as dwarf planets pending further examination to determine whether or not they are in hydrostatic equilibrium the orbits of the vast majority of small solar system bodies are located in two distinct areas namely the asteroid belt and the kuiper belt these two belts possess some internal structure related to perturbations by the major planets particularly jupiter and neptune respectively and have fairly loosely defined boundaries other areas of the solar system also encompass small bodies in smaller concentrations these include the near earth asteroids centaurs comets and scattered disc objects see also apollo asteroid centaur minor planet hungaria family list of dwarf planet candidates list of gravitationally rounded objects of the solar system list of solar system objects by size lists of small solar system bodies references external links nasa images and videos about asteroids and comets expected science return of spatially extended in situ exploration at small solar system bodies\\n hd is type main sequence star light years away in the constellation of boötes its surface temperature is hd is enriched in heavy elements compared to the sun with metallicity fe index of its age is unknown the star has very low starspot activity planetary system in four planets orbiting hd were discovered by the radial velocity method planet hd is possibly located within the habitable zone the planetary orbits are close to high order mean motion resonance and closely conform to titius bode law two additional planets one with period of days are suspected by analogy with the orbits of the solar system planets the planetary orbits around hd are expected to jump periodically on timescale of few million years between several quasi stable configurations due to planet planet interactions references\\n', ' The large mass of the sun produces an enormous gravitational pull that keeps all the planets of the solar system in their orbits.\\n The solar system consists of the sun and a collection of objects, including planets, their moons, and asteroids that are held in orbit around the sun by its gravitational pull on them.\\n the international astronomical union at its xvith general assembly in grenoble in accepted resolution no whole new consistent set of astronomical constants recommended for reduction of astronomical observations and for computation of ephemerides it superseded the iau previous recommendations of see iau system of astronomical constants became in effect in the astronomical almanac from onward and remained in use until the introduction of the iau system of astronomical constants in the iau recognized that the parameters became outdated but retained the set for sake of continuity but also recommended to start maintaining set of current best estimates this sub group for numerical standards had published list which included new constants like those for relativistic time scales the system of constants was prepared by commission on ephemerides led by kenneth seidelmann after whom asteroid seidelmann is named at the time new standard epoch was accepted followed later by new reference system with fundamental catalogue fk and expressions for precession of the equinoxes and in by new expressions for the relation between universal time and sidereal time and in and by theory of nutation there were no reliable rotation elements for most planets but joint working group on cartographic coordinates and rotational elements was installed to compile recommended values units the iau system is based on the astronomical system of units the astronomical unit of time is the day of si seconds which is close to the mean solar day of civil clock time the astronomical unit of mass is the mass of the sun the astronomical unit of length is known as the astronomical unit or au which in the iau system is defined as the length for which the gravitational constant more specifically the gaussian gravitational constant expressed in the astronomical units has units takes the value of this astronomical unit is approximately the mean distance between the earth and the sun the value of is the angular velocity in radians per day the daily mean motion of an infinitesimally small mass that moves around the sun in circular orbit at distance of au table of constants number quantity symbol value unit ref defining constants gaussian gravitational constant defined primary constants speed of light light time for unit distance τa equatorial radius for earth ae dynamical form factor for earth geocentric gravitational constant ge constant of gravitation kg earth moon mass ratio moon earth mass ratio general precession in longitude cy obliquity of the ecliptic constant of nutation at standard epoch derived constants unit distance astronomical unit cτa solar parallax arcsin ae constant of aberration for standard epoch flattening factor for the earth reciprocal flattening heliocentric gravitational constant gs sun earth mass ratio gs ge mass ratio sun to earth moon mass of the sun gs kg ratios of mass of sun to planets satellites mercury venus earth moon mars jupiter saturn uranus neptune pluto other quantities for use in the preparation of ephemerides masses of minor planets number name mass in solar mass ceres pallas vesta masses of satellites planet number satellite satellite planet mass jupiter io ii europa iii ganymedes iv callisto saturnus titan neptune triton equatorial radii object equatorial radius km mercury venus earth mars jupiter saturn uranus neptune pluto moon moon disk ratio to earth equatorial radius ae sun gravity fields of the planets planet earth mars jupiter saturn uranus neptune gravity field of the moon quantity symbol value average inclination of equator on ecliptic moment of inertia mr references external links iau commission\\n approximate sizes of the planets relative to each other outward from the sun the planets are mercury venus earth mars jupiter saturn uranus and neptune jupiter diameter is about times that of the earth and the sun diameter is about times jupiter the planets are not shown at the appropriate distance from the sun the historical models of the solar system began during prehistoric periods and is updated to this day the models of the solar system throughout history were first represented in the early form of cave markings and drawings calendars and astronomical symbols then books and written records then became the main source of information that expressed the way the people of the time thought of the solar system new models of the solar system are usually built on previous models thus the early models are kept track of by intellectuals in astronomy an extended progress from trying to perfect the geocentric model to eventually using the heliocentric model of the solar system the uses of the solar system model began as time source to signify particular periods during the year and also navigation source which is exploited by many leaders from the past astronomers and great thinkers of the past were able to record observations and attempt to formulate model that accurately interprets the recordings this scientific method of deriving model of the solar system is what enabled progress towards more accurate models to have better understanding of the solar system that we are in prehistoric astronomy conventionally astronomy began by hipparchus discovering the equinoxes few millennia bc however prehistoric cave markings prove otherwise ancient cave paintings that monitor the equinoxes and solstices were found from as early as years ago by researchers in the university of edinburgh and kent these events were used as an annual time reference in çatalhöyük during bce summer solstice autumn equinox winter solstice spring equinox jeguès wolkiewiez found that out of ice age paleolithic caves she visited were aligned to equinoxes and solstices the researchers concluded that these were calendar experts who used these astronomical events to know when to begin their rituals this highlights their knowledge of the sun and moon positioning which is the foundation of formulating model of the solar system also according to nasa the first cave markings of lunar cycle were made by the aurignacian culture in bce these cave markings are thought of as calendars that helped the people contain the cycles of the solar system which is method of keeping track of time in lascaux caves there were many cave drawings in which dot is in the middle and to dots are drawn around the centre dot which archaeologists date back to as early as bce alexander marshack professor of paleolithic archaeology at harvard university peabody museum concluded that these dots represent lunar cycles early astronomy the nebra sky disc the nebra sky disc dating back to the bronze age in bce is bronze disc that represents the cosmos consisting of crescent moon the sun stars and arcs according to professor dr wolfhard schlosser the most correct interpretations of the sky disc of nebra are that the points represent the stars and the arcs on the edges of the disk making an degree angle indicates the sunset and sunrise during summer and winter babylonian interpretation babylonians thought the universe revolved around heaven and earth they used methodological observations of the patterns of planets and stars movements to predict future possibilities such as eclipses babylonians were able to make use of periodic appearances of the moon to generate time source calendar this was developed as the appearance of the full moon was visible every month the months came about by dividing the ecliptic into equal segments of degrees and were given zodiacal constellation names which was later used by the greeks chinese theories the chinese had multiple theories of the structure of the universe the first theory is the gaitian celestial lid theory mentioned in an old mathematical text called zhou bei suan jing in bce in which the earth is within the heaven where the heaven acts as dome or lid the second theory is the huntian celestial sphere theory during bce this theory claims that the earth floats on the water that the heaven contains which was accepted as the default theory until ad the xuanye ubiquitous darkness theory attempts to simplify the structure by implying that the sun moon and the stars are just highly dense vapour that floats freely in space with no periodic motion greek astronomy since bce greek thinkers noticed the periodic fashion of the solar system many theories were announced during this period parmenides claimed that the solar system is spherical and moonlight is actually reflection of sunlight px anaxagoras suggested that the moon is closer to the earth than the sun comets are formed by collisions of planets and that the motion of planets is controlled by the nous mind pythagoras students thought the motion of planets is caused by fire at the centre of the universe that powers them and earth orbits that fire they also claimed that the moon the sun and planets orbit the earth eudoxus in around bce introduced technique to describe the motion of the planets called the method of exhaustion eudoxus reasoned that since the distances of the stars the moon the sun and all known planets do not appear to be changing they are fixed in sphere in which the bodies move around the sphere but with constant radius and the earth is at the centre of the sphere eudoxus emphasised that this is purely mathematical construct of the model in the sense that the spheres of each celestial body do not exist it just shows the possible positions of the bodies however aristotle modified eudoxes model by supposing the spheres are real he was able to articulate the spheres for most planets however the spheres for jupiter and saturn crossed each other aristotle solved this complication by introducing an unrolled sphere aristotle also tried to determine whether the earth moves and concluded that all the celestial bodies fall towards earth by natural tendency and since earth is the centre of that tendency it is stationary around bce when plato proposed his idea to account for the motions plato claimed that circles and spheres were the preferred shape of the universe and that the earth was at the centre and the stars forming the outermost shell followed by planets the sun and the moon however this did not suffice to explain the observed planetary motion during the period to ad ptolemy deduced that the earth is spherical based on the fact that not everyone records the solar eclipse at the same time and that observers from the north can not see the southern stars ptolemy attempted to resolve the planetary motion dilemma in which the observations were not consistent with the perfect circular orbits of the bodies ptolemy proposed complex motion called epicycles epicycles are described as an orbit within an orbit for example looking at venus ptolemy claimed that it orbits the earth and as it orbits the earth it also orbits the original orbit which is demonstrated in the illustration to the right ptolemy emphasised that the epicycle motion does not apply to the sun this model were earth is positioned at the centre of the solar system is known as the geocentric model alt medieval astronomy islamic astronomy the islamic golden age period in baghdad picking off from ptolemy work had more accurate measurements taken followed by interpretations in ibn al haytham adjusted ptolemy geocentric model to his specialty in optics in his book al shukuk ata batlamyus which translates to doubts about ptolemy ibn al haytham claimed that the epicycles ptolemy introduced are inclined planes not in flat motion which settled further conflicting disputes however ibn al haytham agreed with the earth being in the centre of the solar system at fixed position nasir al din during the th century was able to combine two possible methods for planet to orbit and as result derived rotational aspect of planets within their orbits copernicus arrived to the same conclusion in the th century ibn al shatir during the th century in an attempt to resolve ptolemy inconsistent lunar theory applied double epicycle model to the moon which reduced the predicted displacement of the moon from the earth copernicus also arrived at the same conclusion in the th century chinese astronomy in shen kua chinese scholar in applied mathematics rejected the circular planetary motion he substituted it with different motion described by the term willow leaf this is when planet has circular orbit but then it encounters another small circular orbit within or outside the original orbit and then returns to its original orbit which is demonstrated by the figure on the right up to newton copernicus heliocentric model nicholas copernicus in reflecting about ptolemy and aristoles interpretations of the solar system believed that all the orbits of the planets and moon must be perfect uniform circular motion despite the observations showing the complex retrograde motion during the th century nicholas copernicus introduced new model which was consistent with the observations and allowed for perfect circular motion this is known as the heliocentric model where the sun is placed at the centre of the solar system and the earth is like all the other planets orbiting it the heliocentric model also resolved the varying brightness of planets problem copernicus also supported the spherical earth theory with the idea that nature prefers spherical limits which are seen in the moon the sun and also the orbits of planets copernicus believed that the universe had limit spherical limit copernicus contributed further to practical astronomy by producing advanced techniques of observations and measurements and providing instructional procedure visual representation of the earth orbiting around the sun in an elliptical orbit kepler model in johannes kepler using his teacher tycho brahe accurate measurements noticed the inconsistency of heliocentric model where the sun is exactly in the centre instead kepler developed more accurate and consistent model where the sun is located not in the centre but at one of the two foci of an elliptic orbit kepler derived the three laws of planetary motion which changed the model of the solar system and the orbital path of planets the three laws of planetary motion are all planets orbit the sun in elliptical orbits image on the left and not perfectly circular orbits the radius vector joining the planet and the sun has an equal area in equal periods the square of the period of the planet one revolution around the sun is proportional to the cube of the average distance from the sun where is the radius of the orbit is the period is the gravitational constant and is the mass of the sun the third law explains the periods that occur during the year which relates the distance between the earth and the sun galileo discoveries with the help of the telescope providing closer look into the sky galileo galilei proved the heliocentric model of the solar system galileo observed the phases of venus appearance with the telescope and was able to confirm kepler first law of planetary motion and copernicus heliocentric model galileo claimed that the solar system is not only made up of the sun the moon and the planets but also comets by observing movements around jupiter galileo initially thought that these were the actions of stars however after week of observing he noticed changes in the patterns of motion in which he concluded that they are moons four moons newton interpretation after all these theories people still did not know what made the planets orbit the sun until the th century when isaac newton introduced the law of universal gravitation he claimed that between any two masses there is an attractive force between them proportional to the inverse of the distance squared where is the mass of the sun and is the mass of the planet is the gravitational constant and is the distance between them this theory was able to calculate the force on each planet by the sun which consequently explained the planets elliptical motion see also timeline of solar system astronomy history of astronomy timeline of astronomy references\\n', ' kepler also designated as mass is sun like star slightly larger than the sun in the constellation cygnus located some light years from earth it is located within the field of vision of the kepler spacecraft the satellite that nasa kepler mission uses to detect planets that may be transiting their stars announced on february the star system is among the most compact and flattest systems yet discovered it is the first discovered case of star system with six transiting planets all discovered planets are larger than earth with the larger ones being about neptune size nomenclature and history kepler and its planets were discovered by nasa kepler mission mission tasked with discovering planets in transit around their stars the transit method that kepler uses involves detecting dips in brightness in stars these dips in brightness can be interpreted as planets whose orbits move in front of their stars from the perspective of earth kepler is the first discovered exoplanetary system with more than three transiting planets kepler is named for the kepler mission it is the th star with confirmed planets discovered in the kepler field of view the planets are named alphabetically starting with the innermost and distinguishers that are tagged onto the name of their home star the orbit of the kepler planets in comparison to orbits of planets mercury and venus characteristics kepler is type star that is approximately the mass of and the radius of the sun it has surface temperature of about and is estimated to have an age of around billion years in comparison the sun is about billion years old and has surface temperature of with an apparent magnitude of it is too faint to be seen with the naked eye planetary system all known planets transit the star this means that all six planets orbits appear to cross in front of their star as viewed from the earth perspective their inclinations relative to earth line of sight or how far above or below the plane of sight they are vary by little more than degree this allows direct measurements of the planets periods and relative diameters compared to the host star by monitoring each planet transit of the star simulations suggest that the mean mutual inclinations of the planetary orbits are about meaning the system is probably more coplanar flatter than the solar system where the corresponding figure is the estimated masses of planets fall in the range between those of earth and neptune their estimated densities all lower than that of earth imply that none of them have an earth like composition significant hydrogen helium atmosphere is predicted for planets and while planet may be surrounded by steam atmosphere or perhaps by hydrogen atmosphere the low densities likely result from high volume extended atmospheres that surround cores of iron rock and possibly the inner constituents of the kepler system were at the time of their discoveries the most comprehensively understood extrasolar planets smaller than neptune currently observations do not place firm constraint on the mass of planet however formation and evolution studies indicate that the mass of planet is not much greater than about me kepler planets may have formed in situ at their observed orbital locations or ex situ that is they may have started their formation farther away from the star while migrating inward through gravitational interactions with gaseous protoplanetary disk this second scenario predicts that substantial fraction of the planets mass is in regardless of the formation scenario the gaseous component of the planets accounts for less than about of their masses but for to of their radii in the dynamical simulation shown what the kepler planetary system have likely to undergone substantial inward migration in the past producing an observed pattern of lower mass planets on tightest orbits additional yet unobserved gas giant planets on wider orbit are likely necessary for migration of smaller planets to proceed that far inward the system is among the most compact known the orbits of planets would easily fit inside the orbit of mercury with only slightly outside it despite this close packing of the orbits dynamical integrations indicate the system has the potential to be stable on time scale of billions of years however the planetary system of kepler currently may be on the verge of instability none of the planets are in low ratio orbital resonances in which multiple planets gravitationally tug on and stabilize each other orbits resulting in simple ratios of their orbital periods however and are close to ratio there could conceivably be other planets in the system that do not transit the star but they would only be detectable by the effects of their gravity on the motion of the visible planets much as how neptune was discovered the presence of additional gas giant planets is currently excluded up to orbital radius of au planet has low chance of being desert planet pxrelative size and positions of the planets of kepler and of the innermost solar system for comparison the diameters of the planets but not of the stars are scaled up by factor of see also list of multiplanetary systems kepler mission gliese cancri hd references external links official release nasa kepler spacecraft discovers extraordinary new planetary system youtube animation of kepler planetary system kepler planetary system with orbits and planet sizes astronomers find pack of planets in alien solar system\\n kepler formerly known as koi is red dwarf located in the constellation cygnus and approximately light years from the sun it has three known extrasolar planets all of which are smaller than earth in radius and likely also in mass characteristics kepler mass is estimated to be times that of the sun and to have radius times that of the sun that is just times that of the gas giant jupiter due to its small radius and hence surface area the luminosity of kepler is only of that of the sun its metallicity is one third of the sun kepler has an appreciable proper motion of up to mas yr due to its small size and low temperature the star habitable zone is much closer to the star than earth is to the sun planetary system earth mars and the planets of this system compared to kepler and kepler the first terrestrial sized exoplanets to be discovered outside of the solar system the kepler system as compared to the jovian system the planetary system comprising three transiting planets was discovered in february and confirmed on january using the kepler space telescope these planets radii range from approximately those of mars to venus the kepler system is only the second known system containing planets of earth radius or smaller the first was the kepler system pictured at left these planets orbits are also compact making the system whose host star itself has radius comparable to those of some hot jupiters resemble the moon systems of giant planets such as jupiter or saturn more than it does the solar system despite these planets small size and the star being one of the faintest stars in kepler field with confirmed planets the detection of these planets was possible due to small size of the star causing these planets to block larger proportion of starlight during their transits not all of the orbital parameters of the system are known for example as with all transiting planets that have not had their properties established by means of other methods such as the radial velocity method the orbital eccentricity remains unknown based on the orbits of the planets and the luminosity and effective temperature of the host star the equilibrium temperatures of the planets can be calculated assuming an extremely high albedo of and absence of greenhouse effect the outer planet kepler would have an equilibrium temperature of about similar to earth estimates for the known planets are in the tables below kepler kepler kepler earth references notes references\\n hd is type main sequence star light years away in the constellation of boötes its surface temperature is hd is enriched in heavy elements compared to the sun with metallicity fe index of its age is unknown the star has very low starspot activity planetary system in four planets orbiting hd were discovered by the radial velocity method planet hd is possibly located within the habitable zone the planetary orbits are close to high order mean motion resonance and closely conform to titius bode law two additional planets one with period of days are suspected by analogy with the orbits of the solar system planets the planetary orbits around hd are expected to jump periodically on timescale of few million years between several quasi stable configurations due to planet planet interactions references\\n mercury venus earth and mars sized to scale terrestrial planet telluric planet or rocky planet is planet that is composed primarily of silicate rocks or metals within the solar system the terrestrial planets accepted by the iau are the inner planets closest to the sun mercury venus earth and mars among astronomers who use the geophysical definition of planet the moon io and europa may also be considered terrestrial planets the terms terrestrial planet and telluric planet are derived from latin words for earth terra and tellus as these planets are in terms of structure earth like these planets are located between the sun and the asteroid belt terrestrial planets have solid planetary surface making them substantially different from the larger gaseous planets which are composed mostly of some combination of hydrogen helium and water existing in various physical states structure all terrestrial planets in the solar system have the same basic structure such as central metallic core mostly iron with surrounding silicate mantle the earth moon is similar but has much smaller iron core other natural satellites such as io europa and titan also have internal structures similar to that of terrestrial planets terrestrial planets can have surface structures such as canyons craters mountains volcanoes and others depending on the presence of an erosive liquid and or tectonic activity terrestrial planets have secondary atmospheres generated by volcanic out gassing or from comet impact debris this contrasts with the outer giant planets whose atmospheres are primary primary atmospheres were captured directly from the original solar nebula solar system terrestrial planets relative masses of the terrestrial planets of the solar system and the moon shown here as luna the inner planets sizes to scale from left to right earth mars venus and mercury the solar system has four terrestrial planets mercury venus earth and mars only one terrestrial planet earth has an active hydrosphere during the formation of the solar system there were many terrestrial planetesimals and proto planets but most merged with or were ejected by the four terrestrial planets leaving only few such as vesta to survive dwarf planets such as ceres pluto and eris are similar to terrestrial planets in that they have solid surface but are composed of ice and rock rather than of rock and metal some small solar system bodies such as vesta are quite rocky or in the case of psyche even metallic like mercury while others such as pallas are icier most planetary mass moons are ice rock or even primarily ice the three exceptions are earth moon which has composition much like the earth mantle jupiter io which is silicate and volcanic and jupiter europa which is believed to have an active hydrosphere density trends the uncompressed density of terrestrial planet is the average density its materials would have at zero pressure greater uncompressed density indicates greater metal content uncompressed density differs from the true average density also often called bulk density because compression within planet cores increases their density the average density depends on planet size temperature distribution and material stiffness as well as composition densities of the terrestrial planets object density cm semi major axis au mean uncompressed mercury venus earth mars the uncompressed density of terrestrial planets trends towards lower values as the distance from the sun increases for example the rocky minor planet vesta orbiting outside of mars at au is less dense than mars at cm and icier pallas orbiting at au is less dense still at cm earth moon has density of cm and jupiter satellites io and europa are and cm other large satellites are icier typically have densities less than cm the dwarf planets ceres pluto and eris have densities of and cm respectively at one point ceres was sometimes distinguished as terrestrial dwarf vs pluto as an ice dwarf but the distinction is no longer tenable it now appears that ceres formed in the outer solar system and is itself quite icy calculations to estimate uncompressed density inherently require model of the planet structure where there have been landers or multiple orbiting spacecraft these models are constrained by seismological data and also moment of inertia data derived from the spacecraft orbits where such data is not available uncertainties are inevitably higher it is unknown whether extrasolar terrestrial planets in general will show to follow this trend extrasolar terrestrial planets most of the planets discovered outside the solar system are giant planets because they are more easily detectable but since hundreds of potentially terrestrial extrasolar planets have also been found with several being confirmed as terrestrial most of these are super earths planets with masses between earth and neptune super earths may be gas planets or terrestrial depending on their mass and other parameters during the early the first extrasolar planets were discovered orbiting the pulsar psr with masses of and times that of earth by pulsar timing when pegasi the first planet found around star still undergoing fusion was discovered many astronomers assumed it to be gigantic terrestrial because it was assumed no gas giant could exist as close to its star au as pegasi did it was later found to be gas giant in the first planets orbiting main sequence star and which show signs of being terrestrial planets were found gliese and ogle blg lb gliese orbits the red dwarf gliese light years from earth and has mass seven to nine times that of earth and an orbital period of just two earth days ogle blg lb has about times the mass of earth orbits star about light years away in the constellation scorpius from to three possibly four potential terrestrial planets were found orbiting within the gliese planetary system the smallest gliese is only about earth masses but orbits very close to the star two others gliese and gliese as well as disputed planet gliese are more massive super earths orbiting in or close to the habitable zone of the star so they could potentially be habitable with earth like temperatures another possibly terrestrial planet hd was discovered in it has at least times the mass of earth the radius and composition of all these planets are unknown kepler planet candidates based on candidates orbiting stars as of november nasa the first confirmed terrestrial exoplanet kepler was found in by the kepler mission specifically designed to discover earth size planets around other stars using the transit method in the same year the kepler space observatory mission team released list of extrasolar planet candidates including six that are earth size or super earth size they have radius less than earth radii and in the habitable zone of their star since then kepler has discovered hundreds of planets ranging from moon sized to super earths with many more candidates in this size range see image in september astronomers using microlensing techniques reported the detection for the first time of an earth mass rogue planet named ogle blg unbounded by any star and free floating in the milky way galaxy list of terrestrial exoplanets the following exoplanets have density of at least cm and mass below neptune and are thus very likely terrestrial kepler kepler kepler kepler kepler kepler kepler kepler kepler kepler kepler kepler kepler kepler kepler kepler kepler kepler kepler kepler kepler the neptune mass planet kepler also has density cm and is thus very likely terrestrial frequency in astronomers reported based on kepler space mission data that there could be as many as billion earth and super earth sized planets orbiting in the habitable zones of sun like stars and red dwarfs within the milky way billion of these estimated planets may be orbiting sun like stars the nearest such planet may be light years away according to the scientists however this does not give estimates for the number of extrasolar terrestrial planets because there are planets as small as earth that have been shown to be gas planets see kepler types artist impression of carbon planet several possible classifications for terrestrial planets have been proposed silicate planet the standard type of terrestrial planet seen in the solar system made primarily of silicon based rocky mantle with metallic iron core carbon planet also called diamond planet theoretical class of planets composed of metal core surrounded by primarily carbon based minerals they may be considered type of terrestrial planet if the metal content dominates the solar system contains no carbon planets but does have carbonaceous asteroids iron planet theoretical type of terrestrial planet that consists almost entirely of iron and therefore has greater density and smaller radius than other terrestrial planets of comparable mass mercury in the solar system has metallic core equal to of its planetary mass iron planets are thought to form in the high temperature regions close to star like mercury and if the protoplanetary disk is rich in iron coreless planet theoretical type of terrestrial planet that consists of silicate rock but has no metallic core the opposite of an iron planet although the solar system contains no coreless planets chondrite asteroids and meteorites are common in the solar system coreless planets are thought to form farther from the star where volatile oxidizing material is more common see also chthonian planet earth analog list of potentially habitable exoplanets planetary habitability venus zone list of gravitationally rounded objects of the solar system references\\n', ' kepler formerly known as koi is red dwarf located in the constellation cygnus and approximately light years from the sun it has three known extrasolar planets all of which are smaller than earth in radius and likely also in mass characteristics kepler mass is estimated to be times that of the sun and to have radius times that of the sun that is just times that of the gas giant jupiter due to its small radius and hence surface area the luminosity of kepler is only of that of the sun its metallicity is one third of the sun kepler has an appreciable proper motion of up to mas yr due to its small size and low temperature the star habitable zone is much closer to the star than earth is to the sun planetary system earth mars and the planets of this system compared to kepler and kepler the first terrestrial sized exoplanets to be discovered outside of the solar system the kepler system as compared to the jovian system the planetary system comprising three transiting planets was discovered in february and confirmed on january using the kepler space telescope these planets radii range from approximately those of mars to venus the kepler system is only the second known system containing planets of earth radius or smaller the first was the kepler system pictured at left these planets orbits are also compact making the system whose host star itself has radius comparable to those of some hot jupiters resemble the moon systems of giant planets such as jupiter or saturn more than it does the solar system despite these planets small size and the star being one of the faintest stars in kepler field with confirmed planets the detection of these planets was possible due to small size of the star causing these planets to block larger proportion of starlight during their transits not all of the orbital parameters of the system are known for example as with all transiting planets that have not had their properties established by means of other methods such as the radial velocity method the orbital eccentricity remains unknown based on the orbits of the planets and the luminosity and effective temperature of the host star the equilibrium temperatures of the planets can be calculated assuming an extremely high albedo of and absence of greenhouse effect the outer planet kepler would have an equilibrium temperature of about similar to earth estimates for the known planets are in the tables below kepler kepler kepler earth references notes references\\n approximate sizes of the planets relative to each other outward from the sun the planets are mercury venus earth mars jupiter saturn uranus and neptune jupiter diameter is about times that of the earth and the sun diameter is about times jupiter the planets are not shown at the appropriate distance from the sun the historical models of the solar system began during prehistoric periods and is updated to this day the models of the solar system throughout history were first represented in the early form of cave markings and drawings calendars and astronomical symbols then books and written records then became the main source of information that expressed the way the people of the time thought of the solar system new models of the solar system are usually built on previous models thus the early models are kept track of by intellectuals in astronomy an extended progress from trying to perfect the geocentric model to eventually using the heliocentric model of the solar system the uses of the solar system model began as time source to signify particular periods during the year and also navigation source which is exploited by many leaders from the past astronomers and great thinkers of the past were able to record observations and attempt to formulate model that accurately interprets the recordings this scientific method of deriving model of the solar system is what enabled progress towards more accurate models to have better understanding of the solar system that we are in prehistoric astronomy conventionally astronomy began by hipparchus discovering the equinoxes few millennia bc however prehistoric cave markings prove otherwise ancient cave paintings that monitor the equinoxes and solstices were found from as early as years ago by researchers in the university of edinburgh and kent these events were used as an annual time reference in çatalhöyük during bce summer solstice autumn equinox winter solstice spring equinox jeguès wolkiewiez found that out of ice age paleolithic caves she visited were aligned to equinoxes and solstices the researchers concluded that these were calendar experts who used these astronomical events to know when to begin their rituals this highlights their knowledge of the sun and moon positioning which is the foundation of formulating model of the solar system also according to nasa the first cave markings of lunar cycle were made by the aurignacian culture in bce these cave markings are thought of as calendars that helped the people contain the cycles of the solar system which is method of keeping track of time in lascaux caves there were many cave drawings in which dot is in the middle and to dots are drawn around the centre dot which archaeologists date back to as early as bce alexander marshack professor of paleolithic archaeology at harvard university peabody museum concluded that these dots represent lunar cycles early astronomy the nebra sky disc the nebra sky disc dating back to the bronze age in bce is bronze disc that represents the cosmos consisting of crescent moon the sun stars and arcs according to professor dr wolfhard schlosser the most correct interpretations of the sky disc of nebra are that the points represent the stars and the arcs on the edges of the disk making an degree angle indicates the sunset and sunrise during summer and winter babylonian interpretation babylonians thought the universe revolved around heaven and earth they used methodological observations of the patterns of planets and stars movements to predict future possibilities such as eclipses babylonians were able to make use of periodic appearances of the moon to generate time source calendar this was developed as the appearance of the full moon was visible every month the months came about by dividing the ecliptic into equal segments of degrees and were given zodiacal constellation names which was later used by the greeks chinese theories the chinese had multiple theories of the structure of the universe the first theory is the gaitian celestial lid theory mentioned in an old mathematical text called zhou bei suan jing in bce in which the earth is within the heaven where the heaven acts as dome or lid the second theory is the huntian celestial sphere theory during bce this theory claims that the earth floats on the water that the heaven contains which was accepted as the default theory until ad the xuanye ubiquitous darkness theory attempts to simplify the structure by implying that the sun moon and the stars are just highly dense vapour that floats freely in space with no periodic motion greek astronomy since bce greek thinkers noticed the periodic fashion of the solar system many theories were announced during this period parmenides claimed that the solar system is spherical and moonlight is actually reflection of sunlight px anaxagoras suggested that the moon is closer to the earth than the sun comets are formed by collisions of planets and that the motion of planets is controlled by the nous mind pythagoras students thought the motion of planets is caused by fire at the centre of the universe that powers them and earth orbits that fire they also claimed that the moon the sun and planets orbit the earth eudoxus in around bce introduced technique to describe the motion of the planets called the method of exhaustion eudoxus reasoned that since the distances of the stars the moon the sun and all known planets do not appear to be changing they are fixed in sphere in which the bodies move around the sphere but with constant radius and the earth is at the centre of the sphere eudoxus emphasised that this is purely mathematical construct of the model in the sense that the spheres of each celestial body do not exist it just shows the possible positions of the bodies however aristotle modified eudoxes model by supposing the spheres are real he was able to articulate the spheres for most planets however the spheres for jupiter and saturn crossed each other aristotle solved this complication by introducing an unrolled sphere aristotle also tried to determine whether the earth moves and concluded that all the celestial bodies fall towards earth by natural tendency and since earth is the centre of that tendency it is stationary around bce when plato proposed his idea to account for the motions plato claimed that circles and spheres were the preferred shape of the universe and that the earth was at the centre and the stars forming the outermost shell followed by planets the sun and the moon however this did not suffice to explain the observed planetary motion during the period to ad ptolemy deduced that the earth is spherical based on the fact that not everyone records the solar eclipse at the same time and that observers from the north can not see the southern stars ptolemy attempted to resolve the planetary motion dilemma in which the observations were not consistent with the perfect circular orbits of the bodies ptolemy proposed complex motion called epicycles epicycles are described as an orbit within an orbit for example looking at venus ptolemy claimed that it orbits the earth and as it orbits the earth it also orbits the original orbit which is demonstrated in the illustration to the right ptolemy emphasised that the epicycle motion does not apply to the sun this model were earth is positioned at the centre of the solar system is known as the geocentric model alt medieval astronomy islamic astronomy the islamic golden age period in baghdad picking off from ptolemy work had more accurate measurements taken followed by interpretations in ibn al haytham adjusted ptolemy geocentric model to his specialty in optics in his book al shukuk ata batlamyus which translates to doubts about ptolemy ibn al haytham claimed that the epicycles ptolemy introduced are inclined planes not in flat motion which settled further conflicting disputes however ibn al haytham agreed with the earth being in the centre of the solar system at fixed position nasir al din during the th century was able to combine two possible methods for planet to orbit and as result derived rotational aspect of planets within their orbits copernicus arrived to the same conclusion in the th century ibn al shatir during the th century in an attempt to resolve ptolemy inconsistent lunar theory applied double epicycle model to the moon which reduced the predicted displacement of the moon from the earth copernicus also arrived at the same conclusion in the th century chinese astronomy in shen kua chinese scholar in applied mathematics rejected the circular planetary motion he substituted it with different motion described by the term willow leaf this is when planet has circular orbit but then it encounters another small circular orbit within or outside the original orbit and then returns to its original orbit which is demonstrated by the figure on the right up to newton copernicus heliocentric model nicholas copernicus in reflecting about ptolemy and aristoles interpretations of the solar system believed that all the orbits of the planets and moon must be perfect uniform circular motion despite the observations showing the complex retrograde motion during the th century nicholas copernicus introduced new model which was consistent with the observations and allowed for perfect circular motion this is known as the heliocentric model where the sun is placed at the centre of the solar system and the earth is like all the other planets orbiting it the heliocentric model also resolved the varying brightness of planets problem copernicus also supported the spherical earth theory with the idea that nature prefers spherical limits which are seen in the moon the sun and also the orbits of planets copernicus believed that the universe had limit spherical limit copernicus contributed further to practical astronomy by producing advanced techniques of observations and measurements and providing instructional procedure visual representation of the earth orbiting around the sun in an elliptical orbit kepler model in johannes kepler using his teacher tycho brahe accurate measurements noticed the inconsistency of heliocentric model where the sun is exactly in the centre instead kepler developed more accurate and consistent model where the sun is located not in the centre but at one of the two foci of an elliptic orbit kepler derived the three laws of planetary motion which changed the model of the solar system and the orbital path of planets the three laws of planetary motion are all planets orbit the sun in elliptical orbits image on the left and not perfectly circular orbits the radius vector joining the planet and the sun has an equal area in equal periods the square of the period of the planet one revolution around the sun is proportional to the cube of the average distance from the sun where is the radius of the orbit is the period is the gravitational constant and is the mass of the sun the third law explains the periods that occur during the year which relates the distance between the earth and the sun galileo discoveries with the help of the telescope providing closer look into the sky galileo galilei proved the heliocentric model of the solar system galileo observed the phases of venus appearance with the telescope and was able to confirm kepler first law of planetary motion and copernicus heliocentric model galileo claimed that the solar system is not only made up of the sun the moon and the planets but also comets by observing movements around jupiter galileo initially thought that these were the actions of stars however after week of observing he noticed changes in the patterns of motion in which he concluded that they are moons four moons newton interpretation after all these theories people still did not know what made the planets orbit the sun until the th century when isaac newton introduced the law of universal gravitation he claimed that between any two masses there is an attractive force between them proportional to the inverse of the distance squared where is the mass of the sun and is the mass of the planet is the gravitational constant and is the distance between them this theory was able to calculate the force on each planet by the sun which consequently explained the planets elliptical motion see also timeline of solar system astronomy history of astronomy timeline of astronomy references\\n kepler also designated as mass is sun like star slightly larger than the sun in the constellation cygnus located some light years from earth it is located within the field of vision of the kepler spacecraft the satellite that nasa kepler mission uses to detect planets that may be transiting their stars announced on february the star system is among the most compact and flattest systems yet discovered it is the first discovered case of star system with six transiting planets all discovered planets are larger than earth with the larger ones being about neptune size nomenclature and history kepler and its planets were discovered by nasa kepler mission mission tasked with discovering planets in transit around their stars the transit method that kepler uses involves detecting dips in brightness in stars these dips in brightness can be interpreted as planets whose orbits move in front of their stars from the perspective of earth kepler is the first discovered exoplanetary system with more than three transiting planets kepler is named for the kepler mission it is the th star with confirmed planets discovered in the kepler field of view the planets are named alphabetically starting with the innermost and distinguishers that are tagged onto the name of their home star the orbit of the kepler planets in comparison to orbits of planets mercury and venus characteristics kepler is type star that is approximately the mass of and the radius of the sun it has surface temperature of about and is estimated to have an age of around billion years in comparison the sun is about billion years old and has surface temperature of with an apparent magnitude of it is too faint to be seen with the naked eye planetary system all known planets transit the star this means that all six planets orbits appear to cross in front of their star as viewed from the earth perspective their inclinations relative to earth line of sight or how far above or below the plane of sight they are vary by little more than degree this allows direct measurements of the planets periods and relative diameters compared to the host star by monitoring each planet transit of the star simulations suggest that the mean mutual inclinations of the planetary orbits are about meaning the system is probably more coplanar flatter than the solar system where the corresponding figure is the estimated masses of planets fall in the range between those of earth and neptune their estimated densities all lower than that of earth imply that none of them have an earth like composition significant hydrogen helium atmosphere is predicted for planets and while planet may be surrounded by steam atmosphere or perhaps by hydrogen atmosphere the low densities likely result from high volume extended atmospheres that surround cores of iron rock and possibly the inner constituents of the kepler system were at the time of their discoveries the most comprehensively understood extrasolar planets smaller than neptune currently observations do not place firm constraint on the mass of planet however formation and evolution studies indicate that the mass of planet is not much greater than about me kepler planets may have formed in situ at their observed orbital locations or ex situ that is they may have started their formation farther away from the star while migrating inward through gravitational interactions with gaseous protoplanetary disk this second scenario predicts that substantial fraction of the planets mass is in regardless of the formation scenario the gaseous component of the planets accounts for less than about of their masses but for to of their radii in the dynamical simulation shown what the kepler planetary system have likely to undergone substantial inward migration in the past producing an observed pattern of lower mass planets on tightest orbits additional yet unobserved gas giant planets on wider orbit are likely necessary for migration of smaller planets to proceed that far inward the system is among the most compact known the orbits of planets would easily fit inside the orbit of mercury with only slightly outside it despite this close packing of the orbits dynamical integrations indicate the system has the potential to be stable on time scale of billions of years however the planetary system of kepler currently may be on the verge of instability none of the planets are in low ratio orbital resonances in which multiple planets gravitationally tug on and stabilize each other orbits resulting in simple ratios of their orbital periods however and are close to ratio there could conceivably be other planets in the system that do not transit the star but they would only be detectable by the effects of their gravity on the motion of the visible planets much as how neptune was discovered the presence of additional gas giant planets is currently excluded up to orbital radius of au planet has low chance of being desert planet pxrelative size and positions of the planets of kepler and of the innermost solar system for comparison the diameters of the planets but not of the stars are scaled up by factor of see also list of multiplanetary systems kepler mission gliese cancri hd references external links official release nasa kepler spacecraft discovers extraordinary new planetary system youtube animation of kepler planetary system kepler planetary system with orbits and planet sizes astronomers find pack of planets in alien solar system\\n motion of the solar system barycenter relative to the sun heliocentric orbit also called circumsolar orbit is an orbit around the barycenter of the solar system which is usually located within or very near the surface of the sun all planets comets and asteroids in the solar system and the sun itself are in such orbits as are many artificial probes and pieces of debris the moons of planets in the solar system by contrast are not in heliocentric orbits as they orbit their respective planet although the moon has convex orbit around the sun the barycenter of the solar system while always very near the sun moves through space as time passes depending on where other large bodies in the solar system such as jupiter and other large gas planets are located at that time similar phenomenon allows the detection of exoplanets by way of the radial velocity method the helio prefix is derived from the greek word ἥλιος meaning sun and also helios the personification of the sun in greek mythology the first spacecraft to be put in heliocentric orbit was luna in an incorrectly timed upper stage burn caused it to miss its planned impact on the moon trans mars injection trans mars injection diagram hohmann transfer orbit conjunction mission opposition mission trans mars injection tmi is heliocentric orbit in which propulsive maneuver is used to set spacecraft on trajectory also known as mars transfer orbit which will place it as far as mars orbit every two years low energy transfer windows open up which allow movement between planets with the lowest possible energy requirements transfer injections can place spacecraft into either hohmann transfer orbit or bi elliptic transfer orbit trans mars injections can be either single maneuver burn such as that used by the nasa maven orbiter in or series of perigee kicks such as that used by the isro mars orbiter mission in see also astrodynamics earth orbit geocentric orbit heliocentrism list of artificial objects in heliocentric orbit list of orbits low energy transfer references\\n'], 'options': ['the size of the planets', 'gravitational pull of the Sun', 'the composition of the planets', 'electromagnetic radiation from the Sun'], 'question': 'Planets in the solar system are in constant motion. What factor has the greatest effect on the orbits of the planets?', 'answer': 'B', 'optionscore': array([[ 0.99829054, -0.9985434 , -0.999999  , ...,  0.7518121 ,\n",
      "        -1.        ,  0.99876463],\n",
      "       [ 0.9999694 , -0.99998516, -0.99999285, ...,  0.8864555 ,\n",
      "        -1.        ,  0.9999845 ],\n",
      "       [ 0.9961823 , -0.9965227 , -0.9999995 , ...,  0.8633783 ,\n",
      "        -1.        ,  0.99693674],\n",
      "       [ 0.99898714, -0.99926096, -0.99999976, ...,  0.88673013,\n",
      "        -1.        ,  0.99930555]], dtype=float32), 'rscore': [[84.77838, 84.49972, 80.17324, 79.74734], [84.29102, 76.30847, 75.57673, 75.49847], [83.79159, 79.909225, 79.74734, 77.401855], [73.53101, 73.16537, 72.968704, 72.176094]], 'chosen': [1, 1, 1, 1, 1, 1, 1, 1, 1, 1, 1, 1, 1, 1, 1, 1, 1, 1, 1, 1], 'chosen_index': 0}\n"
     ]
    }
   ],
   "source": [
    "import pickle\n",
    "with  open(\"NN-ARC-Easy-Dev-Commonqa4.pkl\", 'rb') as f:\n",
    "    t_dataset = pickle.load(f)\n",
    "print(t_dataset[3])    "
   ]
  },
  {
   "cell_type": "code",
   "execution_count": null,
   "id": "fa7503bb-c61a-419b-a649-5f8fab033362",
   "metadata": {},
   "outputs": [],
   "source": []
  },
  {
   "cell_type": "code",
   "execution_count": 53,
   "id": "76640a4f-63dd-4659-a44e-de34d026c60e",
   "metadata": {},
   "outputs": [],
   "source": [
    "iter_version = \"5\"\n",
    "NN_path = \"/pfs/work7/workspace/scratch/st_st169719-TQA-0/Philippe/NN_merged_200/\""
   ]
  },
  {
   "cell_type": "code",
   "execution_count": null,
   "id": "middle-start",
   "metadata": {},
   "outputs": [],
   "source": [
    "#---------------------------------\n",
    "#------------caches---------------\n",
    "#---------------------------------"
   ]
  },
  {
   "cell_type": "code",
   "execution_count": null,
   "id": "helpful-consciousness",
   "metadata": {},
   "outputs": [],
   "source": [
    "filename = \"_test_ob\"\n",
    "cachefile = \"cache\" + iter_version + filename + \".cache\"\n",
    "!cp $cachefile $cache_path"
   ]
  },
  {
   "cell_type": "code",
   "execution_count": null,
   "id": "closing-coupon",
   "metadata": {},
   "outputs": [],
   "source": [
    "filename = \"_train_ob\"\n",
    "cachefile = \"cache\" + iter_version + filename + \".cache\"\n",
    "!cp $cachefile $cache_path"
   ]
  },
  {
   "cell_type": "code",
   "execution_count": null,
   "id": "encouraging-improvement",
   "metadata": {},
   "outputs": [],
   "source": [
    "filename = \"_train_commonqa\"\n",
    "cachefile = \"cache\" + iter_version + filename + \".cache\"\n",
    "!cp $cachefile $cache_path"
   ]
  },
  {
   "cell_type": "code",
   "execution_count": null,
   "id": "previous-traveler",
   "metadata": {},
   "outputs": [],
   "source": [
    "filename = \"_dev_ob\"\n",
    "cachefile = \"cache\" + iter_version + filename + \".cache\"\n",
    "!cp $cachefile $cache_path"
   ]
  },
  {
   "cell_type": "code",
   "execution_count": null,
   "id": "eastern-billion",
   "metadata": {},
   "outputs": [],
   "source": [
    "filename = \"_dev_commonqa\"\n",
    "cachefile = \"cache\" + iter_version + filename + \".cache\"\n",
    "!cp $cachefile $cache_path"
   ]
  },
  {
   "cell_type": "code",
   "execution_count": 5,
   "id": "allied-aaron",
   "metadata": {},
   "outputs": [
    {
     "name": "stdout",
     "output_type": "stream",
     "text": [
      "cache4_dev_commonqa.cache  cache4_test_ob.cache\t\tcache4_train_ob.cache\n",
      "cache4_dev_ob.cache\t   cache4_train_commonqa.cache\n"
     ]
    }
   ],
   "source": [
    "!cd $cache_path && ls"
   ]
  },
  {
   "cell_type": "code",
   "execution_count": null,
   "id": "removed-hunger",
   "metadata": {},
   "outputs": [],
   "source": []
  },
  {
   "cell_type": "code",
   "execution_count": null,
   "id": "integrated-fleet",
   "metadata": {},
   "outputs": [],
   "source": []
  },
  {
   "cell_type": "code",
   "execution_count": null,
   "id": "younger-classics",
   "metadata": {},
   "outputs": [],
   "source": [
    "#---------------------------------\n",
    "#------------NN-files---------------\n",
    "#---------------------------------"
   ]
  },
  {
   "cell_type": "code",
   "execution_count": 54,
   "id": "dying-knock",
   "metadata": {},
   "outputs": [],
   "source": [
    "datasetname = \"CQA\""
   ]
  },
  {
   "cell_type": "code",
   "execution_count": 55,
   "id": "environmental-insulin",
   "metadata": {},
   "outputs": [],
   "source": [
    "cachefile =  \"NN-ARC-Easy-Train-\"+datasetname+iter_version+\".pkl\"\n",
    "!cp $cachefile $NN_path"
   ]
  },
  {
   "cell_type": "code",
   "execution_count": 56,
   "id": "according-evening",
   "metadata": {},
   "outputs": [],
   "source": [
    "cachefile =  \"NN-ARC-Challenge-Train-\"+datasetname+iter_version+\".pkl\"\n",
    "!cp $cachefile $NN_path"
   ]
  },
  {
   "cell_type": "code",
   "execution_count": 57,
   "id": "bridal-journalism",
   "metadata": {},
   "outputs": [],
   "source": [
    "cachefile =  \"NN-ARC-Easy-Dev-\"+datasetname+iter_version+\".pkl\"\n",
    "!cp $cachefile $NN_path"
   ]
  },
  {
   "cell_type": "code",
   "execution_count": 58,
   "id": "impressive-albania",
   "metadata": {},
   "outputs": [],
   "source": [
    "cachefile =  \"NN-ARC-Challenge-Dev-\"+datasetname+iter_version+\".pkl\"\n",
    "!cp $cachefile $NN_path"
   ]
  },
  {
   "cell_type": "code",
   "execution_count": 59,
   "id": "hungry-bishop",
   "metadata": {},
   "outputs": [
    {
     "name": "stdout",
     "output_type": "stream",
     "text": [
      "NN-ARC-Challenge-Dev-Commonqa5.pkl    NN-ARC-Easy-Dev-CQA5.pkl\n",
      "NN-ARC-Challenge-Dev-CQA5.pkl\t      NN-ARC-Easy-Dev-OB5.pkl\n",
      "NN-ARC-Challenge-Dev-OB5.pkl\t      NN-ARC-Easy-Dev-Race5.pkl\n",
      "NN-ARC-Challenge-Dev-Race5.pkl\t      NN-ARC-Easy-Train-Commonqa5.pkl\n",
      "NN-ARC-Challenge-Train-Commonqa5.pkl  NN-ARC-Easy-Train-CQA5.pkl\n",
      "NN-ARC-Challenge-Train-CQA5.pkl       NN-ARC-Easy-Train-OB5.pkl\n",
      "NN-ARC-Challenge-Train-OB5.pkl\t      NN-ARC-Easy-Train-Race5.pkl\n",
      "NN-ARC-Easy-Dev-Commonqa5.pkl\n"
     ]
    }
   ],
   "source": [
    "!cd $NN_path && ls"
   ]
  },
  {
   "cell_type": "code",
   "execution_count": null,
   "id": "active-yesterday",
   "metadata": {},
   "outputs": [],
   "source": []
  },
  {
   "cell_type": "code",
   "execution_count": null,
   "id": "genuine-nightmare",
   "metadata": {},
   "outputs": [],
   "source": []
  },
  {
   "cell_type": "code",
   "execution_count": 78,
   "id": "assured-pursuit",
   "metadata": {},
   "outputs": [],
   "source": [
    "datasetname = \"Race\""
   ]
  },
  {
   "cell_type": "code",
   "execution_count": 79,
   "id": "faced-dover",
   "metadata": {},
   "outputs": [],
   "source": [
    "filename =  \"NN-ARC-Easy-Train-\"+datasetname+iter_version+\".pkl\"\n",
    "!cp $filename $NN_path"
   ]
  },
  {
   "cell_type": "code",
   "execution_count": 80,
   "id": "sorted-pointer",
   "metadata": {},
   "outputs": [],
   "source": [
    "filename =  \"NN-ARC-Challenge-Train-\"+datasetname+iter_version+\".pkl\"\n",
    "!cp $filename $NN_path"
   ]
  },
  {
   "cell_type": "code",
   "execution_count": 81,
   "id": "conservative-powell",
   "metadata": {},
   "outputs": [],
   "source": [
    "filename =  \"NN-ARC-Easy-Dev-\"+datasetname+iter_version+\".pkl\"\n",
    "!cp $filename $NN_path"
   ]
  },
  {
   "cell_type": "code",
   "execution_count": 82,
   "id": "temporal-testimony",
   "metadata": {},
   "outputs": [],
   "source": [
    "filename =  \"NN-ARC-Challenge-Dev-\"+datasetname+iter_version+\".pkl\"\n",
    "!cp $filename $NN_path"
   ]
  },
  {
   "cell_type": "code",
   "execution_count": 83,
   "id": "aggressive-despite",
   "metadata": {},
   "outputs": [
    {
     "name": "stdout",
     "output_type": "stream",
     "text": [
      "NN-ARC-Challenge-Dev-Commonqa5.pkl    NN-ARC-Easy-Dev-Commonqa5.pkl\n",
      "NN-ARC-Challenge-Dev-CQA5.pkl\t      NN-ARC-Easy-Dev-CQA5.pkl\n",
      "NN-ARC-Challenge-Dev-OB5.pkl\t      NN-ARC-Easy-Dev-OB5.pkl\n",
      "NN-ARC-Challenge-Dev-Race5.pkl\t      NN-ARC-Easy-Dev-Race5.pkl\n",
      "NN-ARC-Challenge-Train-Commonqa5.pkl  NN-ARC-Easy-Train-Commonqa5.pkl\n",
      "NN-ARC-Challenge-Train-CQA5.pkl       NN-ARC-Easy-Train-CQA5.pkl\n",
      "NN-ARC-Challenge-Train-OB5.pkl\t      NN-ARC-Easy-Train-OB5.pkl\n",
      "NN-ARC-Challenge-Train-Race5.pkl      NN-ARC-Easy-Train-Race5.pkl\n"
     ]
    }
   ],
   "source": [
    "!cd $NN_path && ls"
   ]
  },
  {
   "cell_type": "code",
   "execution_count": null,
   "id": "demonstrated-legend",
   "metadata": {},
   "outputs": [],
   "source": []
  },
  {
   "cell_type": "code",
   "execution_count": null,
   "id": "opening-salad",
   "metadata": {},
   "outputs": [],
   "source": []
  },
  {
   "cell_type": "code",
   "execution_count": 66,
   "id": "restricted-northeast",
   "metadata": {},
   "outputs": [],
   "source": [
    "datasetname = \"OB\""
   ]
  },
  {
   "cell_type": "code",
   "execution_count": 67,
   "id": "genuine-update",
   "metadata": {},
   "outputs": [],
   "source": [
    "filename =  \"NN-ARC-Easy-Train-\"+datasetname+iter_version+\".pkl\"\n",
    "!cp $filename $NN_path"
   ]
  },
  {
   "cell_type": "code",
   "execution_count": 68,
   "id": "disciplinary-seattle",
   "metadata": {},
   "outputs": [],
   "source": [
    "filename =  \"NN-ARC-Challenge-Train-\"+datasetname+iter_version+\".pkl\"\n",
    "!cp $filename $NN_path"
   ]
  },
  {
   "cell_type": "code",
   "execution_count": 69,
   "id": "lasting-first",
   "metadata": {},
   "outputs": [],
   "source": [
    "filename =  \"NN-ARC-Easy-Dev-\"+datasetname+iter_version+\".pkl\"\n",
    "!cp $filename $NN_path"
   ]
  },
  {
   "cell_type": "code",
   "execution_count": 70,
   "id": "passive-syria",
   "metadata": {},
   "outputs": [],
   "source": [
    "filename =  \"NN-ARC-Challenge-Dev-\"+datasetname+iter_version+\".pkl\"\n",
    "!cp $filename $NN_path"
   ]
  },
  {
   "cell_type": "code",
   "execution_count": 71,
   "id": "biological-objective",
   "metadata": {},
   "outputs": [
    {
     "name": "stdout",
     "output_type": "stream",
     "text": [
      "NN-ARC-Challenge-Dev-Commonqa5.pkl    NN-ARC-Easy-Dev-CQA5.pkl\n",
      "NN-ARC-Challenge-Dev-CQA5.pkl\t      NN-ARC-Easy-Dev-OB5.pkl\n",
      "NN-ARC-Challenge-Dev-OB5.pkl\t      NN-ARC-Easy-Dev-Race5.pkl\n",
      "NN-ARC-Challenge-Dev-Race5.pkl\t      NN-ARC-Easy-Train-Commonqa5.pkl\n",
      "NN-ARC-Challenge-Train-Commonqa5.pkl  NN-ARC-Easy-Train-CQA5.pkl\n",
      "NN-ARC-Challenge-Train-CQA5.pkl       NN-ARC-Easy-Train-OB5.pkl\n",
      "NN-ARC-Challenge-Train-OB5.pkl\t      NN-ARC-Easy-Train-Race5.pkl\n",
      "NN-ARC-Easy-Dev-Commonqa5.pkl\n"
     ]
    }
   ],
   "source": [
    "!cd $NN_path && ls"
   ]
  },
  {
   "cell_type": "code",
   "execution_count": null,
   "id": "advised-advance",
   "metadata": {},
   "outputs": [],
   "source": []
  },
  {
   "cell_type": "code",
   "execution_count": null,
   "id": "overhead-landscape",
   "metadata": {},
   "outputs": [],
   "source": []
  },
  {
   "cell_type": "code",
   "execution_count": 72,
   "id": "verified-biography",
   "metadata": {},
   "outputs": [],
   "source": [
    "datasetname = \"Commonqa\""
   ]
  },
  {
   "cell_type": "code",
   "execution_count": 73,
   "id": "exempt-sarah",
   "metadata": {},
   "outputs": [],
   "source": [
    "filename =  \"NN-ARC-Easy-Train-\"+datasetname+iter_version+\".pkl\"\n",
    "!cp $filename $NN_path"
   ]
  },
  {
   "cell_type": "code",
   "execution_count": 74,
   "id": "vocational-professional",
   "metadata": {},
   "outputs": [],
   "source": [
    "filename =  \"NN-ARC-Challenge-Train-\"+datasetname+iter_version+\".pkl\"\n",
    "!cp $filename $NN_path"
   ]
  },
  {
   "cell_type": "code",
   "execution_count": 75,
   "id": "labeled-gabriel",
   "metadata": {},
   "outputs": [],
   "source": [
    "filename =  \"NN-ARC-Easy-Dev-\"+datasetname+iter_version+\".pkl\"\n",
    "!cp $filename $NN_path"
   ]
  },
  {
   "cell_type": "code",
   "execution_count": 76,
   "id": "through-hepatitis",
   "metadata": {},
   "outputs": [],
   "source": [
    "filename =  \"NN-ARC-Challenge-Dev-\"+datasetname+iter_version+\".pkl\"\n",
    "!cp $filename $NN_path"
   ]
  },
  {
   "cell_type": "code",
   "execution_count": 77,
   "id": "front-proxy",
   "metadata": {},
   "outputs": [
    {
     "name": "stdout",
     "output_type": "stream",
     "text": [
      "NN-ARC-Challenge-Dev-Commonqa5.pkl    NN-ARC-Easy-Dev-CQA5.pkl\n",
      "NN-ARC-Challenge-Dev-CQA5.pkl\t      NN-ARC-Easy-Dev-OB5.pkl\n",
      "NN-ARC-Challenge-Dev-OB5.pkl\t      NN-ARC-Easy-Dev-Race5.pkl\n",
      "NN-ARC-Challenge-Dev-Race5.pkl\t      NN-ARC-Easy-Train-Commonqa5.pkl\n",
      "NN-ARC-Challenge-Train-Commonqa5.pkl  NN-ARC-Easy-Train-CQA5.pkl\n",
      "NN-ARC-Challenge-Train-CQA5.pkl       NN-ARC-Easy-Train-OB5.pkl\n",
      "NN-ARC-Challenge-Train-OB5.pkl\t      NN-ARC-Easy-Train-Race5.pkl\n",
      "NN-ARC-Easy-Dev-Commonqa5.pkl\n"
     ]
    }
   ],
   "source": [
    "!cd $NN_path && ls"
   ]
  },
  {
   "cell_type": "code",
   "execution_count": null,
   "id": "speaking-forty",
   "metadata": {},
   "outputs": [],
   "source": []
  },
  {
   "cell_type": "code",
   "execution_count": null,
   "id": "8b09e000-2061-43d7-b54a-bf7ac65dcfc2",
   "metadata": {},
   "outputs": [],
   "source": []
  },
  {
   "cell_type": "code",
   "execution_count": null,
   "id": "3d20ec29-98ea-486f-b742-e26c646f8f09",
   "metadata": {},
   "outputs": [],
   "source": []
  },
  {
   "cell_type": "code",
   "execution_count": null,
   "id": "10475056-a17c-4679-ba58-f9f801993c70",
   "metadata": {},
   "outputs": [],
   "source": []
  },
  {
   "cell_type": "code",
   "execution_count": null,
   "id": "6016666e-0c02-4dca-9476-cd23c8cc5d7c",
   "metadata": {},
   "outputs": [],
   "source": []
  },
  {
   "cell_type": "code",
   "execution_count": null,
   "id": "5b881985-8b94-4585-9947-7d43f9512761",
   "metadata": {},
   "outputs": [],
   "source": []
  },
  {
   "cell_type": "code",
   "execution_count": null,
   "id": "758de1b7-37be-427a-86a9-eaf24ff3fe8f",
   "metadata": {},
   "outputs": [],
   "source": [
    "#-----------------------TEST"
   ]
  },
  {
   "cell_type": "code",
   "execution_count": 1,
   "id": "6be6ee73-9299-45cc-9fe4-d48ee7042287",
   "metadata": {},
   "outputs": [],
   "source": [
    "iter_version = \"4\"\n",
    "NN_path = \"/pfs/work7/workspace/scratch/st_st169719-TQA-0/Philippe/NN_final/\""
   ]
  },
  {
   "cell_type": "code",
   "execution_count": 2,
   "id": "e8ddd5a5-0da0-40d7-985a-27baad05033d",
   "metadata": {},
   "outputs": [],
   "source": [
    "datasetname = \"CQA\""
   ]
  },
  {
   "cell_type": "code",
   "execution_count": 3,
   "id": "31750260-efc4-4fc6-b3c9-c0c1763d3ad0",
   "metadata": {},
   "outputs": [],
   "source": [
    "cachefile =  \"NN-ARC-Easy-Test-\"+datasetname+iter_version+\".pkl\"\n",
    "!cp $cachefile $NN_path"
   ]
  },
  {
   "cell_type": "code",
   "execution_count": 4,
   "id": "bba73e85-cf83-4fcd-82d2-5b73a0958fb3",
   "metadata": {},
   "outputs": [],
   "source": [
    "cachefile =  \"NN-ARC-Challenge-Test-\"+datasetname+iter_version+\".pkl\"\n",
    "!cp $cachefile $NN_path"
   ]
  },
  {
   "cell_type": "code",
   "execution_count": 5,
   "id": "9891687b-238a-415e-bd16-0fa97b34a8ce",
   "metadata": {},
   "outputs": [
    {
     "name": "stdout",
     "output_type": "stream",
     "text": [
      "NN-ARC-Challenge-Test-CQA4.pkl\tNN-ARC-Easy-Test-CQA4.pkl\n"
     ]
    }
   ],
   "source": [
    "!cd $NN_path && ls"
   ]
  },
  {
   "cell_type": "code",
   "execution_count": null,
   "id": "a48c0ec0-b965-47ae-a359-545422477c9d",
   "metadata": {},
   "outputs": [],
   "source": []
  },
  {
   "cell_type": "code",
   "execution_count": 6,
   "id": "6b98f9be-e881-4c0e-ad78-b66edd202f96",
   "metadata": {},
   "outputs": [],
   "source": [
    "datasetname = \"Race\""
   ]
  },
  {
   "cell_type": "code",
   "execution_count": 7,
   "id": "3c16d755-87ce-4d89-a498-7904a5398955",
   "metadata": {},
   "outputs": [],
   "source": [
    "filename =  \"NN-ARC-Easy-Test-\"+datasetname+iter_version+\".pkl\"\n",
    "!cp $filename $NN_path"
   ]
  },
  {
   "cell_type": "code",
   "execution_count": 8,
   "id": "b84a6fa8-7a07-4779-8232-4bc779d4d237",
   "metadata": {},
   "outputs": [],
   "source": [
    "cachefile =  \"NN-ARC-Challenge-Test-\"+datasetname+iter_version+\".pkl\"\n",
    "!cp $cachefile $NN_path"
   ]
  },
  {
   "cell_type": "code",
   "execution_count": 9,
   "id": "c1f150d9-cb3a-457b-87df-61f1c4ea175a",
   "metadata": {},
   "outputs": [
    {
     "name": "stdout",
     "output_type": "stream",
     "text": [
      "NN-ARC-Challenge-Test-CQA4.pkl\t NN-ARC-Easy-Test-CQA4.pkl\n",
      "NN-ARC-Challenge-Test-Race4.pkl  NN-ARC-Easy-Test-Race4.pkl\n"
     ]
    }
   ],
   "source": [
    "!cd $NN_path && ls"
   ]
  },
  {
   "cell_type": "code",
   "execution_count": null,
   "id": "f1e7bc20-6a90-4ca2-b7ad-85391f67c797",
   "metadata": {},
   "outputs": [],
   "source": []
  },
  {
   "cell_type": "code",
   "execution_count": 10,
   "id": "3b3b1818-e78f-4c3d-9abc-ee5a621cd90f",
   "metadata": {},
   "outputs": [],
   "source": [
    "datasetname = \"OB\""
   ]
  },
  {
   "cell_type": "code",
   "execution_count": 11,
   "id": "84bab98f-6fe5-4a57-87ed-93647826f312",
   "metadata": {},
   "outputs": [],
   "source": [
    "filename =  \"NN-ARC-Easy-Test-\"+datasetname+iter_version+\".pkl\"\n",
    "!cp $filename $NN_path"
   ]
  },
  {
   "cell_type": "code",
   "execution_count": 12,
   "id": "d76defd8-181b-4a86-9d54-b3fb84ae25b3",
   "metadata": {},
   "outputs": [],
   "source": [
    "cachefile =  \"NN-ARC-Challenge-Test-\"+datasetname+iter_version+\".pkl\"\n",
    "!cp $cachefile $NN_path"
   ]
  },
  {
   "cell_type": "code",
   "execution_count": 13,
   "id": "d02cf038-c64c-429a-bf9a-5026b1ac4616",
   "metadata": {},
   "outputs": [
    {
     "name": "stdout",
     "output_type": "stream",
     "text": [
      "NN-ARC-Challenge-Test-CQA4.pkl\t NN-ARC-Easy-Test-CQA4.pkl\n",
      "NN-ARC-Challenge-Test-OB4.pkl\t NN-ARC-Easy-Test-OB4.pkl\n",
      "NN-ARC-Challenge-Test-Race4.pkl  NN-ARC-Easy-Test-Race4.pkl\n"
     ]
    }
   ],
   "source": [
    "!cd $NN_path && ls"
   ]
  },
  {
   "cell_type": "code",
   "execution_count": null,
   "id": "d6cfd183-f97f-4435-b7fe-1824639f0e02",
   "metadata": {},
   "outputs": [],
   "source": []
  },
  {
   "cell_type": "code",
   "execution_count": 14,
   "id": "6ae74e42-f482-4461-9006-7f80fc57f080",
   "metadata": {},
   "outputs": [],
   "source": [
    "datasetname = \"Commonqa\""
   ]
  },
  {
   "cell_type": "code",
   "execution_count": 15,
   "id": "7600544d-c3c7-462c-b426-b098a03290fc",
   "metadata": {},
   "outputs": [],
   "source": [
    "filename =  \"NN-ARC-Easy-Test-\"+datasetname+iter_version+\".pkl\"\n",
    "!cp $filename $NN_path"
   ]
  },
  {
   "cell_type": "code",
   "execution_count": 16,
   "id": "c39b8296-f4b5-4931-8214-ad54abf956e8",
   "metadata": {},
   "outputs": [],
   "source": [
    "cachefile =  \"NN-ARC-Challenge-Test-\"+datasetname+iter_version+\".pkl\"\n",
    "!cp $cachefile $NN_path"
   ]
  },
  {
   "cell_type": "code",
   "execution_count": 17,
   "id": "a51ce249-d575-4230-9460-36c7b4516210",
   "metadata": {},
   "outputs": [
    {
     "name": "stdout",
     "output_type": "stream",
     "text": [
      "NN-ARC-Challenge-Test-Commonqa4.pkl  NN-ARC-Easy-Test-Commonqa4.pkl\n",
      "NN-ARC-Challenge-Test-CQA4.pkl\t     NN-ARC-Easy-Test-CQA4.pkl\n",
      "NN-ARC-Challenge-Test-OB4.pkl\t     NN-ARC-Easy-Test-OB4.pkl\n",
      "NN-ARC-Challenge-Test-Race4.pkl      NN-ARC-Easy-Test-Race4.pkl\n"
     ]
    }
   ],
   "source": [
    "!cd $NN_path && ls"
   ]
  },
  {
   "cell_type": "code",
   "execution_count": null,
   "id": "7dd6676b-a660-4e11-b04c-31954f103033",
   "metadata": {},
   "outputs": [],
   "source": []
  },
  {
   "cell_type": "code",
   "execution_count": null,
   "id": "2aee9188-c8d6-4bc8-9165-188851eb6c0f",
   "metadata": {},
   "outputs": [],
   "source": []
  },
  {
   "cell_type": "code",
   "execution_count": null,
   "id": "da0dc156-906c-4451-9953-a7d81f41e43e",
   "metadata": {},
   "outputs": [],
   "source": []
  },
  {
   "cell_type": "code",
   "execution_count": null,
   "id": "d710f8ac-992c-4dd5-9791-26448e433211",
   "metadata": {},
   "outputs": [],
   "source": []
  }
 ],
 "metadata": {
  "kernelspec": {
   "display_name": "env2hay",
   "language": "python",
   "name": "env2hay"
  },
  "language_info": {
   "codemirror_mode": {
    "name": "ipython",
    "version": 3
   },
   "file_extension": ".py",
   "mimetype": "text/x-python",
   "name": "python",
   "nbconvert_exporter": "python",
   "pygments_lexer": "ipython3",
   "version": "3.6.8"
  }
 },
 "nbformat": 4,
 "nbformat_minor": 5
}
