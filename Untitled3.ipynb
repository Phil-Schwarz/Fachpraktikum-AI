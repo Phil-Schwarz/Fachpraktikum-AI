{
 "cells": [
  {
   "cell_type": "code",
   "execution_count": 1,
   "id": "italic-technique",
   "metadata": {},
   "outputs": [
    {
     "name": "stdout",
     "output_type": "stream",
     "text": [
      "Fri May 14 10:10:46 2021       \n",
      "+-----------------------------------------------------------------------------+\n",
      "| NVIDIA-SMI 450.51.06    Driver Version: 450.51.06    CUDA Version: 11.0     |\n",
      "|-------------------------------+----------------------+----------------------+\n",
      "| GPU  Name        Persistence-M| Bus-Id        Disp.A | Volatile Uncorr. ECC |\n",
      "| Fan  Temp  Perf  Pwr:Usage/Cap|         Memory-Usage | GPU-Util  Compute M. |\n",
      "|                               |                      |               MIG M. |\n",
      "|===============================+======================+======================|\n",
      "|   0  Tesla V100-SXM2...  Off  | 00000000:15:00.0 Off |                    0 |\n",
      "| N/A   30C    P0    40W / 300W |      9MiB / 32510MiB |      0%      Default |\n",
      "|                               |                      |                  N/A |\n",
      "+-------------------------------+----------------------+----------------------+\n",
      "|   1  Tesla V100-SXM2...  Off  | 00000000:16:00.0 Off |                    0 |\n",
      "| N/A   32C    P0    40W / 300W |      9MiB / 32510MiB |      0%      Default |\n",
      "|                               |                      |                  N/A |\n",
      "+-------------------------------+----------------------+----------------------+\n",
      "|   2  Tesla V100-SXM2...  Off  | 00000000:3A:00.0 Off |                    0 |\n",
      "| N/A   29C    P0    41W / 300W |      9MiB / 32510MiB |      0%      Default |\n",
      "|                               |                      |                  N/A |\n",
      "+-------------------------------+----------------------+----------------------+\n",
      "|   3  Tesla V100-SXM2...  Off  | 00000000:3B:00.0 Off |                    0 |\n",
      "| N/A   32C    P0    39W / 300W |      9MiB / 32510MiB |      0%      Default |\n",
      "|                               |                      |                  N/A |\n",
      "+-------------------------------+----------------------+----------------------+\n",
      "                                                                               \n",
      "+-----------------------------------------------------------------------------+\n",
      "| Processes:                                                                  |\n",
      "|  GPU   GI   CI        PID   Type   Process name                  GPU Memory |\n",
      "|        ID   ID                                                   Usage      |\n",
      "|=============================================================================|\n",
      "|    0   N/A  N/A      1780      G   /usr/libexec/Xorg                   8MiB |\n",
      "|    1   N/A  N/A      1780      G   /usr/libexec/Xorg                   8MiB |\n",
      "|    2   N/A  N/A      1780      G   /usr/libexec/Xorg                   8MiB |\n",
      "|    3   N/A  N/A      1780      G   /usr/libexec/Xorg                   8MiB |\n",
      "+-----------------------------------------------------------------------------+\n"
     ]
    }
   ],
   "source": [
    "!nvidia-smi"
   ]
  },
  {
   "cell_type": "code",
   "execution_count": 2,
   "id": "insured-gender",
   "metadata": {},
   "outputs": [
    {
     "name": "stdout",
     "output_type": "stream",
     "text": [
      "['', '/home/st/st_us-051200/st_st171103/.local/lib/python3.6/site-packages', '/opt/bwhpc/common/jupyter/base/lib/python3.6/site-packages', '/usr/lib64/python36.zip', '/usr/lib64/python3.6', '/usr/lib64/python3.6/lib-dynload', '/pfs/data5/home/st/st_us-051200/st_st171103/testenv/lib64/python3.6/site-packages', '/pfs/data5/home/st/st_us-051200/st_st171103/testenv/lib/python3.6/site-packages', '/opt/bwhpc/common/jupyter/base/lib/python3.6/site-packages/IPython/extensions', '/pfs/data5/home/st/st_us-051200/st_st171103/.ipython']\n"
     ]
    }
   ],
   "source": [
    "import sys\n",
    "print (sys.path)"
   ]
  },
  {
   "cell_type": "code",
   "execution_count": 3,
   "id": "understanding-caution",
   "metadata": {},
   "outputs": [],
   "source": [
    "#sys.path.append('/pfs/data5/home/st/st_us-051200/st_st171103/testenv/lib/python3.6/site-packages')"
   ]
  },
  {
   "cell_type": "code",
   "execution_count": 1,
   "id": "entitled-secretary",
   "metadata": {},
   "outputs": [
    {
     "name": "stderr",
     "output_type": "stream",
     "text": [
      "06/08/2021 21:24:43 - INFO - faiss.loader -   Loading faiss with AVX2 support.\n",
      "06/08/2021 21:24:43 - INFO - faiss.loader -   Loading faiss.\n",
      "06/08/2021 21:24:43 - INFO - farm.modeling.prediction_head -   Better speed can be achieved with apex installed from https://www.github.com/nvidia/apex .\n"
     ]
    }
   ],
   "source": [
    "import haystack\n",
    "#!{sys.executable} -m pip install elasticsearch\n",
    "\n",
    "import pandas as pd\n",
    "import matplotlib.pyplot as plt\n",
    "import io\n",
    "import unicodedata\n",
    "import numpy as np\n",
    "import re\n",
    "import string\n",
    "\n",
    "import csv\n",
    "                 \n",
    "import pickle\n",
    "\n",
    "import json\n",
    "\n",
    "from six import string_types\n",
    "\n",
    "import tqdm\n",
    "\n",
    "from haystack.preprocessor.cleaning import clean_wiki_text\n",
    "from haystack.preprocessor.utils import convert_files_to_dicts, fetch_archive_from_http\n",
    "from haystack.reader.farm import FARMReader\n",
    "from haystack.reader.transformers import TransformersReader\n",
    "from haystack.utils import print_answers\n",
    "\n",
    "import elasticsearch"
   ]
  },
  {
   "cell_type": "code",
   "execution_count": 5,
   "id": "european-banking",
   "metadata": {},
   "outputs": [],
   "source": [
    "! ./elasticsearch-7.12.1/bin/elasticsearch -d\n",
    "# wait until ES has started\n",
    "! sleep 45"
   ]
  },
  {
   "cell_type": "code",
   "execution_count": 2,
   "id": "underlying-bidding",
   "metadata": {},
   "outputs": [
    {
     "name": "stdout",
     "output_type": "stream",
     "text": [
      "{\n",
      "  \"name\" : \"node-1\",\n",
      "  \"cluster_name\" : \"ARC-cluster\",\n",
      "  \"cluster_uuid\" : \"OKjJu8d1R7GBO1mjNE0iEw\",\n",
      "  \"version\" : {\n",
      "    \"number\" : \"7.12.1\",\n",
      "    \"build_flavor\" : \"default\",\n",
      "    \"build_type\" : \"tar\",\n",
      "    \"build_hash\" : \"3186837139b9c6b6d23c3200870651f10d3343b7\",\n",
      "    \"build_date\" : \"2021-04-20T20:56:39.040728659Z\",\n",
      "    \"build_snapshot\" : false,\n",
      "    \"lucene_version\" : \"8.8.0\",\n",
      "    \"minimum_wire_compatibility_version\" : \"6.8.0\",\n",
      "    \"minimum_index_compatibility_version\" : \"6.0.0-beta1\"\n",
      "  },\n",
      "  \"tagline\" : \"You Know, for Search\"\n",
      "}\n"
     ]
    }
   ],
   "source": [
    "!curl localhost:9200"
   ]
  },
  {
   "cell_type": "code",
   "execution_count": 3,
   "id": "answering-birthday",
   "metadata": {},
   "outputs": [
    {
     "name": "stderr",
     "output_type": "stream",
     "text": [
      "06/08/2021 21:24:45 - INFO - elasticsearch -   HEAD http://localhost:9200/ [status:200 request:0.007s]\n",
      "06/08/2021 21:24:45 - INFO - elasticsearch -   HEAD http://localhost:9200/document [status:200 request:0.002s]\n",
      "06/08/2021 21:24:45 - INFO - elasticsearch -   GET http://localhost:9200/document [status:200 request:0.002s]\n",
      "06/08/2021 21:24:45 - INFO - elasticsearch -   PUT http://localhost:9200/document/_mapping [status:200 request:0.008s]\n",
      "06/08/2021 21:24:45 - INFO - elasticsearch -   HEAD http://localhost:9200/label [status:200 request:0.001s]\n"
     ]
    }
   ],
   "source": [
    "from haystack.document_store.elasticsearch import ElasticsearchDocumentStore\n",
    "document_store = ElasticsearchDocumentStore(host=\"localhost\", username=\"\", password=\"\", index=\"document\")"
   ]
  },
  {
   "cell_type": "code",
   "execution_count": 4,
   "id": "allied-march",
   "metadata": {},
   "outputs": [
    {
     "name": "stderr",
     "output_type": "stream",
     "text": [
      "06/08/2021 21:24:46 - INFO - elasticsearch -   POST http://localhost:9200/document/_count [status:200 request:0.003s]\n"
     ]
    },
    {
     "data": {
      "text/plain": [
       "19670197"
      ]
     },
     "execution_count": 4,
     "metadata": {},
     "output_type": "execute_result"
    }
   ],
   "source": [
    "document_store.get_document_count()"
   ]
  },
  {
   "cell_type": "code",
   "execution_count": 5,
   "id": "recreational-electron",
   "metadata": {},
   "outputs": [
    {
     "name": "stderr",
     "output_type": "stream",
     "text": [
      "06/08/2021 21:24:47 - INFO - elasticsearch -   POST http://localhost:9200/document/_count [status:200 request:0.003s]\n"
     ]
    },
    {
     "data": {
      "text/plain": [
       "19670197"
      ]
     },
     "execution_count": 5,
     "metadata": {},
     "output_type": "execute_result"
    }
   ],
   "source": [
    "document_store.get_label_count()"
   ]
  },
  {
   "cell_type": "code",
   "execution_count": 6,
   "id": "three-siemens",
   "metadata": {},
   "outputs": [
    {
     "name": "stderr",
     "output_type": "stream",
     "text": [
      "06/08/2021 21:24:55 - INFO - elasticsearch -   POST http://localhost:9200/document/_search [status:200 request:6.668s]\n"
     ]
    },
    {
     "name": "stdout",
     "output_type": "stream",
     "text": [
      "[{'text': 'arya stark is fictional character in american author george martin song of ice and fire epic fantasy novel series and its television adaptation game of thrones where she is portrayed by english actress maisie williams she is prominent point of view character in the novels with the third most viewpoint chapters and is the only viewpoint character to have appeared in every published book of the series introduced in game of thrones arya is the third child and youngest daughter of lord ned stark and his wife lady catelyn stark she is tomboyish headstrong feisty independent disdains traditional female pursuits and is often mistaken for boy she wields castle forged steel smallsword named needle parting gift from her half brother jon snow and is trained in the braavosi style of sword fighting by syrio forel arya is among the most popular characters in the series williams performance has received critical acclaim williams was twice nominated for emmy award for outstanding supporting actress in drama series in and she and the rest of the cast were nominated for screen actors guild awards for outstanding performance by an ensemble in drama series in and character arya was born in ac after aegon conquest as the third child and younger daughter of lord eddard and lady catelyn stark of winterfell the ruling liege of the north and is nine years old at the beginning of the book series she has five siblings an older brother robb an older sister sansa two younger brothers bran and rickon and an older illegitimate half brother jon snow through her mother she is also first cousin to robert arryn the lord paramount of the vale and the niece of edmure tully the lord paramount of the riverlands arya is left handed and talented in sums and housekeeping in contrast to her older sister sansa who is more praised for favoring activities traditionally befitting noblewoman arya shows no interest in the lady like dancing singing and sewing and revels in outdoor activities and exploring and is an excellent horserider she is described as wolf blooded blunt impulsive and always difficult to tame by her mother catelyn proven to be constant source of headache for her household tutor septa mordane and given the nickname arya underfoot by the guards of winterfell socially an outcast she is particularly close to her bastard half brother jon snow who encourages her and gives her smallsword as parting gift the sword which arya names needle after her dreaded embroidery lessons is well suited to her slender build and favoring the braavosi water dance fencing style of swordplay which emphasizes speed and agility with quick thrusting attacks throughout her travels arya displays great resourcefulness and cunning and also becomes increasingly ruthless arya is the only one out of her full siblings to inherit the stark features of lean athletic physique brown hair grey eyes and long face for which she was teased as horseface by sansa companions and is said to resemble her late aunt lyanna in both looks and temperament at the start of the series she is prepubescent and generally regarded as messy and plain looking and often mistaken for boy but there are multiple instances in the books comparing her favorably to the famously beautiful lyanna and frequently catching the eyes of men to the point of harassment when her body starts to develop later in the series she is also powerful skinchanger developing purely on her own instinct the ability to telepathically control her direwolf nymeria when sleeping even from different continent as well as psychic bond with street tomcat in braavos storylines novels game of thrones coat of arms of house stark arya adopts one of the direwolf cubs that her brothers robb and jon discovered from the wild and names it nymeria after legendary rhoynish warrior queen she travels with her father eddard to king landing when he is made hand of the king before she leaves her half brother jon snow has braavosi style smallsword made for her as parting gift which she names needle after her least favorite ladylike activity while taking walk together prince joffrey and her sister sansa happen upon arya and her friend the low born butcher apprentice mycah sparring in the woods with broomsticks arya defends mycah from joffrey torments and her direwolf nymeria helps arya fight off joffrey wounding his arm in the process knowing that nymeria will likely be killed in retribution arya chases her wolf away but sansa direwolf lady is killed in nymeria stead and mycah is hunted down and killed by sandor clegane joffrey bodyguard in king landing her father discovers arya possession of needle but instead of confiscating it he arranges for fencing lessons under the braavosi swordmaster syrio forel who teaches her the style of fighting known as water dancing after her father arrest syrio is killed protecting her and arya narrowly escapes capture she later witnesses the public execution of her father before falling under the protection of the night watch recruiter yoren clash of kings arya escapes king landing with yoren and his party of recruits and on the road she clashes with the other night watch child recruits lommy gendry and hot pie but eventually befriends them on the way the party is attacked by amory lorch when yoren refuses to yield gendry who is actually bastard son of the late king robert to the lannisters the night watch convoy is overrun and massacred but arya and the other children escape through tunnel before escaping she rescues three prisoners locked in wagon cage among them mysterious man named jaqen ghar arya and her friends are later captured by ser gregor clegane and taken to harrenhal as slave laborers after witnessing the torture death of her fellow prisoners arya begins nightly reciting the names of the people upon whom she wishes to exact revenge at harrenhal she re encounters jaqen now under the employ of the lannisters who offers to kill for her any three people she names whereupon she names two people who hurt her at harrenhal when jaqen asks her to name the last target arya extorts him to help her free northern prisoners by naming jaqen himself as the third person in order to get arya to retract the name jaqen stages massive prison riot that overwhelms the lannister garrison afterwards jaqen offers to take arya with him but arya expresses wish to go home so he gives arya strange braavosi iron coin to ensure her induction into his guild the faceless men and tells her to remember the passphrase valar morghulis all men must die in high valyrian before leaving the next morning roose bolton captures the castle and arya becomes his personal cupbearer eventually arya escapes harrenhal with her friends gendry and hot pie after killing guard storm of swords while arya and her companions are making their way north she begins dreaming of her lost direwolf nymeria later she and her companions are discovered by the guerrilla group the brotherhood without banners and is recognized as arya stark at the brotherhood secret base arya encounters sandor clegane where she accuses him of mycah murder but the hound survives trial by combat and is released arya eventually escapes the brotherhood alone but is captured by the hound who plans to return her to her family for ransom they reach the twins just as her brother and mother are killed during the red wedding and sandor knocks her unconscious to prevent her from being killed few nights later arya skinchanges into nymeria during sleep and pulls her mother corpse out of the river for the brotherhood to find later sandor plans to ransom her to her aunt lysa at the vale but is unable to proceed due to the weather so he decides to instead take her to her great uncle brynden tully on the way to riverrun they encounter two men on arya death list tickler and polliver who were both gregor clegane men at arms at harrenhal in the ensuing fight arya personally stabs tickler to death and reclaims her sword needle from polliver corpse but sandor is severely injured when sandor becomes gravely ill from his wounds arya refuses to kill him and abandons him to die under tree by the trident river she travels to the port town saltpan and gains passage to braavos on merchant galleass titan daughter by presenting the ship captain with the iron coin that jaqen gave her along with the valyrian phrase valar morghulis feast for crows arriving in braavos arya makes her way to the headquarters of the faceless men the house of black and white where she is initiated into the guild by priest in charge whom she calls the kindly man the kindly man demands her to dispose of all her past possessions and she complies by throwing them all in the river but still secretly hides her sword needle which is the one thing reminding of her sweet childhood memories for her training arya adopts the identity of cat of the canal street child who helps selling seafood and continues having increased more frequent and vivid wolf dreams which further prevents her from discarding her old identity during her training she briefly meets and saves samwell tarly and later murders the night watch deserter dareon after admitting her unauthorized killing to her mentor she is given cup of burnt tasting milk to drink and the next morning she wakes up blind dance with dragons arya remains blind in the service of the house of black and white for half year she continues to dream through the eyes of her direwolf nymeria but speaks of it to no one while she is blind arya wanders the streets of braavos under the identity of beth blind beggar girl and becomes better at sensing without her eyes as well as lying and detecting the lies of others after skinchanging into stray tomcat that followed her back to the temple arya is able to identify the kindly man as the person who sneak attacks her with stick every night and later surprise hits him for this achievement she passes the test and regains her vision and is given her first assassination assignment when she successfully poisons crooked insurance salesman without rousing any suspicion or collateral damage the kindly man gives arya an acolyte robe and assigns her to begin her first apprenticeship inserted within theatrical group the winds of winter an excerpt chapter from the yet to be published sixth book of the series named mercy was released on george martin official website on march in the chapter arya assumes the identity of an apprentice stage actress under the alias mercedene or mercy for short she performs in braavosi theatrical play the bloody hand dramatized parody of the recent westerosi political events in king landing in which she plays maiden whitewashed version of shae who is the rape victim of the titular evil dwarf hand demonized version of tyrion lannister when the westerosi treasurer harys swyft arrives in braavos with an envoy to negotiate with the iron bank for loans arya theatre group is employed to perform the play to entertain the guests as the play is about to begin arya recognizes one of the envoy guards as rafford also known as raff the sweetling former subordinate of gregor clegane who killed her injured friend lommy she seduces the hebephilic rafford and lures him to her own room before slicing his femoral artery rendering him unable to walk when rafford begs for healer arya cuts his throat in the same fashion as he had killed lommy and throws his corpse into canal she heads back to perform the play knowing this murder will most likely ruin her mercedene identity family tree of house stark television series arya stark is portrayed by english actress maisie williams in the television adaption of the book series this being williams first role as an actress williams was chosen from among actresses across england maisie williams plays the role of arya stark in the television series season arya accompanies her father ned and her sister sansa to king landing before their departure arya half brother jon snow gifts arya sword which she dubs needle on the kingsroad arya is sparring with butcher boy mycah when sansa betrothed prince joffrey baratheon attacks mycah prompting arya direwolf nymeria to bite joffrey arya shoos nymeria away so she is not killed but is furious when sansa later refuses to support her version of events mycah is later killed by joffrey bodyguard sandor the hound clegane earning him arya hatred ned arranges for arya to have sword lessons with the braavosi syrio forel who later defends her from ser meryn trant after joffrey ascends to the throne and kills the stark household arya flees the red keep accidentally killing stable boy in her escape hiding out as beggar in the streets of king landing ned is eventually taken to the great sept of baelor to face judgment he spots arya in the crowd and alerts the night watch recruiter yoren to her presence yoren prevents arya from witnessing ned execution and has her pose as boy arry to avoid detection as she joins yoren recruits traveling north to castle black season the recruits are attacked by lannister soldiers under ser amory lorch who have been ordered by cersei lannister to kill robert baratheon bastard gendry who is part of the party needle is confiscated by soldier polliver who uses it to kill arya friend lommy greenhands who arya later claims is gendry the recruits are taken to harrenhal where tywin lannister recognises arya is girl instead of boy and takes her as his cupbearer jaqen offers to kill three people for arya as reward for saving his life and those of his cellmates during the attack arya picks harrenhal torturer the tickler and ser amory when arya is unable to have tywin killed before his departure she has jaqen help her gendry and her friend hot pie escape jaqen offers to take arya to braavos to join the faceless men assassin guild and although she declines he gives her an iron coin that will allow her to obtain passage to braavos season arya gendry and hot pie encounter thoros of myr red priest who is member of the brotherhood without banners group of men sent by ned to restore order in the riverlands as thoros takes them to the brotherhood hideout they encounter the hound captive of other brotherhood men the hound is brought before the brotherhood leader ser beric dondarrion and after arya accuses him of mycah murder beric sentences him to trial by combat the hound wins to arya fury and is released by dondarrion arya is further enraged when the brotherhood sells gendry to melisandre and escapes the brotherhood she is captured by the hound who intends to take her to the twins to ransom her to her brother robb however as they arrive the freys betray the starks and slaughter their forces with arya barely escaping the massacre in the aftermath of their escape arya encounters frey soldier bragging about his role in desecrating robb corpse arya stabs the soldier to death marking the first time she has deliberately killed another person season arya and the hound encounter polliver in tavern arya reclaims needle and uses it to kill polliver to avenge lommy they also encounter rorge and biter jaqen fellow prisoners and arya kills rorge after recalling he had threatened to rape her the hound takes arya to the vale to ransom her to her aunt lysa arryn only to be turned away at the bloody gate when they are informed that lysa has apparently committed suicide returning from the bloody gate they are approached by brienne of tarth who had sworn to catelyn stark to take arya to safety distrusting brienne allegiances the hound attempts to kill her but brienne defeats the hound and he is seemingly mortally wounded arya manages to hide from brienne in the confusion and after brienne leaves arya takes the hound silver leaving him to die she then encounters braavosi captain who offers her passage to braavos after she gives him the iron coin season arya arrives in braavos and is accepted into the house of black and white by man who wears jaqen ghar face after impressing jaqen with her ability to lie undetected by convincing terminally ill girl to drink poison arya is given the assignment of assassinating corrupt insurance salesman however she is distracted from her mission by the arrival in braavos of ser meryn trant assuming the identity of the girl she had poisoned arya disguises herself as prostitute and infiltrates brothel where she kills meryn however when she returns to the house of black and white she is caught by jaqen who chides that arya has not dissociated from her identity and that as result wearing another person face will poison her arya is subsequently struck blind season blind arya is forced to beg on the streets of braavos her fellow acolyte the waif arrives daily to attack her eventually jaqen brings arya back to the house of black and white and restores her vision she is tasked to assassinate an actress named lady crane but seeing lady crane is decent person arya has change of heart at the last minute and warns lady crane of the attempt on her life the waif witnesses this disobedience and is given permission by jaqen to kill arya aware that she is now in danger arya retrieves her sword needle from its hiding place she arranges for passage out of braavos but is stabbed by the waif and barely escapes lady crane nurses arya back to health but the waif reappears kills lady crane and pursues recovering arya arya leads the waif to her quarters underneath braavos and extinguishes the candle in the room using her experience fighting blind to give her the upper hand and kill the waif arya removes the waif face and adds it to the hall of faces before telling an impressed jaqen that she is arya stark and returns to westeros arya travels to the twins assuming the identity of servant girl she kills lord walder frey sons black walder rivers and lothar frey before cooking them in pie that she serves to walder frey after revealing her subterfuge and her true identity to walder she cuts his throat avenging her brother robb her mother catelyn and the northern army murdered at the red wedding season taking the face of walder frey arya gathers the men of house frey for feast before killing them all with poisoned wine arya then journeys south intending to travel to king landing to assassinate cersei now queen of the seven kingdoms following the extinction of house baratheon however arya changes her mind after learning from hot pie that jon has ousted house bolton from winterfell and has been crowned king in the north and decides to return to her ancestral home along the way she encounters wolf pack led by her long lost direwolf nymeria nymeria recognizes arya but she has grown feral and turns away when arya asks her to return north with her arriving at winterfell arya finds that jon has traveled to dragonstone but is reunited with sansa and bran bran reveals his knowledge of arya kill list through greenseeing and presents her with valyrian steel dagger which had been given to him by littlefinger arya is also reunited with brienne who continues to serve the starks and manages to equal the female warrior during sparring despite her smaller size littlefinger seeks to increase his influence on sansa by driving wedge between the stark sisters to this end he allows arya to witness him receiving confidential message obtained from maester luwin records arya breaks into littlefinger quarters to steal the message which is plea sent by sansa following ned imprisonment to robb imploring him to bend the knee to joffrey outraged arya confronts sansa and is unconvinced by her explanation that she did so to try and save ned life later arya catches sansa looking at her collection of faces and threatens sansa before leaving some time later sansa summons arya to the great hall and begins an accusation of treason and murder however the accusation is directed towards littlefinger whose crimes have been discovered by bran greenseeing despite littlefinger pleas for mercy sansa sentences littlefinger to death and arya cuts his throat with the valyrian steel dagger thus avenging her family and getting justice the stark sisters later resolve their differences and acknowledge that the starks must stay together to survive winter season arya reunites with jon gendry and the hound who have all journeyed to winterfell with daenerys targaryen forces to make stand against the approaching white walkers arya asks gendry who is forging dragonglass into weapons to make her special dragonglass staff when gendry gives it to arya he tells her he is the bastard son of robert baratheon aware of their chances of dying in the upcoming battle and arya wanting to experience sex arya and gendry sleep together later that night arya hears the signal alerting her that the white walkers army has arrived arya fights in the battle against the dead with the hound and beric dondarrion beric sacrifices himself to allow arya and the hound to escape the wights battered arya sprints through the corridors of winterfell and encounters melisandre who suggests to arya that she is meant to kill the night king in the godswood just as the night king is about to kill bran arya sneaks up and stabs the night king with the valyrian steel dagger bran gave her upon killing the night king the white walkers and wights are all destroyed in the aftermath of the battle gendry is legitimised as baratheon by daenerys and proposes to arya arya declines as she does not want the life of lady sansa and arya tell jon they don trust daenerys but jon defends her arya learns that jon is the son of her aunt lyanna stark and rhaegar targaryen after jon swears her and sansa to secrecy about his true parentage arya journeys south to king landing with the hound to kill cersei the two infiltrate the red keep with the civilians cersei is using to deter daenerys attack despite the city surrender to daenerys she lays waste to the populace atop of drogon the hound seeks out his brother the mountain in his quest for revenge against his brother but urges arya to leave and give up her own quest for revenge to avoid life consumed by it arya sincerely thanks the hound calling him sandor she tries and fails to save the smallfolk as daenerys burns the city arya narrowly survives the attack in the aftermath arya is reunited with jon and she warns that he and the starks are not safe from daenerys while tyrion says daenerys is now the people biggest threat jon tries but is unable to dissuade daenerys from further destruction and ultimately assassinates her he is imprisoned weeks later arya joins the other lords and ladies of westeros in council to decide who shall lead the seven kingdoms bran is chosen as king though arya abstains from voting as sansa declares the north independence arya sansa and bran bid jon farewell as he is exiled arya reveals that she is leaving westeros to see what lies west of the continent she embarks on her voyage aboard stark ship and reflects on her family anti heroine arya can be regarded as an anti heroine sophie heawood of the guardian described arya eight season character arc as journey from cute little sister to ruthless serial killer of victims and said that arya was the serial killer everyone rooting for young character who witnesses both the unfair execution of her father and the immediate aftermath of her mother and brother murder including the parading of the latter desecrated corpse arya works her way through revenge death list of names of those responsible for killing all the people she cared about after six seasons of battling alone she reunites with her family as weapons expert and trained assassin when the expected heroes and armies of the living appear defeated in the longest battle scene in film and television history arya stark is the hero that saves the entire fictional continent of westeros by using her prowess as an assassin to kill the night king the god of death which causes the simultaneous eradication of his vast undead army arya killing the night king was nominated for the bafta tv awards under the must see moment category reception and awards arya is among the most popular characters in either version of the series williams performance in game of thrones has received critical acclaim particularly in the second season for her work opposite veteran actor charles dance who played tywin lannister when arya served as tywin cupbearer williams has received several award nominations for her portrayal of arya for her performance in the series she received two portal awards for best supporting actress and best young actor in an ewwy award for best supporting actress in drama series in and saturn award for best performance by young actor in television series in williams was nominated for primetime emmy award for outstanding supporting actress in drama series in other nominations include the portal award for best young actor in the sfx awards for best actress in and the gold derby tv awards for breakthrough performer of the year in the young artist award for best performance in tv series by supporting young actress in the ewwy award for best supporting actress in drama series in and the saturn award for best performance by young actor in television series in popularity and cultural impact while the personal forename arya is existing real world name for both sexes of sanskrit and persian origins long used in south asia following the start of the tv series in the name arya became the fastest rising baby girl name in the jumping in popularity from th to the th position largely due to the popularity of williams character arya stark the name maintained its popularity in its was ranked in the and its variation aria was listed at the name also entered the top most commonly used names for baby girls born in england and wales in the international hit look what you made me do by american singer songwriter taylor swift was partially inspired by williams arya with the line ve got list of names and yours is in red underlined inspired by her kill list and canadian rapper drake thanked arya stark for killing the night king during his acceptance speech at the billboard music awards williams was also one of ten actors from game of thrones featured in character in collection of royal mail first class postage stamps the set which celebrates british contributions towards the show was released to the uk post office in january references\\n', 'id': 'b91a8977-e26d-4e35-a572-e8d1aa3b68ad', 'score': 32.171276, 'probability': 0.9823880630746844, 'question': None, 'meta': {}, 'embedding': None}, {'text': \"En route from Winterfell to King's Landing, Sandor earns the enmity of Arya Stark by acting on Lannister orders to kill her friend Mycah , the son of a butcher, who is believed to have harmed Joffrey.\\n\", 'id': 'a1dd4626-5763-4d69-8c48-688069171acf', 'score': 29.886726, 'probability': 0.9767026070968805, 'question': None, 'meta': {}, 'embedding': None}, {'text': 'sandor clegane nicknamed the hound is fictional character in the song of ice and fire series of fantasy novels by american author george martin and its television adaptation game of thrones introduced in game of thrones sandor is the estranged younger brother of ser gregor clegane from the fictional seven kingdoms of westeros sandor serves as king joffrey baratheon personal bodyguard he subsequently appeared in martin clash of kings storm of swords and feast for crows like his brother sandor is regarded as one of the fiercest and strongest fighters in the seven kingdoms his face is marked by gruesome facial burns he received as child when his brother shoved his face into brazier ever since he has retained crippling fear of fire while initially appearing brutal and fatalistic he later proves to be far more honorable sympathetic and compassionate particularly through his relationships with sansa and arya stark sandor is portrayed by scottish actor rory mccann in the hbo television adaptation mccann also narrates the animated history and lore for house clegane available in the bonus material on the blu ray releases character description sandor clegane known also as the hound is the younger brother of gregor clegane and was retainer to house lannister he was regarded as one of the most dangerous and skilled fighters in westeros his size in the novels he is or and over lbs or kg and strength make him an imposing figure though he is not even as large as his brother gregor his visage is distinguished by gruesome burn scars that he received as child when his brother forced his head into brazier consequently clegane fears fire and hates his brother he is cynical and scornful of knight vows and their code of honor as gregor is brutal knight utterly devoid of any morality or even humanity sadist who delights and revels in rape bloodshed and violence clegane was described as tormented man driven by anger and hate suffering from childhood post traumatic stress disorder and obsessed with killing his brother storylines novels coat of arms of house clegane sandor clegane is not point of view character in the novels so his actions are witnessed mainly through the eyes of sansa and arya stark with some narrations from other characters such as ned stark and tyrion lannister game of thrones and clash of kings in game of thrones he acts as bodyguard and servant to crown prince joffrey baratheon who calls him dog but is somewhat attached to him as joffrey lacks father figure from king robert while escorting sansa home he reveals to her how his face was scarred and expresses much resentment of his brutish older brother and towards the concept of knighthood in general clegane hunts down arya stark friend mycah and leads the lannister attack on eddard stark men in the tower of the hand during the purge of the starks sandor is named joffrey kingsguard towards the end of game of thrones but always refuses to become knight clegane is often assigned to guard sansa and becomes quite protective of her calling her little bird he tries to protect her from joffrey abuse in clash of kings and advising her to do whatever joffrey tells her as the best method of survival he saves sansa life when joffreys entourage is set upon by his own impoverished citizens in the streets of king landing sandor becomes disillusioned during the battle of the blackwater and abandons his duty as joffrey guard due to the widespread use of wildfire fictional incendiary substance inspired by greek fire he offers to help sansa flee king landing and is agitated when she refuses he threatens her but then calms down after she sings him song about mercy before fleeing the capital on his own storm of swords in storm of swords the lordless sandor gets drunk and is captured by the brotherhood without banners who sentences him to trial by combat on charge of murder accused by arya sandor prevails against the brotherhood leader beric dondarrion and is set free he later kidnaps arya and hopes to ransom her to her brother robb stark at riverrun in order to earn place in robb service he takes her to the twins where robb is attending the wedding of his uncle however just as they arrive the red wedding happens and the freys begin slaughtering the starks sandor knocks arya unconscious to prevent her from running into the castle and fights his way out killing three frey knights they later encounter three of gregor men polliver tickler and pimply squire from house sarsfield at the crossroad inn sandor is provoked while drunken and kills polliver in the ensuing altercation but is seriously injured he becomes critically ill when his wounds begin to fester so arya abandons him under tree to await his apparent death feast for crows he is mentioned few times in feast for crows because stories are spreading that somebody using the hound helmet is committing atrocities but the elder brother mentions to brienne of tarth that he found sandor moribund and is now at rest so his helmet was doubtless stolen from his graveyard however the appearance of mute gravedigger who matches sandor physically and the elder brother refusal to confirm if sandor is dead imply that he may still be alive as for the hound helmet it is after revealed to brienne and podrick that it was rorge and his criminal band who took it and when the two of them are captured by the brotherhood without banners and rorge band is killed lem decides to keep the helmet for himself despite thoros opposition tv adaptation scottish actor rory mccann has received acclaim for his portrayal of sandor clegane in the television adaptation of the series of books season clegane is first introduced in the pilot episode when he accompanies the royal court on robert baratheon visit to winterfell on the return trip to king landing joffrey falsely accuses butcher boy mycah of having attacked him with sword and so clegane must hunt the fugitive boy down attracting the hatred of mycah friend arya stark weeks later during the tourney of the hand sandor brutally sadistic brother gregor tries to kill ser loras tyrell for unhorsing him but sandor intervenes saving loras life when ned stark reveals that joffrey is bastard born of incest clegane assists the lannister soldiers in the subsequent purge of the stark household and sansa stark capture although he later comforts sansa when joffrey torments her face slapped and advises how to avoid future pain with joffrey ascension to the throne clegane is named to the kingsguard to replace the ousted ser barristan selmy season sandor clegane continues to defend sansa covering her after joffrey has her humiliated and stripped in front of the assembled royal court his humanity and underlying compassion are briefly revealed when he rescues sansa from fatal gang rape during king landing street riot but when sansa thanks him and praises his bravery he curtly brushes aside her gratitude cynically professing killing is the sweetest thing there is your father was killer your brothers are killers your betrothed the king is killer he is one of the more effective leaders at the battle of the blackwater against stannis baratheon shore forces but is visibly shaken by fire if any of those flaming fucking arrows come near me ll strangle you with your own guts and horrified by the wildfire that incinerates much of stannis fleet he ultimately deserts the battle and city after losing half of his men and witnessing some burned alive fuck the kings guard fuck the city fuck the king before he leaves king landing in drunken stupor he offers to take sansa north to winterfell but she declines season arya and her companion sandor clegane in the tv series game of thrones in the riverlands clegane is captured by the brotherhood without banners group of knights and soldiers sent by eddard stark in season to stop gregor and restore order to the riverlands at rustic inn while being transported he notices and reveals arya stark true identity to them at the brotherhood cave hideout he is accused and tried via combat against their leader lord beric dondarrion although clegane asserts that any killings even running down mycah the butcher son were committed in protection of prince joffrey was his sworn shield my place is not to question princes despite beric flaming sword sandor secures his freedom dealing fatal blow to lord beric who is then immediately resurrected by the red priest thoros of myr acusing them of thievery as they will not now return his gold days later clegane still in the area kidnaps fleeing arya intending to ransom her to robb stark at the wedding of edmure tully and roslin frey however they arrive at the twins just as the freys unfold their red wedding plot and clegane and arya barely escape the ensuing bloody massacre season with the rest of house stark believed dead and the riverlands now under the rule of house frey clegane decides to ransom arya to her aunt lysa arryn in the vale during their journey arya reveals to clegane that she has not forgiven him for killing mycah and has vowed to kill him the duo arrive in the vale to find that lysa has ostensibly committed suicide returning from the bloody gate they encounter the sworn sword to arya mother catelyn brienne of tarth who had promised to take the stark children to safety when arya refuses to go with brienne brienne and clegane engage in single combat that culminates in brienne knocking clegane off cliff gravely wounding him although clegane begs arya to kill him she leaves him to die season it is revealed that clegane survived he had been discovered by ray warrior turned septon clegane assists ray and his followers in building sept but one day after brief journey into nearby woods to chop wood clegane returns to the community to find everyone slaughtered by rogue members of the brotherhood without banners clegane takes up an ax to hunt down those responsible and kills four of them before discovering the remaining three about to be hanged by lord beric dondarrion and thoros of myr who inform him that the group were acting independently of the brotherhood lord beric allows clegane to help hang two of the outlaws followed by an offer to join the brotherhood in their journey north to fight the white walkers season during their journey north the brotherhood stops at farm owned by farmer clegane had previously robbed inside they find the bodies of the farmer and his daughter remorseful clegane digs them grave with thoros help thoros has clegane look into the flames of the brotherhood campfire and in them the skeptical clegane sees the white walkers and their forces marching towards the wall the brotherhood attempts to cross the wall via eastwatch by the sea but are intercepted by wildling scouts manning the castle and are locked in the ice cells soon afterward jon snow davos seaworth jorah mormont and gendry arrive at eastwatch intending to capture wight to present to cersei now queen of the seven kingdoms as evidence the white walkers exist clegane beric and thoros are released to accompany jon jorah gendry and the wilding tormund giantsbane beyond the wall the group soon captures wight but is surrounded by the white walkers and their army of wights although not before gendry flees to eastwatch to request daenerys targaryen aid daenerys arrives with her dragons before the group can be overrun one dragon is killed and reanimated by the night king but daenerys group minus jon who stays behind to fight back the white walkers is able to flee clegane joins jon daenerys and davos as they sail to king landing at king landing clegane meets brienne of tarth despite their previous brutal fight they converse on civil terms clegane learns that arya is alive and with her family prompting rare smile during the summit in the dragon pit outside king landing clegane confronts his brother and asks what they did to him then cuts off the answer and tells him he always knew who would come for him clegane brings out the trunk containing the wight revealing to cersei and jaime lannister the threat that lies beyond the wall in the aftermath clegane sails to white harbor with daenerys forces with the intention of travelling to winterfell to aid jon and daenerys against the night king season the hound joins daenerys jon and their retinues as they march to winterfell where he is reunited with arya and sansa the hound and arya make peace with one another before the dreaded battle of winterfell against the white walkers during the battle the hound is triggered by the use of fire to destroy the wights and is close to giving up but is convinced by beric to keep fighting indicating towards arya who is relentlessly fighting beside them the hound then travels to king landing to kill his brother along with arya who intends to kill cersei the two infiltrate the red keep amongst crowd of civilians cersei is using as human shields but daenerys begins burning the city down and the red keep begins to crumble the hound urges arya to leave as he goes to find his brother arya thanks him calling him by his true name for the first and only time and bids him farewell fight ensues between the clegane brothers and sandor struggles to even injure his inhuman brother gregor is momentarily disarmed after the hound stabs him through the head and the hound tackles him off stairway into the inferno below resulting in both of their deaths references\\n', 'id': '50f448ee-4b21-4ded-9983-a6b3179624e9', 'score': 29.186636, 'probability': 0.9746260178070326, 'question': None, 'meta': {}, 'embedding': None}, {'text': \"When Sandor mentions Arya Stark, niece of Lady Lysa, the guard tells them Lysa is dead, leaving Sandor dumbstruck and Arya in an uncontrollable fit of laughter over Sandor's repeated failed attempts to ransom her.\\n\", 'id': '3067e52f-15dc-45ab-bd94-969c1bad8bb2', 'score': 29.121225, 'probability': 0.974423028267501, 'question': None, 'meta': {}, 'embedding': None}, {'text': 'A short while later, Sandor and Arya\\xa0meet Brienne of Tarth and her squire, Podrick Payne , who have been on a quest to find the Stark sisters.\\n', 'id': 'bd04deb7-d7c0-48f2-99a6-9d41b90ba5c2', 'score': 28.929358, 'probability': 0.9738184455194435, 'question': None, 'meta': {}, 'embedding': None}, {'text': 'gendry is fictional character in the song of ice and fire series of epic fantasy novels by american author george martin and its hbo television adaptation game of thrones first appearing in game of thrones gendry is blacksmith apprentice in king landing and an unacknowledged bastard of king robert baratheon he subsequently appeared in clash of kings storm of swords and feast for crows after queen cersei lannister orders the execution of all of king robert bastards gendry is forced to flee king landing alongside arya stark under the protection of yoren recruiter for the night watch he later joins the outlaw group brotherhood without banners and is knighted by its leader beric dondarrion and becomes follower of hllor gendry is portrayed by english actor joe dempsie in the hbo television adaptation character description gendry was conceived and born in king landing after robert rebellion ended and is one of sixteen twenty in the television series bastard children of king robert baratheon he is fourteen years old when introduced in the first book and is portrayed as tall and very muscled having blue eyes and thick black hair very similar to his biological father robert in youth he also looks hauntingly like younger version of renly baratheon though with squarer jaw bushier brows and tangled hair but resembles his uncle enough that for moment brienne of tarth almost mistook him for the deceased renly gendry is an intelligent boy despite being born into poverty but is also stubborn sullen suspicious easily confused and shy around women and arya stark commented that he looks pained when he tries to think despite being one of the only four surviving biological children of king robert along with mya stone edric storm and bella rivers gendry never knew who his father was though he did see robert from afar multiple times and was once nearly trampled by drunken robert horse while playing near the city gate his mother was reported to have been an alehouse worker who died when gendry was still young boy and all he remembers of her was that she had blonde hair later on tobho mott master armourer from qohor working in king landing was offered double the customary fee by lord with concealed identity to take gendry in as smith apprentice but accepted him for free after being impressed by the boy physique gendry turns out to be talented apprentice and likes to spend time polishing bull head helmet that he proudly made for himself which earned him the nickname bull by fellow orphan boy lommy greenhands storylines coat of arms of house baratheon gendry is not point of view character in the novels and his actions are witnessed and interpreted primarily through the eyes of arya stark as well as some descriptions from eddard stark and brienne of tarth he has by far the most story arc out of king robert children game of thrones in his investigation about the death of jon arryn eddard stark meets several people who had met with arryn shortly before his death one of them is gendry who was sought by both jon arryn and stannis baratheon eddard immediately recognizes gendry as bastard child of king robert baratheon and tells tobho mott that if gendry ever shows interest in military service he is to be sent directly to eddard gendry has shown promise as blacksmith and made helmet in the shape of bull head eddard compliments the helmet offering to purchase it but gendry refuses to the embarrassment of his master clash of kings after king robert death and eddard stark political fall and eventual public execution varys makes arrangements for the night watch recruiter yoren to take gendry to the wall in order to protect him from queen cersei purge gendry travels north with yoren and thirty other recruits including lommy greenhands hot pie and disguised arya stark not far from king landing they are stopped by several gold cloaks from the city watch who demand that yoren give up gendry as he is wanted by queen cersei yoren refuses and threatens off the gold cloaks with his recruits later near an abandoned holdfast by the god eye lake the recruits are attacked by lannister soldiers led by ser amory lorch yoren is killed in the fight and gendry along with arya lommy and hot pie escape the burning holdfast through secret tunnel whilst on reconnaissance run with arya gendry confronts her about her true gender and identity he eventually has the truth out of her and is subsequently embarrassed by how crass he had spoken to her when she was in fact highborn lady gendry is later captured by ser gregor clegane soldiers but is spared from death since his metalworking skill is useful as slave laborer after lannister man at arms rafford kills the injured lommy they are taken to harrenhal where gendry works as smith when arya decides to escape from harrenhal however she persuades gendry and hot pie to join her storm of swords while wandering around the riverlands looking for the direction of riverrun arya gendry and hot pie are captured by the brotherhood without banners led by resurrected beric dondarrion at the peach brothel in stoney sept gendry declines the seductive advance by bella his unknown half sister but later argues with arya out of jealousy because she was talking to beric squire edric dayne who claims to be jon snow milk brother gendry is later impressed with thoros of myr description of the ideals of the brotherhood and decides to join them he is knighted by beric thus becoming ser gendry knight of the hollow hill feast for crows while questing to find sansa stark brienne of tarth encounters gendry working as smith at the inn at the crossroads along with group of orphans and is struck by his resemblance to the late renly baratheon at the inn brienne encounters and duels with rorge killing him only to be savaged by biter gendry saves brienne life by driving spear through biter neck family tree of house baratheon tv adaptation joe dempsie plays the role of gendry in the television series game of thrones gendry is played by joe dempsie in the television adaption of the series of books explaining how he got cast for the role when was cast as gendry didn have any of the physical attributes the part required was astounded that got the role to be honest but david and dan said we need to dye his hair black and it be great you hit the gym before we start filming so was told to get in shape dempsie has received positive reviews for his performance as gendry in the television series he and the rest of the cast were nominated for screen actors guild awards for outstanding performance by an ensemble in drama series in season eddard ned stark tells the smith to send gendry to him if he ever shows interest in wielding sword gendry shows promise as smith and makes helmet in the shape of bull head eddard compliments the helmet offering to purchase it gendry refuses to the shame of the master smith after ned arrest and eventual execution arrangements are made for yoren of the night watch to take gendry to the wall with him season gendry travels north with yoren and other night watch recruits including arya stark disguised as an orphan boy named arry lommy greenhands hot pie and jaqen ghar during their journey they are stopped by the goldcloaks of the city watch they demand that yoren hand gendry over to them because king joffrey has ordered that all of his father robert bastards be killed yoren turns the goldcloaks away later gendry forces arya to reveal her true identity and is surprised to learn she is ned stark daughter after the goldcloaks get help from ser amory lorch and his men they ambush the travelling party in the chaos yoren is killed gendry life is saved by arya who convinces the goldcloaks that lommy who was killed during the attack was gendry gendry and the rest of the recruits are escorted to harrenhal the ruined castle turned prison ser gregor clegane oversees order here and arbitrarily has many of the prisoners tortured and killed gendry is nearly tortured and killed but is saved by the arrival of lord tywin lannister who chides clegane men for their reckless treatment of the prisoners due to jaqen ghar help arya gendry and hot pie are able to escape harrenhal season as they head towards the riverlands the group encounters the brotherhood without banners group of outlaws who defend the weak inspired gendry decides to join the brotherhood but is betrayed by them when they sell him to lady melisandre as ordered by the lord of light melisandre later reveals to gendry that the late king robert was his father and that she is bringing him to meet his uncle stannis at dragonstone but in truth melisandre and stannis plan to use gendry blood in magic ritual to create death curse on the usurpers to his throne king joffrey the king in the north robb stark and king of the iron islands balon greyjoy before they can sacrifice gendry davos seaworth helps him escape to king landing in rowboat unable to swim or row competently gendry is nevertheless convinced that the red woman has surer death in store for him and returns to westeros capital by sea season in the years after his escape from dragonstone series of events result in the deaths of the rest of house baratheon leaving gendry as the only person with baratheon heritage gendry returns to work as blacksmith in king landing hiding in plain sight from the lannister soldiers and goldcloaks although he reasons that the lannisters will not think to look for him in the city he grates at having to manufacture weapons for their army gendry is greeted by davos who has briefly returned to the capital to find him he wants gendry assistance in the coming war against the white walkers gendry eagerly agrees after meeting king in the north jon snow and bonding over their statuses as bastard sons of robert baratheon and allegedly ned stark respectively they head north to eastwatch by the sea gendry alongside jon tormund giantsbane sandor clegane beric dondarrion thoros of myr and jorah mormont travel beyond the wall to retrieve wight to present as evidence to cersei lannister of the impending white walker invasion gendry still resents beric and thoros for selling him the group manages to capture lone wight but jon realizes that the rest of the wights are approaching and orders gendry to run back to eastwatch to send raven to daenerys targaryen requesting her assistance after running through the night gendry collapses from exhaustion outside eastwatch but is rescued by davos and group of wildlings managing to tell them of jon warning season gendry joins daenerys army as they camp at winterfell in anticipation of the white walkers attack gendry is tasked with smithing weapons from dragonglass capable of killing the wights reunited with arya she bids him create dual bladed dragonglass staff on the eve of the attack gendry gives her the weapon and relates his baratheon heritage to her arya inquires of his past romantic liaisons then expresses her desire to lose her virginity should they die tomorrow and they make love gendry survives the long night and is legitimised baratheon by daenerys and given lordship of storm end gendry professes his love to arya and proposes but arya declines not wanting the life of lady daenerys wrests control of king landing from cersei lannister but burns the populace of the city after they surrender to her jon tries but fails to dissuade daenerys from further destruction and ultimately assassinates her with the deaths of cersei and daenerys westeros is left without ruler gendry travels to king landing along with westeros other nobility to decide the future of the seven kingdoms tyrion proposes that bran stark be crowned king gendry approves along with the other lords unanimously references sources\\n', 'id': 'd2897493-b4c8-449a-a4ca-08a998b9d4b5', 'score': 28.723375, 'probability': 0.9731539050611008, 'question': None, 'meta': {}, 'embedding': None}, {'text': 'We know him now as the lovable lunk who made up half of a road-movie buddy-comedy duo with Arya Stark, at least until she left him for dead.\\n', 'id': '21588f53-ffa4-4158-adbf-ec6868cf71e1', 'score': 28.596977, 'probability': 0.9727380302451983, 'question': None, 'meta': {}, 'embedding': None}, {'text': 'In the season four finale, though, Brienne of Tarth, who had been searching for the Stark sisters in an effort to fulfill a promise to their late mother, encountered Sandor and Arya.\\n', 'id': 'd1084f60-941a-46d4-a477-ca8fabe8c199', 'score': 28.5188, 'probability': 0.9724776850255021, 'question': None, 'meta': {}, 'embedding': None}, {'text': 'arya also spelled aarya or ariya also known as aryo or ario is an indian and iranian name the sanskrit word arya is surname and masculine and feminine hindu given name signifying honorable in iran it is popular masculine given name and popular surname in indonesia arya is also commonly used as masculine given name usually in java bali and other places in javanese it becomes aryo ario or aryono for the meaning and history of the english word aryan modern usage the television series game of thrones features character named arya stark increasing the name popularity among western audiences in bbc news wrote that the passion and the extreme devotion of fans had brought about phenomenon unlike anything related to other popular tv series manifesting itself in very broad range of fan labor such as fan fiction game of thrones themed burlesque routines or people naming their children after characters from the series in arya was the fastest rising girl name in popularity in the jumping from th to th position the name entered the top most commonly used names for girls born in england and wales in notable persons from india arya bhatta indian mathematician aditi arya born indian model aditya arya indian photographer arya actor born south indian actor aarya ambekar born marathi playback singer aarya babbar born indian actor arya gopi indian malayalam language poet arya rohit indian actress arya indian structural engineer anita arya indian politician from the bjp chaudhari kumbharam arya indian freedom fighter and popular leader ishan arya indian cinematographer and producer mangilal arya indian freedom fighter and social reformer nikhil arya indian tv actor ram narain arya indian rainmaker satyadeo narain arya indian politician from bihar shraddha arya indian actress from the telugu film industry shubhavi arya born indian animator arya indian physician and writer surendranath arya indian independence activist yashpal arya indian politician from the national congress from iran aryo barzan an achaemenid prince who was born in bc and died in bc aryandes satrap of persian egypt ariamnes satrap of cappadocia ariyāramna minor king in pre imperial persia pars region and great grandfather of darius ariobarzanes of media atropatene ruled from bc to bc ariobarzanes ii of atropatene grandson of ariobarzanes king of media atropatene from bc to bc ariobarzanes of cappadocia king of cappadocia from bc to ca or bc akram monfared arya born first iranian female pilot fatemeh motamed arya born iranian actress arya aramnejad born iranian singer arya aziminejad born iranian composer arya nasimi shad born iranian swimmer ariya daivari born iranian american professional wrestler from indonesia arya penangsang sultan of demak arya maulana aldiartama born indonesian badminton player ngurah komang arya born indonesian footballer aryo danusiri indonesian film director aryo djojohadikusumo indonesian politician from other origins amit arya canadian hindustani classical music vocalist arya mitra sharma born german doctor chandra arya canadian politician fictional characters arya dröttningu later arya dröttning from the inheritance cycle book series by christopher paolini arya stark from george martin song of ice and fire book series and its television adaptation game of thrones references\\n', 'id': 'e4cf6265-9f7f-45ce-8e8b-2db328935ca9', 'score': 28.34849, 'probability': 0.9719021276150067, 'question': None, 'meta': {}, 'embedding': None}, {'text': 'At this point in the books, the vast majority of Westeros believes Arya Stark to be dead, while Bran and Rickon Stark are also thought to have been killed by Theon.\\n', 'id': 'e99879a8-7338-43f7-a5aa-cd9469a12c07', 'score': 27.30127, 'probability': 0.9680978187684468, 'question': None, 'meta': {}, 'embedding': None}]\n"
     ]
    }
   ],
   "source": [
    "from haystack.retriever.sparse import ElasticsearchRetriever\n",
    "retriever = ElasticsearchRetriever(document_store=document_store)\n",
    "print(retriever.retrieve(query=\"Who is the father of Arya Stark?\", top_k=10))"
   ]
  },
  {
   "cell_type": "code",
   "execution_count": 7,
   "id": "checked-frank",
   "metadata": {},
   "outputs": [
    {
     "name": "stderr",
     "output_type": "stream",
     "text": [
      "06/08/2021 21:24:55 - INFO - elasticsearch -   POST http://localhost:9200/document/_search [status:200 request:0.066s]\n"
     ]
    },
    {
     "name": "stdout",
     "output_type": "stream",
     "text": [
      "[{'text': 'For example, when the sun is higher in the sky, pillars are white or bright yellow in colour.\\n', 'id': '4232d0de-617e-4118-bbb4-bed4f6a7658f', 'score': 26.19023, 'probability': 0.9635182308959435, 'question': None, 'meta': {}, 'embedding': None}, {'text': 'the cora sun drop diamond is the largest known yellow pear shaped diamond weighing it was sold for million at sotheby auction in geneva and set world record price for yellow diamond history the sun drop has very short history it was found in south africa in within kimberlite pipe tests show that the diamond was formed from to billion years ago after that on february it was kept in the vault of the london natural history museum together with many other precious stones such as the duke of devonshire emerald and the aurora pyramid of hope where it stayed for six months in november it was sold at an auction in geneva for just over million the stone was cut and owned by the diamond manufacturing company cora international based in new york city it was sold at the auction by sotheby the sun drop was bought by telephone bidder who decided to remain anonymous including commission and taxes the buyer paid million the pre sale estimate was from to million dollars it sold for record for yellow diamond it was exactly within our expectation for this spectacular stone said mr bennett an auctioneer colour the intense yellow colour or vivid fancy yellow as the experts called it is given to the diamond by molecules of nitrogen that have been trapped in the molecules of carbon and hardened over thousands of years yellow is the fifth most rare colour for diamond after red green blue and pink good quality diamonds are termed fancies by dealers only in diamonds is good enough body colour to be called fancy cut the diamond was cut as pear brilliant also called drop cut suzette gomes the chief executive at cora international said that the cut is vital in bringing out the diamond beauty she said if the colour is weaker you would cut square to keep the colour and make it stronger if your colour very strong you would cut pear shape cutting the sun drop took cora international six months references https www bbc co uk news world europe https www bbc co uk news world europe https www bbc co uk news science environment https www theguardian com science video feb cora sun drop diamond museum http www nhm ac uk natureplus blogs whats new our new cora sun drop diamond sets the vault gallery ablaze fromgateway true http www nhm ac uk about us news february worlds largest yellow pear shape diamond dazzles in museum html http www nhm ac uk visit us galleries green zone vault index html http www sothebys com en auctions magnificent jewels ge overview html http www luxist com tag cora sun drop diamond https archive is http hungeree com culture cora sun drop diamond http www digitalhen co uk news world europe http www com news show gemstones by keith wallis fga\\n', 'id': 'ab5d040e-832c-42ee-a837-2a4e1784e914', 'score': 26.168192, 'probability': 0.9634212753539599, 'question': None, 'meta': {}, 'embedding': None}, {'text': 'this list of gazania cultivars includes plant cultivars of the south african genus gazania cultivar image colour petals colour centre notes reference aztec cream maroon yellow aztec queen multi coloured clumping burgundy christopher lloyd rose green colorama mixed copper king px orange with markings cookei deep orange olive green yellow daybreak bright orange orange yellow daybreak garden sun yellow yellow daybreak red stripe px dorothy yellow yellow fiesta red dark orange red fire emerald various emerald petal bases gold rush orange yellow brown basal spots michael yellow yellow white brown at base yellow mitzuwa yellow yellow moon glow yellow northbourne yellow yellow sundance sundance mixed hybrids gold bronze and white petals with contrasting stripe sunburst orange yellow sunglow yellow sun gold px sunrise yellow yellow black talent series multicoloured see also lists of cultivars references\\n', 'id': '92ad9ab7-2ce6-4185-bad7-f44ef0d2c097', 'score': 25.497614, 'probability': 0.9603498056778533, 'question': None, 'meta': {}, 'embedding': None}, {'text': 'Leaves are dark green in colour in shade, bright greenish-yellow in full sun and apex is rounded or notched.\\n', 'id': '48e67744-e069-4bcc-9b02-139bf800c279', 'score': 25.102156, 'probability': 0.9584240920045354, 'question': None, 'meta': {}, 'embedding': None}, {'text': 'The Sun has a surface temperature of 5,500 degrees Celcius, its colour appears yellow.\\n', 'id': '7b14167f-a62f-4721-a818-3be28fe1e15d', 'score': 24.74845, 'probability': 0.9566261627662187, 'question': None, 'meta': {}, 'embedding': None}, {'text': '3+ 482 Marvels of the Universe Whether the ground-colour of the under surface of the body is yellow or orange depends, it seems, on what naturaUsts call station ; the yellow-bellied phase li\\\\dng in streams at a considerable eleva.\\n', 'id': 'b928f4d3-6b27-48c1-9506-864cc76efae1', 'score': 23.545403, 'probability': 0.9499399446613056, 'question': None, 'meta': {}, 'embedding': None}, {'text': 'rosa sun flare aka jacjem is yellow floribunda rose cultivar bred by william warriner and introduced into united states by jackson perkins in the rose won gold medal in japan in portland in and was named an all america rose selections winner in description sun flare is short bushy shrub to ft cm in height with ft cm spread flowers are slightly double petals and bloom in small clusters buds are pointed the bright yellow double flowers reach cm in diameter and appear in clusters of to in flushes throughout the flowering season the lemon yellow colour hardly fades with age even in hot climates problem many other yellow cultivars have the ruffled flowers develop from pointed buds and have mild licorice fragrance sun flare sometimes has rose hips the rose has mild licorice fragrance the plant has reddish prickles and medium glossy dark green foliage the plant thrives in usda zone and warmer and blooms in flushes from spring to fall it is winter hardy up to usda zone and very disease resistant sports and child plants rosa bill warriner sun flare impatient rosa eureka berstein rose sun flare rosa first kiss sun flare simplicity rosa flirtatious sun flare peppermint twist rosa grand prize sun flare impatient sun flare cl sport awards sun flare has won several awards including gold medals in japan and portland and being included into the all america rose selections in see also garden roses rose hall of fame list of award of garden merit roses notes references\\n', 'id': 'b1c13027-57d1-4745-aae3-afa8fcef986e', 'score': 23.166737, 'probability': 0.9476405151730766, 'question': None, 'meta': {}, 'embedding': None}, {'text': 'light and colour goethe theory the morning after the deluge moses writing the book of genesis is an oil painting by the english painter joseph mallord william turner first exhibited in description made during the latter years of turner career this painting depicts the aftermath of the great flood story told in the book of genesis the role of man is portrayed as passive through his inability to control nature which is beautiful to the eye yet has the power to destroy and recreate life this piece also illustrates turner belief in god omnipotence as it is he who creates the flood allows noah to survive and inspired moses to write the book of genesis genesis in this case leads back to the creation of man light and the water which light is being reflected on style for most of his career turner whose works are predominantly subjective was recognised for his watercolor and oil paintings that reflected landscape images and scenes of natural entities such as the weather the ocean the effect of light and vision through the blurring of images turner attempts to justify the belief that the eye is always trying to form an image as it tries to recreate nature traditionally colour is used as type of accessory to form but turner attraction to light and colour allows colour to take the place of form the main colours used by turner were red yellow and blue which is discussed more in depth in relation to other works that influenced that of turner his work also illustrates his relationship to the romantic movement and position as the precursor of the impressionist movement goethe theory as expressed in the title of the painting turner found interest in johann wolfgang von goethe book theory of colours also known as zur farbenlehre published in turner absorbed goethe theory of light and darkness and depicted their relationship in number of his paintings according to this theory the creation of colour is dependent on the distribution of dark and light reflecting through transparent object turner uses concepts from goethe theory which is rejection of newton seven color theory and expresses the belief that every colour was an individualised combination of light and darkness newton reasoning in his theory of light and colour was in the words of michael duck too simplistic for goethe as result goethe found his own form of vision in regards to the physiological aspects of the concept of colour as result goethe claims that there is an infinite amount of colour variation and through his paintings turner attempts to reflect this theory turner also responds to the plus and minus concepts that goethe created to address both emotions and the eye his main focus was the afterimage that is left on the retina after seeing an image through this after image the plus addresses the colours red and yellow which is intended to evoke buoyant feelings while the colour blue contrasts such as it creates the emotion of melancholy and desolation according to goethe concept yellow undergoes transition of light becoming darker when light reaches its peak just as the sun shines in the sky it develops to white light that is colourless but the light deepens and evolves the yellow into an orange and then finally to ruby red hue turner illustrates the process of yellow transitioning into phases of light by showing how as the viewer moves away from the centre the edges get darker symbolism the yellow colouring of the painting is reference to goethe theory of colour which explains the colour yellow as being the first colour transmitted from light the form of the painting is circular symbolising the construction of the human eye changing the focus of typical linear splitting of space to more subjective portrayal the colour yellow is typically optimistic but turner captures the negativity of yellow by attaching the colour to light that is subject to change the morning sun aspect of the colour is something transient companion piece turner paired piece titled shade and darkness the evening of the deluge was also exhibited in in this piece as well as the morning after the deluge turner makes no attempt to mirror the scene of the flood in its naturality fallacies of hope is poem that turner supposedly wrote to parallel the two paintings frankfurt theft light and colour was among three paintings stolen from frankfurt museum in shade and darkness was also taken in the tate gallery covertly purchased light and colour on the black market for million acknowledgement shown in the london royal academy the tate gallery london also known as the tate britain housed many works of turner including this piece references\\n', 'id': '0416038a-35e2-4f4f-994c-9806e29a6d3f', 'score': 23.12287, 'probability': 0.9473677724556966, 'question': None, 'meta': {}, 'embedding': None}, {'text': 'The iris of an adult fox is typically a stunning bright amber/yellow colour, owing largely to the pigment lipochrome (other factors such as the cellular structure, texture and pigment combinations control the precise colour and brightness); it is unknown what, if any, benefit foxes get from having an iris this colour, but it has been suggested that in some mammals (squirrels, for example) it may act in a similar manner to sunglasses, reducing glare in bright light.\\n', 'id': '9db323b5-0827-4a37-af8c-aaf0c2a01a5d', 'score': 22.68096, 'probability': 0.9445444003009495, 'question': None, 'meta': {}, 'embedding': None}, {'text': 'We cannot, indeed, explain what connection there is between the visits of flies and the yellow, red, or violet dots which in some species sometimes change their colour during the period of flowering.\\n', 'id': '2bb783a9-fbaa-4706-a53c-674055d146b0', 'score': 22.607182, 'probability': 0.9440593511812196, 'question': None, 'meta': {}, 'embedding': None}]\n"
     ]
    }
   ],
   "source": [
    "print(retriever.retrieve(query=\"What colour is the sun? Yellow\", top_k=10))"
   ]
  },
  {
   "cell_type": "code",
   "execution_count": 8,
   "id": "contained-pilot",
   "metadata": {},
   "outputs": [],
   "source": [
    "#document_store.delete_documents()"
   ]
  },
  {
   "cell_type": "code",
   "execution_count": 9,
   "id": "alleged-institution",
   "metadata": {},
   "outputs": [
    {
     "ename": "NameError",
     "evalue": "name 'AlbertTokenizer' is not defined",
     "output_type": "error",
     "traceback": [
      "\u001b[0;31m---------------------------------------------------------------------------\u001b[0m",
      "\u001b[0;31mNameError\u001b[0m                                 Traceback (most recent call last)",
      "\u001b[0;32m<ipython-input-9-41c8e81879ad>\u001b[0m in \u001b[0;36m<module>\u001b[0;34m\u001b[0m\n\u001b[1;32m     41\u001b[0m \u001b[0;34m\u001b[0m\u001b[0m\n\u001b[1;32m     42\u001b[0m \u001b[0;34m\u001b[0m\u001b[0m\n\u001b[0;32m---> 43\u001b[0;31m \u001b[0;32mdef\u001b[0m \u001b[0mpreprocess\u001b[0m\u001b[0;34m(\u001b[0m\u001b[0mtokenizer\u001b[0m\u001b[0;34m:\u001b[0m \u001b[0mAlbertTokenizer\u001b[0m\u001b[0;34m,\u001b[0m \u001b[0mx\u001b[0m\u001b[0;34m:\u001b[0m \u001b[0mDict\u001b[0m\u001b[0;34m)\u001b[0m \u001b[0;34m->\u001b[0m \u001b[0mDict\u001b[0m\u001b[0;34m:\u001b[0m\u001b[0;34m\u001b[0m\u001b[0;34m\u001b[0m\u001b[0m\n\u001b[0m\u001b[1;32m     44\u001b[0m \u001b[0;34m\u001b[0m\u001b[0m\n\u001b[1;32m     45\u001b[0m     \u001b[0mchoices_features\u001b[0m \u001b[0;34m=\u001b[0m \u001b[0;34m[\u001b[0m\u001b[0;34m]\u001b[0m\u001b[0;34m\u001b[0m\u001b[0;34m\u001b[0m\u001b[0m\n",
      "\u001b[0;31mNameError\u001b[0m: name 'AlbertTokenizer' is not defined"
     ]
    }
   ],
   "source": [
    "def raw_samples_to_dataset(samples, daset):\n",
    "    datas = []\n",
    "    i = 0\n",
    "    for sample in samples:\n",
    "        i+=1\n",
    "        if i%250 == 0:\n",
    "            print(i)\n",
    "        _id = sample[\"id\"]\n",
    "        _uniques = []\n",
    "        _rscore = []\n",
    "        _article = []\n",
    "        for idx in range(len(sample['question']['choices'])): \n",
    "            _facts = \"\"\n",
    "            _scores = []\n",
    "            for result in retriever.retrieve(query=sample[\"question\"]['stem'] + \" \" + sample[\"question\"]['choices'][idx]['text'], top_k=4):\n",
    "                _facts = _facts + \". \" + result.text\n",
    "                _scores.append(result.score)\n",
    "            _rscore.append(_scores)\n",
    "            _article.append(_facts)\n",
    "                \n",
    "#        print(_article)\n",
    "        _question = sample[\"question\"]['stem']\n",
    "        _options = []\n",
    "        _answer = sample[\"answerKey\"]\n",
    "        for idx in range(len(sample['question']['choices'])): \n",
    "            _options.append(sample[\"question\"]['choices'][idx]['text'])\n",
    "\n",
    "        data = {\n",
    "                \"str_id\": _id,\n",
    "                \"id\": i,\n",
    "                \"article\": _article,\n",
    "                \"options\": _options,\n",
    "                \"question\": _question,\n",
    "                \"answer\": _answer,\n",
    "                \"optionscore\": [],\n",
    "                \"rscore\": _rscore\n",
    "                }\n",
    "        datas.append(data)\n",
    "        daset.append(data)\n",
    "    return lf.Dataset(datas)\n",
    "\n",
    "\n",
    "def preprocess(tokenizer: AlbertTokenizer, x: Dict) -> Dict:\n",
    "\n",
    "    choices_features = []\n",
    "    i=0\n",
    "    option: str\n",
    "    for option in x[\"options\"]:\n",
    "        text_a = x[\"article\"][i]\n",
    "        i+=1\n",
    "        text_b = x[\"question\"] + \" \" + option\n",
    "\n",
    "        inputs = tokenizer.encode_plus(\n",
    "                text_a,\n",
    "                text_b,\n",
    "                add_special_tokens=True,\n",
    "                max_length=MAX_LEN\n",
    "                )\n",
    "        input_ids, token_type_ids = inputs[\"input_ids\"], inputs[\"token_type_ids\"]\n",
    "        attention_mask = [1] * len(input_ids)\n",
    "\n",
    "        pad_token_id = tokenizer.pad_token_id\n",
    "        padding_length = MAX_LEN - len(input_ids)\n",
    "        input_ids = input_ids + ([pad_token_id] * padding_length)\n",
    "        attention_mask = attention_mask + ([0] * padding_length)\n",
    "        token_type_ids = token_type_ids + ([pad_token_id] * padding_length)\n",
    "\n",
    "        assert len(input_ids) == MAX_LEN, \"Error with input length {} vs {}\".format(len(input_ids), MAX_LEN)\n",
    "        assert len(attention_mask) == MAX_LEN, \"Error with input length {} vs {}\".format(len(attention_mask), MAX_LEN)\n",
    "        assert len(token_type_ids) == MAX_LEN, \"Error with input length {} vs {}\".format(len(token_type_ids), MAX_LEN)\n",
    "\n",
    "        choices_features.append({\n",
    "            \"input_ids\": input_ids,\n",
    "            \"attention_mask\": attention_mask,\n",
    "            \"token_type_ids\": token_type_ids,\n",
    "            })\n",
    "\n",
    "    labels = label_map.get(x[\"answer\"], -1)\n",
    "    label = torch.tensor(labels).long()\n",
    "\n",
    "    return {\n",
    "            \"id\": x[\"id\"],\n",
    "            \"label\": label,\n",
    "            \"input_ids\": torch.tensor([cf[\"input_ids\"] for cf in choices_features]),\n",
    "            \"attention_mask\": torch.tensor([cf[\"attention_mask\"] for cf in choices_features]),\n",
    "            \"token_type_ids\": torch.tensor([cf[\"token_type_ids\"] for cf in choices_features]),\n",
    "            }"
   ]
  },
  {
   "cell_type": "code",
   "execution_count": 24,
   "id": "vocal-presentation",
   "metadata": {},
   "outputs": [
    {
     "name": "stdout",
     "output_type": "stream",
     "text": [
      "14621856\n"
     ]
    }
   ],
   "source": [
    "data_arc = []\n",
    "f = open('./ARC-V1-Feb2018-2/ARC_Corpus.txt', 'r+')\n",
    "for line in f:\n",
    "      data = {}\n",
    "      data['text'] = line\n",
    "      data['meta'] = {}\n",
    "      data_arc.append(data)\n",
    "f.close()\n",
    "print(len(data_arc))"
   ]
  },
  {
   "cell_type": "code",
   "execution_count": 15,
   "id": "commercial-phoenix",
   "metadata": {},
   "outputs": [
    {
     "name": "stdout",
     "output_type": "stream",
     "text": [
      "[{'text': 'A term meaning rebirth.\\n', 'meta': {}}, {'text': 'Harry Potter and the Obnoxious Voice - The Parody!\\n', 'meta': {}}, {'text': \"Well no ones saying they're identical, just that you can compare them.\\n\", 'meta': {}}, {'text': 'In fact I think that if we are prepared to apply Descartes’s approach repeatedly and indefinitely we are likely to get through a few more interesting levels quite soon.\\n', 'meta': {}}, {'text': 'The common dandelion reproduces asexually to produce seeds identical to the parent in a process called apomixes .\\n', 'meta': {}}, {'text': 'Its available free from PLoS Pathogens:\\n', 'meta': {}}, {'text': 'Whenever the bus brakes, the flywheel works as a regenerative brake , absorbing kinetic energy and slowing the vehicle down.\\n', 'meta': {}}, {'text': 'Holt, R. D. 1977.\\n', 'meta': {}}, {'text': 'As discussed in the blue/green levels of this chapter microbial cells use nutrients for growth, energy production and product formation as indicated in the following expression;\\n', 'meta': {}}, {'text': 'Thus, a pathogen must find the requisite nutrients to provide the building blocks for these complex macromolecules and the energy with which to synthesize them.\\n', 'meta': {}}]\n"
     ]
    }
   ],
   "source": [
    "print(data_arc[4715500:4715510])"
   ]
  },
  {
   "cell_type": "code",
   "execution_count": 15,
   "id": "recorded-marriage",
   "metadata": {},
   "outputs": [
    {
     "name": "stderr",
     "output_type": "stream",
     "text": [
      "05/12/2021 16:27:32 - INFO - elasticsearch -   POST http://localhost:9200/_bulk?refresh=wait_for [status:200 request:0.456s]\n",
      "05/12/2021 16:27:33 - INFO - elasticsearch -   POST http://localhost:9200/_bulk?refresh=wait_for [status:200 request:1.020s]\n",
      "05/12/2021 16:27:34 - INFO - elasticsearch -   POST http://localhost:9200/_bulk?refresh=wait_for [status:200 request:1.023s]\n"
     ]
    },
    {
     "ename": "KeyboardInterrupt",
     "evalue": "",
     "output_type": "error",
     "traceback": [
      "\u001b[0;31m---------------------------------------------------------------------------\u001b[0m",
      "\u001b[0;31mKeyboardInterrupt\u001b[0m                         Traceback (most recent call last)",
      "\u001b[0;32m<ipython-input-15-dfd5442d48e9>\u001b[0m in \u001b[0;36m<module>\u001b[0;34m\u001b[0m\n\u001b[0;32m----> 1\u001b[0;31m \u001b[0mdocument_store\u001b[0m\u001b[0;34m.\u001b[0m\u001b[0mwrite_documents\u001b[0m\u001b[0;34m(\u001b[0m\u001b[0mdata_arc\u001b[0m\u001b[0;34m,\u001b[0m\u001b[0mbatch_size\u001b[0m \u001b[0;34m=\u001b[0m \u001b[0;36m100000\u001b[0m\u001b[0;34m)\u001b[0m\u001b[0;34m\u001b[0m\u001b[0;34m\u001b[0m\u001b[0m\n\u001b[0m",
      "\u001b[0;32m/pfs/data5/home/st/st_us-051200/st_st171103/testenv/lib/python3.6/site-packages/haystack/document_store/elasticsearch.py\u001b[0m in \u001b[0;36mwrite_documents\u001b[0;34m(self, documents, index, batch_size)\u001b[0m\n\u001b[1;32m    393\u001b[0m             \u001b[0;31m# Pass batch_size number of documents to bulk\u001b[0m\u001b[0;34m\u001b[0m\u001b[0;34m\u001b[0m\u001b[0;34m\u001b[0m\u001b[0m\n\u001b[1;32m    394\u001b[0m             \u001b[0;32mif\u001b[0m \u001b[0mlen\u001b[0m\u001b[0;34m(\u001b[0m\u001b[0mdocuments_to_index\u001b[0m\u001b[0;34m)\u001b[0m \u001b[0;34m%\u001b[0m \u001b[0mbatch_size\u001b[0m \u001b[0;34m==\u001b[0m \u001b[0;36m0\u001b[0m\u001b[0;34m:\u001b[0m\u001b[0;34m\u001b[0m\u001b[0;34m\u001b[0m\u001b[0m\n\u001b[0;32m--> 395\u001b[0;31m                 \u001b[0mbulk\u001b[0m\u001b[0;34m(\u001b[0m\u001b[0mself\u001b[0m\u001b[0;34m.\u001b[0m\u001b[0mclient\u001b[0m\u001b[0;34m,\u001b[0m \u001b[0mdocuments_to_index\u001b[0m\u001b[0;34m,\u001b[0m \u001b[0mrequest_timeout\u001b[0m\u001b[0;34m=\u001b[0m\u001b[0;36m300\u001b[0m\u001b[0;34m,\u001b[0m \u001b[0mrefresh\u001b[0m\u001b[0;34m=\u001b[0m\u001b[0mself\u001b[0m\u001b[0;34m.\u001b[0m\u001b[0mrefresh_type\u001b[0m\u001b[0;34m)\u001b[0m\u001b[0;34m\u001b[0m\u001b[0;34m\u001b[0m\u001b[0m\n\u001b[0m\u001b[1;32m    396\u001b[0m                 \u001b[0mdocuments_to_index\u001b[0m \u001b[0;34m=\u001b[0m \u001b[0;34m[\u001b[0m\u001b[0;34m]\u001b[0m\u001b[0;34m\u001b[0m\u001b[0;34m\u001b[0m\u001b[0m\n\u001b[1;32m    397\u001b[0m \u001b[0;34m\u001b[0m\u001b[0m\n",
      "\u001b[0;32m/pfs/data5/home/st/st_us-051200/st_st171103/myenv/lib64/python3.6/site-packages/elasticsearch/helpers/actions.py\u001b[0m in \u001b[0;36mbulk\u001b[0;34m(client, actions, stats_only, *args, **kwargs)\u001b[0m\n\u001b[1;32m    394\u001b[0m     \u001b[0;31m# make streaming_bulk yield successful results so we can count them\u001b[0m\u001b[0;34m\u001b[0m\u001b[0;34m\u001b[0m\u001b[0;34m\u001b[0m\u001b[0m\n\u001b[1;32m    395\u001b[0m     \u001b[0mkwargs\u001b[0m\u001b[0;34m[\u001b[0m\u001b[0;34m\"yield_ok\"\u001b[0m\u001b[0;34m]\u001b[0m \u001b[0;34m=\u001b[0m \u001b[0;32mTrue\u001b[0m\u001b[0;34m\u001b[0m\u001b[0;34m\u001b[0m\u001b[0m\n\u001b[0;32m--> 396\u001b[0;31m     \u001b[0;32mfor\u001b[0m \u001b[0mok\u001b[0m\u001b[0;34m,\u001b[0m \u001b[0mitem\u001b[0m \u001b[0;32min\u001b[0m \u001b[0mstreaming_bulk\u001b[0m\u001b[0;34m(\u001b[0m\u001b[0mclient\u001b[0m\u001b[0;34m,\u001b[0m \u001b[0mactions\u001b[0m\u001b[0;34m,\u001b[0m \u001b[0;34m*\u001b[0m\u001b[0margs\u001b[0m\u001b[0;34m,\u001b[0m \u001b[0;34m**\u001b[0m\u001b[0mkwargs\u001b[0m\u001b[0;34m)\u001b[0m\u001b[0;34m:\u001b[0m\u001b[0;34m\u001b[0m\u001b[0;34m\u001b[0m\u001b[0m\n\u001b[0m\u001b[1;32m    397\u001b[0m         \u001b[0;31m# go through request-response pairs and detect failures\u001b[0m\u001b[0;34m\u001b[0m\u001b[0;34m\u001b[0m\u001b[0;34m\u001b[0m\u001b[0m\n\u001b[1;32m    398\u001b[0m         \u001b[0;32mif\u001b[0m \u001b[0;32mnot\u001b[0m \u001b[0mok\u001b[0m\u001b[0;34m:\u001b[0m\u001b[0;34m\u001b[0m\u001b[0;34m\u001b[0m\u001b[0m\n",
      "\u001b[0;32m/pfs/data5/home/st/st_us-051200/st_st171103/myenv/lib64/python3.6/site-packages/elasticsearch/helpers/actions.py\u001b[0m in \u001b[0;36mstreaming_bulk\u001b[0;34m(client, actions, chunk_size, max_chunk_bytes, raise_on_error, expand_action_callback, raise_on_exception, max_retries, initial_backoff, max_backoff, yield_ok, *args, **kwargs)\u001b[0m\n\u001b[1;32m    324\u001b[0m                         \u001b[0mraise_on_error\u001b[0m\u001b[0;34m,\u001b[0m\u001b[0;34m\u001b[0m\u001b[0;34m\u001b[0m\u001b[0m\n\u001b[1;32m    325\u001b[0m                         \u001b[0;34m*\u001b[0m\u001b[0margs\u001b[0m\u001b[0;34m,\u001b[0m\u001b[0;34m\u001b[0m\u001b[0;34m\u001b[0m\u001b[0m\n\u001b[0;32m--> 326\u001b[0;31m                         \u001b[0;34m**\u001b[0m\u001b[0mkwargs\u001b[0m\u001b[0;34m\u001b[0m\u001b[0;34m\u001b[0m\u001b[0m\n\u001b[0m\u001b[1;32m    327\u001b[0m                     ),\n\u001b[1;32m    328\u001b[0m                 ):\n",
      "\u001b[0;32m/pfs/data5/home/st/st_us-051200/st_st171103/myenv/lib64/python3.6/site-packages/elasticsearch/helpers/actions.py\u001b[0m in \u001b[0;36m_process_bulk_chunk\u001b[0;34m(client, bulk_actions, bulk_data, raise_on_exception, raise_on_error, *args, **kwargs)\u001b[0m\n\u001b[1;32m    232\u001b[0m     \u001b[0;32mtry\u001b[0m\u001b[0;34m:\u001b[0m\u001b[0;34m\u001b[0m\u001b[0;34m\u001b[0m\u001b[0m\n\u001b[1;32m    233\u001b[0m         \u001b[0;31m# send the actual request\u001b[0m\u001b[0;34m\u001b[0m\u001b[0;34m\u001b[0m\u001b[0;34m\u001b[0m\u001b[0m\n\u001b[0;32m--> 234\u001b[0;31m         \u001b[0mresp\u001b[0m \u001b[0;34m=\u001b[0m \u001b[0mclient\u001b[0m\u001b[0;34m.\u001b[0m\u001b[0mbulk\u001b[0m\u001b[0;34m(\u001b[0m\u001b[0;34m\"\\n\"\u001b[0m\u001b[0;34m.\u001b[0m\u001b[0mjoin\u001b[0m\u001b[0;34m(\u001b[0m\u001b[0mbulk_actions\u001b[0m\u001b[0;34m)\u001b[0m \u001b[0;34m+\u001b[0m \u001b[0;34m\"\\n\"\u001b[0m\u001b[0;34m,\u001b[0m \u001b[0;34m*\u001b[0m\u001b[0margs\u001b[0m\u001b[0;34m,\u001b[0m \u001b[0;34m**\u001b[0m\u001b[0mkwargs\u001b[0m\u001b[0;34m)\u001b[0m\u001b[0;34m\u001b[0m\u001b[0;34m\u001b[0m\u001b[0m\n\u001b[0m\u001b[1;32m    235\u001b[0m     \u001b[0;32mexcept\u001b[0m \u001b[0mTransportError\u001b[0m \u001b[0;32mas\u001b[0m \u001b[0me\u001b[0m\u001b[0;34m:\u001b[0m\u001b[0;34m\u001b[0m\u001b[0;34m\u001b[0m\u001b[0m\n\u001b[1;32m    236\u001b[0m         gen = _process_bulk_chunk_error(\n",
      "\u001b[0;32m/pfs/data5/home/st/st_us-051200/st_st171103/myenv/lib64/python3.6/site-packages/elasticsearch/client/utils.py\u001b[0m in \u001b[0;36m_wrapped\u001b[0;34m(*args, **kwargs)\u001b[0m\n\u001b[1;32m    151\u001b[0m                 \u001b[0;32mif\u001b[0m \u001b[0mp\u001b[0m \u001b[0;32min\u001b[0m \u001b[0mkwargs\u001b[0m\u001b[0;34m:\u001b[0m\u001b[0;34m\u001b[0m\u001b[0;34m\u001b[0m\u001b[0m\n\u001b[1;32m    152\u001b[0m                     \u001b[0mparams\u001b[0m\u001b[0;34m[\u001b[0m\u001b[0mp\u001b[0m\u001b[0;34m]\u001b[0m \u001b[0;34m=\u001b[0m \u001b[0mkwargs\u001b[0m\u001b[0;34m.\u001b[0m\u001b[0mpop\u001b[0m\u001b[0;34m(\u001b[0m\u001b[0mp\u001b[0m\u001b[0;34m)\u001b[0m\u001b[0;34m\u001b[0m\u001b[0;34m\u001b[0m\u001b[0m\n\u001b[0;32m--> 153\u001b[0;31m             \u001b[0;32mreturn\u001b[0m \u001b[0mfunc\u001b[0m\u001b[0;34m(\u001b[0m\u001b[0;34m*\u001b[0m\u001b[0margs\u001b[0m\u001b[0;34m,\u001b[0m \u001b[0mparams\u001b[0m\u001b[0;34m=\u001b[0m\u001b[0mparams\u001b[0m\u001b[0;34m,\u001b[0m \u001b[0mheaders\u001b[0m\u001b[0;34m=\u001b[0m\u001b[0mheaders\u001b[0m\u001b[0;34m,\u001b[0m \u001b[0;34m**\u001b[0m\u001b[0mkwargs\u001b[0m\u001b[0;34m)\u001b[0m\u001b[0;34m\u001b[0m\u001b[0;34m\u001b[0m\u001b[0m\n\u001b[0m\u001b[1;32m    154\u001b[0m \u001b[0;34m\u001b[0m\u001b[0m\n\u001b[1;32m    155\u001b[0m         \u001b[0;32mreturn\u001b[0m \u001b[0m_wrapped\u001b[0m\u001b[0;34m\u001b[0m\u001b[0;34m\u001b[0m\u001b[0m\n",
      "\u001b[0;32m/pfs/data5/home/st/st_us-051200/st_st171103/myenv/lib64/python3.6/site-packages/elasticsearch/client/__init__.py\u001b[0m in \u001b[0;36mbulk\u001b[0;34m(self, body, index, doc_type, params, headers)\u001b[0m\n\u001b[1;32m    460\u001b[0m             \u001b[0mparams\u001b[0m\u001b[0;34m=\u001b[0m\u001b[0mparams\u001b[0m\u001b[0;34m,\u001b[0m\u001b[0;34m\u001b[0m\u001b[0;34m\u001b[0m\u001b[0m\n\u001b[1;32m    461\u001b[0m             \u001b[0mheaders\u001b[0m\u001b[0;34m=\u001b[0m\u001b[0mheaders\u001b[0m\u001b[0;34m,\u001b[0m\u001b[0;34m\u001b[0m\u001b[0;34m\u001b[0m\u001b[0m\n\u001b[0;32m--> 462\u001b[0;31m             \u001b[0mbody\u001b[0m\u001b[0;34m=\u001b[0m\u001b[0mbody\u001b[0m\u001b[0;34m,\u001b[0m\u001b[0;34m\u001b[0m\u001b[0;34m\u001b[0m\u001b[0m\n\u001b[0m\u001b[1;32m    463\u001b[0m         )\n\u001b[1;32m    464\u001b[0m \u001b[0;34m\u001b[0m\u001b[0m\n",
      "\u001b[0;32m/pfs/data5/home/st/st_us-051200/st_st171103/myenv/lib64/python3.6/site-packages/elasticsearch/transport.py\u001b[0m in \u001b[0;36mperform_request\u001b[0;34m(self, method, url, headers, params, body)\u001b[0m\n\u001b[1;32m    386\u001b[0m                     \u001b[0mheaders\u001b[0m\u001b[0;34m=\u001b[0m\u001b[0mheaders\u001b[0m\u001b[0;34m,\u001b[0m\u001b[0;34m\u001b[0m\u001b[0;34m\u001b[0m\u001b[0m\n\u001b[1;32m    387\u001b[0m                     \u001b[0mignore\u001b[0m\u001b[0;34m=\u001b[0m\u001b[0mignore\u001b[0m\u001b[0;34m,\u001b[0m\u001b[0;34m\u001b[0m\u001b[0;34m\u001b[0m\u001b[0m\n\u001b[0;32m--> 388\u001b[0;31m                     \u001b[0mtimeout\u001b[0m\u001b[0;34m=\u001b[0m\u001b[0mtimeout\u001b[0m\u001b[0;34m,\u001b[0m\u001b[0;34m\u001b[0m\u001b[0;34m\u001b[0m\u001b[0m\n\u001b[0m\u001b[1;32m    389\u001b[0m                 )\n\u001b[1;32m    390\u001b[0m \u001b[0;34m\u001b[0m\u001b[0m\n",
      "\u001b[0;32m/pfs/data5/home/st/st_us-051200/st_st171103/myenv/lib64/python3.6/site-packages/elasticsearch/connection/http_urllib3.py\u001b[0m in \u001b[0;36mperform_request\u001b[0;34m(self, method, url, params, body, timeout, ignore, headers)\u001b[0m\n\u001b[1;32m    250\u001b[0m \u001b[0;34m\u001b[0m\u001b[0m\n\u001b[1;32m    251\u001b[0m             response = self.pool.urlopen(\n\u001b[0;32m--> 252\u001b[0;31m                 \u001b[0mmethod\u001b[0m\u001b[0;34m,\u001b[0m \u001b[0murl\u001b[0m\u001b[0;34m,\u001b[0m \u001b[0mbody\u001b[0m\u001b[0;34m,\u001b[0m \u001b[0mretries\u001b[0m\u001b[0;34m=\u001b[0m\u001b[0mRetry\u001b[0m\u001b[0;34m(\u001b[0m\u001b[0;32mFalse\u001b[0m\u001b[0;34m)\u001b[0m\u001b[0;34m,\u001b[0m \u001b[0mheaders\u001b[0m\u001b[0;34m=\u001b[0m\u001b[0mrequest_headers\u001b[0m\u001b[0;34m,\u001b[0m \u001b[0;34m**\u001b[0m\u001b[0mkw\u001b[0m\u001b[0;34m\u001b[0m\u001b[0;34m\u001b[0m\u001b[0m\n\u001b[0m\u001b[1;32m    253\u001b[0m             )\n\u001b[1;32m    254\u001b[0m             \u001b[0mduration\u001b[0m \u001b[0;34m=\u001b[0m \u001b[0mtime\u001b[0m\u001b[0;34m.\u001b[0m\u001b[0mtime\u001b[0m\u001b[0;34m(\u001b[0m\u001b[0;34m)\u001b[0m \u001b[0;34m-\u001b[0m \u001b[0mstart\u001b[0m\u001b[0;34m\u001b[0m\u001b[0;34m\u001b[0m\u001b[0m\n",
      "\u001b[0;32m/opt/bwhpc/common/jupyter/base/lib/python3.6/site-packages/urllib3/connectionpool.py\u001b[0m in \u001b[0;36murlopen\u001b[0;34m(self, method, url, body, headers, retries, redirect, assert_same_host, timeout, pool_timeout, release_conn, chunked, body_pos, **response_kw)\u001b[0m\n\u001b[1;32m    704\u001b[0m                 \u001b[0mbody\u001b[0m\u001b[0;34m=\u001b[0m\u001b[0mbody\u001b[0m\u001b[0;34m,\u001b[0m\u001b[0;34m\u001b[0m\u001b[0;34m\u001b[0m\u001b[0m\n\u001b[1;32m    705\u001b[0m                 \u001b[0mheaders\u001b[0m\u001b[0;34m=\u001b[0m\u001b[0mheaders\u001b[0m\u001b[0;34m,\u001b[0m\u001b[0;34m\u001b[0m\u001b[0;34m\u001b[0m\u001b[0m\n\u001b[0;32m--> 706\u001b[0;31m                 \u001b[0mchunked\u001b[0m\u001b[0;34m=\u001b[0m\u001b[0mchunked\u001b[0m\u001b[0;34m,\u001b[0m\u001b[0;34m\u001b[0m\u001b[0;34m\u001b[0m\u001b[0m\n\u001b[0m\u001b[1;32m    707\u001b[0m             )\n\u001b[1;32m    708\u001b[0m \u001b[0;34m\u001b[0m\u001b[0m\n",
      "\u001b[0;32m/opt/bwhpc/common/jupyter/base/lib/python3.6/site-packages/urllib3/connectionpool.py\u001b[0m in \u001b[0;36m_make_request\u001b[0;34m(self, conn, method, url, timeout, chunked, **httplib_request_kw)\u001b[0m\n\u001b[1;32m    443\u001b[0m                     \u001b[0;31m# Python 3 (including for exceptions like SystemExit).\u001b[0m\u001b[0;34m\u001b[0m\u001b[0;34m\u001b[0m\u001b[0;34m\u001b[0m\u001b[0m\n\u001b[1;32m    444\u001b[0m                     \u001b[0;31m# Otherwise it looks like a bug in the code.\u001b[0m\u001b[0;34m\u001b[0m\u001b[0;34m\u001b[0m\u001b[0;34m\u001b[0m\u001b[0m\n\u001b[0;32m--> 445\u001b[0;31m                     \u001b[0msix\u001b[0m\u001b[0;34m.\u001b[0m\u001b[0mraise_from\u001b[0m\u001b[0;34m(\u001b[0m\u001b[0me\u001b[0m\u001b[0;34m,\u001b[0m \u001b[0;32mNone\u001b[0m\u001b[0;34m)\u001b[0m\u001b[0;34m\u001b[0m\u001b[0;34m\u001b[0m\u001b[0m\n\u001b[0m\u001b[1;32m    446\u001b[0m         \u001b[0;32mexcept\u001b[0m \u001b[0;34m(\u001b[0m\u001b[0mSocketTimeout\u001b[0m\u001b[0;34m,\u001b[0m \u001b[0mBaseSSLError\u001b[0m\u001b[0;34m,\u001b[0m \u001b[0mSocketError\u001b[0m\u001b[0;34m)\u001b[0m \u001b[0;32mas\u001b[0m \u001b[0me\u001b[0m\u001b[0;34m:\u001b[0m\u001b[0;34m\u001b[0m\u001b[0;34m\u001b[0m\u001b[0m\n\u001b[1;32m    447\u001b[0m             \u001b[0mself\u001b[0m\u001b[0;34m.\u001b[0m\u001b[0m_raise_timeout\u001b[0m\u001b[0;34m(\u001b[0m\u001b[0merr\u001b[0m\u001b[0;34m=\u001b[0m\u001b[0me\u001b[0m\u001b[0;34m,\u001b[0m \u001b[0murl\u001b[0m\u001b[0;34m=\u001b[0m\u001b[0murl\u001b[0m\u001b[0;34m,\u001b[0m \u001b[0mtimeout_value\u001b[0m\u001b[0;34m=\u001b[0m\u001b[0mread_timeout\u001b[0m\u001b[0;34m)\u001b[0m\u001b[0;34m\u001b[0m\u001b[0;34m\u001b[0m\u001b[0m\n",
      "\u001b[0;32m/opt/bwhpc/common/jupyter/base/lib/python3.6/site-packages/urllib3/packages/six.py\u001b[0m in \u001b[0;36mraise_from\u001b[0;34m(value, from_value)\u001b[0m\n",
      "\u001b[0;32m/opt/bwhpc/common/jupyter/base/lib/python3.6/site-packages/urllib3/connectionpool.py\u001b[0m in \u001b[0;36m_make_request\u001b[0;34m(self, conn, method, url, timeout, chunked, **httplib_request_kw)\u001b[0m\n\u001b[1;32m    438\u001b[0m                 \u001b[0;31m# Python 3\u001b[0m\u001b[0;34m\u001b[0m\u001b[0;34m\u001b[0m\u001b[0;34m\u001b[0m\u001b[0m\n\u001b[1;32m    439\u001b[0m                 \u001b[0;32mtry\u001b[0m\u001b[0;34m:\u001b[0m\u001b[0;34m\u001b[0m\u001b[0;34m\u001b[0m\u001b[0m\n\u001b[0;32m--> 440\u001b[0;31m                     \u001b[0mhttplib_response\u001b[0m \u001b[0;34m=\u001b[0m \u001b[0mconn\u001b[0m\u001b[0;34m.\u001b[0m\u001b[0mgetresponse\u001b[0m\u001b[0;34m(\u001b[0m\u001b[0;34m)\u001b[0m\u001b[0;34m\u001b[0m\u001b[0;34m\u001b[0m\u001b[0m\n\u001b[0m\u001b[1;32m    441\u001b[0m                 \u001b[0;32mexcept\u001b[0m \u001b[0mBaseException\u001b[0m \u001b[0;32mas\u001b[0m \u001b[0me\u001b[0m\u001b[0;34m:\u001b[0m\u001b[0;34m\u001b[0m\u001b[0;34m\u001b[0m\u001b[0m\n\u001b[1;32m    442\u001b[0m                     \u001b[0;31m# Remove the TypeError from the exception chain in\u001b[0m\u001b[0;34m\u001b[0m\u001b[0;34m\u001b[0m\u001b[0;34m\u001b[0m\u001b[0m\n",
      "\u001b[0;32m/usr/lib64/python3.6/http/client.py\u001b[0m in \u001b[0;36mgetresponse\u001b[0;34m(self)\u001b[0m\n\u001b[1;32m   1344\u001b[0m         \u001b[0;32mtry\u001b[0m\u001b[0;34m:\u001b[0m\u001b[0;34m\u001b[0m\u001b[0;34m\u001b[0m\u001b[0m\n\u001b[1;32m   1345\u001b[0m             \u001b[0;32mtry\u001b[0m\u001b[0;34m:\u001b[0m\u001b[0;34m\u001b[0m\u001b[0;34m\u001b[0m\u001b[0m\n\u001b[0;32m-> 1346\u001b[0;31m                 \u001b[0mresponse\u001b[0m\u001b[0;34m.\u001b[0m\u001b[0mbegin\u001b[0m\u001b[0;34m(\u001b[0m\u001b[0;34m)\u001b[0m\u001b[0;34m\u001b[0m\u001b[0;34m\u001b[0m\u001b[0m\n\u001b[0m\u001b[1;32m   1347\u001b[0m             \u001b[0;32mexcept\u001b[0m \u001b[0mConnectionError\u001b[0m\u001b[0;34m:\u001b[0m\u001b[0;34m\u001b[0m\u001b[0;34m\u001b[0m\u001b[0m\n\u001b[1;32m   1348\u001b[0m                 \u001b[0mself\u001b[0m\u001b[0;34m.\u001b[0m\u001b[0mclose\u001b[0m\u001b[0;34m(\u001b[0m\u001b[0;34m)\u001b[0m\u001b[0;34m\u001b[0m\u001b[0;34m\u001b[0m\u001b[0m\n",
      "\u001b[0;32m/usr/lib64/python3.6/http/client.py\u001b[0m in \u001b[0;36mbegin\u001b[0;34m(self)\u001b[0m\n\u001b[1;32m    305\u001b[0m         \u001b[0;31m# read until we get a non-100 response\u001b[0m\u001b[0;34m\u001b[0m\u001b[0;34m\u001b[0m\u001b[0;34m\u001b[0m\u001b[0m\n\u001b[1;32m    306\u001b[0m         \u001b[0;32mwhile\u001b[0m \u001b[0;32mTrue\u001b[0m\u001b[0;34m:\u001b[0m\u001b[0;34m\u001b[0m\u001b[0;34m\u001b[0m\u001b[0m\n\u001b[0;32m--> 307\u001b[0;31m             \u001b[0mversion\u001b[0m\u001b[0;34m,\u001b[0m \u001b[0mstatus\u001b[0m\u001b[0;34m,\u001b[0m \u001b[0mreason\u001b[0m \u001b[0;34m=\u001b[0m \u001b[0mself\u001b[0m\u001b[0;34m.\u001b[0m\u001b[0m_read_status\u001b[0m\u001b[0;34m(\u001b[0m\u001b[0;34m)\u001b[0m\u001b[0;34m\u001b[0m\u001b[0;34m\u001b[0m\u001b[0m\n\u001b[0m\u001b[1;32m    308\u001b[0m             \u001b[0;32mif\u001b[0m \u001b[0mstatus\u001b[0m \u001b[0;34m!=\u001b[0m \u001b[0mCONTINUE\u001b[0m\u001b[0;34m:\u001b[0m\u001b[0;34m\u001b[0m\u001b[0;34m\u001b[0m\u001b[0m\n\u001b[1;32m    309\u001b[0m                 \u001b[0;32mbreak\u001b[0m\u001b[0;34m\u001b[0m\u001b[0;34m\u001b[0m\u001b[0m\n",
      "\u001b[0;32m/usr/lib64/python3.6/http/client.py\u001b[0m in \u001b[0;36m_read_status\u001b[0;34m(self)\u001b[0m\n\u001b[1;32m    266\u001b[0m \u001b[0;34m\u001b[0m\u001b[0m\n\u001b[1;32m    267\u001b[0m     \u001b[0;32mdef\u001b[0m \u001b[0m_read_status\u001b[0m\u001b[0;34m(\u001b[0m\u001b[0mself\u001b[0m\u001b[0;34m)\u001b[0m\u001b[0;34m:\u001b[0m\u001b[0;34m\u001b[0m\u001b[0;34m\u001b[0m\u001b[0m\n\u001b[0;32m--> 268\u001b[0;31m         \u001b[0mline\u001b[0m \u001b[0;34m=\u001b[0m \u001b[0mstr\u001b[0m\u001b[0;34m(\u001b[0m\u001b[0mself\u001b[0m\u001b[0;34m.\u001b[0m\u001b[0mfp\u001b[0m\u001b[0;34m.\u001b[0m\u001b[0mreadline\u001b[0m\u001b[0;34m(\u001b[0m\u001b[0m_MAXLINE\u001b[0m \u001b[0;34m+\u001b[0m \u001b[0;36m1\u001b[0m\u001b[0;34m)\u001b[0m\u001b[0;34m,\u001b[0m \u001b[0;34m\"iso-8859-1\"\u001b[0m\u001b[0;34m)\u001b[0m\u001b[0;34m\u001b[0m\u001b[0;34m\u001b[0m\u001b[0m\n\u001b[0m\u001b[1;32m    269\u001b[0m         \u001b[0;32mif\u001b[0m \u001b[0mlen\u001b[0m\u001b[0;34m(\u001b[0m\u001b[0mline\u001b[0m\u001b[0;34m)\u001b[0m \u001b[0;34m>\u001b[0m \u001b[0m_MAXLINE\u001b[0m\u001b[0;34m:\u001b[0m\u001b[0;34m\u001b[0m\u001b[0;34m\u001b[0m\u001b[0m\n\u001b[1;32m    270\u001b[0m             \u001b[0;32mraise\u001b[0m \u001b[0mLineTooLong\u001b[0m\u001b[0;34m(\u001b[0m\u001b[0;34m\"status line\"\u001b[0m\u001b[0;34m)\u001b[0m\u001b[0;34m\u001b[0m\u001b[0;34m\u001b[0m\u001b[0m\n",
      "\u001b[0;32m/usr/lib64/python3.6/socket.py\u001b[0m in \u001b[0;36mreadinto\u001b[0;34m(self, b)\u001b[0m\n\u001b[1;32m    584\u001b[0m         \u001b[0;32mwhile\u001b[0m \u001b[0;32mTrue\u001b[0m\u001b[0;34m:\u001b[0m\u001b[0;34m\u001b[0m\u001b[0;34m\u001b[0m\u001b[0m\n\u001b[1;32m    585\u001b[0m             \u001b[0;32mtry\u001b[0m\u001b[0;34m:\u001b[0m\u001b[0;34m\u001b[0m\u001b[0;34m\u001b[0m\u001b[0m\n\u001b[0;32m--> 586\u001b[0;31m                 \u001b[0;32mreturn\u001b[0m \u001b[0mself\u001b[0m\u001b[0;34m.\u001b[0m\u001b[0m_sock\u001b[0m\u001b[0;34m.\u001b[0m\u001b[0mrecv_into\u001b[0m\u001b[0;34m(\u001b[0m\u001b[0mb\u001b[0m\u001b[0;34m)\u001b[0m\u001b[0;34m\u001b[0m\u001b[0;34m\u001b[0m\u001b[0m\n\u001b[0m\u001b[1;32m    587\u001b[0m             \u001b[0;32mexcept\u001b[0m \u001b[0mtimeout\u001b[0m\u001b[0;34m:\u001b[0m\u001b[0;34m\u001b[0m\u001b[0;34m\u001b[0m\u001b[0m\n\u001b[1;32m    588\u001b[0m                 \u001b[0mself\u001b[0m\u001b[0;34m.\u001b[0m\u001b[0m_timeout_occurred\u001b[0m \u001b[0;34m=\u001b[0m \u001b[0;32mTrue\u001b[0m\u001b[0;34m\u001b[0m\u001b[0;34m\u001b[0m\u001b[0m\n",
      "\u001b[0;31mKeyboardInterrupt\u001b[0m: "
     ]
    }
   ],
   "source": [
    "document_store.write_documents(data_arc,batch_size = 100000)\n"
   ]
  },
  {
   "cell_type": "code",
   "execution_count": null,
   "id": "stainless-blanket",
   "metadata": {},
   "outputs": [],
   "source": []
  },
  {
   "cell_type": "code",
   "execution_count": null,
   "id": "terminal-diploma",
   "metadata": {},
   "outputs": [],
   "source": []
  },
  {
   "cell_type": "code",
   "execution_count": null,
   "id": "connected-bracelet",
   "metadata": {},
   "outputs": [],
   "source": []
  },
  {
   "cell_type": "code",
   "execution_count": null,
   "id": "relevant-benjamin",
   "metadata": {},
   "outputs": [],
   "source": []
  },
  {
   "cell_type": "code",
   "execution_count": null,
   "id": "japanese-mattress",
   "metadata": {},
   "outputs": [],
   "source": []
  },
  {
   "cell_type": "code",
   "execution_count": null,
   "id": "anticipated-collapse",
   "metadata": {},
   "outputs": [],
   "source": []
  },
  {
   "cell_type": "code",
   "execution_count": null,
   "id": "lonely-bruce",
   "metadata": {},
   "outputs": [],
   "source": []
  },
  {
   "cell_type": "code",
   "execution_count": null,
   "id": "plain-bleeding",
   "metadata": {},
   "outputs": [],
   "source": []
  }
 ],
 "metadata": {
  "kernelspec": {
   "display_name": "HayStackKernel",
   "language": "python",
   "name": "haystackkernel"
  },
  "language_info": {
   "codemirror_mode": {
    "name": "ipython",
    "version": 3
   },
   "file_extension": ".py",
   "mimetype": "text/x-python",
   "name": "python",
   "nbconvert_exporter": "python",
   "pygments_lexer": "ipython3",
   "version": "3.6.8"
  }
 },
 "nbformat": 4,
 "nbformat_minor": 5
}
