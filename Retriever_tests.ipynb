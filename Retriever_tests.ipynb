{
  "nbformat": 4,
  "nbformat_minor": 0,
  "metadata": {
    "colab": {
      "name": "Retriever_tests.ipynb",
      "provenance": [],
      "collapsed_sections": [
        "LO1otELcGqxS",
        "SCi_HKigGv1D",
        "zuAnu9NnZCW8",
        "9a7MiwdRRqhC",
        "Z90M8rghkB6w",
        "vpV7upbfXjWV",
        "yu6iirldXBT3",
        "AAtoC3tWXowh",
        "Aep61ngVXxUq",
        "U_hhWQRjGTRs",
        "5s2KppPnaTOi",
        "cnt_dJL-aGDH",
        "WvDo628xR-70",
        "ykmf-YTlc7u6",
        "dsf2Mk0mdFZK",
        "1Fk9XAzZdUey",
        "BnE6ivhqdfWX"
      ],
      "toc_visible": true,
      "authorship_tag": "ABX9TyPDaAPh0P17ISsi1eCIwdNT",
      "include_colab_link": true
    },
    "kernelspec": {
      "name": "python3",
      "display_name": "Python 3"
    },
    "language_info": {
      "name": "python"
    },
    "widgets": {
      "application/vnd.jupyter.widget-state+json": {
        "8b42262bef274af88cda4fdae52ec543": {
          "model_module": "@jupyter-widgets/controls",
          "model_name": "HBoxModel",
          "state": {
            "_view_name": "HBoxView",
            "_dom_classes": [],
            "_model_name": "HBoxModel",
            "_view_module": "@jupyter-widgets/controls",
            "_model_module_version": "1.5.0",
            "_view_count": null,
            "_view_module_version": "1.5.0",
            "box_style": "",
            "layout": "IPY_MODEL_386a74e0f5d648cd843e3149c4e518f5",
            "_model_module": "@jupyter-widgets/controls",
            "children": [
              "IPY_MODEL_08d1ca4197dd41c8924c629aeeee6efc",
              "IPY_MODEL_2e79275d8fd94b0ea8afd87cd5f26323"
            ]
          }
        },
        "386a74e0f5d648cd843e3149c4e518f5": {
          "model_module": "@jupyter-widgets/base",
          "model_name": "LayoutModel",
          "state": {
            "_view_name": "LayoutView",
            "grid_template_rows": null,
            "right": null,
            "justify_content": null,
            "_view_module": "@jupyter-widgets/base",
            "overflow": null,
            "_model_module_version": "1.2.0",
            "_view_count": null,
            "flex_flow": null,
            "width": null,
            "min_width": null,
            "border": null,
            "align_items": null,
            "bottom": null,
            "_model_module": "@jupyter-widgets/base",
            "top": null,
            "grid_column": null,
            "overflow_y": null,
            "overflow_x": null,
            "grid_auto_flow": null,
            "grid_area": null,
            "grid_template_columns": null,
            "flex": null,
            "_model_name": "LayoutModel",
            "justify_items": null,
            "grid_row": null,
            "max_height": null,
            "align_content": null,
            "visibility": null,
            "align_self": null,
            "height": null,
            "min_height": null,
            "padding": null,
            "grid_auto_rows": null,
            "grid_gap": null,
            "max_width": null,
            "order": null,
            "_view_module_version": "1.2.0",
            "grid_template_areas": null,
            "object_position": null,
            "object_fit": null,
            "grid_auto_columns": null,
            "margin": null,
            "display": null,
            "left": null
          }
        },
        "08d1ca4197dd41c8924c629aeeee6efc": {
          "model_module": "@jupyter-widgets/controls",
          "model_name": "FloatProgressModel",
          "state": {
            "_view_name": "ProgressView",
            "style": "IPY_MODEL_686817e54b064de892573b2476d33d7a",
            "_dom_classes": [],
            "description": "Batches: 100%",
            "_model_name": "FloatProgressModel",
            "bar_style": "success",
            "max": 1320,
            "_view_module": "@jupyter-widgets/controls",
            "_model_module_version": "1.5.0",
            "value": 1320,
            "_view_count": null,
            "_view_module_version": "1.5.0",
            "orientation": "horizontal",
            "min": 0,
            "description_tooltip": null,
            "_model_module": "@jupyter-widgets/controls",
            "layout": "IPY_MODEL_a2181a3e021342a29cb2896f3b2af78f"
          }
        },
        "2e79275d8fd94b0ea8afd87cd5f26323": {
          "model_module": "@jupyter-widgets/controls",
          "model_name": "HTMLModel",
          "state": {
            "_view_name": "HTMLView",
            "style": "IPY_MODEL_6603afcbcb55474791c9598b0f86599f",
            "_dom_classes": [],
            "description": "",
            "_model_name": "HTMLModel",
            "placeholder": "​",
            "_view_module": "@jupyter-widgets/controls",
            "_model_module_version": "1.5.0",
            "value": " 1320/1320 [16:23&lt;00:00,  1.34it/s]",
            "_view_count": null,
            "_view_module_version": "1.5.0",
            "description_tooltip": null,
            "_model_module": "@jupyter-widgets/controls",
            "layout": "IPY_MODEL_d903f671c4004889895d1959141739e6"
          }
        },
        "686817e54b064de892573b2476d33d7a": {
          "model_module": "@jupyter-widgets/controls",
          "model_name": "ProgressStyleModel",
          "state": {
            "_view_name": "StyleView",
            "_model_name": "ProgressStyleModel",
            "description_width": "initial",
            "_view_module": "@jupyter-widgets/base",
            "_model_module_version": "1.5.0",
            "_view_count": null,
            "_view_module_version": "1.2.0",
            "bar_color": null,
            "_model_module": "@jupyter-widgets/controls"
          }
        },
        "a2181a3e021342a29cb2896f3b2af78f": {
          "model_module": "@jupyter-widgets/base",
          "model_name": "LayoutModel",
          "state": {
            "_view_name": "LayoutView",
            "grid_template_rows": null,
            "right": null,
            "justify_content": null,
            "_view_module": "@jupyter-widgets/base",
            "overflow": null,
            "_model_module_version": "1.2.0",
            "_view_count": null,
            "flex_flow": null,
            "width": null,
            "min_width": null,
            "border": null,
            "align_items": null,
            "bottom": null,
            "_model_module": "@jupyter-widgets/base",
            "top": null,
            "grid_column": null,
            "overflow_y": null,
            "overflow_x": null,
            "grid_auto_flow": null,
            "grid_area": null,
            "grid_template_columns": null,
            "flex": null,
            "_model_name": "LayoutModel",
            "justify_items": null,
            "grid_row": null,
            "max_height": null,
            "align_content": null,
            "visibility": null,
            "align_self": null,
            "height": null,
            "min_height": null,
            "padding": null,
            "grid_auto_rows": null,
            "grid_gap": null,
            "max_width": null,
            "order": null,
            "_view_module_version": "1.2.0",
            "grid_template_areas": null,
            "object_position": null,
            "object_fit": null,
            "grid_auto_columns": null,
            "margin": null,
            "display": null,
            "left": null
          }
        },
        "6603afcbcb55474791c9598b0f86599f": {
          "model_module": "@jupyter-widgets/controls",
          "model_name": "DescriptionStyleModel",
          "state": {
            "_view_name": "StyleView",
            "_model_name": "DescriptionStyleModel",
            "description_width": "",
            "_view_module": "@jupyter-widgets/base",
            "_model_module_version": "1.5.0",
            "_view_count": null,
            "_view_module_version": "1.2.0",
            "_model_module": "@jupyter-widgets/controls"
          }
        },
        "d903f671c4004889895d1959141739e6": {
          "model_module": "@jupyter-widgets/base",
          "model_name": "LayoutModel",
          "state": {
            "_view_name": "LayoutView",
            "grid_template_rows": null,
            "right": null,
            "justify_content": null,
            "_view_module": "@jupyter-widgets/base",
            "overflow": null,
            "_model_module_version": "1.2.0",
            "_view_count": null,
            "flex_flow": null,
            "width": null,
            "min_width": null,
            "border": null,
            "align_items": null,
            "bottom": null,
            "_model_module": "@jupyter-widgets/base",
            "top": null,
            "grid_column": null,
            "overflow_y": null,
            "overflow_x": null,
            "grid_auto_flow": null,
            "grid_area": null,
            "grid_template_columns": null,
            "flex": null,
            "_model_name": "LayoutModel",
            "justify_items": null,
            "grid_row": null,
            "max_height": null,
            "align_content": null,
            "visibility": null,
            "align_self": null,
            "height": null,
            "min_height": null,
            "padding": null,
            "grid_auto_rows": null,
            "grid_gap": null,
            "max_width": null,
            "order": null,
            "_view_module_version": "1.2.0",
            "grid_template_areas": null,
            "object_position": null,
            "object_fit": null,
            "grid_auto_columns": null,
            "margin": null,
            "display": null,
            "left": null
          }
        }
      }
    },
    "accelerator": "GPU"
  },
  "cells": [
    {
      "cell_type": "markdown",
      "metadata": {
        "id": "view-in-github",
        "colab_type": "text"
      },
      "source": [
        "<a href=\"https://colab.research.google.com/github/Phil-Schwarz/TQA/blob/phil_test_range/Retriever_tests.ipynb\" target=\"_parent\"><img src=\"https://colab.research.google.com/assets/colab-badge.svg\" alt=\"Open In Colab\"/></a>"
      ]
    },
    {
      "cell_type": "markdown",
      "metadata": {
        "id": "LO1otELcGqxS"
      },
      "source": [
        "## setup"
      ]
    },
    {
      "cell_type": "code",
      "metadata": {
        "colab": {
          "base_uri": "https://localhost:8080/"
        },
        "id": "U_5MbxmgF1E0",
        "outputId": "c26c5819-da44-4bad-cea2-5d1110efbf44"
      },
      "source": [
        "# Setup\n",
        "!pip install -q wordcloud\n",
        "!pip install -U sentence-transformers\n",
        "!pip install annoy\n",
        "\n",
        "import wordcloud\n",
        "\n",
        "import nltk\n",
        "nltk.download('stopwords')\n",
        "nltk.download('wordnet')\n",
        "nltk.download('punkt')\n",
        "nltk.download('averaged_perceptron_tagger') \n",
        "\n",
        "import pandas as pd\n",
        "import matplotlib.pyplot as plt\n",
        "import io\n",
        "import unicodedata\n",
        "import numpy as np\n",
        "import re\n",
        "import string\n",
        "\n",
        "import csv\n",
        "from sklearn.feature_extraction.text import TfidfVectorizer\n",
        "from sklearn.naive_bayes import MultinomialNB\n",
        "from sklearn.model_selection import train_test_split\n",
        "                 \n",
        "import pickle\n",
        "from sentence_transformers import SentenceTransformer\n",
        "\n",
        "from annoy import AnnoyIndex\n",
        "\n",
        "import json\n",
        "\n",
        "from six import string_types\n",
        "\n",
        "import tqdm"
      ],
      "execution_count": 1,
      "outputs": [
        {
          "output_type": "stream",
          "text": [
            "Collecting sentence-transformers\n",
            "\u001b[?25l  Downloading https://files.pythonhosted.org/packages/c4/87/49dc49e13ac107ce912c2f3f3fd92252c6d4221e88d1e6c16747044a11d8/sentence-transformers-1.1.0.tar.gz (78kB)\n",
            "\u001b[K     |████████████████████████████████| 81kB 7.5MB/s \n",
            "\u001b[?25hCollecting transformers<5.0.0,>=3.1.0\n",
            "\u001b[?25l  Downloading https://files.pythonhosted.org/packages/d8/b2/57495b5309f09fa501866e225c84532d1fd89536ea62406b2181933fb418/transformers-4.5.1-py3-none-any.whl (2.1MB)\n",
            "\u001b[K     |████████████████████████████████| 2.1MB 21.8MB/s \n",
            "\u001b[?25hRequirement already satisfied, skipping upgrade: tqdm in /usr/local/lib/python3.7/dist-packages (from sentence-transformers) (4.41.1)\n",
            "Requirement already satisfied, skipping upgrade: torch>=1.6.0 in /usr/local/lib/python3.7/dist-packages (from sentence-transformers) (1.8.1+cu101)\n",
            "Requirement already satisfied, skipping upgrade: numpy in /usr/local/lib/python3.7/dist-packages (from sentence-transformers) (1.19.5)\n",
            "Requirement already satisfied, skipping upgrade: scikit-learn in /usr/local/lib/python3.7/dist-packages (from sentence-transformers) (0.22.2.post1)\n",
            "Requirement already satisfied, skipping upgrade: scipy in /usr/local/lib/python3.7/dist-packages (from sentence-transformers) (1.4.1)\n",
            "Requirement already satisfied, skipping upgrade: nltk in /usr/local/lib/python3.7/dist-packages (from sentence-transformers) (3.2.5)\n",
            "Collecting sentencepiece\n",
            "\u001b[?25l  Downloading https://files.pythonhosted.org/packages/f5/99/e0808cb947ba10f575839c43e8fafc9cc44e4a7a2c8f79c60db48220a577/sentencepiece-0.1.95-cp37-cp37m-manylinux2014_x86_64.whl (1.2MB)\n",
            "\u001b[K     |████████████████████████████████| 1.2MB 45.9MB/s \n",
            "\u001b[?25hRequirement already satisfied, skipping upgrade: packaging in /usr/local/lib/python3.7/dist-packages (from transformers<5.0.0,>=3.1.0->sentence-transformers) (20.9)\n",
            "Requirement already satisfied, skipping upgrade: importlib-metadata; python_version < \"3.8\" in /usr/local/lib/python3.7/dist-packages (from transformers<5.0.0,>=3.1.0->sentence-transformers) (3.10.1)\n",
            "Collecting tokenizers<0.11,>=0.10.1\n",
            "\u001b[?25l  Downloading https://files.pythonhosted.org/packages/ae/04/5b870f26a858552025a62f1649c20d29d2672c02ff3c3fb4c688ca46467a/tokenizers-0.10.2-cp37-cp37m-manylinux2010_x86_64.whl (3.3MB)\n",
            "\u001b[K     |████████████████████████████████| 3.3MB 54.2MB/s \n",
            "\u001b[?25hRequirement already satisfied, skipping upgrade: regex!=2019.12.17 in /usr/local/lib/python3.7/dist-packages (from transformers<5.0.0,>=3.1.0->sentence-transformers) (2019.12.20)\n",
            "Collecting sacremoses\n",
            "\u001b[?25l  Downloading https://files.pythonhosted.org/packages/75/ee/67241dc87f266093c533a2d4d3d69438e57d7a90abb216fa076e7d475d4a/sacremoses-0.0.45-py3-none-any.whl (895kB)\n",
            "\u001b[K     |████████████████████████████████| 901kB 41.4MB/s \n",
            "\u001b[?25hRequirement already satisfied, skipping upgrade: requests in /usr/local/lib/python3.7/dist-packages (from transformers<5.0.0,>=3.1.0->sentence-transformers) (2.23.0)\n",
            "Requirement already satisfied, skipping upgrade: filelock in /usr/local/lib/python3.7/dist-packages (from transformers<5.0.0,>=3.1.0->sentence-transformers) (3.0.12)\n",
            "Requirement already satisfied, skipping upgrade: typing-extensions in /usr/local/lib/python3.7/dist-packages (from torch>=1.6.0->sentence-transformers) (3.7.4.3)\n",
            "Requirement already satisfied, skipping upgrade: joblib>=0.11 in /usr/local/lib/python3.7/dist-packages (from scikit-learn->sentence-transformers) (1.0.1)\n",
            "Requirement already satisfied, skipping upgrade: six in /usr/local/lib/python3.7/dist-packages (from nltk->sentence-transformers) (1.15.0)\n",
            "Requirement already satisfied, skipping upgrade: pyparsing>=2.0.2 in /usr/local/lib/python3.7/dist-packages (from packaging->transformers<5.0.0,>=3.1.0->sentence-transformers) (2.4.7)\n",
            "Requirement already satisfied, skipping upgrade: zipp>=0.5 in /usr/local/lib/python3.7/dist-packages (from importlib-metadata; python_version < \"3.8\"->transformers<5.0.0,>=3.1.0->sentence-transformers) (3.4.1)\n",
            "Requirement already satisfied, skipping upgrade: click in /usr/local/lib/python3.7/dist-packages (from sacremoses->transformers<5.0.0,>=3.1.0->sentence-transformers) (7.1.2)\n",
            "Requirement already satisfied, skipping upgrade: idna<3,>=2.5 in /usr/local/lib/python3.7/dist-packages (from requests->transformers<5.0.0,>=3.1.0->sentence-transformers) (2.10)\n",
            "Requirement already satisfied, skipping upgrade: chardet<4,>=3.0.2 in /usr/local/lib/python3.7/dist-packages (from requests->transformers<5.0.0,>=3.1.0->sentence-transformers) (3.0.4)\n",
            "Requirement already satisfied, skipping upgrade: certifi>=2017.4.17 in /usr/local/lib/python3.7/dist-packages (from requests->transformers<5.0.0,>=3.1.0->sentence-transformers) (2020.12.5)\n",
            "Requirement already satisfied, skipping upgrade: urllib3!=1.25.0,!=1.25.1,<1.26,>=1.21.1 in /usr/local/lib/python3.7/dist-packages (from requests->transformers<5.0.0,>=3.1.0->sentence-transformers) (1.24.3)\n",
            "Building wheels for collected packages: sentence-transformers\n",
            "  Building wheel for sentence-transformers (setup.py) ... \u001b[?25l\u001b[?25hdone\n",
            "  Created wheel for sentence-transformers: filename=sentence_transformers-1.1.0-cp37-none-any.whl size=119615 sha256=3b5e7887cd13a8968c52174bb564f1659896e3787fe0105fa537a2f3604bfd00\n",
            "  Stored in directory: /root/.cache/pip/wheels/84/cb/21/1066bff3027215c760ca14a198f698bca8fccb92e33e2327eb\n",
            "Successfully built sentence-transformers\n",
            "Installing collected packages: tokenizers, sacremoses, transformers, sentencepiece, sentence-transformers\n",
            "Successfully installed sacremoses-0.0.45 sentence-transformers-1.1.0 sentencepiece-0.1.95 tokenizers-0.10.2 transformers-4.5.1\n",
            "Collecting annoy\n",
            "\u001b[?25l  Downloading https://files.pythonhosted.org/packages/a1/5b/1c22129f608b3f438713b91cd880dc681d747a860afe3e8e0af86e921942/annoy-1.17.0.tar.gz (646kB)\n",
            "\u001b[K     |████████████████████████████████| 655kB 16.7MB/s \n",
            "\u001b[?25hBuilding wheels for collected packages: annoy\n",
            "  Building wheel for annoy (setup.py) ... \u001b[?25l\u001b[?25hdone\n",
            "  Created wheel for annoy: filename=annoy-1.17.0-cp37-cp37m-linux_x86_64.whl size=394518 sha256=dc34154c3b96740a0029976c02a48bd9e4181a6f04f09670c7d216a56f92509a\n",
            "  Stored in directory: /root/.cache/pip/wheels/3a/c5/59/cce7e67b52c8e987389e53f917b6bb2a9d904a03246fadcb1e\n",
            "Successfully built annoy\n",
            "Installing collected packages: annoy\n",
            "Successfully installed annoy-1.17.0\n",
            "[nltk_data] Downloading package stopwords to /root/nltk_data...\n",
            "[nltk_data]   Unzipping corpora/stopwords.zip.\n",
            "[nltk_data] Downloading package wordnet to /root/nltk_data...\n",
            "[nltk_data]   Unzipping corpora/wordnet.zip.\n",
            "[nltk_data] Downloading package punkt to /root/nltk_data...\n",
            "[nltk_data]   Unzipping tokenizers/punkt.zip.\n",
            "[nltk_data] Downloading package averaged_perceptron_tagger to\n",
            "[nltk_data]     /root/nltk_data...\n",
            "[nltk_data]   Unzipping taggers/averaged_perceptron_tagger.zip.\n"
          ],
          "name": "stdout"
        }
      ]
    },
    {
      "cell_type": "markdown",
      "metadata": {
        "id": "SCi_HKigGv1D"
      },
      "source": [
        "## load"
      ]
    },
    {
      "cell_type": "code",
      "metadata": {
        "colab": {
          "base_uri": "https://localhost:8080/"
        },
        "id": "kbENoBufGxlf",
        "outputId": "0f013995-c781-4f7b-a5a6-e17821ceac07"
      },
      "source": [
        "!ls \n",
        "!wget https://ai2-public-datasets.s3.amazonaws.com/open-book-qa/OpenBookQA-V1-Sep2018.zip"
      ],
      "execution_count": 2,
      "outputs": [
        {
          "output_type": "stream",
          "text": [
            "sample_data\n",
            "--2021-05-07 11:39:57--  https://ai2-public-datasets.s3.amazonaws.com/open-book-qa/OpenBookQA-V1-Sep2018.zip\n",
            "Resolving ai2-public-datasets.s3.amazonaws.com (ai2-public-datasets.s3.amazonaws.com)... 52.218.185.123\n",
            "Connecting to ai2-public-datasets.s3.amazonaws.com (ai2-public-datasets.s3.amazonaws.com)|52.218.185.123|:443... connected.\n",
            "HTTP request sent, awaiting response... 200 OK\n",
            "Length: 1446098 (1.4M) [binary/octet-stream]\n",
            "Saving to: ‘OpenBookQA-V1-Sep2018.zip’\n",
            "\n",
            "OpenBookQA-V1-Sep20 100%[===================>]   1.38M  1.20MB/s    in 1.2s    \n",
            "\n",
            "2021-05-07 11:39:59 (1.20 MB/s) - ‘OpenBookQA-V1-Sep2018.zip’ saved [1446098/1446098]\n",
            "\n"
          ],
          "name": "stdout"
        }
      ]
    },
    {
      "cell_type": "code",
      "metadata": {
        "colab": {
          "base_uri": "https://localhost:8080/"
        },
        "id": "gF9bJGX3G-kC",
        "outputId": "e83d76cb-48b5-41d7-defa-f075005ad3ae"
      },
      "source": [
        "!ls \n",
        "!unzip OpenBookQA-V1-Sep2018.zip && ls"
      ],
      "execution_count": 3,
      "outputs": [
        {
          "output_type": "stream",
          "text": [
            "OpenBookQA-V1-Sep2018.zip  sample_data\n",
            "Archive:  OpenBookQA-V1-Sep2018.zip\n",
            "   creating: OpenBookQA-V1-Sep2018/\n",
            "   creating: OpenBookQA-V1-Sep2018/Data/\n",
            "   creating: OpenBookQA-V1-Sep2018/Data/Additional/\n",
            "  inflating: OpenBookQA-V1-Sep2018/Data/Additional/test_complete.jsonl  \n",
            "  inflating: OpenBookQA-V1-Sep2018/Data/Additional/train_complete.jsonl  \n",
            "  inflating: OpenBookQA-V1-Sep2018/Data/Additional/crowdsourced-facts.txt  \n",
            "  inflating: OpenBookQA-V1-Sep2018/Data/Additional/dev_complete.jsonl  \n",
            "   creating: OpenBookQA-V1-Sep2018/Data/Main/\n",
            "  inflating: OpenBookQA-V1-Sep2018/Data/Main/train.jsonl  \n",
            "  inflating: OpenBookQA-V1-Sep2018/Data/Main/test.jsonl  \n",
            "  inflating: OpenBookQA-V1-Sep2018/Data/Main/train.tsv  \n",
            "  inflating: OpenBookQA-V1-Sep2018/Data/Main/dev.tsv  \n",
            "  inflating: OpenBookQA-V1-Sep2018/Data/Main/dev.jsonl  \n",
            "  inflating: OpenBookQA-V1-Sep2018/Data/Main/openbook.txt  \n",
            "  inflating: OpenBookQA-V1-Sep2018/Data/Main/test.tsv  \n",
            "OpenBookQA-V1-Sep2018  OpenBookQA-V1-Sep2018.zip  sample_data\n"
          ],
          "name": "stdout"
        }
      ]
    },
    {
      "cell_type": "code",
      "metadata": {
        "colab": {
          "base_uri": "https://localhost:8080/"
        },
        "id": "dOcbOw57G_cc",
        "outputId": "495d2a51-3818-4e4b-a8a1-295a63dd78ce"
      },
      "source": [
        "!cd OpenBookQA-V1-Sep2018/Data && ls && pwd"
      ],
      "execution_count": 4,
      "outputs": [
        {
          "output_type": "stream",
          "text": [
            "Additional  Main\n",
            "/content/OpenBookQA-V1-Sep2018/Data\n"
          ],
          "name": "stdout"
        }
      ]
    },
    {
      "cell_type": "code",
      "metadata": {
        "id": "ByoN9-OxHDof",
        "colab": {
          "base_uri": "https://localhost:8080/"
        },
        "outputId": "c8a8af18-cbf8-4ab7-bcf3-e76bffad3687"
      },
      "source": [
        "f = open('/content/OpenBookQA-V1-Sep2018/Data/Additional/crowdsourced-facts.txt', 'r+')\n",
        "data1 = pd.read_csv(f, sep='\\n', header=None, names=['facts'])\n",
        "f.close()\n",
        "f = open('/content/OpenBookQA-V1-Sep2018/Data/Main/openbook.txt', 'r+')\n",
        "data2 = pd.read_csv(f, header=None, names=['facts'])\n",
        "f.close()\n",
        "\n",
        "print(data1)\n",
        "print(\"--------------\")\n",
        "print(data2)\n",
        "print(\"--------------\")\n",
        "frames = [data1, data2]\n",
        "data = pd.concat(frames)\n",
        "print(data)\n",
        "print(\"--------------\")\n",
        "\n",
        "# Convert to list\n",
        "li_data1 = data1['facts'].tolist()\n",
        "li_data2 = data2['facts'].tolist()\n",
        "li_data = data['facts'].tolist()\n",
        "print(li_data1)\n",
        "print(\"--------------\")\n",
        "print(li_data2)\n",
        "print(\"--------------\")\n",
        "print(li_data)"
      ],
      "execution_count": 5,
      "outputs": [
        {
          "output_type": "stream",
          "text": [
            "                                                  facts\n",
            "0                                                -2+2=0\n",
            "1                                1 day has 1440 minutes\n",
            "2     1 out of 4 people in the world are chronically...\n",
            "3     100 degrees celsius is the boiling point of water\n",
            "4                                      12:00 PM is noon\n",
            "...                                                 ...\n",
            "5161                                    zero is nothing\n",
            "5162                        zipping powered is electric\n",
            "5163        zooplankton do not have respiration systems\n",
            "5164            zoos are public exhibitions for viewing\n",
            "5165                zoos hold animals outside of nature\n",
            "\n",
            "[5166 rows x 1 columns]\n",
            "--------------\n",
            "                                                  facts\n",
            "0                         A bee is a pollinating animal\n",
            "1                        A bird is a pollinating animal\n",
            "2     An electrical conductor is a vehicle for the f...\n",
            "3     An example of a change in the Earth is an ocea...\n",
            "4     An example of a chemical change is acid breaki...\n",
            "...                                                 ...\n",
            "1321             wood is an electrical energy insulator\n",
            "1322                wood is an thermal energy insulator\n",
            "1323  xylem carries water from the roots of a plant ...\n",
            "1324       xylem transports materials through the plant\n",
            "1325             young amphibians breathe through gills\n",
            "\n",
            "[1326 rows x 1 columns]\n",
            "--------------\n",
            "                                                  facts\n",
            "0                                                -2+2=0\n",
            "1                                1 day has 1440 minutes\n",
            "2     1 out of 4 people in the world are chronically...\n",
            "3     100 degrees celsius is the boiling point of water\n",
            "4                                      12:00 PM is noon\n",
            "...                                                 ...\n",
            "1321             wood is an electrical energy insulator\n",
            "1322                wood is an thermal energy insulator\n",
            "1323  xylem carries water from the roots of a plant ...\n",
            "1324       xylem transports materials through the plant\n",
            "1325             young amphibians breathe through gills\n",
            "\n",
            "[6492 rows x 1 columns]\n",
            "--------------\n",
            "['-2+2=0', '1 day has 1440 minutes', '1 out of 4 people in the world are chronically hungry.', '100 degrees celsius is the boiling point of water', '12:00 PM is noon', '168 hours is a week', '2008 to 2018 is a decade', '24 is most of 30', '3 meals a day is standard', \"35 percent of the world's food crops depend on animal pollinators to reproduce\", '4 feet is the closest distance of the 4 options', '5 degrees Celsius is the coldest of the four given temperatures', '50 degree  is halfway between 0 degree  and 100 degree', '500 mL is a measure of volume', '8 to 9 hours of sleep/rest is optimal for health', '95 degrees Fahrenheit is the hottest given temperature', 'A Dyson vacuum would need electrical energy to function.', 'A Tiaga is a coniferous forest most found in the arctic region', 'A bee may be vital for basil as a pollinator.', 'A being may have more of a chance of survival if it can climb up to tall places', 'A biological entity is a living organism', 'A bird is an animal.', 'A bowl of cereal is an example of a mixture', 'A brick is a kiln fired piece of clay.', 'A brick wall is made of brick', 'A centipede is small animals that can hide under rocks for shelter', 'A chopstick might make a more musical sound.', 'A cockroach is an insect', 'A coconut has nutrients', 'A coin is often made of ferromagnetic metals', 'A cycle restarts when the last step is finished', 'A decomposer may thrive more on old turkey or dead animals.', 'A direct relationship means if one thing increases, the other thing also increases', 'A fallen tree may provide a thriving forest life.', 'A fish can be a tasty morsel to a dolphin', 'A flashlight can be used to create warmness.', 'A fly is an insect', 'A forecast is a places weather', 'A freezing temperature/point is 0 degrees C', 'A generator is gas-powered', 'A giraffe is a mammal.', \"A goat is an animal which has a shiny coat when it's healthy\", 'A gymnosperm is a seed type', 'A home planet tremor is an earth quake', 'A hurricane is a violent storm that occurs over large bodies of water', 'A hurricane is characterized by high wind speeds', \"A koala's home can be destroyed because of exploding hot liquid\", 'A lamps glow emits light', 'A leaf grows larger by absorbing sunlight', 'A learned characteristic could be learning how to do a cartwheel', 'A light switch is an example of a circuit', 'A locale is an environment', 'A log is a tree', 'A lute is a musical instrument', 'A mace has enough structural density and mass to cause enough damage to fracture bones', 'A magnet attracts metals like zippers.', 'A megaphone is the loudest option', 'A metal sword is an electrical conductor.', 'A microscope can act as a refraction light.', 'A mountain bike is a bicycle designed for off-road cycling', 'A mouse eats cheese', 'A navy captain would be on the open seas.', 'A negative temperature that gets higher means its getting more positive', 'A new moon happens once per revolution of the moon.', 'A new moon occurs when the moon is in ecliptical longitude with the Sun', 'A nickel could be a conductor for electrical energy.', 'A paint can can combust under pressure.', 'A pair of glasses is very thin', 'A pan on a hot stove conducts heat', 'A park bend would burn easily', 'A penny could be used as a conductor in electrical currents.', 'A penny could be used as a thermal conductor.', 'A plane has a lot of kinetic energy when it moves.', \"A plane'ts gravity pulls in other bodies towards  it\", 'A plant would prefer Dasani water over orange juice.', 'A pressure wave causes sound', 'A processor of food has an electric motor.', \"A producer produces it's own nourishment\", 'A pulley can be used to pull water from a well.', 'A raw material is required during production like labor and capital', 'A rose bush is a plant.', 'A rusty knife is a chemical reaction.', 'A saguaro cactus is a plant with xylem', 'A sedan has a car engine that must also have an oxidizer for combustion', 'A ship can navigate by always knowing which direction is north', 'A sign of the spring season could be flip-flops.', 'A sloth is an animal', 'A source of heat could be a mini flashlight.', 'A source of pollution might be throwing plastic in the ocean.', \"A species' habitat is those places where it can find food, shelter, protection, and mates for reproduction\", 'A stopwatch can be used to track things in a certain amount of time.', 'A substance used to keep drinks cold is ice', 'A suburb can push organisms like tadpoles out', 'A tall bush is a tree', 'A thermal insulator stops heat from spreading.', 'A thermometer uses mercury level to determine temperature', 'A tire is an electrical energy insulator.', 'A toad has camouflage that would blend into a forest or field.', 'A tomato is consider a fruit and comes from a flower', 'A tree is an example of a producer', 'A typhoon can bring a lot of rainfall', 'A wet shoe will dry faster outside.', 'A wiped out animal is extinct', 'A wooden wall is a thermal insulator', 'A woodland is another name for a forest', 'A yard stick is 3 feet, while a meter stick is 3.2 feet make them close in size', 'A year is 365.3 days', 'A year will see about 52 weeks', 'A zipper is attracted to a magnet.', 'AAAs are a battery size', 'AAs are a type of battery', 'AIDS destroys white blood cells', 'AM and PM represent day and night', 'Above our heads is the atmosphere where water vapor gathers in the form of clouds', \"Acid rain could effect a car's color\", 'Adding layers like a bandaid protects you from damage.', 'Adults that go through incomplete metamorphosis may have wings', 'African Driver ants lay a lot of eggs.', 'African wild dogs are predators of zebra', 'After nutrients are absorbed in the body, the excess is removed through defecation', 'Air and water are renewable resources', 'Air is clearer in the mountains', 'Air is not naturally polluted', 'Airplane fuel is made from oil', 'Akvavit is food', 'Al is aluminum', 'Alcor is the name of a heavenly body', 'Algae give coral their color.', 'All green vegetation contains chlorophyll', 'All living things breathe', 'All species need to make babies', 'Alligators have a wide nose.', 'Amoebas are single cell organisms thus specialized', 'Amur leopards is critically endangered', 'An adaptation that humans have created through the help of science is flying', 'An aluminum mine allows obtaining aluminum to make pop, also known as soda, cans.', 'An animal is an organism.', 'An arctic hare is white', 'An electron microscope can look at my common cold', 'An elephant ear is a large plant', 'An embrace can cause friction and slow an object down.', 'An example of a change in the Earth is when a volcano violently explodes and drops downward, becoming a huge lake of lava', 'An example of a disperser could be giving out an even amount of Fruit Loops to each of my classmates', 'An example of a hypothesis is Drinking sugary drinks daily leads to obesity', 'An example of an electric insulator could be tupprware', 'An example of an electrical conductor could be a coin.', 'An example of an innate instinct is a dog drooling when it sees food.', 'An example of an instinctive behavior is a mother feeding the kids', 'An example of camouflage could be a sting ray covering itself in sand', 'An example of combined substances could be cake', 'An example of electrical energy is audio speakers.', 'An example of feeling is clothes on your thighs.', 'An example of pollution is throwing plastic in the ocean', 'An example of replacing a natural resource like copper might be recycling ores', 'An example of thermal energy is drying our clothes in the sun', 'An increase in resources can lead to organisms experiencing overpopulation', 'An object that is stopped has no speed because it has been halted.', 'An orange in a tree has potential energy; it changes to kinetic as it falls', \"An organism that has an unusual habitat on it's back are carrier snails\", 'An organisms being is its survival', 'An overgrown forest would be dusky or dark and in need of light emitted from a flashlight.', 'An owl is a bird', 'An unborn baby is likely to still be developing and be free from any skin damage', 'Animal poop helps with seed spreading.', 'Animals and Plants are organisms', 'Animals cannot survive in areas which have been destroyed', 'Animals cant reproduce if they are dead', 'Animals change their skin color to hide.', 'Animals need protection from storms', 'Animals that breed quickly will lead to overpopulation', 'Animals the exemplify relationship behaviors are killdeer.', 'Animals underground are safer than those above', \"Animals will die if they don't have warmth in winter\", 'Annelida are decomposers', 'Annelids are earthworms which dig tunnels in soil', 'Anthophila is a clade of insects', 'Antibacterial soap is bad for water.', 'Arctic animas live in snow environments', 'Arizona is mostly desert', 'As I search among classifications, its groupings of materials, and properties, I may be looking for vitamins', 'As air chills, it may push out liquids.', 'As the earth tilts towards the sun spring comes', 'Australia is in the southern hemisphere.', 'BP disaster caused oil to leak into the Gulf of Mexico', 'BP had an oil rig explosion that leaked massive amounts of oil into the Gulf', 'Bacteria are unicellular so their cells are not specialized', 'Bacteria is present in death', 'Bacteria will build up on food out in the open', 'Bad odors contribute to odor pollution.', 'Bamboo has roots', 'Basil is a plant.', 'Bathrooms are where people get rid of bodily waste', 'Bats listen to their voice to guide them.', 'Bats use echolocation when catching their prey.', 'Bears can see in colors.', 'Bears have their fur get thick to prepare for winter', 'Bears use caves for housing.', 'Bees are pollinators', 'Bees are the main pollinators we think of', 'Bees hibernate in the winter to conserve energy.', 'Beeswax is a type of wax', 'Being deeper and wider causes it to have larger volume', 'Belt buckles are magnetic', 'Berries are good for your brain.', 'Bigger flowers have more nectar', 'Bikes have been used to grind coffee beans.', 'Bikes need screws to build them', 'Biofuel is still better than some alternatives', 'Birds can use their beaks to clean themselves.', 'Birds eat fish', 'Birds look for a warm climate when they go south.', 'Bitcoin consumes a lot of electricity', \"Blind people don't have the sense of sight\", 'Blind people use their hands as their eyes to tell the shape of an object.', 'Bluebirds live in families.', 'Bombyliidae are pollinators', \"Brewer's yeast is a single-cell organism.\", 'Brick is a thermal mass which allows insulation', 'Build endurance by exercising in small ways.', 'Builders changed the ecosystem forever', 'Bumble Bees inherited the behavior of hibernation', 'Butterflies have a strong chance of survival if predators decrease.', 'By using permanent things you can avoid waste from disposable items', 'CO2 can be trapped under blankets, and be deadly', 'CO2 contributes to the rise in atmospheric temperature', 'CO2 is carbon dioxide', 'CO2 is the chemical name for carbon dioxide', 'CO2 promotes plant growth, including corn', 'Cacti grow in the desert.', 'Cacti prefer dry environments', 'Canadian nightcrawlers are a decomposer', 'Canyons may still have rafting', 'Cape elephant sengis are pollinators.', 'Car exhaust in the gas phase', 'Caracas is in the northern hemisphere', 'Carbon Dioxide is present in crowded rooms like planes.', 'Carbon is one of the most common elements in organic matter', 'Carpet would stop neighbors below from hearing sound', 'Catfish are cannibal predators.', 'Cats eat mice and other rodents.', 'Cats shed during the summer.', 'Cats shed their fur in the summer', 'Caustic liquid man-made substances would be chemicals', 'Cellular respiration releases  waste', 'Changing an environment can sometimes wreck it', 'Chia is a seed, birds eat seeds', 'Chickens have feathers', 'Christmas occurs in winter, a season', 'Cigarettes have some radiation properties.', 'City-dwellers are human', 'Cleaning companies create a lot of waste.', 'Climate uses long-term statistics', 'Cloth attached to masts are ship sails', 'Clouds are very heavy.', 'Clouds are water vapor', 'Coal starts out as plants.', 'Cobalt is a ferromagnetic metal', 'Coke cans can be reused', 'Columbia is mountainous with loose soil', \"Comb Jellies use light to it's advantage.\", 'Conservationism is the movement behind ecosystem conservation.', 'Consuming ignited tobacco is smoking.', 'Controlled burns help prevent wildfires by cleaning up dead foliage', 'Cooled magma is found at volcanos', 'Coral get their vibrance from algae.', 'Corn is hard to digest.', 'Corn will eventually be a product of human waste.', 'Covering a recently deceased living thing is more apt to preserve it.', 'Cow farts are pollution', 'Cows eat plants like cucumbers.', 'Craters are caused by space rocks', 'Crickets live in rotting trees in the forest.', 'Crop rotation is the cultivation of a range of crop types in a specific order', 'Crows have been seen using tools to acquire food', 'DNA contains chromosomes', 'DNA is a nucleic acid', 'DNA is the double helix', 'DVD players convert energy types', 'Daffodils are plants.', 'Dairy needs to be pasteurized before consumption', \"Daytime is part of Earth's cycle.\", 'Dead organisms like rotting trees provide help for thriving communities in nature.', 'Dead trees are great insulators.', 'Death begins after life', 'December 1st is the day after November 30th', 'December is also during the winter in the northern hemisphere', 'December is the last month of the year', 'Deers are herbivores', 'Deers eat plants', 'Deers need water to survive', 'Desert lizards may sometimes resemble rock particles.', 'Different parts of the world have different seasons at the same time', 'Dihydrogen monoxide is commonly called water.', 'Dimming light bulbs are an example of an electrical circuit.', 'Dinosaur poop has been fossilized.', 'Dinosaurs are likely to be in oil', 'Displacement is the moving of something from its position', 'Dogs are living.', 'Dogs can taste things even if they barely chew', 'Dogs will get used to their new homes', 'Dominant genes are often visible in offspring', 'Doorbells are not related to light energy', 'Driving far away from something will make it look smaller', 'Driving in storms is dangerous', 'Ducks use their webbed feet to navigate.', \"Duracell's are nickel cadmium\", 'During cellar respiration I might find myself with natural face water', 'During photosynthesis plants make their own sustenance', 'During the summer, temperatures are hotter', 'Dutch and other farmers used wind to power blades on windmills', \"Eagles are associated with America and is the animal on a one dollar bill and the long eared animal on a cartoon commonly eating a carrot and saying What's up doc? is bugs bunny which is a rabbit\", 'Eagles might even consume sloths.', 'Early humans studied weather, time and animals to realize the length of a year', 'Earth has a magnetic pull', 'Earth is a wet planet', 'Earth is another name for soil', 'Earth is our planet.', 'Earth orbits the sun; a medium-sized star', \"Earth's magnets pull on compass needles\", \"Earthquakes don't need a lot of time to be destructive\", 'Earthquakes mean that people may need to move.', 'Eating food provides energy to animals.', 'Eating less means you will get smaller', 'Eating more than you burn off leads to weight gain', 'Eating something if you feel faint after a lot of activity.', 'Electric cars can have empty batteries and still run.', 'Electric currents cause Joule heating', 'Electrical energy is used to cook bread.', 'Elephant Ear leaves will receive a lot of sun because they are large', 'Elephants are animals', 'Encourage seeds to grow by using the heat from a table lamp.', 'Energy from the yellow dwarf star closest to us is solar energy', 'Energy stored due to the relative positions of charged particles or electric fields is electrical energy', 'Erosion can turn a statue to dust.', 'Erosion is a form of soil loss', 'Ethanol is blended with other gasolines.', 'Evaporation is a form of losing water', 'Evaporation is part of the water cycle, which repeats itself', 'Evaporation is when water rises from the Earth to the sky', 'Everything on the moon is seen in reverse order', 'Examples of deep sea animals are angler fish and frilled sharks', 'Exhaust from a car is a type of gas', 'Experiment with evaporation by using two mason jars with liquid in them.', 'Explosions destroy communities.', 'Extinction is not simply limited, it is literally no remaining', 'Extracting coal is a form of mining.', 'Eyes are used for seeing', 'F is a unit for the measure of temperature', 'Factories cause co2', 'Fahrenheit is a unit of temperature', 'Fe is iron', 'Fecal matter is a waste product', 'Feces is the organic waste expelled from an organism', 'Feed an animal more food to gain weight', 'Feeling is sensing fabric on the skin.', 'Fiji is a small island that will be swallowed by raising water levels', 'Finches love thistle like Sweet Sultan.', 'Finger nails harbor bacteria', 'Fire is a chemical reaction', 'Fire is fueled by wax', 'Fires, although dangerous can help with growth.', 'First an area of the ocean has to become land, then a wooded area can cover that land', 'Flashlights can have many uses.', 'Flauna are all animals', 'Fleas are insects.', 'Flowering plants need pollination to reproduce', 'Flowers contain plant cells', 'Flowers decompose when pulled from the ground.', 'Foil is shiny', 'Food contains energy for humans.', 'Food is needed with all animals', 'For density to remain constant, volume must increase if mass increases', 'Force is equal to mass time acceleration.', 'Ford was the person selling the product', 'Fossil Fuels can be ancient poo.', 'Freezing places tend to get a lot of snowfall', 'Frigate Bird are fast predators.', 'Frigid temperatures would require a source of heat for people to stay warm', 'Frogs have zero eardrums', 'Frogs start their lives in eggs in ponds.', \"From it's position the North Star is visible all year long from the North Pole.\", 'Gas shapes do not stay the same', 'Geese flying from michigan to Florida is migration', 'Genes are produced during reproduction.', 'Get out of the sun occasionally.', 'Getting sick effects health', 'Glaciers have slow hidden rivers', 'Gold has more tightly packed matter because it is dense.', 'Gold is dense from water.', 'Golden retrievers pant', 'Graphite comes from rocks', 'Graphite is soft enough to be scratched by a fingernail', 'Greenhouses are great for plants like French beans', 'Groupers are fish', 'Gypsum is formed via chemical weathering from anhydrite', 'H20 is the formula for water', 'H20 is water', 'H2O accumulation is flooding', 'H2O fall is water falling', 'H2O haze is another form of water vapor', 'H2O is the chemical compound for water', 'H2O is the chemical equation for water', 'H2O is water', 'H2O is water and running it is a waste', \"H2O is water's chemical compound\", 'H2O is water, a raw material', 'Halloween is never celebrated in summer', 'Hamsters would thrive if Eagles died out.', 'Harming an animal worsens its situation', 'Having a cucumber has a positive impact on health', 'Hawks are carnivores', 'Healthier people are in better shape and body building is a form of exercise', 'Heat conducts thermal energy.', 'Heat is necessary only in winter', 'Heat moves from a stove to a pan', 'Hexane boils at 69.1 degrees Celsius', 'Hibernation is an instinct', 'Hitting a child would have a negative impact on them.', 'Holding hands could be a source of heat.', 'Honey bees have 170 odorant receptors, compared with only 62 in fruit flies and 79 in mosquitoes', 'Honolulu has mountains', 'Honolulu is an island made from lava', 'Horny toads are reptiles', 'Hot water is best for cleaning your hands.', 'How many minutes are in an hour', 'Human contact creates heat.', 'Humans adapt to sunny environments by wearing sunblock', 'Humans adapt to warmer climates by wearing sunscreen.', 'Humans are capable of discerning the rhythm of audible elements when they reach the ear', 'Humans are made up of water and other matter.', 'Humans construction kills habitats', 'Humans feel hot on the fingertips', 'Humans poison the environment by dumping trash into the pacific.', 'Hummingbirds contribute to seed dispersal by eating flower parts', 'Hummingbirds help with pollination', 'Hummingbirds help with pollination.', 'Hunting animals will decrease their numbers', 'Hurricane Harvey dumped heavy rains on Houston which caused flooding', 'Hurricane Maria was a storm that occurred in 2017', 'Hypothermia causes sleepiness', 'I can measure my body with a tape measure.', 'I can see melting occur when I bake macaroni because the cheese melts.', 'I can use a ruler to measure the space between my toes', 'Ice is solid water', \"Ice wedging changes the Earth's surface.\", 'Ice, such as glaciers, are a solid form of water', 'If I want to protect myself from the ultra violet rays I can wear a sweater.', 'If I wanted to maintain energy I could nap', 'If I wanted to make something move faster I could roll it', 'If a river is on a right-sloping area of land, it will flow to the right', 'If an illness compromises an organism enough, it can die', 'If north is to the right, then straight ahead is west.', 'If the soil is loose, oxygen can get in easier', \"If there's a lot of snow, its snowy\", \"If you hold the compass sideways, one end of the compass's needle will point down into the earth, and the other will point up\", 'If you want energy, consume bread.', \"If your hands are behind your back you can't touch an object in front of you\", 'Immobile plants benefit from mobile animals taking their seeds to other locations', 'In an auction a seller avoid too large of a loss by setting a reserve price', 'In some fish, their fins may be used for balance.', \"Inantimate objects don't reproduce\", 'Independence Day is in summer when there is more daylight', 'Indium is a metal', 'Infancy is a stage of the life cycle process', 'Ingestion means eating or drinking', 'Insects have six legs.', 'Insects often metamorphose', 'Instincts are behaviors or thoughts we are born knowing', 'Interviews are used to collect data.', 'Iron is Fe on the table of elements', 'Iron things are made of iron', 'Irons can take wrinkles from an item worn on the body to cover the skin from the elements', 'It gets dark early during December.', 'It is dark at night', 'It is safest to breathe unpolluted air', 'It takes 30 days for the moon to go around our planet', 'Its hard to find water in a desert', 'Jackrabbits have elongated legs.', 'January has shorter days.', 'January is a winter month', 'January is cold', 'January is in the winter', 'Japan dropped bombs on Pearl Harbor', 'Japan has Earthquakes', 'Jello changes from a liquid to solid.', 'John Muir advocated for protected areas', 'July is a month during the summer', 'July is in the summer', 'July is in winter in the Southern Hemisphere', 'June 1st is the first day of winter in Australia, which is in the southern hemisphere', 'June 21st is the summer solstice in the northern hemisphere', 'June is in summer and is 2 months after April', 'June is in the summer, November is in the fall, the daylight decreases by hours', 'June is the month after May', 'June is the summer in the USA', 'Jupiter has more gravity than most planets', 'Jupiter is a large object', 'Jupiter is a planet', 'Jupiter is a planet with rotations that cause cycles of day and night on the planet', 'Kangaroos have webbed feet', 'Knives can be used to chip away objects, like rocks.', 'Lake Erie is a body of water.', 'Lake Huron is a body of water', 'Lake Ontario was formed from a glacier moving', 'Landslides are caused by multiple causes', 'Landslides may effect communities.', 'Larger fins enable the fish by pushing more water at a given time', \"Larger spleens are an adaptation from spending most one's life in and around water\", 'Lassie is a dog', 'Lava flows slowly.', 'Leaves are an example of biofuel.', 'Leaves falling from trees means the weather is changing, and it is time to wear a coat.', 'Lesser whitethroats are birds.', 'Lice can be found in your hair and have an incomplete metamorphosis.', 'Lifeforms require water to live', 'Light bulb production effects the ocean negatively.', 'Light holders are made from brass', 'Light must be present in order for eyes to differentiate objects', 'Lightening is a combustion of rain and ice.', 'Lions are predators which live near their prey, Zebras.', 'Listeria is a bacteria and when people are ill they often have a fever', 'Lizards eat bugs for nutrients', 'Locations that sit at a lower elevation are much more likely to be heavily affected by flooding than a higher location.', 'Long periods of time without nourishment leads to starvation', 'Lophiiformes include anglerfish', 'Loriciferans are the only animal that can survive without air', 'Lots of rain can damage the carpet.', 'Louis Pasteur did research on vaccinations', 'Low temperatures means not many species can survive there', 'Lumber comes from a tree which is a source', 'Lupus is a very negatively-impacting disease', 'MP3 players use buttons to turn on and off', 'MRIs are made of magnets', 'Magma has iron in it.', 'Magnetism can produce Isotope Creation', 'Make noises by tapping objects against each other.', 'Make sure to have an umbrella during warm fronts.', 'Making pasta by boiling water helps to see evaporation happen.', 'Many other birds, such as horned larks, quail and sparrows, sleep on the ground in dense vegetation', 'Many species have small amounts of magnetite to guide them as they migrate', 'March is Spring in the Northern Hemisphere', 'Marconi invented the radio', 'Mars is also made of rock, while the larger planets are made of gas', 'Mars is next to Earth', 'Mars revolves around the sun', 'Matter in the liquid phase fills the container it is in', 'Meadow Voles are hard of hearing.', 'Meat repairs cells', 'Medicines originated in forests.', 'Mercury is close to the sun', \"Merriam's elk is extinct\", 'Metallica band members are humans.', 'Metals are metallic', 'Metamorphosis is complete at  adulthood', 'Meyer lemon trees have a sweet fruit', 'Microwaves heat up cold things', 'Mines are found beneath the earth', 'Minneapolis is in a cooler climate than Miami', 'Molecules have a neutral charge.', 'Moles are an inherited from parents.', 'Moles on the body could be an inherited characteristic.', 'Monkeys and humans are similar', 'Monocropping depletes the soil of nutrients', 'More deer, an organism, survive when there is more vegetation, which they eat to survive', 'More trees, less carbon in atmosphere', 'Morocco has a desert environment', 'Moving toward something will let you see it better', 'Moving will make you feel warmer', 'Mushrooms thrive on moisture, which makes the Amazon, a forest environment, ideal.', 'My father gave me the same color eyes.', 'N is nitrogen', 'Na, sodium, added to Cl, chloride, makes salt', 'Natural gas reacts with other substances to deliver energy and is being depleted', 'Naturally preserved organisms are called fossils.', 'Nature needs to be protected or natural resources go away', 'Nebraska is the coldest of the given states.', 'Nectar is a sweet liquid found in flowers', 'Neodymium is an earth magnet', 'Neptune is a celestial body', 'Neptune is a planet', 'Neptune is the roman god of sea', 'New Zealand is in the southern hemishere', 'New Zealand is in the southern hemisphere', 'New forests reproduce and replenish wood', 'Newton described gravity', 'Newton was a scientist that discoverer of gravity', 'Non mammals do not birth live young', 'Nutrients are required for plants to live', 'Nutrients from food and water are needed in order for an organism to survive', 'O2 is air which is measured with a barometer', 'O2 is oxygen', 'Objects get bigger as you get closer', 'Obstacles that might impede a dune are cacti', 'Ocean water has more mass and density than pool water', 'Oceans are water, boat travel on water', 'Octopuses use ink to defend themselves', 'Oil can be used once, not multiple times', 'Oil shale and gas are not renewable', 'Once it is considered very like that the entire population of an organism will reach 0, that organism is considered endangered.', 'Once you use all of something it is impossible to get more', 'One breed of penguins, the Galapagos Penguin lives in the warm waters off the coast of Equador', 'One example of changing an objects shape is making glass into a birdhouse', 'One seasonal change in the environment is low temperatures and less food in the winter compared to the other seasons', 'One type of electrical circuit that requires a switch could be dimming table lights', 'One way humans may be polluting the Earth without realizing it is by using antibacterial soap', 'One way to remember the method of Scientific Classification is to make a sentence', 'One way to retain your own thermal energy is to wear a sweater.', 'Only people with certain genes are capable of turning their tongue.', 'Organisms can die from being too cold', 'Orion is a constellation of stars', 'Ospreys have claws', 'Our inherited traits come from parents DNA', 'Our planet is Earth, which has a cold season in the northern hemisphere in the month of December', 'Our surroundings are effected in many ways during different seasons', 'Oxygen from the air is taken to the bloodstream', 'Oxygen is a gas', 'Paleontologists study fossils like old animal feces.', 'Panama is in the northern hemisphere', 'Pans could be made from ferrous metals.', 'Paper suitable for recycling  is  often used to produce cellulose nanofibers', 'Papua New Guinea is in the southern hemisphere', 'Parents are how we inherit things', 'Peat can help raspberry seeds grow.', 'Peat helps tomatoes grow.', 'Penguins are aquatic animals.', 'Pennies are made from copper which can be used as electrical conductors.', 'Peppers are a type of carbohydrate that contains peppers.', 'Perfume is a liquid', 'Pesticides can cause illnesses', 'Photosynthesis features single-celled organisms.', 'Pine can grow through concrete.', 'Places like, Osaka, Japan are prone to Earthquakes.', 'Plankton can produce as well as consume nutrients', 'Plants are eventually utilized in soil for newer plants', 'Plants are producers because they use the sun to create food.', 'Plants are unable to grow in freezing conditions', 'Plants can be upright thanks to the structural support of stems', 'Plants die in the winter', 'Plants die or become dormant when they decrease water intake in roots and branches', 'Plants get their nourishment from soil', 'Plants hold chlorophyll in their leaves', 'Plants like roses consume carbon dioxide.', 'Plants need light to grow', 'Plants produce glucose in the light.', 'Plants produce their own sustenance.', 'Plants use the sun for their food.', 'Plants use water and sugar to create their own sustenance.', 'Plants will lose their color in the winter', 'Plateaus are frequented by lightening', 'Play dough is a flexible container.', 'Play-Doh is softer than diamond', 'Pluto is the ninth planet', 'Pluto was changed from a planet to a meteor', 'Polar Bears have thick fur to thrive in cold weather.', 'Polar bears are arctic animals, that spend most of their time swimming.', 'Polars bears are white, camouflaging them in the snow', 'Pollution dirties the air', 'Predators crave the taste of the sweet flesh of prey like mice', 'Predators kill others', 'Predators poor vision makes camouflage work', 'Predators will eat their prey', 'Preditors adapt traits that help them catch prey.', 'Prey are easily enticed by light', 'Pull weeds by the root to kill them', 'Pumice is a kind of rock', 'Pumpkins sprout from seed', 'Puppigerus was a sea turtle', 'Putting a flower in food dye allows you to see how the xylem works.', 'Putting plastic over a plant speeds up the process of evaporation.', 'Putting something cool on your hot body will cool you down', 'Quartz are in hollow spaces.', 'RVs are made from iron.', 'Rabbits tunnel underground.', 'Raccoons are animals', 'Raccoons can see in the dark', 'Racquetballs are fast', 'Rain also occurs in other places like planetoids.', 'Rain helps communities thrive.', 'Recorders are sometimes electromagnets.', 'Recycling is another form of conservation', 'Red blood cells help your breathing boxes', 'Redeeming aluminum cans at a store or recyling center is one example of this', 'Redwood National Park is a forest of giant trees', 'Redwoods are a type of tree that could be found in a forest', 'Redwoods are trees', 'Reflection is due to how difficult it is for light to pass through it.', 'Reflectors are effective at night', 'Refraction is the manipulation of an object with light.', 'Renewable resources are environmentally friendly', 'Reproduction means a development of genes like a hairline.', 'Reptiles have small brains.', 'Respiration deals with the gases in our body.', 'Reuse fabric instead of throwing it away.', 'Reusing things means less trash', 'Revenge is an instinctive human behavior.', 'Rhododendron is a plant', 'Ride your bike in nice weather.', 'Rigel is a star, which produces light', 'Rising air pressure means better weather.', 'Rock is an aggregate of minerals', 'Rotting organisms smell bad', 'Rubber is the material in many shoes', 'Rubbing knees causes friction.', 'Rubbing rocks together for a while will make them smooth.', 'Salamanders might be found under garden statues.', 'Salt was currency at one time.', 'San Bernardino does not get snow in the winter', 'Sand clay is an inexhaustible resource.', 'Sand clay is an renewable resource.', 'Sardines are fish', 'Save water to make it last', 'School children often play a musical instrument by sweeping thumb across elastic band over a beverage carton', 'Science fact: as the sale of a product decreases , the amount of money made by the person selling that product will decrease.  However, sales could possibly grow with advertising.', 'Scottish moors are a habitat', 'Screws are a primary component to hold bike together', 'Sea Anemones look like flora.', 'Seals are born on waterfronts', 'Sediment occurs because of rain.', 'Sedimentary rock is hardened, old silt.', 'See evaporation in action by leaving two mason jars out with different levels of gatorade', 'See how the plant stem works by putting a plant into food coloring and water.', 'Seeds are the plants method of reproduction', 'Sense of touch is usually associated with hands', 'Shag carpets have more friction and are hard to slide on.', 'Shelter is one of the basic human needs along with food, water, and companionship', 'Shrews are small mammals eaten by raptors, which are a bird of prey', 'Single sound source reflects in form of an echo', 'Skin can protect your squishy bits', 'Skin contact could be a source of heat.', 'Sleep is needed to be healthy', 'Sleeping is healthy for humans.', 'Sleet is potentially dangerous.', 'Slow a person down by hugging them.', 'Slow dripping water leads to formation of stalactites', 'Smoking can effect your loved ones as well.', 'Smoothies provide nutrients for the body.', 'Snow fall takes place in many areas, but Arctic in particular', 'Snow storms make it hard to see.', 'Soda cans are made of metal', 'Soda is metal', \"Soil is like Earth's skin.\", 'Solar Energy can power household appliances like a coffee grinder.', 'Solar energy might be used for making pasta.', 'Solid water is ice', 'Some Baby bats start hunting a month after being born.', 'Some animals are slow', 'Some animals use coloration to protect themselves.', 'Some cars use biofuel for energy', 'Some caterpillars use camouflage to look like poop', 'Some fish are carnivores and cannibals.', 'Some frogs may urinate on their eggs to keep them moist.', 'Some high places used to be underwater', 'Some human activities can create brackish water, like swimming tubs.', 'Some lizards form eggs inside themselves.', 'Some monkey babies can be raised with two parents.', 'Some people have an extra rib.', 'Some plants have developed the ability to catapult their seeds.', 'Some pupa may go into sand.', 'Some sea anemones are highly toxic to people like Sarah.', 'Some things are non mater', 'Something that could cause harm to an animal could be punches.', 'Something that may effect a child negatively could be punching them.', 'Sound is the primary use', 'South is traditionally where animals migrate', 'Speaking to a plant gives it carbon dioxide.', 'Spinach provides nutrients to grow.', 'Spring changing to summer means there is more daylight to work', 'Sprite containers are usually plastic bottles or aluminum cans, which are recyclable', 'Squirrels conserve nuts over winter', 'Squirrels eat edible flowers.', 'Stars revolve in the sky', 'Steak is from an animal', 'Steel wool is made of metal', 'Stevie Wonder is blind', 'Stingers can be painful', 'Stonefish are able to camouflage', 'Stonehenge is made of rocks.', 'Stones that skip across water are flat and smooth', 'Substances are specifically redesigned during such reactions', \"Sugars are important for a plant's diet.\", 'Summer Solstice is in June', 'Sunlight is in an important factor in communities.', 'Swamps are uncultivated bodies of water also known as marshes.', \"Sycamores are trees and a tree's stem is called the trunk\", 'TV screens are usually glass', 'TV was invented was invented on earth.', 'TVs require alternating current to function', 'Tea can boil', 'Tectonic plates are like a large jenga', 'Telescopes use mirrors to collect and focus light', 'Terns are cold weather animals.', 'Terra cotta is clay mixed together.', 'Territory is where an ecosystem is', 'Teslas are electric vehicles', 'The Alps are located in Europe', 'The American television miniseries about slavery is called Roots.', 'The Arctic Circle is cold', 'The Caribbean Sea is part of the Atlantic Ocean', 'The Earth is categorized as the third planet in our solar system.', 'The Earth is far away from the sun during the summer solstice.', 'The Earth is the third planet from the sun', \"The Earth's energy creates a magnetic field.\", \"The Earth's surface is changed quickly by an earthquake.\", 'The North Star is made of many stars.', 'The Norwegian government maintains a special storage chamber 800 miles from the Arctic Circle', \"The Sahara desert can exhaust someone's supply of water\", 'The Sahara is a desert', 'The Sahara is a desert environment', 'The Sea of Tranquility is on the moon.', 'The Southern cave crayfish has no eyes', 'The amount of water a plant receives is much greater in the Spring', 'The arctic is desolate.', 'The batteries of a flashlight use chemical energy', 'The cause of a wildfire could be as simple as a ciggy', 'The change opposite to expansion is compression', 'The circulatory system is so long it could be wrapped around the Earth.', 'The color of an object is the result of the way the object reflects or emits light.', 'The colors are to mimic an owls eyes and scare smaller birds', 'The decomposition process will leave only the bones in the end', 'The earth is larger than other items listed', 'The first step in the food chain is always a producer like a green plant', 'The formula for BMI requires weight', 'The four seasons are winter, spring, summer, fall.', 'The human diet which only eats plants is vegan', 'The less food there is, the more conflict there will be', 'The light is then turned into energy', 'The lungs are in the chest', 'The lungs are the largest part of the respiratory system', 'The maillard reaction is a chemical reaction that gives browned food its flavor', 'The main cavity of the volcano is called the throat.', 'The mantle is solid bulk.', 'The moon has craters and smooth areas', 'The moon has dead volcanoes.', 'The moon is full just under a month out of the year', 'The moon is only about 238,000 miles from earth', 'The moon sees eclipses in opposite ways from the earth.', 'The more a species gets killed, the more likely it goes extinct', 'The mountains on the Moon are not volcanic.', 'The objects the push up through the deep black stuff are plants which provide fruit', 'The ocean floor effects the types of tides in different locations.', 'The only ball of burning gas in our solar system is the sun.', 'The only true conservation is never to touch it.', 'The presence of sunlight causes it to be daytime.', 'The pull between planets is gravity', 'The rain forest has a lot of vegetation', 'The scientific name for water is hydrogen dioxide.', 'The sea is a large museum full of many artifacts.', 'The seasons in the southern hemisphere are opposite', 'The stomach is an internal organ', 'The sun causes water to evaporate', 'The sun does not move, only our earths rotation aids in the view of stars', 'The sun gives off no light when its night', 'The sun heats mountains and desserts at different rates', 'The sun is a source of heat for the earth', 'The sun is good for environments in nature.', 'The sun is overhead at noon.', 'The sun is strongest at midday', 'The sun is the closest yellow dwarf star', 'The sun is the star that Jupiter revolves around', 'The sun is thousands of miles away and would require lots of fuel to venture to', 'The sun rising occurs once per day', 'The sun sets early in December.', \"The sun's rays produce heat.\", 'The temperature changing may produce daisies.', 'The tongue is the speediest healer in the body.', 'The tree remains with its rings, they simply change size', 'The wind makes things smaller over long periods of time.', 'The winter solstice is marked by less light', 'There are echos in empty rooms when you scream', 'There are four main steps in the water cycle', 'There is a lot of water vapor in the air during a hurricane', 'There is less sunlight when under a tree', 'There is water in the Pacific Ocean', 'Thermal Conduction transfers heat from one object to another.', \"They didn't have sophisticated navigation technology in the 18th century\", 'Things can move further away, even when approaching them', 'This change is to keep them warm, similar to a human with a heavy winter coat', 'Thorius adelos is an amphibian and forest is an example of land', 'Though seems rare, this is actually the case often', 'Throwing trash in the ocean is pollution.', 'Throwing trash into the ocean is also pollution.', 'Throwing your papers away is protecting the environment', 'Thunder clouds weigh quite a lot.', 'Tilapia is a type of fish', 'To avoid ultraviolet rays, cover up.', 'To pass on heat one might hold hands', 'To transfer heat from person to person use skin contact.', 'Toasting a bagel uses electrical energy.', 'Too much fat would be unhealthy', \"Toucans' beaks can be used for skinning fruits\", 'Toyota is a brand of vehicle', 'Traffic flows through a green light.', 'Trains are vehicles', 'Transpformers blowing at 11 pm would make it dark', 'Trees are plants', 'Trucks are larger than plates and barrels and can hold more food', 'Try biking in sunny weather.', 'Tuna have bigger fins than seahorses', 'Tungsten is an electrical conductor', 'Tupperware is a thermal conductor.', 'UV light creates Vitamin D in humans, which promotes the creation of serotonin', \"Unlike bird eggs, reptile's eggs are symmetrical.\", 'Use a flash light to mimmic the sun for plants.', 'Using seeds as fish bait can help spread seeds.', 'Vaccines are made of weakened agents of the virus or bacteria', 'Vegetables like cucumbers contain water and are moist.', 'Vehicle scraps contain ferrous metals.', 'Violins create vibrations or quakes that make sound.', 'Voles are cousins of moles', 'Walking away from where a compass needle points will lead you south', 'Warm liquid helps sooth the throat and esophagus', 'Waste and trash are found in dumpsters', 'Watch how a plant steam works by putting it in food colouring.', 'Water is a form of matter, freezing is a change of state', 'Water is used to keep up hydration', 'Water must be clean to consume safely', 'Water rises and falls twice a day', 'Water vapor helps habitats.', 'Waxy leaves are considered to have clothes.', 'We pollute by throwing things in the ocean.', 'Wear layers to prevent damage.', 'Wear protection when working with chemicals', 'Wearing thicker clothing like socks can protect my skin.', 'Weathering breaks things down.', 'Weathering can change the size of a statue over time.', 'Weathering could be changing a statue to dust', 'Wheat is the first cereal crop to be cultivated by man', 'When I hear news of a warm front I make sure to bring waterproof boots', 'When heading north, and needing to go south, simply turn around and walk the opposite direction', 'When mercury is placed in water, it sinks.', 'When there is less food, animals starve.', 'When you heat butter,  it melts.', 'When your temperature drops, you shiver', 'Wide tree rings mean thriving trees.', 'Wildfires passed through tree tops is rapid, and fast.', 'Wind Energy is re-useable.', 'Wind can be replaced', 'Wind can be used as energy to make pasta.', 'Wind can knock down trees and you can plant a new one', 'Wind can turn a statue to dust', 'Windmills are produced', 'Winter and Autumn are seasons', 'Winter is attributed with cold temperatures', 'Wisconsin is north of Illinois.', 'Without food, animals die', 'Without food, you starve', 'Without oxygen, animals die', 'Wood can be reused to make a dresser.', 'Wood is dried out to make beds.', 'Wrap a bowl of water in plastic to see evaporation happen.', 'Wrecking a spiders web means they cant catch food', 'Xenons are light bulbs', 'Xylem absorbs water from the bottom of a plant', 'Yeast rises as its temperature increases', 'You can build a bench from a tree.', 'You can create reusable energy with body heat.', 'You can find mountains in the ocean.', 'You can find worms on the crust of Earth.', 'You can look at the pores in plants with a microscope.', 'You can make a telescope at home.', 'You can make an instrument from a paperclip.', 'You can see an electrical circuit in motion when making toast.', 'You can support a growing plant with a yard stick.', 'You can use a flashlight as a source of heat.', 'You can use a mini flashlight for heat.', 'You can use a sheet of paper to protect your eyes from the sun.', 'You can use paper to help clean windows.', 'You can use paper to help wipe grime.', 'You can use plants like star anise for sustenance seasoning.', 'You cant change how short you are', 'You cant change how tall you are', 'You cant kill anaimals in yosemite park', 'You could find organic matter in a rabbit.', 'You gain more mass and are harder to move when you get older', 'You have to learn skills', 'You measure things like a phone with a ruler.', 'You might recycle plastic by creating beanies.', 'You might see light reflect off of mist.', 'You need to look at a solar eclipse indirectly or you will hurt your eyes.', 'You need to raise foods temperature to cook it', 'You will be hotter at noon due to the sun', 'Your car can be damaged by acid rain.', 'Your home planet is earth.', \"Your organs receive less water if you're sweating for long periods of time.\", 'Your parents determine your height', 'Zimbabwe is in the southern hemisphere', 'Zippers are attracted to magnets.', 'a  a Sunda Colugo is an animal (and not a rhino)', 'a Great Dane is a type of animal that sheds fur', 'a Liger is an animal that can thrive when there is enough to eat', 'a Punnett square has at least four boxes', 'a Red Giant is a star', 'a badger is an animal', 'a bag of gas produces thrust by releasing gas at a high speed', 'a banana is a food item', 'a banner is a flag', 'a beach ball is an inflatable toy', 'a bearded dragon is a lizard', 'a bicycle involves motion of the wheels and pedals', 'a bike requires no fuel', 'a bill is another form of a birds beak', 'a biological trait is one that is inherited', 'a black-tailed deer may caution other deer of danger by slamming a hoof to the ground', 'a blizzard is a very snowy day', 'a bloated pond floods', 'a bloodhound is an animal', 'a body maintains this kinetic energy unless its speed changes', 'a boom in population is an increase', 'a boulder is very thick', 'a breeze is a form of wind', 'a breeze is wind', 'a bright clear day implies sunlight', 'a broken down body has less mass', 'a brook is a water source', 'a bulldozer breaks down a building', 'a bush can act as a shelter for small animals', \"a bush's role is that of a producer\", 'a button is a switch', 'a byproduct of photosynthesis is oxygen', 'a campfire cooks meats which often results in them stiffening due to the proteins getting denatured', 'a candle is an item made from a petroleum product with a cord sticking out the top', 'a car is propelled by gasoline', 'a car weighs around 5,000 lbs', 'a caterpillar becomes a colorful invertebrate known as a butterfly', 'a cattail is a kind of green plant', 'a cave is used as shelter', 'a cavern is an underground chamber', 'a cell contains a nucleus', 'a cell phone can be magnetic', 'a centipede is an animal', 'a century is a period of many years', 'a change is an adaptation', 'a chevy 2000 is a car', 'a chevy ride is a vehicle', 'a child is an organism', 'a circuit can be copper or steel', \"a circuit is completed when it's closed\", 'a circuit is needed for the bulb to work', 'a circuit is the path energy follows', 'a circuit made intact is completed', 'a clean air act is a pollutions standard followed by manufacturers, which are factories', 'a climate can change due to delogging', 'a climatic term is a season', 'a closed circuit is completed', 'a closed in area with no air will get too hot', 'a cloth satchel is an object which can be used more than once', 'a cold front brings colder weather', 'a cold front brings cooler temperatures', 'a command base is like a control center', 'a common problem removing body waste in the excretory system is having the runs', 'a compact with a mirror can reflect light that can be seen a long way off', 'a compass can track orientation', 'a completed circuit allows electricity to flow', 'a computer requires electricity to run', 'a continent is a large mass of land', 'a cord is an electrical conductor', 'a cows utter is the source of dairy', 'a crashing comet is closet and brightest before the crash', 'a creature burying itself in the ground is camo', 'a creature that eats flesh is a predator', 'a creatures belly size is an indication of their weight', 'a cup of hot tea and a glass of iced tea are some things which transfer heat', 'a curling iron is electrical', 'a curling iron radiates heat', 'a curved surface has a slope', 'a daffodil is a flower', 'a dangerous animal is frightful', 'a day is twenty four hours', 'a day-night cycle is a day', 'a dead tree will stopping growing', 'a decade is many years', 'a decade is ten years', 'a deluge is heavy rain', 'a desert is a dry environment', 'a displayed habitat is a zoo', 'a dog is an opaque object', 'a door knob is a simple wheel and axle machine that humans provide the energy to make work', 'a downstairs apartment would benefit from noise muted from an upstairs apartment', 'a drain spout causes water to pour into the soil', 'a drained lake is gone', 'a drained puddle contains less available water', 'a dresser crab is an organism that looks like its environment', 'a dry spell is a drought', 'a duplex is a house', 'a fat beak is used to crack nuts and shells', 'a fault line is a crack', 'a female platypus is a mother', 'a fibrous mass is an example of a trunk', 'a ficus plant release oxygen, as a step in photosynthesis', 'a fiery reaction is combustion', 'a filament is a metal thread', 'a fixed wing aircraft is a plane', 'a flag is lifted', 'a flashlight is portable and something that emits light is useful to see in places without light', 'a flood plain is a level area near a steady flow of water', 'a flooded habitat can no longer support chickens, which are animals', 'a flower procreates when pollen from another flower is deposited by bees', \"a flying plane increases it's distance\", 'a forceful gale is wind erosion', 'a forest is a condensed area of trees', 'a forest is a large area dominated by trees', 'a forest is a spacious area mostly covered with trees and undergrowth', 'a forest is a treed area', 'a fortnight is two weeks, a month is four weeks', 'a fossil forms after a very long time', 'a fox needs rabbits for food', 'a freshly waxed car is a reflective object', 'a frozen liquid is no longer a liquid', 'a full moon is a phase of the moon', 'a full moon is a phrase of the moon', 'a full moon is at the opposite end of the lunar cycle', 'a full moon is one of the phases of the moon', 'a fundamental feature of all life is reproduction', 'a gain may be achieved by absorbing', 'a gale is wind', 'a giant sequoia is a tree', 'a girder is made with carbon steel', 'a good influence is a positive impact', \"a graduated cylinder is a container with a printed scale on it's side\", 'a growing snowball is an object with increasing mass that will require a stronger person, who can exert more force, to push it', 'a gust is a strong wind', 'a habitable space is one which living things will inhabit', 'a harpsichord is an instrument that makes sound through vibrating strings', 'a heated wire would be hot to the touch', 'a hefty object is heavy', 'a higher level is raising an object', 'a higher reading mean greater air pressure', 'a hill create large amounts of resistance when pushing a car', 'a hippopotamus is an organism', 'a home is nearest where animals consume food', 'a horned viper lives in the sahara', 'a horse barn would contain horses', 'a horse is an animal', 'a hot engine makes surrounding materials hot as well', 'a human child is an animal', 'a human powered two wheel vehicle is a bicycle', 'a hurricane is a violent disturbance of the atmosphere with high winds', 'a hurricane is considered a catastrophic natural event', 'a lack of light is the only valid environmental change', 'a lake evaporates to form a cloud', 'a lake is a body of H2O', 'a lake is a body of water', 'a lake is a reflective object', 'a lake that dries up is gone', 'a landfill is a trash heap', 'a lawnmower is harmful to animals', 'a leaf absorbs sunlight to perform photosynthesis until a lounge chair obstructs the solar rays', 'a leafy shrub is green', 'a leaning tower is a building', 'a learned characteristic is a toddler banging with a stick while parent hammers', \"a leveled tree can't survive\", 'a lifeless life form is a dead organism', 'a light bulb is a a blown piece of glass with a wire inside', 'a light bulb is plugged into the wall, which contains electrical wires that connect to the electric grid and power plant', 'a light bulb is unable to work if it is just on a shelf', 'a light bulb provides warmth', 'a light can be reflected from another room', 'a limit might be in place for deer hunting at the park', 'a lion is an animal whose food intake decreases when underfed', 'a loupe is a small magnifying glass', 'a lower elevation is a decreased elevation', 'a maggot to fly is also metamorphosis', 'a magnifying glass is an enlarger', 'a male and female are needed to reproduce', 'a mammals temperature only changes when ill', 'a mantel is over a fireplace, and that sounds like mantle', 'a marlin is a predator', 'a match can light up the candle', 'a match causes fire', 'a menstrual cup is reused while the alternatives are thrown away', 'a metamorphosis happens in a cocoon', 'a metamorphosis is a mutation', 'a micro-scratch test determines which rock formations are the hardest', 'a mild heat can melt items', 'a mile away is quite far', 'a millennia is many years', 'a mirror is a reflective piece of glass', 'a mirror is made of silicon and silver nitrate', 'a mixed drink is a mixture', 'a mode of conduct is the way an animal behaves', 'a mom is a parent', 'a monkey is an animal', 'a month has about 30 days', 'a motion thats frontward is going forward', 'a mouse is a prey to a cat', 'a mouse is an organism', 'a mouse is prey to other creatures', 'a moving vehicle needs friction to stop', 'a muddy road becomes dry when the water evaporates', 'a mug has a smaller surface area than a bowl', 'a museum can be shelter', 'a nail can be a non-contact force', 'a negative impact could be described as bad', 'a newt is an amphibian', 'a nikon device is a camera', 'a non example of hibernation is sleeping, naps, and comas', 'a notebook can be used to collect data', 'a palm frond is a flat leaf', 'a palm is a type of tree', 'a palm tree is a producer', 'a paper is folded several times to make a fan', 'a parakeet is not an anphibian', 'a peach pit is a seed', 'a period of millions of years is a very lengthy amount of time', \"a person can't see very well when it's dark\", 'a person uses an umbrella when water falls from the sky', \"a person's diet determines nutrient levels\", 'a persons flesh is their body', 'a persons insides are their body', 'a pet with flippers is sometimes kept in a bean-shaped container with fake tree', \"a phase change is a reversible change that doesn't change a matter's chemical makeup or properties\", 'a phase shift is a change in the state of matter', 'a pickup is a vehicle', 'a pine is a tree', 'a pine tree is a plant', 'a plank can be used as an inclined plane', 'a plant light can produce sunlight type of lighting', 'a plant that has grown more is taller', 'a plasma star is in the process of having plasma on it', 'a plastic dinner container is a flexible container', 'a plastic tote is a flexible container', \"a polar bear's environment is white, like his fur\", 'a pollywog is an animal that metamrphosis into a frog', 'a pond is a body of water', 'a pond is a water source', 'a ponds of less size in include no more pond at all', 'a positive adjustment is a positive impact', 'a power cable is a conductor', 'a powered metal fence can cause electrocution', 'a prairie is an environment', 'a puddle is a small body of water', 'a puddle is less deep than a river, lake, or ocean', 'a pulley uses a string or rope', 'a pulley uses pulling to move things', 'a pyramid is sloped', 'a quaking on a microscopic level can be vibrating particles', 'a radio produces sound but not light', 'a rain puddle is a liquid', 'a rainbow is usually seen after rain', 'a raised welt that has lasted years would be a scar', 'a rat is an organism', 'a rattlesnake is an animal', 'a raven is an animal', 'a raven is likely to migrate', 'a red maple is a tree', 'a refrigerator is an electric device', 'a refrigerator runs by electricity', 'a residence is a shelter', 'a resource that cannot be readily produced is nonrenewable', 'a revolution of the moon is 27 days', 'a river is a path of water flowing consistently', 'a room with a roof lets in sunglight', 'a rosebush is a kind of plant', 'a rotting ship is a nonliving thing in a marine ecosystem where organisms known as sponges can be found', 'a run over animal is likely dead or dying', 'a running boiler is hot', 'a running engine is how the car engine gives off heat', 'a rutted surface is rough', 'a safe is a heavy object', 'a salamander is an amphibian', 'a scale would show if your pet was overweight', 'a scope can view on a micro level', 'a screw is metal', 'a scuba diver usually goes a lot deeper than an average swimmer', 'a season is a division consisting of a particular weather pattern and hours of daylight', 'a sedan is a type of vehicle', 'a sharper drop in a slope is where water will run', 'a shift can fold rock', 'a shove is a push, or a repelling action', 'a shrew is an animal', 'a shudder is a vibration', 'a sidewalk is a hard walkway that runs alongside a street', 'a similar height is inherited', \"a single cell organism can't have specialized cells\", 'a single tortoise cannot make offspring', 'a singular instance is one time', 'a six sided shape is known as a hexagon', 'a skunk smells bad', 'a slant is a tilt or lean', 'a slash is a wound', 'a sloth is an organism which moves slowly to conserve energy in order to survive', 'a soccer ball and the turf interact with each other via friction', 'a solar cycle is equal to 1 day', \"a solid changing to a liquid won't effect the weight\", 'a space stone is an asteroid', 'a sparrow weights far less than a vulture', 'a species community is its population', 'a species is a type within a bird classification', 'a speedometer measures speed', \"a spider's web is made of a silk like thread\", 'a spyglass can be used to emulate distance between objects being shorter', 'a squid tries to avoid orcas', 'a squirrel buries nuts and then retrieves them in the winter', 'a squirrel is a living thing', 'a stag is a male deer and timberland is a forest', 'a stalactite is a rock formation found in caves', 'a steak is sliced meat which rots when left on a counter for an entire day', 'a stove can boil water, which is a liquid used to make egg noodles', 'a stove in an electrical device', 'a stove is an electrical device', 'a stove is an object that appears white because it reflects all wavelengths of visible light', 'a sunflower is a plant', 'a sunny desert is warmer than a rainy forest', 'a switch closes the circuit using copper metal', 'a sword is made of metal', 'a symptom of food poisoning is an upset stomach', 'a telescope is a cylinder with mirros inside it', 'a thermal protector is an insulator', 'a thing that is in the air is is not caught will fall', 'a tight space is small', 'a toaster is a popular thermal energy conductor used to toast cool soft bread into hot toasted bread', 'a tongue is a warm object and metal can be a much cooler object', 'a tortoise moves slowly', 'a trail having tree dweller is a monkey', 'a tree filled environment is a forest', 'a tree hopper is a frog', 'a tree is a living thing', 'a tremor is an earthquake', 'a trip is usually measured in miles or kilometers', 'a vase is an object', \"a viola has strings which create vibrations that are perceived with one's ears\", 'a vulture is a bird', 'a waiting person is not in motion', 'a warm kiss uses pressure and heat', 'a waterfall is a nonliving thing', 'a weaker bug is an organism', 'a willow is a producer using photosynethsis', 'a winter coat is another form of animal hair', 'a wolf is a living thing', \"a wolf's nose is on its snout\", 'a world is a planet', 'a wren is a type of bird', 'a xapping energy is electrical', 'a yard stick is one meter', 'a yell is a shout', 'a yellow dwarf is a star', 'a yellow shirt reflects sunlight better than other colors of clothing', 'a youngling is young', 'a zebra is an animal', 'a zone condition is the climate', 'abandoning is leaving a habitat', 'abrasion is a form of friction', 'abrasion is another way to say weathering', 'abrasion is friction', 'abrupt electric discharge is lightning', 'abusive relationships are harmful relationships', 'accelartion is a change in velocity, which implies something is moving', 'access to roofless space provides plants and plant cells with sunlight', 'acid is a chemical', 'acid is not something to drink', 'acorns are a type of nut', 'acorns are part of a plant', 'acorns can be toxic to many animals', 'acquired characteristics are determined by environmental factors rather than heredity', 'acquired characteristics can happen in a dangerous place', 'acres are land that crops are planted in', 'active physical effort is exercise', 'active turbines produce alternating current', 'ad infinitum means over and over again', 'adaptation is changing to meet the enviroment', 'adapting to needs, such as hunger, can develop new traits', 'adding a water feature would increase available water', 'additional force is gravity', 'adequate sleep is required to be well rested', 'adjusting a thing is a change', 'adjusting is adapting', 'adjusting location is moving', 'adjusting shape and color is camouflaging', 'adjusting speed can increase speed', 'adobe is a type of clay', 'adobe is made of clay like brick', 'adults are at a later stage of the life cycle process and die of old age', 'adults have babies', 'advances in food transport is what leads to the ability to move food around the world', 'age markings on tall plants are rings in trees', 'aged enough to reproduce is adulthood', 'agreeable temperatures are warm', 'air flow can carry seeds to new environments', 'air goes from the head through the neck to the rest of the body', 'air is a gas', 'air is a mixture of gases which expands when heated', 'air is a natural resource', 'air is made up of nitrogen and oxygen', 'air motion is wind', 'air only begins to pass through the lungs at birth', 'air pressure is a measure of how tightly the molecules are pressed together', 'airfare refers to paying to take a flight, on a plane, through the skies', 'algae needs submersion', 'algae perform photosynthesis', 'all animals need to be warm enough to live in the cold without dying', 'all animals require oxygen', 'all items are made of matter', 'all living things breathe', 'all living things can adapt', 'all living things need water to thrive', 'all non conductive materials are good energy insulators', 'all parts of the plant together make a single plant', 'all plants are Flora', 'all shiny surfaces are polished', 'all trees have growth rings', 'alligators live in marshland', 'alligators mostly live in swamps', 'alluring is magnetic', 'along with wind and water power these are renewable', 'alter is to change', 'alteration is a change', 'altered soil is moved and lost', 'aluminium foil is a thermal energy conductor', 'aluminium is a type of metal', 'aluminium is reflective', 'aluminum can be in the form of trays', 'aluminum conducts thermal energy', 'aluminum is a metal', 'aluminum is used to make the shiny metallic foil paper', 'ammonites are fossils', 'amoebas are tiny and would be easier viewed thru the magnifying effect of a microscope', 'amphibians are carnivores', 'amphibians are cold blooded and can not survive the cold', 'amphibians that have hatched are tadpoles', 'an acquired attribute happens over the lifetime of the organism', 'an active insulator slows electrical transfers', 'an adult queen is female', 'an anaconda is an animal', 'an animal gets acquired characteristics from its parents', \"an animal is physically able to reproduce when it's in its adult form\", 'an animal leaving an environment reduces the number of that animal in that space', 'an animal might place the seed in another location', \"an animal's fur forms their coat\", \"an animal's health would suffer in an environmental lacking nutrients\", 'an animals housing situation is its habitat', 'an animals tongue is the only place they can sweat', 'an anteater is an organism', 'an area without sunlight is cooler than an area with sunlight', 'an attribute is a characteristic.', 'an eagle is a bird', 'an eagle is the national symbol for the US, a salmon is a fish', 'an echo is a delayed reflection of a sound', 'an electric fan converts electrical energy into mechanical energy', 'an environment is also an ecosystem', 'an exact matching color is blue', 'an expanse of water is an ocean, forested land is a wooded area', 'an experience for the nose is a smell', 'an extinct species no longer exists on the earth', 'an extremely rapid surge of rising flood water that moves across usually dry land is powerful enough to lift a 250-ton object off the ground', 'an herbivore is an organism', 'an ice sculpture is a solid', 'an icy day increases skidding risk', 'an igloo would survive in a cold environment', 'an incinerator is the enviroment', 'an incline is a slope', 'an increase in eye size leads to better eyesight', 'an increase in fat leads to increased weight', 'an increase in water level causes things floating on the surface to rise', 'an inimical impact is harmful', 'an iris is a flower', 'an iron is hot', 'an island is close to the ground', 'an mp3 player is an example of a simple series circuit which has a switch in the form of a power button', 'an oak can replace itself also', 'an oak is a plant', 'an oak is a type of tree', 'an object gets warmer when heat is transferred to it', 'an object outside is more distant than an object in the same room', 'an objects configuration is its shape', 'an objects locale is its location', 'an ocean is a large body of salty water', 'an odor is a smeller perception', 'an old car would be fueled by gasoline', 'an omnivore includes animals in its diet', 'an open box containing tasty seeds would be a bird feeder', 'an open circuit fails to allow electricity to flow', 'an open circuit is an incomplete conductive path', 'an organism can also die without having enough heat', 'an otter can hunter', 'an oven can heat up a space', 'an umbrella is need when there is a chance of rain', 'an un-raked yard is covered with leaves, and worms will live there', 'an underground crawler is an insect', 'ancestors are family members', 'ancient crustaceans are often found in rock', 'and earth orbits the sun', 'andesite is a kind of rock', 'angler fish produce light in an organic lure', 'angler fish use lights to attract prey', 'angular and round are different shapes', 'animal can die if burned', 'animal groups decline when fires destroy food in ecosystems', 'animal need housing to protect them from bad weather.', 'animal populations do well when they have food and not too many predators', 'animal reproduction requires another of the same species to mate with', 'animals are biodegradable', 'animals are hunted', \"animals aren't aware that they are transporting seeds stuck to their fur\", \"animals aren't producers, decomposers, or something else\", 'animals burn calories to produce energy which in turn warms the body to a constant temperature', 'animals commonly called earthworms include annelids', 'animals do metamorphosis also', \"animals don't eat, drink or excrete while hibernating\", 'animals eat food to gain nutrients', 'animals get hot in warm weather, which spurs the fur loss', 'animals in hot environments become dehydrated more quickly', 'animals in snow need to stay warmer', 'animals include zebrafish', 'animals lose less water, or retain more water, in the cold', 'animals migrate to where the food is', 'animals move beneath soil to avoid predators from above', 'animals need defense mechanisms to protect themselves', 'animals need to keep warm in the snowy season', 'animals need to mate in order to not go extinct', 'animals poop out seeds so they can grow again', 'animals receive energy in the form of complex carbohydrates', 'animals take in oxygen', \"animals that can't adapt go extinct\", 'animals that eat plants rely on those plants to perform photosynthesis', 'animals that migrate are habitual creatures', 'animals use rocks to defend themselves from bad weather', 'animals who have lost their habitat will vacate', \"animals with live births don't lay eggs\", 'another example of camouflage is appearing to be something else found in an environment', 'anteaters are animals', 'anteaters eat ants', 'anteaters primarily prey on ants', 'anthills are small spaces', 'anthracite is a resource known as coal', 'anthropogenic means man made or originating from humans', 'anti bacteria soap destroys good bacteria', 'ants are small', 'any nutritional material is considered food', 'apes eat insects', 'apparent means obvious or easy to see; increased', 'appendages can sense touch', 'apples are fruits', 'arctic areas are cold', 'arctic environments are chilly', 'arctic foxes blend into white snow', 'area near the edge of oceanic frontier is shore', 'areola are around nipples', 'arid means dry', 'arid means very dry', 'arid region is a desert', 'aroma means smell', 'aromas are picked up by a sense of smell', 'aromatic means to fill the air with a scent', 'art classes have many pencils', 'arteries transport nutriment', 'as a flower ripens it becomes more pungent', 'as an object losses it energy it becomes colder', 'as an object moves up through the air, the pressure on that object will decrease', 'as bacterial resistance to antibiotics rises, the ability of medical professionals to treat bacterial-related conditions in humans will decrease', 'as object become more clear they are better observed', 'as predators increase, harm can come to prey', 'as the earth makes it yearly orbit it wobbles closer and farther from the sun', 'as we enter winter the earth shifts away from the sun and the daily hours decreases', 'ascending is to go up', 'asphalt becomes extremely hot after asborbing sunlight', 'asphalt is a type of rock', 'asphalt is much rougher than snow and friction causes heat', 'asphyxiation is suffocation, which happens when air is removed', 'assets can be resources', 'assistance is what pollinators provide to plants', 'asteroids are made of rock', 'asteroids enter to atmosphere to make craters', 'astral beams are sunlight', 'astral bodies are celestial objects', 'astral light is the sun', 'atmospheric air delivers sound', 'atmospheric water droplets collide to form larger droplets which fall from the sky as precipitation', 'atomic bombs cause the ground to shake like earthquakes', 'attaching the conductor to a battery sends electricity to it', 'attraction is a preference', 'attributes are properties', 'avian creature is a bird', 'avoiding fire is to keep safe', 'ayers rock is in the southern hemisphere', 'babies need milk to live', 'baby animals cannot regulate body temperature well alone in winter', 'baby plants have fewer leaves than adult ones', 'back and forth is daily cycle', 'backyard vegetable gardening is a form of low-scale farming', 'bacteria are potential illness causing organisms', 'bacteria are single celled organisms', 'bacteria can be beneficial to humans', 'bacteria causes sickness', 'bacteria grows when food is not properly preserved', 'bacteria have cell walls and no organelles', 'bacteria is found in the gut, it is called gut flora', 'bad water can decrease animals populations', 'badgers are animals', 'baking has chemical reactions', 'baking is applying heat, which can melt matter', 'balances do not sort, classify or break things', 'ball meeting ground is hitting', 'balloons and balls are gas filled', \"balloons often go up when they're not held down\", 'bamboo grows quickly', 'bamboo is a living thing', 'bamboo is a plant', 'banana peels are waste from eating bananas', 'bananas are a plant which co-evolved with bats to adapt for seed dispersal', 'banging drums is playing an instrument', 'barely using something is conservative use', 'bark and canopies are parts of a forest', 'bark covers trees and after it expands it adds a ring', 'barracudas are living', 'baseballs need force to be a home run', 'bass are fish', 'bass are fish which live in liquid; water', 'bass is a type of fish', 'baths add humidity to air', 'bats do not lay eggs', 'bats fly', 'bats live in caverns', 'bats navigate during flight use sound reflection', 'bats use sonar to navigate', 'batteries and vinegar have different properties', 'batteries are a form of chemical energy', 'batteries are a source of electricity', 'batteries provide electricity to the doorbell', 'battle is fighting', 'beach sand is mostly comprised of quartz', 'beakers can be used during experiments', \"beaks are on the front of a bird's face\", 'beans are seeds', 'bears are living things', 'bears eat other living things too', 'bears hunt for honey', 'bears live longer by consuming a more varied array of prey', 'bears prey on fish in rivers', 'beavers are animals and there is more food available after winter', 'beavers building their homes, dams, cause lakes, H2O sources, to form', 'bedbugs are living organisms', 'beef turns from red to brown when it cooks', 'bees are a pollinator and dandelions are a flower', 'bees are pollinators', 'bees make honey', 'beetles are predators', 'before heaters, you had to burn wood', 'being a predator means catching prey', 'being exploded means you fell in harms way', 'being physically prepared to reproduce is adulthood', 'being safe is best with chemical splashes', 'bell peppers and hot peppers are related crops', 'berries grow on berry bushes', 'berries have seeds', 'berries have seeds inside', 'between them is the same place', 'biannually is twice a year', 'bicycles require continuous circular motion on pedals', 'big cats are nocturnal predators', 'bikes are pedaled when ridden', 'binoculars improve far sighting', 'binoculars look at things far away', 'binoculars would be useless for observing something near, close or beside the viewer', 'birches are in forests', 'bird sometimes regirgitate food to their young', 'birds are animals', 'birds are flying creatures', 'birds are living things', 'birds eat for nourishment', 'birds eat fruits from trees also', 'birds feed on seeds from flowering trees in tropical waters', 'birds get off the ground by flying', 'birds have no teeth', 'birds lay eggs', 'birds leave states when they migrate during certain new seasons', 'birds live in nests', 'birds migrate to find warmer places for the winter', 'birds often live in trees', 'birds such as geese relocate when weather gets cooler', \"birds with short beaks can't reach small spaces\", 'birth is a stage in the life cycle process', 'birthing young is a part of reproductive behavior', 'bisexual reproduction is not a thing', 'black pips are black seeds', 'blaze up is heating up', 'blazing temps are heat', 'blizzards are examples of bad weather', 'bloated pools are flooded or overfilled with rising water', 'blocking in can be with fencing', 'blood transports oxygen', 'blood vessels transport blood', 'bloodhounds have the strongest sense of smell', 'blowing pipes is playing an instrument', 'blubber keeps the body temperature up', 'blue jays are birds', 'blue spruce are trees', 'blustery is a synonym for windy', 'boats are directed with ship wheels', 'boats travel relatively fast', 'body postures and layout can be inherited', 'body spray is gas', 'boiling changes a liquid to vapor', 'boiling is a method of treating water', 'boiling is when a liquid goes from a liquid state to a gas', 'boiling produces bubbles', 'boiling water has bubbles', 'bones are a part of an organism', 'bones are made of calcified material', 'books are typically made of paper', 'boom is a term used for population increases', 'boosted ecosystems have greater populations of organisms', 'boring is digging', 'both represents the dominant and the recessive', 'botulism is a bacteria', 'boulders are rocks', 'bouncing and reflecting are the same', 'braces are wired and metal', 'braille is reading by using your finger to determine the shape of the word.', 'brains are inside heads', 'branches are found in trees', 'branches are plant fragments', 'branches come from trees, a raw material', 'brass is a metal', 'brawn is strength', 'bread getting harder is a chemical reaction', 'bread is a carb', 'bread is a carbohydrate', 'bread makers are an electrical device that receive electricity through a working power cord', 'breaking down is decomposition', 'breaking rocks is weathering', 'breathable air is made of oxygen', 'breathing is respiration in animals', 'breathing is taking in air', \"breathing on a tissue dampens it due to breath's water vapor\", 'breeze is wind', 'breezes disperse seeds', 'bricks are opaque', 'bright days offer the most visibility', 'brisk means quick', 'briskly is quickly', 'broccoli is a plant', 'broken bones are acquired', 'broods are offspring', 'bubbling water is boiling', 'bubbling water on a stove is boiling', 'buds are a part of the plant needing nourishment', 'bug killer is poisonous, and a pollutant', 'bugs are insects', 'bugs are organisms', 'building in a habitat harms animals', 'building nests is instinctive behavior', 'building requires the clearing of land.', 'bunkers are underground, which shakes during earthquakes', 'burned things are seared', 'burning is a chemical reaction', 'burning is when something burns', 'burning requires combustion', 'burns can cause scars', 'burying something means it has died', 'buses can use alternative fuels', 'businesses pollute often and are run by humans', 'butter is a solid that melts in boiling water', 'buttercups are plants', 'buying supplies is part of preparing for a storm', 'by using plants that need different elements the soils is not stripped', 'cacti are tough plants', 'cactus are plants', 'cactus perform photosynthesis', 'cake batter cooks when heat is applied', 'cake is not required for photosynthesis', 'calcium is a mineral', 'calibrating is making adjustments; adapting', 'calories are energy in food', 'camel humps hoard energy in the form of fat', 'cameras can record memories', 'cameras have tented lenses', 'cameras preserve images by recording them', 'cameras record audio and visual', 'camouflage is a misdirection', 'camouflage is used as a survival strategy against predators', 'camouflage is when you blend into the environment', 'campfires are hot substances', 'campfires contain fire', 'campfires produce light', 'can are made of aluminum', 'candles are lit by sparking a wick with fire', 'candles burn with the energy from oil', 'canines pant when hot', 'cans are aluminum', 'canyons are formed by rivers', 'canyons can develop over millennia', 'canyons have echoes', 'carbon dioxide is a gas', 'carbon is a base raw material', 'carbon steel will attract a dime', 'carbonation reduces flatness', 'carbonic anhydride is carbon dioxide', 'carbs are a sugar', 'card stock is recyclable', 'careless handling of chemicals can lead to accident splashing', 'carnations are flowers', 'carnations are plants', 'carnivores are dependent on prey who would leave during a fire', 'carnivores eat moles', \"carnivores' diets consist of animals\", 'carpenter ants are a type of organism', 'carpet has roughness and friction', 'carpet is not a natural habitat', 'carpet would stop the sound of a guitar', 'cars and factories increase air pollution', 'cars are made of metal', 'cars can run off ethanol', 'cars make pollution', 'cars make the air less clean and healthy', 'cars run on gas', 'cars use motors to move', 'cashews are edible', 'cast iron stove use timber to produce fire', 'castles that are made by children at the beach are made of sand', 'catabolic reactions are a part of cellular respiration', 'catching prey is for nutrients too', 'catching up with prey matches fast speeds', 'catfish are an aquatic animal', 'cats are predators of rats and carnivorous omnivores', 'cats can eat too much perch', 'cats play with laser beams', 'cats will get used to their new homes', \"cats, dogs, and snakes don't need to eat any vegetables\", 'cattle prods require electrical energy', 'caverns are dark', 'caves are dark', 'cease is a stop, or a decrease', 'ceased existence is death', 'celestial bodies are stars', 'celestial bodies include space rocks', \"celestial objects are where in the earth's atmosphere\", 'cell phones are metal', 'cellos carry sound', 'cells are batteries', 'cells are greater than the sum of their parts', 'cells require support to keep them together', 'cells work together in large numbers', 'cellular respiration takes place in life forms', 'ceramic is reusable', 'cereal is made from corn', 'cereal is made of corn', 'certain aspects do not change even though state does', 'chameleons blend to avoid detection', 'chameleons can adapt skin color to environment', 'chameleons disguise themselves', 'change a car tire is a learned ability', 'changing appearance, or blending in with natural environment counts', 'changing to liquid is a change in state of matter', 'charcoal is used as cooking material', \"chargers don't have light bulbs\", 'charring happens after the burn', 'charting likelihood is done on Punnett squares', 'cheese is dairy', 'cheese is made of milk', 'cheese is often in blocks that are shredded, grated, or shaved', 'chemical change occurs when molecular bonds are broken', 'chemical changes can produce smoke', 'chemical substances found in every living thing are nutrients', 'chemicals are removed including vitamin d', 'chemicals on food help keep bacteria low', 'cherries are the only berries with seeds on the inside', 'chest contains the lungs', 'chewing breaks down food', 'chia seeds are seeds', 'chickadees are birds', 'chickadees are birds that build nests', 'chicken contains protein', 'chicken is high in protein', 'chickenpox is a type of illness', 'chickens eat worms', 'chickens have two legs', 'chickens have wings', 'children inherit characteristics of parents', 'chilling is cooling', 'chilly is cold', 'chilly nights and warm days can cause dew in mornings', 'chimneys are on the roof', \"chimps are mankind's closest relative\", 'chipmunks must store nuts', 'chlorophyll is found in chloroplasts', 'chlorophyll is green', 'chlorophyll is healthy to consume', 'chlorophyll is inside of leaves', 'chlorophyll is responsible for photosynthesis and undergo natural development is to grow', 'chloroplast contain chlorophyll which does the photosynthesis', 'chloroplasts are green organelles', 'chloroplasts are specialized compartments in plant cells', 'chloroplasts contain chlorophyll for photosynthesis', 'chrysalis are part of the metamorphosis process', 'chrysanthemum is a green plant - the others are not', 'chub is fat', 'chunks are filtered out of water', 'churros are sweetened with sugar', 'cigarettes can start a fire if not put out', 'circles are tree growth rings', 'circling up there is is flying in the sky', 'circuits need a plug to work', 'circulating air is moving', 'circulating is flowing', 'circulatory system is a series of passages', 'citrus juice contains acid', 'clams are in shells', 'clams live in oceans', 'claws are appendages from feet', 'clear mountain lakes reflect light', 'clearing brush is a first step in repurposing a natural environment for human use', 'clicks are high pitch sounds that can travel thousands of miles', 'climate can generally be relied upon', 'climate change is connected to the presence of carbon dioxide', 'climbing is an instinctive behavior', 'climbing is another way of saying rising', 'closing blinds blocks out sunlight, which contains UV rays', 'cloth pads are reusable', 'clothes need dryness to dry', 'cloud precipitation is rain', 'clouds are likely to precipitate', 'clouds are made of water', 'clouds are water vapor', 'clouds contain moisture', 'clouds hide the sun', 'clouds obscure the sun', 'clouds often turn from white to gray before it rains', 'clovers are plants, which are producers', 'clucks are vocal noises', 'clumps of gases are stars in the night sky', 'coal absorbs solar energy because it is black', 'coal and limestone are organic remains', 'coal and oil are raw materials', 'coal ash results from burning coal and is very harmful to breathe', 'coal is a fossil fuel', 'coal is a major source of energy generatino', 'coal is extracted by mining', 'coal will eventually run out', 'coal will one day run out', 'cobalt is a metal', 'coconut oil goes from solid to liquid in heat', 'cocoons are created after the caterpillar stage', 'cocoons are hard shells', 'coffee and cream mix well', 'coffee and creamer mix well', 'coffee can be hot', 'coffee is a hot substance', 'coke is substance made of carbon dioxide, a substance and sugar, a substance dissolved in water', 'cola added to things can change them chemically', 'cola is very acidic', \"cold blooded animals can't regulate their body temps without external heat\", 'cold things are harder', 'cold water can chill a hot dish', 'colder climates are closer to the poles', 'coldness is temperature related', 'collecting and accumulating are the same', 'color can be described', 'color is passed down to offspring in reproduction', 'combustion is the same as burning', 'commodity is a resource', 'commonality means have in common', 'compass is a disc with an arrow', 'compass needles aim towards magnetic poles', 'compasses are used by pirates', 'compasses are used by seamen', 'compasses direct users north', 'compasses face north', 'compasses use magnets', 'completed circuits have electrical flow in lights', 'completing a circuit occurs on your phone', 'concrete can break', 'concrete is smoother than gravel and chafing is from friction', 'condensation happens most often as air cools', 'condensation is a phase change', 'condensation is a stage in the water cycle process when a moist film is on my spectacles', 'condensation often happens on glass surfaces', 'condensed liquid can form on a cold beverage', 'condensing precipitation is condensation', 'conducting is directing', 'conduction is when electricity is directly transmitted through a substance', 'conductors conduct', 'confetti can be made by tearing a sheet of paper', 'conserving resources is necessary as resources become scarce', 'constellations are formations of stars', 'constellations are star formations', 'construction activity can harm some animal species', 'construction nails are made of metal', 'contact is touch', 'continuous availability is renewable', 'controlling blood temps is a part of being cold-blooded', 'converging is touching', 'cookie dough is a food that gets cooked', 'cooking food reduces bacteria in it', 'cooking involves heating nutrients to higher temperatures', 'cooking is a chore', 'cooking kills bacteria', 'cool temps are in single digits', 'copious means many', 'copper and zinc are the two metal in this alloy', 'copper conducts electricity', 'copper is a conductor', 'copper is an electrical conductor', 'copper is an electrical conductor for wiring', 'copper is on the priodic table', 'coral is the most diverse of all marine ecosystems', 'cording is wiring', 'corn and peanuts are crops', 'corn and wheat are Americas biggest crops', 'corn can fuel buses', 'corn is a plant', 'corn is a plant material', 'corn is now available in Africa', 'corn slurry is starchy, and is used to make ethanol', 'cotton is a poor conductor', 'cougars eat other animals, like voles', 'counter cookers are often stoves', 'cows also eat plants', 'cows are an animal harmed by incineration', 'cows are animals that use receptors on their tongue to taste', 'coyotes are predators', 'coyotes are predators which prey upon roadrunners, a an animal that moves quickly to escape them', 'cranes are levers', 'craters are caused by explosions/impacts on the moon', 'craters are generally from asteroid impacts', 'craters are very large', 'crawling is not a sensation', 'cream and coffee are liquid substances', 'creasing is folding', 'creatures are animals', 'creeping buttercup contains nectar', 'critters are organisms', 'crocodiles are a major predator', 'crop rotation is changing which crops are planted from season to season', 'crops are destroyed by flooding', 'crops are grown on farms', 'crops need pesticides', 'crops would thrive more on grasslands', 'crows are living things', 'cruising is moving', 'crumbs are bits of food', 'crushing is crumpling', 'crying is a negative impact from harm, such as pain from being struck', 'crystal sucrose is table sugar', 'cupcakes are cooked', 'cupcakes may be cooked', 'curtains can be measured in inches and its components', 'cuts are acquired.', 'cutting down a forest destroys forest animals habitat', 'cutting down trees produces deforestation', 'cycles do not emit pollutants', 'cyclical means having a cycle, such as water has a cycle', 'cylinders with lenses make distant objects appear closer', 'daffodils are flowers with leaves', 'daffodils are plants', 'daffodils are plants, which are producers', 'dahlias are living things', 'dalmatians have hair that can be shed', 'damage is easier to cause to thinner objects', 'damming a river created a reservoir', 'damp gutters hold algae', 'dampness comes from water, which plants require to grow and live', 'dampness is water', 'dams are made of concrete', 'dams are manmade means of sourcing hydropower', 'dams stop or slow moving water', 'dandelions are food that deer can and will eat', 'dandelions are plants', 'dandelions are weeds which need to be pulled', 'dangerous bugs are a type of bacteria', 'dark spiders reflect less light', 'darkness is a product of less sunlight', 'darkness would provide no sunlight', 'dart frogs are poisonous', 'darts are pricks', 'dashing is running quickly', 'day is characterized by bird chirping', 'daylight ending sooner than normal happens on the winter solstice', 'daylight is solar light', 'daylight is sunlight and comes from the sun', 'daylight lessens as weather cools in fall', 'daylight provides luminescence in summer for a long time', 'dead creatures become natural gasses over time', 'dead is opposite from birthed', 'dead leaves make a crunching sound.', 'dead things no longer grow', 'dead-lifting is a type of exercise', 'death is an irreversible state', 'death is decay', 'death is leaving mortality', 'debris is waste', 'debris should be removed as a safety measure', 'decaying matter formes', 'deceased is dead', 'decomposed organisms provide nutrition to plants', 'decomposers can directly absorb nutrients through chemical and biological processes without any ingestion', 'decomposition is dying and rotting', 'decomposition is pulling things apart', 'deconstructed means breaking down', 'deconstructing nutrients is digesting food', 'decrease in water quality leads to a decrease in aquatic life', \"decreased visability means you may hit a car because you didn't see it\", 'decreasing the numbers of a species decreases biodiversity', 'deduction is a decrease', 'deer are animals and decomposing bodies give off bad odors', 'deer are herbivores', 'deer are not producers', 'deer are one type of life on Earth', 'deer can transport seed', 'deer eat corn', 'deer sleep in grass for warmth', 'deerless means lacking deer, sometimes due to population declines', 'defecating is eliminating waste', 'deflection means to refract', 'deforestation affects inhabitants of the forest', 'deforestation is cutting down trees', 'defunct is not existing', 'delarships reduce food for animals', 'deliquesce means melt', 'delivery people transport things', 'dense and thick are the same', 'departing the world is dying', 'depriving an unwanted pest of its food source would cause it to go elsewhere', 'desert, plains, and forest are ecosystems', 'desertification happens when trees are felled without replacement', 'deserts are arid sandy places', 'deserts are dry', 'deserts are hard to take more water from', 'deserts are hot', 'deserts are sandy zones', 'deserts have sparse water and the chuckwalla is a lizard', 'deserts lack moisture', 'deserts lack water and have many insects', 'deserts, jungles, and oceans are three of the many kinds of ecosystems in the world', 'designating is the core principal of classification', 'desktops are computers', 'destruction of natural habitat such as rock lead to movement', 'destructive processes break down items', 'detached things are broken down from a whole', 'developing is growing', 'developing roots are growing', 'devices for locating directions are compasses', 'devouring means to eat', 'dew makes grass slippery', 'dewdrops are often seen on plants in the morning', 'diamond can cut glass', 'diamond is very hard', 'diamonds scratch other minerals', 'different areas have different climates', 'different birds eat different food, so beaks need to be different', 'different birds eat different foods', 'different crops means rotation', 'different species have different body parts', 'difficulty seeing in bad weather means low visibility', 'digesting produces nutrients', 'digestion dissolves food', 'digestion pulls minerals from food', 'digestive system is in the stomach, above the knees', 'digital thermometer use thermistors to measure temperature', 'dino remains make gasoline', 'dinosaur remains are part of oil', 'dinosaurs are ancient beings who are now fossilized', 'directing a rudder is navigating a boat', 'dirt comes from rocks', 'dirt for gardens need nutrients', 'dirt is a sediment', 'dirt is another name for loose soil', 'dirt is soil', 'dirt is soil, which is healthier when crops are rotated', 'dirt refreshed is soil renewed', 'dirtying agents are pollutants', 'dirtying is polluting', 'disadvantageously means negatively', 'discarded diapers would smell bad', 'discarding garbage does environmental damage', 'discomfort is a hurt', 'diseases that were once death sentences and epidemic are controlled by vaccinations', 'dish towels can be washed and used again', 'dishwashers heat dishes', 'disintegrate is part of decay', 'dispersing a seed means moving it away', 'dispersing seeds requires them to be moved to another location', 'distance between things makes them harder to see', 'distance causes reduced mirror image size', 'distance is measured in length', 'division of labor is essential', 'doe are female rabbits, or hare', 'dog paws would be body temperature', 'dogs and earthworms are different organisms', 'dogs are animals', 'dogs are organisms', 'dogs can eat rodents', 'dogs have eyes', 'dogs hunt victim animals for food, and will compete if needed', \"dogs look like they're smiling when they pant\", 'dogs pant', 'dogs use smell to hunt', 'dogwoods and oaks are trees', 'doing laundry is a chore', 'dolphins are a life form that is part of some ecosystems', 'dolphins are an organism which use sonar to find resources', 'dolphins use echolocation and some swim in rivers', 'donkeys are warm-blooded', 'dormant plants will not bloom', 'dorsal is the back or top of an animal', 'drafts are a kind of wind', 'dragsters have combustion engines', 'drawings are not fossils', 'dribbling is dripping', 'drinking sparingly can conserve water', 'driving east to west will have the sun in your eyes in the evening', 'drizzle is a type of rain', 'droplets are moisture, or water', 'droplets repeating is rain', 'dropping a glass will break it', 'dropping a rock can strike someone', 'drought is a period of less than usual precipitation', 'droughts can dry out small ponds and other water sources', 'dry bushes can catch fire', 'drying your hands removes wetness', 'ducks swim underwater to find prey', 'duku is a yellow fruit with seeds', 'dumpyards are landfills', 'dunes are found in the desert', 'durability effects production required', 'durians is a fruit', \"during a prolonged shortage of water, a tree's ability to add extra tissue and grow thicks rings is slowed\", 'during earthquakes entire buildings will shake along with the ground', 'during metamorphosis, moths change shape', 'dwindling implies running out of', 'dying down is to decrease greatly', 'dying is possible at the beach', 'dying out is to go extinct', 'dynamite going off is an explosion', 'each country has its own area', 'each season has a different climate', 'eagles have claws', 'ear plugs prevent sound from reaching the ear', 'ears are a body part', 'earth has a layer of stone', 'earth has more gravity than the moon', 'earth is our home planet', 'earth is the 3rd rock from the sun', 'earth is the blue planet', 'earth is the third planet from the sun', 'earth rotates on an axis,so star appearance shifts', 'earth take 365 days to revolve around sun once', 'earth tremors are a type of natural disaster', \"earth's axis determines where a hot summer is\", 'earthquakes are strong', 'earthquakes can cause destruction', 'earthquakes can only occur where there is ground', 'earthquakes cause buildings to collapse', 'earthquakes last less than one minute on average', 'earthquakes make the ground quiver, or shake', 'earthquakes, tsunamis, and tornadoes cause changes much more quickly', 'earthworms are legless', 'easier flight is better', 'eaten food is turned into a liquid by the stomach', 'echoes are caused by sound waves bouncing off surfaces', 'echolocating does not use ears or nose to detect', 'echolocation can be done under water', 'echos happen in auditoriums', 'eclipses should only be viewed through a pinhole casting', 'edible items can be eaten', 'edible plants are safe', 'eels are prey, so sharks eat them', 'eggs and cake batter are different substances', 'eggs are incubated so they will hatch', 'eggs are laid because the young are in shells', 'eggs are made of calcium', 'eggs are white ovals', 'eggs deliver offspring', 'eggs have tough shells', 'eight month old tuna is spoiled', 'ejected means removed', \"electric cars don't need gas\", 'electric fans use power outlets', 'electric power can be harnessed from moving air', 'electric reactions send pain notifications', 'electric torch is a flashlight', 'electrical current will traverse through wires', 'electrical energy can create sound', 'electrical energy consists of positive ions', 'electrical insulators are made of ceramic', 'electrical sockets provide electricity', 'electricity goes through a power cable', 'electricity is an alternate fuel source', 'electricity is conducted through metal', 'electricity is made in power plants', 'electricity is prioritized over gasoline in electric cars', 'electricity is the charge from an electron', 'electricity needs metal', 'electromagnetism is a non-contact force', 'electromagnets are used at car junkyards', 'electron flow is another way to describe electrical current', 'elephants are animals, carbon dioxide is a greenhouse gas', 'elephants are very large, so a magnifying glass would be useless', 'elephants have larger eyes than ants', 'elks are hunted', 'elms are a tree that could be found in a forest', 'elongated means long', 'eluding foe is escaping a predator', 'eluding is avoiding', 'embankment is a slope', 'embers are hot remains of a fire', 'embers are the hot coals from a fire', 'emery boards file nails', 'empty pumpkins have no seeds', 'empty space is air', 'enduring means lasting', 'energy comes from a source of nutriment', 'energy escalating is increasing', 'energy holes are where batteries are places', 'energy is a reaction', 'energy moves life forward and onward', 'energy through metal is electric', 'energy type is changed when converted', 'enhacing is another word for increasing', 'enrichment is food', 'entire appearance is shape', 'entity replication is reproduction', 'environmental damage is pollution', 'environments are ecosystems', 'environs are a surrounding area', 'epidermis is a layer of skin', 'equal strength leads to equal force', 'equidistant is parallel', 'erasers are rubber insulators', 'eroded rivers calibrate, or adjust to new area', 'erosion can be described as displacing the land surface of the planet', 'erosion can cause loss of portions of a thing', 'erosion can happen when elements destroy a thing', 'erosion caused by rain', 'erosion is caused by movement not roots', 'erosion is the act of wearing away', 'erosions can make beachside property unsafe after a few decades', 'erossion is a form of soil loss', 'eruption happen under the sea', 'eruptions from volcanoes are emissions', 'escalate means go up', 'ethanol is a bio fuel made from corn.', 'ethanol is a type of biofuel', 'ethanol is used to make alcohol', 'evading is avoiding', 'evaluation is not a state of water life cycle', 'evaporated gas vapor spread out into the air which contacts a source of ignition can ignite and  explode', 'evaporation is a part of heat and warmth', 'evaporation is a phase change', 'evaporation is gas transformation', 'evaporation is the lessening of a water amount', 'evaporation is the state of a gas vaporized from a surface liquid under increased pressure and higher temperatures', 'evaporation is water leaving a place', 'evaporation is when liquid turns to gas', 'evaporation occurs with hot cocoa', 'even drinking water a thing can starve', 'every hour is repeatedly', 'evolution to survive better in an environment is a form of acquired characteristics', 'excess stored food leads to obesity', 'exerting is a force', 'exertion is force', 'expanded proportions are grown', 'expanding of frozen ice in a bottle will burst the bottle', 'expanding water cracks roads', 'expanse is size related', 'expansion also occurs', 'expire means die', 'expire means to die', 'expired creatures are the food of decomposers', 'expired is dead', 'expiring is to die', 'explosions can happen in cars', 'exponentially means to move faster and faster', 'exposure to sunlight is instrumental in optimal growth of indoor plants', 'extended portions of plants are leaves', 'extra rainfall would increase how much water a plant receives', 'extreme likelihood is a high chance', 'eye damage occurs when looking at eclipse', 'eye dangers include splashing acid', 'eyeless, or blind beings may observe texture through contact such as touch', 'eyes have rods', 'eyes use light to see', 'eyesight is needed to see colors', 'facade is a disguise', 'failing health is due to lack of nutrients', 'fake diamonds are made of glass', 'falcons have sharp beaks', 'fall and spring are seasons', 'fall starts in late September north of the equator or late March south of the equator', 'fallen trees are dead', 'falling from a tree begins with the leafs release', 'falling is when something meets the ground', 'farming a yard, such as with a garden, changes that environment', 'farming increases the amount of food', 'farrow are baby pigs', 'fat and weight is gained through eating more', \"father's pass down inherited characteristics since they are parents\", 'fatness is weight', 'fault lines are planar fractures', 'fauna are organisms', 'fear of dogs is learned', 'feathers are a way to avoid being cold for birds', 'feathers warm penguins', 'feature is another word for trait', 'feeling is a sense, through touch', 'feeling toasty is feeling warm', 'feet are used to pedal a bike', 'felines are animals', 'felled trees are nonliving things', 'fennec foxes have several adaptations to live in a desert environment', 'ferrets are able to grab and move things', 'ferrous metals are magnetic thanks to the iron in them', 'fertilizer supplies nutrients to plants', 'fertilizers for certain crops could poison other crops or soil types', 'fewer pollinators means a plant has fewer offspring', 'fewer trees is a decrease in trees', 'fewer trees would increase carbon dioxide in the air, lowering air quality', 'fiberglass is made of resin and glass mat', 'fiddleheads, ramps, and dulse are vegetables', 'field fluid is cropland water', 'fields contain grass', 'fields provide sustenance', 'filament glows from heat', 'finding new homes is moving', 'finding the distance is measuring', 'fire is a burning combustion', 'fire is a chemical reaction', 'fire light is a good signal', 'fire-bellied toads are amphibians', 'first quarter is the next moon phase after a new moon', 'fish are prey', 'fish become inedible when water is polluted', 'fish do not give live birth', 'fish lay eggs when adults', 'fish live in lakes created by blocking rivers', 'fish that live in dark spaces adjust and become blind, even having no eyes', 'fishinghood is not a life cycle process...or word', 'fit means healthy', 'flamingos are animals', 'flamingos have webbed feet', 'flashlights charge by being plugged into outlets', 'flashlights make light', 'flashlights need power sources', 'flashlights use chemical energy devices', 'flat leaves help photosynthesis', 'flavors include tropical twist', 'flicking a lighter starts a fire', 'flippers are appendages that push liquid well', 'floar are plants', 'flocks relocate when they migrate', 'flood plains get water encroached', 'flooding expands the water over land', 'floods can block roads', 'flora are flowers', 'flora are plants', 'flora contains new plants', 'flora is plants', 'flounder are aquatic animals', 'flourishing happens when conditions are ideal', 'flourishing is thriving', 'flowers are found in vases', 'flowers are plants, and windy air is wind', 'flowers are reproductive structures', 'flowers grow from pips, or seeds', 'flowers need fragrance to attract pollinators', 'flowers poke through snow when winter ends and spring begins', 'flowers that attract more hummingbirds distribute more pollen', 'flowing is moving steadily', 'flowing liquid is not frozen', 'fluctuating means varying', 'flying creatures who pollinate are bees', 'flying south is also known as migrating', 'flytraps eat bugs', 'fog causes lowered visibility', 'foggy conditions are bad weather', 'foggy days are very moist', 'foil can be torn', 'foil can simulate earthquakes', 'foil is made from aluminium', 'foliage is anothe word for vegetation', 'food can include twinkies', 'food ensures survival', 'food is cooked in an oven', 'food is needed to grow', 'food is nutrients', 'food needs to be digested to be passed out properly', 'food passed its prime has spoiled', 'food provides nutrients', 'food that has turned is spoiled', 'foods give the birds nutrients', 'foot levers are used to pedal bicycles', 'force has to be applied to an object', 'force is what the pushing to cause movement is called', 'foreign plants need a different environment', 'forest brush is dry wood', 'forest camouflage is popularly used by humans to hunt forest creatures', 'forests becoming water sources is a change', 'forests can be removed by loggers', 'forests can have dry brush', 'formation is the same as shape', 'formations are shapes', 'formerly-living organisms are nonliving things', 'fornicating is a portion of reproduction', 'forward momentum is part of motion', 'fossil fuels are used in motorcycles', 'fossil fuels may run out', 'fossilized matter creates coal', 'fossils are from a long time ago', 'fossils are skeletons in stone', 'fossils are things that are solidified in stone', 'fossils can be found buried deep', \"fossils don't have recently dead organic material like branches or flesh\", 'fossils form from peat or mud after a long period of time and are rock', 'fossils often get buried deep underground over time', 'foxes are predators that eat prey such as rodents', 'foxes will die if their food source disappears', 'fracking is the process of extracting shale', 'freckles are a genetic characteristic that is passed through DNA', 'freezing and thawing changes physical form', 'freezing is when solids are cooled from liquid to solid', 'freezing occurs at extreme negative temperatures.', 'freezing rain causes ice wedging', 'freezing temperatures freeze lakes', 'freezing winds are cold', 'fresh air is a result of photosynthesis', 'fresh made poptart is warm and will get less warm if touching something cold', 'friction is the resistance that one surface or object encounters', 'friction on the road slows a vehicle down', 'friction produces warmth', 'friction works against motion', 'fridge decorations are magnets', 'fridges are cold', 'frog babies in sacs are in eggs', 'frogs are amphibians', 'frogs are amphibious', 'frogs breathe on land as adults', 'frogs can adapt to lakes or ponds', 'frozen milk will be solid', 'frozen rainfall falling is snow', 'frozen water has a whitest color to it like snow', 'frozen water is water that is freezing', 'fruit has seeds', 'fuel efficiency is determined by a cars miles per gallon', 'funerals are held for dead people', 'fungi are decomposers', 'fungi growing on tree trunks decomposes it', 'fur is a major colored part on mammals', 'fur provides warmth to mammals and feathers provide warmth to birds', 'gales are composed of wind', 'gales are wind', 'gales are winds', 'gales are winds, on which sound carries', 'gales carry wind', 'gales of wind are a force', 'gar are a type of fish', 'garbage cans hold waste', 'garbage trucks go to landfills to dump trash', 'gas can be helium', 'gas containers are usually cylindrical', 'gas fills areas', 'gas is an element held in to the earth', 'gas is used to inflate balls', 'gas is what is blown into beach balls by mouth', 'gas on a fire has an exothermic reaction', 'gas stations, which sell gasoline, make less money when its use decreases', 'gasoline is a fossil fuel', 'gasoline is destroyed during combustion', 'gasoline is from crude oil', 'gasoline is made from oil', 'gasoline is made largely of hydrocarbon chains containing eight carbon atoms', 'gasoline is refined from crude', 'gasoline is used for cars', 'gasoline makes cars move', 'gasoline used decreases as travel costs less', 'gasoline will not charge an electric vehicle', 'gastro tract is the digestem system as a whole', 'gathered is collected', 'gathered steam condenses into water droplets', 'gathering is condensing', 'gazebos are outside', 'geckos are lizards', 'geese in autumn migrate, so they will be in flight', 'geese migrate', 'geese migrate for winter', 'gems and bottles can also refract light', 'gems are fractured', 'gems are prisms', 'genes can regulate foot size', 'genes house the DNA which holds the inherited characteristic', 'genes regulate head size', 'genetic components of flowers are seeds', 'genetics are considered before responsible reproduction', 'genetics are inherited', 'genetics pass on inherited characteristics', 'gestating precedes birth', 'getting better mileage means using less gas', 'gila monsters are living reptiles', 'gila monsters are lizards', 'gills allow animals survive in water', 'gills are slits in the neck of a fish', 'gills are specialized breathing parts', 'giraffes are living things', \"giraffes don't go through metamorphosis\", 'giraffes have ears', 'girth is general width and size of flower', 'glacial melt has cause significant erosion', 'glacier are giant rivers of ice', 'glaciers are also called icebergs', 'glaciers are frozen water', 'glaciers are giant bricks of ice', 'glaciers are huge chunks of ice', 'glaciers are made of frozen water which halts the Earth absorbing it by reflecting it', 'glaciers are pillars of ice', 'glaciers compact rocks as it moves over them', 'glaciers force contact between rocks', 'glaciers make depressions that water can pool in', 'glaciers melting cause water level rising', 'glaciers moving tear up land', 'glaciers were giant walls of frozen water', 'glass buildings are greenhouses', 'glass can vibrate', 'glass is made from silica (sand)', 'glass is made from smelted silica', 'glass is melted sand', 'gloom is darkness', 'gloves provide a barrier', 'glucose is a type of sugar', 'glucose is another name for sugar', 'going downhill with wooden planks attached to boots requires a large amount of snow', 'going from ice to a puddle is a change from solid to liquid', 'going green means to avoid waste', 'gold conducts electricity', 'gone is nonrenewable', 'good bacteria maintain a health colon', 'good surf requires high tides', 'gophers live in tunnels', 'gouges are deep scratches', 'grabbing a wasp will cause it to defend itself', 'grabbing is a way to touch', 'graduated items contain unit markings', 'grain contains necessary nutrients', 'grains are food for some animals', 'grains are one of the most common categories of food', 'granite is a type of rock', 'grapefruit are berries because the seeds are on the inside', 'grapes have cells', 'graphite is a mineral', 'graphite is a stable carbon', 'grass and plants get wet with dew', 'grass provides more surface area thus more friction', 'grass snakes are animals', 'grass will dry out from lack of water in an environment', 'grasshoppers are food for creatures', 'grasshoppers are green', 'gravel has more friction than glass, ice and marble', 'gravity causes more movement of the matter', 'gravity is an unseen force', 'gravity moves things to the lowest level', 'gray clouds precipitate', 'grazing mean to slide against one another', 'grease is closely related to oil', 'green chlorophyll is needed for sun energy production', 'greenery is plants, which pull CO2 from the air', 'greenhouse effect does not cause green skies', 'greenhouses are hot and moist', 'greenhouses are made of glass', 'greenhouses create artificial environment from harsh situations', 'greenhouses protect from insects', 'greenhouses protect plants and flowers from the elements', 'greens harbor bacteria if unwashed', 'greeting cards are made from paper and trees grow in the forest', 'grenadine and soda is a combination of substances', 'grey is a different color than white', 'grinding gears cause friction', 'grizzlies are bears, which hibernate', 'grizzly bears are predators', 'grooming is learned behavior through observation', 'ground crawlers are organisms', 'ground is land', 'ground is the outdoor floor', 'ground material is rock, or stone', 'ground minerals are contained in soil', 'growing plants need carbon dioxide, which people breathe out', 'growing water levels occur when water amounts increase', 'growth in cracks is expansion', 'growth is maturing and developing', 'growth rings appear as round markings', 'guacamole dip requires that the avocado, a plant, reproduces', 'guavas are plants', 'guitar picks have weight', 'gulls are a bird', 'guppy are fish', 'gusts are wind', 'guzzling is drinking', 'gyms are visited to exercise in', 'h20 is water', 'h20 is water which is rain which falls on umbrellas which are cloth suspended on rods.', 'h2o is water', 'habitat is home', 'hack berries are the seed of a hack berry tree', 'hail is a type of precipitation', 'hair appearance is inherited', 'hair can be colored', 'hairspray is a pollutant', 'half a year twice is a full year', 'hamburgers and hot dogs are food', 'hamburgers and steaks are foods prone to containing bacteria and viruses', 'hammers drive in nails', 'hand size is an inherited characteristic', 'hard h2o is ice', 'hard objects found in fruit are seeds', 'hard shells are seeds', 'hard stones are rocks', 'hares are mammals', 'hares are rabbits', 'hares can carry seed long distances', 'harmful substances include bacteria', 'harsh precipitation is a part of environmental changes', 'harvested turnips are dead', 'hatching eggs is producing young', 'having 1 left of a species means they are on the verge of extinction', 'having croaked is to have died', 'having offspring produces a family', 'having sex is part of reproduction', 'hawks are predators', 'hawks lay eggs', 'head shape is inherited', 'healthier food is safe', 'heaped refuse is what is in landfills', 'heart racing is pulse increasing', 'heart rate is directly tied to pulse', 'heat and cold are part of breaking up stones in mechanical weathering', 'heat and pressure also form diamonds from carbon within that rock', 'heat application is a temperature change', 'heat can also be created by movement', 'heat can cook food', 'heat causes evaporation', 'heat creates warmth', 'heat energy raises the temperature', 'heat has raised temps', 'heat is energy', 'heat is given off when walking', 'heat is hotness', 'heat is required for the rock formation', 'heat is retained through insulation', 'heat is used to cook food', 'heat lamps provide light for plants', 'heat makes a room warmer', 'heat melts a candle', 'heat melts chocolate', 'heat melts ice to liquid', 'heat prepares burritos', 'heat starts the chemical reaction of separating the curds and whey', 'heat travels through channels', 'heating sugar long enough causes a reaction where it crystallizes.', 'heating up water will cause a reaction', 'heavenly bodies include stars', 'heaviness is weight', 'heavy birds should try losing weight to improve flying ability', 'heavy exertion uses force', 'heavy rains block roads', 'heavy sleepers get more rest than light sleepers', 'height is measured in inches', 'height is one aspect of the shape of a body', 'heightened speeds means increased', 'helically ridged pins are screws or bolts', 'helium is in balloons', 'hemispheres moving towards the sun experience summer', \"herbivores don't eat meat\", 'herbivores eat vegetation', 'herbivores make snacks out of plants', 'hermit crabs use gills to breathe', 'hibernating frogs slumber for years', 'hibernating is a long slummber', 'hibernation retains energy', 'hibiscus is a flower containing nectar', 'hiding in bushes avoids predators', 'high surface area temperatures, arid conditions, land overuse and over-population can cause drought', 'high tide and low tide can be measured in the morning and evening', 'high wind speeds means heavy atmospheric movement which is useful if you generate energy from the wind via a turbine', 'higher elevation areas are more likely to have snow outside of winter', 'higher location effected less', 'higher temps are heat', 'his plan was to make lights work', 'hitching a ride equates to being transported', 'hitting a golf club into the dirt causes soil loss', 'hitting requires contact', 'homes are houses', 'honey is sweet stuff sold in grocery stores', 'honey makers are bees', 'honking is a sound', 'hooking up a charger to an outlet can complete a circuit', 'horizontal orientation indicates falling', 'horses eat vegetation', 'horses need circulation', 'hoses provide water', 'hot metal sears', 'hot plates are electrical', 'hot plates are heated', 'hot plates are portable stoves', 'hot plates are used in chemistry class', 'hot water for showers comes from a water heater in most homes', 'hot water is needed for washing', 'hot water over ice will turn the ice back into liquid form', 'hotness energy is heat', 'hotness is a kind of heat', 'hotness is heat', 'hotness is increased temperature', 'hotter weather attracts scorpions', 'hours are segments of time', 'house flies are insects', 'houses are made of brick', 'houses have rooms', 'housing developments are located closer to cities than farmland', 'hue is part of coloration', 'hues are colors', 'human astronauts have visited the moon', 'human contact is communication', 'human planet is earth', 'humanity is people', 'humans are natural omnivores', 'humans are primates', 'humans breathe into the air', 'humans breathe out carbon dioxide', 'humans build apartments all the time', 'humans building a mall would change the environment', 'humans buy crops to eat', 'humans can walk thanks to energy from sugar', 'humans cook their food', 'humans destroy habitat to grow corn', 'humans do not hatch from eggs', 'humans drink soda from aluminium containers', 'humans eat food', 'humans have ability', 'humans have thumbs', 'humans learn to swear', 'humans make garbage', 'humans provide mechanical energy to simple machines', 'humans reach adulthood upon maturity', 'humans take away animals homes', 'humans use showers', \"humidity 'feels' hotter\", 'humidity has water vapor', 'humidity is found when heat and moisture are together', 'humidity is the amount of water vapor in the air', 'humidity is the presence of moisture in the air', 'hummingbirds are birds', 'hummingbirds are birds whose food source is nectar', 'hummingbirds are pollinators', 'hummingbirds are pollinators for trees and flowers', 'hummingbirds have sharp beaks', 'hummingbirds like nectar', 'hunted out is endangered in an area', 'hunting is not allowed in many protected areas', 'hunting limits protect the animal populations', 'hunting requires stalking', 'hurricanes are natural disasters', 'hurricanes are winds', 'hurricanes facilitate the water cycle', 'hurricanes have categories', 'hurricanes typically starts in South Africa and head toward the Gulf of Mexico', 'hush puppies are food', 'hybrid card get more mpg', 'hydrangea is a plant', 'hydrangea is a plant, with leaves that have transpiration', 'hydro mechanical wearing means cutting with water', 'hydro-erosion is a form of weathering', 'hydrocarbon gas mixture is natural gas', 'hydrogen chloride is a chemical', 'hypothermia is a medical condition that arises from loss of body heat', 'ice and steam are the same thing - forms of water', 'ice and steam are water at different temperatures', 'ice can deposit fluid, since ice is frozen water', 'ice causes cars to skid', 'ice cream melts when its temperature goes up', 'ice freezes at 32 degrees fahrenheit', 'ice hockey requires a smooth surface of ice without craters, as well as Earth gravity and oxygen', 'ice is a solid', 'ice is frozen water', 'ice is hardened dampness, or frozen liquid (water)', 'ice is much smoother than concrete', 'ice is solidified water', 'ice is the solid phase of water', \"ice is water's solid form\", 'ice occupies more space than water in liquid form', 'ice particles are snow', 'ice ruins roads', 'ice takes longer to melt if salt is applied', 'ice wedging causes cracks in rocks to get bigger', 'ice wedging damages roads', 'icy roads cause poor traction', 'identical charges are magnetic', 'if a filament hurts to touch, it is hot', 'if a species of plant or animal ceases to exist on earth, the loss cannot be undone', 'if all the animals die it is called extinct', 'if an estimated age is know it can be subtracted from the current year to learn the estimate date of planting', \"if an species doesn't migrate, it never will\", 'if closer means larger then the inverse is also true, further means smaller', 'if friction increases, heat increases', 'if in cold forest areas, they fly south for winter', 'if it rains, an area with no water will have water', \"if it's not night, the brightest thing in the sky will be the sun\", 'if people have forgotten about the product, it will sell less than before', 'if smoothness causes fall adding carpet which are anot as smooth will add traction', \"if something is insulated for electricity, it's covered in a non metal material\", 'if the river is hit with an extremely large amount of precipitation in a day it will flood', 'if you are not willing to listen than you can not follow directions', 'if you set fire to the natural gas it will burn', 'igniting will burn something', 'iguanas cannot survive in arctic areas that have snow', 'illness impacts only living oragnisms', 'illness of any kind hurts health', 'illuminating is what light bulbs do when they are turned on', 'illumination is light', 'impacted soil would be tight together', 'impetus is the force that moves the boulder', 'in polluted water, fish are not safe to eat', 'in the film, trash was stuffed into a car for fuel', 'in winter the days are short and in the opposite hemisphere the days are long', 'incinerating something is burning it completely', 'ingesting is another word for consuming', 'inhabited buildings gathered up produce light pollution', 'inherited behavior comes from ancestors', 'inherited behavior is passed on by genes', 'inherited characteristics are predetermined', 'inherited characteristics come from parents(creators)', \"inherited characteristics don't change\", 'injury is harm', 'ink changes water color', 'ink is dark fluid', 'inky water is at ocean depths', 'insects are also known as bugs', 'insects are garbage eating decomposers', 'insects have six legs', 'insects live in all types of land environments', 'insects live in felled oaks', 'insects run from lizards to avoid being eaten', 'inside objects are particles', 'instead of electricity to heat homes, we are moving to wind', 'instinctive behavior has a fixed action pattern', 'instinctive behaviors are usually essential', 'instinctive behaviors are usually essential survival actions', 'instinctive behaviors are usually not learned', 'instinctive is genetic', 'internal organs are fortified by skeletal structures', 'internal tubes are phloem', 'introduce new water sources increases available water', \"invasive plants often overpopulate where they don't have natural predators\", 'iphones use close circuits', 'ipods are electric devices', 'ipods are products', 'iris dust is pollen', 'irises are flowers', 'iron and steel are nonrenewable resources', 'iron can be magnetized', 'iron contains a large amount of magnetic materials, as do steel fridges', 'iron is Fe', 'iron is found in the crust', 'iron is magnetic', 'irresistible attraction is magnetic', 'is take around 365 days for the earth to circle the sun', 'island are new lands', 'islands form as lone masses of land', 'it gets more humid near water', 'it is an academic guess too', 'it is dirty underground', 'it is freezing in winter, where night comes very quickly due to lack of daylight', 'it is harder to see outside at night', 'it is hotter in the desert', 'it is more comfortable outside in warm weather than cold', 'it takes millennia for canyons to form', 'it takes pollutants from the air', \"it's axis is what cause the tilt or wobble\", \"it's getting warmer whan the seasons are changing from winter to spring\", \"it's harder to pick up a heavier weight than a lighter weight\", \"it's hot in the summertime in the sun\", \"it's important for a cactus to keep a cache of water, living in dry areas\", 'items cause disturbance upon contact', 'ivory is white', 'jack rabbits live in hot areas', 'jade has waxy leaves', 'jasper is a variation of quartz and a windshield is made of glass', 'jello can be used to refract light', 'jello melts in warm temps', 'jello mix goes from liquid to solid when refrigerated', \"jellyfish don't have eyes, or a brain or heart\", 'jerky is meat', 'jicama has nutrients', 'jogging is moving', 'jungles are forested ecosystems', 'jungles are green and forested', 'keeping hydration is storing water', 'keeping natural is conservation', 'keeping warm is important in frigid temperatures', 'kelp is a plant', 'kernels are related to seeds', 'kernels are seeds', 'kestrel and dragonfly migration patterns are tied together', 'keys are metal and conduct electricity', 'kickball requires using force on an object by kicking', 'kicking a balloon will increase its speed', 'kicking uses a foot', 'kidneys filter bacteria', 'kilns get hot enough to burn skin', 'kittens are mammals', 'kittens are not hatched', 'kittens do not lay eggs', 'knives are magnetic.', 'knowing temperature would indicate how to dress for the day', 'koalas are mammals that give birth', 'kool aid involves sugar within a water base', 'kool-aid is a liquid', 'labels are a visual form of communication', 'lack of heat means cold environment', 'lack of sweating could cause overheating of the body', 'lactic acid curling milk to create yogurt is a chemical change', 'lakes are bodies of fresh water', 'lakes rely on rainfall', 'lamps produce warmth', 'land is also known as soil', 'land is underwater during a flood', 'landfills are refuse facility', 'landfills are trash heaps', 'landfills contain heaps of trash', 'landfills may have loose pieces of trash flying around which is negative', 'landfills will be smaller the more recycling that is done', 'landslide have great effects on live ecosystms', 'landslide occur high up', 'landslides occur due to bad weather', 'larger litters increase population', 'larger minerals are stones and rocks', 'laser anemometers are a kind of anemometer', 'lasers can get you in trouble if pointed at planes', 'laundry soap is a cleaning agent and not a pollutant', 'laundry uses dryers which produce heat', 'lava builds up underwater', 'lava can be a side effect', 'lava from volcanic eruptions ruin the land around them', 'lava has a high temperature and objects are destroyed when they combust', 'lava is often cooled when it reaches ocean water', 'lava is very hot', 'lava melts cars', 'lava moves above ground', \"layers are the different levels of an object's makeup\", 'layers on top of each other form mountains', 'laying a clutch is laying eggs for a bug', 'lead is the only part of a pencil with minerals', 'leaf colored is green', 'leaky pipes waste water', 'learned behavior is not instinctual behavior', 'learning is not always comfortable', 'learning to jump higher is adapting', 'leather is a renewable resource commodity', 'leaves are an example of prehistoric living things', 'leaves are bigger as their size increases', 'leaves are dead things that fall from trees in the fall', 'leaves are the greenest part of a plant', 'leaves can be moved by flowing water pushing them along', 'leaves contain chloroplasts', 'leaves need to be raked up in yards', 'leaves soak up light', 'leaving a mark is scratching', 'leaving a mark means one is softer then the other', 'leaving litter in forests is illegal because it harms nature', 'leaving refuse on the beach contributes to ocean pollution', 'lemon is a citrus', 'lemon is a citrus, which is acidic', 'lemon juice is a chemical', 'lemonade is mostly water', 'lemonade is water and lemons', 'lemonade mixes sugar and water', 'lemons are acidic', 'lemons are citrus fruit', 'lengthened glass tubes can be telescopes', 'less pollution leads to more breathable air', 'less roughness has less friction', 'less solar light is less sunlight', 'less water means water has been evaporated', 'lessen is decrease', 'life blends in a community', 'life matter is organic', 'lifeforms are living things', 'light brings about illumination', 'light bulbs use electricity', 'light can be seen and used to see the matter around us', 'light can be sunlight', 'light can be waves or particles', 'light can travel over distances when bouncing off reflective surfaces', 'light concentration creates light pollution', 'light ends sooner as fall approaches', 'light energy comes from chemical energy in batteries being pushed through wires', 'light energy comes from solar rays', 'light energy involves all light', 'light energy usually is from the sun', 'light from stars is an alternative fuel', 'light from the sun is a renewable resource', 'light has no mass', 'light helps to spot objects under a dark couch', 'light is needed to see an object', 'light is very fast', 'light may be reflected into a dark room using mirrors, which will brighten the previously dark room', 'light pollution is when there is more man-made light in an area', 'light shines off of reflective surfaces', 'light switches control current flow', 'light takes a few minutes to reach earth from the sun', 'light through a gem produces rainbows', 'light through diamonds can produce rainbows', 'lightbulbs use circuits', 'lightening happens in storms', 'lightening is electric', 'lighthouses have lights on them', 'lightning from a storm can start a wildfire', 'lightning is a form of electricity', 'lightning is a sudden electrostatic discharge from a cloud', 'lightning is electricity', 'lights are duller as light source gets further away', 'lights brighten areas', 'lilac is a light color', 'lilies are flowers, which are plants', 'limb number is inherited from birth', 'lime is a citrus which can cause chemical changes', 'limestone is a hard sedimentary rock used as building material and in the making of cement', 'limestone is formed from sediment', 'limestone is sedimentary rock which is  composed mainly of skeletal fragments of marine organisms such as coral, forams and molluscs', 'limestone, sandstone and granite are rocks', 'limiting hunting protects the animal popiulation', 'limits on hunting make it not the best place to shoot animals', 'line graphs can show fish populations over time', 'line graphs have ups and downs', 'lines in a tree bore will equal the number of rings in a tree', 'lions and hyenas both target herbivores on the savannah', 'lions are a large predator', 'lions are consumers', 'lions eat antelopes', 'lions need heat', 'liquefied soil is sediment', 'liquid amounts are greatest in oceans', 'liquid can drip', 'liquid cannot spread endlessly', 'liquid is wet', 'liquid matter can be measured in any shape container since its shape is variable', 'liquid petroleum is oil', 'liquidity is a liquid state', 'liquids assume the shape of their containers', 'liquor is made using condesation', 'live birth have nothing but skin on outside', 'live young need nursing', 'living term is life cycle', 'living things are vibrant', 'living things breathe', 'living things have cells, which have membranes, and many living things can cry', 'living things need air to survive', 'lizards are reptiles', 'lizards eat beetles', 'llamas are organisms', 'loam is a type of soil', 'loam is another name for soil', 'loam is soil', 'local flora is an areas plants', 'local flora is the environment', 'local forecasts are weather', 'locale is an environment', 'locales are environments', \"log cabins are often built in forests where it's easy to cut logs\", 'logging causes loss of resources', 'logging causes prey population loss', 'logging changes the environment', 'logging companies chop down trees', 'logs are felled trees', 'logs are wood', 'logs are wood, which is a raw material', 'logs come from trees, which are renewable', 'long ears are an adaptation to living in high heat environments', 'longer hours of daylight means greater amounts of daylight', 'looking at something is also called seeing it', 'looking in a tree is how you can tell age', 'loose dirt is good for tree growth', 'losing numbers is slowing going extinct', 'losing space is to lose a habitat in some cases', 'losing status as whole means it is in parts', 'lots of sunlight can cause sunburns', 'low body temperatures is dangerous for life forms like cats', 'lower areas are the ground', 'lower pressure occurs near the ocean', 'luna is the moon', 'luna is the moon, which is a satellite', 'lunch breaks are often at noon', 'lunch is a meal, which provides energy', 'lung damage causes a more intense cough', 'lungs are our breathing organ', 'lungs are the primary element of the respiratory system', 'lungs in chest, part of the circulatory system', 'lynxes are animals', 'machinery give off heat when they work', 'maggots are decomposers', 'maglights are flashlights that emit a focused beam of light', 'maglites are flashlights', 'magma is an orange substance', 'magma is far below the ground away from humans', 'magma is liquid rock', 'magma is under the ground', 'magna is rock from deep down', 'magnetic attraction is a force', 'magnetic objects attach to metals', 'magnetic poles on earth helps direct humans also', 'magnetic rocks are attracted to magnets', 'magnetism can act without contact', 'magnetism can happen without human action', 'magnets are decorative fridge items', 'magnification makes an object appear larger', 'magnification only increases the perception of an object', 'magnifying glasses are magnifiers', 'magnifying glasses increase your ability to see', 'mahogany is wood', 'mailmen deliver in sleet', 'maize is another word for corn', 'make a pit stop means go to the flower', 'maladies are illnesses', 'malleable is soft', 'malls are built over habitats', 'malls change habitats', 'mammals breath with lungs', 'mammals have two sexes, male and female', 'mammals need warmth and have kidneys', 'man causes changes in environments', 'man is human', 'mandarins are fruits', 'manganese is a mineral plants use', 'many autistic people are particularly sensitive to strong smells', 'many factories pollute', 'many migrating animals are birds', 'many plants flower', 'many trees lose their leaves in the winter', 'many vehicles emitting pollution into the air may occur when EMT transports panting patient', \"maps show Earth's surface and sometimes have to change if things have shifted\", 'marble is a mineral', 'marbles act as prisms splitting the light as it enters them', 'marking time requires noting, measuring', 'marlins are aquatic animals', 'mars is far', 'marsupials are animals', 'masonry uses bricks', 'masses in space are planets', 'masticating is chewing, in order to eat', 'match to a wick is lighting a candle', 'matching the outdoor temp will increase an environment temp if outdoors is warmer', 'matching your background is camouflage', 'material is a type', 'matter and mass are the same thing', \"matter that's written on is paper from wood\", 'matter vibrating causes waves to flow through the air that we can hear', 'matured is adulthood', 'maturity is when reproduction may take place successfully', 'maximum pull happens when moon, sun and earth are lined up', 'mayflies are a kind of bug', 'meadows are grasslands', 'meal is prey', 'meal worms are insects', 'meandering air currents are jet streams', 'measurement concerning time is the amount of time between two specific points in time', 'measurement is through observations', 'measuring is done with a pedometer', 'measuring tells you how much of something there is', 'meat devourers are predators', 'meat does not have seeds', 'meat is not a plant', 'mechanical weathering breaks down stones', 'melting a body has to be done at a temperature higher than regular temperatures', 'melting dissipates ice', 'melting glaciers is caused be heat', 'melting ice is a phase change from temp', 'melting polar ice caps increases the amount of water in the oceans', 'melting polar ice caps raises the level of the sea', 'menacing skies hold dark clouds', 'menstrual cups are reused and pads and tampons are thrown away after a single use', 'merchants are suppliers', 'mercury can be removed from water', 'mercury is found in thermometers', 'merging with background is a way to camouflage', 'metal is a conductor', 'metal pipes on a wall is a radiator', 'metal tags are shiny', 'metals are in cars', 'metals include the components of a cell phone', 'metals like copper are good thermal conductors', 'metals, especially iron, conduct electricity', 'metamorphosis changes shape', 'metamorphosis is a stage conversion', 'metamorphosis is a transition', 'metamorphosis is an adjustment to a new body shape', 'metamorphosis is when an animals appearance completely changes', 'meters are a way to measure distance on a road', 'mice and rats are similar', 'mice are prey items for most mammals', 'mice have round ears', 'microscopes are aids to enhance vision', 'microscopes are commonly found in labs', 'might is great strength', 'migrating animals typically avoid snow', 'migrating for fluid means to look elsewhere for water', 'migrating is relocating to another place', 'migration is studied', 'milk and honey mix together completely', 'milk can be absorbed', 'milk comes in yellow cartons', 'milk from nursing is sustenance', 'milk is pasteurized', 'millimeters can be used to describe a distance', 'millions of years is a long time', 'minerals are lifeless matter', 'minerals are worn away by water movement', 'mines are explosive', 'mink are prey for wolves, which are predators', 'minuscule means small', 'minut defects can only be seen from close up', 'mirrors are made with metal', 'mirrors have reflections', 'mirrors reflect an image', \"mittens keep hands warm when it's winter\", 'mixing and heating edible items is cooking', 'moistness is similar to moisture', 'moisture beads on glass', 'moisture being pulled in the air is evaporation', 'moisture causes humidity', 'moisture deprived logs are dry wood', 'moisture is water', 'moles dig tunnels underground, tunnels protect the creatures that use them', 'moles live underground', 'momentum is a form of forward motion', 'monarchs are pollinators', 'monkies are organisms', 'monsoons provide water to cactuses', \"moon's gravity pulling on the earths' seawater is the tidal cycle\", 'mopeds get higher MPG than most vehicles', 'mopping the floor is a chore', 'more chainsaws allow more people to cut down more trees', 'more food extends life', 'more friction happens when tires squeal', 'more friction is rough on tires', 'more gasoline use causes more CO2 emissions', 'more harvesting means more crops have been planted', 'more hot levels makes more evaporation', 'more intense light is brighter', 'more intense means the lights would appear brighter', 'more laying chickens leads to more eggs', 'more leaves can photosynthesize better', 'more people pushing gives more force', 'more predators lead to less prey', 'more sizable is larger', 'more weight means more fat', 'most mammals have four legs', 'most tadpoles primarily eat algae', 'mother birds provide warmth through sitting on eggs in nests', 'mother is a parent, daughter is an offspring', 'mother-daughter is a parent-offspring relationship', 'motion happens when something is touched with push', 'motorbikes run on fuel from natural gas', 'motorcycles increase CO2', 'motorcycles use gas', 'motors are consist of vibrating matter', 'mountain peaks are at higher elevations and people shiver when the temperature is lower', 'mountain ranges can be called ranges', 'mountainous means containing mountains', 'mountains are a source of coal where mines are dug', 'mountains are at high altitudes', 'mountains are colder than the surrounding environments', 'mountains are raised', 'mountains are sloped', 'mountains are towering hills', 'mountaintops are elevated areas', 'mountins are old', 'move overcast days mean less sunny days', 'moved is transported', 'movement pattern is axis', 'moving charges include electrons', 'moving closer is decreasing distance', 'moving electrons is electricity', 'moving is in the form of running', 'moving regularly is exercise', 'moving things around can be described as shuffled', 'moving water is weathering', 'moving winds can cause good things to happen also', 'mulberry trees provide food for birds like Jays', 'multiplied hues can be a rainbow', 'munching is eating', 'muscle power is a force', 'muscle power relates to force', 'muscles are brawn', 'muscles are made of meat', 'muscular atrophy can waste away muscles', 'mushrooms are decomposers', 'mushy is a kind of soft', 'nails are for hammering', 'nails are used to fasten shingles to roofs', 'nascar envolves cars', 'national parks often aim to preserve native wildlife', 'national symbols are flags', 'native flowers can attract pollinators without being invasive', 'natural elements like wind weather materials down', 'natural gas and other nonrenewable resources are mined out of the ground', 'natural gas is a non renewable resource', 'natural gas is a source of power', 'nature is another name for the earth', 'nature places are environments', 'nature starts to grow everywhere in spring', 'natures floor is the ground', 'navigating is giving directions', 'neap and ebb are types of tides', 'necessity is something required', 'nectar is a product of flowers', 'nectar is liquid from plant flowers', 'nectar is tantalizing liquid for bees', 'neighborhoods have grass', 'nemo is a fish', 'neodymium is a rare-Earth metal magnet', 'nerves alert the body to pain', 'nerves alert the brain to sensations', 'nerves parts are microscopic within cells', 'nests are bed for young', 'nests are made of assorted materials', 'new habitable land in a sea is an island', 'newspapers are made of paper', 'nickel conducts electricity', 'nickel is made of metal', 'night time is dark', 'nightcrawlers are worms, which are decomposers', 'no clouds means no rain most of the time', 'no filter can cause more damage, though possibly not significantly more', 'no particle motion results in no power', 'no sun means no life on earth', 'no training is involved in instinctive behavior', 'non rough is smooth', 'nonliving things are lacking life', 'nonrenewable resources are depleted for good', 'nonrenewable resources cannot be replenished', 'north dakota to texas is a north to south movement', 'north is always in the same direction from the same place', 'northern hemisphere seasons are opposite from southern hemisphere', 'northern most state is alaska', 'nose shape is an inherited feature', 'nose shape is determined by genetics.', 'nosedive is decreasing', 'not all plants live in desert', 'notebooks are typically made of paper', 'noticing is done by looking', 'noting is seeing', 'nourishment is nutrients', 'nuclear reactions occur as atoms are split or fused', 'nuclear reactions produce heat also', 'number of fangs is a trait passed from a parent to its offspring', 'number of hatching turtles increases as more eggs are laid', 'nursing is an instinct', 'nursing is offering nutrition', 'nursing needs to take place or the offspring will die', 'nutrients are components needs to sustain life', 'nutrients are edible', 'nutrients are essential substances', 'nutrients are food', 'nutrients are life sustaining substances', 'nutrients are the foundation of food', 'nutrients in soil can collect in vegetation, a part of the food chain', 'nutrients possess nutritional values', 'nutrients sustain the life of organisms', 'nutriment is a phrase for food', 'nutriment is another name for food', 'nutriment is another word for food', 'nutriment is food', 'nutriment is nutrients', 'nutriment provides energy', 'nutrition is the food', 'oak pips are tree seeds', 'oak trees are such a tree', 'oaks are a resource that is natural', 'oaks are large trees', 'oaks grow', 'oats are a plant  and fiber aids in digestion', 'objects make light', 'objects that are substantial are heavy', 'obliterate is a synonym for destroy', 'observations come from viewing things', 'obtaining sustenance means the same thing as capturing food', 'ocean life in the water would be the first to be hit by the oil', 'ocean liquid is water', 'ocean water is a saline liquid', 'ocean waves are part of nature', 'oceanic placements on in ocean of platforms', 'oceans are salty', 'oceans are water', 'oceans can evaporate', 'oceans contain salt water', 'oceans cool the hot lava to make land', 'oceans have great surface areas', 'oceans reflect light from the sun', 'oceans reflect only blue light', 'oceans water is salty', 'octopus are cephalopods', 'octopus can avoid predators by hiding', 'octopus ink is a dark pigment', 'offspring are prodigy', 'offspring are the results of egg laying', 'oil based products are decreasing', 'oil cannot be restored in short time like soil', 'oil fields are the source of oil', 'oil is a fossil fuel', 'oil is an example of a fossil fuel', 'oil is composed of dead dinosaurs', 'oil is the remains on ancient animals', 'old glory is the American flag', 'old taco meat is waste', 'older style light bulbs are called incandescent', 'oldness is age', 'omnivores also eat meat', 'once a month is every four weeks', 'one after the 8th is the 9th', 'one can ride a bike instead of driving a car', 'one day contains 1440 minutes', 'one of the women needs to produce sperm for the child to be their biological child, which is impossible', 'one ring each year means one year old', 'one seventh of a week is one day', 'only females can create the egg', 'only mammals are born live', 'only mammals have hair', 'only mice are considered prey for an eagle out of the animals listed', 'only one sun is in the sunset', 'only planting one crop is not ideal for healthy soil', 'only some plants and organisms, like roses, can engage in photosynthesis', 'only some species of lizards live in the desert', 'only sunlight is renewable', 'only the pyramid has an angle', 'opposing is to go against, which slows', 'opposites attracting is magnetism', 'orange is a citrus fruit', 'orbit of the sun makes the seasons', \"orbiting changes the earth's position compared to the sun\", 'orca have large fins', 'oregano is a plant', 'organ processed gas is air', 'organic matter in soil contributes to its fertility', 'organic things come from nature', 'organism decay happens alongside rot', 'organism meals make up food chain', 'organisms are all living things', 'organisms are living beings', 'organs will stop working if not protected by bones', 'ospreys eat perch', 'ospreys live in forests', 'ospreys live in the zoo', 'other planets have some water', 'other ways to travel exist', 'ounces are a measure of volume', 'our bodies are warmed by heat from the sun', 'our celestial star is the sun', 'our globe is the earth that circles the sun', 'our globe, the earth, fully rotates in a day', 'our local star is the sun', 'our only satellite is the moon', 'our only star provides solar energy', 'our planet is Earth and a tilted axis is a slanted axis', 'our planet is earth', 'our planet is the only source of nature', 'our visual organ is the eye', 'our world is the earth', 'our world, a globe, turns and seasons are a result', 'outlets are plastic', 'outlets provide electricity', 'ovens require electricity to work', 'over-cultivation depletes soil nutrients', 'overhead signs on freeways are made out of reflective sheeting', 'overhunting has a negative impact and is a loss of resources', 'overindulging in food is eating more food', 'overweight animals have fat stored', 'ovum are egg cells', 'owls are nocturnal', 'owls are nocturnal predators', 'owls can live in trees', 'oxygen and hydrogen form water', 'oxygen is a breathable gas', 'oxygen is air', 'oxygen is converted in the respiratory bronchioles to hemoglobin proteins in the blood cells', 'oxygen is not a pathogen', 'packing sediment tightly forms sedimentary rocks', 'pained is harmed', 'paint applied to things is an artificial color', 'paint is a liquid pigment', 'paint works by reflecting limited wavelengths of light.', 'painting nature scenes outside requires daylight', \"palm trees don't grow in extreme cold and freezing temperatures\", 'palm trees have really large leaves', 'paper can be teared', 'paper is made from tree pulp', 'paper is made with trees', 'paper is relocated when water pushes it along', 'parallel to north is north', 'parched means dry and hot', 'parent flora is the originating plant', 'parental preferences can be passed down to children through exposure', 'parents are genetic contributors', 'parents can teach kids to cook', 'parents dna determine your body parts', 'parka squirrels are mammals who find an arctic environment to be pleasant', 'parking far away requires extra walking and walking is a kind of exercise', 'pasteurization involves heating something to a certain temperature', 'pasteurization is done on milk', 'pasteurization uses high heat and bacteria are illness causing agents', 'pastries are baked in an oven', 'pastureland is fields', 'pathogens are disease causing agents', 'peacocks have colorful plumes', 'pear seed will turn into a tree', 'peat is good for plants', 'pebbles are rocks', 'pebbles are small stones, which may contain iron', 'pecans are a type of nut', 'pedaling a bike is cycling', 'peeking is looking', \"pelt is an animal's coat or fur\", 'pencils are made from wood', 'pencils are office supplies', 'pencils are used to draw', 'penguins have flippers', 'penguins live in cold, not in forests', 'people also shiver', 'people are in bed at night', 'people can skate on a pond after it freezes', 'people contact is communication', 'people drive cars', 'people get crushed by falling buildings in earthquakes', 'people get medicine from a pharmacy', 'people learn to talk', 'people leaving behind trash pollutes beach environments', 'people move towards radiators when they desire warmth', 'people use umbrellas in the rain', 'people wear masks because of pollution', \"people wear shorts when it's warm and noon is the middle of the day\", 'peppers left in the sun absorb sunlight', 'performing tricks is a learned behavior', 'person is the force', 'perspiration is a form of sweating', 'perspiration is a way to naturally cool down', 'perspiration is another word for sweating', 'perspiration is sweating', 'pesticide kills bugs', 'pesticides are bad for water safety', 'pesticides are insect destroyers', 'pesticides on plant can be a problem without directly eating them', 'petro is another name for gasoline', 'petrol is made from fossil fuels', 'petroleum is gasoline', 'peyote is a cactus plant', 'phase of the moon is based on alignment with the sun and earth', 'phone chargers need electricity', 'phones may be measured with a ruler', 'phones use aluminum', 'photo film needs a dark environment to be processed', 'photosynthesis is self sustaining', 'photosynthesis provides the plant with energy', 'photosynthesis requires light', 'photosynthesis takes place in chloroplast', 'photosynthesis uses light to create nourishment', 'physical features are passed on through genetics', 'physical state is health', 'piano keys are ebony and ivory', 'pictures are images', 'pigs find their own food since they are consumers', 'pine trees are replanted as they are harvested making them reusable', 'pinnacle is the highest point of a mountain', 'piranha are aquatic animals', 'pit bulls are dogs that shed a lot', 'pits are seeds for plants', 'pizza is a food that birds will eat', 'pizza is food', 'pizza is toasted in a metal box through conduction of heat', 'planets are objects', 'planets rotate on their axis', 'plankton is the food it produces', 'plant food contains nutrients', 'plant offspring come from reproduction', 'plant take in light energy during daytime', 'planters are where plants grow', 'planting one plant one year and a different one the next is known as crop rotation.', 'plantlife includes plants', 'plants absorb sunlight energy', 'plants also store water', 'plants are flora', 'plants are flowers, which are producers', 'plants are green', 'plants are green life', 'plants are living things', 'plants are organisms with roots', 'plants are producers', 'plants are producers, which bud', 'plants are smaller than trees, so get less light', 'plants are verdant', 'plants die in the winter', 'plants die when its cold', \"plants don't move\", 'plants expel oxygen', 'plants give off oxygen', 'plants grow out of the ground', 'plants have life cycles', 'plants make their own food', 'plants need soil for nutrients', 'plants need sunlight for photosynthesis', 'plants output oxygen into the environment', 'plants photosynthesize', 'plants release oxygen into the air', 'plants respire to use energy', 'plants use carbon dioxide during photosynthesis', 'plants use chlorophyll to make energy from sunlight', 'plastic comes from oil deposits', 'plastic melts when left on a heated surface like a hotplate', 'plastics going in special containers is recycling', 'plate armor is made of iron a ferrous metal', 'plateaus are flat high areas', 'plateaus are raised above sea level', \"plates gliding over our planet's mantle are tectonic\", 'platypus are mammals', 'platypus are warm-blooded yet have tails, mouths and lay eggs, like fish', 'play doh can absorb other colors', 'playing fetch is a learned behavior', 'plethora means many', 'plugging a television in completes a circuit', 'plugging things in provides them with electricity', 'plummet is decrease', 'pluto is farthest away of the planets', 'pluto is not considered a planet', 'pluto was the 7th planet', 'polar bears are an organism adapted to a cold environment', 'polar bears are white', 'polar bears have fur', 'polecats are animals who shed', 'polished metal is shiny', 'pollen is a powdery substance found in the reproductive parts of plants', 'pollinating animals are small creatures', 'pollination is essential to the survival of certain types of plants', 'pollination occurs via badgers hunting', 'pollinators help a flower reproduce', 'pollution can be physically on the ground also', \"pollution damages the earth's atmosphere\", 'pollution gasses raise temperature', 'pollution is bad for the earth', 'pollution makes it hard to breathe', 'pollution often comes from human activities such as mills', 'pollution results in an increase in greenhouse gasses, which can result in a rise in temperatures', 'polypropylene is Styrofoam as in cups', 'ponds are bodies of water', 'ponds can be depleted enough to were the animals involved just die off', 'ponds contain water, a natural resource', 'pong needs electricity', 'pools are filled with water and candy is made sugar', 'poop is a means of seed transport and dispersal', 'popsicles are made of matter', 'populace is population', 'populations of organisms grow in ideal conditions', 'porpoises have large fins', 'porpoises move through water the best', 'portions of a minute are seconds', 'pots and pans clank and vibrate', 'power plants create electricity', 'precipitation can be rain', 'precipitation causes water amount to increase', 'precipitation is falling liquids', 'precipitation is rain', 'precipitation is rainfall', 'precipitation is water', 'precipitation may be snow', 'precipitation privides water', 'predators and food are part of the environment', 'predators are confused when stalking prey that suddenly appears to be another predator', 'predators are hunters', 'predators eat other animals', 'predators eat prey for meals', 'predators hunt by chasing', 'predators kill', 'predators kill to feast', 'predators of octopuses include sharks', 'predators use creatures for nourishment', 'preferences include flavors', 'presciption medicine in water sources can taint the water', 'preservatives keep foods edible for longer', 'preserving means saving', 'pressure can also cause diamonds', 'pressure depends on weight', 'pressure facilitates compacting', 'pressure is high before a hurricane', 'pressure on a moving object creates friction', 'pressure to get something before someone else does is competition', 'prey are fearful of predators', 'prey is the food in the web', 'primary producers being plants make their own food with the help of soil', 'procepitation is not a word', 'procreating and reproducing are the same', 'produce comes from crops', 'produce is more readily available when transporting it is easier', 'producer organisms are the first level of the food chain', 'producers are plants, which can acclimate, or adapt', 'producers rely on themselves', 'progeny is an offspring', 'prohibited means can not', 'prolonged sunlight exposure results in a tanning or darkening of the skin', 'propelling forward is motion', 'properties include favorite animals', 'proportionality can be direct or inverse', 'protected areas are usually fenced in for protection', 'protected areas limit human access', 'protein heals the body', 'protozoa are single-cell organisms', 'provisions are food', 'proximity enables accurate vision', 'pterodactyls are fossils', 'puddles are water, dangerous to stand in while working on electricity', 'pulleys are in cranes', 'pulling a weed means removing from the ground', 'pulling them means they are removed from the soil', 'pulling your finger over a guitar string is called strumming', 'pulp is made of saw dust form grinding up trees', 'pulse is just an indication of your heart rate', 'pulse rate is the pulse', 'pumping iron is excercising', 'pumpkin pie spice is a mix of spices', 'pumpkin seeds are edible', 'pumpkins are often seen on Halloween', 'pupils absorb light to see', 'pupils dilate in dark places to allow more light to fall on the retina, resulting in surroundings appearing brighter', 'pupils need to be open for light to enter', \"puppies instinctively know to seek milk from their mother's nipples\", 'pursuing is a component of hunting food', 'pushing back is to repel', 'pushing water out of its body means more power to swim', 'pushing water out of its body results in displacement behind a squid', 'pustules contain white blood cells that fought off the P. acnes infection, a pathogen', 'putting plastic in special containers is recycling', 'putting seeds in dirt is planting', 'putting up pictures is a chore', 'quaking and vibrating are the same', 'quartz can be any shape', 'quartz is a crystal that regulates electronic oscillators in watches', 'quartz is harder then glass', 'queso and guacamole are substances', 'quickness is a measure of speed', 'quivering is shaking', 'rabbits are consumers', 'rabbits are hoppers', 'rabbits are rodents', 'rabbits are small burrowing mammals', 'rabbits eat greenery', 'rabbits hide via underground nests', 'raccoons are animals', 'raccoons are scavengers', 'raccoons have striped tails', 'radiation has its effect on human skin', 'radiation is made by certain bombs', 'radiator fluid cools the engine', 'radios turn electrical energy into sound', 'radishes are plants', 'rafts allow movement after heavy rains', 'raging infernos are fires', 'rain can help and hurt organisms', 'rain can sprinkle', 'rain comes after warm, foggy, humid condensation', 'rain comes from clouds', \"rain fills up dam's\", 'rain gauges catch the rain that falls', 'rain is essential for farming', 'rain is mainly h2o', 'rain is moist, as it is a liquid', 'rain is precipitation', 'rain is something you can drink', 'rain makes you wet', 'rain sprinkles down', 'rain, hail and other things from clouds is precipitation', 'rainbows are produced through multi-faceted sides', 'raindrops act as a pism', 'raindrops are another name for rainfall', 'rainfall is the amount of moisture gathered', 'rainfall is water falling from the sky', 'rainfall makes native creatures wet', 'rainwater in the ground dissolves limestone to form caves', 'raised portions of land are plateaus', 'raising is being pushed up', 'raising is the same as increases', 'raising warmth levels is increasing temperature', 'raking over is scraping over', 'rapids are a part of rivers', 'rare-earth minerals are magnetic', 'rattlesnakes are reptiles', 'ravaged stone is weathered or eroded', 'ravens lay eggs', 'reaction requires combining them', 'reaped is to gain', 'reaping something is getting it', 'recharging an iphone requires using a source of energy', 'recreating is to mimic', 'recurrence will repeat', 'recycling avoids waste', 'recycling can heal the environment', 'recycling is good for the environment', 'recycling is reusing materials', 'recycling means making something usable in some way again', 'recycling plastics is done by putting them in recycling containers', 'red hornets stingers are on their rears', 'redirect is another name for bounces', 'redirecting is dispersing', 'reek is a smell', 'refilling a box puts it to more use', 'reflecting is bouncing', 'reflection lets you see yourself in an object', 'refraction alters appearance', 'refrigerators need electricity to function', 'refrigerators, nails, and washing machines are made of iron', 'refusing food is a lack of eaten food', 'relocate is moving', 'relocated objects are moved, sometimes by push', 'relocating happens when animals move away', 'relocating is how animals may leave environments', 'relocating is to disperse', 'relocating seeds is dispersing them', 'remora and sharks are symbiotic', 'remora are scavengers', 'remora fish are symbiotic with sharks', 'remoras are ray-finned fish', 'renewable is endlessly available', 'renewable is to be retrieved repeatedly', 'renewable resources can be obtained without fear of using them up', 'renewable resources may be used endlessly', 'replacing a park with a city destroys an ecosystem', 'reprocessing is recycling', 'reproduction is positive', 'reproductive behavior can include returning to a certain place', 'reptiles are cold blooded and will die in colder temperatures', 'reptiles cant live in cold climates', 'resources being lessened cause migration', 'respiration is breathing air', 'respiration is completed by cells', 'respiration is what living things do', 'resting also give a positive impact on the human body', 'retailers sell product', 'reusing a resource is a way of recycling that resource', 'reusing gift bags reduces the amount of waste created', 'reusing items like grocery sacks reduces the amount of items that need to be recycled in the first place', 'reusing plastic is better than throwing it away', 'reusing things is a form of recycling', 'reusing things that would normally go to a landfill is positive for the environment', 'reusing waste lessen discarding the waste', 'rhinoceros can die', 'ribs are part of the skeletal system', 'ribs showing is underweight', 'ripping and tearing are the same', 'ripping is akin to tearing', 'ripples are formed by vibrations', 'rise is an increase in activity', 'river fluid is water', 'river stones are smoothed by weathering', 'rivers are flowing liquid', 'rivers are made of water', 'rivers dry up sometimes', 'rivers flood when too much rain happens', 'rivers have rushing water', 'rivers often meet at an estuary', 'rivers often tumble rocks', 'roads can be weathered down and degraded', 'robins are birds', 'robins are birds and grasshoppers are insects', \"robins don't have webbed feet\", 'robots are not living things', 'robots require computer commands', 'rock folding causes mountains in general', 'rock folding is caused by plate shifting', 'rock is stony', 'rock tumblers contain stones that constantly collide to remove any rough edges', 'rocket boosts produce a great deal of force', 'rocks are crystalline solids', 'rocks are found in mines', 'rocks are hit against other rocks to make fires, which will break them down by mechanical means', 'rocks are stones', 'rocks are tools used by otters', 'rocks can be the opposite type, smooth from water', 'rocks contact each other in rivers', 'rocks have metal in them', 'rocks in a landslide can kill hikers', 'rocks in a landslide crush anyone under it', 'rocks piling up creates mountains', 'rodents are a source of food for predators', 'roe are fish eggs', 'rolling out is spreading or increasing', 'roofing nails are made of iron', 'room heaters increase room temperature', 'root hair cells are underground so photosynthesis does not occur', 'roots are found on bamboo', 'roots are housed in soil', 'roots are in soil area', 'roots provide resilience in the wind', 'roses are flowers', 'roses are plants', 'roses have a stem', 'roses reproduce using pollen', 'rotating feet on pedals is pedaling a bike', 'rotating is orbiting', 'rotating is turning', 'rotation of planet causes setting of sun', 'rotations are necessary for bodies to be planets', 'rotting happens after something dies', 'rough to spot is difficult to see', 'roughage is grass, hay and silage', 'rubber bands can produce musical sounds', 'rubber insulates from electrical heat', 'rubbing of mechanical parts induces friction and gives off heat', 'rubbing your palms together causes friction', 'ruination is destruction', 'ruining the composition can alter the identity', 'running a full dishwasher saves water, a natural resource', 'running faster requires more energy', 'running quicker requires more energy', 'running requires energy', 'running times are effectively measured by stopwatches', 'runoff makes people sick', 'rustling air is air motion', 'safeguarding is protecting', 'safety glasses prevent harm to the eyes from chemicals like bleach', 'safety goggles are a form of personal protection equipment', 'safety goggles are desired when in dangerous situations', 'said organism is that animal', 'salamanders lay eggs', 'salamanders look like lizards', 'salmon are fish', 'salmon is an aquatic animal', 'salt dissolves in water', 'salt is not corn', 'salt is sodium', 'salt water is able to be filtered to drink', 'salt water is sourced from the ocean', 'saltwater is the ocean', 'salvage means save/rescue for reuse', 'sand is composed of silica', 'sand is not an element used in photosynthesis', 'sand is small rock particles', 'sand is weathered pieces of stone', 'sand paper is rougher than plain paper', 'sand, roxys and pearl are not found in rocks', 'sandbars requires sediment deposits', 'sandpaper is known for rough texture', 'sands is tiny grains of rock', 'sandy land is a dry encironment', 'sapling seeds are tree seeds', 'sardines are fish', 'satanic leaf-tailed geckos are an organism which looks like leaves', 'saving plastic bottles in conserving', 'sawdust is processed wood', 'scales measure weight', 'scales would indicate if someone was overweight', 'scars are evidence of harm to living things', 'scars are results of an incident', 'scars can be given from burns', 'scatterer is disperser', 'science fair volcanoes use baking soda and vinegar reactions', 'scientists are experimenting to develop microbes that can live off surplus electricity and CO2', 'scientists are experts in a field of study', 'scientists invent things', 'scorch is burning', 'scorching is another word for hot', 'scorching is burning', 'scorching logs are on fire', 'scorching power is heat energy', 'scorching temperatures are heat', 'scottish folds are cats, and cats enjoy human company', 'scrap yards use powerful electromagnets', 'scratches leave lines', 'scratching is done by using pressure in order to leave marks', 'screeching is a sound emitted', 'screws attach things together', 'scrubbing a toilet is a chore', 'sea anemones are cnidarias', \"sea anemones don't contain chloroplasts\", 'sea cows need a lot of water to be comfortable', 'sea floor is bottom of the sea', 'sea hares live in water', 'sea horses are living creatures on Earth which require energy', 'sea park dolphins receive a lot of training to perform in shows', 'sea turtles lay many eggs', 'sea weed comes from the ocean', 'seals are semiaquatic mammals', 'seals learn to clap on command for treats', 'seamen need compasses', 'seared is burned with heat', 'searing is a type of cooking', 'searing is hot, a source of heat', 'seas are a body of water', 'seas are oceans', 'seasons are caused by the sun', 'seasons change as the earth rotates the sun', 'seaweed is an aquatic plant', 'sediment is rock', 'sedimentary formations are one type of rock', 'sedimentary rocks are found at the beach', 'seeding a new track is planting trees to be cut later', \"seeds are a flower's offspring\", 'seeds are cased embryonic plants', 'seeds are hard', 'seeds are often dried and eaten', 'seeds can be on the outside of strawberries', 'seeds can be strawberry', 'seeds can cling to fur and clothing', 'seeds can get stuck to dogs in a field', 'seeds can grow into trees', 'seeds in a dish act as a feeder', 'seeds that grow have sprouted', 'seeing easier happens when things are enlarged', 'seeing eye dogs can visually observe things', 'seeing requires eyes', 'seismographs record the amplitude of the seismic waves', 'sense organs are part of the nervous system', \"seperating a tree from it's roots is to cut it down\", 'setting a burner to maximum results in a temperature increase', 'several forest animal reproduce by eggs', 'sexual maturation happens in physical adulthood', \"shadows are directly opposite the sun's position\", 'shaking your head requires muscles moving bones', 'shale is a sedimentary rock', 'shale is a sedimentary rock like limestone', 'shallows are warm waters', 'sharks and orcas compete for resources', 'sharks are carnivores', 'sharks are predators of octupuses', 'sharks have gills', 'shedding requires vacuuming to pick up hair', 'sheep herds are living organisms', 'shelled item is egg', 'shelter is a home', 'shelter is a protected space', 'shelter is protection', 'shingles are a part of buildings', 'shivering is when something quickly shakes', 'shoes can insulate', 'shoes have rubber soles, which are harmful to the environment when burned', 'shoots are stems', 'shopping bags are made of plastic', 'short daylight hours happen in northern winters', 'shorter showers conserve water', 'shorts are what is worn in hot temperatures such as deserts', 'shoving is pushing', 'showers are rain falling', 'showers kill good bacteria', 'shrimp are smaller than trees and large mammals', 'shrubbery is plants', 'shrubs are composed of plant cells', 'shuddering and body tremors are shivering', 'sidewalks are hard objects', 'sighing requires expelling CO2', 'signals deliver messages', 'silicate rocky shell is what the mantle of earth is comprised of', 'silos are used for storage', 'silt is sediment', 'silver spoons are shiny', 'singed means burned', 'six legged entities are insects too', 'skeletal system is made of bones', 'skidding wears down tires', 'skin is the outermost organ which protects the inner organs', 'skunks are living things', 'skunks are not optimal to eat', 'skunks have bad odors', 'skunks make bad odors', 'skylights are windows', 'skyrocketing is positive', 'slamming the breaks causes the car to skid', 'sledding only takes place on snow, which falls in the winter', 'sleep allows the body to rest fully', 'sleep is a way to rest', 'sleep time is night', 'sleep time is night time', 'sleeping hours are at night', 'sleepy time is night', 'sleet falls down from clouds', 'sleet is a form of precipitation', 'sleet is smaller hail', 'sleet, or ice, is slick', 'slicing an apple takes it from whole to pieces', 'sliding and skidding are the same', 'sliding is a motion', 'slop is pig food', 'slowing electricity is done by insulators like rubber', 'small animals include voles', 'small items like toys can be measured in a cylinder', 'smashing an object changes breaks it down', 'smoke stacks create pollution', 'smoking pollutes the air', 'smoothing can be an effect of erosion', 'snakes are cold blooded', 'snakes need hot lamps', 'snakes need little food', 'snapshots are a synonym for pictures', 'snow and frost are cold', 'snow is categorized as appearing like white powder', 'snow is ice precipitation', 'snow is solid water at lower temp', 'snow is white precipitation', 'snow monkeys are animals', 'snow reflects all color of light', 'snowy areas are cold environments', 'sobbing is a negative effect of harm', 'soda bottles are recyclable', 'soda can is made of aluminum', 'soda cans are made from aluminum', 'soda cans are recyclable', 'soda is a substance that changes flavor', 'sodium is salt, which keeps ice from melting as quickly', 'sodium is salt, which remains after salt water is evaporated', 'soil contains nutrients', 'soil contains the roots', 'soil is below a plant', 'soil is dirt', 'soil is found under grass', 'soil that is broken up is looser', 'solar calculators use solar energy to function', 'solar energy is required for life to be sustained', 'solar equipment runs on solar energy', 'solar panels are good conservation tools', 'solar panels are used in homes', 'solar panels convert absorbed sunlight', 'solar panels require a steady amount of sunshine to maintain their voltage', 'solar pumps run on sunshine', 'solar radiation is what makes sunlight hot', 'solar rays are sunlight', 'solar rays generate heat', 'solid wood is an opaque object', 'solids cannot be measured', 'solids have varying melting points', 'solo cups are plastic', 'some animals can see in full color at night in moonlight', 'some animals depend on trees for food', 'some biofuels are made from algae', 'some birds need energy from prey', 'some birds prefer warmer climates, and migrate to them', 'some birds use their feet to catch prey', 'some cars run on electricity', 'some characteristics are determind by the environment itself', 'some evolve to lay eggs instead of live births', 'some fish that lay eggs need salt water', 'some foods contain vitamin d', 'some forests are made up of cacti', 'some hares grow longer fur for winter', 'some instruments are played by flicking', 'some living things, such as rats and roaches, benefit from human activity', 'some lizards like some species of geckos live in tropical environments', 'some mammals are herbivores', 'some moths have wings that look like leaves', 'some need to develop skills to outrun predators', 'some of the earliest mirrors were made of certain types of rock', 'some people are killing rhinos and selling rhino horns to people who want them for health remedies', 'some people have used octopus ink for writing', 'some plants need warm light during the day', 'some sea life is very small', 'something can look different if it is viewed through a refraction', 'something crumpled is more round than flat', 'something is cooler when it has less heat', 'something matching the background is camouflaged', 'something that has a reactive charge is magnetic', 'something that is biotic is organic', \"something that's become misshapen with holes has a new shape and mass\", 'something with more area with absorb more sun', 'sonar is helpful for finding lost objects', 'sound can vibrate things to break', 'sound is audible', 'sound is not made of molecules', 'sound is unable to be heard in a vacuum', 'sound vibrates', 'sounds of superior animals can deter predators', 'sources of water provide for organisms', 'south is the direction opposite of north', 'south is the opposite direction of north', 'sowing means to plant', 'space between areas is distance', 'sparrows are birds that eat berries', 'speakers in phone create sound', 'special dust is pollen', 'special straws filter water', 'speed equals distance divided by time', 'speed goes down due to friction', 'speed is needed to know how long it would take to drive somewhere', 'spending time on the road is a way to know how long driving is going on', 'spiders are small animals', 'spiders build webs, traps and hunt', 'spineless can refer to having no bones!', 'spinning tires are in motion', 'spoiled food often has mold, which is fungi', 'spraying windshield fluid decreases visibility while driving', 'spreading leaves out absorbs sunlight', 'spring is a season', \"springtime means it's warmer so less hair is needed\", 'sprinkling means rain, which is precipitation', 'squashing means to crumple', 'squawks are sound', 'squids live deep in the ocean', 'squirrels are animals', 'squirrels bury nuts', \"squirrels don't eat animals\", 'squirrels eat from trees', 'squirrels need to save food', 'stacked up sand is a sandbar when in water', 'stage after larva is pupa', 'stalactites are found in caves', 'stalactites grow on the ceiling.', 'stalling income is a lack of current income', 'stapler pins are metal', 'stars appear in different locations at dawn than at dusk', 'stars are a part of the sky', 'stars are astral beings', 'stars are balls of hydrogen found in space', 'stars are billions of miles away', 'stars are burning hydrogen shaped balls', 'stars are distant, though bright', 'stars are less visible in cities than in small towns', 'stars are placed differently as the earth revolves', \"stars that are visible depend on the earth's rotation\", 'starvation happens when there is no food', 'starving is a negative impact', 'static means unchanged, mass is equal to weight', 'staying perky is surviving', 'steam condenses into a measurable liquid', 'steam condensing pools', 'steam evaporates from boiling water', 'steam is vapor particles', 'steel absorbs heat from warm things', 'steel can be a mirrored surface', 'steel conducts electricity efficiently', 'steel is an electrical conductor', 'steel is reusable', 'steel, copper, and aluminum are types of metal', 'steeper incline creates move force needed', 'stick bugs live on twigs and branches', 'sticks are pieces of branches, which form nests', 'stingy use is conservative use', 'stinky animals have bad odors', 'stomach acid breaks down food substances', 'stomping on a puppy is harmful to the puppy', 'stone and rocks are the same', 'stone is a rock', 'stone is rocks', 'stonefish camouflage', 'stones are destroyed in erosion', 'stones are rocks', 'stones are rocks, and iron is magnetic', 'stones are small rocks', 'stones become smoother when they are weathered', 'stones crumpling are rocks folding', 'stopping means being still', 'storms are known dispersers', 'storms come from rain and cloudy weather', 'storms mean clouds are present', 'stormy weather causes storms', 'stormy weather is often paired with thunder and lightning', 'stoves are found in the kitchen', 'stovetops and ovens add heat to things', 'straight is west when right is north', 'straight solids are easiest to measure by tape', 'straight up means directly overhead', 'strawberries are buds before they are berries', 'strawberries are plants and plants are producers', 'strawberries grow from white flowers', 'straws in water appear to be misaligned because of refraction', 'strength is the capacity to withstand great force or pressure', 'striking flint is used to start fires', 'strong fans cool air', 'stronger beings are generally in better health', 'stronger gravity means an increase of gravity', 'stuff is an object', 'subways are a form of transportation', 'succulents are plants', 'sucrose is sugar', 'suffering is a negative impact', 'suffering is a result of harm', 'sugar can dissolve quicker then limestone', 'sugar carmalizes in the pie', 'sugar is a source for sustenance', 'sugar is a substance', 'sugar is crystallized carbohydrates', 'sugar is found in plants', 'sugar is in a tangerine', 'sugar is in plants', 'sugars are carbohydrates', 'suit of armor is metal', 'summer is 6 months after Christmas', 'summer is after spring', 'summer is in the northern hemisphere in June', 'summer is the opposite in southern hemisphere', 'summer is the warmest part of the year', 'summer is warm and sunny', 'summerlike is warm', 'sun involves orbit', 'sun is hot', 'sun setting earlier means shorter days and less daylight', 'sunbeam is light', 'sunbeams are composed of sunlight', 'sunbeams are sunlight', 'sunflowers are a renewable resource', 'sunflowers are plants', 'sunlight causes steering wheels to be extremely hot in the summer', 'sunlight comes from the fiery gas giant our planet orbits', 'sunlight gives energy', 'sunlight is a source of solar energy', 'sunlight is needed for photosynthesis', 'sunlight is nutriment for plants', 'sunlight is solar energy', 'sunlight takes 8.3 minutes to reach Earth from the sun', 'sunlight, water and wood are renewable', 'sunshine has thermal energy', 'supply attempts to meet demand', 'surfers prefer high tide', 'surrounding a valley is commonly a mountain range which is high', 'sustainable is renewable', 'sustenance is food', 'sustenance is food material', 'sustenance is nutrients', 'sustenance is required for a healthy animal', 'sustenance is the basic form of food', 'sustenance results in a species thriving', 'swamps are a watery place', 'swans are mothers', 'sweat comes out of the skin', 'sweat glands produce sweat', 'sweat is a liquid', 'sweat is fluid coming from pores', 'sweat makes you wet and smelly', 'sweating lowers body temperature', 'swelling is filling to a higher level', 'swelling seas are a part of the tide', 'sweltering means uncomfortably hot', 'sweltering weather is very hot', 'swimsuits are worn in June in the northern hemisphere', 'switches are branches of wood', 'switches can turn off lights', 'switching crops every so often takes less nutrients from the soil', 'swordbills have long beaks', 'swordfish use its fins to move quickly through water', 'swords are made from metal which comes from ore', 'swords are made of carbon steel', 'swords conduct electricity.', 'sync means get in line with', 'table fans use electricity', 'tables are a surface', 'taffy can be scratched with a fingernail', 'taffy can be torn easily', 'taillights would get dimmer the further a car drove away', 'taking apart leads to pieces', 'talc is a mineral', 'talc is found in soil', 'talc streaks', 'tall areas are mountains', 'talons are claws', 'tape measures can be used to measure meters', 'tapes have graduated markings for units', 'teak is a raw material', 'tearing a private document changes it into little pieces', 'tectonic expression is the action of an earthquake', 'tectonic plate movement causes eartquakes', 'tectonic plates are in the dirt and ground', 'tectonic plates are stony', 'tectonics is the act of a tectonic plate moving', 'teeth are made of bones', 'teeth quality is inherited', 'telephones contain microphones and speakers', 'telephones have magnets', 'telescopes and magnifying glasses make things larger', 'telescopes use electromagnetic radiation to function', 'telescopic lenses get up close', 'televisions get hot over time', 'temp changes are part of seasons', 'temp is considering degrees', 'temperature can be measured in a rectum', 'temperature is natural', 'temps rising is an increase in temperature', 'tender leaf buds are the edible part of a tree', 'tepees are shelter', 'tepid means slightly warm', 'terminated is destroyed', 'texas is south', 'thawing temp is when something melts', 'the Earth absorbs sunlight.', 'the Earth is a planet', 'the Earth orbits the sun', 'the Earth orbits the sun once per year', 'the Esophagus is part of the digestive system', 'the Grand Canyon is a large crevasse', 'the Rockies in America are little more than stacks of gravel due to weathering', 'the South Pole is a cold environment', 'the ability to reproduce is considered a sign of adulthood', 'the air in it is gas', 'the apex has an elevation greater than 35,000 ft', 'the arctic has snow year round', 'the arctic is a cold environment', 'the arctic is cold', 'the arctic is in the north', 'the arm is made of muscle and bone', 'the atmosphere is gas layers', 'the atmosphere is the air surrounding the planet Earth', 'the bad odor is made from sulfur-containing analog of an alcohol', 'the bat is hitting the ball', 'the beginning stage is reproduction', 'the body digests nutriment, which is food', 'the body is a humans physical being', 'the bottom of a mountain has lowered elevation', 'the brain is a large collection of neurons', 'the brown colors of a fawn allow it to blend in with its environment in Autumn', 'the car is travelling toward the person', 'the carnation is larger, so pollinators will be more attracted to it over a smaller flower', 'the cell membrane separates the interior of the cell from the outside', 'the closer the larger the view', 'the closest body in space to the earth is the moon', 'the closest star provides light energy', 'the cold blooded aspect lets the amphibian hibernate', 'the color black absorbs more light', 'the color pallete decides how light an objects color is', 'the cornea takes in light to the eye', 'the countryside would have the least light pollution', 'the crust is just above the mantle', 'the decomposed organism is used the nutrients it leaves behind', 'the deer are nutition because they are prey', 'the desert gets cold at night', 'the destruction of mountains over time creates soil', 'the difference between hot inside and cold outside causes the a burst bulb', 'the different phases of the moon are created by the earths shadow', 'the digestive system turns food into fat to keep for later when not used', 'the distribution of warmness is heating', \"the driver's goal is to speed up, wind prevents that\", 'the ear is our hearing organ', \"the earth changes it's tilt during season change\", 'the earth has less mass than the sun', 'the earth is a globe which circles the sun, a star, once a year', 'the earth is a human planet', 'the earth is covered by a crust of stone', 'the earth moves as it orbits the sun', 'the earth only has four layers', 'the earth orbits', 'the earth orbits the sun', 'the earth shakes during an earthquake', 'the ember produce a exothermic reaction', 'the environment is our ecosystem', 'the environment of something is whats immediately surrounding it', 'the epidermis is the skin', 'the equator is in between the north and the south', 'the equinoxes occur at opposite times of the year', 'the femur is a bone', 'the filament converts the energy in a light bulb', 'the flat appendages on organisms that give off oxygen are leaves', 'the floating arrow is iron and the northern axis is the north pole', 'the food pyramid requires producers', 'the formula for area is length x width x height', 'the globe, our earth, shifts on its axis', 'the gobi desert is desert', 'the ground affect things touching it', 'the ground is the surface of the Earth which has rocks comprised of elements', 'the ground warms as seasons change from winter to spring', 'the heart is a pump', 'the heart never sleeps', 'the heat energy is transferred to the food', 'the heating element in a toaster is a thermal conductor', 'the horizon is also known as the skyline', 'the human frame contains bones', 'the humans outer layer is the skin', 'the initial state of lava is very hot', 'the last layer is the outer core', 'the lava starts out at very high temperatures', 'the lens focuses light through augmentation', 'the life cycle process involves passing bodily traits', 'the liquid released by sweat glands is sweat', 'the location where the sun shines most directly on the Earth is the equator', 'the loss of particles results in reduced size', \"the mantle is earth's second layer and contains much iron\", 'the mass of a planet can be measured in kilograms', 'the moon also contains craters', \"the moon doesn't have an atmosphere\", 'the moon effects the tides', 'the moon goes through all of the different phases each month', 'the moon has less gravity than Earth', 'the moon has lower gravity', 'the moon illuminates earth at night', 'the moon is a satellite', 'the moon is a satellite without much air in our solar system', 'the moon is an astral night light', \"the moon is earth's natural satellite\", \"the moon is earth's satellite\", 'the moon is large and lights the night sky', 'the moon is our one and only satellite', 'the moon is white', \"the moon moves via the Earth's gravity\", 'the moon orbits the Earth', 'the moon reflects from the sun', 'the moon revolves around the earth which revolves around sun', 'the moon spins in a revolution', 'the most daylight can be had in the season of Summer', 'the mother of its future children would be its mate', 'the mouth and anus are parts of the digestive system, which absorbs nutrients from food', 'the mouth takes in food', 'the movement between plates is less than a minute', 'the nearest star causes changes over time', 'the nervous system is found in vertebrates', 'the north star never changes position', 'the northern hemisphere is the opposite dealing with weather', 'the object is the substance', 'the ocean absorbs a large portion of solar energy', 'the ocean is a liquid deluged with sodium chloride, which is the chemical name for salt', 'the ocean is on the Earth', 'the ocean is salty water', 'the ocean is the best place to find tides', 'the ocean is the lowest point on earth.', 'the offspring of frogs are young amphibians and fish breathe through gills', 'the only star the earth orbits is the sun', 'the outer casing or bark of the tree expands once a year and leaves a ring when it does', 'the outer covering is a layer', 'the pancreas is an internal organ', 'the passage of time takes place over long periods of time', 'the pathway is complete when there is full connection the whole path', 'the person sitting next to you has a plate that is closer to you', 'the pits in the mentos give a contact are for the cola to release it radical oxygen molecule', 'the planet spinning causes the star movement appearance', 'the pool has cool water and the jacuzzi has warm water', 'the pull of a planet is caused by gravity', \"the pupa stage is when the insect's wings first start to form\", 'the reflected light from a mirror allows someone to see themselves', 'the resistance created by the opposing currents combining creates a bright light', 'the result of the chemical reaction from the heat is vapor', 'the retina is the optic disk', 'the ring of fire is under the ocean immersed lava vent are volcanoes', 'the root structure provides support for the tree', 'the running bull is a moving object', 'the saxophone was invented by Sax', 'the season with the most direct sunlight is summer.', 'the sensory system is composed of nerves', 'the sharpest side of a decline will have water falling over it first', 'the size of the shadow', 'the skies are black when the weather is stormy', 'the sky is a large area filled with air', 'the sky is bright in sunny weather', 'the sky is filled with gray clouds during storms', 'the smallest cactus species is the Blossfeldia Liliputana', 'the solar rays are very bright', 'the southern division of the earth is a hemisphere', 'the southern hemisphere is below the equator', 'the spinal cord is a nerve and nerve cells are electrically excitable', 'the stars are visible at night', 'the strongest laser light can burn skin', 'the sun can be blocked by a cloud', 'the sun can be blocked by opaque material', 'the sun can cause high temps', 'the sun closeness to earth cause seasons', 'the sun does not revolve around anything', 'the sun gives vitamin D', 'the sun heats the earth throughout the day, that heat is stored in the crust', 'the sun is a central star which Saturn orbits', 'the sun is a producer of heat', 'the sun is a source of heat', 'the sun is a star', 'the sun is a star with great mass', 'the sun is a very large object', 'the sun is a yellow dewarf', 'the sun is a yellow dwarf', 'the sun is a yellow dwarf star', 'the sun is an astral gas ball', 'the sun is an astral star', 'the sun is in the sky', 'the sun is our closest star', 'the sun is our only yellow star', 'the sun is the closest star', 'the sun is the closest star to earth', 'the sun is the largest star in the solar system', 'the sun is the source of solar energy', 'the sun outputs solar energy which will defrost frozen substances', 'the sun produces more heat when directly overhead', 'the sun provides solar energy and a four leaf clover is a producer', 'the sun rises and set only once in twenty four hours', 'the sun rising, setting and rising again is one full day', 'the sun travels fast enough for the eye to perceive over time', \"the sun's gravity causes the planets to revolve around it\", 'the support is made from small structures', 'the surfaces of a space craft glow red on re-entry', 'the switch moves the metal to close it', 'the thin membrane which surrounds a cell is its cell membrane', 'the third rock from the sun is earth, more than 69% inclueds 70%', 'the ticker is the heart', 'the top half of the globe is the norther hemisphere', 'the top layer of soil contains the most nutrients where I hike', 'the torso is part of the body', \"the trunk is a tree's stem\", 'the trunk of a tree carries nutrients from the roots to the branches and leaves', 'the tundra is very cold', 'the vaginal canal is muscular', 'the vaporization of water is evaporation', 'the vision organ is the eye', 'the water heater holds hot water for showers', 'the western and eastern United States have very different climates', 'the wet planet is earth', 'the wilderness is far from any city', 'the wind is a force that acts on objects', 'the winter solstice is marked by lowered temperature', 'the winter solstice is the shortest day of the year and the summer solstice is the longest day of the year', 'the world is a planet', 'the yellow dwarf in the sky is our sun', 'their ears recieve short radio pulses showing them their prey', 'their skin has darkened to protect from radiation sickness', 'there are 1,440 minutes in one day', 'there are 1440 minutes in a day', 'there are 24 hours in a day', 'there are 28 days in February', 'there are 365 days in a standard year', 'there are 4 seaons', 'there are 52 weeks in a year', 'there are 7 days in a week', 'there are downpours during some storms', 'there are four seasons in a year', 'there are less sunlight hours in December than the rest of the year', 'there are multiple hours in a day', 'there are no clouds during sunny weather', 'there are seven days in a week', 'there are three months in each season', 'there are twelve months in a year', 'there are two receptors one for sour and one for sweet sucrose is sweet', 'there is a difference in precipitation between environments', 'there is a lot of heat in a desert', 'there is a lot of ice in the arctic environment because a lot of the Arctic Ocean is frozen', 'there is endless wind', 'there is increased pressure deep within the earth', 'there is less daylight in december in the new york', 'there is less water for plants in a desert so less plants grow', \"there is no oxygen on Saturn's rings for the respiratory system to use\", 'there needs to be a medium for the sound wave', 'thermal conduction happens faster with metal objects', 'thermal conductors let heat pass efficiently through them', 'thermal insulators can be installed in dog houses and etc to keep pets warm', 'thermal insulators retain heat in a warm place from losing heat to the outdoors', 'thermal release in exothermic', 'thermographs measure temperature', 'they will increase without our help', 'thick feathers are an adaption for survival', 'thick fur is an adaptation used to survive in cold places', 'thicken and condense are the same', 'thicker skin provides warmth', 'thin animals have showing bones under skin', 'things changing is a part of the earth changing', 'things passed down are made to endure', 'things roll more slowly where there is more friction', 'things that stopped breathing are dead', 'things with strong gravity have magnitude', 'thirteen weeks is approximately three months', 'this happens from parent to child', 'this is the hottest part of the day', 'three meals a day is standard for human nourishment', 'three per season', 'thrust can work outside of atmosphere', 'thrust occurs when something is pushed', 'thrust pushes against the ground', 'tidal energy is rarely used', 'tillage causes erosion of soil', 'tilling the ground makes the soil loose', 'tilts are measured by their degree of angle', 'timber companies maintain lumber yards where they hire sawyers to buck the wood', 'timber companies make rulers', 'timber companies use industrial saws', 'timber is tree products', 'timberland is a forest', 'timberland is forest', 'time passing allows for rock erosion', 'tin is a conductor', 'tin is a metal', 'tinted glasses have tinted lenses', 'titanium is a metal', 'to ascend is to rise', 'to avoid eye harm wear protection', 'to be augmented is to increase', 'to be gigantic is to be large', 'to change location is to move', 'to conceal is to camouflage', 'to decrease is to go down', 'to deliquesce is to become a liquid', 'to eat creatures is to predate', 'to enlarge is to make bigger', 'to gasify is become evaporateed', 'to get melty is to melt', 'to hatch is to emerge', 'to have a poor impact is a negative impact', 'to illuminate is to use light energy', 'to incinerate is part of combustion', 'to increase in altitude is to be lifted', 'to know the area of a rectangle, you must know the length of the sides', 'to lessen is to decrease', 'to liquify is to melt', 'to measure a room for carpet you need to measure distance', 'to much movement can wear livings things out', 'to objects colliding creates sound through vibration', 'to pass away is to die', 'to plummet is to decrease', 'to propagate is to breed in order to increase numbers', 'to putrefy is to decompose', 'to subside is to decrease', 'to unattract is to repel', 'to understand is to comprehend', 'toast is made using heat', 'toasters are a household kitchen appliance', 'toasters are electrical', 'toasters brown their target items', 'toasty is warm', 'toasty is warm, which filaments get as lights are turned on', 'toddlers are human children', 'tomatoes are a fruit', 'tomatoes are usually red', 'too many deer leads to not enough food for individuals', 'too many organisms reproducing can lead to overpopulation', 'too much rain leads to flooding', 'tornadoes are natural occurrences that can break stones', 'tornados cause weathering', 'tot be polar opposite is to be magnetic', 'towns already have homes built in them', 'toy submarine are filled with baking soda', 'traffic accidents can produce large amounts of heat', 'trail mix is an example of a mixture', 'trains use coal', 'transparent is clear', 'transport is moving food', 'transportation devices often cause pollution', 'transporting seeds, such as beans, disperses them', 'trash that can be used for a new purpose is recyclable', 'traveling around a thing is a revolution', 'traveling cars are moving', 'tree land is a forest', 'tree pips are seeds, such as acorns', 'tree zones are forests', 'trees and vines are plants', 'trees are a part of the ground, which shakes during an earthquake', 'trees are a raw material in all wood and paper products', 'trees are a type of plant', 'trees are not a pollutant', 'trees are planted on earth day', 'trees are plants', 'trees develop by using nutrients', 'trees falling is a type of habitat destruction', 'trees packed close together depict a dense forest', 'trees produce timber', 'trees start as seeds', 'trees that tower over the ground would be quite tall', 'trees used for dams have been gnawed down', 'trembling happens in earthquakes', 'trembling is shivering', 'trilobytes are fossils', 'tropical regions are relatively warm', 'tropical storms are the begin of a hurricane', 'truck beds are open to sunlight', 'tsunamis are a type of natural disaster', 'tsunamis are natural events', 'tugboats apply a continuous motion.', 'tumbling machines weather stones', 'tuna are predators of anchovies', 'tundra are cold', 'tundra is an ecosystem', 'tundras are cold', 'turbines can produce continuous power from wind', 'turf is grass', 'turning a crank is mechanical energy', 'turning bottles into a t-shirt is creating something new from a recyclable', 'turtles instinctually seek out the sea after hatching', 'twelve months is one year, or 365 days', 'twelve weeks is three months', 'twenty pounds is less weight than twenty four pounds', 'twinkie production makes waste', 'twinkies are food', 'two days are 48 hours', 'two drinks together is a solution', 'two forces moving in the same direction will cause movement', 'two forks can have the same charge', 'tyrannosaurus rex were carnivores', 'umbrellas are needed when it will rain', 'unclean water is unsafe', 'underground collisions are produced by earthquakes', 'undifferentiated cells change into specialized tissues', 'uneven heating is unevenly distributed', 'unfreezing means it warmed up', 'unhatched chicks are eggs', 'unicycles are a type of bicycle', 'united atoms compose molecules', 'unliving is dead', 'unstable material on a hill is a landslide', 'unsustainable farming practices is a damaging change to an environment', 'unwell is ill', 'upper hemisphere pole has low temp even during daytime', 'upper portion of earth is the northern hemisphere', 'uptick is increase', 'use of fossil fuels like boating increases atmospheric CO2', 'using for new purposes is a way to reuse a material', 'using something for new purposes makes it reusable', 'using sparsely is using very little at a time', 'utility is the use of something', 'uv light can burn', 'vaccines are injected with sharp metal objects', 'vaccines contain elements of the illness they fight against', \"vaccines only help when they're used\", 'valleys were formed by rock folding', 'vanes are rotating flat surfaces', 'vanilla is a flavor', 'vaporization is the first stage of evaporation', 'variable is adaptable', 'varied homes are ecosystems', 'variety of planted crops shows a rotation', 'various weather means various seasons', 'vast green fields are grassy spaces', 'vegetable oil is an example of an alternative fuel', 'vegetation is plants', 'vehicles can be cars', 'veins are a part of the circulation system', 'velocity is speed', 'velvety rocks are smooth', 'venison is a meat', 'viable and required things are resources', 'vibrant plumage would be a colorful part of a bird', 'vibrating strings cause wood to resonate', 'viewing requires sight', 'vinegar is oxidized acohol', 'vinegar is very acidic', 'vinegar reacts with several things', 'violas make sound', 'violas vibrate air', 'violins use bows to produce vibrations in the strings', 'vipers are poisonous snakes', 'vitality extinguishing is dying', 'vitamin d is fat soluble', 'vittles is food', 'vocalizing requires sound', 'volcanoes are a part of natural geological processes', 'volcanoes are hot and granite is a rock', 'volcanoes can be active for years', 'volcanoes have heat and pressure', 'volcanoes spew hot molten rock', 'volcanoes underwater are difficult to see', 'vole populations decrease as they are eaten more frequently', 'voles are seed eating animals', 'voles dig tunnels in soil', 'voles have fur', 'volume is an amount', 'volume refers to amount of space something occupies, such as the inside of a container', 'volume tells size', 'vomiting shows ill health', 'vultures are scavengers', 'vying means in competition with one another', 'waking hours are during the day', 'walking instead of driving reduces pollutants', 'walking is moving', 'wall switches can control lights', 'wall wart transformers have electrical current running through them', 'warm blooded creatures often have fur', 'warm climates are in tropical areas', 'warm rays come from the sun', 'warm rooms are comfortable in winter', 'warm weather can cause moist things to dry out', 'warming food is cooking', 'warmness is connected to temperature', 'warmness is heat', 'warmth can come external to the animal', 'warmth is a byproduct of a lightbulb', 'warmth is heat', 'washing face is learned behavior', 'washing removes this bacteria', 'waste attracts raccoons', 'waste is a type of pollution', 'waste is toxic', 'waste will pollute habitats', 'watching is making observations', 'water adjusts sediment by moving it', 'water amounts can be measured to be more after rainfall', 'water and flowers are crucial resources to pollinating insects', 'water and steam are the same substance', \"water becomes agitated as it reaches it's boiling point\", 'water can be carried by gravity', 'water can be drunk', 'water can be everywhere with enough rainfall', 'water can be frozen into shapes', 'water can be reused', 'water comes from water sources', 'water comes in droplets', 'water condensates on the inside of a window', 'water condenses on cold soda cans', 'water content in plants is controlled by transpiration', 'water droplets on a pot lid is a result of condensation', 'water evaporates from the sun throughout the day', 'water flow limiters reduce the amount of water wasted', 'water flows in the direction of safety', \"water foul are duck's which are food\", 'water from the sky is rain', 'water has motion', \"water in a basement is away from the sun's heat\", 'water in the air becomes rain or snow', 'water is H2O in a liquid state', 'water is a liquid', 'water is a natural resource', 'water is a renewable resource that can be collected in buckets', 'water is also known as H2O', 'water is composed of hydrogen and oxygen', 'water is drawn from the air and collects on the glass', 'water is emptied from a source as it evaporates', 'water is less dense than honey', 'water is likely to be hotter in the form of coffee', 'water is liquid', 'water is represented by two hydrogen and 1 oxygen molecules', 'water is sparse in desert environments', 'water leaks from clouds', 'water lost during activity can be replaced by taking in water', 'water molecules are made of two hydrogen atoms and an oxygen atom', 'water on land is fresh and in the seas is salty', 'water refracting light creates a natural prism', 'water that absorbs solar energy evaporates and forms clouds', 'water travels in vessels within the plant', 'water travels quickly via creeks', 'water travels quickly via rivers', 'water types mix well', 'water vapor in the atmosphere forms rain clouds', 'water vapor is everywhere', 'water vibrations move across all of the water even very far from where they started', 'water when frozen and warmed melts to liquid', 'water will freeze in a freezer', 'waterfowl lay eggs', 'watermelon has seeds', 'watermelon is a berry', 'watermelon is not a grain', 'watery is moisture', 'wax is a source of fuel', 'wax on cardboard keeps out water', 'waxworms are bugs', 'we are trying to find alternatives to non reusable/renewable resources', 'we breathe in the atmosphere', 'weak white blood cells cause vulnerability to pathogens', 'wearing down stones is weathering', 'weather often varies by season and time of day', 'weather related degradation is weathering', 'weathering breaks down one material into another', \"weathering is when a plant's roots slowly breaks down rocks\", 'weathering occurs over a length of time', 'webbing is extra skin on feet', 'weight is a prime example of non-contact force', 'weight is based on gravity and mass', 'weight is pressure', 'weight of clouds cause rain', 'weighted dips an exercise', 'wet means moist', 'wet planets, like earth, have more water than land', 'wetness is moisture', 'wetsuits are for swimming', \"whales and cats don't have the same food source\", 'whales are living things', 'whales live in water', 'whales need oxygen', 'wheels revolve around a shaft', \"when a canyon has started forming more recently it's not as deep\", \"when a habitat can't support animals many animals will leave and go elsewhere\", 'when a hemisphere is cooler that means its winter', 'when an animal wins the competition for resources it has out competed the other animals', 'when ice melts it turns into water', \"when it's cloudy during the day, you could say it's gloomy\", 'when its wet, excess water can happen', 'when liquid freezes it hardens', 'when no dominant genes are present the recessive trait will be visible', 'when precipitation freezes it can form dangerous hail', 'when resistance occurs, friction occurs', 'when resources go down, can be caused by over reproduction', \"when the Earth's axis is away from the sun it is winter\", \"when the earth's plates grind against each other it causes an earthquake\", 'when the number of trees decrease, more sunlight hits the floor of the forest', 'when the sky is dark, it is probably going to rain', 'when the sun is overhead, shadows disappear', 'when there are no clouds it is sunny', 'when your organs fail, you die', 'whether the moon is full depends on the week', 'whisker length is inherited', 'white objects are blinding', 'white rabbits blend in to snowy environments', 'white reflects the most light', 'whiteouts are snowy', 'whitetail dear live in temperate forests', 'wide, smooth leaves would be flat', 'wildcats are mammals', 'wilderness is woods', 'wildfires kill fire sensitive plants, thus increasing the material available for decomposers', 'wildflower kernels are seeds', 'willows are plants', \"wind and snow means it's cold outside\", 'wind can be a gust or breeze', \"wind can blow a hat off of someone's head\", 'wind can create energy, so solar heating causes wind energy also', 'wind energy is known as clean energy', 'wind exerts force', 'wind is a force', 'wind is a force caused by interaction with an air mass', 'wind is a source of renewable energy', 'wind is inanimate', 'wind is renewable', 'wind is used for heating and cooling homes now', 'wind powers things', 'wind uses force to blow', 'windmill need no other form of power to function other then wind', 'windmills harness wind', 'windmills harvest wind to create energy', 'windmills make renewable resources', 'windshields are glass', 'windy conditions whip materials in the air', 'wine is a liquid', 'wine is liquid and measured in volume', 'winter begins in December and ends in March', 'winter is a season', 'winter is a season that occurs once a year', 'winter is in December', 'winter is the coldest season with longer darkness', 'winter months are cool', 'winter months are when areas are distant from the sun', 'winter occurs when the hemisphere is facing away from the sun', 'winter solstice is when there is more darkness than light', 'winters are cold', 'wires are an example of this', 'wires are connections', 'with less food animals will start to die', 'with less molecules present the pressure of the air decreases', 'with the increase of light pollution it will become harder to see the stars', 'without a cocoon, there is no pupa', 'without changing mass, a thing will be measured the same each time', 'without others is solitary', \"without the right food, animals can't be healthy\", 'without wind and rain any marks left on asteroids can potentially last for thousands of years if not longer', 'wolf pups are the offspring of wolves', 'wolves and bears both eat the same prey, salmon', 'wolves are carnivores', 'wolves are consumers', 'wolves are predators and ibex are prey', 'wolves are predators that catch deer', 'wolves eat bunnies', 'wolves eat rabbits', 'wolves eat rabbits to get energy to survive', 'wolves live in dens', 'wombats are living things', 'wombs allow developing inside of a mother', 'wood beams are a raw material required in the process of building a log cabin', 'wood can come from pallets', 'wood is a direct source, a raw material from trees', 'wood is opaque', 'wood will dry if left in the sun', 'woody organisms are examples of producers and deer are consumers', 'worms are decomposers', 'worms are decomposers, and are wriggly', 'worms dry up and die in the heat', 'worms eat decay', 'worms eat decaying organisms', 'worms make tunnels', 'wrenches are metal', 'wrinkled is a texture', 'xylem moves water in plants like bushes', 'yanking a metal to a magnet is magnetic', 'yanking something towards a planet is gravitational pull increasing', 'yelling loudly in a canyon causes reverberation (echoing)', 'yogurt is a dairy product', 'you can avoid harm to the eyes from splashing chemicals by keeping them covered', 'you can burn something with a hot object', 'you can inherit things from your mother', 'you can not run out of wind', 'you can see further on top of a mountain', \"you can't see the moon during the new moon\", 'you have to bring your own water to places without it', 'you need an effective immune system to be healthy', 'you need gas to fill a beach ball', 'you need heat to thaw something', 'you need to get warm if you have hypothermia', 'you wear shorts in the summer', 'younglings are offspring', 'your elbow is a body part and a hot stove has a lot of heat energy', 'your hide is your skin', 'zapping energy is electricity', 'zapping power is electrical', 'zapping power is electricity', 'zebras are animals', 'zebras can be disguised against one another', 'zero is nothing', 'zipping powered is electric', 'zooplankton do not have respiration systems', 'zoos are public exhibitions for viewing', 'zoos hold animals outside of nature']\n",
            "--------------\n",
            "['A bee is a pollinating animal', 'A bird is a pollinating animal', 'An electrical conductor is a vehicle for the flow of electricity', 'An example of a change in the Earth is an ocean becoming a wooded area', 'An example of a chemical change is acid breaking down substances', 'An example of a fossil is a footprint in a rock', 'An example of a fossil is a paw print in rock', 'An example of a fossil is the bones of an extinct animal', 'An example of a mixture is clay mixed together', 'An example of a reproductive behavior is salmon returning to their birthplace to lay their eggs', 'An example of a seasonal change is an animal growing thick fur for keeping warm in the winter', 'An example of a seasonal change is plants becoming dormant in the winter', 'An example of a seasonal change is plants dying in the winter', 'An example of an adaptation is camel humps', 'An example of an inherited behavior is a bird building a nest', \"An example of an instinct is the kangaroo 's ability to crawl into its mother 's pouch to drink milk\", 'An example of an instinctive behavior is a baby bird pecking at its shell to hatch', 'An example of avoiding waste is using a material more than once', 'An example of avoiding waste is using an object more than once', 'An example of camouflage is an organism looking like leaves', 'An example of camouflage is when an organism looks like its environment', 'An example of camouflage is when something changes color in order to have the same color as its environment', 'An example of camouflage is when something has the same color as its environment', 'An example of camouflage is when something is the same color as its environment', 'An example of collecting data is measuring', 'An example of combining two substances is pouring one substance into the other substance', 'An example of conservation is avoiding waste', 'An example of conservation is not using fossil fuel', 'An example of creating an alternative fuel is turning plant material into fuel', 'An example of evaporation is a body of water drying up by absorbing heat energy', 'An example of hibernation is a frog burying itself in mud', 'An example of hitting something is dropping an object onto that something', 'An example of hunting is an otter cracking open clams with a rock', 'An example of migration is birds flying south in the winter', 'An example of moisture is water vapor in the atmosphere', 'An example of navigation is directing a boat', 'An example of playing a musical instrument is hitting the keys of a piano', 'An example of playing a musical instrument is strumming a guitar string', 'An example of protecting the environment is creating protected areas', 'An example of protecting the environment is reducing the amount of pollutants', 'An example of protecting the environment is reducing the amount of waste', 'An example of recycling is using an object to make a new object', 'An example of replacing a natural resource is planting new trees where a forest once stood', 'An example of reproduction is laying eggs', 'An example of seed dispersal is animals eating seeds', 'An example of seed dispersal is is an animal gathering seeds', 'An example of stormy weather is rain', 'An example of using tools is a chimpanzee digging for insects with a stick', 'An example of weathering is when a plant root grows into a crack in rock', 'An insect is a pollinating animal', 'August is during the winter in the southern hemisphere', 'DNA is a vehicle for passing inherited characteristics from parent to offspring', 'December is during the summer in the southern hemisphere', 'December is during the winter in the northern hemisphere', \"Earth 's magnetic patterns are used for finding locations by animals that migrate\", \"Earth 's surface is made of rock\", \"Earth 's tilt on its axis causes seasons to occur\", 'Earth is made of rock', 'Earth is the planet that is third closest to the Sun', 'Earth orbiting the Sun causes seasons to change', 'Galileo Galilei made improvements to the telescope to make better observations of celestial bodies', 'In the cellular respiration process carbon dioxide is a waste product', 'In the food chain process a green plant has the role of producer', 'In the food chain process an animal has the role of consumer which eats other animals for food', 'In the food chain process an animal has the role of consumer which eats producers for food', 'In the food chain process bacteria have the role of decomposer', 'In the food chain process fungi have the role of decomposer', 'In the food chain process some types of plankton have the role of producer', 'In the photosynthesis process carbon dioxide has the role of raw material', 'In the photosynthesis process oxygen has the role of waste product', 'In the respiration process carbon dioxide is a waste product', 'In the tree reproduction process a squirrel has the role of seed disperser', 'January is during the winter in the northern hemisphere', 'June is during the summer in the northern hemisphere', 'June is during the winter in the southern hemisphere', 'Louis Pasteur invented pasteurization', 'Matter in the gas phase has variable shape', 'Matter in the gas phase has variable volume', 'Matter in the liquid phase has definite volume', 'Matter in the liquid phase has variable shape', 'Matter in the solid phase has definite shape', 'Pluto is the planet that is ninth closest to the Sun', 'Vitamin D heals bones', 'a Punnett square is used to identify the percent chance of a trait being passed down from a parent to its offspring', \"a Rotation of the Earth on Earth 's axis takes 1 day\", 'a Rotation of the Earth on itself takes one day', 'a balance is used for measuring mass of an object', 'a balance is used for measuring weight of a substance', 'a balloon contains gas', 'a barometer is used to measure air pressure', 'a bat births live young', 'a battery converts chemical energy into electrical energy', 'a battery is a source of electrical energy', 'a beach ball contains gas', 'a beak is used for catching prey by some birds', 'a berry contains seeds', 'a bicycle contains screws', 'a bird is warm-blooded', 'a body of water is a source of water', 'a bubble contains gas', 'a cactus stem is used for storing water', 'a cactus stores water', 'a camera is used for recording images', 'a candle is a source of light when it is burned', 'a canyon forming occurs over a period of millions of years', 'a canyon is made of rocks', 'a car engine is a source of heat', 'a car engine usually converts gasoline into motion and heat through combustion', 'a carbonated beverage contains dissolved carbon dioxide', 'a cavern is formed by carbonic acid in groundwater seeping through rock and dissolving limestone', 'a chipmunk eats acorns', 'a chloroplast contains chlorophyll', 'a closed circuit has continuous path', 'a community is made of many types of organisms in an area', \"a compass 's needle lines up with Earth 's magnetic poles\", 'a compass is a kind of tool for determining direction by pointing north', 'a compass is used to navigate oceans', 'a compass is used to navigate seas', 'a complete electrical circuit is a source of electrical energy', 'a complete revolution of the Earth around the sun takes one Earth year', 'a complete revolution of the Earth around the sun takes one solar year', 'a computer controls a robot', 'a consumer can not produce its own food', 'a cycle happens repeatedly', 'a cycle occurs repeatedly', 'a decrease in visibility while driving can cause people to crash their car', 'a deer lives in a forest', 'a dense forest environment is often dark in color', 'a desert environment contains very little food', 'a desert environment has low rainfall', 'a desert environment is dry', 'a desert environment is low in availability of water', 'a desert environment is usually hot in temperature', 'a desert environment usually has a lot of sunlight', 'a different moon phase occurs once per week', 'a disperser disperses', 'a doorbell converts electrical energy into sound', \"a female insect lays eggs during the adult stage of an insect 's life cycle\", 'a fish lives in water', 'a flashlight converts chemical energy into light energy', 'a flashlight emits light', 'a flashlight requires a source of electricity to produce light', \"a flower 's purpose is to produce seeds\", 'a flower is a source of nectar', 'a flower produces pollen and seeds', \"a force acting on an object in the opposite direction that the object is moving can cause that object 's speed to decrease in a forward motion\", \"a force continually acting on an object in the same direction that the object is moving can cause that object 's speed to increase in a forward motion\", 'a forest environment is often green in color', 'a forest environment receives more rainfall than a desert', 'a frog eats insects', 'a glacier causes mechanical weathering', 'a glacier is made of ice', 'a glacier moves slowly', 'a graduated cylinder is a kind of instrument for measuring volume of liquids or objects', 'a graduated cylinder is used to measure volume of an object', 'a grassland environment receives more rainfall than a desert', 'a greenhouse is used to protect plants by keeping them warm', 'a greenhouse is used to protect plants from the cold', 'a hand dryer produces heat', 'a hot plate is a source of heat', 'a hot something is a source of heat', 'a hot substance is a source of heat', 'a human can pedal a bicycle', 'a human requires rest to be healthy', 'a human requires sleep to be healthy', 'a kettle is formed when chunks of ice left by glaciers melt', 'a landfill is a source of pollution', 'a landslide is when gravity rapidly moves rocks or soil downhill especially after a rain storm', 'a laser is used for producing light', 'a leaf absorbs sunlight to perform photosynthesis', 'a leaf performs photosynthesis', 'a lever is used for moving heavy objects', 'a light bulb converts electrical energy into light energy when it is turned on', 'a light bulb requires electrical energy to produce light', 'a line graph is used for showing change over time', 'a living thing is made of cells', 'a living thing requires nutrients to grow', 'a magnet attracts ferromagnetic metals through magnetism', 'a magnet attracts magnetic metals through magnetism', 'a mammal is warm-blooded', 'a mammal usually nurses its offspring', 'a mammal usually nurses its young', 'a meter stick is used to measure length', 'a mirror is used for reflecting light', 'a mirror reflects light', 'a monkey births live young', 'a moth undergoes metamorphosis', 'a mother births offspring', 'a mouse gives birth to live young', 'a nest is made of branches', 'a new season occurs four times per year', 'a new season occurs once per three months', 'a paper clip is often made of ferromagnetic metals', 'a phase change is when matter changes from one state into another state', 'a plane travels through the atmosphere', 'a planet is exposed to the heat of the star around which it revolves', 'a planet rotating causes cycles of day and night on that planet', \"a plant 's roots slowly break down rocks as the roots grow\", 'a plant absorbs carbon dioxide from the air for photosynthesis', 'a plant cell contains chloroplasts', 'a plant light is used for help plants by mimicking sunlight', 'a plant requires a specific climate to grow and survive', 'a plant requires photosynthesis to grow', 'a plant requires soil for to grow', 'a plant requires sunlight for photosynthesis', 'a plant requires sunlight to grow', 'a plant requires water to grow', 'a plant stem contains a system of tubes for transporting water and nutrients to other parts of the plant', 'a plant stem is the vehicle for transporting water and food from roots to the rest of the plant', 'a plants require water for to grow', 'a plateau is formed by a buildup of cooled lava', 'a polar bear requires a cold environment', 'a pollutions standard is a kind of standard for reducing pollutants emitted by factories', 'a predator eats other animals for food', 'a prism refracts light', 'a producer is a source of energy for consumers', 'a producer is a source of sugar in an ecosystem', 'a producer produces its own food', 'a pulley is used for lifting objects', 'a pulley is used to lift a flag on a flagpole', 'a pumpkin contains seeds', 'a quartz is made of six-sided transparent crystals', 'a radiator is a source of heat', 'a radio is used for communication', 'a rainbow is formed by refraction of light by splitting light into all different colors', 'a reflector is used to reflect light especially on vehicles', 'a renewable resource can be renewed', 'a renewable resource can be replaced', 'a reptile is cold-blooded', 'a revolution is when something revolves around something else', 'a revolution of the moon around the Earth takes 1 month', 'a riverbank is made of soil', 'a rocket engine is used to produce thrust by pushing gases out at a high speed', 'a ruler is used for measuring the length of an object', 'a salamander eats insects', 'a sandbar is formed by water moving sediment downstream', 'a satellite orbits a planet', 'a scale is used for measuring weight', 'a scar is an acquired characteristic', 'a sea turtle lives in the ocean', 'a seed is used for storing food for a new plant', 'a seismograph is a kind of tool for measuring the size of an earthquake', 'a seismograph is used for measuring the size of an earthquake', 'a seismometer is used to measure the strength or magnitude of an earthquake', 'a shower is a source of hot water for washing', 'a sifter is used for separating mixtures', 'a simple machine requires mechanical energy to function', 'a single-cell organism can survive without the help of other cells', 'a single-cell organism cannot specialize', 'a skinny beak is used for obtaining food by a bird from small spaces', 'a skunk produces a bad odor', 'a soda can is made of aluminum', 'a solar eclipse could only happen during the new moon', 'a solar panel converts sunlight into electricity', 'a solution is made of one substance dissolved in another substance', 'a source of something supplies that something', 'a spider web is used to capture food by spiders', 'a squid produces thrust by pushing water out of its body', 'a star is a source of light energy through nuclear reactions', 'a star is a source of light through nuclear reactions', 'a star is made of gases', 'a stem is a source of support for a plant', 'a stem is used to store water by some plants', 'a stinger is used for defense by a wasp', 'a stopwatch is used to measure time', 'a stove generates heat for cooking usually', 'a switch is used to stop the flow of current in an electrical circuit', 'a tape measure is used to measure distance', 'a tape measure is used to measure length', 'a tectonic plate moves along a fault line', 'a telescope is used for observing stars', 'a telescope is used for observing the sky', 'a thermal conductor is made of materials that conduct thermal energy', 'a thermal energy conductor transfers heat from hotter objects to cooler objects', 'a thermal insulator slows the transfer of heat', 'a thermometer is used to measure temperature', 'a toaster converts electrical energy into heat energy for toasting', 'a tree can be replaced by planting a new tree', 'a tree growing a tree-growth ring occurs once per year', 'a tree is a source of food for animals in an ecosystem', 'a tree is a source of food for birds in an ecosystem', 'a trunk is a source of support for a tree', 'a valley is formed by a river flowing', 'a warm front causes cloudy and rainy weather', 'a warm something is a source of heat', 'a white object reflects all visible light', 'a windmill converts wind energy into electricity', 'a windmill does not create pollution', 'absorbing sunlight causes objects to heat', 'acid can cause chemical change', 'acid rain has a negative impact on water quality', 'adaptation is when an organism develops a trait over time for survival', 'adaptations are used for survival', 'adding heat to an object sometimes causes chemical reactions', 'adding heat to something kills viruses in that something', 'adding salt to a liquid decreases the melting point of that liquid', 'adding salt to a solid decreases the freezing point of that solid', 'adult amphibians live on land', 'adulthood is a stage in the life cycle process', 'air is a vehicle for sound', 'algae is found in bodies of water', 'all animals breathe', 'all cells perform cellular respiration', 'all living things eliminate waste', 'all living things grow', 'all minerals are formed by natural geological processes', 'alligators eat fish', 'alloys are made of two or more metals', 'alternative fuel is usually a renewable resource', 'aluminum is a nonrenewable resource', 'aluminum is recyclable', 'amphibians hatch from eggs', 'amphibians undergo metamorphosis', 'an amphibian is cold-blooded', 'an anemometer is used to measure wind speed', \"an animal 's brain controls that animal\", \"an animal being born when food is available has a positive impact on that animal 's health\", 'an animal can survive in an environment with little food by storing fat', 'an animal knows how to do instinctive behaviors when it is born', 'an animal needs to eat food for nutrients', 'an animal requires air for survival', 'an animal requires energy to move', 'an animal requires enough nutrients to maintain good health', 'an animal requires enough nutrients to survive', 'an animal requires nutrients for survival', 'an animal requires nutrients to grow and heal', 'an animal requires oxygen for to breathe', 'an animal requires shelter', 'an animal requires warmth for survival', 'an animal usually requires a warm body temperature for survival', 'an earthquake causes the ground to shake', \"an earthquake changes Earth 's surface quickly\", 'an earthquake usually occurs over a period of 10 to 30 seconds', 'an ecosystem contains a large community of living organisms in a particular place', 'an ecosystem contains large numbers of living organisms in a particular place', 'an ecosystem contains nonliving things', 'an egg requires warmth to develop', 'an electric car contains an electric motor', 'an electric car uses less gasoline than a regular car', 'an electrical device requires electricity to turn on', 'an electrical insulator slows the flow of electricity', 'an electrical insulator slows the transfer of electricity', 'an electromagnet contains cylindrical ferrous metal', 'an electron microscope creates a picture', 'an equinox occurs twice per year', 'an exothermic reaction increases the amount of heat', 'an incandescent light bulb converts electricity into heat by sending electricity through a filament', 'an incandescent light bulb converts electricity into light by sending electricity through a filament', 'an inclined plane is used for raising objects', 'an island is formed by lava being released on the ocean floor over time', 'an island is formed by lava cooling on the ocean floor over time', 'an landfill is a source of pollution', 'an ocean is a source of heat and moisture for a hurricane', \"an organism 's environment affects that organism 's acquired characteristics\", 'an organism breaking down sugar is a source of carbon dioxide', 'an organism breaking down sugar is a source of water', 'an organism breaks down sugar to release energy', 'an organism is a source of organic material', 'an organism is a source of organic matter', 'an organism requires energy for growth', 'an organism requires energy for repair', 'an oven is a source of heat', 'an plant requires food for survival', 'animal cells can not perform photosynthesis', 'animals adapt to their environment', 'animals exhale carbon dioxide from their lungs into the air', 'animals learn some behaviors from watching their parents', 'animals live and feed near their habitats', 'animals require water for survival', 'animals taste flavors', 'animals usually distance themselves from humans', 'aquatic animals live in bodies of water', 'aquatic plants live in bodies of water', 'arctic animals live in an arctic environment', 'arteries transport nutrients throughout the body', 'as a source of light becomes closer , that source will appear brighter', 'as a source of light moves directly overhead of an object , the size of the shadow of that object will decrease', 'as ability to preserve food increases , the ability to transport food increases', 'as ability to transport food increases around the world , the available types of food in distant locations will increase', 'as air pressure decreases , the chance of rain will increase', 'as air pressure increases , the reading on a barometer will rise', 'as altitude increases , air pressure will decrease', 'as altitude increases , the temperature of the air will decrease', 'as an object descends into water , the pressure on that object will increase', 'as an object moves , the kinetic energy of that object will increase', 'as available resources increases , the population of an organism that uses those resources will increase', 'as available water decreases , the population of plants will decrease', 'as available water in an environment decreases , the amount of available food in that environment will decrease', 'as depth increases , pressure will increase', 'as distance from a source of light increases , that source of light will appear dimmer', 'as distance from an object decreases , that object will appear larger', 'as distance from an object decreases , the the pull of gravity on that object increases', 'as distance from water decreases , humidity will increase', 'as distance to a city decreases , the amount of light pollution will increase', 'as distance to an object increases , that object will appear smaller', 'as dryness increases in an environment , the available water in that environment will decrease', 'as elevation of a place decreases , how much a flood will affect that place will increases', 'as energy required for an activity increases , pulse will increase', 'as flatness of a leaf increases , the amount of sunlight that leaf can absorb will increase', 'as force exerted on an object increases , distance travelled will increase', 'as heat and moisture increases , the strength of a hurricane will increase', 'as heat increases , a flexible container containing gas will expand', 'as heat is transferred from something to something else , the temperature of that something will decrease', 'as light pollution increases , seeing the stars will be harder', 'as lightness in color of an object increases , the ability of that object to reflect light will increase', 'as mass of a celestial body increases , the force of gravity on that planet will increase', 'as mileage per galon of gasoline increases , the amount of gasoline used will decrease', 'as moisture of an object decreases , the friction of that object against another object will increase', 'as number of organisms in a group increases , the chance of survival of each organism will increase', 'as population of predators decreases , the population of prey will increase in an environment', 'as population of prey decreases , the population of predators will decrease', 'as roughness of a surface increases , friction will increase', 'as state of matter changes , mass will not change', 'as temperature during the day increases , the temperature in an environment will increase', 'as temperature in an environment decreases , the amount of water an animal in that environment will lose will decrease', 'as temperature in the environment increases , the body temperature of a reptile in that environment will increase', 'as temperature increases , the ability of that liquid to dissolve solids will increase', \"as the activity of an animal increases , the amount of water in an animal 's body in that environment will decrease\", 'as the amount of available water decreases , tree-growth rings will become narrower', 'as the amount of daylight increases , sunset will occur later in the day', 'as the amount of food an animal eats decreases , that organism will become thinner', 'as the amount of food an animal eats increases , the weight of that animal will increase', 'as the amount of fragrance of a flower increases , the number of pollinators it will attract increases', 'as the amount of polluting gasses in the atmoshere increases , the atmospheric temperature will increase', 'as the amount of rain increases in an environment , available sunlight will decrease in that environment', 'as the amount of rainfall increases in an area , the amount of available water in that area will increase', 'as the amount of water in a body of water increases , the water levels will increase', 'as the amount of water received by a plant increases , that plant will usually grow', 'as the amount that matter vibrates increases , sound produced increases', 'as the available water in an environment increases , the populations of organisms in that environment will increase', 'as the distance of a location from the North Pole becomes smaller, the amount of daylight received by that location will decrease during the winter', 'as the level of water rises , the amount of available land will decrease', 'as the mass of an object increases , the force required to push that object will increase', 'as the number of eggs laid by an animal increases , the number of eggs that hatch will increase', 'as the number of pollinators attracted to a flower increases , the ability of that flower to reproduce will increase', 'as the number of sources of food increase in an environment , the population of the organisms will increase in that environment', 'as the population of plants decreases , carbon in the atmosphere will increase', 'as the population of prey decreases , competition between predators will increase', 'as the resistance to something increases , how easilty that something can be done will decrease', 'as the roughness of something increases , the friction of that something will increase when its surface moves against another surface', 'as the sale of a product decreases , the amount of money made by the person selling that product will decrease', 'as the size of a flower increases , the number of pollinators it will attract increases', 'as the size of a leaf increases , the amount of sunlight absorbed by that leaf will increase', 'as the size of an object appears larger , that object will be observed better', 'as the size of an object appears larger , that object will be seen more easily', 'as the size of the eyes of an animal increases , the ability of that animal to see will usually increase', 'as the smoothness of something increases , the friction of that something will decrease when its surface moves against another surface', 'as the supply of food in an environment decreases , the population of animals in that environment will decrease', 'as the surface area of a body of water increases , evaporation of that body of water will increase', 'as the temperature of a liquid increases , the rate of evaporation of that liquid will increase', 'as the temperature of something increases , the intensive properties of that something will not change', 'as the thickness of an object increases , the resistance to breaking will increase', 'as the thickness of an object increases , the resistance to damage of that object will increase', 'as the time a tool lasts increases , the number of tools discarded will decrease', 'as the use of a crop increases , the amount of crops planted will increase', 'as the use of a resource decreases , the length of time that resource will be available increases', 'as the use of alternative fuels increases , the use of gasoline will decrease', 'as the weight of an animal decreases , that animal will fly more easily', 'as time spent taking a shower decreases , water used will decrease', 'as water increases in an environment , the population of aquatic animals will increase', \"avoiding predators has a positive impact on prey 's ability to reproduce\", 'bacteria can cause people to become ill', 'bacteria can help digest food in humans', 'bacteria cause food poisoning', 'bad weather decreases visibility while driving', 'baking soda can react chemically with vinegar', 'bats can echolocate', 'batteries convert chemical energy to electrical energy', 'beads of water are formed by water vapor condensing', 'bears eat berries', 'bears eat insects', 'bees convert nectar into honey', 'bees eat pollen', 'being burried under soil and mud changes peat into coal through extreme heat and pressure in a swamp over a long period of time', 'being exposed to heat can cause erosion of rocks', \"being stronger usually has a positive impact on an living thing 's health\", \"being stronger usually has a positive impact on an organism 's health\", 'binoculars are used for observing distant objects', 'biofuel is used to produce electricity by burning', 'biofuel releases carbon dioxide into the atmosphere', 'birds are a vehicle for spreading the seeds of a plant', 'birds build nests in the spring', 'birds lay eggs', 'birds sometimes eat berries', 'birds sometimes eat insects', 'birds sometimes eat seeds', 'birds with beaks of different shapes eat different foods', 'blood absorbs oxygen in the lungs', 'bluebirds live in grassy spaces', 'boiling is when liquids are heated above their boiling point', 'boiling point means temperature above which a liquid boils', 'braking can cause skidding', 'brass is made of copper and zinc', 'break down means change from a whole into pieces', 'breaking apart rocks can cause debris', \"breaking down an object changes that object 's shape and mass\", 'breath contains water vapor', 'breathing is when a lung converts from oxygen in air into oxygen in blood', 'brick is an electrical insulator', 'buildings collapsing often cause death', 'burning a living thing usually causes harm to that living thing', 'burning gasoline is a source of pollution', 'burning oil is a source of pollution', 'burning wood is used to produce heat', 'calculating speed requires knowing distance travelled', 'camouflage can be used for hunting for food', 'camouflage can be used for hunting for prey', 'camouflage is a kind of protection against consumers', 'camouflage is a kind of protection against predators', 'camouflage is used for hiding by animals against predators', 'camouflage is used for hiding by animals from predators', 'carbohydrates are made of sugars', 'carbon dioxide can be found in the air', 'carbon dioxide concentrations in the air have increased over the last decade dramatically', 'carbon steel is always magnetic', 'carnivores are predators', 'carnivores only eat animals', 'carpet absorbs sound', 'casting an image of an object through a pinhole onto a screen does not require looking directly at the object', 'cellular respiration is when a cell converts from oxygen and carbohydrates into carbon dioxide, water, and energy', 'cellular respiration is when cells break down food to produce energy', 'changes in an environment cause animals to adapt to survive', 'changes in an environment cause plants to adapt to survive', 'chemical reactions cause chemical change', 'chemical reactions cause different substances to form', 'chemical splashing can cause harm to the eyes', 'chemical splashing sometimes occurs during experiments', 'chickens cluck', 'chlorophyll is used for absorbing light energy by plants', 'clams live at the bottom of the ocean', 'classifying is when one sorts something by type', 'classifying means grouping materials by their properties', 'claws are used to catch prey by some predators', 'clear weather means sunny weather', 'climate is the usual kind of weather in a location', 'clouds are formed by water vapor rising and condensing', 'clouds produce rain', 'cloudy means the presence of clouds in the sky', 'coal is a nonrenewable resource', 'coal is used to produce electricity by burning in coal-fire power stations', 'coal mine is a source of coal under the ground', 'cold environments are usually white in color from being covered in snow', 'cold environments contain few organisms', 'cold temperatures cause animals to shiver', 'coloration is used to find a mate by some animals', 'combining two substances chemically causes chemical reactions', 'completing a circuit causes electric current to flow through that circuit', 'completing a circuit causes electricity to flow through that circuit', 'condensation is a stage in the water cycle process', 'condensing causes a liquid to form', 'conserving resources has a positive impact on the environment', 'conserving water can be used for survival in a dry environment', 'consumers eat other organisms', 'contact between rocks over long periods of time causes rocks to smooth', 'cooking causes a chemical reaction', 'cooking food requires adding heat energy', 'cooking food to proper temperatures protects against food poisoning by killing bacteria and viruses', 'cool temperatures cause animals to shiver', 'coral lives in the ocean', 'cows only eat plants', 'cracking something usually has a negative impact on that something', 'creating paper requires cutting down trees', 'crop rotation has a positive impact on soil quality', 'crop rotation is when different crops are planted on a field in different years', 'crop rotation renews soil', 'crumple means change shape from smooth into compacted by physical force', 'cutting down trees has a negative impact on an organisms living in an ecosystem', 'cutting down trees in a forest causes the number of trees to decrease in that forest', 'cycles of day and night occur once per day', 'cycles of freezing and thawing water cause ice wedging', 'dairy is a source of Vitamin D', 'damming a river can cause a lake to form', 'darkness has a negative impact on photosynthesis', 'dead organisms are the source of nutrients for decomposers', 'dead organisms decay', 'dead organisms rot', 'decomposer is a kind of role in an ecosystem', 'decomposition increases amount of organic matter in soil', 'decomposition increases the amount of nutrients in the soil', 'decomposition is when a decomposer breaks down dead organisms', 'decomposition is when a decomposer recycles nutrients from dead organisms to the soil by eating those dead organisms', 'decreasing something negative has a positive impact on a thing', 'deep sea animals live deep in the ocean', 'denser liquids settle below liquids that are less dense', 'density is a measure of mass over volume', 'detailed observation of celestial objects requires a telescope', 'dew is formed when water vapor condenses over night', 'dew is formed when water vapor cools over night', 'different organisms reproduce differently', 'digestion is when an organism takes in nutrients from food into itself by eating', 'digestion is when stomach acid breaks down food', 'disguise means change appearance to hide', 'dissolving a substance in water causes the water to taste like that substance', 'doing chores is a learned characteristic', 'down feathers are a thermal energy insulator', 'dropping an object into water causes vibrations in the water', 'dropping something causes that something to fall', 'drought may cause wildfires', 'drought means available water decreases in an environment', 'dry wood easily burns', \"each of the moon 's phases usually occurs once per month\", 'each season occurs once per year', 'eagles eat fish', 'eagles eat rabbits', 'earthquakes cause rock layers to fold on top of each other', 'earthworms create tunnels in soil', 'eating food is used to get nutrients by living things', 'eating food that contains pesticides can have a negative impact on humans', 'echo is when sound reflects off of a surface', 'echolocation is when some animals detect objects by hearing echoes by emitting sound', 'ecological succession means entire communities in an ecosystem change over time', 'electric devices require electrical energy to function', 'electrical conduction is when metals conduct electricity through metal', 'electrical current running through a wire causes that wire to heat up', 'electrical devices convert electricity into other forms of energy', 'electrical insulation requires wrapping a conductor in an insulator', 'electricity can not flow through an open circuit', 'electricity causes less pollution than gasoline', 'electricity is made of moving charged particles', 'electricity is made of moving charges', 'electrocution causes harm to an organism', 'electromagnets can be powered by electricity', 'endangered means low in population', 'erosion causes a river to become deeper and wider', 'erosion causes deposition', 'erosion of soil has a negative impact on the environment', 'ethanol sometimes is made of corn', 'evaporation causes amount of water to decrease', 'evaporation is a stage in the water cycle process', 'evaporation is when water is drawn back up into the air in the water cycle', 'evaporation means change from a liquid into a gas by adding heat energy', \"exercise has a positive impact on a body 's strength\", \"exercise has a positive impact on a human 's health\", 'explosions can cause harm to an organism', 'extreme heat and pressure compact sediment into sedimentary rock', 'extreme heat and pressure metamorphose rock into metamorphic rock', \"extreme temperatures cause an organism 's energy levels to decrease\", 'eye color is an inherited characteristic', 'eyes are used for seeing by animals by sensing light', 'farming cause nutrients in the soil to decrease', 'farming changes the environment', 'fat is used to keep animals warm', 'feeders attract animals to a location', 'feeling is when an living thing senses through touch', 'female birds sit in nests', 'ferrous metals contain iron', 'fertilizers are a source of pollution', 'fire causes burning', 'fire causes harm to living things', 'fire destroys plants in an environment', 'fire gives off light', 'fish lay eggs', 'flippers are used for moving in water', 'flood plains are located near rivers', 'flowers are a source of fruit', 'flowing liquid can push objects', 'fog is formed by water vapor condensing in the air', 'folding an object causes that object to change shape', 'food is a source of energy for animals', 'food is a source of energy for plants', 'food spoiling has a negative impact on the health of the animal that eats that food', 'force causes the speed of an object to decrease', 'force causes the speed of an object to increase', 'forming fossil fuels requires decaying vegetation', 'fossil fuels are a nonrenewable resource', 'fossil fuels are formed by dead organisms over time', 'fossil fuels forming occurs over a period of 300000000 years which is considered a very long time to a human', 'fossils are formed when layers of sediment cover the remains of organisms over time', 'freezing causes a solid to form', 'freezing means changing from a liquid into a solid by reducing heat energy', 'freezing point means temperature at which a liquid freezes', 'freezing point means temperature below which a liquid freezes', 'friction acts to counter the motion of two objects when their surfaces are touching', 'friction causes the speed of an object to decrease', 'friction causes the temperature of an object to increase', 'friction is used for stopping a vehicle by brakes', \"friction occurs when two object 's surfaces move against each other\", 'fruit contains seeds', 'genes are a vehicle for passing inherited characteristics from parent to offspring', 'gills are used for breathing water by aquatic animals', 'glaciers cause scratches in rocks', 'glaciers melting has a negative impact on the glaicial environment', \"good bacteria grow on a human 's skin\", 'good bacteria grow on the skin', 'grass snakes live in grass', 'gravitational force causes objects that have mass to be pulled down on a planet', 'gravity causes orbits', 'gravity causes substances to be pulled down on a planet', 'green plants provide food for consumers by performing photosynthesis', 'grey clouds appear before precipitation', 'grey clouds are a source of precipitation', 'habitat destruction causes animals to move to find shelter in another habitat', \"harming an animal species causes that animal 's population to decrease\", 'harming something has a negative effect on that something', 'harming something has a negative impact on that something', \"having food has a positive impact on an organism 's health\", 'hawks eat lizards', 'heat and pressure change the remains of prehistoric living things into natural gas', 'heat can change the state of matter', 'heavy rains cause flooding', 'height is an inherited characteristic', 'herbivores only eat plants', 'hibernation is an inherited behavior', 'hibernation is used for conserving resources by some animals', 'high means great in altitude', 'high temperatures can cause an object to combust', 'high tide is a stage in the tide cycle process', 'hitting an object causes the particles in that object to vibrate', 'humans building homes in an ecosystem causes that environment to change', 'humans building homes in an environment causes that environment to change', 'humans cause pollution', 'humans changing an environment sometimes causes that environment to be destroyed', 'humans changing animal habitats usually causes harm to those animals', 'humans discarding waste in an environment causes harm to that environment', 'humans eat crops', 'humans moving into an environment usually causes native species to lose their habitats', 'humans sometimes eat seeds', 'humidity is the amount of water vapor in the air', 'hunting means humans kill animals in the wild', 'hunting requires seeing prey', 'hunting requires sensing prey', 'hydropower is when falling water produces electricity', 'hydropower requires damming a river', 'hypothesis means scientific guess about the cause and effect of an event', 'ice wedging is when ice causes rocks to crack by expanding in openings', 'if a body of water loses all water then that body of water does not exist any more', 'if a body part was burned then that body part was exposed to a lot of heat energy', 'if a cell can not specialize then that cell must perform all life functions', 'if a flexible container is pushed on then that container will change shape', 'if a habitat can no longer support animals then those animals will move to another area', 'if a habitat is destroyed then that habitat can not support animals', 'if a habitat is removed then that habitat is destroyed', 'if a hot object is touches a cold substance then that substance will likely cool', 'if a hot substance is touches a cold object then that substance will likely cool', 'if a leaf falls off of a tree then that leaf is dead', 'if a liquid disappears then that liquid probably evaporated', 'if a living thing becomes too cold then that living thing will die', 'if a living thing dies then that living thing is dead', 'if a magnet is attracted to a metal then that magnet will stick to that metal', 'if a mineral can be scratched by a fingernail then that mineral is soft', 'if a new predator begins eating prey then the population of that prey will decrease', 'if a population decreases to zero then that organism is extinct', 'if a substance absorbs solar energy then that substance will increase in temperature', 'if a tree falls then sunlight becomes available to the surrounding plants', 'if a tree falls then that tree is dead', 'if a tree is cut down then that tree will die', 'if a tree is located near a sidewalk then the roots of that tree might crack the sidewalk', 'if a weed is pulled then that weed is destroyed', 'if all members of a species cannot produce offspring then that species will likely become extinct', 'if an animal eats another animal then that animal is a carnivore or omnivore or predator', 'if an animal hatches from an egg then that animal is born', 'if an animal is near a road then that animal might be killed by a car', 'if an animal is trained to do something then that something is a learned behavior', 'if an animal relies on plants for food then that animal must store enough food to last through the winter', 'if an animal takes a resource from another animal then that animal competes for resources successfully', 'if an object is blue then that object reflects only blue light', 'if an object is close then that object will appear large', 'if an object is exposed to a source of heat then that conductor may become hot', 'if an object is hot then the surfaces of that object are hot', 'if an object is kicked then force is exerted on that object', 'if an object reflects a light of a certain color then the object appears to be that color', 'if an object reflects light toward the eye then that object can be seen', 'if an object reflects more light then that object is more easily seen', 'if an object undergoes chemical change then that object will have new chemical properties', \"if an organism 's prey moves quickly then that organism may need to move quickly to catch its prey\", 'if an organism becomes too hot then that organism may die', 'if an organism dies then the population of that organism will decrease', 'if an organism makes food for itself then that organism does not need to eat other organisms', 'if battery in an electromagnet is active then the nail in the electromagnet will become magnetic', 'if electricity flows along more than one pathway then the circuit is parallel', 'if food is cooked then heat energy is added to that food', 'if food is not immediately used by the body for energy then that food will be stored for future use', 'if fossils of a water animal or plant are found in a place then that place used to be covered by water in the past', 'if gas is heated then that gas will rise', 'if it is night then the sun has set', 'if liquid is boiling then that liquid is hot', 'if members of a species are born then the population of that species increases', 'if one electrical conductor contacts another electrical conductor then electricity will flow through both conductors', 'if one mineral can scratch another mineral then that other mineral is softer than that one mineral', 'if seeds stick to the fur of an animal then that seed will be transported by the animal', 'if some nutrients are in the soil then those nutrients are in the food chain', 'if something absorbs something else then that something will contain that something else', 'if something contains a large amount of magnetic material then that something will attract magnets', 'if something is a raw material in a process then that something is required for that process', 'if something is a raw material then that something comes directly from a source', 'if something is in the sunlight then that something will absorb solar energy', 'if something is outside during the day then that something will receive sunlight', 'if the amount of available food and water decreases in an environment then animals may leave that environment to find food and water', 'if the atmospheric temperature rises then the glaciers will melt', 'if the population of an organism increases then the ecosystem may become overpopulated with that organism', 'if too much heat is transferred to an object then that object may burn', 'if two animals eat the same prey then those animals compete for that pey', 'if two animals have the same food source then those two animals compete for food', 'if two equal forces in opposite directions act on an object then that object will stay in the same place', 'if two objects have the same charge then those two materials will repel each other', 'if weather is stormy then there is a greater chance of rain', \"illness has a negative impact on an organism 's health\", 'incomplete metamorphosis is when an insect reaches the adult stage without being a pupa', 'inheriting is when a inherited characteristic is copied from parent to offspring by DNA', 'inheriting is when a inherited characteristic is passed from parent to offspring by DNA', 'inheriting is when a inherited characteristic is passed from parent to offspring by genetics', 'ink is used for hiding from predators by octopuses', 'insects can have a negative impact on crops', 'inventing a tool allows that tool to be used', 'iron is always magnetic', 'iron nails are made of iron', 'jet streams may deflect the air masses moved by the prevailing westerlies', 'kilometers km are a unit used for measuring distance generally used for values between 1 and 50000000', 'lack of food causes starvation', 'landfills have a negative impact on the communities', 'landfills have a negative impact on the environment', 'landslides often occur on mountains', 'large fins can be used to move quickly through water', 'large trees block sunlight from reaching the ground', 'lava is found above the ground', 'light can travel through a vacuum', 'light enters the eye through the pupil', 'lighting a candle causes that candle to burn', 'lightning can cause a forest fire', 'limestone is formed by water evaporating from a solution of water and minerals', 'live birth means developing inside the mother instead of an egg', 'living in an environment causes an organism to adapt to that environment', 'living things all require energy for survival', 'living things can all reproduce', 'living things live in their habitat', 'living things require respiration to use energy', 'living things require water for survival', 'living underground can be used for hiding from predators', 'lizards eat insects', 'long ears are used for releasing heat by a jackrabbit', 'looking directly at an eclipse of the Sun causes harm to the eyes', 'loss of resources has a negative impact on the organisms in an area', 'magma is found below the ground', 'magnetic attraction pulls two objects together', 'magnetism can cause objects to repel each other', 'magnetism does not require contact between objects to act', 'magnifying glass is used to see small things by making objects appear bigger', 'magnifying makes seeing small things easier through using a microscope', 'mammals give birth to live young', 'many vehicles emit pollution into the air', 'mass is a measure of the amount of matter in an object', 'matter in the liquid state drips', 'matter is made of molecules', 'matter vibrating can cause sound', 'matter with variable volume and shape assumes the shape and size of its entire container', 'meadow voles eat insects', 'meadow voles eat plants', 'measuring the hardness of minerals requires scratching those materials', 'mechanical weathering is when rocks are broken down by mechanical means', 'medicine can cause people to have bad reactions', 'melting is when solids are heated above their melting point', 'melting means changing from a solid into a liquid by adding heat energy', 'melting point means temperature above which a solid melts', 'melting point means temperature at which a solid melts', 'metal is a nonrenewable resource', 'metal is a thermal conductor', 'metal is an electrical energy conductor', 'metal is sometimes magnetic', 'metamorphosis is a stage in the life cycle process of some animals', 'metamorphosis is when an animal changes from an immature form to an adult form', 'meters m are a unit used for measuring distance generally used for values between 1 and 1000', 'mice live in in holes in the ground in fields', 'microorganisms cause food to spoil', 'microscope is used to see small things by making them appear bigger', 'migration is an instinctive behavior', 'migration is when animals move themselves from a cooler climate to a warmer climate for the winter', 'migration is when animals move to different locations in an annual cycle', 'milliliters mL is a unit used for measuring volume generally used for values between 1 and 1000', 'mimicry is used for avoiding predators by animals by camouflaging as a dangerous animal', 'minerals are formed from magma cooling', 'mining changes an ecosystem', 'moist means high in moisture', 'molecules vibrating can cause sound', 'most animals avoid bad odors', 'most canyons are formed by flowing rivers through erosion over long periods of time', 'most chloroplasts are found in the leaves of a plant', 'most predators live in the same environment as their prey', 'most predators live near the same environment as their prey', 'motion is a source of kinetic energy in an object', 'mountains are formed by plate tectonics', 'mountains are formed by volcanoes', \"moving an object from a cool place to a warm place causes the object 's temperature to increase\", 'moving changes position', 'moving changes stored energy into motion and heat', 'muscles pull bones to move the bones', 'musical instruments make sound when they are played', 'national parks limit hunting', 'natural disasters can cause animals to leave an environment', \"natural events usually cause changes to Earth 's surface\", 'natural gas is a nonrenewable resource', 'natural gas is a source of heat by burning', 'natural magnetism is used for pointing north by a compass', 'nature is the source of natural resources', 'nearly all fossils are found in sedimentary rock', 'nectar is used for attracting pollinators by plants', 'nerves are made of nerve cells', 'nerves can be used to feel heat and pressure on the skin', 'nervous system is an electric conductor', 'new land can be formed by volcanoes erupting by lava cooling', 'no light shines through an opaque object', 'nocturnal predators hunt during the night', 'non-contact forces can affect objects that are not touching', 'nuclear reactions in stars causes stars to produce light', 'nutrients are a source of energy for living things', 'objects made of glass cause refraction of light', \"oceans contains most of earth 's water\", 'oceans cover 70% of the surface of the earth', 'octopuses releasing ink into the water causes predators to have difficulty seeing the octopus', 'offshore oil platforms might cause oil to leak into the water', 'offspring receive genes from their parents through DNA', 'oil is a nonrenewable resource', 'oil is a source of energy', 'oil is a source of gasoline', 'omnivores are predators', 'omnivores eat plants', 'one day is equal to 24 hours', 'one year is equal to 365 days', 'organisms can be preserved in sedimentary rock', 'organisms live in their habitat', 'painting an object a color causes that object to be that color', 'panting is when an animal hangs its tongue out of its mouth to adjust to hot temperatures', 'paper is recyclable', 'pasteurization reduces the amount of bacteria in milk', 'peat is made of decaying vegetation compacted by soil in a swamp over a long period of time', 'pencil lead contains mineral graphite', 'performing lab expiriments accurately requires understanding all directions beforehand', 'phase changes do not change mass', 'phloem transports materials through the plant', 'photosynthesis makes energy for the plant by converting carbon dioxide, water, and sunlight into carbohydrates', 'photosynthesis makes food for the plant by converting carbon dioxide, water, and sunlight into carbohydrates', 'photosynthesis means green plants convert from carbon dioxide, water, and solar energy into oxygen for themselves', 'photosynthesis means producers convert from carbon dioxide, water, and solar energy into food for themselves', 'planets orbit stars', 'plant cells can perform photosynthesis', 'plant reproduction requires pollination', 'plant requires seed dispersal for reproduction', 'planting native plants has a positive impact on an ecosystem', 'planting trees has a positive impact on an ecosystem', 'plants absorb nutrients from soil into themselves through their roots', 'plants are a source of biofuel', 'plants are a source of fibers', 'plants are a source of oxygen through photosynthesis', 'plants are the source of fruit', 'plants are the source of spices', 'plants control the amount of water in their leaves through transpiration', 'plasma is formed by electrons separating from atoms in stars', 'plastic is a nonrenewable resource', 'plucking a string can cause that string to vibrate', 'pluto has not cleared its orbit', 'poison causes harm to living things', 'poisonous darts are used for defense by sea anemones', 'polar bears live in cold environments', 'pollination is when wind carry pollen from one flower to another flower', 'pollination requires pollinating animals', 'polluting means something poisonous is added to an environment causing harm to the environment', 'pollution is a source of pollutants', 'pollution is when humans pollute the environment with pollutants', 'potential energy changes to kinetic energy through motion', 'pouring water onto soil causes that soil to wash away', 'precipitation is when hail fall from clouds to the ground', 'precipitation is when rain fall from clouds to the Earth', 'precipitation is when snow fall from clouds to the Earth', 'precipitation is when water falls from the sky', 'predators eat other animals', 'predators eat prey', 'preferences are generally learned characteristics', 'preparing for a storm requires predicting the occurrence of that storm', 'processes sometimes produce waste products', 'producer is a kind of role in an ecosystem', 'producer is a kind of role in the food chain process', 'producing light is used for attracting prey by some deep sea animals', 'protein is used to repair cells by the human body', 'pushing a button sometimes completes a circuit', 'pushing an object requires force', 'pushing on the pedals of a bike cause that bike to move', 'quartz scratches glass easily', 'rabbits eat plants', 'raccoons eat garbage', 'raccoons eat waste', 'radiation is when heat is transferred through waves', 'rain is a source of water', 'rainfall is the amount of rain an area receives', 'recyclable means a material can be recycled', 'recycling has a positive impact on the environment', 'recycling nonrenewable resources has a positive impact on the conservation of those resources', 'recycling resources has a positive impact on the conservation of those resources', 'recycling resources has a positive impact on the environment', 'reducing bacteria in food prevents illness in people', 'refracting sunlight causes light to split into different colors', 'refraction causes something to look different', 'refraction is when light bends', 'remora fish eat food by attaching themselves to sharks and eating the food left behind', 'renewable resources can be used over again', 'reproduction is a stage in the life cycle process', 'reproduction is when an organism passes genetic information from itself to its offspring', 'reproduction occurs during adulthood', 'reproduction produces offspring', 'reptiles lay eggs', 'rest has a positive impact on a health', 'riding a bike does not cause pollution', 'rock is made of minerals', 'rocks are a source of shelter for small animals in an environment', 'rocks often contain large amounts of metal', 'rocks sometimes contain aluminum', 'rocks sometimes contain iron', 'roots anchor plants into the soil', 'roots are a vehicle for absorbing water and nutrients from soil into the plant', 'rubber is an thermal insulator', 'runoff contains fertilizer from cropland', 'runoff contains pesticides from cropland', 'runoff is when cropland water enters bodies of water', 'safety goggles are used for protecting the eyes during experiments', 'sand dunes are made of sand', 'scavengers eat dead organisms', 'scientists make observations', 'scraping an object may cause small particles to break off of that object', 'seals every year return to the same beaches to give birth', 'seasonal changes are made in response to changes in the environment', 'seasons cause change to the environment', 'seconds are used to measure time', 'sediment is formed by weathering', 'sedimentary rocks are formed from sediment compacting together', \"seed dispersal has a positive impact on a plant 's reproduction\", 'seed dispersal has a positive impact on a plant', 'seed dispersal is when the seeds of a plant are moved from the plant to a new environment', 'seed dispersal is when the seeds of a plant are spread from the parent plant to another area', 'seed production requires pollination', 'seeds may sprout when buried in soil', 'seeing is used for sensing visual things', 'sending electricity through a conductor causes electric current to flow through that conductor', 'sending electricity through a conductor causes electricity to flow through that conductor', 'shale can be metamorphosed into slate by increased pressure', 'sharp beaks are a kind of adaptation for catching prey', 'shedding is when an animal loses hair', 'shelter can protect animals from weather', 'shelter can protect humans from weather', 'shelter is used for protection by animals against weather', 'shiny things reflect light', 'shivering is when an animal creates heat by shaking to keep the body warm', 'skeletal system is made of bones', 'skidding causes friction', 'skidding causes speed to decrease', 'skills are learned characteristics', 'skin is used for protecting the body from harmful substances', 'sleet is made of ice', 'slope is a measure of the difference in elevation between one part of the land and another part of the land', 'smell is used for finding food by some animals', 'smoking causes direct damage to the lungs', 'snow falls during the winter in some environments', 'snow falls during the winter in the arctic environment', 'snowy means a large amount of snow', 'soil contains nutrients for plants', 'soil erosion is when wind move soil from environments', 'soil is a renewable resource for growing plants', 'soil is formed by rocks eroding', 'soil is formed by weathering', 'soil loss causes grooves in soil', 'solar energy is a renewable resource', 'solar energy is an inexhaustible resource', 'some adult animals lay eggs', 'some animals live in zoo exhibits', 'some animals move quickly to escape predators', 'some animals shed fur in warm weather', 'some birds are predators', 'some birds live in forests', 'some crickets live in forests', 'some deep lakes are formed by glaciers', 'some flowers become fruits', 'some hares live in fields', 'some humans live in houses', 'some light bulbs convert electricity into light and heat energy', 'some lizards live in desert habitats', 'some predators move quickly to catch prey', 'some rabbits live in forests', 'some raccoons live in hollow logs', 'something in a cold place becomes cold', 'something reusable can be used more than once', 'sometimes piles of rock are formed by melting glaciers depositing rocks', 'sometimes weathering rounds rocks', 'sometimes weathering smooths rocks', 'sonar is used to find the location of an object', 'sound can be used for communication by animals', 'sound can travel through air', 'special tissues in plants transport minerals throughout the plant', 'specialized tissues at the ends of plant stems are used for growing taller by plants', 'speed is a measure of distance travelled divided by time', 'speed is a measure of distance travelled over time', 'speed is a measure of how fast an object is moving', 'squirrels eat edible plants', 'squirrels gather nuts in the autumn to eat during the winter', 'stalactites are formed by deposition', 'stars appear to move relative to the horizon during the night', 'steam is a kind of water above 100 degrees celsius', 'stopped means no speed', 'storms can cause a landslide', 'storms cause bodies of water to increase amount of water they contain', 'strumming a string can cause that string to vibrate', 'studying a soil sample means studying the microorganisms in that soil', 'sugar causes food to taste sweet', 'sugar dissolves in water when they are combined', 'sugars are transported from the leaves to the roots of a plant', 'summer is when a hemisphere is tilted towards the sun', 'sunlight and rain can cause a rainbow', 'sunlight contains ultraviolet light', 'sunlight produces heat', 'sweat cools a body', 'sweat is used for adjusting to hot temperatures by some animals', 'swimming is when humans can move in water', 'tadpole changes into a frog', 'tapping two objects together causes the particles in those objects to vibrate', \"tearing an object changes that object 's shape\", 'tearing means changing a whole into pieces', 'tectonic plates being pushed together causes earthquakes', 'telephones convert sound energy into electrical energy', 'temperature changing can cause phase changes', 'temperature is a measure of heat energy', 'the Alps were formed by rock folding', 'the Appalachians were formed by rock folding', 'the Earth absorbs more energy than it loses', 'the Earth being tilted on its axis causes ones side of the Earth to receive less energy from the Sun than the other side', 'the Earth being tilted on its axis causes seasons', 'the Earth contains many ecosystems', 'the Earth revolves around the sun', 'the Earth revolving around the Sun causes the seasons to change on its axis', 'the Earth revolving around the Sun causes the seasons to occur on its axis', 'the Earth revolving around the sun causes stars to appear in different areas in the sky at different times of year', 'the Earth rotates on its axis on its axis', 'the Earth rotating on its axis causes stars to appear to move across the sky at night', 'the Earth rotating on its axis causes the sun to appear to move across the sky during the day', 'the Grand Canyon was formed by the Colorado River flowing over long periods of time', 'the Great Lakes were formed by glaciers moving over the ground', 'the Himalayas were formed by rock folding', 'the Moon completes a lunar cycle over a period of 29 days', 'the North Star does not move in the sky in the Northern Hemisphere each night', 'the Sun is the star that is closest to Earth', \"the ability to access resources has a positive impact on an organism 's survival\", \"the ability to acquire resources has a positive impact on an organism 's survival\", \"the ability to find resources has a positive impact on an organism 's survival\", 'the amount of daylight is greatest in the summer', 'the amount of daylight is greatest on the summer solstice', 'the amount of daylight is least in the winter', 'the amount of daylight is least on the winter solstice', 'the arctic environment is cold in temperature from being at a northern lattitude below 0 degrees celsius during most of the year', 'the arctic environment is covered in snow', 'the arctic environment is white in color from being covered in snow', 'the atmosphere is made of 78% nitrogen', 'the breaking down of food into simple substances occurs in the digestive system', 'the cell membrane provides support for a cell', 'the cells of multicellular organisms can specialize', 'the circulatory system brings oxygen from the lungs to the rest of the body', 'the circulatory system carries oxygen from the digestive and respiratory systems to the rest of the body', 'the circulatory system transports blood throughout the body', 'the cocoons being created occurs during the the pupa stage in a life cycle', 'the color of an object can be discovered by looking at that object', 'the color of fur is an inherited characteristic', 'the coloration of fur is an inherited characteristic', 'the colors of the parts of an organism are inherited characteristics', 'the composition of something can be used to identify that something', 'the condition of the parts of an organism are acquired characteristics', 'the continental shelf is located near the shore', 'the crust is a layer of the Earth', \"the decrease of something required by an organism has a negative impact on that organism 's survival\", 'the digestive system breaks food into nutrients for the body', 'the digestive system digests food for the body', 'the earth has more mass than the moon', 'the excretory system removes waste from the body', 'the first quarter phase of the moon occurs after the new moon', 'the floating arrow on a compass always points towards the north', 'the formation of peat occurs at the bottom of swamps', \"the gravitational pull of the Moon on Earth 's oceans causes the tides\", \"the greenhouse effect is when carbon in the air heats a planet 's atmosphere\", 'the heart is mostly made of muscle', \"the increase of something required by an organism has a positive impact on that organism 's survival\", 'the kidney removes byproducts from the blood', 'the length of the hair of an animal is an acquired characteristic', \"the looseness of soil has a positive impact on a plant 's roots' growth in that soil\", 'the looseness of soil increases the amount of oxygen in that soil', 'the lunar surface contains many craters', 'the mantle is a layer of the Earth', \"the mantle is located just below Earth 's crust\", 'the mass of a planet causes the pull of gravity on that planet', \"the moon 's surface contains flat areas\", \"the moon 's surface contains highlands\", \"the moon 's surface contains many craters\", 'the moon does not contain water', 'the moon is the celestial object that is closest to the Earth', 'the moon orbiting the Earth approximately occurs 13 times per year', 'the moon orbiting the Earth causes the phases of the moon', 'the moon orbits the Earth', 'the moon reflects sunlight towards the Earth', 'the moon rising occurs once per day', 'the nervous system sends observations in the form of electrical signals to the rest of the body', 'the number of body parts of an organism is an inherited characteristic', 'the number of rings in a tree trunk can be used to estimate the age of the tree', 'the ocean contains large amounts of salt water', 'the phases of the Moon change the appearance of the Moon', 'the pupa stage is a stage in the metamorphosis process of some animals', 'the respiratory system takes in oxygen from the air', 'the respiratory system transfers oxygen to the circulatory system', 'the shape of an object can be discovered through feeling that object', 'the shape of body parts is an inherited characteristic', 'the skeletal system protects internal organs', 'the skin is the largest organ in the human body', 'the slope of the land causes a river to flow in a particular direction', 'the smell of rotting meat attracts flies', 'the solar system contains the moon', 'the stars in the night sky are very far away from the Earth', 'the summer solstice is on June 21st in the northern hemisphere', 'the sun causes water to evaporate more quickly by adding heat', 'the sun is a source of heat called sunlight', 'the sun is a source of light called sunlight', 'the sun is located directly overhead at noon', 'the sun is the source of energy for life on Earth', 'the sun is the source of energy for physical cycles on Earth', 'the sun is the source of solar energy called sunlight', 'the sun rising and setting causes cycles of day and night', 'the sun sets in the west', 'the sun setting occurs once per day', 'the sun transfers heat energy from itself to the planets through sunlight', 'the sun transfers solar energy from itself to the Earth through sunlight', 'the surface of the Earth contains mountains', 'the surface of the Moon contains mountains', 'the thickness of the parts of an organism is an inherited characteristic', 'the tide cycle regularly occurs twice per day', 'the top layer of soil contains the most nutrients', 'the type of material through which sound passes changes the speed at which sound travels', 'the type of seed of a plant is an inherited characteristic', 'the vanes rotating in an electric fan causes air to move', 'the volume of an object can be used to describe the size of that object', 'the winter solstice is on December 21st in the northern hemisphere', 'the winter solstice is on June 21st in the southern hemisphere', 'thermal conduction is when materials conduct heat through those materials', 'thick feathers can be used for keeping warm', 'tidal energy can be used to produce electricity', 'tidal range is a measure of the vertical distance from high tide to low tide', 'timber companies cut down trees', 'tinted lenses reflect ultraviolet rays', 'touch can be used for detecting texture', 'transpiration is when water vapor moves from leaves into the atmosphere', 'transpiration usually happens in the leaves of a plant', 'treating water is used to remove harmful substances before drinking', 'trees are a renewable resource', 'tuna eat fish', 'tunnels in soil loosen that soil', 'two females can not usually reproduce with each other', 'uneven heating causes convection', \"uneven heating of the Earth 's surface cause wind\", 'using a car causes pollution', 'using less resources usually causes money to be saved', 'using tools is a learned characteristic', 'usually coral lives in warm water', \"usually craters on planets are formed by asteroids impacting that planet or moon 's surface\", 'usually plants die or become dormant during the winter', 'usually plants store the food they produce for future use', 'vaccines can help prevent illness', 'veins transport nutrients throughout the body', 'vibrating matter can produce sound', 'volcanoes are often found under oceans', 'warm-weather organisms live in warm climates', 'water absorbs solar energy in the water cycle', 'water causes the most soil and rock erosion', 'water flows down a slope', 'water is a renewable resource', 'water is an electrical conductor', 'water is in the gas state , called water vapor , for temperatures between 100 and 100000000000 F', 'water is in the solid state , called ice , for temperatures between 0 and 0 F', 'water is often brackish in an estuary', 'water vapor condensing in clouds causes rain', 'water vapor cooling causes that water vapor to condense', 'water vapor is a kind of water above 100 degrees celsius', 'water vapor is found in the atmosphere', 'wax is an electrical energy insulator', 'wax is an electrical insulator', 'waxy leaves are used for storing water by some plants', 'weathering means breaking down surface materials from larger whole into smaller pieces by weather', 'weathering usually occurs over a period of many years', 'webbed feet are used for moving faster through water by aquatic animals', 'when a body of water receives more water than it can hold , a flood occurs', 'when a cooler object touches a warmer object , thermal conduction occurs', 'when a gas in an open container evaporates, that gas spreads out into the air', 'when a habitat can support living things , living things can live in that habitat', 'when a hibernating frog emergest from mud , that frog has ended its hibernation', 'when a hurricane moves over land , that hurricane will decrease in strength', 'when a mineral is rubbed on a streak plate , some of the material breaks off and forms a powder', 'when a plant grows , the number of the leaves of that plant may increase', 'when a river floods , that river deposits sediment in flood plains', 'when a sound is produced inside of a room , there is sometimes an echo after the sound', 'when a switch in a simple series circuit is closed , electricity will flow through the circuit', 'when an animal eats or drinks something , that animal tastes that something', 'when an animal sheds its fur , its fur becomes less dense', 'when an electrical circuit is working properly , electrical current runs through the wires in that circuit', 'when an electrical conductor is plugged into an outlet , a circuit is completed', 'when available resources decrease in an environment , organisms have to conserve those resources', 'when both a dominant and recessive gene are present , the dominant trait will be visible', 'when electricity flows to a light bulb , the light bulb will come on', 'when electricity flows to a light bulb , the light bulb will turn on', 'when light enters the eye through the pupil , that light falls on the retina', 'when light hits a reflective object , that light bounces off that object', 'when pollen sticks to a hummingbird , that pollen will move to where the hummingbird moves', 'when sound reaches the ear , that sound can be heard', 'when the body is hot , sweat is produced to cool the body', \"when the needle of a compass lines up with Earth 's magnetic poles , the needle points north\", 'when the season changes , the amount of daylight will change', 'when the seasons change from the summer to the fall , the amount of daylight will decrease', 'when water freezes , that water expands', 'white blood cell destroys pathogens in the body', 'wildfire is when a forest catches fire', 'wind and rain cause erosion', 'wind carries dirt from one place to another place', 'wind carries sand from one place to another place', 'wind causes erosion', 'wind is a renewable resource', 'wind is a source of energy', 'wind is an inexhaustible resource', 'wind is used for producing electricity', 'windy means high wind speeds', 'winter in a hemisphere occurs when the Pole located in that hemisphere is tilted away from the Sun', 'winter in the Northern Hemisphere is during the summer in the Southern Hemisphere', 'winter is when a hemisphere is tilted away from the sun', 'wiring requires an electrical conductor', 'wood is a renewable resource', 'wood is an electrical energy insulator', 'wood is an thermal energy insulator', 'xylem carries water from the roots of a plant to the leaves of a plant', 'xylem transports materials through the plant', 'young amphibians breathe through gills']\n",
            "--------------\n",
            "['-2+2=0', '1 day has 1440 minutes', '1 out of 4 people in the world are chronically hungry.', '100 degrees celsius is the boiling point of water', '12:00 PM is noon', '168 hours is a week', '2008 to 2018 is a decade', '24 is most of 30', '3 meals a day is standard', \"35 percent of the world's food crops depend on animal pollinators to reproduce\", '4 feet is the closest distance of the 4 options', '5 degrees Celsius is the coldest of the four given temperatures', '50 degree  is halfway between 0 degree  and 100 degree', '500 mL is a measure of volume', '8 to 9 hours of sleep/rest is optimal for health', '95 degrees Fahrenheit is the hottest given temperature', 'A Dyson vacuum would need electrical energy to function.', 'A Tiaga is a coniferous forest most found in the arctic region', 'A bee may be vital for basil as a pollinator.', 'A being may have more of a chance of survival if it can climb up to tall places', 'A biological entity is a living organism', 'A bird is an animal.', 'A bowl of cereal is an example of a mixture', 'A brick is a kiln fired piece of clay.', 'A brick wall is made of brick', 'A centipede is small animals that can hide under rocks for shelter', 'A chopstick might make a more musical sound.', 'A cockroach is an insect', 'A coconut has nutrients', 'A coin is often made of ferromagnetic metals', 'A cycle restarts when the last step is finished', 'A decomposer may thrive more on old turkey or dead animals.', 'A direct relationship means if one thing increases, the other thing also increases', 'A fallen tree may provide a thriving forest life.', 'A fish can be a tasty morsel to a dolphin', 'A flashlight can be used to create warmness.', 'A fly is an insect', 'A forecast is a places weather', 'A freezing temperature/point is 0 degrees C', 'A generator is gas-powered', 'A giraffe is a mammal.', \"A goat is an animal which has a shiny coat when it's healthy\", 'A gymnosperm is a seed type', 'A home planet tremor is an earth quake', 'A hurricane is a violent storm that occurs over large bodies of water', 'A hurricane is characterized by high wind speeds', \"A koala's home can be destroyed because of exploding hot liquid\", 'A lamps glow emits light', 'A leaf grows larger by absorbing sunlight', 'A learned characteristic could be learning how to do a cartwheel', 'A light switch is an example of a circuit', 'A locale is an environment', 'A log is a tree', 'A lute is a musical instrument', 'A mace has enough structural density and mass to cause enough damage to fracture bones', 'A magnet attracts metals like zippers.', 'A megaphone is the loudest option', 'A metal sword is an electrical conductor.', 'A microscope can act as a refraction light.', 'A mountain bike is a bicycle designed for off-road cycling', 'A mouse eats cheese', 'A navy captain would be on the open seas.', 'A negative temperature that gets higher means its getting more positive', 'A new moon happens once per revolution of the moon.', 'A new moon occurs when the moon is in ecliptical longitude with the Sun', 'A nickel could be a conductor for electrical energy.', 'A paint can can combust under pressure.', 'A pair of glasses is very thin', 'A pan on a hot stove conducts heat', 'A park bend would burn easily', 'A penny could be used as a conductor in electrical currents.', 'A penny could be used as a thermal conductor.', 'A plane has a lot of kinetic energy when it moves.', \"A plane'ts gravity pulls in other bodies towards  it\", 'A plant would prefer Dasani water over orange juice.', 'A pressure wave causes sound', 'A processor of food has an electric motor.', \"A producer produces it's own nourishment\", 'A pulley can be used to pull water from a well.', 'A raw material is required during production like labor and capital', 'A rose bush is a plant.', 'A rusty knife is a chemical reaction.', 'A saguaro cactus is a plant with xylem', 'A sedan has a car engine that must also have an oxidizer for combustion', 'A ship can navigate by always knowing which direction is north', 'A sign of the spring season could be flip-flops.', 'A sloth is an animal', 'A source of heat could be a mini flashlight.', 'A source of pollution might be throwing plastic in the ocean.', \"A species' habitat is those places where it can find food, shelter, protection, and mates for reproduction\", 'A stopwatch can be used to track things in a certain amount of time.', 'A substance used to keep drinks cold is ice', 'A suburb can push organisms like tadpoles out', 'A tall bush is a tree', 'A thermal insulator stops heat from spreading.', 'A thermometer uses mercury level to determine temperature', 'A tire is an electrical energy insulator.', 'A toad has camouflage that would blend into a forest or field.', 'A tomato is consider a fruit and comes from a flower', 'A tree is an example of a producer', 'A typhoon can bring a lot of rainfall', 'A wet shoe will dry faster outside.', 'A wiped out animal is extinct', 'A wooden wall is a thermal insulator', 'A woodland is another name for a forest', 'A yard stick is 3 feet, while a meter stick is 3.2 feet make them close in size', 'A year is 365.3 days', 'A year will see about 52 weeks', 'A zipper is attracted to a magnet.', 'AAAs are a battery size', 'AAs are a type of battery', 'AIDS destroys white blood cells', 'AM and PM represent day and night', 'Above our heads is the atmosphere where water vapor gathers in the form of clouds', \"Acid rain could effect a car's color\", 'Adding layers like a bandaid protects you from damage.', 'Adults that go through incomplete metamorphosis may have wings', 'African Driver ants lay a lot of eggs.', 'African wild dogs are predators of zebra', 'After nutrients are absorbed in the body, the excess is removed through defecation', 'Air and water are renewable resources', 'Air is clearer in the mountains', 'Air is not naturally polluted', 'Airplane fuel is made from oil', 'Akvavit is food', 'Al is aluminum', 'Alcor is the name of a heavenly body', 'Algae give coral their color.', 'All green vegetation contains chlorophyll', 'All living things breathe', 'All species need to make babies', 'Alligators have a wide nose.', 'Amoebas are single cell organisms thus specialized', 'Amur leopards is critically endangered', 'An adaptation that humans have created through the help of science is flying', 'An aluminum mine allows obtaining aluminum to make pop, also known as soda, cans.', 'An animal is an organism.', 'An arctic hare is white', 'An electron microscope can look at my common cold', 'An elephant ear is a large plant', 'An embrace can cause friction and slow an object down.', 'An example of a change in the Earth is when a volcano violently explodes and drops downward, becoming a huge lake of lava', 'An example of a disperser could be giving out an even amount of Fruit Loops to each of my classmates', 'An example of a hypothesis is Drinking sugary drinks daily leads to obesity', 'An example of an electric insulator could be tupprware', 'An example of an electrical conductor could be a coin.', 'An example of an innate instinct is a dog drooling when it sees food.', 'An example of an instinctive behavior is a mother feeding the kids', 'An example of camouflage could be a sting ray covering itself in sand', 'An example of combined substances could be cake', 'An example of electrical energy is audio speakers.', 'An example of feeling is clothes on your thighs.', 'An example of pollution is throwing plastic in the ocean', 'An example of replacing a natural resource like copper might be recycling ores', 'An example of thermal energy is drying our clothes in the sun', 'An increase in resources can lead to organisms experiencing overpopulation', 'An object that is stopped has no speed because it has been halted.', 'An orange in a tree has potential energy; it changes to kinetic as it falls', \"An organism that has an unusual habitat on it's back are carrier snails\", 'An organisms being is its survival', 'An overgrown forest would be dusky or dark and in need of light emitted from a flashlight.', 'An owl is a bird', 'An unborn baby is likely to still be developing and be free from any skin damage', 'Animal poop helps with seed spreading.', 'Animals and Plants are organisms', 'Animals cannot survive in areas which have been destroyed', 'Animals cant reproduce if they are dead', 'Animals change their skin color to hide.', 'Animals need protection from storms', 'Animals that breed quickly will lead to overpopulation', 'Animals the exemplify relationship behaviors are killdeer.', 'Animals underground are safer than those above', \"Animals will die if they don't have warmth in winter\", 'Annelida are decomposers', 'Annelids are earthworms which dig tunnels in soil', 'Anthophila is a clade of insects', 'Antibacterial soap is bad for water.', 'Arctic animas live in snow environments', 'Arizona is mostly desert', 'As I search among classifications, its groupings of materials, and properties, I may be looking for vitamins', 'As air chills, it may push out liquids.', 'As the earth tilts towards the sun spring comes', 'Australia is in the southern hemisphere.', 'BP disaster caused oil to leak into the Gulf of Mexico', 'BP had an oil rig explosion that leaked massive amounts of oil into the Gulf', 'Bacteria are unicellular so their cells are not specialized', 'Bacteria is present in death', 'Bacteria will build up on food out in the open', 'Bad odors contribute to odor pollution.', 'Bamboo has roots', 'Basil is a plant.', 'Bathrooms are where people get rid of bodily waste', 'Bats listen to their voice to guide them.', 'Bats use echolocation when catching their prey.', 'Bears can see in colors.', 'Bears have their fur get thick to prepare for winter', 'Bears use caves for housing.', 'Bees are pollinators', 'Bees are the main pollinators we think of', 'Bees hibernate in the winter to conserve energy.', 'Beeswax is a type of wax', 'Being deeper and wider causes it to have larger volume', 'Belt buckles are magnetic', 'Berries are good for your brain.', 'Bigger flowers have more nectar', 'Bikes have been used to grind coffee beans.', 'Bikes need screws to build them', 'Biofuel is still better than some alternatives', 'Birds can use their beaks to clean themselves.', 'Birds eat fish', 'Birds look for a warm climate when they go south.', 'Bitcoin consumes a lot of electricity', \"Blind people don't have the sense of sight\", 'Blind people use their hands as their eyes to tell the shape of an object.', 'Bluebirds live in families.', 'Bombyliidae are pollinators', \"Brewer's yeast is a single-cell organism.\", 'Brick is a thermal mass which allows insulation', 'Build endurance by exercising in small ways.', 'Builders changed the ecosystem forever', 'Bumble Bees inherited the behavior of hibernation', 'Butterflies have a strong chance of survival if predators decrease.', 'By using permanent things you can avoid waste from disposable items', 'CO2 can be trapped under blankets, and be deadly', 'CO2 contributes to the rise in atmospheric temperature', 'CO2 is carbon dioxide', 'CO2 is the chemical name for carbon dioxide', 'CO2 promotes plant growth, including corn', 'Cacti grow in the desert.', 'Cacti prefer dry environments', 'Canadian nightcrawlers are a decomposer', 'Canyons may still have rafting', 'Cape elephant sengis are pollinators.', 'Car exhaust in the gas phase', 'Caracas is in the northern hemisphere', 'Carbon Dioxide is present in crowded rooms like planes.', 'Carbon is one of the most common elements in organic matter', 'Carpet would stop neighbors below from hearing sound', 'Catfish are cannibal predators.', 'Cats eat mice and other rodents.', 'Cats shed during the summer.', 'Cats shed their fur in the summer', 'Caustic liquid man-made substances would be chemicals', 'Cellular respiration releases  waste', 'Changing an environment can sometimes wreck it', 'Chia is a seed, birds eat seeds', 'Chickens have feathers', 'Christmas occurs in winter, a season', 'Cigarettes have some radiation properties.', 'City-dwellers are human', 'Cleaning companies create a lot of waste.', 'Climate uses long-term statistics', 'Cloth attached to masts are ship sails', 'Clouds are very heavy.', 'Clouds are water vapor', 'Coal starts out as plants.', 'Cobalt is a ferromagnetic metal', 'Coke cans can be reused', 'Columbia is mountainous with loose soil', \"Comb Jellies use light to it's advantage.\", 'Conservationism is the movement behind ecosystem conservation.', 'Consuming ignited tobacco is smoking.', 'Controlled burns help prevent wildfires by cleaning up dead foliage', 'Cooled magma is found at volcanos', 'Coral get their vibrance from algae.', 'Corn is hard to digest.', 'Corn will eventually be a product of human waste.', 'Covering a recently deceased living thing is more apt to preserve it.', 'Cow farts are pollution', 'Cows eat plants like cucumbers.', 'Craters are caused by space rocks', 'Crickets live in rotting trees in the forest.', 'Crop rotation is the cultivation of a range of crop types in a specific order', 'Crows have been seen using tools to acquire food', 'DNA contains chromosomes', 'DNA is a nucleic acid', 'DNA is the double helix', 'DVD players convert energy types', 'Daffodils are plants.', 'Dairy needs to be pasteurized before consumption', \"Daytime is part of Earth's cycle.\", 'Dead organisms like rotting trees provide help for thriving communities in nature.', 'Dead trees are great insulators.', 'Death begins after life', 'December 1st is the day after November 30th', 'December is also during the winter in the northern hemisphere', 'December is the last month of the year', 'Deers are herbivores', 'Deers eat plants', 'Deers need water to survive', 'Desert lizards may sometimes resemble rock particles.', 'Different parts of the world have different seasons at the same time', 'Dihydrogen monoxide is commonly called water.', 'Dimming light bulbs are an example of an electrical circuit.', 'Dinosaur poop has been fossilized.', 'Dinosaurs are likely to be in oil', 'Displacement is the moving of something from its position', 'Dogs are living.', 'Dogs can taste things even if they barely chew', 'Dogs will get used to their new homes', 'Dominant genes are often visible in offspring', 'Doorbells are not related to light energy', 'Driving far away from something will make it look smaller', 'Driving in storms is dangerous', 'Ducks use their webbed feet to navigate.', \"Duracell's are nickel cadmium\", 'During cellar respiration I might find myself with natural face water', 'During photosynthesis plants make their own sustenance', 'During the summer, temperatures are hotter', 'Dutch and other farmers used wind to power blades on windmills', \"Eagles are associated with America and is the animal on a one dollar bill and the long eared animal on a cartoon commonly eating a carrot and saying What's up doc? is bugs bunny which is a rabbit\", 'Eagles might even consume sloths.', 'Early humans studied weather, time and animals to realize the length of a year', 'Earth has a magnetic pull', 'Earth is a wet planet', 'Earth is another name for soil', 'Earth is our planet.', 'Earth orbits the sun; a medium-sized star', \"Earth's magnets pull on compass needles\", \"Earthquakes don't need a lot of time to be destructive\", 'Earthquakes mean that people may need to move.', 'Eating food provides energy to animals.', 'Eating less means you will get smaller', 'Eating more than you burn off leads to weight gain', 'Eating something if you feel faint after a lot of activity.', 'Electric cars can have empty batteries and still run.', 'Electric currents cause Joule heating', 'Electrical energy is used to cook bread.', 'Elephant Ear leaves will receive a lot of sun because they are large', 'Elephants are animals', 'Encourage seeds to grow by using the heat from a table lamp.', 'Energy from the yellow dwarf star closest to us is solar energy', 'Energy stored due to the relative positions of charged particles or electric fields is electrical energy', 'Erosion can turn a statue to dust.', 'Erosion is a form of soil loss', 'Ethanol is blended with other gasolines.', 'Evaporation is a form of losing water', 'Evaporation is part of the water cycle, which repeats itself', 'Evaporation is when water rises from the Earth to the sky', 'Everything on the moon is seen in reverse order', 'Examples of deep sea animals are angler fish and frilled sharks', 'Exhaust from a car is a type of gas', 'Experiment with evaporation by using two mason jars with liquid in them.', 'Explosions destroy communities.', 'Extinction is not simply limited, it is literally no remaining', 'Extracting coal is a form of mining.', 'Eyes are used for seeing', 'F is a unit for the measure of temperature', 'Factories cause co2', 'Fahrenheit is a unit of temperature', 'Fe is iron', 'Fecal matter is a waste product', 'Feces is the organic waste expelled from an organism', 'Feed an animal more food to gain weight', 'Feeling is sensing fabric on the skin.', 'Fiji is a small island that will be swallowed by raising water levels', 'Finches love thistle like Sweet Sultan.', 'Finger nails harbor bacteria', 'Fire is a chemical reaction', 'Fire is fueled by wax', 'Fires, although dangerous can help with growth.', 'First an area of the ocean has to become land, then a wooded area can cover that land', 'Flashlights can have many uses.', 'Flauna are all animals', 'Fleas are insects.', 'Flowering plants need pollination to reproduce', 'Flowers contain plant cells', 'Flowers decompose when pulled from the ground.', 'Foil is shiny', 'Food contains energy for humans.', 'Food is needed with all animals', 'For density to remain constant, volume must increase if mass increases', 'Force is equal to mass time acceleration.', 'Ford was the person selling the product', 'Fossil Fuels can be ancient poo.', 'Freezing places tend to get a lot of snowfall', 'Frigate Bird are fast predators.', 'Frigid temperatures would require a source of heat for people to stay warm', 'Frogs have zero eardrums', 'Frogs start their lives in eggs in ponds.', \"From it's position the North Star is visible all year long from the North Pole.\", 'Gas shapes do not stay the same', 'Geese flying from michigan to Florida is migration', 'Genes are produced during reproduction.', 'Get out of the sun occasionally.', 'Getting sick effects health', 'Glaciers have slow hidden rivers', 'Gold has more tightly packed matter because it is dense.', 'Gold is dense from water.', 'Golden retrievers pant', 'Graphite comes from rocks', 'Graphite is soft enough to be scratched by a fingernail', 'Greenhouses are great for plants like French beans', 'Groupers are fish', 'Gypsum is formed via chemical weathering from anhydrite', 'H20 is the formula for water', 'H20 is water', 'H2O accumulation is flooding', 'H2O fall is water falling', 'H2O haze is another form of water vapor', 'H2O is the chemical compound for water', 'H2O is the chemical equation for water', 'H2O is water', 'H2O is water and running it is a waste', \"H2O is water's chemical compound\", 'H2O is water, a raw material', 'Halloween is never celebrated in summer', 'Hamsters would thrive if Eagles died out.', 'Harming an animal worsens its situation', 'Having a cucumber has a positive impact on health', 'Hawks are carnivores', 'Healthier people are in better shape and body building is a form of exercise', 'Heat conducts thermal energy.', 'Heat is necessary only in winter', 'Heat moves from a stove to a pan', 'Hexane boils at 69.1 degrees Celsius', 'Hibernation is an instinct', 'Hitting a child would have a negative impact on them.', 'Holding hands could be a source of heat.', 'Honey bees have 170 odorant receptors, compared with only 62 in fruit flies and 79 in mosquitoes', 'Honolulu has mountains', 'Honolulu is an island made from lava', 'Horny toads are reptiles', 'Hot water is best for cleaning your hands.', 'How many minutes are in an hour', 'Human contact creates heat.', 'Humans adapt to sunny environments by wearing sunblock', 'Humans adapt to warmer climates by wearing sunscreen.', 'Humans are capable of discerning the rhythm of audible elements when they reach the ear', 'Humans are made up of water and other matter.', 'Humans construction kills habitats', 'Humans feel hot on the fingertips', 'Humans poison the environment by dumping trash into the pacific.', 'Hummingbirds contribute to seed dispersal by eating flower parts', 'Hummingbirds help with pollination', 'Hummingbirds help with pollination.', 'Hunting animals will decrease their numbers', 'Hurricane Harvey dumped heavy rains on Houston which caused flooding', 'Hurricane Maria was a storm that occurred in 2017', 'Hypothermia causes sleepiness', 'I can measure my body with a tape measure.', 'I can see melting occur when I bake macaroni because the cheese melts.', 'I can use a ruler to measure the space between my toes', 'Ice is solid water', \"Ice wedging changes the Earth's surface.\", 'Ice, such as glaciers, are a solid form of water', 'If I want to protect myself from the ultra violet rays I can wear a sweater.', 'If I wanted to maintain energy I could nap', 'If I wanted to make something move faster I could roll it', 'If a river is on a right-sloping area of land, it will flow to the right', 'If an illness compromises an organism enough, it can die', 'If north is to the right, then straight ahead is west.', 'If the soil is loose, oxygen can get in easier', \"If there's a lot of snow, its snowy\", \"If you hold the compass sideways, one end of the compass's needle will point down into the earth, and the other will point up\", 'If you want energy, consume bread.', \"If your hands are behind your back you can't touch an object in front of you\", 'Immobile plants benefit from mobile animals taking their seeds to other locations', 'In an auction a seller avoid too large of a loss by setting a reserve price', 'In some fish, their fins may be used for balance.', \"Inantimate objects don't reproduce\", 'Independence Day is in summer when there is more daylight', 'Indium is a metal', 'Infancy is a stage of the life cycle process', 'Ingestion means eating or drinking', 'Insects have six legs.', 'Insects often metamorphose', 'Instincts are behaviors or thoughts we are born knowing', 'Interviews are used to collect data.', 'Iron is Fe on the table of elements', 'Iron things are made of iron', 'Irons can take wrinkles from an item worn on the body to cover the skin from the elements', 'It gets dark early during December.', 'It is dark at night', 'It is safest to breathe unpolluted air', 'It takes 30 days for the moon to go around our planet', 'Its hard to find water in a desert', 'Jackrabbits have elongated legs.', 'January has shorter days.', 'January is a winter month', 'January is cold', 'January is in the winter', 'Japan dropped bombs on Pearl Harbor', 'Japan has Earthquakes', 'Jello changes from a liquid to solid.', 'John Muir advocated for protected areas', 'July is a month during the summer', 'July is in the summer', 'July is in winter in the Southern Hemisphere', 'June 1st is the first day of winter in Australia, which is in the southern hemisphere', 'June 21st is the summer solstice in the northern hemisphere', 'June is in summer and is 2 months after April', 'June is in the summer, November is in the fall, the daylight decreases by hours', 'June is the month after May', 'June is the summer in the USA', 'Jupiter has more gravity than most planets', 'Jupiter is a large object', 'Jupiter is a planet', 'Jupiter is a planet with rotations that cause cycles of day and night on the planet', 'Kangaroos have webbed feet', 'Knives can be used to chip away objects, like rocks.', 'Lake Erie is a body of water.', 'Lake Huron is a body of water', 'Lake Ontario was formed from a glacier moving', 'Landslides are caused by multiple causes', 'Landslides may effect communities.', 'Larger fins enable the fish by pushing more water at a given time', \"Larger spleens are an adaptation from spending most one's life in and around water\", 'Lassie is a dog', 'Lava flows slowly.', 'Leaves are an example of biofuel.', 'Leaves falling from trees means the weather is changing, and it is time to wear a coat.', 'Lesser whitethroats are birds.', 'Lice can be found in your hair and have an incomplete metamorphosis.', 'Lifeforms require water to live', 'Light bulb production effects the ocean negatively.', 'Light holders are made from brass', 'Light must be present in order for eyes to differentiate objects', 'Lightening is a combustion of rain and ice.', 'Lions are predators which live near their prey, Zebras.', 'Listeria is a bacteria and when people are ill they often have a fever', 'Lizards eat bugs for nutrients', 'Locations that sit at a lower elevation are much more likely to be heavily affected by flooding than a higher location.', 'Long periods of time without nourishment leads to starvation', 'Lophiiformes include anglerfish', 'Loriciferans are the only animal that can survive without air', 'Lots of rain can damage the carpet.', 'Louis Pasteur did research on vaccinations', 'Low temperatures means not many species can survive there', 'Lumber comes from a tree which is a source', 'Lupus is a very negatively-impacting disease', 'MP3 players use buttons to turn on and off', 'MRIs are made of magnets', 'Magma has iron in it.', 'Magnetism can produce Isotope Creation', 'Make noises by tapping objects against each other.', 'Make sure to have an umbrella during warm fronts.', 'Making pasta by boiling water helps to see evaporation happen.', 'Many other birds, such as horned larks, quail and sparrows, sleep on the ground in dense vegetation', 'Many species have small amounts of magnetite to guide them as they migrate', 'March is Spring in the Northern Hemisphere', 'Marconi invented the radio', 'Mars is also made of rock, while the larger planets are made of gas', 'Mars is next to Earth', 'Mars revolves around the sun', 'Matter in the liquid phase fills the container it is in', 'Meadow Voles are hard of hearing.', 'Meat repairs cells', 'Medicines originated in forests.', 'Mercury is close to the sun', \"Merriam's elk is extinct\", 'Metallica band members are humans.', 'Metals are metallic', 'Metamorphosis is complete at  adulthood', 'Meyer lemon trees have a sweet fruit', 'Microwaves heat up cold things', 'Mines are found beneath the earth', 'Minneapolis is in a cooler climate than Miami', 'Molecules have a neutral charge.', 'Moles are an inherited from parents.', 'Moles on the body could be an inherited characteristic.', 'Monkeys and humans are similar', 'Monocropping depletes the soil of nutrients', 'More deer, an organism, survive when there is more vegetation, which they eat to survive', 'More trees, less carbon in atmosphere', 'Morocco has a desert environment', 'Moving toward something will let you see it better', 'Moving will make you feel warmer', 'Mushrooms thrive on moisture, which makes the Amazon, a forest environment, ideal.', 'My father gave me the same color eyes.', 'N is nitrogen', 'Na, sodium, added to Cl, chloride, makes salt', 'Natural gas reacts with other substances to deliver energy and is being depleted', 'Naturally preserved organisms are called fossils.', 'Nature needs to be protected or natural resources go away', 'Nebraska is the coldest of the given states.', 'Nectar is a sweet liquid found in flowers', 'Neodymium is an earth magnet', 'Neptune is a celestial body', 'Neptune is a planet', 'Neptune is the roman god of sea', 'New Zealand is in the southern hemishere', 'New Zealand is in the southern hemisphere', 'New forests reproduce and replenish wood', 'Newton described gravity', 'Newton was a scientist that discoverer of gravity', 'Non mammals do not birth live young', 'Nutrients are required for plants to live', 'Nutrients from food and water are needed in order for an organism to survive', 'O2 is air which is measured with a barometer', 'O2 is oxygen', 'Objects get bigger as you get closer', 'Obstacles that might impede a dune are cacti', 'Ocean water has more mass and density than pool water', 'Oceans are water, boat travel on water', 'Octopuses use ink to defend themselves', 'Oil can be used once, not multiple times', 'Oil shale and gas are not renewable', 'Once it is considered very like that the entire population of an organism will reach 0, that organism is considered endangered.', 'Once you use all of something it is impossible to get more', 'One breed of penguins, the Galapagos Penguin lives in the warm waters off the coast of Equador', 'One example of changing an objects shape is making glass into a birdhouse', 'One seasonal change in the environment is low temperatures and less food in the winter compared to the other seasons', 'One type of electrical circuit that requires a switch could be dimming table lights', 'One way humans may be polluting the Earth without realizing it is by using antibacterial soap', 'One way to remember the method of Scientific Classification is to make a sentence', 'One way to retain your own thermal energy is to wear a sweater.', 'Only people with certain genes are capable of turning their tongue.', 'Organisms can die from being too cold', 'Orion is a constellation of stars', 'Ospreys have claws', 'Our inherited traits come from parents DNA', 'Our planet is Earth, which has a cold season in the northern hemisphere in the month of December', 'Our surroundings are effected in many ways during different seasons', 'Oxygen from the air is taken to the bloodstream', 'Oxygen is a gas', 'Paleontologists study fossils like old animal feces.', 'Panama is in the northern hemisphere', 'Pans could be made from ferrous metals.', 'Paper suitable for recycling  is  often used to produce cellulose nanofibers', 'Papua New Guinea is in the southern hemisphere', 'Parents are how we inherit things', 'Peat can help raspberry seeds grow.', 'Peat helps tomatoes grow.', 'Penguins are aquatic animals.', 'Pennies are made from copper which can be used as electrical conductors.', 'Peppers are a type of carbohydrate that contains peppers.', 'Perfume is a liquid', 'Pesticides can cause illnesses', 'Photosynthesis features single-celled organisms.', 'Pine can grow through concrete.', 'Places like, Osaka, Japan are prone to Earthquakes.', 'Plankton can produce as well as consume nutrients', 'Plants are eventually utilized in soil for newer plants', 'Plants are producers because they use the sun to create food.', 'Plants are unable to grow in freezing conditions', 'Plants can be upright thanks to the structural support of stems', 'Plants die in the winter', 'Plants die or become dormant when they decrease water intake in roots and branches', 'Plants get their nourishment from soil', 'Plants hold chlorophyll in their leaves', 'Plants like roses consume carbon dioxide.', 'Plants need light to grow', 'Plants produce glucose in the light.', 'Plants produce their own sustenance.', 'Plants use the sun for their food.', 'Plants use water and sugar to create their own sustenance.', 'Plants will lose their color in the winter', 'Plateaus are frequented by lightening', 'Play dough is a flexible container.', 'Play-Doh is softer than diamond', 'Pluto is the ninth planet', 'Pluto was changed from a planet to a meteor', 'Polar Bears have thick fur to thrive in cold weather.', 'Polar bears are arctic animals, that spend most of their time swimming.', 'Polars bears are white, camouflaging them in the snow', 'Pollution dirties the air', 'Predators crave the taste of the sweet flesh of prey like mice', 'Predators kill others', 'Predators poor vision makes camouflage work', 'Predators will eat their prey', 'Preditors adapt traits that help them catch prey.', 'Prey are easily enticed by light', 'Pull weeds by the root to kill them', 'Pumice is a kind of rock', 'Pumpkins sprout from seed', 'Puppigerus was a sea turtle', 'Putting a flower in food dye allows you to see how the xylem works.', 'Putting plastic over a plant speeds up the process of evaporation.', 'Putting something cool on your hot body will cool you down', 'Quartz are in hollow spaces.', 'RVs are made from iron.', 'Rabbits tunnel underground.', 'Raccoons are animals', 'Raccoons can see in the dark', 'Racquetballs are fast', 'Rain also occurs in other places like planetoids.', 'Rain helps communities thrive.', 'Recorders are sometimes electromagnets.', 'Recycling is another form of conservation', 'Red blood cells help your breathing boxes', 'Redeeming aluminum cans at a store or recyling center is one example of this', 'Redwood National Park is a forest of giant trees', 'Redwoods are a type of tree that could be found in a forest', 'Redwoods are trees', 'Reflection is due to how difficult it is for light to pass through it.', 'Reflectors are effective at night', 'Refraction is the manipulation of an object with light.', 'Renewable resources are environmentally friendly', 'Reproduction means a development of genes like a hairline.', 'Reptiles have small brains.', 'Respiration deals with the gases in our body.', 'Reuse fabric instead of throwing it away.', 'Reusing things means less trash', 'Revenge is an instinctive human behavior.', 'Rhododendron is a plant', 'Ride your bike in nice weather.', 'Rigel is a star, which produces light', 'Rising air pressure means better weather.', 'Rock is an aggregate of minerals', 'Rotting organisms smell bad', 'Rubber is the material in many shoes', 'Rubbing knees causes friction.', 'Rubbing rocks together for a while will make them smooth.', 'Salamanders might be found under garden statues.', 'Salt was currency at one time.', 'San Bernardino does not get snow in the winter', 'Sand clay is an inexhaustible resource.', 'Sand clay is an renewable resource.', 'Sardines are fish', 'Save water to make it last', 'School children often play a musical instrument by sweeping thumb across elastic band over a beverage carton', 'Science fact: as the sale of a product decreases , the amount of money made by the person selling that product will decrease.  However, sales could possibly grow with advertising.', 'Scottish moors are a habitat', 'Screws are a primary component to hold bike together', 'Sea Anemones look like flora.', 'Seals are born on waterfronts', 'Sediment occurs because of rain.', 'Sedimentary rock is hardened, old silt.', 'See evaporation in action by leaving two mason jars out with different levels of gatorade', 'See how the plant stem works by putting a plant into food coloring and water.', 'Seeds are the plants method of reproduction', 'Sense of touch is usually associated with hands', 'Shag carpets have more friction and are hard to slide on.', 'Shelter is one of the basic human needs along with food, water, and companionship', 'Shrews are small mammals eaten by raptors, which are a bird of prey', 'Single sound source reflects in form of an echo', 'Skin can protect your squishy bits', 'Skin contact could be a source of heat.', 'Sleep is needed to be healthy', 'Sleeping is healthy for humans.', 'Sleet is potentially dangerous.', 'Slow a person down by hugging them.', 'Slow dripping water leads to formation of stalactites', 'Smoking can effect your loved ones as well.', 'Smoothies provide nutrients for the body.', 'Snow fall takes place in many areas, but Arctic in particular', 'Snow storms make it hard to see.', 'Soda cans are made of metal', 'Soda is metal', \"Soil is like Earth's skin.\", 'Solar Energy can power household appliances like a coffee grinder.', 'Solar energy might be used for making pasta.', 'Solid water is ice', 'Some Baby bats start hunting a month after being born.', 'Some animals are slow', 'Some animals use coloration to protect themselves.', 'Some cars use biofuel for energy', 'Some caterpillars use camouflage to look like poop', 'Some fish are carnivores and cannibals.', 'Some frogs may urinate on their eggs to keep them moist.', 'Some high places used to be underwater', 'Some human activities can create brackish water, like swimming tubs.', 'Some lizards form eggs inside themselves.', 'Some monkey babies can be raised with two parents.', 'Some people have an extra rib.', 'Some plants have developed the ability to catapult their seeds.', 'Some pupa may go into sand.', 'Some sea anemones are highly toxic to people like Sarah.', 'Some things are non mater', 'Something that could cause harm to an animal could be punches.', 'Something that may effect a child negatively could be punching them.', 'Sound is the primary use', 'South is traditionally where animals migrate', 'Speaking to a plant gives it carbon dioxide.', 'Spinach provides nutrients to grow.', 'Spring changing to summer means there is more daylight to work', 'Sprite containers are usually plastic bottles or aluminum cans, which are recyclable', 'Squirrels conserve nuts over winter', 'Squirrels eat edible flowers.', 'Stars revolve in the sky', 'Steak is from an animal', 'Steel wool is made of metal', 'Stevie Wonder is blind', 'Stingers can be painful', 'Stonefish are able to camouflage', 'Stonehenge is made of rocks.', 'Stones that skip across water are flat and smooth', 'Substances are specifically redesigned during such reactions', \"Sugars are important for a plant's diet.\", 'Summer Solstice is in June', 'Sunlight is in an important factor in communities.', 'Swamps are uncultivated bodies of water also known as marshes.', \"Sycamores are trees and a tree's stem is called the trunk\", 'TV screens are usually glass', 'TV was invented was invented on earth.', 'TVs require alternating current to function', 'Tea can boil', 'Tectonic plates are like a large jenga', 'Telescopes use mirrors to collect and focus light', 'Terns are cold weather animals.', 'Terra cotta is clay mixed together.', 'Territory is where an ecosystem is', 'Teslas are electric vehicles', 'The Alps are located in Europe', 'The American television miniseries about slavery is called Roots.', 'The Arctic Circle is cold', 'The Caribbean Sea is part of the Atlantic Ocean', 'The Earth is categorized as the third planet in our solar system.', 'The Earth is far away from the sun during the summer solstice.', 'The Earth is the third planet from the sun', \"The Earth's energy creates a magnetic field.\", \"The Earth's surface is changed quickly by an earthquake.\", 'The North Star is made of many stars.', 'The Norwegian government maintains a special storage chamber 800 miles from the Arctic Circle', \"The Sahara desert can exhaust someone's supply of water\", 'The Sahara is a desert', 'The Sahara is a desert environment', 'The Sea of Tranquility is on the moon.', 'The Southern cave crayfish has no eyes', 'The amount of water a plant receives is much greater in the Spring', 'The arctic is desolate.', 'The batteries of a flashlight use chemical energy', 'The cause of a wildfire could be as simple as a ciggy', 'The change opposite to expansion is compression', 'The circulatory system is so long it could be wrapped around the Earth.', 'The color of an object is the result of the way the object reflects or emits light.', 'The colors are to mimic an owls eyes and scare smaller birds', 'The decomposition process will leave only the bones in the end', 'The earth is larger than other items listed', 'The first step in the food chain is always a producer like a green plant', 'The formula for BMI requires weight', 'The four seasons are winter, spring, summer, fall.', 'The human diet which only eats plants is vegan', 'The less food there is, the more conflict there will be', 'The light is then turned into energy', 'The lungs are in the chest', 'The lungs are the largest part of the respiratory system', 'The maillard reaction is a chemical reaction that gives browned food its flavor', 'The main cavity of the volcano is called the throat.', 'The mantle is solid bulk.', 'The moon has craters and smooth areas', 'The moon has dead volcanoes.', 'The moon is full just under a month out of the year', 'The moon is only about 238,000 miles from earth', 'The moon sees eclipses in opposite ways from the earth.', 'The more a species gets killed, the more likely it goes extinct', 'The mountains on the Moon are not volcanic.', 'The objects the push up through the deep black stuff are plants which provide fruit', 'The ocean floor effects the types of tides in different locations.', 'The only ball of burning gas in our solar system is the sun.', 'The only true conservation is never to touch it.', 'The presence of sunlight causes it to be daytime.', 'The pull between planets is gravity', 'The rain forest has a lot of vegetation', 'The scientific name for water is hydrogen dioxide.', 'The sea is a large museum full of many artifacts.', 'The seasons in the southern hemisphere are opposite', 'The stomach is an internal organ', 'The sun causes water to evaporate', 'The sun does not move, only our earths rotation aids in the view of stars', 'The sun gives off no light when its night', 'The sun heats mountains and desserts at different rates', 'The sun is a source of heat for the earth', 'The sun is good for environments in nature.', 'The sun is overhead at noon.', 'The sun is strongest at midday', 'The sun is the closest yellow dwarf star', 'The sun is the star that Jupiter revolves around', 'The sun is thousands of miles away and would require lots of fuel to venture to', 'The sun rising occurs once per day', 'The sun sets early in December.', \"The sun's rays produce heat.\", 'The temperature changing may produce daisies.', 'The tongue is the speediest healer in the body.', 'The tree remains with its rings, they simply change size', 'The wind makes things smaller over long periods of time.', 'The winter solstice is marked by less light', 'There are echos in empty rooms when you scream', 'There are four main steps in the water cycle', 'There is a lot of water vapor in the air during a hurricane', 'There is less sunlight when under a tree', 'There is water in the Pacific Ocean', 'Thermal Conduction transfers heat from one object to another.', \"They didn't have sophisticated navigation technology in the 18th century\", 'Things can move further away, even when approaching them', 'This change is to keep them warm, similar to a human with a heavy winter coat', 'Thorius adelos is an amphibian and forest is an example of land', 'Though seems rare, this is actually the case often', 'Throwing trash in the ocean is pollution.', 'Throwing trash into the ocean is also pollution.', 'Throwing your papers away is protecting the environment', 'Thunder clouds weigh quite a lot.', 'Tilapia is a type of fish', 'To avoid ultraviolet rays, cover up.', 'To pass on heat one might hold hands', 'To transfer heat from person to person use skin contact.', 'Toasting a bagel uses electrical energy.', 'Too much fat would be unhealthy', \"Toucans' beaks can be used for skinning fruits\", 'Toyota is a brand of vehicle', 'Traffic flows through a green light.', 'Trains are vehicles', 'Transpformers blowing at 11 pm would make it dark', 'Trees are plants', 'Trucks are larger than plates and barrels and can hold more food', 'Try biking in sunny weather.', 'Tuna have bigger fins than seahorses', 'Tungsten is an electrical conductor', 'Tupperware is a thermal conductor.', 'UV light creates Vitamin D in humans, which promotes the creation of serotonin', \"Unlike bird eggs, reptile's eggs are symmetrical.\", 'Use a flash light to mimmic the sun for plants.', 'Using seeds as fish bait can help spread seeds.', 'Vaccines are made of weakened agents of the virus or bacteria', 'Vegetables like cucumbers contain water and are moist.', 'Vehicle scraps contain ferrous metals.', 'Violins create vibrations or quakes that make sound.', 'Voles are cousins of moles', 'Walking away from where a compass needle points will lead you south', 'Warm liquid helps sooth the throat and esophagus', 'Waste and trash are found in dumpsters', 'Watch how a plant steam works by putting it in food colouring.', 'Water is a form of matter, freezing is a change of state', 'Water is used to keep up hydration', 'Water must be clean to consume safely', 'Water rises and falls twice a day', 'Water vapor helps habitats.', 'Waxy leaves are considered to have clothes.', 'We pollute by throwing things in the ocean.', 'Wear layers to prevent damage.', 'Wear protection when working with chemicals', 'Wearing thicker clothing like socks can protect my skin.', 'Weathering breaks things down.', 'Weathering can change the size of a statue over time.', 'Weathering could be changing a statue to dust', 'Wheat is the first cereal crop to be cultivated by man', 'When I hear news of a warm front I make sure to bring waterproof boots', 'When heading north, and needing to go south, simply turn around and walk the opposite direction', 'When mercury is placed in water, it sinks.', 'When there is less food, animals starve.', 'When you heat butter,  it melts.', 'When your temperature drops, you shiver', 'Wide tree rings mean thriving trees.', 'Wildfires passed through tree tops is rapid, and fast.', 'Wind Energy is re-useable.', 'Wind can be replaced', 'Wind can be used as energy to make pasta.', 'Wind can knock down trees and you can plant a new one', 'Wind can turn a statue to dust', 'Windmills are produced', 'Winter and Autumn are seasons', 'Winter is attributed with cold temperatures', 'Wisconsin is north of Illinois.', 'Without food, animals die', 'Without food, you starve', 'Without oxygen, animals die', 'Wood can be reused to make a dresser.', 'Wood is dried out to make beds.', 'Wrap a bowl of water in plastic to see evaporation happen.', 'Wrecking a spiders web means they cant catch food', 'Xenons are light bulbs', 'Xylem absorbs water from the bottom of a plant', 'Yeast rises as its temperature increases', 'You can build a bench from a tree.', 'You can create reusable energy with body heat.', 'You can find mountains in the ocean.', 'You can find worms on the crust of Earth.', 'You can look at the pores in plants with a microscope.', 'You can make a telescope at home.', 'You can make an instrument from a paperclip.', 'You can see an electrical circuit in motion when making toast.', 'You can support a growing plant with a yard stick.', 'You can use a flashlight as a source of heat.', 'You can use a mini flashlight for heat.', 'You can use a sheet of paper to protect your eyes from the sun.', 'You can use paper to help clean windows.', 'You can use paper to help wipe grime.', 'You can use plants like star anise for sustenance seasoning.', 'You cant change how short you are', 'You cant change how tall you are', 'You cant kill anaimals in yosemite park', 'You could find organic matter in a rabbit.', 'You gain more mass and are harder to move when you get older', 'You have to learn skills', 'You measure things like a phone with a ruler.', 'You might recycle plastic by creating beanies.', 'You might see light reflect off of mist.', 'You need to look at a solar eclipse indirectly or you will hurt your eyes.', 'You need to raise foods temperature to cook it', 'You will be hotter at noon due to the sun', 'Your car can be damaged by acid rain.', 'Your home planet is earth.', \"Your organs receive less water if you're sweating for long periods of time.\", 'Your parents determine your height', 'Zimbabwe is in the southern hemisphere', 'Zippers are attracted to magnets.', 'a  a Sunda Colugo is an animal (and not a rhino)', 'a Great Dane is a type of animal that sheds fur', 'a Liger is an animal that can thrive when there is enough to eat', 'a Punnett square has at least four boxes', 'a Red Giant is a star', 'a badger is an animal', 'a bag of gas produces thrust by releasing gas at a high speed', 'a banana is a food item', 'a banner is a flag', 'a beach ball is an inflatable toy', 'a bearded dragon is a lizard', 'a bicycle involves motion of the wheels and pedals', 'a bike requires no fuel', 'a bill is another form of a birds beak', 'a biological trait is one that is inherited', 'a black-tailed deer may caution other deer of danger by slamming a hoof to the ground', 'a blizzard is a very snowy day', 'a bloated pond floods', 'a bloodhound is an animal', 'a body maintains this kinetic energy unless its speed changes', 'a boom in population is an increase', 'a boulder is very thick', 'a breeze is a form of wind', 'a breeze is wind', 'a bright clear day implies sunlight', 'a broken down body has less mass', 'a brook is a water source', 'a bulldozer breaks down a building', 'a bush can act as a shelter for small animals', \"a bush's role is that of a producer\", 'a button is a switch', 'a byproduct of photosynthesis is oxygen', 'a campfire cooks meats which often results in them stiffening due to the proteins getting denatured', 'a candle is an item made from a petroleum product with a cord sticking out the top', 'a car is propelled by gasoline', 'a car weighs around 5,000 lbs', 'a caterpillar becomes a colorful invertebrate known as a butterfly', 'a cattail is a kind of green plant', 'a cave is used as shelter', 'a cavern is an underground chamber', 'a cell contains a nucleus', 'a cell phone can be magnetic', 'a centipede is an animal', 'a century is a period of many years', 'a change is an adaptation', 'a chevy 2000 is a car', 'a chevy ride is a vehicle', 'a child is an organism', 'a circuit can be copper or steel', \"a circuit is completed when it's closed\", 'a circuit is needed for the bulb to work', 'a circuit is the path energy follows', 'a circuit made intact is completed', 'a clean air act is a pollutions standard followed by manufacturers, which are factories', 'a climate can change due to delogging', 'a climatic term is a season', 'a closed circuit is completed', 'a closed in area with no air will get too hot', 'a cloth satchel is an object which can be used more than once', 'a cold front brings colder weather', 'a cold front brings cooler temperatures', 'a command base is like a control center', 'a common problem removing body waste in the excretory system is having the runs', 'a compact with a mirror can reflect light that can be seen a long way off', 'a compass can track orientation', 'a completed circuit allows electricity to flow', 'a computer requires electricity to run', 'a continent is a large mass of land', 'a cord is an electrical conductor', 'a cows utter is the source of dairy', 'a crashing comet is closet and brightest before the crash', 'a creature burying itself in the ground is camo', 'a creature that eats flesh is a predator', 'a creatures belly size is an indication of their weight', 'a cup of hot tea and a glass of iced tea are some things which transfer heat', 'a curling iron is electrical', 'a curling iron radiates heat', 'a curved surface has a slope', 'a daffodil is a flower', 'a dangerous animal is frightful', 'a day is twenty four hours', 'a day-night cycle is a day', 'a dead tree will stopping growing', 'a decade is many years', 'a decade is ten years', 'a deluge is heavy rain', 'a desert is a dry environment', 'a displayed habitat is a zoo', 'a dog is an opaque object', 'a door knob is a simple wheel and axle machine that humans provide the energy to make work', 'a downstairs apartment would benefit from noise muted from an upstairs apartment', 'a drain spout causes water to pour into the soil', 'a drained lake is gone', 'a drained puddle contains less available water', 'a dresser crab is an organism that looks like its environment', 'a dry spell is a drought', 'a duplex is a house', 'a fat beak is used to crack nuts and shells', 'a fault line is a crack', 'a female platypus is a mother', 'a fibrous mass is an example of a trunk', 'a ficus plant release oxygen, as a step in photosynthesis', 'a fiery reaction is combustion', 'a filament is a metal thread', 'a fixed wing aircraft is a plane', 'a flag is lifted', 'a flashlight is portable and something that emits light is useful to see in places without light', 'a flood plain is a level area near a steady flow of water', 'a flooded habitat can no longer support chickens, which are animals', 'a flower procreates when pollen from another flower is deposited by bees', \"a flying plane increases it's distance\", 'a forceful gale is wind erosion', 'a forest is a condensed area of trees', 'a forest is a large area dominated by trees', 'a forest is a spacious area mostly covered with trees and undergrowth', 'a forest is a treed area', 'a fortnight is two weeks, a month is four weeks', 'a fossil forms after a very long time', 'a fox needs rabbits for food', 'a freshly waxed car is a reflective object', 'a frozen liquid is no longer a liquid', 'a full moon is a phase of the moon', 'a full moon is a phrase of the moon', 'a full moon is at the opposite end of the lunar cycle', 'a full moon is one of the phases of the moon', 'a fundamental feature of all life is reproduction', 'a gain may be achieved by absorbing', 'a gale is wind', 'a giant sequoia is a tree', 'a girder is made with carbon steel', 'a good influence is a positive impact', \"a graduated cylinder is a container with a printed scale on it's side\", 'a growing snowball is an object with increasing mass that will require a stronger person, who can exert more force, to push it', 'a gust is a strong wind', 'a habitable space is one which living things will inhabit', 'a harpsichord is an instrument that makes sound through vibrating strings', 'a heated wire would be hot to the touch', 'a hefty object is heavy', 'a higher level is raising an object', 'a higher reading mean greater air pressure', 'a hill create large amounts of resistance when pushing a car', 'a hippopotamus is an organism', 'a home is nearest where animals consume food', 'a horned viper lives in the sahara', 'a horse barn would contain horses', 'a horse is an animal', 'a hot engine makes surrounding materials hot as well', 'a human child is an animal', 'a human powered two wheel vehicle is a bicycle', 'a hurricane is a violent disturbance of the atmosphere with high winds', 'a hurricane is considered a catastrophic natural event', 'a lack of light is the only valid environmental change', 'a lake evaporates to form a cloud', 'a lake is a body of H2O', 'a lake is a body of water', 'a lake is a reflective object', 'a lake that dries up is gone', 'a landfill is a trash heap', 'a lawnmower is harmful to animals', 'a leaf absorbs sunlight to perform photosynthesis until a lounge chair obstructs the solar rays', 'a leafy shrub is green', 'a leaning tower is a building', 'a learned characteristic is a toddler banging with a stick while parent hammers', \"a leveled tree can't survive\", 'a lifeless life form is a dead organism', 'a light bulb is a a blown piece of glass with a wire inside', 'a light bulb is plugged into the wall, which contains electrical wires that connect to the electric grid and power plant', 'a light bulb is unable to work if it is just on a shelf', 'a light bulb provides warmth', 'a light can be reflected from another room', 'a limit might be in place for deer hunting at the park', 'a lion is an animal whose food intake decreases when underfed', 'a loupe is a small magnifying glass', 'a lower elevation is a decreased elevation', 'a maggot to fly is also metamorphosis', 'a magnifying glass is an enlarger', 'a male and female are needed to reproduce', 'a mammals temperature only changes when ill', 'a mantel is over a fireplace, and that sounds like mantle', 'a marlin is a predator', 'a match can light up the candle', 'a match causes fire', 'a menstrual cup is reused while the alternatives are thrown away', 'a metamorphosis happens in a cocoon', 'a metamorphosis is a mutation', 'a micro-scratch test determines which rock formations are the hardest', 'a mild heat can melt items', 'a mile away is quite far', 'a millennia is many years', 'a mirror is a reflective piece of glass', 'a mirror is made of silicon and silver nitrate', 'a mixed drink is a mixture', 'a mode of conduct is the way an animal behaves', 'a mom is a parent', 'a monkey is an animal', 'a month has about 30 days', 'a motion thats frontward is going forward', 'a mouse is a prey to a cat', 'a mouse is an organism', 'a mouse is prey to other creatures', 'a moving vehicle needs friction to stop', 'a muddy road becomes dry when the water evaporates', 'a mug has a smaller surface area than a bowl', 'a museum can be shelter', 'a nail can be a non-contact force', 'a negative impact could be described as bad', 'a newt is an amphibian', 'a nikon device is a camera', 'a non example of hibernation is sleeping, naps, and comas', 'a notebook can be used to collect data', 'a palm frond is a flat leaf', 'a palm is a type of tree', 'a palm tree is a producer', 'a paper is folded several times to make a fan', 'a parakeet is not an anphibian', 'a peach pit is a seed', 'a period of millions of years is a very lengthy amount of time', \"a person can't see very well when it's dark\", 'a person uses an umbrella when water falls from the sky', \"a person's diet determines nutrient levels\", 'a persons flesh is their body', 'a persons insides are their body', 'a pet with flippers is sometimes kept in a bean-shaped container with fake tree', \"a phase change is a reversible change that doesn't change a matter's chemical makeup or properties\", 'a phase shift is a change in the state of matter', 'a pickup is a vehicle', 'a pine is a tree', 'a pine tree is a plant', 'a plank can be used as an inclined plane', 'a plant light can produce sunlight type of lighting', 'a plant that has grown more is taller', 'a plasma star is in the process of having plasma on it', 'a plastic dinner container is a flexible container', 'a plastic tote is a flexible container', \"a polar bear's environment is white, like his fur\", 'a pollywog is an animal that metamrphosis into a frog', 'a pond is a body of water', 'a pond is a water source', 'a ponds of less size in include no more pond at all', 'a positive adjustment is a positive impact', 'a power cable is a conductor', 'a powered metal fence can cause electrocution', 'a prairie is an environment', 'a puddle is a small body of water', 'a puddle is less deep than a river, lake, or ocean', 'a pulley uses a string or rope', 'a pulley uses pulling to move things', 'a pyramid is sloped', 'a quaking on a microscopic level can be vibrating particles', 'a radio produces sound but not light', 'a rain puddle is a liquid', 'a rainbow is usually seen after rain', 'a raised welt that has lasted years would be a scar', 'a rat is an organism', 'a rattlesnake is an animal', 'a raven is an animal', 'a raven is likely to migrate', 'a red maple is a tree', 'a refrigerator is an electric device', 'a refrigerator runs by electricity', 'a residence is a shelter', 'a resource that cannot be readily produced is nonrenewable', 'a revolution of the moon is 27 days', 'a river is a path of water flowing consistently', 'a room with a roof lets in sunglight', 'a rosebush is a kind of plant', 'a rotting ship is a nonliving thing in a marine ecosystem where organisms known as sponges can be found', 'a run over animal is likely dead or dying', 'a running boiler is hot', 'a running engine is how the car engine gives off heat', 'a rutted surface is rough', 'a safe is a heavy object', 'a salamander is an amphibian', 'a scale would show if your pet was overweight', 'a scope can view on a micro level', 'a screw is metal', 'a scuba diver usually goes a lot deeper than an average swimmer', 'a season is a division consisting of a particular weather pattern and hours of daylight', 'a sedan is a type of vehicle', 'a sharper drop in a slope is where water will run', 'a shift can fold rock', 'a shove is a push, or a repelling action', 'a shrew is an animal', 'a shudder is a vibration', 'a sidewalk is a hard walkway that runs alongside a street', 'a similar height is inherited', \"a single cell organism can't have specialized cells\", 'a single tortoise cannot make offspring', 'a singular instance is one time', 'a six sided shape is known as a hexagon', 'a skunk smells bad', 'a slant is a tilt or lean', 'a slash is a wound', 'a sloth is an organism which moves slowly to conserve energy in order to survive', 'a soccer ball and the turf interact with each other via friction', 'a solar cycle is equal to 1 day', \"a solid changing to a liquid won't effect the weight\", 'a space stone is an asteroid', 'a sparrow weights far less than a vulture', 'a species community is its population', 'a species is a type within a bird classification', 'a speedometer measures speed', \"a spider's web is made of a silk like thread\", 'a spyglass can be used to emulate distance between objects being shorter', 'a squid tries to avoid orcas', 'a squirrel buries nuts and then retrieves them in the winter', 'a squirrel is a living thing', 'a stag is a male deer and timberland is a forest', 'a stalactite is a rock formation found in caves', 'a steak is sliced meat which rots when left on a counter for an entire day', 'a stove can boil water, which is a liquid used to make egg noodles', 'a stove in an electrical device', 'a stove is an electrical device', 'a stove is an object that appears white because it reflects all wavelengths of visible light', 'a sunflower is a plant', 'a sunny desert is warmer than a rainy forest', 'a switch closes the circuit using copper metal', 'a sword is made of metal', 'a symptom of food poisoning is an upset stomach', 'a telescope is a cylinder with mirros inside it', 'a thermal protector is an insulator', 'a thing that is in the air is is not caught will fall', 'a tight space is small', 'a toaster is a popular thermal energy conductor used to toast cool soft bread into hot toasted bread', 'a tongue is a warm object and metal can be a much cooler object', 'a tortoise moves slowly', 'a trail having tree dweller is a monkey', 'a tree filled environment is a forest', 'a tree hopper is a frog', 'a tree is a living thing', 'a tremor is an earthquake', 'a trip is usually measured in miles or kilometers', 'a vase is an object', \"a viola has strings which create vibrations that are perceived with one's ears\", 'a vulture is a bird', 'a waiting person is not in motion', 'a warm kiss uses pressure and heat', 'a waterfall is a nonliving thing', 'a weaker bug is an organism', 'a willow is a producer using photosynethsis', 'a winter coat is another form of animal hair', 'a wolf is a living thing', \"a wolf's nose is on its snout\", 'a world is a planet', 'a wren is a type of bird', 'a xapping energy is electrical', 'a yard stick is one meter', 'a yell is a shout', 'a yellow dwarf is a star', 'a yellow shirt reflects sunlight better than other colors of clothing', 'a youngling is young', 'a zebra is an animal', 'a zone condition is the climate', 'abandoning is leaving a habitat', 'abrasion is a form of friction', 'abrasion is another way to say weathering', 'abrasion is friction', 'abrupt electric discharge is lightning', 'abusive relationships are harmful relationships', 'accelartion is a change in velocity, which implies something is moving', 'access to roofless space provides plants and plant cells with sunlight', 'acid is a chemical', 'acid is not something to drink', 'acorns are a type of nut', 'acorns are part of a plant', 'acorns can be toxic to many animals', 'acquired characteristics are determined by environmental factors rather than heredity', 'acquired characteristics can happen in a dangerous place', 'acres are land that crops are planted in', 'active physical effort is exercise', 'active turbines produce alternating current', 'ad infinitum means over and over again', 'adaptation is changing to meet the enviroment', 'adapting to needs, such as hunger, can develop new traits', 'adding a water feature would increase available water', 'additional force is gravity', 'adequate sleep is required to be well rested', 'adjusting a thing is a change', 'adjusting is adapting', 'adjusting location is moving', 'adjusting shape and color is camouflaging', 'adjusting speed can increase speed', 'adobe is a type of clay', 'adobe is made of clay like brick', 'adults are at a later stage of the life cycle process and die of old age', 'adults have babies', 'advances in food transport is what leads to the ability to move food around the world', 'age markings on tall plants are rings in trees', 'aged enough to reproduce is adulthood', 'agreeable temperatures are warm', 'air flow can carry seeds to new environments', 'air goes from the head through the neck to the rest of the body', 'air is a gas', 'air is a mixture of gases which expands when heated', 'air is a natural resource', 'air is made up of nitrogen and oxygen', 'air motion is wind', 'air only begins to pass through the lungs at birth', 'air pressure is a measure of how tightly the molecules are pressed together', 'airfare refers to paying to take a flight, on a plane, through the skies', 'algae needs submersion', 'algae perform photosynthesis', 'all animals need to be warm enough to live in the cold without dying', 'all animals require oxygen', 'all items are made of matter', 'all living things breathe', 'all living things can adapt', 'all living things need water to thrive', 'all non conductive materials are good energy insulators', 'all parts of the plant together make a single plant', 'all plants are Flora', 'all shiny surfaces are polished', 'all trees have growth rings', 'alligators live in marshland', 'alligators mostly live in swamps', 'alluring is magnetic', 'along with wind and water power these are renewable', 'alter is to change', 'alteration is a change', 'altered soil is moved and lost', 'aluminium foil is a thermal energy conductor', 'aluminium is a type of metal', 'aluminium is reflective', 'aluminum can be in the form of trays', 'aluminum conducts thermal energy', 'aluminum is a metal', 'aluminum is used to make the shiny metallic foil paper', 'ammonites are fossils', 'amoebas are tiny and would be easier viewed thru the magnifying effect of a microscope', 'amphibians are carnivores', 'amphibians are cold blooded and can not survive the cold', 'amphibians that have hatched are tadpoles', 'an acquired attribute happens over the lifetime of the organism', 'an active insulator slows electrical transfers', 'an adult queen is female', 'an anaconda is an animal', 'an animal gets acquired characteristics from its parents', \"an animal is physically able to reproduce when it's in its adult form\", 'an animal leaving an environment reduces the number of that animal in that space', 'an animal might place the seed in another location', \"an animal's fur forms their coat\", \"an animal's health would suffer in an environmental lacking nutrients\", 'an animals housing situation is its habitat', 'an animals tongue is the only place they can sweat', 'an anteater is an organism', 'an area without sunlight is cooler than an area with sunlight', 'an attribute is a characteristic.', 'an eagle is a bird', 'an eagle is the national symbol for the US, a salmon is a fish', 'an echo is a delayed reflection of a sound', 'an electric fan converts electrical energy into mechanical energy', 'an environment is also an ecosystem', 'an exact matching color is blue', 'an expanse of water is an ocean, forested land is a wooded area', 'an experience for the nose is a smell', 'an extinct species no longer exists on the earth', 'an extremely rapid surge of rising flood water that moves across usually dry land is powerful enough to lift a 250-ton object off the ground', 'an herbivore is an organism', 'an ice sculpture is a solid', 'an icy day increases skidding risk', 'an igloo would survive in a cold environment', 'an incinerator is the enviroment', 'an incline is a slope', 'an increase in eye size leads to better eyesight', 'an increase in fat leads to increased weight', 'an increase in water level causes things floating on the surface to rise', 'an inimical impact is harmful', 'an iris is a flower', 'an iron is hot', 'an island is close to the ground', 'an mp3 player is an example of a simple series circuit which has a switch in the form of a power button', 'an oak can replace itself also', 'an oak is a plant', 'an oak is a type of tree', 'an object gets warmer when heat is transferred to it', 'an object outside is more distant than an object in the same room', 'an objects configuration is its shape', 'an objects locale is its location', 'an ocean is a large body of salty water', 'an odor is a smeller perception', 'an old car would be fueled by gasoline', 'an omnivore includes animals in its diet', 'an open box containing tasty seeds would be a bird feeder', 'an open circuit fails to allow electricity to flow', 'an open circuit is an incomplete conductive path', 'an organism can also die without having enough heat', 'an otter can hunter', 'an oven can heat up a space', 'an umbrella is need when there is a chance of rain', 'an un-raked yard is covered with leaves, and worms will live there', 'an underground crawler is an insect', 'ancestors are family members', 'ancient crustaceans are often found in rock', 'and earth orbits the sun', 'andesite is a kind of rock', 'angler fish produce light in an organic lure', 'angler fish use lights to attract prey', 'angular and round are different shapes', 'animal can die if burned', 'animal groups decline when fires destroy food in ecosystems', 'animal need housing to protect them from bad weather.', 'animal populations do well when they have food and not too many predators', 'animal reproduction requires another of the same species to mate with', 'animals are biodegradable', 'animals are hunted', \"animals aren't aware that they are transporting seeds stuck to their fur\", \"animals aren't producers, decomposers, or something else\", 'animals burn calories to produce energy which in turn warms the body to a constant temperature', 'animals commonly called earthworms include annelids', 'animals do metamorphosis also', \"animals don't eat, drink or excrete while hibernating\", 'animals eat food to gain nutrients', 'animals get hot in warm weather, which spurs the fur loss', 'animals in hot environments become dehydrated more quickly', 'animals in snow need to stay warmer', 'animals include zebrafish', 'animals lose less water, or retain more water, in the cold', 'animals migrate to where the food is', 'animals move beneath soil to avoid predators from above', 'animals need defense mechanisms to protect themselves', 'animals need to keep warm in the snowy season', 'animals need to mate in order to not go extinct', 'animals poop out seeds so they can grow again', 'animals receive energy in the form of complex carbohydrates', 'animals take in oxygen', \"animals that can't adapt go extinct\", 'animals that eat plants rely on those plants to perform photosynthesis', 'animals that migrate are habitual creatures', 'animals use rocks to defend themselves from bad weather', 'animals who have lost their habitat will vacate', \"animals with live births don't lay eggs\", 'another example of camouflage is appearing to be something else found in an environment', 'anteaters are animals', 'anteaters eat ants', 'anteaters primarily prey on ants', 'anthills are small spaces', 'anthracite is a resource known as coal', 'anthropogenic means man made or originating from humans', 'anti bacteria soap destroys good bacteria', 'ants are small', 'any nutritional material is considered food', 'apes eat insects', 'apparent means obvious or easy to see; increased', 'appendages can sense touch', 'apples are fruits', 'arctic areas are cold', 'arctic environments are chilly', 'arctic foxes blend into white snow', 'area near the edge of oceanic frontier is shore', 'areola are around nipples', 'arid means dry', 'arid means very dry', 'arid region is a desert', 'aroma means smell', 'aromas are picked up by a sense of smell', 'aromatic means to fill the air with a scent', 'art classes have many pencils', 'arteries transport nutriment', 'as a flower ripens it becomes more pungent', 'as an object losses it energy it becomes colder', 'as an object moves up through the air, the pressure on that object will decrease', 'as bacterial resistance to antibiotics rises, the ability of medical professionals to treat bacterial-related conditions in humans will decrease', 'as object become more clear they are better observed', 'as predators increase, harm can come to prey', 'as the earth makes it yearly orbit it wobbles closer and farther from the sun', 'as we enter winter the earth shifts away from the sun and the daily hours decreases', 'ascending is to go up', 'asphalt becomes extremely hot after asborbing sunlight', 'asphalt is a type of rock', 'asphalt is much rougher than snow and friction causes heat', 'asphyxiation is suffocation, which happens when air is removed', 'assets can be resources', 'assistance is what pollinators provide to plants', 'asteroids are made of rock', 'asteroids enter to atmosphere to make craters', 'astral beams are sunlight', 'astral bodies are celestial objects', 'astral light is the sun', 'atmospheric air delivers sound', 'atmospheric water droplets collide to form larger droplets which fall from the sky as precipitation', 'atomic bombs cause the ground to shake like earthquakes', 'attaching the conductor to a battery sends electricity to it', 'attraction is a preference', 'attributes are properties', 'avian creature is a bird', 'avoiding fire is to keep safe', 'ayers rock is in the southern hemisphere', 'babies need milk to live', 'baby animals cannot regulate body temperature well alone in winter', 'baby plants have fewer leaves than adult ones', 'back and forth is daily cycle', 'backyard vegetable gardening is a form of low-scale farming', 'bacteria are potential illness causing organisms', 'bacteria are single celled organisms', 'bacteria can be beneficial to humans', 'bacteria causes sickness', 'bacteria grows when food is not properly preserved', 'bacteria have cell walls and no organelles', 'bacteria is found in the gut, it is called gut flora', 'bad water can decrease animals populations', 'badgers are animals', 'baking has chemical reactions', 'baking is applying heat, which can melt matter', 'balances do not sort, classify or break things', 'ball meeting ground is hitting', 'balloons and balls are gas filled', \"balloons often go up when they're not held down\", 'bamboo grows quickly', 'bamboo is a living thing', 'bamboo is a plant', 'banana peels are waste from eating bananas', 'bananas are a plant which co-evolved with bats to adapt for seed dispersal', 'banging drums is playing an instrument', 'barely using something is conservative use', 'bark and canopies are parts of a forest', 'bark covers trees and after it expands it adds a ring', 'barracudas are living', 'baseballs need force to be a home run', 'bass are fish', 'bass are fish which live in liquid; water', 'bass is a type of fish', 'baths add humidity to air', 'bats do not lay eggs', 'bats fly', 'bats live in caverns', 'bats navigate during flight use sound reflection', 'bats use sonar to navigate', 'batteries and vinegar have different properties', 'batteries are a form of chemical energy', 'batteries are a source of electricity', 'batteries provide electricity to the doorbell', 'battle is fighting', 'beach sand is mostly comprised of quartz', 'beakers can be used during experiments', \"beaks are on the front of a bird's face\", 'beans are seeds', 'bears are living things', 'bears eat other living things too', 'bears hunt for honey', 'bears live longer by consuming a more varied array of prey', 'bears prey on fish in rivers', 'beavers are animals and there is more food available after winter', 'beavers building their homes, dams, cause lakes, H2O sources, to form', 'bedbugs are living organisms', 'beef turns from red to brown when it cooks', 'bees are a pollinator and dandelions are a flower', 'bees are pollinators', 'bees make honey', 'beetles are predators', 'before heaters, you had to burn wood', 'being a predator means catching prey', 'being exploded means you fell in harms way', 'being physically prepared to reproduce is adulthood', 'being safe is best with chemical splashes', 'bell peppers and hot peppers are related crops', 'berries grow on berry bushes', 'berries have seeds', 'berries have seeds inside', 'between them is the same place', 'biannually is twice a year', 'bicycles require continuous circular motion on pedals', 'big cats are nocturnal predators', 'bikes are pedaled when ridden', 'binoculars improve far sighting', 'binoculars look at things far away', 'binoculars would be useless for observing something near, close or beside the viewer', 'birches are in forests', 'bird sometimes regirgitate food to their young', 'birds are animals', 'birds are flying creatures', 'birds are living things', 'birds eat for nourishment', 'birds eat fruits from trees also', 'birds feed on seeds from flowering trees in tropical waters', 'birds get off the ground by flying', 'birds have no teeth', 'birds lay eggs', 'birds leave states when they migrate during certain new seasons', 'birds live in nests', 'birds migrate to find warmer places for the winter', 'birds often live in trees', 'birds such as geese relocate when weather gets cooler', \"birds with short beaks can't reach small spaces\", 'birth is a stage in the life cycle process', 'birthing young is a part of reproductive behavior', 'bisexual reproduction is not a thing', 'black pips are black seeds', 'blaze up is heating up', 'blazing temps are heat', 'blizzards are examples of bad weather', 'bloated pools are flooded or overfilled with rising water', 'blocking in can be with fencing', 'blood transports oxygen', 'blood vessels transport blood', 'bloodhounds have the strongest sense of smell', 'blowing pipes is playing an instrument', 'blubber keeps the body temperature up', 'blue jays are birds', 'blue spruce are trees', 'blustery is a synonym for windy', 'boats are directed with ship wheels', 'boats travel relatively fast', 'body postures and layout can be inherited', 'body spray is gas', 'boiling changes a liquid to vapor', 'boiling is a method of treating water', 'boiling is when a liquid goes from a liquid state to a gas', 'boiling produces bubbles', 'boiling water has bubbles', 'bones are a part of an organism', 'bones are made of calcified material', 'books are typically made of paper', 'boom is a term used for population increases', 'boosted ecosystems have greater populations of organisms', 'boring is digging', 'both represents the dominant and the recessive', 'botulism is a bacteria', 'boulders are rocks', 'bouncing and reflecting are the same', 'braces are wired and metal', 'braille is reading by using your finger to determine the shape of the word.', 'brains are inside heads', 'branches are found in trees', 'branches are plant fragments', 'branches come from trees, a raw material', 'brass is a metal', 'brawn is strength', 'bread getting harder is a chemical reaction', 'bread is a carb', 'bread is a carbohydrate', 'bread makers are an electrical device that receive electricity through a working power cord', 'breaking down is decomposition', 'breaking rocks is weathering', 'breathable air is made of oxygen', 'breathing is respiration in animals', 'breathing is taking in air', \"breathing on a tissue dampens it due to breath's water vapor\", 'breeze is wind', 'breezes disperse seeds', 'bricks are opaque', 'bright days offer the most visibility', 'brisk means quick', 'briskly is quickly', 'broccoli is a plant', 'broken bones are acquired', 'broods are offspring', 'bubbling water is boiling', 'bubbling water on a stove is boiling', 'buds are a part of the plant needing nourishment', 'bug killer is poisonous, and a pollutant', 'bugs are insects', 'bugs are organisms', 'building in a habitat harms animals', 'building nests is instinctive behavior', 'building requires the clearing of land.', 'bunkers are underground, which shakes during earthquakes', 'burned things are seared', 'burning is a chemical reaction', 'burning is when something burns', 'burning requires combustion', 'burns can cause scars', 'burying something means it has died', 'buses can use alternative fuels', 'businesses pollute often and are run by humans', 'butter is a solid that melts in boiling water', 'buttercups are plants', 'buying supplies is part of preparing for a storm', 'by using plants that need different elements the soils is not stripped', 'cacti are tough plants', 'cactus are plants', 'cactus perform photosynthesis', 'cake batter cooks when heat is applied', 'cake is not required for photosynthesis', 'calcium is a mineral', 'calibrating is making adjustments; adapting', 'calories are energy in food', 'camel humps hoard energy in the form of fat', 'cameras can record memories', 'cameras have tented lenses', 'cameras preserve images by recording them', 'cameras record audio and visual', 'camouflage is a misdirection', 'camouflage is used as a survival strategy against predators', 'camouflage is when you blend into the environment', 'campfires are hot substances', 'campfires contain fire', 'campfires produce light', 'can are made of aluminum', 'candles are lit by sparking a wick with fire', 'candles burn with the energy from oil', 'canines pant when hot', 'cans are aluminum', 'canyons are formed by rivers', 'canyons can develop over millennia', 'canyons have echoes', 'carbon dioxide is a gas', 'carbon is a base raw material', 'carbon steel will attract a dime', 'carbonation reduces flatness', 'carbonic anhydride is carbon dioxide', 'carbs are a sugar', 'card stock is recyclable', 'careless handling of chemicals can lead to accident splashing', 'carnations are flowers', 'carnations are plants', 'carnivores are dependent on prey who would leave during a fire', 'carnivores eat moles', \"carnivores' diets consist of animals\", 'carpenter ants are a type of organism', 'carpet has roughness and friction', 'carpet is not a natural habitat', 'carpet would stop the sound of a guitar', 'cars and factories increase air pollution', 'cars are made of metal', 'cars can run off ethanol', 'cars make pollution', 'cars make the air less clean and healthy', 'cars run on gas', 'cars use motors to move', 'cashews are edible', 'cast iron stove use timber to produce fire', 'castles that are made by children at the beach are made of sand', 'catabolic reactions are a part of cellular respiration', 'catching prey is for nutrients too', 'catching up with prey matches fast speeds', 'catfish are an aquatic animal', 'cats are predators of rats and carnivorous omnivores', 'cats can eat too much perch', 'cats play with laser beams', 'cats will get used to their new homes', \"cats, dogs, and snakes don't need to eat any vegetables\", 'cattle prods require electrical energy', 'caverns are dark', 'caves are dark', 'cease is a stop, or a decrease', 'ceased existence is death', 'celestial bodies are stars', 'celestial bodies include space rocks', \"celestial objects are where in the earth's atmosphere\", 'cell phones are metal', 'cellos carry sound', 'cells are batteries', 'cells are greater than the sum of their parts', 'cells require support to keep them together', 'cells work together in large numbers', 'cellular respiration takes place in life forms', 'ceramic is reusable', 'cereal is made from corn', 'cereal is made of corn', 'certain aspects do not change even though state does', 'chameleons blend to avoid detection', 'chameleons can adapt skin color to environment', 'chameleons disguise themselves', 'change a car tire is a learned ability', 'changing appearance, or blending in with natural environment counts', 'changing to liquid is a change in state of matter', 'charcoal is used as cooking material', \"chargers don't have light bulbs\", 'charring happens after the burn', 'charting likelihood is done on Punnett squares', 'cheese is dairy', 'cheese is made of milk', 'cheese is often in blocks that are shredded, grated, or shaved', 'chemical change occurs when molecular bonds are broken', 'chemical changes can produce smoke', 'chemical substances found in every living thing are nutrients', 'chemicals are removed including vitamin d', 'chemicals on food help keep bacteria low', 'cherries are the only berries with seeds on the inside', 'chest contains the lungs', 'chewing breaks down food', 'chia seeds are seeds', 'chickadees are birds', 'chickadees are birds that build nests', 'chicken contains protein', 'chicken is high in protein', 'chickenpox is a type of illness', 'chickens eat worms', 'chickens have two legs', 'chickens have wings', 'children inherit characteristics of parents', 'chilling is cooling', 'chilly is cold', 'chilly nights and warm days can cause dew in mornings', 'chimneys are on the roof', \"chimps are mankind's closest relative\", 'chipmunks must store nuts', 'chlorophyll is found in chloroplasts', 'chlorophyll is green', 'chlorophyll is healthy to consume', 'chlorophyll is inside of leaves', 'chlorophyll is responsible for photosynthesis and undergo natural development is to grow', 'chloroplast contain chlorophyll which does the photosynthesis', 'chloroplasts are green organelles', 'chloroplasts are specialized compartments in plant cells', 'chloroplasts contain chlorophyll for photosynthesis', 'chrysalis are part of the metamorphosis process', 'chrysanthemum is a green plant - the others are not', 'chub is fat', 'chunks are filtered out of water', 'churros are sweetened with sugar', 'cigarettes can start a fire if not put out', 'circles are tree growth rings', 'circling up there is is flying in the sky', 'circuits need a plug to work', 'circulating air is moving', 'circulating is flowing', 'circulatory system is a series of passages', 'citrus juice contains acid', 'clams are in shells', 'clams live in oceans', 'claws are appendages from feet', 'clear mountain lakes reflect light', 'clearing brush is a first step in repurposing a natural environment for human use', 'clicks are high pitch sounds that can travel thousands of miles', 'climate can generally be relied upon', 'climate change is connected to the presence of carbon dioxide', 'climbing is an instinctive behavior', 'climbing is another way of saying rising', 'closing blinds blocks out sunlight, which contains UV rays', 'cloth pads are reusable', 'clothes need dryness to dry', 'cloud precipitation is rain', 'clouds are likely to precipitate', 'clouds are made of water', 'clouds are water vapor', 'clouds contain moisture', 'clouds hide the sun', 'clouds obscure the sun', 'clouds often turn from white to gray before it rains', 'clovers are plants, which are producers', 'clucks are vocal noises', 'clumps of gases are stars in the night sky', 'coal absorbs solar energy because it is black', 'coal and limestone are organic remains', 'coal and oil are raw materials', 'coal ash results from burning coal and is very harmful to breathe', 'coal is a fossil fuel', 'coal is a major source of energy generatino', 'coal is extracted by mining', 'coal will eventually run out', 'coal will one day run out', 'cobalt is a metal', 'coconut oil goes from solid to liquid in heat', 'cocoons are created after the caterpillar stage', 'cocoons are hard shells', 'coffee and cream mix well', 'coffee and creamer mix well', 'coffee can be hot', 'coffee is a hot substance', 'coke is substance made of carbon dioxide, a substance and sugar, a substance dissolved in water', 'cola added to things can change them chemically', 'cola is very acidic', \"cold blooded animals can't regulate their body temps without external heat\", 'cold things are harder', 'cold water can chill a hot dish', 'colder climates are closer to the poles', 'coldness is temperature related', 'collecting and accumulating are the same', 'color can be described', 'color is passed down to offspring in reproduction', 'combustion is the same as burning', 'commodity is a resource', 'commonality means have in common', 'compass is a disc with an arrow', 'compass needles aim towards magnetic poles', 'compasses are used by pirates', 'compasses are used by seamen', 'compasses direct users north', 'compasses face north', 'compasses use magnets', 'completed circuits have electrical flow in lights', 'completing a circuit occurs on your phone', 'concrete can break', 'concrete is smoother than gravel and chafing is from friction', 'condensation happens most often as air cools', 'condensation is a phase change', 'condensation is a stage in the water cycle process when a moist film is on my spectacles', 'condensation often happens on glass surfaces', 'condensed liquid can form on a cold beverage', 'condensing precipitation is condensation', 'conducting is directing', 'conduction is when electricity is directly transmitted through a substance', 'conductors conduct', 'confetti can be made by tearing a sheet of paper', 'conserving resources is necessary as resources become scarce', 'constellations are formations of stars', 'constellations are star formations', 'construction activity can harm some animal species', 'construction nails are made of metal', 'contact is touch', 'continuous availability is renewable', 'controlling blood temps is a part of being cold-blooded', 'converging is touching', 'cookie dough is a food that gets cooked', 'cooking food reduces bacteria in it', 'cooking involves heating nutrients to higher temperatures', 'cooking is a chore', 'cooking kills bacteria', 'cool temps are in single digits', 'copious means many', 'copper and zinc are the two metal in this alloy', 'copper conducts electricity', 'copper is a conductor', 'copper is an electrical conductor', 'copper is an electrical conductor for wiring', 'copper is on the priodic table', 'coral is the most diverse of all marine ecosystems', 'cording is wiring', 'corn and peanuts are crops', 'corn and wheat are Americas biggest crops', 'corn can fuel buses', 'corn is a plant', 'corn is a plant material', 'corn is now available in Africa', 'corn slurry is starchy, and is used to make ethanol', 'cotton is a poor conductor', 'cougars eat other animals, like voles', 'counter cookers are often stoves', 'cows also eat plants', 'cows are an animal harmed by incineration', 'cows are animals that use receptors on their tongue to taste', 'coyotes are predators', 'coyotes are predators which prey upon roadrunners, a an animal that moves quickly to escape them', 'cranes are levers', 'craters are caused by explosions/impacts on the moon', 'craters are generally from asteroid impacts', 'craters are very large', 'crawling is not a sensation', 'cream and coffee are liquid substances', 'creasing is folding', 'creatures are animals', 'creeping buttercup contains nectar', 'critters are organisms', 'crocodiles are a major predator', 'crop rotation is changing which crops are planted from season to season', 'crops are destroyed by flooding', 'crops are grown on farms', 'crops need pesticides', 'crops would thrive more on grasslands', 'crows are living things', 'cruising is moving', 'crumbs are bits of food', 'crushing is crumpling', 'crying is a negative impact from harm, such as pain from being struck', 'crystal sucrose is table sugar', 'cupcakes are cooked', 'cupcakes may be cooked', 'curtains can be measured in inches and its components', 'cuts are acquired.', 'cutting down a forest destroys forest animals habitat', 'cutting down trees produces deforestation', 'cycles do not emit pollutants', 'cyclical means having a cycle, such as water has a cycle', 'cylinders with lenses make distant objects appear closer', 'daffodils are flowers with leaves', 'daffodils are plants', 'daffodils are plants, which are producers', 'dahlias are living things', 'dalmatians have hair that can be shed', 'damage is easier to cause to thinner objects', 'damming a river created a reservoir', 'damp gutters hold algae', 'dampness comes from water, which plants require to grow and live', 'dampness is water', 'dams are made of concrete', 'dams are manmade means of sourcing hydropower', 'dams stop or slow moving water', 'dandelions are food that deer can and will eat', 'dandelions are plants', 'dandelions are weeds which need to be pulled', 'dangerous bugs are a type of bacteria', 'dark spiders reflect less light', 'darkness is a product of less sunlight', 'darkness would provide no sunlight', 'dart frogs are poisonous', 'darts are pricks', 'dashing is running quickly', 'day is characterized by bird chirping', 'daylight ending sooner than normal happens on the winter solstice', 'daylight is solar light', 'daylight is sunlight and comes from the sun', 'daylight lessens as weather cools in fall', 'daylight provides luminescence in summer for a long time', 'dead creatures become natural gasses over time', 'dead is opposite from birthed', 'dead leaves make a crunching sound.', 'dead things no longer grow', 'dead-lifting is a type of exercise', 'death is an irreversible state', 'death is decay', 'death is leaving mortality', 'debris is waste', 'debris should be removed as a safety measure', 'decaying matter formes', 'deceased is dead', 'decomposed organisms provide nutrition to plants', 'decomposers can directly absorb nutrients through chemical and biological processes without any ingestion', 'decomposition is dying and rotting', 'decomposition is pulling things apart', 'deconstructed means breaking down', 'deconstructing nutrients is digesting food', 'decrease in water quality leads to a decrease in aquatic life', \"decreased visability means you may hit a car because you didn't see it\", 'decreasing the numbers of a species decreases biodiversity', 'deduction is a decrease', 'deer are animals and decomposing bodies give off bad odors', 'deer are herbivores', 'deer are not producers', 'deer are one type of life on Earth', 'deer can transport seed', 'deer eat corn', 'deer sleep in grass for warmth', 'deerless means lacking deer, sometimes due to population declines', 'defecating is eliminating waste', 'deflection means to refract', 'deforestation affects inhabitants of the forest', 'deforestation is cutting down trees', 'defunct is not existing', 'delarships reduce food for animals', 'deliquesce means melt', 'delivery people transport things', 'dense and thick are the same', 'departing the world is dying', 'depriving an unwanted pest of its food source would cause it to go elsewhere', 'desert, plains, and forest are ecosystems', 'desertification happens when trees are felled without replacement', 'deserts are arid sandy places', 'deserts are dry', 'deserts are hard to take more water from', 'deserts are hot', 'deserts are sandy zones', 'deserts have sparse water and the chuckwalla is a lizard', 'deserts lack moisture', 'deserts lack water and have many insects', 'deserts, jungles, and oceans are three of the many kinds of ecosystems in the world', 'designating is the core principal of classification', 'desktops are computers', 'destruction of natural habitat such as rock lead to movement', 'destructive processes break down items', 'detached things are broken down from a whole', 'developing is growing', 'developing roots are growing', 'devices for locating directions are compasses', 'devouring means to eat', 'dew makes grass slippery', 'dewdrops are often seen on plants in the morning', 'diamond can cut glass', 'diamond is very hard', 'diamonds scratch other minerals', 'different areas have different climates', 'different birds eat different food, so beaks need to be different', 'different birds eat different foods', 'different crops means rotation', 'different species have different body parts', 'difficulty seeing in bad weather means low visibility', 'digesting produces nutrients', 'digestion dissolves food', 'digestion pulls minerals from food', 'digestive system is in the stomach, above the knees', 'digital thermometer use thermistors to measure temperature', 'dino remains make gasoline', 'dinosaur remains are part of oil', 'dinosaurs are ancient beings who are now fossilized', 'directing a rudder is navigating a boat', 'dirt comes from rocks', 'dirt for gardens need nutrients', 'dirt is a sediment', 'dirt is another name for loose soil', 'dirt is soil', 'dirt is soil, which is healthier when crops are rotated', 'dirt refreshed is soil renewed', 'dirtying agents are pollutants', 'dirtying is polluting', 'disadvantageously means negatively', 'discarded diapers would smell bad', 'discarding garbage does environmental damage', 'discomfort is a hurt', 'diseases that were once death sentences and epidemic are controlled by vaccinations', 'dish towels can be washed and used again', 'dishwashers heat dishes', 'disintegrate is part of decay', 'dispersing a seed means moving it away', 'dispersing seeds requires them to be moved to another location', 'distance between things makes them harder to see', 'distance causes reduced mirror image size', 'distance is measured in length', 'division of labor is essential', 'doe are female rabbits, or hare', 'dog paws would be body temperature', 'dogs and earthworms are different organisms', 'dogs are animals', 'dogs are organisms', 'dogs can eat rodents', 'dogs have eyes', 'dogs hunt victim animals for food, and will compete if needed', \"dogs look like they're smiling when they pant\", 'dogs pant', 'dogs use smell to hunt', 'dogwoods and oaks are trees', 'doing laundry is a chore', 'dolphins are a life form that is part of some ecosystems', 'dolphins are an organism which use sonar to find resources', 'dolphins use echolocation and some swim in rivers', 'donkeys are warm-blooded', 'dormant plants will not bloom', 'dorsal is the back or top of an animal', 'drafts are a kind of wind', 'dragsters have combustion engines', 'drawings are not fossils', 'dribbling is dripping', 'drinking sparingly can conserve water', 'driving east to west will have the sun in your eyes in the evening', 'drizzle is a type of rain', 'droplets are moisture, or water', 'droplets repeating is rain', 'dropping a glass will break it', 'dropping a rock can strike someone', 'drought is a period of less than usual precipitation', 'droughts can dry out small ponds and other water sources', 'dry bushes can catch fire', 'drying your hands removes wetness', 'ducks swim underwater to find prey', 'duku is a yellow fruit with seeds', 'dumpyards are landfills', 'dunes are found in the desert', 'durability effects production required', 'durians is a fruit', \"during a prolonged shortage of water, a tree's ability to add extra tissue and grow thicks rings is slowed\", 'during earthquakes entire buildings will shake along with the ground', 'during metamorphosis, moths change shape', 'dwindling implies running out of', 'dying down is to decrease greatly', 'dying is possible at the beach', 'dying out is to go extinct', 'dynamite going off is an explosion', 'each country has its own area', 'each season has a different climate', 'eagles have claws', 'ear plugs prevent sound from reaching the ear', 'ears are a body part', 'earth has a layer of stone', 'earth has more gravity than the moon', 'earth is our home planet', 'earth is the 3rd rock from the sun', 'earth is the blue planet', 'earth is the third planet from the sun', 'earth rotates on an axis,so star appearance shifts', 'earth take 365 days to revolve around sun once', 'earth tremors are a type of natural disaster', \"earth's axis determines where a hot summer is\", 'earthquakes are strong', 'earthquakes can cause destruction', 'earthquakes can only occur where there is ground', 'earthquakes cause buildings to collapse', 'earthquakes last less than one minute on average', 'earthquakes make the ground quiver, or shake', 'earthquakes, tsunamis, and tornadoes cause changes much more quickly', 'earthworms are legless', 'easier flight is better', 'eaten food is turned into a liquid by the stomach', 'echoes are caused by sound waves bouncing off surfaces', 'echolocating does not use ears or nose to detect', 'echolocation can be done under water', 'echos happen in auditoriums', 'eclipses should only be viewed through a pinhole casting', 'edible items can be eaten', 'edible plants are safe', 'eels are prey, so sharks eat them', 'eggs and cake batter are different substances', 'eggs are incubated so they will hatch', 'eggs are laid because the young are in shells', 'eggs are made of calcium', 'eggs are white ovals', 'eggs deliver offspring', 'eggs have tough shells', 'eight month old tuna is spoiled', 'ejected means removed', \"electric cars don't need gas\", 'electric fans use power outlets', 'electric power can be harnessed from moving air', 'electric reactions send pain notifications', 'electric torch is a flashlight', 'electrical current will traverse through wires', 'electrical energy can create sound', 'electrical energy consists of positive ions', 'electrical insulators are made of ceramic', 'electrical sockets provide electricity', 'electricity goes through a power cable', 'electricity is an alternate fuel source', 'electricity is conducted through metal', 'electricity is made in power plants', 'electricity is prioritized over gasoline in electric cars', 'electricity is the charge from an electron', 'electricity needs metal', 'electromagnetism is a non-contact force', 'electromagnets are used at car junkyards', 'electron flow is another way to describe electrical current', 'elephants are animals, carbon dioxide is a greenhouse gas', 'elephants are very large, so a magnifying glass would be useless', 'elephants have larger eyes than ants', 'elks are hunted', 'elms are a tree that could be found in a forest', 'elongated means long', 'eluding foe is escaping a predator', 'eluding is avoiding', 'embankment is a slope', 'embers are hot remains of a fire', 'embers are the hot coals from a fire', 'emery boards file nails', 'empty pumpkins have no seeds', 'empty space is air', 'enduring means lasting', 'energy comes from a source of nutriment', 'energy escalating is increasing', 'energy holes are where batteries are places', 'energy is a reaction', 'energy moves life forward and onward', 'energy through metal is electric', 'energy type is changed when converted', 'enhacing is another word for increasing', 'enrichment is food', 'entire appearance is shape', 'entity replication is reproduction', 'environmental damage is pollution', 'environments are ecosystems', 'environs are a surrounding area', 'epidermis is a layer of skin', 'equal strength leads to equal force', 'equidistant is parallel', 'erasers are rubber insulators', 'eroded rivers calibrate, or adjust to new area', 'erosion can be described as displacing the land surface of the planet', 'erosion can cause loss of portions of a thing', 'erosion can happen when elements destroy a thing', 'erosion caused by rain', 'erosion is caused by movement not roots', 'erosion is the act of wearing away', 'erosions can make beachside property unsafe after a few decades', 'erossion is a form of soil loss', 'eruption happen under the sea', 'eruptions from volcanoes are emissions', 'escalate means go up', 'ethanol is a bio fuel made from corn.', 'ethanol is a type of biofuel', 'ethanol is used to make alcohol', 'evading is avoiding', 'evaluation is not a state of water life cycle', 'evaporated gas vapor spread out into the air which contacts a source of ignition can ignite and  explode', 'evaporation is a part of heat and warmth', 'evaporation is a phase change', 'evaporation is gas transformation', 'evaporation is the lessening of a water amount', 'evaporation is the state of a gas vaporized from a surface liquid under increased pressure and higher temperatures', 'evaporation is water leaving a place', 'evaporation is when liquid turns to gas', 'evaporation occurs with hot cocoa', 'even drinking water a thing can starve', 'every hour is repeatedly', 'evolution to survive better in an environment is a form of acquired characteristics', 'excess stored food leads to obesity', 'exerting is a force', 'exertion is force', 'expanded proportions are grown', 'expanding of frozen ice in a bottle will burst the bottle', 'expanding water cracks roads', 'expanse is size related', 'expansion also occurs', 'expire means die', 'expire means to die', 'expired creatures are the food of decomposers', 'expired is dead', 'expiring is to die', 'explosions can happen in cars', 'exponentially means to move faster and faster', 'exposure to sunlight is instrumental in optimal growth of indoor plants', 'extended portions of plants are leaves', 'extra rainfall would increase how much water a plant receives', 'extreme likelihood is a high chance', 'eye damage occurs when looking at eclipse', 'eye dangers include splashing acid', 'eyeless, or blind beings may observe texture through contact such as touch', 'eyes have rods', 'eyes use light to see', 'eyesight is needed to see colors', 'facade is a disguise', 'failing health is due to lack of nutrients', 'fake diamonds are made of glass', 'falcons have sharp beaks', 'fall and spring are seasons', 'fall starts in late September north of the equator or late March south of the equator', 'fallen trees are dead', 'falling from a tree begins with the leafs release', 'falling is when something meets the ground', 'farming a yard, such as with a garden, changes that environment', 'farming increases the amount of food', 'farrow are baby pigs', 'fat and weight is gained through eating more', \"father's pass down inherited characteristics since they are parents\", 'fatness is weight', 'fault lines are planar fractures', 'fauna are organisms', 'fear of dogs is learned', 'feathers are a way to avoid being cold for birds', 'feathers warm penguins', 'feature is another word for trait', 'feeling is a sense, through touch', 'feeling toasty is feeling warm', 'feet are used to pedal a bike', 'felines are animals', 'felled trees are nonliving things', 'fennec foxes have several adaptations to live in a desert environment', 'ferrets are able to grab and move things', 'ferrous metals are magnetic thanks to the iron in them', 'fertilizer supplies nutrients to plants', 'fertilizers for certain crops could poison other crops or soil types', 'fewer pollinators means a plant has fewer offspring', 'fewer trees is a decrease in trees', 'fewer trees would increase carbon dioxide in the air, lowering air quality', 'fiberglass is made of resin and glass mat', 'fiddleheads, ramps, and dulse are vegetables', 'field fluid is cropland water', 'fields contain grass', 'fields provide sustenance', 'filament glows from heat', 'finding new homes is moving', 'finding the distance is measuring', 'fire is a burning combustion', 'fire is a chemical reaction', 'fire light is a good signal', 'fire-bellied toads are amphibians', 'first quarter is the next moon phase after a new moon', 'fish are prey', 'fish become inedible when water is polluted', 'fish do not give live birth', 'fish lay eggs when adults', 'fish live in lakes created by blocking rivers', 'fish that live in dark spaces adjust and become blind, even having no eyes', 'fishinghood is not a life cycle process...or word', 'fit means healthy', 'flamingos are animals', 'flamingos have webbed feet', 'flashlights charge by being plugged into outlets', 'flashlights make light', 'flashlights need power sources', 'flashlights use chemical energy devices', 'flat leaves help photosynthesis', 'flavors include tropical twist', 'flicking a lighter starts a fire', 'flippers are appendages that push liquid well', 'floar are plants', 'flocks relocate when they migrate', 'flood plains get water encroached', 'flooding expands the water over land', 'floods can block roads', 'flora are flowers', 'flora are plants', 'flora contains new plants', 'flora is plants', 'flounder are aquatic animals', 'flourishing happens when conditions are ideal', 'flourishing is thriving', 'flowers are found in vases', 'flowers are plants, and windy air is wind', 'flowers are reproductive structures', 'flowers grow from pips, or seeds', 'flowers need fragrance to attract pollinators', 'flowers poke through snow when winter ends and spring begins', 'flowers that attract more hummingbirds distribute more pollen', 'flowing is moving steadily', 'flowing liquid is not frozen', 'fluctuating means varying', 'flying creatures who pollinate are bees', 'flying south is also known as migrating', 'flytraps eat bugs', 'fog causes lowered visibility', 'foggy conditions are bad weather', 'foggy days are very moist', 'foil can be torn', 'foil can simulate earthquakes', 'foil is made from aluminium', 'foliage is anothe word for vegetation', 'food can include twinkies', 'food ensures survival', 'food is cooked in an oven', 'food is needed to grow', 'food is nutrients', 'food needs to be digested to be passed out properly', 'food passed its prime has spoiled', 'food provides nutrients', 'food that has turned is spoiled', 'foods give the birds nutrients', 'foot levers are used to pedal bicycles', 'force has to be applied to an object', 'force is what the pushing to cause movement is called', 'foreign plants need a different environment', 'forest brush is dry wood', 'forest camouflage is popularly used by humans to hunt forest creatures', 'forests becoming water sources is a change', 'forests can be removed by loggers', 'forests can have dry brush', 'formation is the same as shape', 'formations are shapes', 'formerly-living organisms are nonliving things', 'fornicating is a portion of reproduction', 'forward momentum is part of motion', 'fossil fuels are used in motorcycles', 'fossil fuels may run out', 'fossilized matter creates coal', 'fossils are from a long time ago', 'fossils are skeletons in stone', 'fossils are things that are solidified in stone', 'fossils can be found buried deep', \"fossils don't have recently dead organic material like branches or flesh\", 'fossils form from peat or mud after a long period of time and are rock', 'fossils often get buried deep underground over time', 'foxes are predators that eat prey such as rodents', 'foxes will die if their food source disappears', 'fracking is the process of extracting shale', 'freckles are a genetic characteristic that is passed through DNA', 'freezing and thawing changes physical form', 'freezing is when solids are cooled from liquid to solid', 'freezing occurs at extreme negative temperatures.', 'freezing rain causes ice wedging', 'freezing temperatures freeze lakes', 'freezing winds are cold', 'fresh air is a result of photosynthesis', 'fresh made poptart is warm and will get less warm if touching something cold', 'friction is the resistance that one surface or object encounters', 'friction on the road slows a vehicle down', 'friction produces warmth', 'friction works against motion', 'fridge decorations are magnets', 'fridges are cold', 'frog babies in sacs are in eggs', 'frogs are amphibians', 'frogs are amphibious', 'frogs breathe on land as adults', 'frogs can adapt to lakes or ponds', 'frozen milk will be solid', 'frozen rainfall falling is snow', 'frozen water has a whitest color to it like snow', 'frozen water is water that is freezing', 'fruit has seeds', 'fuel efficiency is determined by a cars miles per gallon', 'funerals are held for dead people', 'fungi are decomposers', 'fungi growing on tree trunks decomposes it', 'fur is a major colored part on mammals', 'fur provides warmth to mammals and feathers provide warmth to birds', 'gales are composed of wind', 'gales are wind', 'gales are winds', 'gales are winds, on which sound carries', 'gales carry wind', 'gales of wind are a force', 'gar are a type of fish', 'garbage cans hold waste', 'garbage trucks go to landfills to dump trash', 'gas can be helium', 'gas containers are usually cylindrical', 'gas fills areas', 'gas is an element held in to the earth', 'gas is used to inflate balls', 'gas is what is blown into beach balls by mouth', 'gas on a fire has an exothermic reaction', 'gas stations, which sell gasoline, make less money when its use decreases', 'gasoline is a fossil fuel', 'gasoline is destroyed during combustion', 'gasoline is from crude oil', 'gasoline is made from oil', 'gasoline is made largely of hydrocarbon chains containing eight carbon atoms', 'gasoline is refined from crude', 'gasoline is used for cars', 'gasoline makes cars move', 'gasoline used decreases as travel costs less', 'gasoline will not charge an electric vehicle', 'gastro tract is the digestem system as a whole', 'gathered is collected', 'gathered steam condenses into water droplets', 'gathering is condensing', 'gazebos are outside', 'geckos are lizards', 'geese in autumn migrate, so they will be in flight', 'geese migrate', 'geese migrate for winter', 'gems and bottles can also refract light', 'gems are fractured', 'gems are prisms', 'genes can regulate foot size', 'genes house the DNA which holds the inherited characteristic', 'genes regulate head size', 'genetic components of flowers are seeds', 'genetics are considered before responsible reproduction', 'genetics are inherited', 'genetics pass on inherited characteristics', 'gestating precedes birth', 'getting better mileage means using less gas', 'gila monsters are living reptiles', 'gila monsters are lizards', 'gills allow animals survive in water', 'gills are slits in the neck of a fish', 'gills are specialized breathing parts', 'giraffes are living things', \"giraffes don't go through metamorphosis\", 'giraffes have ears', 'girth is general width and size of flower', 'glacial melt has cause significant erosion', 'glacier are giant rivers of ice', 'glaciers are also called icebergs', 'glaciers are frozen water', 'glaciers are giant bricks of ice', 'glaciers are huge chunks of ice', 'glaciers are made of frozen water which halts the Earth absorbing it by reflecting it', 'glaciers are pillars of ice', 'glaciers compact rocks as it moves over them', 'glaciers force contact between rocks', 'glaciers make depressions that water can pool in', 'glaciers melting cause water level rising', 'glaciers moving tear up land', 'glaciers were giant walls of frozen water', 'glass buildings are greenhouses', 'glass can vibrate', 'glass is made from silica (sand)', 'glass is made from smelted silica', 'glass is melted sand', 'gloom is darkness', 'gloves provide a barrier', 'glucose is a type of sugar', 'glucose is another name for sugar', 'going downhill with wooden planks attached to boots requires a large amount of snow', 'going from ice to a puddle is a change from solid to liquid', 'going green means to avoid waste', 'gold conducts electricity', 'gone is nonrenewable', 'good bacteria maintain a health colon', 'good surf requires high tides', 'gophers live in tunnels', 'gouges are deep scratches', 'grabbing a wasp will cause it to defend itself', 'grabbing is a way to touch', 'graduated items contain unit markings', 'grain contains necessary nutrients', 'grains are food for some animals', 'grains are one of the most common categories of food', 'granite is a type of rock', 'grapefruit are berries because the seeds are on the inside', 'grapes have cells', 'graphite is a mineral', 'graphite is a stable carbon', 'grass and plants get wet with dew', 'grass provides more surface area thus more friction', 'grass snakes are animals', 'grass will dry out from lack of water in an environment', 'grasshoppers are food for creatures', 'grasshoppers are green', 'gravel has more friction than glass, ice and marble', 'gravity causes more movement of the matter', 'gravity is an unseen force', 'gravity moves things to the lowest level', 'gray clouds precipitate', 'grazing mean to slide against one another', 'grease is closely related to oil', 'green chlorophyll is needed for sun energy production', 'greenery is plants, which pull CO2 from the air', 'greenhouse effect does not cause green skies', 'greenhouses are hot and moist', 'greenhouses are made of glass', 'greenhouses create artificial environment from harsh situations', 'greenhouses protect from insects', 'greenhouses protect plants and flowers from the elements', 'greens harbor bacteria if unwashed', 'greeting cards are made from paper and trees grow in the forest', 'grenadine and soda is a combination of substances', 'grey is a different color than white', 'grinding gears cause friction', 'grizzlies are bears, which hibernate', 'grizzly bears are predators', 'grooming is learned behavior through observation', 'ground crawlers are organisms', 'ground is land', 'ground is the outdoor floor', 'ground material is rock, or stone', 'ground minerals are contained in soil', 'growing plants need carbon dioxide, which people breathe out', 'growing water levels occur when water amounts increase', 'growth in cracks is expansion', 'growth is maturing and developing', 'growth rings appear as round markings', 'guacamole dip requires that the avocado, a plant, reproduces', 'guavas are plants', 'guitar picks have weight', 'gulls are a bird', 'guppy are fish', 'gusts are wind', 'guzzling is drinking', 'gyms are visited to exercise in', 'h20 is water', 'h20 is water which is rain which falls on umbrellas which are cloth suspended on rods.', 'h2o is water', 'habitat is home', 'hack berries are the seed of a hack berry tree', 'hail is a type of precipitation', 'hair appearance is inherited', 'hair can be colored', 'hairspray is a pollutant', 'half a year twice is a full year', 'hamburgers and hot dogs are food', 'hamburgers and steaks are foods prone to containing bacteria and viruses', 'hammers drive in nails', 'hand size is an inherited characteristic', 'hard h2o is ice', 'hard objects found in fruit are seeds', 'hard shells are seeds', 'hard stones are rocks', 'hares are mammals', 'hares are rabbits', 'hares can carry seed long distances', 'harmful substances include bacteria', 'harsh precipitation is a part of environmental changes', 'harvested turnips are dead', 'hatching eggs is producing young', 'having 1 left of a species means they are on the verge of extinction', 'having croaked is to have died', 'having offspring produces a family', 'having sex is part of reproduction', 'hawks are predators', 'hawks lay eggs', 'head shape is inherited', 'healthier food is safe', 'heaped refuse is what is in landfills', 'heart racing is pulse increasing', 'heart rate is directly tied to pulse', 'heat and cold are part of breaking up stones in mechanical weathering', 'heat and pressure also form diamonds from carbon within that rock', 'heat application is a temperature change', 'heat can also be created by movement', 'heat can cook food', 'heat causes evaporation', 'heat creates warmth', 'heat energy raises the temperature', 'heat has raised temps', 'heat is energy', 'heat is given off when walking', 'heat is hotness', 'heat is required for the rock formation', 'heat is retained through insulation', 'heat is used to cook food', 'heat lamps provide light for plants', 'heat makes a room warmer', 'heat melts a candle', 'heat melts chocolate', 'heat melts ice to liquid', 'heat prepares burritos', 'heat starts the chemical reaction of separating the curds and whey', 'heat travels through channels', 'heating sugar long enough causes a reaction where it crystallizes.', 'heating up water will cause a reaction', 'heavenly bodies include stars', 'heaviness is weight', 'heavy birds should try losing weight to improve flying ability', 'heavy exertion uses force', 'heavy rains block roads', 'heavy sleepers get more rest than light sleepers', 'height is measured in inches', 'height is one aspect of the shape of a body', 'heightened speeds means increased', 'helically ridged pins are screws or bolts', 'helium is in balloons', 'hemispheres moving towards the sun experience summer', \"herbivores don't eat meat\", 'herbivores eat vegetation', 'herbivores make snacks out of plants', 'hermit crabs use gills to breathe', 'hibernating frogs slumber for years', 'hibernating is a long slummber', 'hibernation retains energy', 'hibiscus is a flower containing nectar', 'hiding in bushes avoids predators', 'high surface area temperatures, arid conditions, land overuse and over-population can cause drought', 'high tide and low tide can be measured in the morning and evening', 'high wind speeds means heavy atmospheric movement which is useful if you generate energy from the wind via a turbine', 'higher elevation areas are more likely to have snow outside of winter', 'higher location effected less', 'higher temps are heat', 'his plan was to make lights work', 'hitching a ride equates to being transported', 'hitting a golf club into the dirt causes soil loss', 'hitting requires contact', 'homes are houses', 'honey is sweet stuff sold in grocery stores', 'honey makers are bees', 'honking is a sound', 'hooking up a charger to an outlet can complete a circuit', 'horizontal orientation indicates falling', 'horses eat vegetation', 'horses need circulation', 'hoses provide water', 'hot metal sears', 'hot plates are electrical', 'hot plates are heated', 'hot plates are portable stoves', 'hot plates are used in chemistry class', 'hot water for showers comes from a water heater in most homes', 'hot water is needed for washing', 'hot water over ice will turn the ice back into liquid form', 'hotness energy is heat', 'hotness is a kind of heat', 'hotness is heat', 'hotness is increased temperature', 'hotter weather attracts scorpions', 'hours are segments of time', 'house flies are insects', 'houses are made of brick', 'houses have rooms', 'housing developments are located closer to cities than farmland', 'hue is part of coloration', 'hues are colors', 'human astronauts have visited the moon', 'human contact is communication', 'human planet is earth', 'humanity is people', 'humans are natural omnivores', 'humans are primates', 'humans breathe into the air', 'humans breathe out carbon dioxide', 'humans build apartments all the time', 'humans building a mall would change the environment', 'humans buy crops to eat', 'humans can walk thanks to energy from sugar', 'humans cook their food', 'humans destroy habitat to grow corn', 'humans do not hatch from eggs', 'humans drink soda from aluminium containers', 'humans eat food', 'humans have ability', 'humans have thumbs', 'humans learn to swear', 'humans make garbage', 'humans provide mechanical energy to simple machines', 'humans reach adulthood upon maturity', 'humans take away animals homes', 'humans use showers', \"humidity 'feels' hotter\", 'humidity has water vapor', 'humidity is found when heat and moisture are together', 'humidity is the amount of water vapor in the air', 'humidity is the presence of moisture in the air', 'hummingbirds are birds', 'hummingbirds are birds whose food source is nectar', 'hummingbirds are pollinators', 'hummingbirds are pollinators for trees and flowers', 'hummingbirds have sharp beaks', 'hummingbirds like nectar', 'hunted out is endangered in an area', 'hunting is not allowed in many protected areas', 'hunting limits protect the animal populations', 'hunting requires stalking', 'hurricanes are natural disasters', 'hurricanes are winds', 'hurricanes facilitate the water cycle', 'hurricanes have categories', 'hurricanes typically starts in South Africa and head toward the Gulf of Mexico', 'hush puppies are food', 'hybrid card get more mpg', 'hydrangea is a plant', 'hydrangea is a plant, with leaves that have transpiration', 'hydro mechanical wearing means cutting with water', 'hydro-erosion is a form of weathering', 'hydrocarbon gas mixture is natural gas', 'hydrogen chloride is a chemical', 'hypothermia is a medical condition that arises from loss of body heat', 'ice and steam are the same thing - forms of water', 'ice and steam are water at different temperatures', 'ice can deposit fluid, since ice is frozen water', 'ice causes cars to skid', 'ice cream melts when its temperature goes up', 'ice freezes at 32 degrees fahrenheit', 'ice hockey requires a smooth surface of ice without craters, as well as Earth gravity and oxygen', 'ice is a solid', 'ice is frozen water', 'ice is hardened dampness, or frozen liquid (water)', 'ice is much smoother than concrete', 'ice is solidified water', 'ice is the solid phase of water', \"ice is water's solid form\", 'ice occupies more space than water in liquid form', 'ice particles are snow', 'ice ruins roads', 'ice takes longer to melt if salt is applied', 'ice wedging causes cracks in rocks to get bigger', 'ice wedging damages roads', 'icy roads cause poor traction', 'identical charges are magnetic', 'if a filament hurts to touch, it is hot', 'if a species of plant or animal ceases to exist on earth, the loss cannot be undone', 'if all the animals die it is called extinct', 'if an estimated age is know it can be subtracted from the current year to learn the estimate date of planting', \"if an species doesn't migrate, it never will\", 'if closer means larger then the inverse is also true, further means smaller', 'if friction increases, heat increases', 'if in cold forest areas, they fly south for winter', 'if it rains, an area with no water will have water', \"if it's not night, the brightest thing in the sky will be the sun\", 'if people have forgotten about the product, it will sell less than before', 'if smoothness causes fall adding carpet which are anot as smooth will add traction', \"if something is insulated for electricity, it's covered in a non metal material\", 'if the river is hit with an extremely large amount of precipitation in a day it will flood', 'if you are not willing to listen than you can not follow directions', 'if you set fire to the natural gas it will burn', 'igniting will burn something', 'iguanas cannot survive in arctic areas that have snow', 'illness impacts only living oragnisms', 'illness of any kind hurts health', 'illuminating is what light bulbs do when they are turned on', 'illumination is light', 'impacted soil would be tight together', 'impetus is the force that moves the boulder', 'in polluted water, fish are not safe to eat', 'in the film, trash was stuffed into a car for fuel', 'in winter the days are short and in the opposite hemisphere the days are long', 'incinerating something is burning it completely', 'ingesting is another word for consuming', 'inhabited buildings gathered up produce light pollution', 'inherited behavior comes from ancestors', 'inherited behavior is passed on by genes', 'inherited characteristics are predetermined', 'inherited characteristics come from parents(creators)', \"inherited characteristics don't change\", 'injury is harm', 'ink changes water color', 'ink is dark fluid', 'inky water is at ocean depths', 'insects are also known as bugs', 'insects are garbage eating decomposers', 'insects have six legs', 'insects live in all types of land environments', 'insects live in felled oaks', 'insects run from lizards to avoid being eaten', 'inside objects are particles', 'instead of electricity to heat homes, we are moving to wind', 'instinctive behavior has a fixed action pattern', 'instinctive behaviors are usually essential', 'instinctive behaviors are usually essential survival actions', 'instinctive behaviors are usually not learned', 'instinctive is genetic', 'internal organs are fortified by skeletal structures', 'internal tubes are phloem', 'introduce new water sources increases available water', \"invasive plants often overpopulate where they don't have natural predators\", 'iphones use close circuits', 'ipods are electric devices', 'ipods are products', 'iris dust is pollen', 'irises are flowers', 'iron and steel are nonrenewable resources', 'iron can be magnetized', 'iron contains a large amount of magnetic materials, as do steel fridges', 'iron is Fe', 'iron is found in the crust', 'iron is magnetic', 'irresistible attraction is magnetic', 'is take around 365 days for the earth to circle the sun', 'island are new lands', 'islands form as lone masses of land', 'it gets more humid near water', 'it is an academic guess too', 'it is dirty underground', 'it is freezing in winter, where night comes very quickly due to lack of daylight', 'it is harder to see outside at night', 'it is hotter in the desert', 'it is more comfortable outside in warm weather than cold', 'it takes millennia for canyons to form', 'it takes pollutants from the air', \"it's axis is what cause the tilt or wobble\", \"it's getting warmer whan the seasons are changing from winter to spring\", \"it's harder to pick up a heavier weight than a lighter weight\", \"it's hot in the summertime in the sun\", \"it's important for a cactus to keep a cache of water, living in dry areas\", 'items cause disturbance upon contact', 'ivory is white', 'jack rabbits live in hot areas', 'jade has waxy leaves', 'jasper is a variation of quartz and a windshield is made of glass', 'jello can be used to refract light', 'jello melts in warm temps', 'jello mix goes from liquid to solid when refrigerated', \"jellyfish don't have eyes, or a brain or heart\", 'jerky is meat', 'jicama has nutrients', 'jogging is moving', 'jungles are forested ecosystems', 'jungles are green and forested', 'keeping hydration is storing water', 'keeping natural is conservation', 'keeping warm is important in frigid temperatures', 'kelp is a plant', 'kernels are related to seeds', 'kernels are seeds', 'kestrel and dragonfly migration patterns are tied together', 'keys are metal and conduct electricity', 'kickball requires using force on an object by kicking', 'kicking a balloon will increase its speed', 'kicking uses a foot', 'kidneys filter bacteria', 'kilns get hot enough to burn skin', 'kittens are mammals', 'kittens are not hatched', 'kittens do not lay eggs', 'knives are magnetic.', 'knowing temperature would indicate how to dress for the day', 'koalas are mammals that give birth', 'kool aid involves sugar within a water base', 'kool-aid is a liquid', 'labels are a visual form of communication', 'lack of heat means cold environment', 'lack of sweating could cause overheating of the body', 'lactic acid curling milk to create yogurt is a chemical change', 'lakes are bodies of fresh water', 'lakes rely on rainfall', 'lamps produce warmth', 'land is also known as soil', 'land is underwater during a flood', 'landfills are refuse facility', 'landfills are trash heaps', 'landfills contain heaps of trash', 'landfills may have loose pieces of trash flying around which is negative', 'landfills will be smaller the more recycling that is done', 'landslide have great effects on live ecosystms', 'landslide occur high up', 'landslides occur due to bad weather', 'larger litters increase population', 'larger minerals are stones and rocks', 'laser anemometers are a kind of anemometer', 'lasers can get you in trouble if pointed at planes', 'laundry soap is a cleaning agent and not a pollutant', 'laundry uses dryers which produce heat', 'lava builds up underwater', 'lava can be a side effect', 'lava from volcanic eruptions ruin the land around them', 'lava has a high temperature and objects are destroyed when they combust', 'lava is often cooled when it reaches ocean water', 'lava is very hot', 'lava melts cars', 'lava moves above ground', \"layers are the different levels of an object's makeup\", 'layers on top of each other form mountains', 'laying a clutch is laying eggs for a bug', 'lead is the only part of a pencil with minerals', 'leaf colored is green', 'leaky pipes waste water', 'learned behavior is not instinctual behavior', 'learning is not always comfortable', 'learning to jump higher is adapting', 'leather is a renewable resource commodity', 'leaves are an example of prehistoric living things', 'leaves are bigger as their size increases', 'leaves are dead things that fall from trees in the fall', 'leaves are the greenest part of a plant', 'leaves can be moved by flowing water pushing them along', 'leaves contain chloroplasts', 'leaves need to be raked up in yards', 'leaves soak up light', 'leaving a mark is scratching', 'leaving a mark means one is softer then the other', 'leaving litter in forests is illegal because it harms nature', 'leaving refuse on the beach contributes to ocean pollution', 'lemon is a citrus', 'lemon is a citrus, which is acidic', 'lemon juice is a chemical', 'lemonade is mostly water', 'lemonade is water and lemons', 'lemonade mixes sugar and water', 'lemons are acidic', 'lemons are citrus fruit', 'lengthened glass tubes can be telescopes', 'less pollution leads to more breathable air', 'less roughness has less friction', 'less solar light is less sunlight', 'less water means water has been evaporated', 'lessen is decrease', 'life blends in a community', 'life matter is organic', 'lifeforms are living things', 'light brings about illumination', 'light bulbs use electricity', 'light can be seen and used to see the matter around us', 'light can be sunlight', 'light can be waves or particles', 'light can travel over distances when bouncing off reflective surfaces', 'light concentration creates light pollution', 'light ends sooner as fall approaches', 'light energy comes from chemical energy in batteries being pushed through wires', 'light energy comes from solar rays', 'light energy involves all light', 'light energy usually is from the sun', 'light from stars is an alternative fuel', 'light from the sun is a renewable resource', 'light has no mass', 'light helps to spot objects under a dark couch', 'light is needed to see an object', 'light is very fast', 'light may be reflected into a dark room using mirrors, which will brighten the previously dark room', 'light pollution is when there is more man-made light in an area', 'light shines off of reflective surfaces', 'light switches control current flow', 'light takes a few minutes to reach earth from the sun', 'light through a gem produces rainbows', 'light through diamonds can produce rainbows', 'lightbulbs use circuits', 'lightening happens in storms', 'lightening is electric', 'lighthouses have lights on them', 'lightning from a storm can start a wildfire', 'lightning is a form of electricity', 'lightning is a sudden electrostatic discharge from a cloud', 'lightning is electricity', 'lights are duller as light source gets further away', 'lights brighten areas', 'lilac is a light color', 'lilies are flowers, which are plants', 'limb number is inherited from birth', 'lime is a citrus which can cause chemical changes', 'limestone is a hard sedimentary rock used as building material and in the making of cement', 'limestone is formed from sediment', 'limestone is sedimentary rock which is  composed mainly of skeletal fragments of marine organisms such as coral, forams and molluscs', 'limestone, sandstone and granite are rocks', 'limiting hunting protects the animal popiulation', 'limits on hunting make it not the best place to shoot animals', 'line graphs can show fish populations over time', 'line graphs have ups and downs', 'lines in a tree bore will equal the number of rings in a tree', 'lions and hyenas both target herbivores on the savannah', 'lions are a large predator', 'lions are consumers', 'lions eat antelopes', 'lions need heat', 'liquefied soil is sediment', 'liquid amounts are greatest in oceans', 'liquid can drip', 'liquid cannot spread endlessly', 'liquid is wet', 'liquid matter can be measured in any shape container since its shape is variable', 'liquid petroleum is oil', 'liquidity is a liquid state', 'liquids assume the shape of their containers', 'liquor is made using condesation', 'live birth have nothing but skin on outside', 'live young need nursing', 'living term is life cycle', 'living things are vibrant', 'living things breathe', 'living things have cells, which have membranes, and many living things can cry', 'living things need air to survive', 'lizards are reptiles', 'lizards eat beetles', 'llamas are organisms', 'loam is a type of soil', 'loam is another name for soil', 'loam is soil', 'local flora is an areas plants', 'local flora is the environment', 'local forecasts are weather', 'locale is an environment', 'locales are environments', \"log cabins are often built in forests where it's easy to cut logs\", 'logging causes loss of resources', 'logging causes prey population loss', 'logging changes the environment', 'logging companies chop down trees', 'logs are felled trees', 'logs are wood', 'logs are wood, which is a raw material', 'logs come from trees, which are renewable', 'long ears are an adaptation to living in high heat environments', 'longer hours of daylight means greater amounts of daylight', 'looking at something is also called seeing it', 'looking in a tree is how you can tell age', 'loose dirt is good for tree growth', 'losing numbers is slowing going extinct', 'losing space is to lose a habitat in some cases', 'losing status as whole means it is in parts', 'lots of sunlight can cause sunburns', 'low body temperatures is dangerous for life forms like cats', 'lower areas are the ground', 'lower pressure occurs near the ocean', 'luna is the moon', 'luna is the moon, which is a satellite', 'lunch breaks are often at noon', 'lunch is a meal, which provides energy', 'lung damage causes a more intense cough', 'lungs are our breathing organ', 'lungs are the primary element of the respiratory system', 'lungs in chest, part of the circulatory system', 'lynxes are animals', 'machinery give off heat when they work', 'maggots are decomposers', 'maglights are flashlights that emit a focused beam of light', 'maglites are flashlights', 'magma is an orange substance', 'magma is far below the ground away from humans', 'magma is liquid rock', 'magma is under the ground', 'magna is rock from deep down', 'magnetic attraction is a force', 'magnetic objects attach to metals', 'magnetic poles on earth helps direct humans also', 'magnetic rocks are attracted to magnets', 'magnetism can act without contact', 'magnetism can happen without human action', 'magnets are decorative fridge items', 'magnification makes an object appear larger', 'magnification only increases the perception of an object', 'magnifying glasses are magnifiers', 'magnifying glasses increase your ability to see', 'mahogany is wood', 'mailmen deliver in sleet', 'maize is another word for corn', 'make a pit stop means go to the flower', 'maladies are illnesses', 'malleable is soft', 'malls are built over habitats', 'malls change habitats', 'mammals breath with lungs', 'mammals have two sexes, male and female', 'mammals need warmth and have kidneys', 'man causes changes in environments', 'man is human', 'mandarins are fruits', 'manganese is a mineral plants use', 'many autistic people are particularly sensitive to strong smells', 'many factories pollute', 'many migrating animals are birds', 'many plants flower', 'many trees lose their leaves in the winter', 'many vehicles emitting pollution into the air may occur when EMT transports panting patient', \"maps show Earth's surface and sometimes have to change if things have shifted\", 'marble is a mineral', 'marbles act as prisms splitting the light as it enters them', 'marking time requires noting, measuring', 'marlins are aquatic animals', 'mars is far', 'marsupials are animals', 'masonry uses bricks', 'masses in space are planets', 'masticating is chewing, in order to eat', 'match to a wick is lighting a candle', 'matching the outdoor temp will increase an environment temp if outdoors is warmer', 'matching your background is camouflage', 'material is a type', 'matter and mass are the same thing', \"matter that's written on is paper from wood\", 'matter vibrating causes waves to flow through the air that we can hear', 'matured is adulthood', 'maturity is when reproduction may take place successfully', 'maximum pull happens when moon, sun and earth are lined up', 'mayflies are a kind of bug', 'meadows are grasslands', 'meal is prey', 'meal worms are insects', 'meandering air currents are jet streams', 'measurement concerning time is the amount of time between two specific points in time', 'measurement is through observations', 'measuring is done with a pedometer', 'measuring tells you how much of something there is', 'meat devourers are predators', 'meat does not have seeds', 'meat is not a plant', 'mechanical weathering breaks down stones', 'melting a body has to be done at a temperature higher than regular temperatures', 'melting dissipates ice', 'melting glaciers is caused be heat', 'melting ice is a phase change from temp', 'melting polar ice caps increases the amount of water in the oceans', 'melting polar ice caps raises the level of the sea', 'menacing skies hold dark clouds', 'menstrual cups are reused and pads and tampons are thrown away after a single use', 'merchants are suppliers', 'mercury can be removed from water', 'mercury is found in thermometers', 'merging with background is a way to camouflage', 'metal is a conductor', 'metal pipes on a wall is a radiator', 'metal tags are shiny', 'metals are in cars', 'metals include the components of a cell phone', 'metals like copper are good thermal conductors', 'metals, especially iron, conduct electricity', 'metamorphosis changes shape', 'metamorphosis is a stage conversion', 'metamorphosis is a transition', 'metamorphosis is an adjustment to a new body shape', 'metamorphosis is when an animals appearance completely changes', 'meters are a way to measure distance on a road', 'mice and rats are similar', 'mice are prey items for most mammals', 'mice have round ears', 'microscopes are aids to enhance vision', 'microscopes are commonly found in labs', 'might is great strength', 'migrating animals typically avoid snow', 'migrating for fluid means to look elsewhere for water', 'migrating is relocating to another place', 'migration is studied', 'milk and honey mix together completely', 'milk can be absorbed', 'milk comes in yellow cartons', 'milk from nursing is sustenance', 'milk is pasteurized', 'millimeters can be used to describe a distance', 'millions of years is a long time', 'minerals are lifeless matter', 'minerals are worn away by water movement', 'mines are explosive', 'mink are prey for wolves, which are predators', 'minuscule means small', 'minut defects can only be seen from close up', 'mirrors are made with metal', 'mirrors have reflections', 'mirrors reflect an image', \"mittens keep hands warm when it's winter\", 'mixing and heating edible items is cooking', 'moistness is similar to moisture', 'moisture beads on glass', 'moisture being pulled in the air is evaporation', 'moisture causes humidity', 'moisture deprived logs are dry wood', 'moisture is water', 'moles dig tunnels underground, tunnels protect the creatures that use them', 'moles live underground', 'momentum is a form of forward motion', 'monarchs are pollinators', 'monkies are organisms', 'monsoons provide water to cactuses', \"moon's gravity pulling on the earths' seawater is the tidal cycle\", 'mopeds get higher MPG than most vehicles', 'mopping the floor is a chore', 'more chainsaws allow more people to cut down more trees', 'more food extends life', 'more friction happens when tires squeal', 'more friction is rough on tires', 'more gasoline use causes more CO2 emissions', 'more harvesting means more crops have been planted', 'more hot levels makes more evaporation', 'more intense light is brighter', 'more intense means the lights would appear brighter', 'more laying chickens leads to more eggs', 'more leaves can photosynthesize better', 'more people pushing gives more force', 'more predators lead to less prey', 'more sizable is larger', 'more weight means more fat', 'most mammals have four legs', 'most tadpoles primarily eat algae', 'mother birds provide warmth through sitting on eggs in nests', 'mother is a parent, daughter is an offspring', 'mother-daughter is a parent-offspring relationship', 'motion happens when something is touched with push', 'motorbikes run on fuel from natural gas', 'motorcycles increase CO2', 'motorcycles use gas', 'motors are consist of vibrating matter', 'mountain peaks are at higher elevations and people shiver when the temperature is lower', 'mountain ranges can be called ranges', 'mountainous means containing mountains', 'mountains are a source of coal where mines are dug', 'mountains are at high altitudes', 'mountains are colder than the surrounding environments', 'mountains are raised', 'mountains are sloped', 'mountains are towering hills', 'mountaintops are elevated areas', 'mountins are old', 'move overcast days mean less sunny days', 'moved is transported', 'movement pattern is axis', 'moving charges include electrons', 'moving closer is decreasing distance', 'moving electrons is electricity', 'moving is in the form of running', 'moving regularly is exercise', 'moving things around can be described as shuffled', 'moving water is weathering', 'moving winds can cause good things to happen also', 'mulberry trees provide food for birds like Jays', 'multiplied hues can be a rainbow', 'munching is eating', 'muscle power is a force', 'muscle power relates to force', 'muscles are brawn', 'muscles are made of meat', 'muscular atrophy can waste away muscles', 'mushrooms are decomposers', 'mushy is a kind of soft', 'nails are for hammering', 'nails are used to fasten shingles to roofs', 'nascar envolves cars', 'national parks often aim to preserve native wildlife', 'national symbols are flags', 'native flowers can attract pollinators without being invasive', 'natural elements like wind weather materials down', 'natural gas and other nonrenewable resources are mined out of the ground', 'natural gas is a non renewable resource', 'natural gas is a source of power', 'nature is another name for the earth', 'nature places are environments', 'nature starts to grow everywhere in spring', 'natures floor is the ground', 'navigating is giving directions', 'neap and ebb are types of tides', 'necessity is something required', 'nectar is a product of flowers', 'nectar is liquid from plant flowers', 'nectar is tantalizing liquid for bees', 'neighborhoods have grass', 'nemo is a fish', 'neodymium is a rare-Earth metal magnet', 'nerves alert the body to pain', 'nerves alert the brain to sensations', 'nerves parts are microscopic within cells', 'nests are bed for young', 'nests are made of assorted materials', 'new habitable land in a sea is an island', 'newspapers are made of paper', 'nickel conducts electricity', 'nickel is made of metal', 'night time is dark', 'nightcrawlers are worms, which are decomposers', 'no clouds means no rain most of the time', 'no filter can cause more damage, though possibly not significantly more', 'no particle motion results in no power', 'no sun means no life on earth', 'no training is involved in instinctive behavior', 'non rough is smooth', 'nonliving things are lacking life', 'nonrenewable resources are depleted for good', 'nonrenewable resources cannot be replenished', 'north dakota to texas is a north to south movement', 'north is always in the same direction from the same place', 'northern hemisphere seasons are opposite from southern hemisphere', 'northern most state is alaska', 'nose shape is an inherited feature', 'nose shape is determined by genetics.', 'nosedive is decreasing', 'not all plants live in desert', 'notebooks are typically made of paper', 'noticing is done by looking', 'noting is seeing', 'nourishment is nutrients', 'nuclear reactions occur as atoms are split or fused', 'nuclear reactions produce heat also', 'number of fangs is a trait passed from a parent to its offspring', 'number of hatching turtles increases as more eggs are laid', 'nursing is an instinct', 'nursing is offering nutrition', 'nursing needs to take place or the offspring will die', 'nutrients are components needs to sustain life', 'nutrients are edible', 'nutrients are essential substances', 'nutrients are food', 'nutrients are life sustaining substances', 'nutrients are the foundation of food', 'nutrients in soil can collect in vegetation, a part of the food chain', 'nutrients possess nutritional values', 'nutrients sustain the life of organisms', 'nutriment is a phrase for food', 'nutriment is another name for food', 'nutriment is another word for food', 'nutriment is food', 'nutriment is nutrients', 'nutriment provides energy', 'nutrition is the food', 'oak pips are tree seeds', 'oak trees are such a tree', 'oaks are a resource that is natural', 'oaks are large trees', 'oaks grow', 'oats are a plant  and fiber aids in digestion', 'objects make light', 'objects that are substantial are heavy', 'obliterate is a synonym for destroy', 'observations come from viewing things', 'obtaining sustenance means the same thing as capturing food', 'ocean life in the water would be the first to be hit by the oil', 'ocean liquid is water', 'ocean water is a saline liquid', 'ocean waves are part of nature', 'oceanic placements on in ocean of platforms', 'oceans are salty', 'oceans are water', 'oceans can evaporate', 'oceans contain salt water', 'oceans cool the hot lava to make land', 'oceans have great surface areas', 'oceans reflect light from the sun', 'oceans reflect only blue light', 'oceans water is salty', 'octopus are cephalopods', 'octopus can avoid predators by hiding', 'octopus ink is a dark pigment', 'offspring are prodigy', 'offspring are the results of egg laying', 'oil based products are decreasing', 'oil cannot be restored in short time like soil', 'oil fields are the source of oil', 'oil is a fossil fuel', 'oil is an example of a fossil fuel', 'oil is composed of dead dinosaurs', 'oil is the remains on ancient animals', 'old glory is the American flag', 'old taco meat is waste', 'older style light bulbs are called incandescent', 'oldness is age', 'omnivores also eat meat', 'once a month is every four weeks', 'one after the 8th is the 9th', 'one can ride a bike instead of driving a car', 'one day contains 1440 minutes', 'one of the women needs to produce sperm for the child to be their biological child, which is impossible', 'one ring each year means one year old', 'one seventh of a week is one day', 'only females can create the egg', 'only mammals are born live', 'only mammals have hair', 'only mice are considered prey for an eagle out of the animals listed', 'only one sun is in the sunset', 'only planting one crop is not ideal for healthy soil', 'only some plants and organisms, like roses, can engage in photosynthesis', 'only some species of lizards live in the desert', 'only sunlight is renewable', 'only the pyramid has an angle', 'opposing is to go against, which slows', 'opposites attracting is magnetism', 'orange is a citrus fruit', 'orbit of the sun makes the seasons', \"orbiting changes the earth's position compared to the sun\", 'orca have large fins', 'oregano is a plant', 'organ processed gas is air', 'organic matter in soil contributes to its fertility', 'organic things come from nature', 'organism decay happens alongside rot', 'organism meals make up food chain', 'organisms are all living things', 'organisms are living beings', 'organs will stop working if not protected by bones', 'ospreys eat perch', 'ospreys live in forests', 'ospreys live in the zoo', 'other planets have some water', 'other ways to travel exist', 'ounces are a measure of volume', 'our bodies are warmed by heat from the sun', 'our celestial star is the sun', 'our globe is the earth that circles the sun', 'our globe, the earth, fully rotates in a day', 'our local star is the sun', 'our only satellite is the moon', 'our only star provides solar energy', 'our planet is Earth and a tilted axis is a slanted axis', 'our planet is earth', 'our planet is the only source of nature', 'our visual organ is the eye', 'our world is the earth', 'our world, a globe, turns and seasons are a result', 'outlets are plastic', 'outlets provide electricity', 'ovens require electricity to work', 'over-cultivation depletes soil nutrients', 'overhead signs on freeways are made out of reflective sheeting', 'overhunting has a negative impact and is a loss of resources', 'overindulging in food is eating more food', 'overweight animals have fat stored', 'ovum are egg cells', 'owls are nocturnal', 'owls are nocturnal predators', 'owls can live in trees', 'oxygen and hydrogen form water', 'oxygen is a breathable gas', 'oxygen is air', 'oxygen is converted in the respiratory bronchioles to hemoglobin proteins in the blood cells', 'oxygen is not a pathogen', 'packing sediment tightly forms sedimentary rocks', 'pained is harmed', 'paint applied to things is an artificial color', 'paint is a liquid pigment', 'paint works by reflecting limited wavelengths of light.', 'painting nature scenes outside requires daylight', \"palm trees don't grow in extreme cold and freezing temperatures\", 'palm trees have really large leaves', 'paper can be teared', 'paper is made from tree pulp', 'paper is made with trees', 'paper is relocated when water pushes it along', 'parallel to north is north', 'parched means dry and hot', 'parent flora is the originating plant', 'parental preferences can be passed down to children through exposure', 'parents are genetic contributors', 'parents can teach kids to cook', 'parents dna determine your body parts', 'parka squirrels are mammals who find an arctic environment to be pleasant', 'parking far away requires extra walking and walking is a kind of exercise', 'pasteurization involves heating something to a certain temperature', 'pasteurization is done on milk', 'pasteurization uses high heat and bacteria are illness causing agents', 'pastries are baked in an oven', 'pastureland is fields', 'pathogens are disease causing agents', 'peacocks have colorful plumes', 'pear seed will turn into a tree', 'peat is good for plants', 'pebbles are rocks', 'pebbles are small stones, which may contain iron', 'pecans are a type of nut', 'pedaling a bike is cycling', 'peeking is looking', \"pelt is an animal's coat or fur\", 'pencils are made from wood', 'pencils are office supplies', 'pencils are used to draw', 'penguins have flippers', 'penguins live in cold, not in forests', 'people also shiver', 'people are in bed at night', 'people can skate on a pond after it freezes', 'people contact is communication', 'people drive cars', 'people get crushed by falling buildings in earthquakes', 'people get medicine from a pharmacy', 'people learn to talk', 'people leaving behind trash pollutes beach environments', 'people move towards radiators when they desire warmth', 'people use umbrellas in the rain', 'people wear masks because of pollution', \"people wear shorts when it's warm and noon is the middle of the day\", 'peppers left in the sun absorb sunlight', 'performing tricks is a learned behavior', 'person is the force', 'perspiration is a form of sweating', 'perspiration is a way to naturally cool down', 'perspiration is another word for sweating', 'perspiration is sweating', 'pesticide kills bugs', 'pesticides are bad for water safety', 'pesticides are insect destroyers', 'pesticides on plant can be a problem without directly eating them', 'petro is another name for gasoline', 'petrol is made from fossil fuels', 'petroleum is gasoline', 'peyote is a cactus plant', 'phase of the moon is based on alignment with the sun and earth', 'phone chargers need electricity', 'phones may be measured with a ruler', 'phones use aluminum', 'photo film needs a dark environment to be processed', 'photosynthesis is self sustaining', 'photosynthesis provides the plant with energy', 'photosynthesis requires light', 'photosynthesis takes place in chloroplast', 'photosynthesis uses light to create nourishment', 'physical features are passed on through genetics', 'physical state is health', 'piano keys are ebony and ivory', 'pictures are images', 'pigs find their own food since they are consumers', 'pine trees are replanted as they are harvested making them reusable', 'pinnacle is the highest point of a mountain', 'piranha are aquatic animals', 'pit bulls are dogs that shed a lot', 'pits are seeds for plants', 'pizza is a food that birds will eat', 'pizza is food', 'pizza is toasted in a metal box through conduction of heat', 'planets are objects', 'planets rotate on their axis', 'plankton is the food it produces', 'plant food contains nutrients', 'plant offspring come from reproduction', 'plant take in light energy during daytime', 'planters are where plants grow', 'planting one plant one year and a different one the next is known as crop rotation.', 'plantlife includes plants', 'plants absorb sunlight energy', 'plants also store water', 'plants are flora', 'plants are flowers, which are producers', 'plants are green', 'plants are green life', 'plants are living things', 'plants are organisms with roots', 'plants are producers', 'plants are producers, which bud', 'plants are smaller than trees, so get less light', 'plants are verdant', 'plants die in the winter', 'plants die when its cold', \"plants don't move\", 'plants expel oxygen', 'plants give off oxygen', 'plants grow out of the ground', 'plants have life cycles', 'plants make their own food', 'plants need soil for nutrients', 'plants need sunlight for photosynthesis', 'plants output oxygen into the environment', 'plants photosynthesize', 'plants release oxygen into the air', 'plants respire to use energy', 'plants use carbon dioxide during photosynthesis', 'plants use chlorophyll to make energy from sunlight', 'plastic comes from oil deposits', 'plastic melts when left on a heated surface like a hotplate', 'plastics going in special containers is recycling', 'plate armor is made of iron a ferrous metal', 'plateaus are flat high areas', 'plateaus are raised above sea level', \"plates gliding over our planet's mantle are tectonic\", 'platypus are mammals', 'platypus are warm-blooded yet have tails, mouths and lay eggs, like fish', 'play doh can absorb other colors', 'playing fetch is a learned behavior', 'plethora means many', 'plugging a television in completes a circuit', 'plugging things in provides them with electricity', 'plummet is decrease', 'pluto is farthest away of the planets', 'pluto is not considered a planet', 'pluto was the 7th planet', 'polar bears are an organism adapted to a cold environment', 'polar bears are white', 'polar bears have fur', 'polecats are animals who shed', 'polished metal is shiny', 'pollen is a powdery substance found in the reproductive parts of plants', 'pollinating animals are small creatures', 'pollination is essential to the survival of certain types of plants', 'pollination occurs via badgers hunting', 'pollinators help a flower reproduce', 'pollution can be physically on the ground also', \"pollution damages the earth's atmosphere\", 'pollution gasses raise temperature', 'pollution is bad for the earth', 'pollution makes it hard to breathe', 'pollution often comes from human activities such as mills', 'pollution results in an increase in greenhouse gasses, which can result in a rise in temperatures', 'polypropylene is Styrofoam as in cups', 'ponds are bodies of water', 'ponds can be depleted enough to were the animals involved just die off', 'ponds contain water, a natural resource', 'pong needs electricity', 'pools are filled with water and candy is made sugar', 'poop is a means of seed transport and dispersal', 'popsicles are made of matter', 'populace is population', 'populations of organisms grow in ideal conditions', 'porpoises have large fins', 'porpoises move through water the best', 'portions of a minute are seconds', 'pots and pans clank and vibrate', 'power plants create electricity', 'precipitation can be rain', 'precipitation causes water amount to increase', 'precipitation is falling liquids', 'precipitation is rain', 'precipitation is rainfall', 'precipitation is water', 'precipitation may be snow', 'precipitation privides water', 'predators and food are part of the environment', 'predators are confused when stalking prey that suddenly appears to be another predator', 'predators are hunters', 'predators eat other animals', 'predators eat prey for meals', 'predators hunt by chasing', 'predators kill', 'predators kill to feast', 'predators of octopuses include sharks', 'predators use creatures for nourishment', 'preferences include flavors', 'presciption medicine in water sources can taint the water', 'preservatives keep foods edible for longer', 'preserving means saving', 'pressure can also cause diamonds', 'pressure depends on weight', 'pressure facilitates compacting', 'pressure is high before a hurricane', 'pressure on a moving object creates friction', 'pressure to get something before someone else does is competition', 'prey are fearful of predators', 'prey is the food in the web', 'primary producers being plants make their own food with the help of soil', 'procepitation is not a word', 'procreating and reproducing are the same', 'produce comes from crops', 'produce is more readily available when transporting it is easier', 'producer organisms are the first level of the food chain', 'producers are plants, which can acclimate, or adapt', 'producers rely on themselves', 'progeny is an offspring', 'prohibited means can not', 'prolonged sunlight exposure results in a tanning or darkening of the skin', 'propelling forward is motion', 'properties include favorite animals', 'proportionality can be direct or inverse', 'protected areas are usually fenced in for protection', 'protected areas limit human access', 'protein heals the body', 'protozoa are single-cell organisms', 'provisions are food', 'proximity enables accurate vision', 'pterodactyls are fossils', 'puddles are water, dangerous to stand in while working on electricity', 'pulleys are in cranes', 'pulling a weed means removing from the ground', 'pulling them means they are removed from the soil', 'pulling your finger over a guitar string is called strumming', 'pulp is made of saw dust form grinding up trees', 'pulse is just an indication of your heart rate', 'pulse rate is the pulse', 'pumping iron is excercising', 'pumpkin pie spice is a mix of spices', 'pumpkin seeds are edible', 'pumpkins are often seen on Halloween', 'pupils absorb light to see', 'pupils dilate in dark places to allow more light to fall on the retina, resulting in surroundings appearing brighter', 'pupils need to be open for light to enter', \"puppies instinctively know to seek milk from their mother's nipples\", 'pursuing is a component of hunting food', 'pushing back is to repel', 'pushing water out of its body means more power to swim', 'pushing water out of its body results in displacement behind a squid', 'pustules contain white blood cells that fought off the P. acnes infection, a pathogen', 'putting plastic in special containers is recycling', 'putting seeds in dirt is planting', 'putting up pictures is a chore', 'quaking and vibrating are the same', 'quartz can be any shape', 'quartz is a crystal that regulates electronic oscillators in watches', 'quartz is harder then glass', 'queso and guacamole are substances', 'quickness is a measure of speed', 'quivering is shaking', 'rabbits are consumers', 'rabbits are hoppers', 'rabbits are rodents', 'rabbits are small burrowing mammals', 'rabbits eat greenery', 'rabbits hide via underground nests', 'raccoons are animals', 'raccoons are scavengers', 'raccoons have striped tails', 'radiation has its effect on human skin', 'radiation is made by certain bombs', 'radiator fluid cools the engine', 'radios turn electrical energy into sound', 'radishes are plants', 'rafts allow movement after heavy rains', 'raging infernos are fires', 'rain can help and hurt organisms', 'rain can sprinkle', 'rain comes after warm, foggy, humid condensation', 'rain comes from clouds', \"rain fills up dam's\", 'rain gauges catch the rain that falls', 'rain is essential for farming', 'rain is mainly h2o', 'rain is moist, as it is a liquid', 'rain is precipitation', 'rain is something you can drink', 'rain makes you wet', 'rain sprinkles down', 'rain, hail and other things from clouds is precipitation', 'rainbows are produced through multi-faceted sides', 'raindrops act as a pism', 'raindrops are another name for rainfall', 'rainfall is the amount of moisture gathered', 'rainfall is water falling from the sky', 'rainfall makes native creatures wet', 'rainwater in the ground dissolves limestone to form caves', 'raised portions of land are plateaus', 'raising is being pushed up', 'raising is the same as increases', 'raising warmth levels is increasing temperature', 'raking over is scraping over', 'rapids are a part of rivers', 'rare-earth minerals are magnetic', 'rattlesnakes are reptiles', 'ravaged stone is weathered or eroded', 'ravens lay eggs', 'reaction requires combining them', 'reaped is to gain', 'reaping something is getting it', 'recharging an iphone requires using a source of energy', 'recreating is to mimic', 'recurrence will repeat', 'recycling avoids waste', 'recycling can heal the environment', 'recycling is good for the environment', 'recycling is reusing materials', 'recycling means making something usable in some way again', 'recycling plastics is done by putting them in recycling containers', 'red hornets stingers are on their rears', 'redirect is another name for bounces', 'redirecting is dispersing', 'reek is a smell', 'refilling a box puts it to more use', 'reflecting is bouncing', 'reflection lets you see yourself in an object', 'refraction alters appearance', 'refrigerators need electricity to function', 'refrigerators, nails, and washing machines are made of iron', 'refusing food is a lack of eaten food', 'relocate is moving', 'relocated objects are moved, sometimes by push', 'relocating happens when animals move away', 'relocating is how animals may leave environments', 'relocating is to disperse', 'relocating seeds is dispersing them', 'remora and sharks are symbiotic', 'remora are scavengers', 'remora fish are symbiotic with sharks', 'remoras are ray-finned fish', 'renewable is endlessly available', 'renewable is to be retrieved repeatedly', 'renewable resources can be obtained without fear of using them up', 'renewable resources may be used endlessly', 'replacing a park with a city destroys an ecosystem', 'reprocessing is recycling', 'reproduction is positive', 'reproductive behavior can include returning to a certain place', 'reptiles are cold blooded and will die in colder temperatures', 'reptiles cant live in cold climates', 'resources being lessened cause migration', 'respiration is breathing air', 'respiration is completed by cells', 'respiration is what living things do', 'resting also give a positive impact on the human body', 'retailers sell product', 'reusing a resource is a way of recycling that resource', 'reusing gift bags reduces the amount of waste created', 'reusing items like grocery sacks reduces the amount of items that need to be recycled in the first place', 'reusing plastic is better than throwing it away', 'reusing things is a form of recycling', 'reusing things that would normally go to a landfill is positive for the environment', 'reusing waste lessen discarding the waste', 'rhinoceros can die', 'ribs are part of the skeletal system', 'ribs showing is underweight', 'ripping and tearing are the same', 'ripping is akin to tearing', 'ripples are formed by vibrations', 'rise is an increase in activity', 'river fluid is water', 'river stones are smoothed by weathering', 'rivers are flowing liquid', 'rivers are made of water', 'rivers dry up sometimes', 'rivers flood when too much rain happens', 'rivers have rushing water', 'rivers often meet at an estuary', 'rivers often tumble rocks', 'roads can be weathered down and degraded', 'robins are birds', 'robins are birds and grasshoppers are insects', \"robins don't have webbed feet\", 'robots are not living things', 'robots require computer commands', 'rock folding causes mountains in general', 'rock folding is caused by plate shifting', 'rock is stony', 'rock tumblers contain stones that constantly collide to remove any rough edges', 'rocket boosts produce a great deal of force', 'rocks are crystalline solids', 'rocks are found in mines', 'rocks are hit against other rocks to make fires, which will break them down by mechanical means', 'rocks are stones', 'rocks are tools used by otters', 'rocks can be the opposite type, smooth from water', 'rocks contact each other in rivers', 'rocks have metal in them', 'rocks in a landslide can kill hikers', 'rocks in a landslide crush anyone under it', 'rocks piling up creates mountains', 'rodents are a source of food for predators', 'roe are fish eggs', 'rolling out is spreading or increasing', 'roofing nails are made of iron', 'room heaters increase room temperature', 'root hair cells are underground so photosynthesis does not occur', 'roots are found on bamboo', 'roots are housed in soil', 'roots are in soil area', 'roots provide resilience in the wind', 'roses are flowers', 'roses are plants', 'roses have a stem', 'roses reproduce using pollen', 'rotating feet on pedals is pedaling a bike', 'rotating is orbiting', 'rotating is turning', 'rotation of planet causes setting of sun', 'rotations are necessary for bodies to be planets', 'rotting happens after something dies', 'rough to spot is difficult to see', 'roughage is grass, hay and silage', 'rubber bands can produce musical sounds', 'rubber insulates from electrical heat', 'rubbing of mechanical parts induces friction and gives off heat', 'rubbing your palms together causes friction', 'ruination is destruction', 'ruining the composition can alter the identity', 'running a full dishwasher saves water, a natural resource', 'running faster requires more energy', 'running quicker requires more energy', 'running requires energy', 'running times are effectively measured by stopwatches', 'runoff makes people sick', 'rustling air is air motion', 'safeguarding is protecting', 'safety glasses prevent harm to the eyes from chemicals like bleach', 'safety goggles are a form of personal protection equipment', 'safety goggles are desired when in dangerous situations', 'said organism is that animal', 'salamanders lay eggs', 'salamanders look like lizards', 'salmon are fish', 'salmon is an aquatic animal', 'salt dissolves in water', 'salt is not corn', 'salt is sodium', 'salt water is able to be filtered to drink', 'salt water is sourced from the ocean', 'saltwater is the ocean', 'salvage means save/rescue for reuse', 'sand is composed of silica', 'sand is not an element used in photosynthesis', 'sand is small rock particles', 'sand is weathered pieces of stone', 'sand paper is rougher than plain paper', 'sand, roxys and pearl are not found in rocks', 'sandbars requires sediment deposits', 'sandpaper is known for rough texture', 'sands is tiny grains of rock', 'sandy land is a dry encironment', 'sapling seeds are tree seeds', 'sardines are fish', 'satanic leaf-tailed geckos are an organism which looks like leaves', 'saving plastic bottles in conserving', 'sawdust is processed wood', 'scales measure weight', 'scales would indicate if someone was overweight', 'scars are evidence of harm to living things', 'scars are results of an incident', 'scars can be given from burns', 'scatterer is disperser', 'science fair volcanoes use baking soda and vinegar reactions', 'scientists are experimenting to develop microbes that can live off surplus electricity and CO2', 'scientists are experts in a field of study', 'scientists invent things', 'scorch is burning', 'scorching is another word for hot', 'scorching is burning', 'scorching logs are on fire', 'scorching power is heat energy', 'scorching temperatures are heat', 'scottish folds are cats, and cats enjoy human company', 'scrap yards use powerful electromagnets', 'scratches leave lines', 'scratching is done by using pressure in order to leave marks', 'screeching is a sound emitted', 'screws attach things together', 'scrubbing a toilet is a chore', 'sea anemones are cnidarias', \"sea anemones don't contain chloroplasts\", 'sea cows need a lot of water to be comfortable', 'sea floor is bottom of the sea', 'sea hares live in water', 'sea horses are living creatures on Earth which require energy', 'sea park dolphins receive a lot of training to perform in shows', 'sea turtles lay many eggs', 'sea weed comes from the ocean', 'seals are semiaquatic mammals', 'seals learn to clap on command for treats', 'seamen need compasses', 'seared is burned with heat', 'searing is a type of cooking', 'searing is hot, a source of heat', 'seas are a body of water', 'seas are oceans', 'seasons are caused by the sun', 'seasons change as the earth rotates the sun', 'seaweed is an aquatic plant', 'sediment is rock', 'sedimentary formations are one type of rock', 'sedimentary rocks are found at the beach', 'seeding a new track is planting trees to be cut later', \"seeds are a flower's offspring\", 'seeds are cased embryonic plants', 'seeds are hard', 'seeds are often dried and eaten', 'seeds can be on the outside of strawberries', 'seeds can be strawberry', 'seeds can cling to fur and clothing', 'seeds can get stuck to dogs in a field', 'seeds can grow into trees', 'seeds in a dish act as a feeder', 'seeds that grow have sprouted', 'seeing easier happens when things are enlarged', 'seeing eye dogs can visually observe things', 'seeing requires eyes', 'seismographs record the amplitude of the seismic waves', 'sense organs are part of the nervous system', \"seperating a tree from it's roots is to cut it down\", 'setting a burner to maximum results in a temperature increase', 'several forest animal reproduce by eggs', 'sexual maturation happens in physical adulthood', \"shadows are directly opposite the sun's position\", 'shaking your head requires muscles moving bones', 'shale is a sedimentary rock', 'shale is a sedimentary rock like limestone', 'shallows are warm waters', 'sharks and orcas compete for resources', 'sharks are carnivores', 'sharks are predators of octupuses', 'sharks have gills', 'shedding requires vacuuming to pick up hair', 'sheep herds are living organisms', 'shelled item is egg', 'shelter is a home', 'shelter is a protected space', 'shelter is protection', 'shingles are a part of buildings', 'shivering is when something quickly shakes', 'shoes can insulate', 'shoes have rubber soles, which are harmful to the environment when burned', 'shoots are stems', 'shopping bags are made of plastic', 'short daylight hours happen in northern winters', 'shorter showers conserve water', 'shorts are what is worn in hot temperatures such as deserts', 'shoving is pushing', 'showers are rain falling', 'showers kill good bacteria', 'shrimp are smaller than trees and large mammals', 'shrubbery is plants', 'shrubs are composed of plant cells', 'shuddering and body tremors are shivering', 'sidewalks are hard objects', 'sighing requires expelling CO2', 'signals deliver messages', 'silicate rocky shell is what the mantle of earth is comprised of', 'silos are used for storage', 'silt is sediment', 'silver spoons are shiny', 'singed means burned', 'six legged entities are insects too', 'skeletal system is made of bones', 'skidding wears down tires', 'skin is the outermost organ which protects the inner organs', 'skunks are living things', 'skunks are not optimal to eat', 'skunks have bad odors', 'skunks make bad odors', 'skylights are windows', 'skyrocketing is positive', 'slamming the breaks causes the car to skid', 'sledding only takes place on snow, which falls in the winter', 'sleep allows the body to rest fully', 'sleep is a way to rest', 'sleep time is night', 'sleep time is night time', 'sleeping hours are at night', 'sleepy time is night', 'sleet falls down from clouds', 'sleet is a form of precipitation', 'sleet is smaller hail', 'sleet, or ice, is slick', 'slicing an apple takes it from whole to pieces', 'sliding and skidding are the same', 'sliding is a motion', 'slop is pig food', 'slowing electricity is done by insulators like rubber', 'small animals include voles', 'small items like toys can be measured in a cylinder', 'smashing an object changes breaks it down', 'smoke stacks create pollution', 'smoking pollutes the air', 'smoothing can be an effect of erosion', 'snakes are cold blooded', 'snakes need hot lamps', 'snakes need little food', 'snapshots are a synonym for pictures', 'snow and frost are cold', 'snow is categorized as appearing like white powder', 'snow is ice precipitation', 'snow is solid water at lower temp', 'snow is white precipitation', 'snow monkeys are animals', 'snow reflects all color of light', 'snowy areas are cold environments', 'sobbing is a negative effect of harm', 'soda bottles are recyclable', 'soda can is made of aluminum', 'soda cans are made from aluminum', 'soda cans are recyclable', 'soda is a substance that changes flavor', 'sodium is salt, which keeps ice from melting as quickly', 'sodium is salt, which remains after salt water is evaporated', 'soil contains nutrients', 'soil contains the roots', 'soil is below a plant', 'soil is dirt', 'soil is found under grass', 'soil that is broken up is looser', 'solar calculators use solar energy to function', 'solar energy is required for life to be sustained', 'solar equipment runs on solar energy', 'solar panels are good conservation tools', 'solar panels are used in homes', 'solar panels convert absorbed sunlight', 'solar panels require a steady amount of sunshine to maintain their voltage', 'solar pumps run on sunshine', 'solar radiation is what makes sunlight hot', 'solar rays are sunlight', 'solar rays generate heat', 'solid wood is an opaque object', 'solids cannot be measured', 'solids have varying melting points', 'solo cups are plastic', 'some animals can see in full color at night in moonlight', 'some animals depend on trees for food', 'some biofuels are made from algae', 'some birds need energy from prey', 'some birds prefer warmer climates, and migrate to them', 'some birds use their feet to catch prey', 'some cars run on electricity', 'some characteristics are determind by the environment itself', 'some evolve to lay eggs instead of live births', 'some fish that lay eggs need salt water', 'some foods contain vitamin d', 'some forests are made up of cacti', 'some hares grow longer fur for winter', 'some instruments are played by flicking', 'some living things, such as rats and roaches, benefit from human activity', 'some lizards like some species of geckos live in tropical environments', 'some mammals are herbivores', 'some moths have wings that look like leaves', 'some need to develop skills to outrun predators', 'some of the earliest mirrors were made of certain types of rock', 'some people are killing rhinos and selling rhino horns to people who want them for health remedies', 'some people have used octopus ink for writing', 'some plants need warm light during the day', 'some sea life is very small', 'something can look different if it is viewed through a refraction', 'something crumpled is more round than flat', 'something is cooler when it has less heat', 'something matching the background is camouflaged', 'something that has a reactive charge is magnetic', 'something that is biotic is organic', \"something that's become misshapen with holes has a new shape and mass\", 'something with more area with absorb more sun', 'sonar is helpful for finding lost objects', 'sound can vibrate things to break', 'sound is audible', 'sound is not made of molecules', 'sound is unable to be heard in a vacuum', 'sound vibrates', 'sounds of superior animals can deter predators', 'sources of water provide for organisms', 'south is the direction opposite of north', 'south is the opposite direction of north', 'sowing means to plant', 'space between areas is distance', 'sparrows are birds that eat berries', 'speakers in phone create sound', 'special dust is pollen', 'special straws filter water', 'speed equals distance divided by time', 'speed goes down due to friction', 'speed is needed to know how long it would take to drive somewhere', 'spending time on the road is a way to know how long driving is going on', 'spiders are small animals', 'spiders build webs, traps and hunt', 'spineless can refer to having no bones!', 'spinning tires are in motion', 'spoiled food often has mold, which is fungi', 'spraying windshield fluid decreases visibility while driving', 'spreading leaves out absorbs sunlight', 'spring is a season', \"springtime means it's warmer so less hair is needed\", 'sprinkling means rain, which is precipitation', 'squashing means to crumple', 'squawks are sound', 'squids live deep in the ocean', 'squirrels are animals', 'squirrels bury nuts', \"squirrels don't eat animals\", 'squirrels eat from trees', 'squirrels need to save food', 'stacked up sand is a sandbar when in water', 'stage after larva is pupa', 'stalactites are found in caves', 'stalactites grow on the ceiling.', 'stalling income is a lack of current income', 'stapler pins are metal', 'stars appear in different locations at dawn than at dusk', 'stars are a part of the sky', 'stars are astral beings', 'stars are balls of hydrogen found in space', 'stars are billions of miles away', 'stars are burning hydrogen shaped balls', 'stars are distant, though bright', 'stars are less visible in cities than in small towns', 'stars are placed differently as the earth revolves', \"stars that are visible depend on the earth's rotation\", 'starvation happens when there is no food', 'starving is a negative impact', 'static means unchanged, mass is equal to weight', 'staying perky is surviving', 'steam condenses into a measurable liquid', 'steam condensing pools', 'steam evaporates from boiling water', 'steam is vapor particles', 'steel absorbs heat from warm things', 'steel can be a mirrored surface', 'steel conducts electricity efficiently', 'steel is an electrical conductor', 'steel is reusable', 'steel, copper, and aluminum are types of metal', 'steeper incline creates move force needed', 'stick bugs live on twigs and branches', 'sticks are pieces of branches, which form nests', 'stingy use is conservative use', 'stinky animals have bad odors', 'stomach acid breaks down food substances', 'stomping on a puppy is harmful to the puppy', 'stone and rocks are the same', 'stone is a rock', 'stone is rocks', 'stonefish camouflage', 'stones are destroyed in erosion', 'stones are rocks', 'stones are rocks, and iron is magnetic', 'stones are small rocks', 'stones become smoother when they are weathered', 'stones crumpling are rocks folding', 'stopping means being still', 'storms are known dispersers', 'storms come from rain and cloudy weather', 'storms mean clouds are present', 'stormy weather causes storms', 'stormy weather is often paired with thunder and lightning', 'stoves are found in the kitchen', 'stovetops and ovens add heat to things', 'straight is west when right is north', 'straight solids are easiest to measure by tape', 'straight up means directly overhead', 'strawberries are buds before they are berries', 'strawberries are plants and plants are producers', 'strawberries grow from white flowers', 'straws in water appear to be misaligned because of refraction', 'strength is the capacity to withstand great force or pressure', 'striking flint is used to start fires', 'strong fans cool air', 'stronger beings are generally in better health', 'stronger gravity means an increase of gravity', 'stuff is an object', 'subways are a form of transportation', 'succulents are plants', 'sucrose is sugar', 'suffering is a negative impact', 'suffering is a result of harm', 'sugar can dissolve quicker then limestone', 'sugar carmalizes in the pie', 'sugar is a source for sustenance', 'sugar is a substance', 'sugar is crystallized carbohydrates', 'sugar is found in plants', 'sugar is in a tangerine', 'sugar is in plants', 'sugars are carbohydrates', 'suit of armor is metal', 'summer is 6 months after Christmas', 'summer is after spring', 'summer is in the northern hemisphere in June', 'summer is the opposite in southern hemisphere', 'summer is the warmest part of the year', 'summer is warm and sunny', 'summerlike is warm', 'sun involves orbit', 'sun is hot', 'sun setting earlier means shorter days and less daylight', 'sunbeam is light', 'sunbeams are composed of sunlight', 'sunbeams are sunlight', 'sunflowers are a renewable resource', 'sunflowers are plants', 'sunlight causes steering wheels to be extremely hot in the summer', 'sunlight comes from the fiery gas giant our planet orbits', 'sunlight gives energy', 'sunlight is a source of solar energy', 'sunlight is needed for photosynthesis', 'sunlight is nutriment for plants', 'sunlight is solar energy', 'sunlight takes 8.3 minutes to reach Earth from the sun', 'sunlight, water and wood are renewable', 'sunshine has thermal energy', 'supply attempts to meet demand', 'surfers prefer high tide', 'surrounding a valley is commonly a mountain range which is high', 'sustainable is renewable', 'sustenance is food', 'sustenance is food material', 'sustenance is nutrients', 'sustenance is required for a healthy animal', 'sustenance is the basic form of food', 'sustenance results in a species thriving', 'swamps are a watery place', 'swans are mothers', 'sweat comes out of the skin', 'sweat glands produce sweat', 'sweat is a liquid', 'sweat is fluid coming from pores', 'sweat makes you wet and smelly', 'sweating lowers body temperature', 'swelling is filling to a higher level', 'swelling seas are a part of the tide', 'sweltering means uncomfortably hot', 'sweltering weather is very hot', 'swimsuits are worn in June in the northern hemisphere', 'switches are branches of wood', 'switches can turn off lights', 'switching crops every so often takes less nutrients from the soil', 'swordbills have long beaks', 'swordfish use its fins to move quickly through water', 'swords are made from metal which comes from ore', 'swords are made of carbon steel', 'swords conduct electricity.', 'sync means get in line with', 'table fans use electricity', 'tables are a surface', 'taffy can be scratched with a fingernail', 'taffy can be torn easily', 'taillights would get dimmer the further a car drove away', 'taking apart leads to pieces', 'talc is a mineral', 'talc is found in soil', 'talc streaks', 'tall areas are mountains', 'talons are claws', 'tape measures can be used to measure meters', 'tapes have graduated markings for units', 'teak is a raw material', 'tearing a private document changes it into little pieces', 'tectonic expression is the action of an earthquake', 'tectonic plate movement causes eartquakes', 'tectonic plates are in the dirt and ground', 'tectonic plates are stony', 'tectonics is the act of a tectonic plate moving', 'teeth are made of bones', 'teeth quality is inherited', 'telephones contain microphones and speakers', 'telephones have magnets', 'telescopes and magnifying glasses make things larger', 'telescopes use electromagnetic radiation to function', 'telescopic lenses get up close', 'televisions get hot over time', 'temp changes are part of seasons', 'temp is considering degrees', 'temperature can be measured in a rectum', 'temperature is natural', 'temps rising is an increase in temperature', 'tender leaf buds are the edible part of a tree', 'tepees are shelter', 'tepid means slightly warm', 'terminated is destroyed', 'texas is south', 'thawing temp is when something melts', 'the Earth absorbs sunlight.', 'the Earth is a planet', 'the Earth orbits the sun', 'the Earth orbits the sun once per year', 'the Esophagus is part of the digestive system', 'the Grand Canyon is a large crevasse', 'the Rockies in America are little more than stacks of gravel due to weathering', 'the South Pole is a cold environment', 'the ability to reproduce is considered a sign of adulthood', 'the air in it is gas', 'the apex has an elevation greater than 35,000 ft', 'the arctic has snow year round', 'the arctic is a cold environment', 'the arctic is cold', 'the arctic is in the north', 'the arm is made of muscle and bone', 'the atmosphere is gas layers', 'the atmosphere is the air surrounding the planet Earth', 'the bad odor is made from sulfur-containing analog of an alcohol', 'the bat is hitting the ball', 'the beginning stage is reproduction', 'the body digests nutriment, which is food', 'the body is a humans physical being', 'the bottom of a mountain has lowered elevation', 'the brain is a large collection of neurons', 'the brown colors of a fawn allow it to blend in with its environment in Autumn', 'the car is travelling toward the person', 'the carnation is larger, so pollinators will be more attracted to it over a smaller flower', 'the cell membrane separates the interior of the cell from the outside', 'the closer the larger the view', 'the closest body in space to the earth is the moon', 'the closest star provides light energy', 'the cold blooded aspect lets the amphibian hibernate', 'the color black absorbs more light', 'the color pallete decides how light an objects color is', 'the cornea takes in light to the eye', 'the countryside would have the least light pollution', 'the crust is just above the mantle', 'the decomposed organism is used the nutrients it leaves behind', 'the deer are nutition because they are prey', 'the desert gets cold at night', 'the destruction of mountains over time creates soil', 'the difference between hot inside and cold outside causes the a burst bulb', 'the different phases of the moon are created by the earths shadow', 'the digestive system turns food into fat to keep for later when not used', 'the distribution of warmness is heating', \"the driver's goal is to speed up, wind prevents that\", 'the ear is our hearing organ', \"the earth changes it's tilt during season change\", 'the earth has less mass than the sun', 'the earth is a globe which circles the sun, a star, once a year', 'the earth is a human planet', 'the earth is covered by a crust of stone', 'the earth moves as it orbits the sun', 'the earth only has four layers', 'the earth orbits', 'the earth orbits the sun', 'the earth shakes during an earthquake', 'the ember produce a exothermic reaction', 'the environment is our ecosystem', 'the environment of something is whats immediately surrounding it', 'the epidermis is the skin', 'the equator is in between the north and the south', 'the equinoxes occur at opposite times of the year', 'the femur is a bone', 'the filament converts the energy in a light bulb', 'the flat appendages on organisms that give off oxygen are leaves', 'the floating arrow is iron and the northern axis is the north pole', 'the food pyramid requires producers', 'the formula for area is length x width x height', 'the globe, our earth, shifts on its axis', 'the gobi desert is desert', 'the ground affect things touching it', 'the ground is the surface of the Earth which has rocks comprised of elements', 'the ground warms as seasons change from winter to spring', 'the heart is a pump', 'the heart never sleeps', 'the heat energy is transferred to the food', 'the heating element in a toaster is a thermal conductor', 'the horizon is also known as the skyline', 'the human frame contains bones', 'the humans outer layer is the skin', 'the initial state of lava is very hot', 'the last layer is the outer core', 'the lava starts out at very high temperatures', 'the lens focuses light through augmentation', 'the life cycle process involves passing bodily traits', 'the liquid released by sweat glands is sweat', 'the location where the sun shines most directly on the Earth is the equator', 'the loss of particles results in reduced size', \"the mantle is earth's second layer and contains much iron\", 'the mass of a planet can be measured in kilograms', 'the moon also contains craters', \"the moon doesn't have an atmosphere\", 'the moon effects the tides', 'the moon goes through all of the different phases each month', 'the moon has less gravity than Earth', 'the moon has lower gravity', 'the moon illuminates earth at night', 'the moon is a satellite', 'the moon is a satellite without much air in our solar system', 'the moon is an astral night light', \"the moon is earth's natural satellite\", \"the moon is earth's satellite\", 'the moon is large and lights the night sky', 'the moon is our one and only satellite', 'the moon is white', \"the moon moves via the Earth's gravity\", 'the moon orbits the Earth', 'the moon reflects from the sun', 'the moon revolves around the earth which revolves around sun', 'the moon spins in a revolution', 'the most daylight can be had in the season of Summer', 'the mother of its future children would be its mate', 'the mouth and anus are parts of the digestive system, which absorbs nutrients from food', 'the mouth takes in food', 'the movement between plates is less than a minute', 'the nearest star causes changes over time', 'the nervous system is found in vertebrates', 'the north star never changes position', 'the northern hemisphere is the opposite dealing with weather', 'the object is the substance', 'the ocean absorbs a large portion of solar energy', 'the ocean is a liquid deluged with sodium chloride, which is the chemical name for salt', 'the ocean is on the Earth', 'the ocean is salty water', 'the ocean is the best place to find tides', 'the ocean is the lowest point on earth.', 'the offspring of frogs are young amphibians and fish breathe through gills', 'the only star the earth orbits is the sun', 'the outer casing or bark of the tree expands once a year and leaves a ring when it does', 'the outer covering is a layer', 'the pancreas is an internal organ', 'the passage of time takes place over long periods of time', 'the pathway is complete when there is full connection the whole path', 'the person sitting next to you has a plate that is closer to you', 'the pits in the mentos give a contact are for the cola to release it radical oxygen molecule', 'the planet spinning causes the star movement appearance', 'the pool has cool water and the jacuzzi has warm water', 'the pull of a planet is caused by gravity', \"the pupa stage is when the insect's wings first start to form\", 'the reflected light from a mirror allows someone to see themselves', 'the resistance created by the opposing currents combining creates a bright light', 'the result of the chemical reaction from the heat is vapor', 'the retina is the optic disk', 'the ring of fire is under the ocean immersed lava vent are volcanoes', 'the root structure provides support for the tree', 'the running bull is a moving object', 'the saxophone was invented by Sax', 'the season with the most direct sunlight is summer.', 'the sensory system is composed of nerves', 'the sharpest side of a decline will have water falling over it first', 'the size of the shadow', 'the skies are black when the weather is stormy', 'the sky is a large area filled with air', 'the sky is bright in sunny weather', 'the sky is filled with gray clouds during storms', 'the smallest cactus species is the Blossfeldia Liliputana', 'the solar rays are very bright', 'the southern division of the earth is a hemisphere', 'the southern hemisphere is below the equator', 'the spinal cord is a nerve and nerve cells are electrically excitable', 'the stars are visible at night', 'the strongest laser light can burn skin', 'the sun can be blocked by a cloud', 'the sun can be blocked by opaque material', 'the sun can cause high temps', 'the sun closeness to earth cause seasons', 'the sun does not revolve around anything', 'the sun gives vitamin D', 'the sun heats the earth throughout the day, that heat is stored in the crust', 'the sun is a central star which Saturn orbits', 'the sun is a producer of heat', 'the sun is a source of heat', 'the sun is a star', 'the sun is a star with great mass', 'the sun is a very large object', 'the sun is a yellow dewarf', 'the sun is a yellow dwarf', 'the sun is a yellow dwarf star', 'the sun is an astral gas ball', 'the sun is an astral star', 'the sun is in the sky', 'the sun is our closest star', 'the sun is our only yellow star', 'the sun is the closest star', 'the sun is the closest star to earth', 'the sun is the largest star in the solar system', 'the sun is the source of solar energy', 'the sun outputs solar energy which will defrost frozen substances', 'the sun produces more heat when directly overhead', 'the sun provides solar energy and a four leaf clover is a producer', 'the sun rises and set only once in twenty four hours', 'the sun rising, setting and rising again is one full day', 'the sun travels fast enough for the eye to perceive over time', \"the sun's gravity causes the planets to revolve around it\", 'the support is made from small structures', 'the surfaces of a space craft glow red on re-entry', 'the switch moves the metal to close it', 'the thin membrane which surrounds a cell is its cell membrane', 'the third rock from the sun is earth, more than 69% inclueds 70%', 'the ticker is the heart', 'the top half of the globe is the norther hemisphere', 'the top layer of soil contains the most nutrients where I hike', 'the torso is part of the body', \"the trunk is a tree's stem\", 'the trunk of a tree carries nutrients from the roots to the branches and leaves', 'the tundra is very cold', 'the vaginal canal is muscular', 'the vaporization of water is evaporation', 'the vision organ is the eye', 'the water heater holds hot water for showers', 'the western and eastern United States have very different climates', 'the wet planet is earth', 'the wilderness is far from any city', 'the wind is a force that acts on objects', 'the winter solstice is marked by lowered temperature', 'the winter solstice is the shortest day of the year and the summer solstice is the longest day of the year', 'the world is a planet', 'the yellow dwarf in the sky is our sun', 'their ears recieve short radio pulses showing them their prey', 'their skin has darkened to protect from radiation sickness', 'there are 1,440 minutes in one day', 'there are 1440 minutes in a day', 'there are 24 hours in a day', 'there are 28 days in February', 'there are 365 days in a standard year', 'there are 4 seaons', 'there are 52 weeks in a year', 'there are 7 days in a week', 'there are downpours during some storms', 'there are four seasons in a year', 'there are less sunlight hours in December than the rest of the year', 'there are multiple hours in a day', 'there are no clouds during sunny weather', 'there are seven days in a week', 'there are three months in each season', 'there are twelve months in a year', 'there are two receptors one for sour and one for sweet sucrose is sweet', 'there is a difference in precipitation between environments', 'there is a lot of heat in a desert', 'there is a lot of ice in the arctic environment because a lot of the Arctic Ocean is frozen', 'there is endless wind', 'there is increased pressure deep within the earth', 'there is less daylight in december in the new york', 'there is less water for plants in a desert so less plants grow', \"there is no oxygen on Saturn's rings for the respiratory system to use\", 'there needs to be a medium for the sound wave', 'thermal conduction happens faster with metal objects', 'thermal conductors let heat pass efficiently through them', 'thermal insulators can be installed in dog houses and etc to keep pets warm', 'thermal insulators retain heat in a warm place from losing heat to the outdoors', 'thermal release in exothermic', 'thermographs measure temperature', 'they will increase without our help', 'thick feathers are an adaption for survival', 'thick fur is an adaptation used to survive in cold places', 'thicken and condense are the same', 'thicker skin provides warmth', 'thin animals have showing bones under skin', 'things changing is a part of the earth changing', 'things passed down are made to endure', 'things roll more slowly where there is more friction', 'things that stopped breathing are dead', 'things with strong gravity have magnitude', 'thirteen weeks is approximately three months', 'this happens from parent to child', 'this is the hottest part of the day', 'three meals a day is standard for human nourishment', 'three per season', 'thrust can work outside of atmosphere', 'thrust occurs when something is pushed', 'thrust pushes against the ground', 'tidal energy is rarely used', 'tillage causes erosion of soil', 'tilling the ground makes the soil loose', 'tilts are measured by their degree of angle', 'timber companies maintain lumber yards where they hire sawyers to buck the wood', 'timber companies make rulers', 'timber companies use industrial saws', 'timber is tree products', 'timberland is a forest', 'timberland is forest', 'time passing allows for rock erosion', 'tin is a conductor', 'tin is a metal', 'tinted glasses have tinted lenses', 'titanium is a metal', 'to ascend is to rise', 'to avoid eye harm wear protection', 'to be augmented is to increase', 'to be gigantic is to be large', 'to change location is to move', 'to conceal is to camouflage', 'to decrease is to go down', 'to deliquesce is to become a liquid', 'to eat creatures is to predate', 'to enlarge is to make bigger', 'to gasify is become evaporateed', 'to get melty is to melt', 'to hatch is to emerge', 'to have a poor impact is a negative impact', 'to illuminate is to use light energy', 'to incinerate is part of combustion', 'to increase in altitude is to be lifted', 'to know the area of a rectangle, you must know the length of the sides', 'to lessen is to decrease', 'to liquify is to melt', 'to measure a room for carpet you need to measure distance', 'to much movement can wear livings things out', 'to objects colliding creates sound through vibration', 'to pass away is to die', 'to plummet is to decrease', 'to propagate is to breed in order to increase numbers', 'to putrefy is to decompose', 'to subside is to decrease', 'to unattract is to repel', 'to understand is to comprehend', 'toast is made using heat', 'toasters are a household kitchen appliance', 'toasters are electrical', 'toasters brown their target items', 'toasty is warm', 'toasty is warm, which filaments get as lights are turned on', 'toddlers are human children', 'tomatoes are a fruit', 'tomatoes are usually red', 'too many deer leads to not enough food for individuals', 'too many organisms reproducing can lead to overpopulation', 'too much rain leads to flooding', 'tornadoes are natural occurrences that can break stones', 'tornados cause weathering', 'tot be polar opposite is to be magnetic', 'towns already have homes built in them', 'toy submarine are filled with baking soda', 'traffic accidents can produce large amounts of heat', 'trail mix is an example of a mixture', 'trains use coal', 'transparent is clear', 'transport is moving food', 'transportation devices often cause pollution', 'transporting seeds, such as beans, disperses them', 'trash that can be used for a new purpose is recyclable', 'traveling around a thing is a revolution', 'traveling cars are moving', 'tree land is a forest', 'tree pips are seeds, such as acorns', 'tree zones are forests', 'trees and vines are plants', 'trees are a part of the ground, which shakes during an earthquake', 'trees are a raw material in all wood and paper products', 'trees are a type of plant', 'trees are not a pollutant', 'trees are planted on earth day', 'trees are plants', 'trees develop by using nutrients', 'trees falling is a type of habitat destruction', 'trees packed close together depict a dense forest', 'trees produce timber', 'trees start as seeds', 'trees that tower over the ground would be quite tall', 'trees used for dams have been gnawed down', 'trembling happens in earthquakes', 'trembling is shivering', 'trilobytes are fossils', 'tropical regions are relatively warm', 'tropical storms are the begin of a hurricane', 'truck beds are open to sunlight', 'tsunamis are a type of natural disaster', 'tsunamis are natural events', 'tugboats apply a continuous motion.', 'tumbling machines weather stones', 'tuna are predators of anchovies', 'tundra are cold', 'tundra is an ecosystem', 'tundras are cold', 'turbines can produce continuous power from wind', 'turf is grass', 'turning a crank is mechanical energy', 'turning bottles into a t-shirt is creating something new from a recyclable', 'turtles instinctually seek out the sea after hatching', 'twelve months is one year, or 365 days', 'twelve weeks is three months', 'twenty pounds is less weight than twenty four pounds', 'twinkie production makes waste', 'twinkies are food', 'two days are 48 hours', 'two drinks together is a solution', 'two forces moving in the same direction will cause movement', 'two forks can have the same charge', 'tyrannosaurus rex were carnivores', 'umbrellas are needed when it will rain', 'unclean water is unsafe', 'underground collisions are produced by earthquakes', 'undifferentiated cells change into specialized tissues', 'uneven heating is unevenly distributed', 'unfreezing means it warmed up', 'unhatched chicks are eggs', 'unicycles are a type of bicycle', 'united atoms compose molecules', 'unliving is dead', 'unstable material on a hill is a landslide', 'unsustainable farming practices is a damaging change to an environment', 'unwell is ill', 'upper hemisphere pole has low temp even during daytime', 'upper portion of earth is the northern hemisphere', 'uptick is increase', 'use of fossil fuels like boating increases atmospheric CO2', 'using for new purposes is a way to reuse a material', 'using something for new purposes makes it reusable', 'using sparsely is using very little at a time', 'utility is the use of something', 'uv light can burn', 'vaccines are injected with sharp metal objects', 'vaccines contain elements of the illness they fight against', \"vaccines only help when they're used\", 'valleys were formed by rock folding', 'vanes are rotating flat surfaces', 'vanilla is a flavor', 'vaporization is the first stage of evaporation', 'variable is adaptable', 'varied homes are ecosystems', 'variety of planted crops shows a rotation', 'various weather means various seasons', 'vast green fields are grassy spaces', 'vegetable oil is an example of an alternative fuel', 'vegetation is plants', 'vehicles can be cars', 'veins are a part of the circulation system', 'velocity is speed', 'velvety rocks are smooth', 'venison is a meat', 'viable and required things are resources', 'vibrant plumage would be a colorful part of a bird', 'vibrating strings cause wood to resonate', 'viewing requires sight', 'vinegar is oxidized acohol', 'vinegar is very acidic', 'vinegar reacts with several things', 'violas make sound', 'violas vibrate air', 'violins use bows to produce vibrations in the strings', 'vipers are poisonous snakes', 'vitality extinguishing is dying', 'vitamin d is fat soluble', 'vittles is food', 'vocalizing requires sound', 'volcanoes are a part of natural geological processes', 'volcanoes are hot and granite is a rock', 'volcanoes can be active for years', 'volcanoes have heat and pressure', 'volcanoes spew hot molten rock', 'volcanoes underwater are difficult to see', 'vole populations decrease as they are eaten more frequently', 'voles are seed eating animals', 'voles dig tunnels in soil', 'voles have fur', 'volume is an amount', 'volume refers to amount of space something occupies, such as the inside of a container', 'volume tells size', 'vomiting shows ill health', 'vultures are scavengers', 'vying means in competition with one another', 'waking hours are during the day', 'walking instead of driving reduces pollutants', 'walking is moving', 'wall switches can control lights', 'wall wart transformers have electrical current running through them', 'warm blooded creatures often have fur', 'warm climates are in tropical areas', 'warm rays come from the sun', 'warm rooms are comfortable in winter', 'warm weather can cause moist things to dry out', 'warming food is cooking', 'warmness is connected to temperature', 'warmness is heat', 'warmth can come external to the animal', 'warmth is a byproduct of a lightbulb', 'warmth is heat', 'washing face is learned behavior', 'washing removes this bacteria', 'waste attracts raccoons', 'waste is a type of pollution', 'waste is toxic', 'waste will pollute habitats', 'watching is making observations', 'water adjusts sediment by moving it', 'water amounts can be measured to be more after rainfall', 'water and flowers are crucial resources to pollinating insects', 'water and steam are the same substance', \"water becomes agitated as it reaches it's boiling point\", 'water can be carried by gravity', 'water can be drunk', 'water can be everywhere with enough rainfall', 'water can be frozen into shapes', 'water can be reused', 'water comes from water sources', 'water comes in droplets', 'water condensates on the inside of a window', 'water condenses on cold soda cans', 'water content in plants is controlled by transpiration', 'water droplets on a pot lid is a result of condensation', 'water evaporates from the sun throughout the day', 'water flow limiters reduce the amount of water wasted', 'water flows in the direction of safety', \"water foul are duck's which are food\", 'water from the sky is rain', 'water has motion', \"water in a basement is away from the sun's heat\", 'water in the air becomes rain or snow', 'water is H2O in a liquid state', 'water is a liquid', 'water is a natural resource', 'water is a renewable resource that can be collected in buckets', 'water is also known as H2O', 'water is composed of hydrogen and oxygen', 'water is drawn from the air and collects on the glass', 'water is emptied from a source as it evaporates', 'water is less dense than honey', 'water is likely to be hotter in the form of coffee', 'water is liquid', 'water is represented by two hydrogen and 1 oxygen molecules', 'water is sparse in desert environments', 'water leaks from clouds', 'water lost during activity can be replaced by taking in water', 'water molecules are made of two hydrogen atoms and an oxygen atom', 'water on land is fresh and in the seas is salty', 'water refracting light creates a natural prism', 'water that absorbs solar energy evaporates and forms clouds', 'water travels in vessels within the plant', 'water travels quickly via creeks', 'water travels quickly via rivers', 'water types mix well', 'water vapor in the atmosphere forms rain clouds', 'water vapor is everywhere', 'water vibrations move across all of the water even very far from where they started', 'water when frozen and warmed melts to liquid', 'water will freeze in a freezer', 'waterfowl lay eggs', 'watermelon has seeds', 'watermelon is a berry', 'watermelon is not a grain', 'watery is moisture', 'wax is a source of fuel', 'wax on cardboard keeps out water', 'waxworms are bugs', 'we are trying to find alternatives to non reusable/renewable resources', 'we breathe in the atmosphere', 'weak white blood cells cause vulnerability to pathogens', 'wearing down stones is weathering', 'weather often varies by season and time of day', 'weather related degradation is weathering', 'weathering breaks down one material into another', \"weathering is when a plant's roots slowly breaks down rocks\", 'weathering occurs over a length of time', 'webbing is extra skin on feet', 'weight is a prime example of non-contact force', 'weight is based on gravity and mass', 'weight is pressure', 'weight of clouds cause rain', 'weighted dips an exercise', 'wet means moist', 'wet planets, like earth, have more water than land', 'wetness is moisture', 'wetsuits are for swimming', \"whales and cats don't have the same food source\", 'whales are living things', 'whales live in water', 'whales need oxygen', 'wheels revolve around a shaft', \"when a canyon has started forming more recently it's not as deep\", \"when a habitat can't support animals many animals will leave and go elsewhere\", 'when a hemisphere is cooler that means its winter', 'when an animal wins the competition for resources it has out competed the other animals', 'when ice melts it turns into water', \"when it's cloudy during the day, you could say it's gloomy\", 'when its wet, excess water can happen', 'when liquid freezes it hardens', 'when no dominant genes are present the recessive trait will be visible', 'when precipitation freezes it can form dangerous hail', 'when resistance occurs, friction occurs', 'when resources go down, can be caused by over reproduction', \"when the Earth's axis is away from the sun it is winter\", \"when the earth's plates grind against each other it causes an earthquake\", 'when the number of trees decrease, more sunlight hits the floor of the forest', 'when the sky is dark, it is probably going to rain', 'when the sun is overhead, shadows disappear', 'when there are no clouds it is sunny', 'when your organs fail, you die', 'whether the moon is full depends on the week', 'whisker length is inherited', 'white objects are blinding', 'white rabbits blend in to snowy environments', 'white reflects the most light', 'whiteouts are snowy', 'whitetail dear live in temperate forests', 'wide, smooth leaves would be flat', 'wildcats are mammals', 'wilderness is woods', 'wildfires kill fire sensitive plants, thus increasing the material available for decomposers', 'wildflower kernels are seeds', 'willows are plants', \"wind and snow means it's cold outside\", 'wind can be a gust or breeze', \"wind can blow a hat off of someone's head\", 'wind can create energy, so solar heating causes wind energy also', 'wind energy is known as clean energy', 'wind exerts force', 'wind is a force', 'wind is a force caused by interaction with an air mass', 'wind is a source of renewable energy', 'wind is inanimate', 'wind is renewable', 'wind is used for heating and cooling homes now', 'wind powers things', 'wind uses force to blow', 'windmill need no other form of power to function other then wind', 'windmills harness wind', 'windmills harvest wind to create energy', 'windmills make renewable resources', 'windshields are glass', 'windy conditions whip materials in the air', 'wine is a liquid', 'wine is liquid and measured in volume', 'winter begins in December and ends in March', 'winter is a season', 'winter is a season that occurs once a year', 'winter is in December', 'winter is the coldest season with longer darkness', 'winter months are cool', 'winter months are when areas are distant from the sun', 'winter occurs when the hemisphere is facing away from the sun', 'winter solstice is when there is more darkness than light', 'winters are cold', 'wires are an example of this', 'wires are connections', 'with less food animals will start to die', 'with less molecules present the pressure of the air decreases', 'with the increase of light pollution it will become harder to see the stars', 'without a cocoon, there is no pupa', 'without changing mass, a thing will be measured the same each time', 'without others is solitary', \"without the right food, animals can't be healthy\", 'without wind and rain any marks left on asteroids can potentially last for thousands of years if not longer', 'wolf pups are the offspring of wolves', 'wolves and bears both eat the same prey, salmon', 'wolves are carnivores', 'wolves are consumers', 'wolves are predators and ibex are prey', 'wolves are predators that catch deer', 'wolves eat bunnies', 'wolves eat rabbits', 'wolves eat rabbits to get energy to survive', 'wolves live in dens', 'wombats are living things', 'wombs allow developing inside of a mother', 'wood beams are a raw material required in the process of building a log cabin', 'wood can come from pallets', 'wood is a direct source, a raw material from trees', 'wood is opaque', 'wood will dry if left in the sun', 'woody organisms are examples of producers and deer are consumers', 'worms are decomposers', 'worms are decomposers, and are wriggly', 'worms dry up and die in the heat', 'worms eat decay', 'worms eat decaying organisms', 'worms make tunnels', 'wrenches are metal', 'wrinkled is a texture', 'xylem moves water in plants like bushes', 'yanking a metal to a magnet is magnetic', 'yanking something towards a planet is gravitational pull increasing', 'yelling loudly in a canyon causes reverberation (echoing)', 'yogurt is a dairy product', 'you can avoid harm to the eyes from splashing chemicals by keeping them covered', 'you can burn something with a hot object', 'you can inherit things from your mother', 'you can not run out of wind', 'you can see further on top of a mountain', \"you can't see the moon during the new moon\", 'you have to bring your own water to places without it', 'you need an effective immune system to be healthy', 'you need gas to fill a beach ball', 'you need heat to thaw something', 'you need to get warm if you have hypothermia', 'you wear shorts in the summer', 'younglings are offspring', 'your elbow is a body part and a hot stove has a lot of heat energy', 'your hide is your skin', 'zapping energy is electricity', 'zapping power is electrical', 'zapping power is electricity', 'zebras are animals', 'zebras can be disguised against one another', 'zero is nothing', 'zipping powered is electric', 'zooplankton do not have respiration systems', 'zoos are public exhibitions for viewing', 'zoos hold animals outside of nature', 'A bee is a pollinating animal', 'A bird is a pollinating animal', 'An electrical conductor is a vehicle for the flow of electricity', 'An example of a change in the Earth is an ocean becoming a wooded area', 'An example of a chemical change is acid breaking down substances', 'An example of a fossil is a footprint in a rock', 'An example of a fossil is a paw print in rock', 'An example of a fossil is the bones of an extinct animal', 'An example of a mixture is clay mixed together', 'An example of a reproductive behavior is salmon returning to their birthplace to lay their eggs', 'An example of a seasonal change is an animal growing thick fur for keeping warm in the winter', 'An example of a seasonal change is plants becoming dormant in the winter', 'An example of a seasonal change is plants dying in the winter', 'An example of an adaptation is camel humps', 'An example of an inherited behavior is a bird building a nest', \"An example of an instinct is the kangaroo 's ability to crawl into its mother 's pouch to drink milk\", 'An example of an instinctive behavior is a baby bird pecking at its shell to hatch', 'An example of avoiding waste is using a material more than once', 'An example of avoiding waste is using an object more than once', 'An example of camouflage is an organism looking like leaves', 'An example of camouflage is when an organism looks like its environment', 'An example of camouflage is when something changes color in order to have the same color as its environment', 'An example of camouflage is when something has the same color as its environment', 'An example of camouflage is when something is the same color as its environment', 'An example of collecting data is measuring', 'An example of combining two substances is pouring one substance into the other substance', 'An example of conservation is avoiding waste', 'An example of conservation is not using fossil fuel', 'An example of creating an alternative fuel is turning plant material into fuel', 'An example of evaporation is a body of water drying up by absorbing heat energy', 'An example of hibernation is a frog burying itself in mud', 'An example of hitting something is dropping an object onto that something', 'An example of hunting is an otter cracking open clams with a rock', 'An example of migration is birds flying south in the winter', 'An example of moisture is water vapor in the atmosphere', 'An example of navigation is directing a boat', 'An example of playing a musical instrument is hitting the keys of a piano', 'An example of playing a musical instrument is strumming a guitar string', 'An example of protecting the environment is creating protected areas', 'An example of protecting the environment is reducing the amount of pollutants', 'An example of protecting the environment is reducing the amount of waste', 'An example of recycling is using an object to make a new object', 'An example of replacing a natural resource is planting new trees where a forest once stood', 'An example of reproduction is laying eggs', 'An example of seed dispersal is animals eating seeds', 'An example of seed dispersal is is an animal gathering seeds', 'An example of stormy weather is rain', 'An example of using tools is a chimpanzee digging for insects with a stick', 'An example of weathering is when a plant root grows into a crack in rock', 'An insect is a pollinating animal', 'August is during the winter in the southern hemisphere', 'DNA is a vehicle for passing inherited characteristics from parent to offspring', 'December is during the summer in the southern hemisphere', 'December is during the winter in the northern hemisphere', \"Earth 's magnetic patterns are used for finding locations by animals that migrate\", \"Earth 's surface is made of rock\", \"Earth 's tilt on its axis causes seasons to occur\", 'Earth is made of rock', 'Earth is the planet that is third closest to the Sun', 'Earth orbiting the Sun causes seasons to change', 'Galileo Galilei made improvements to the telescope to make better observations of celestial bodies', 'In the cellular respiration process carbon dioxide is a waste product', 'In the food chain process a green plant has the role of producer', 'In the food chain process an animal has the role of consumer which eats other animals for food', 'In the food chain process an animal has the role of consumer which eats producers for food', 'In the food chain process bacteria have the role of decomposer', 'In the food chain process fungi have the role of decomposer', 'In the food chain process some types of plankton have the role of producer', 'In the photosynthesis process carbon dioxide has the role of raw material', 'In the photosynthesis process oxygen has the role of waste product', 'In the respiration process carbon dioxide is a waste product', 'In the tree reproduction process a squirrel has the role of seed disperser', 'January is during the winter in the northern hemisphere', 'June is during the summer in the northern hemisphere', 'June is during the winter in the southern hemisphere', 'Louis Pasteur invented pasteurization', 'Matter in the gas phase has variable shape', 'Matter in the gas phase has variable volume', 'Matter in the liquid phase has definite volume', 'Matter in the liquid phase has variable shape', 'Matter in the solid phase has definite shape', 'Pluto is the planet that is ninth closest to the Sun', 'Vitamin D heals bones', 'a Punnett square is used to identify the percent chance of a trait being passed down from a parent to its offspring', \"a Rotation of the Earth on Earth 's axis takes 1 day\", 'a Rotation of the Earth on itself takes one day', 'a balance is used for measuring mass of an object', 'a balance is used for measuring weight of a substance', 'a balloon contains gas', 'a barometer is used to measure air pressure', 'a bat births live young', 'a battery converts chemical energy into electrical energy', 'a battery is a source of electrical energy', 'a beach ball contains gas', 'a beak is used for catching prey by some birds', 'a berry contains seeds', 'a bicycle contains screws', 'a bird is warm-blooded', 'a body of water is a source of water', 'a bubble contains gas', 'a cactus stem is used for storing water', 'a cactus stores water', 'a camera is used for recording images', 'a candle is a source of light when it is burned', 'a canyon forming occurs over a period of millions of years', 'a canyon is made of rocks', 'a car engine is a source of heat', 'a car engine usually converts gasoline into motion and heat through combustion', 'a carbonated beverage contains dissolved carbon dioxide', 'a cavern is formed by carbonic acid in groundwater seeping through rock and dissolving limestone', 'a chipmunk eats acorns', 'a chloroplast contains chlorophyll', 'a closed circuit has continuous path', 'a community is made of many types of organisms in an area', \"a compass 's needle lines up with Earth 's magnetic poles\", 'a compass is a kind of tool for determining direction by pointing north', 'a compass is used to navigate oceans', 'a compass is used to navigate seas', 'a complete electrical circuit is a source of electrical energy', 'a complete revolution of the Earth around the sun takes one Earth year', 'a complete revolution of the Earth around the sun takes one solar year', 'a computer controls a robot', 'a consumer can not produce its own food', 'a cycle happens repeatedly', 'a cycle occurs repeatedly', 'a decrease in visibility while driving can cause people to crash their car', 'a deer lives in a forest', 'a dense forest environment is often dark in color', 'a desert environment contains very little food', 'a desert environment has low rainfall', 'a desert environment is dry', 'a desert environment is low in availability of water', 'a desert environment is usually hot in temperature', 'a desert environment usually has a lot of sunlight', 'a different moon phase occurs once per week', 'a disperser disperses', 'a doorbell converts electrical energy into sound', \"a female insect lays eggs during the adult stage of an insect 's life cycle\", 'a fish lives in water', 'a flashlight converts chemical energy into light energy', 'a flashlight emits light', 'a flashlight requires a source of electricity to produce light', \"a flower 's purpose is to produce seeds\", 'a flower is a source of nectar', 'a flower produces pollen and seeds', \"a force acting on an object in the opposite direction that the object is moving can cause that object 's speed to decrease in a forward motion\", \"a force continually acting on an object in the same direction that the object is moving can cause that object 's speed to increase in a forward motion\", 'a forest environment is often green in color', 'a forest environment receives more rainfall than a desert', 'a frog eats insects', 'a glacier causes mechanical weathering', 'a glacier is made of ice', 'a glacier moves slowly', 'a graduated cylinder is a kind of instrument for measuring volume of liquids or objects', 'a graduated cylinder is used to measure volume of an object', 'a grassland environment receives more rainfall than a desert', 'a greenhouse is used to protect plants by keeping them warm', 'a greenhouse is used to protect plants from the cold', 'a hand dryer produces heat', 'a hot plate is a source of heat', 'a hot something is a source of heat', 'a hot substance is a source of heat', 'a human can pedal a bicycle', 'a human requires rest to be healthy', 'a human requires sleep to be healthy', 'a kettle is formed when chunks of ice left by glaciers melt', 'a landfill is a source of pollution', 'a landslide is when gravity rapidly moves rocks or soil downhill especially after a rain storm', 'a laser is used for producing light', 'a leaf absorbs sunlight to perform photosynthesis', 'a leaf performs photosynthesis', 'a lever is used for moving heavy objects', 'a light bulb converts electrical energy into light energy when it is turned on', 'a light bulb requires electrical energy to produce light', 'a line graph is used for showing change over time', 'a living thing is made of cells', 'a living thing requires nutrients to grow', 'a magnet attracts ferromagnetic metals through magnetism', 'a magnet attracts magnetic metals through magnetism', 'a mammal is warm-blooded', 'a mammal usually nurses its offspring', 'a mammal usually nurses its young', 'a meter stick is used to measure length', 'a mirror is used for reflecting light', 'a mirror reflects light', 'a monkey births live young', 'a moth undergoes metamorphosis', 'a mother births offspring', 'a mouse gives birth to live young', 'a nest is made of branches', 'a new season occurs four times per year', 'a new season occurs once per three months', 'a paper clip is often made of ferromagnetic metals', 'a phase change is when matter changes from one state into another state', 'a plane travels through the atmosphere', 'a planet is exposed to the heat of the star around which it revolves', 'a planet rotating causes cycles of day and night on that planet', \"a plant 's roots slowly break down rocks as the roots grow\", 'a plant absorbs carbon dioxide from the air for photosynthesis', 'a plant cell contains chloroplasts', 'a plant light is used for help plants by mimicking sunlight', 'a plant requires a specific climate to grow and survive', 'a plant requires photosynthesis to grow', 'a plant requires soil for to grow', 'a plant requires sunlight for photosynthesis', 'a plant requires sunlight to grow', 'a plant requires water to grow', 'a plant stem contains a system of tubes for transporting water and nutrients to other parts of the plant', 'a plant stem is the vehicle for transporting water and food from roots to the rest of the plant', 'a plants require water for to grow', 'a plateau is formed by a buildup of cooled lava', 'a polar bear requires a cold environment', 'a pollutions standard is a kind of standard for reducing pollutants emitted by factories', 'a predator eats other animals for food', 'a prism refracts light', 'a producer is a source of energy for consumers', 'a producer is a source of sugar in an ecosystem', 'a producer produces its own food', 'a pulley is used for lifting objects', 'a pulley is used to lift a flag on a flagpole', 'a pumpkin contains seeds', 'a quartz is made of six-sided transparent crystals', 'a radiator is a source of heat', 'a radio is used for communication', 'a rainbow is formed by refraction of light by splitting light into all different colors', 'a reflector is used to reflect light especially on vehicles', 'a renewable resource can be renewed', 'a renewable resource can be replaced', 'a reptile is cold-blooded', 'a revolution is when something revolves around something else', 'a revolution of the moon around the Earth takes 1 month', 'a riverbank is made of soil', 'a rocket engine is used to produce thrust by pushing gases out at a high speed', 'a ruler is used for measuring the length of an object', 'a salamander eats insects', 'a sandbar is formed by water moving sediment downstream', 'a satellite orbits a planet', 'a scale is used for measuring weight', 'a scar is an acquired characteristic', 'a sea turtle lives in the ocean', 'a seed is used for storing food for a new plant', 'a seismograph is a kind of tool for measuring the size of an earthquake', 'a seismograph is used for measuring the size of an earthquake', 'a seismometer is used to measure the strength or magnitude of an earthquake', 'a shower is a source of hot water for washing', 'a sifter is used for separating mixtures', 'a simple machine requires mechanical energy to function', 'a single-cell organism can survive without the help of other cells', 'a single-cell organism cannot specialize', 'a skinny beak is used for obtaining food by a bird from small spaces', 'a skunk produces a bad odor', 'a soda can is made of aluminum', 'a solar eclipse could only happen during the new moon', 'a solar panel converts sunlight into electricity', 'a solution is made of one substance dissolved in another substance', 'a source of something supplies that something', 'a spider web is used to capture food by spiders', 'a squid produces thrust by pushing water out of its body', 'a star is a source of light energy through nuclear reactions', 'a star is a source of light through nuclear reactions', 'a star is made of gases', 'a stem is a source of support for a plant', 'a stem is used to store water by some plants', 'a stinger is used for defense by a wasp', 'a stopwatch is used to measure time', 'a stove generates heat for cooking usually', 'a switch is used to stop the flow of current in an electrical circuit', 'a tape measure is used to measure distance', 'a tape measure is used to measure length', 'a tectonic plate moves along a fault line', 'a telescope is used for observing stars', 'a telescope is used for observing the sky', 'a thermal conductor is made of materials that conduct thermal energy', 'a thermal energy conductor transfers heat from hotter objects to cooler objects', 'a thermal insulator slows the transfer of heat', 'a thermometer is used to measure temperature', 'a toaster converts electrical energy into heat energy for toasting', 'a tree can be replaced by planting a new tree', 'a tree growing a tree-growth ring occurs once per year', 'a tree is a source of food for animals in an ecosystem', 'a tree is a source of food for birds in an ecosystem', 'a trunk is a source of support for a tree', 'a valley is formed by a river flowing', 'a warm front causes cloudy and rainy weather', 'a warm something is a source of heat', 'a white object reflects all visible light', 'a windmill converts wind energy into electricity', 'a windmill does not create pollution', 'absorbing sunlight causes objects to heat', 'acid can cause chemical change', 'acid rain has a negative impact on water quality', 'adaptation is when an organism develops a trait over time for survival', 'adaptations are used for survival', 'adding heat to an object sometimes causes chemical reactions', 'adding heat to something kills viruses in that something', 'adding salt to a liquid decreases the melting point of that liquid', 'adding salt to a solid decreases the freezing point of that solid', 'adult amphibians live on land', 'adulthood is a stage in the life cycle process', 'air is a vehicle for sound', 'algae is found in bodies of water', 'all animals breathe', 'all cells perform cellular respiration', 'all living things eliminate waste', 'all living things grow', 'all minerals are formed by natural geological processes', 'alligators eat fish', 'alloys are made of two or more metals', 'alternative fuel is usually a renewable resource', 'aluminum is a nonrenewable resource', 'aluminum is recyclable', 'amphibians hatch from eggs', 'amphibians undergo metamorphosis', 'an amphibian is cold-blooded', 'an anemometer is used to measure wind speed', \"an animal 's brain controls that animal\", \"an animal being born when food is available has a positive impact on that animal 's health\", 'an animal can survive in an environment with little food by storing fat', 'an animal knows how to do instinctive behaviors when it is born', 'an animal needs to eat food for nutrients', 'an animal requires air for survival', 'an animal requires energy to move', 'an animal requires enough nutrients to maintain good health', 'an animal requires enough nutrients to survive', 'an animal requires nutrients for survival', 'an animal requires nutrients to grow and heal', 'an animal requires oxygen for to breathe', 'an animal requires shelter', 'an animal requires warmth for survival', 'an animal usually requires a warm body temperature for survival', 'an earthquake causes the ground to shake', \"an earthquake changes Earth 's surface quickly\", 'an earthquake usually occurs over a period of 10 to 30 seconds', 'an ecosystem contains a large community of living organisms in a particular place', 'an ecosystem contains large numbers of living organisms in a particular place', 'an ecosystem contains nonliving things', 'an egg requires warmth to develop', 'an electric car contains an electric motor', 'an electric car uses less gasoline than a regular car', 'an electrical device requires electricity to turn on', 'an electrical insulator slows the flow of electricity', 'an electrical insulator slows the transfer of electricity', 'an electromagnet contains cylindrical ferrous metal', 'an electron microscope creates a picture', 'an equinox occurs twice per year', 'an exothermic reaction increases the amount of heat', 'an incandescent light bulb converts electricity into heat by sending electricity through a filament', 'an incandescent light bulb converts electricity into light by sending electricity through a filament', 'an inclined plane is used for raising objects', 'an island is formed by lava being released on the ocean floor over time', 'an island is formed by lava cooling on the ocean floor over time', 'an landfill is a source of pollution', 'an ocean is a source of heat and moisture for a hurricane', \"an organism 's environment affects that organism 's acquired characteristics\", 'an organism breaking down sugar is a source of carbon dioxide', 'an organism breaking down sugar is a source of water', 'an organism breaks down sugar to release energy', 'an organism is a source of organic material', 'an organism is a source of organic matter', 'an organism requires energy for growth', 'an organism requires energy for repair', 'an oven is a source of heat', 'an plant requires food for survival', 'animal cells can not perform photosynthesis', 'animals adapt to their environment', 'animals exhale carbon dioxide from their lungs into the air', 'animals learn some behaviors from watching their parents', 'animals live and feed near their habitats', 'animals require water for survival', 'animals taste flavors', 'animals usually distance themselves from humans', 'aquatic animals live in bodies of water', 'aquatic plants live in bodies of water', 'arctic animals live in an arctic environment', 'arteries transport nutrients throughout the body', 'as a source of light becomes closer , that source will appear brighter', 'as a source of light moves directly overhead of an object , the size of the shadow of that object will decrease', 'as ability to preserve food increases , the ability to transport food increases', 'as ability to transport food increases around the world , the available types of food in distant locations will increase', 'as air pressure decreases , the chance of rain will increase', 'as air pressure increases , the reading on a barometer will rise', 'as altitude increases , air pressure will decrease', 'as altitude increases , the temperature of the air will decrease', 'as an object descends into water , the pressure on that object will increase', 'as an object moves , the kinetic energy of that object will increase', 'as available resources increases , the population of an organism that uses those resources will increase', 'as available water decreases , the population of plants will decrease', 'as available water in an environment decreases , the amount of available food in that environment will decrease', 'as depth increases , pressure will increase', 'as distance from a source of light increases , that source of light will appear dimmer', 'as distance from an object decreases , that object will appear larger', 'as distance from an object decreases , the the pull of gravity on that object increases', 'as distance from water decreases , humidity will increase', 'as distance to a city decreases , the amount of light pollution will increase', 'as distance to an object increases , that object will appear smaller', 'as dryness increases in an environment , the available water in that environment will decrease', 'as elevation of a place decreases , how much a flood will affect that place will increases', 'as energy required for an activity increases , pulse will increase', 'as flatness of a leaf increases , the amount of sunlight that leaf can absorb will increase', 'as force exerted on an object increases , distance travelled will increase', 'as heat and moisture increases , the strength of a hurricane will increase', 'as heat increases , a flexible container containing gas will expand', 'as heat is transferred from something to something else , the temperature of that something will decrease', 'as light pollution increases , seeing the stars will be harder', 'as lightness in color of an object increases , the ability of that object to reflect light will increase', 'as mass of a celestial body increases , the force of gravity on that planet will increase', 'as mileage per galon of gasoline increases , the amount of gasoline used will decrease', 'as moisture of an object decreases , the friction of that object against another object will increase', 'as number of organisms in a group increases , the chance of survival of each organism will increase', 'as population of predators decreases , the population of prey will increase in an environment', 'as population of prey decreases , the population of predators will decrease', 'as roughness of a surface increases , friction will increase', 'as state of matter changes , mass will not change', 'as temperature during the day increases , the temperature in an environment will increase', 'as temperature in an environment decreases , the amount of water an animal in that environment will lose will decrease', 'as temperature in the environment increases , the body temperature of a reptile in that environment will increase', 'as temperature increases , the ability of that liquid to dissolve solids will increase', \"as the activity of an animal increases , the amount of water in an animal 's body in that environment will decrease\", 'as the amount of available water decreases , tree-growth rings will become narrower', 'as the amount of daylight increases , sunset will occur later in the day', 'as the amount of food an animal eats decreases , that organism will become thinner', 'as the amount of food an animal eats increases , the weight of that animal will increase', 'as the amount of fragrance of a flower increases , the number of pollinators it will attract increases', 'as the amount of polluting gasses in the atmoshere increases , the atmospheric temperature will increase', 'as the amount of rain increases in an environment , available sunlight will decrease in that environment', 'as the amount of rainfall increases in an area , the amount of available water in that area will increase', 'as the amount of water in a body of water increases , the water levels will increase', 'as the amount of water received by a plant increases , that plant will usually grow', 'as the amount that matter vibrates increases , sound produced increases', 'as the available water in an environment increases , the populations of organisms in that environment will increase', 'as the distance of a location from the North Pole becomes smaller, the amount of daylight received by that location will decrease during the winter', 'as the level of water rises , the amount of available land will decrease', 'as the mass of an object increases , the force required to push that object will increase', 'as the number of eggs laid by an animal increases , the number of eggs that hatch will increase', 'as the number of pollinators attracted to a flower increases , the ability of that flower to reproduce will increase', 'as the number of sources of food increase in an environment , the population of the organisms will increase in that environment', 'as the population of plants decreases , carbon in the atmosphere will increase', 'as the population of prey decreases , competition between predators will increase', 'as the resistance to something increases , how easilty that something can be done will decrease', 'as the roughness of something increases , the friction of that something will increase when its surface moves against another surface', 'as the sale of a product decreases , the amount of money made by the person selling that product will decrease', 'as the size of a flower increases , the number of pollinators it will attract increases', 'as the size of a leaf increases , the amount of sunlight absorbed by that leaf will increase', 'as the size of an object appears larger , that object will be observed better', 'as the size of an object appears larger , that object will be seen more easily', 'as the size of the eyes of an animal increases , the ability of that animal to see will usually increase', 'as the smoothness of something increases , the friction of that something will decrease when its surface moves against another surface', 'as the supply of food in an environment decreases , the population of animals in that environment will decrease', 'as the surface area of a body of water increases , evaporation of that body of water will increase', 'as the temperature of a liquid increases , the rate of evaporation of that liquid will increase', 'as the temperature of something increases , the intensive properties of that something will not change', 'as the thickness of an object increases , the resistance to breaking will increase', 'as the thickness of an object increases , the resistance to damage of that object will increase', 'as the time a tool lasts increases , the number of tools discarded will decrease', 'as the use of a crop increases , the amount of crops planted will increase', 'as the use of a resource decreases , the length of time that resource will be available increases', 'as the use of alternative fuels increases , the use of gasoline will decrease', 'as the weight of an animal decreases , that animal will fly more easily', 'as time spent taking a shower decreases , water used will decrease', 'as water increases in an environment , the population of aquatic animals will increase', \"avoiding predators has a positive impact on prey 's ability to reproduce\", 'bacteria can cause people to become ill', 'bacteria can help digest food in humans', 'bacteria cause food poisoning', 'bad weather decreases visibility while driving', 'baking soda can react chemically with vinegar', 'bats can echolocate', 'batteries convert chemical energy to electrical energy', 'beads of water are formed by water vapor condensing', 'bears eat berries', 'bears eat insects', 'bees convert nectar into honey', 'bees eat pollen', 'being burried under soil and mud changes peat into coal through extreme heat and pressure in a swamp over a long period of time', 'being exposed to heat can cause erosion of rocks', \"being stronger usually has a positive impact on an living thing 's health\", \"being stronger usually has a positive impact on an organism 's health\", 'binoculars are used for observing distant objects', 'biofuel is used to produce electricity by burning', 'biofuel releases carbon dioxide into the atmosphere', 'birds are a vehicle for spreading the seeds of a plant', 'birds build nests in the spring', 'birds lay eggs', 'birds sometimes eat berries', 'birds sometimes eat insects', 'birds sometimes eat seeds', 'birds with beaks of different shapes eat different foods', 'blood absorbs oxygen in the lungs', 'bluebirds live in grassy spaces', 'boiling is when liquids are heated above their boiling point', 'boiling point means temperature above which a liquid boils', 'braking can cause skidding', 'brass is made of copper and zinc', 'break down means change from a whole into pieces', 'breaking apart rocks can cause debris', \"breaking down an object changes that object 's shape and mass\", 'breath contains water vapor', 'breathing is when a lung converts from oxygen in air into oxygen in blood', 'brick is an electrical insulator', 'buildings collapsing often cause death', 'burning a living thing usually causes harm to that living thing', 'burning gasoline is a source of pollution', 'burning oil is a source of pollution', 'burning wood is used to produce heat', 'calculating speed requires knowing distance travelled', 'camouflage can be used for hunting for food', 'camouflage can be used for hunting for prey', 'camouflage is a kind of protection against consumers', 'camouflage is a kind of protection against predators', 'camouflage is used for hiding by animals against predators', 'camouflage is used for hiding by animals from predators', 'carbohydrates are made of sugars', 'carbon dioxide can be found in the air', 'carbon dioxide concentrations in the air have increased over the last decade dramatically', 'carbon steel is always magnetic', 'carnivores are predators', 'carnivores only eat animals', 'carpet absorbs sound', 'casting an image of an object through a pinhole onto a screen does not require looking directly at the object', 'cellular respiration is when a cell converts from oxygen and carbohydrates into carbon dioxide, water, and energy', 'cellular respiration is when cells break down food to produce energy', 'changes in an environment cause animals to adapt to survive', 'changes in an environment cause plants to adapt to survive', 'chemical reactions cause chemical change', 'chemical reactions cause different substances to form', 'chemical splashing can cause harm to the eyes', 'chemical splashing sometimes occurs during experiments', 'chickens cluck', 'chlorophyll is used for absorbing light energy by plants', 'clams live at the bottom of the ocean', 'classifying is when one sorts something by type', 'classifying means grouping materials by their properties', 'claws are used to catch prey by some predators', 'clear weather means sunny weather', 'climate is the usual kind of weather in a location', 'clouds are formed by water vapor rising and condensing', 'clouds produce rain', 'cloudy means the presence of clouds in the sky', 'coal is a nonrenewable resource', 'coal is used to produce electricity by burning in coal-fire power stations', 'coal mine is a source of coal under the ground', 'cold environments are usually white in color from being covered in snow', 'cold environments contain few organisms', 'cold temperatures cause animals to shiver', 'coloration is used to find a mate by some animals', 'combining two substances chemically causes chemical reactions', 'completing a circuit causes electric current to flow through that circuit', 'completing a circuit causes electricity to flow through that circuit', 'condensation is a stage in the water cycle process', 'condensing causes a liquid to form', 'conserving resources has a positive impact on the environment', 'conserving water can be used for survival in a dry environment', 'consumers eat other organisms', 'contact between rocks over long periods of time causes rocks to smooth', 'cooking causes a chemical reaction', 'cooking food requires adding heat energy', 'cooking food to proper temperatures protects against food poisoning by killing bacteria and viruses', 'cool temperatures cause animals to shiver', 'coral lives in the ocean', 'cows only eat plants', 'cracking something usually has a negative impact on that something', 'creating paper requires cutting down trees', 'crop rotation has a positive impact on soil quality', 'crop rotation is when different crops are planted on a field in different years', 'crop rotation renews soil', 'crumple means change shape from smooth into compacted by physical force', 'cutting down trees has a negative impact on an organisms living in an ecosystem', 'cutting down trees in a forest causes the number of trees to decrease in that forest', 'cycles of day and night occur once per day', 'cycles of freezing and thawing water cause ice wedging', 'dairy is a source of Vitamin D', 'damming a river can cause a lake to form', 'darkness has a negative impact on photosynthesis', 'dead organisms are the source of nutrients for decomposers', 'dead organisms decay', 'dead organisms rot', 'decomposer is a kind of role in an ecosystem', 'decomposition increases amount of organic matter in soil', 'decomposition increases the amount of nutrients in the soil', 'decomposition is when a decomposer breaks down dead organisms', 'decomposition is when a decomposer recycles nutrients from dead organisms to the soil by eating those dead organisms', 'decreasing something negative has a positive impact on a thing', 'deep sea animals live deep in the ocean', 'denser liquids settle below liquids that are less dense', 'density is a measure of mass over volume', 'detailed observation of celestial objects requires a telescope', 'dew is formed when water vapor condenses over night', 'dew is formed when water vapor cools over night', 'different organisms reproduce differently', 'digestion is when an organism takes in nutrients from food into itself by eating', 'digestion is when stomach acid breaks down food', 'disguise means change appearance to hide', 'dissolving a substance in water causes the water to taste like that substance', 'doing chores is a learned characteristic', 'down feathers are a thermal energy insulator', 'dropping an object into water causes vibrations in the water', 'dropping something causes that something to fall', 'drought may cause wildfires', 'drought means available water decreases in an environment', 'dry wood easily burns', \"each of the moon 's phases usually occurs once per month\", 'each season occurs once per year', 'eagles eat fish', 'eagles eat rabbits', 'earthquakes cause rock layers to fold on top of each other', 'earthworms create tunnels in soil', 'eating food is used to get nutrients by living things', 'eating food that contains pesticides can have a negative impact on humans', 'echo is when sound reflects off of a surface', 'echolocation is when some animals detect objects by hearing echoes by emitting sound', 'ecological succession means entire communities in an ecosystem change over time', 'electric devices require electrical energy to function', 'electrical conduction is when metals conduct electricity through metal', 'electrical current running through a wire causes that wire to heat up', 'electrical devices convert electricity into other forms of energy', 'electrical insulation requires wrapping a conductor in an insulator', 'electricity can not flow through an open circuit', 'electricity causes less pollution than gasoline', 'electricity is made of moving charged particles', 'electricity is made of moving charges', 'electrocution causes harm to an organism', 'electromagnets can be powered by electricity', 'endangered means low in population', 'erosion causes a river to become deeper and wider', 'erosion causes deposition', 'erosion of soil has a negative impact on the environment', 'ethanol sometimes is made of corn', 'evaporation causes amount of water to decrease', 'evaporation is a stage in the water cycle process', 'evaporation is when water is drawn back up into the air in the water cycle', 'evaporation means change from a liquid into a gas by adding heat energy', \"exercise has a positive impact on a body 's strength\", \"exercise has a positive impact on a human 's health\", 'explosions can cause harm to an organism', 'extreme heat and pressure compact sediment into sedimentary rock', 'extreme heat and pressure metamorphose rock into metamorphic rock', \"extreme temperatures cause an organism 's energy levels to decrease\", 'eye color is an inherited characteristic', 'eyes are used for seeing by animals by sensing light', 'farming cause nutrients in the soil to decrease', 'farming changes the environment', 'fat is used to keep animals warm', 'feeders attract animals to a location', 'feeling is when an living thing senses through touch', 'female birds sit in nests', 'ferrous metals contain iron', 'fertilizers are a source of pollution', 'fire causes burning', 'fire causes harm to living things', 'fire destroys plants in an environment', 'fire gives off light', 'fish lay eggs', 'flippers are used for moving in water', 'flood plains are located near rivers', 'flowers are a source of fruit', 'flowing liquid can push objects', 'fog is formed by water vapor condensing in the air', 'folding an object causes that object to change shape', 'food is a source of energy for animals', 'food is a source of energy for plants', 'food spoiling has a negative impact on the health of the animal that eats that food', 'force causes the speed of an object to decrease', 'force causes the speed of an object to increase', 'forming fossil fuels requires decaying vegetation', 'fossil fuels are a nonrenewable resource', 'fossil fuels are formed by dead organisms over time', 'fossil fuels forming occurs over a period of 300000000 years which is considered a very long time to a human', 'fossils are formed when layers of sediment cover the remains of organisms over time', 'freezing causes a solid to form', 'freezing means changing from a liquid into a solid by reducing heat energy', 'freezing point means temperature at which a liquid freezes', 'freezing point means temperature below which a liquid freezes', 'friction acts to counter the motion of two objects when their surfaces are touching', 'friction causes the speed of an object to decrease', 'friction causes the temperature of an object to increase', 'friction is used for stopping a vehicle by brakes', \"friction occurs when two object 's surfaces move against each other\", 'fruit contains seeds', 'genes are a vehicle for passing inherited characteristics from parent to offspring', 'gills are used for breathing water by aquatic animals', 'glaciers cause scratches in rocks', 'glaciers melting has a negative impact on the glaicial environment', \"good bacteria grow on a human 's skin\", 'good bacteria grow on the skin', 'grass snakes live in grass', 'gravitational force causes objects that have mass to be pulled down on a planet', 'gravity causes orbits', 'gravity causes substances to be pulled down on a planet', 'green plants provide food for consumers by performing photosynthesis', 'grey clouds appear before precipitation', 'grey clouds are a source of precipitation', 'habitat destruction causes animals to move to find shelter in another habitat', \"harming an animal species causes that animal 's population to decrease\", 'harming something has a negative effect on that something', 'harming something has a negative impact on that something', \"having food has a positive impact on an organism 's health\", 'hawks eat lizards', 'heat and pressure change the remains of prehistoric living things into natural gas', 'heat can change the state of matter', 'heavy rains cause flooding', 'height is an inherited characteristic', 'herbivores only eat plants', 'hibernation is an inherited behavior', 'hibernation is used for conserving resources by some animals', 'high means great in altitude', 'high temperatures can cause an object to combust', 'high tide is a stage in the tide cycle process', 'hitting an object causes the particles in that object to vibrate', 'humans building homes in an ecosystem causes that environment to change', 'humans building homes in an environment causes that environment to change', 'humans cause pollution', 'humans changing an environment sometimes causes that environment to be destroyed', 'humans changing animal habitats usually causes harm to those animals', 'humans discarding waste in an environment causes harm to that environment', 'humans eat crops', 'humans moving into an environment usually causes native species to lose their habitats', 'humans sometimes eat seeds', 'humidity is the amount of water vapor in the air', 'hunting means humans kill animals in the wild', 'hunting requires seeing prey', 'hunting requires sensing prey', 'hydropower is when falling water produces electricity', 'hydropower requires damming a river', 'hypothesis means scientific guess about the cause and effect of an event', 'ice wedging is when ice causes rocks to crack by expanding in openings', 'if a body of water loses all water then that body of water does not exist any more', 'if a body part was burned then that body part was exposed to a lot of heat energy', 'if a cell can not specialize then that cell must perform all life functions', 'if a flexible container is pushed on then that container will change shape', 'if a habitat can no longer support animals then those animals will move to another area', 'if a habitat is destroyed then that habitat can not support animals', 'if a habitat is removed then that habitat is destroyed', 'if a hot object is touches a cold substance then that substance will likely cool', 'if a hot substance is touches a cold object then that substance will likely cool', 'if a leaf falls off of a tree then that leaf is dead', 'if a liquid disappears then that liquid probably evaporated', 'if a living thing becomes too cold then that living thing will die', 'if a living thing dies then that living thing is dead', 'if a magnet is attracted to a metal then that magnet will stick to that metal', 'if a mineral can be scratched by a fingernail then that mineral is soft', 'if a new predator begins eating prey then the population of that prey will decrease', 'if a population decreases to zero then that organism is extinct', 'if a substance absorbs solar energy then that substance will increase in temperature', 'if a tree falls then sunlight becomes available to the surrounding plants', 'if a tree falls then that tree is dead', 'if a tree is cut down then that tree will die', 'if a tree is located near a sidewalk then the roots of that tree might crack the sidewalk', 'if a weed is pulled then that weed is destroyed', 'if all members of a species cannot produce offspring then that species will likely become extinct', 'if an animal eats another animal then that animal is a carnivore or omnivore or predator', 'if an animal hatches from an egg then that animal is born', 'if an animal is near a road then that animal might be killed by a car', 'if an animal is trained to do something then that something is a learned behavior', 'if an animal relies on plants for food then that animal must store enough food to last through the winter', 'if an animal takes a resource from another animal then that animal competes for resources successfully', 'if an object is blue then that object reflects only blue light', 'if an object is close then that object will appear large', 'if an object is exposed to a source of heat then that conductor may become hot', 'if an object is hot then the surfaces of that object are hot', 'if an object is kicked then force is exerted on that object', 'if an object reflects a light of a certain color then the object appears to be that color', 'if an object reflects light toward the eye then that object can be seen', 'if an object reflects more light then that object is more easily seen', 'if an object undergoes chemical change then that object will have new chemical properties', \"if an organism 's prey moves quickly then that organism may need to move quickly to catch its prey\", 'if an organism becomes too hot then that organism may die', 'if an organism dies then the population of that organism will decrease', 'if an organism makes food for itself then that organism does not need to eat other organisms', 'if battery in an electromagnet is active then the nail in the electromagnet will become magnetic', 'if electricity flows along more than one pathway then the circuit is parallel', 'if food is cooked then heat energy is added to that food', 'if food is not immediately used by the body for energy then that food will be stored for future use', 'if fossils of a water animal or plant are found in a place then that place used to be covered by water in the past', 'if gas is heated then that gas will rise', 'if it is night then the sun has set', 'if liquid is boiling then that liquid is hot', 'if members of a species are born then the population of that species increases', 'if one electrical conductor contacts another electrical conductor then electricity will flow through both conductors', 'if one mineral can scratch another mineral then that other mineral is softer than that one mineral', 'if seeds stick to the fur of an animal then that seed will be transported by the animal', 'if some nutrients are in the soil then those nutrients are in the food chain', 'if something absorbs something else then that something will contain that something else', 'if something contains a large amount of magnetic material then that something will attract magnets', 'if something is a raw material in a process then that something is required for that process', 'if something is a raw material then that something comes directly from a source', 'if something is in the sunlight then that something will absorb solar energy', 'if something is outside during the day then that something will receive sunlight', 'if the amount of available food and water decreases in an environment then animals may leave that environment to find food and water', 'if the atmospheric temperature rises then the glaciers will melt', 'if the population of an organism increases then the ecosystem may become overpopulated with that organism', 'if too much heat is transferred to an object then that object may burn', 'if two animals eat the same prey then those animals compete for that pey', 'if two animals have the same food source then those two animals compete for food', 'if two equal forces in opposite directions act on an object then that object will stay in the same place', 'if two objects have the same charge then those two materials will repel each other', 'if weather is stormy then there is a greater chance of rain', \"illness has a negative impact on an organism 's health\", 'incomplete metamorphosis is when an insect reaches the adult stage without being a pupa', 'inheriting is when a inherited characteristic is copied from parent to offspring by DNA', 'inheriting is when a inherited characteristic is passed from parent to offspring by DNA', 'inheriting is when a inherited characteristic is passed from parent to offspring by genetics', 'ink is used for hiding from predators by octopuses', 'insects can have a negative impact on crops', 'inventing a tool allows that tool to be used', 'iron is always magnetic', 'iron nails are made of iron', 'jet streams may deflect the air masses moved by the prevailing westerlies', 'kilometers km are a unit used for measuring distance generally used for values between 1 and 50000000', 'lack of food causes starvation', 'landfills have a negative impact on the communities', 'landfills have a negative impact on the environment', 'landslides often occur on mountains', 'large fins can be used to move quickly through water', 'large trees block sunlight from reaching the ground', 'lava is found above the ground', 'light can travel through a vacuum', 'light enters the eye through the pupil', 'lighting a candle causes that candle to burn', 'lightning can cause a forest fire', 'limestone is formed by water evaporating from a solution of water and minerals', 'live birth means developing inside the mother instead of an egg', 'living in an environment causes an organism to adapt to that environment', 'living things all require energy for survival', 'living things can all reproduce', 'living things live in their habitat', 'living things require respiration to use energy', 'living things require water for survival', 'living underground can be used for hiding from predators', 'lizards eat insects', 'long ears are used for releasing heat by a jackrabbit', 'looking directly at an eclipse of the Sun causes harm to the eyes', 'loss of resources has a negative impact on the organisms in an area', 'magma is found below the ground', 'magnetic attraction pulls two objects together', 'magnetism can cause objects to repel each other', 'magnetism does not require contact between objects to act', 'magnifying glass is used to see small things by making objects appear bigger', 'magnifying makes seeing small things easier through using a microscope', 'mammals give birth to live young', 'many vehicles emit pollution into the air', 'mass is a measure of the amount of matter in an object', 'matter in the liquid state drips', 'matter is made of molecules', 'matter vibrating can cause sound', 'matter with variable volume and shape assumes the shape and size of its entire container', 'meadow voles eat insects', 'meadow voles eat plants', 'measuring the hardness of minerals requires scratching those materials', 'mechanical weathering is when rocks are broken down by mechanical means', 'medicine can cause people to have bad reactions', 'melting is when solids are heated above their melting point', 'melting means changing from a solid into a liquid by adding heat energy', 'melting point means temperature above which a solid melts', 'melting point means temperature at which a solid melts', 'metal is a nonrenewable resource', 'metal is a thermal conductor', 'metal is an electrical energy conductor', 'metal is sometimes magnetic', 'metamorphosis is a stage in the life cycle process of some animals', 'metamorphosis is when an animal changes from an immature form to an adult form', 'meters m are a unit used for measuring distance generally used for values between 1 and 1000', 'mice live in in holes in the ground in fields', 'microorganisms cause food to spoil', 'microscope is used to see small things by making them appear bigger', 'migration is an instinctive behavior', 'migration is when animals move themselves from a cooler climate to a warmer climate for the winter', 'migration is when animals move to different locations in an annual cycle', 'milliliters mL is a unit used for measuring volume generally used for values between 1 and 1000', 'mimicry is used for avoiding predators by animals by camouflaging as a dangerous animal', 'minerals are formed from magma cooling', 'mining changes an ecosystem', 'moist means high in moisture', 'molecules vibrating can cause sound', 'most animals avoid bad odors', 'most canyons are formed by flowing rivers through erosion over long periods of time', 'most chloroplasts are found in the leaves of a plant', 'most predators live in the same environment as their prey', 'most predators live near the same environment as their prey', 'motion is a source of kinetic energy in an object', 'mountains are formed by plate tectonics', 'mountains are formed by volcanoes', \"moving an object from a cool place to a warm place causes the object 's temperature to increase\", 'moving changes position', 'moving changes stored energy into motion and heat', 'muscles pull bones to move the bones', 'musical instruments make sound when they are played', 'national parks limit hunting', 'natural disasters can cause animals to leave an environment', \"natural events usually cause changes to Earth 's surface\", 'natural gas is a nonrenewable resource', 'natural gas is a source of heat by burning', 'natural magnetism is used for pointing north by a compass', 'nature is the source of natural resources', 'nearly all fossils are found in sedimentary rock', 'nectar is used for attracting pollinators by plants', 'nerves are made of nerve cells', 'nerves can be used to feel heat and pressure on the skin', 'nervous system is an electric conductor', 'new land can be formed by volcanoes erupting by lava cooling', 'no light shines through an opaque object', 'nocturnal predators hunt during the night', 'non-contact forces can affect objects that are not touching', 'nuclear reactions in stars causes stars to produce light', 'nutrients are a source of energy for living things', 'objects made of glass cause refraction of light', \"oceans contains most of earth 's water\", 'oceans cover 70% of the surface of the earth', 'octopuses releasing ink into the water causes predators to have difficulty seeing the octopus', 'offshore oil platforms might cause oil to leak into the water', 'offspring receive genes from their parents through DNA', 'oil is a nonrenewable resource', 'oil is a source of energy', 'oil is a source of gasoline', 'omnivores are predators', 'omnivores eat plants', 'one day is equal to 24 hours', 'one year is equal to 365 days', 'organisms can be preserved in sedimentary rock', 'organisms live in their habitat', 'painting an object a color causes that object to be that color', 'panting is when an animal hangs its tongue out of its mouth to adjust to hot temperatures', 'paper is recyclable', 'pasteurization reduces the amount of bacteria in milk', 'peat is made of decaying vegetation compacted by soil in a swamp over a long period of time', 'pencil lead contains mineral graphite', 'performing lab expiriments accurately requires understanding all directions beforehand', 'phase changes do not change mass', 'phloem transports materials through the plant', 'photosynthesis makes energy for the plant by converting carbon dioxide, water, and sunlight into carbohydrates', 'photosynthesis makes food for the plant by converting carbon dioxide, water, and sunlight into carbohydrates', 'photosynthesis means green plants convert from carbon dioxide, water, and solar energy into oxygen for themselves', 'photosynthesis means producers convert from carbon dioxide, water, and solar energy into food for themselves', 'planets orbit stars', 'plant cells can perform photosynthesis', 'plant reproduction requires pollination', 'plant requires seed dispersal for reproduction', 'planting native plants has a positive impact on an ecosystem', 'planting trees has a positive impact on an ecosystem', 'plants absorb nutrients from soil into themselves through their roots', 'plants are a source of biofuel', 'plants are a source of fibers', 'plants are a source of oxygen through photosynthesis', 'plants are the source of fruit', 'plants are the source of spices', 'plants control the amount of water in their leaves through transpiration', 'plasma is formed by electrons separating from atoms in stars', 'plastic is a nonrenewable resource', 'plucking a string can cause that string to vibrate', 'pluto has not cleared its orbit', 'poison causes harm to living things', 'poisonous darts are used for defense by sea anemones', 'polar bears live in cold environments', 'pollination is when wind carry pollen from one flower to another flower', 'pollination requires pollinating animals', 'polluting means something poisonous is added to an environment causing harm to the environment', 'pollution is a source of pollutants', 'pollution is when humans pollute the environment with pollutants', 'potential energy changes to kinetic energy through motion', 'pouring water onto soil causes that soil to wash away', 'precipitation is when hail fall from clouds to the ground', 'precipitation is when rain fall from clouds to the Earth', 'precipitation is when snow fall from clouds to the Earth', 'precipitation is when water falls from the sky', 'predators eat other animals', 'predators eat prey', 'preferences are generally learned characteristics', 'preparing for a storm requires predicting the occurrence of that storm', 'processes sometimes produce waste products', 'producer is a kind of role in an ecosystem', 'producer is a kind of role in the food chain process', 'producing light is used for attracting prey by some deep sea animals', 'protein is used to repair cells by the human body', 'pushing a button sometimes completes a circuit', 'pushing an object requires force', 'pushing on the pedals of a bike cause that bike to move', 'quartz scratches glass easily', 'rabbits eat plants', 'raccoons eat garbage', 'raccoons eat waste', 'radiation is when heat is transferred through waves', 'rain is a source of water', 'rainfall is the amount of rain an area receives', 'recyclable means a material can be recycled', 'recycling has a positive impact on the environment', 'recycling nonrenewable resources has a positive impact on the conservation of those resources', 'recycling resources has a positive impact on the conservation of those resources', 'recycling resources has a positive impact on the environment', 'reducing bacteria in food prevents illness in people', 'refracting sunlight causes light to split into different colors', 'refraction causes something to look different', 'refraction is when light bends', 'remora fish eat food by attaching themselves to sharks and eating the food left behind', 'renewable resources can be used over again', 'reproduction is a stage in the life cycle process', 'reproduction is when an organism passes genetic information from itself to its offspring', 'reproduction occurs during adulthood', 'reproduction produces offspring', 'reptiles lay eggs', 'rest has a positive impact on a health', 'riding a bike does not cause pollution', 'rock is made of minerals', 'rocks are a source of shelter for small animals in an environment', 'rocks often contain large amounts of metal', 'rocks sometimes contain aluminum', 'rocks sometimes contain iron', 'roots anchor plants into the soil', 'roots are a vehicle for absorbing water and nutrients from soil into the plant', 'rubber is an thermal insulator', 'runoff contains fertilizer from cropland', 'runoff contains pesticides from cropland', 'runoff is when cropland water enters bodies of water', 'safety goggles are used for protecting the eyes during experiments', 'sand dunes are made of sand', 'scavengers eat dead organisms', 'scientists make observations', 'scraping an object may cause small particles to break off of that object', 'seals every year return to the same beaches to give birth', 'seasonal changes are made in response to changes in the environment', 'seasons cause change to the environment', 'seconds are used to measure time', 'sediment is formed by weathering', 'sedimentary rocks are formed from sediment compacting together', \"seed dispersal has a positive impact on a plant 's reproduction\", 'seed dispersal has a positive impact on a plant', 'seed dispersal is when the seeds of a plant are moved from the plant to a new environment', 'seed dispersal is when the seeds of a plant are spread from the parent plant to another area', 'seed production requires pollination', 'seeds may sprout when buried in soil', 'seeing is used for sensing visual things', 'sending electricity through a conductor causes electric current to flow through that conductor', 'sending electricity through a conductor causes electricity to flow through that conductor', 'shale can be metamorphosed into slate by increased pressure', 'sharp beaks are a kind of adaptation for catching prey', 'shedding is when an animal loses hair', 'shelter can protect animals from weather', 'shelter can protect humans from weather', 'shelter is used for protection by animals against weather', 'shiny things reflect light', 'shivering is when an animal creates heat by shaking to keep the body warm', 'skeletal system is made of bones', 'skidding causes friction', 'skidding causes speed to decrease', 'skills are learned characteristics', 'skin is used for protecting the body from harmful substances', 'sleet is made of ice', 'slope is a measure of the difference in elevation between one part of the land and another part of the land', 'smell is used for finding food by some animals', 'smoking causes direct damage to the lungs', 'snow falls during the winter in some environments', 'snow falls during the winter in the arctic environment', 'snowy means a large amount of snow', 'soil contains nutrients for plants', 'soil erosion is when wind move soil from environments', 'soil is a renewable resource for growing plants', 'soil is formed by rocks eroding', 'soil is formed by weathering', 'soil loss causes grooves in soil', 'solar energy is a renewable resource', 'solar energy is an inexhaustible resource', 'some adult animals lay eggs', 'some animals live in zoo exhibits', 'some animals move quickly to escape predators', 'some animals shed fur in warm weather', 'some birds are predators', 'some birds live in forests', 'some crickets live in forests', 'some deep lakes are formed by glaciers', 'some flowers become fruits', 'some hares live in fields', 'some humans live in houses', 'some light bulbs convert electricity into light and heat energy', 'some lizards live in desert habitats', 'some predators move quickly to catch prey', 'some rabbits live in forests', 'some raccoons live in hollow logs', 'something in a cold place becomes cold', 'something reusable can be used more than once', 'sometimes piles of rock are formed by melting glaciers depositing rocks', 'sometimes weathering rounds rocks', 'sometimes weathering smooths rocks', 'sonar is used to find the location of an object', 'sound can be used for communication by animals', 'sound can travel through air', 'special tissues in plants transport minerals throughout the plant', 'specialized tissues at the ends of plant stems are used for growing taller by plants', 'speed is a measure of distance travelled divided by time', 'speed is a measure of distance travelled over time', 'speed is a measure of how fast an object is moving', 'squirrels eat edible plants', 'squirrels gather nuts in the autumn to eat during the winter', 'stalactites are formed by deposition', 'stars appear to move relative to the horizon during the night', 'steam is a kind of water above 100 degrees celsius', 'stopped means no speed', 'storms can cause a landslide', 'storms cause bodies of water to increase amount of water they contain', 'strumming a string can cause that string to vibrate', 'studying a soil sample means studying the microorganisms in that soil', 'sugar causes food to taste sweet', 'sugar dissolves in water when they are combined', 'sugars are transported from the leaves to the roots of a plant', 'summer is when a hemisphere is tilted towards the sun', 'sunlight and rain can cause a rainbow', 'sunlight contains ultraviolet light', 'sunlight produces heat', 'sweat cools a body', 'sweat is used for adjusting to hot temperatures by some animals', 'swimming is when humans can move in water', 'tadpole changes into a frog', 'tapping two objects together causes the particles in those objects to vibrate', \"tearing an object changes that object 's shape\", 'tearing means changing a whole into pieces', 'tectonic plates being pushed together causes earthquakes', 'telephones convert sound energy into electrical energy', 'temperature changing can cause phase changes', 'temperature is a measure of heat energy', 'the Alps were formed by rock folding', 'the Appalachians were formed by rock folding', 'the Earth absorbs more energy than it loses', 'the Earth being tilted on its axis causes ones side of the Earth to receive less energy from the Sun than the other side', 'the Earth being tilted on its axis causes seasons', 'the Earth contains many ecosystems', 'the Earth revolves around the sun', 'the Earth revolving around the Sun causes the seasons to change on its axis', 'the Earth revolving around the Sun causes the seasons to occur on its axis', 'the Earth revolving around the sun causes stars to appear in different areas in the sky at different times of year', 'the Earth rotates on its axis on its axis', 'the Earth rotating on its axis causes stars to appear to move across the sky at night', 'the Earth rotating on its axis causes the sun to appear to move across the sky during the day', 'the Grand Canyon was formed by the Colorado River flowing over long periods of time', 'the Great Lakes were formed by glaciers moving over the ground', 'the Himalayas were formed by rock folding', 'the Moon completes a lunar cycle over a period of 29 days', 'the North Star does not move in the sky in the Northern Hemisphere each night', 'the Sun is the star that is closest to Earth', \"the ability to access resources has a positive impact on an organism 's survival\", \"the ability to acquire resources has a positive impact on an organism 's survival\", \"the ability to find resources has a positive impact on an organism 's survival\", 'the amount of daylight is greatest in the summer', 'the amount of daylight is greatest on the summer solstice', 'the amount of daylight is least in the winter', 'the amount of daylight is least on the winter solstice', 'the arctic environment is cold in temperature from being at a northern lattitude below 0 degrees celsius during most of the year', 'the arctic environment is covered in snow', 'the arctic environment is white in color from being covered in snow', 'the atmosphere is made of 78% nitrogen', 'the breaking down of food into simple substances occurs in the digestive system', 'the cell membrane provides support for a cell', 'the cells of multicellular organisms can specialize', 'the circulatory system brings oxygen from the lungs to the rest of the body', 'the circulatory system carries oxygen from the digestive and respiratory systems to the rest of the body', 'the circulatory system transports blood throughout the body', 'the cocoons being created occurs during the the pupa stage in a life cycle', 'the color of an object can be discovered by looking at that object', 'the color of fur is an inherited characteristic', 'the coloration of fur is an inherited characteristic', 'the colors of the parts of an organism are inherited characteristics', 'the composition of something can be used to identify that something', 'the condition of the parts of an organism are acquired characteristics', 'the continental shelf is located near the shore', 'the crust is a layer of the Earth', \"the decrease of something required by an organism has a negative impact on that organism 's survival\", 'the digestive system breaks food into nutrients for the body', 'the digestive system digests food for the body', 'the earth has more mass than the moon', 'the excretory system removes waste from the body', 'the first quarter phase of the moon occurs after the new moon', 'the floating arrow on a compass always points towards the north', 'the formation of peat occurs at the bottom of swamps', \"the gravitational pull of the Moon on Earth 's oceans causes the tides\", \"the greenhouse effect is when carbon in the air heats a planet 's atmosphere\", 'the heart is mostly made of muscle', \"the increase of something required by an organism has a positive impact on that organism 's survival\", 'the kidney removes byproducts from the blood', 'the length of the hair of an animal is an acquired characteristic', \"the looseness of soil has a positive impact on a plant 's roots' growth in that soil\", 'the looseness of soil increases the amount of oxygen in that soil', 'the lunar surface contains many craters', 'the mantle is a layer of the Earth', \"the mantle is located just below Earth 's crust\", 'the mass of a planet causes the pull of gravity on that planet', \"the moon 's surface contains flat areas\", \"the moon 's surface contains highlands\", \"the moon 's surface contains many craters\", 'the moon does not contain water', 'the moon is the celestial object that is closest to the Earth', 'the moon orbiting the Earth approximately occurs 13 times per year', 'the moon orbiting the Earth causes the phases of the moon', 'the moon orbits the Earth', 'the moon reflects sunlight towards the Earth', 'the moon rising occurs once per day', 'the nervous system sends observations in the form of electrical signals to the rest of the body', 'the number of body parts of an organism is an inherited characteristic', 'the number of rings in a tree trunk can be used to estimate the age of the tree', 'the ocean contains large amounts of salt water', 'the phases of the Moon change the appearance of the Moon', 'the pupa stage is a stage in the metamorphosis process of some animals', 'the respiratory system takes in oxygen from the air', 'the respiratory system transfers oxygen to the circulatory system', 'the shape of an object can be discovered through feeling that object', 'the shape of body parts is an inherited characteristic', 'the skeletal system protects internal organs', 'the skin is the largest organ in the human body', 'the slope of the land causes a river to flow in a particular direction', 'the smell of rotting meat attracts flies', 'the solar system contains the moon', 'the stars in the night sky are very far away from the Earth', 'the summer solstice is on June 21st in the northern hemisphere', 'the sun causes water to evaporate more quickly by adding heat', 'the sun is a source of heat called sunlight', 'the sun is a source of light called sunlight', 'the sun is located directly overhead at noon', 'the sun is the source of energy for life on Earth', 'the sun is the source of energy for physical cycles on Earth', 'the sun is the source of solar energy called sunlight', 'the sun rising and setting causes cycles of day and night', 'the sun sets in the west', 'the sun setting occurs once per day', 'the sun transfers heat energy from itself to the planets through sunlight', 'the sun transfers solar energy from itself to the Earth through sunlight', 'the surface of the Earth contains mountains', 'the surface of the Moon contains mountains', 'the thickness of the parts of an organism is an inherited characteristic', 'the tide cycle regularly occurs twice per day', 'the top layer of soil contains the most nutrients', 'the type of material through which sound passes changes the speed at which sound travels', 'the type of seed of a plant is an inherited characteristic', 'the vanes rotating in an electric fan causes air to move', 'the volume of an object can be used to describe the size of that object', 'the winter solstice is on December 21st in the northern hemisphere', 'the winter solstice is on June 21st in the southern hemisphere', 'thermal conduction is when materials conduct heat through those materials', 'thick feathers can be used for keeping warm', 'tidal energy can be used to produce electricity', 'tidal range is a measure of the vertical distance from high tide to low tide', 'timber companies cut down trees', 'tinted lenses reflect ultraviolet rays', 'touch can be used for detecting texture', 'transpiration is when water vapor moves from leaves into the atmosphere', 'transpiration usually happens in the leaves of a plant', 'treating water is used to remove harmful substances before drinking', 'trees are a renewable resource', 'tuna eat fish', 'tunnels in soil loosen that soil', 'two females can not usually reproduce with each other', 'uneven heating causes convection', \"uneven heating of the Earth 's surface cause wind\", 'using a car causes pollution', 'using less resources usually causes money to be saved', 'using tools is a learned characteristic', 'usually coral lives in warm water', \"usually craters on planets are formed by asteroids impacting that planet or moon 's surface\", 'usually plants die or become dormant during the winter', 'usually plants store the food they produce for future use', 'vaccines can help prevent illness', 'veins transport nutrients throughout the body', 'vibrating matter can produce sound', 'volcanoes are often found under oceans', 'warm-weather organisms live in warm climates', 'water absorbs solar energy in the water cycle', 'water causes the most soil and rock erosion', 'water flows down a slope', 'water is a renewable resource', 'water is an electrical conductor', 'water is in the gas state , called water vapor , for temperatures between 100 and 100000000000 F', 'water is in the solid state , called ice , for temperatures between 0 and 0 F', 'water is often brackish in an estuary', 'water vapor condensing in clouds causes rain', 'water vapor cooling causes that water vapor to condense', 'water vapor is a kind of water above 100 degrees celsius', 'water vapor is found in the atmosphere', 'wax is an electrical energy insulator', 'wax is an electrical insulator', 'waxy leaves are used for storing water by some plants', 'weathering means breaking down surface materials from larger whole into smaller pieces by weather', 'weathering usually occurs over a period of many years', 'webbed feet are used for moving faster through water by aquatic animals', 'when a body of water receives more water than it can hold , a flood occurs', 'when a cooler object touches a warmer object , thermal conduction occurs', 'when a gas in an open container evaporates, that gas spreads out into the air', 'when a habitat can support living things , living things can live in that habitat', 'when a hibernating frog emergest from mud , that frog has ended its hibernation', 'when a hurricane moves over land , that hurricane will decrease in strength', 'when a mineral is rubbed on a streak plate , some of the material breaks off and forms a powder', 'when a plant grows , the number of the leaves of that plant may increase', 'when a river floods , that river deposits sediment in flood plains', 'when a sound is produced inside of a room , there is sometimes an echo after the sound', 'when a switch in a simple series circuit is closed , electricity will flow through the circuit', 'when an animal eats or drinks something , that animal tastes that something', 'when an animal sheds its fur , its fur becomes less dense', 'when an electrical circuit is working properly , electrical current runs through the wires in that circuit', 'when an electrical conductor is plugged into an outlet , a circuit is completed', 'when available resources decrease in an environment , organisms have to conserve those resources', 'when both a dominant and recessive gene are present , the dominant trait will be visible', 'when electricity flows to a light bulb , the light bulb will come on', 'when electricity flows to a light bulb , the light bulb will turn on', 'when light enters the eye through the pupil , that light falls on the retina', 'when light hits a reflective object , that light bounces off that object', 'when pollen sticks to a hummingbird , that pollen will move to where the hummingbird moves', 'when sound reaches the ear , that sound can be heard', 'when the body is hot , sweat is produced to cool the body', \"when the needle of a compass lines up with Earth 's magnetic poles , the needle points north\", 'when the season changes , the amount of daylight will change', 'when the seasons change from the summer to the fall , the amount of daylight will decrease', 'when water freezes , that water expands', 'white blood cell destroys pathogens in the body', 'wildfire is when a forest catches fire', 'wind and rain cause erosion', 'wind carries dirt from one place to another place', 'wind carries sand from one place to another place', 'wind causes erosion', 'wind is a renewable resource', 'wind is a source of energy', 'wind is an inexhaustible resource', 'wind is used for producing electricity', 'windy means high wind speeds', 'winter in a hemisphere occurs when the Pole located in that hemisphere is tilted away from the Sun', 'winter in the Northern Hemisphere is during the summer in the Southern Hemisphere', 'winter is when a hemisphere is tilted away from the sun', 'wiring requires an electrical conductor', 'wood is a renewable resource', 'wood is an electrical energy insulator', 'wood is an thermal energy insulator', 'xylem carries water from the roots of a plant to the leaves of a plant', 'xylem transports materials through the plant', 'young amphibians breathe through gills']\n"
          ],
          "name": "stdout"
        }
      ]
    },
    {
      "cell_type": "markdown",
      "metadata": {
        "id": "zuAnu9NnZCW8"
      },
      "source": [
        "## Test tokenize"
      ]
    },
    {
      "cell_type": "code",
      "metadata": {
        "id": "PLcEPRHpGAB8"
      },
      "source": [
        "# Constants\n",
        "# POS (Parts Of Speech) for: nouns, adjectives, verbs and adverbs\n",
        "DI_POS_TYPES = {'NN':'n', 'JJ':'a', 'VB':'v', 'RB':'r'} \n",
        "POS_TYPES = list(DI_POS_TYPES.keys())\n",
        "\n",
        "# Constraints on tokens\n",
        "MIN_STR_LEN = 3\n",
        "RE_VALID = '[a-zA-Z]'"
      ],
      "execution_count": null,
      "outputs": []
    },
    {
      "cell_type": "code",
      "metadata": {
        "id": "wlTuQr6RHDmb",
        "colab": {
          "base_uri": "https://localhost:8080/"
        },
        "outputId": "6b4c14da-44f4-44bd-981e-ed0189422be4"
      },
      "source": [
        "# Get stopwords, stemmer and lemmatizer\n",
        "stopwords = nltk.corpus.stopwords.words('english')\n",
        "stemmer = nltk.stem.PorterStemmer()\n",
        "lemmatizer = nltk.stem.WordNetLemmatizer()\n",
        "\n",
        "# Remove accents function\n",
        "def remove_accents(data):\n",
        "    return ''.join(x for x in unicodedata.normalize('NFKD', data) if x in string.ascii_letters or x == \" \")\n",
        "\n",
        "def tokenize_data(li_data):\n",
        "    # Process all quotes\n",
        "    li_tokens = []\n",
        "    li_token_lists = []\n",
        "    li_lem_strings = []\n",
        "\n",
        "    for i,text in enumerate(li_data):\n",
        "        # Tokenize by sentence, then by lowercase word\n",
        "        tokens = [word.lower() for sent in nltk.sent_tokenize(text) for word in nltk.word_tokenize(sent)]\n",
        "\n",
        "        # Process all tokens per fact\n",
        "        li_tokens_fact = []\n",
        "        li_tokens_fact_lem = []\n",
        "        for token in tokens:\n",
        "            # Remove accents\n",
        "            t = remove_accents(token)\n",
        "\n",
        "            # Remove punctuation\n",
        "            t = str(t).translate(string.punctuation)\n",
        "            li_tokens_fact.append(t)\n",
        "            \n",
        "            # Add token that represents \"no lemmatization match\"\n",
        "            li_tokens_fact_lem.append(\"-\") # this token will be removed if a lemmatization match is found below\n",
        "\n",
        "            # Process each token\n",
        "            if t not in stopwords:\n",
        "                if re.search(RE_VALID, t):\n",
        "                    if len(t) >= MIN_STR_LEN:\n",
        "                        # Note that the POS (Part Of Speech) is necessary as input to the lemmatizer \n",
        "                        # (otherwise it assumes the word is a noun)\n",
        "                        pos = nltk.pos_tag([t])[0][1][:2]\n",
        "                        pos2 = 'n'  # set default to noun\n",
        "                        if pos in DI_POS_TYPES:\n",
        "                          pos2 = DI_POS_TYPES[pos]\n",
        "                        \n",
        "                        stem = stemmer.stem(t)\n",
        "                        lem = lemmatizer.lemmatize(t, pos=pos2)  # lemmatize with the correct POS\n",
        "                        \n",
        "                        if pos in POS_TYPES:\n",
        "                            li_tokens.append((t, stem, lem, pos))\n",
        "\n",
        "                            # Remove the \"-\" token and append the lemmatization match\n",
        "                            li_tokens_fact_lem = li_tokens_fact_lem[:-1] \n",
        "                            li_tokens_fact_lem.append(lem)\n",
        "\n",
        "        # Build list of token lists from lemmatized tokens\n",
        "        li_token_lists.append(li_tokens_fact)\n",
        "        \n",
        "        # Build list of strings from lemmatized tokens\n",
        "        str_li_tokens_fact_lem = ' '.join(li_tokens_fact_lem)\n",
        "        li_lem_strings.append(str_li_tokens_fact_lem)\n",
        "        \n",
        "    # Build resulting dataframes from lists\n",
        "    df_token_lists = pd.DataFrame(li_token_lists)\n",
        "\n",
        "    print(\"df_token_lists.head(5):\")\n",
        "    print(df_token_lists.head(5).to_string())\n",
        "    \n",
        "    # Replace None with empty string\n",
        "    for c in df_token_lists:\n",
        "        if str(df_token_lists[c].dtype) in ('object', 'string_', 'unicode_'):\n",
        "            df_token_lists[c].fillna(value='', inplace=True)\n",
        "\n",
        "    df_lem_strings = pd.DataFrame(li_lem_strings, columns=['lem fact'])\n",
        "\n",
        "    print()\n",
        "    print(\"\")\n",
        "    print(\"df_lem_strings.head():\")\n",
        "    print(df_lem_strings.head().to_string())\n",
        "\n",
        "    return df_token_lists, df_lem_strings\n",
        "\n",
        "data_token_lists, data_lem_strings = tokenize_data(li_data)\n",
        "print(\"---------\")\n",
        "print(data_token_lists)\n",
        "print(\"--------------\")\n",
        "print(data_lem_strings)\n",
        "print(\"--------------\")"
      ],
      "execution_count": null,
      "outputs": [
        {
          "output_type": "stream",
          "text": [
            "df_token_lists.head(5):\n",
            "  0        1        2     3        4        5      6      7      8            9       10    11    12    13    14    15    16    17    18    19    20    21    22    23    24    25    26    27    28    29    30    31    32    33    34    35    36    37    38    39\n",
            "0        None     None  None     None     None   None   None   None         None    None  None  None  None  None  None  None  None  None  None  None  None  None  None  None  None  None  None  None  None  None  None  None  None  None  None  None  None  None  None\n",
            "1         day      has        minutes     None   None   None   None         None    None  None  None  None  None  None  None  None  None  None  None  None  None  None  None  None  None  None  None  None  None  None  None  None  None  None  None  None  None  None\n",
            "2         out       of         people       in    the  world    are  chronically  hungry        None  None  None  None  None  None  None  None  None  None  None  None  None  None  None  None  None  None  None  None  None  None  None  None  None  None  None  None\n",
            "3     degrees  celsius    is      the  boiling  point     of  water         None    None  None  None  None  None  None  None  None  None  None  None  None  None  None  None  None  None  None  None  None  None  None  None  None  None  None  None  None  None  None\n",
            "4          pm       is  noon     None     None   None   None   None         None    None  None  None  None  None  None  None  None  None  None  None  None  None  None  None  None  None  None  None  None  None  None  None  None  None  None  None  None  None  None\n",
            "\n",
            "\n",
            "df_lem_strings.head():\n",
            "                                          lem fact\n",
            "0                                                -\n",
            "1                                 - day - - minute\n",
            "2  - - - - people - - world - chronically hungry -\n",
            "3          - degree celsius - - boil point - water\n",
            "4                                       - - - noon\n",
            "---------\n",
            "         0           1          2           3        4   ... 35 36 37 38 39\n",
            "0                                                        ...               \n",
            "1                   day        has              minutes  ...               \n",
            "2                   out         of               people  ...               \n",
            "3               degrees    celsius          is      the  ...               \n",
            "4                    pm         is        noon           ...               \n",
            "...     ...         ...        ...         ...      ...  ... .. .. .. .. ..\n",
            "6487   wood          is         an  electrical   energy  ...               \n",
            "6488   wood          is         an     thermal   energy  ...               \n",
            "6489  xylem     carries      water        from      the  ...               \n",
            "6490  xylem  transports  materials     through      the  ...               \n",
            "6491  young  amphibians    breathe     through    gills  ...               \n",
            "\n",
            "[6492 rows x 40 columns]\n",
            "--------------\n",
            "                                               lem fact\n",
            "0                                                     -\n",
            "1                                      - day - - minute\n",
            "2       - - - - people - - world - chronically hungry -\n",
            "3               - degree celsius - - boil point - water\n",
            "4                                            - - - noon\n",
            "...                                                 ...\n",
            "6487               wood - - electrical energy insulator\n",
            "6488                  wood - - thermal energy insulator\n",
            "6489  xylem carry water - - root - - plant - - leaf ...\n",
            "6490                 xylem transport material - - plant\n",
            "6491                     young amphibian breathe - gill\n",
            "\n",
            "[6492 rows x 1 columns]\n",
            "--------------\n"
          ],
          "name": "stdout"
        }
      ]
    },
    {
      "cell_type": "markdown",
      "metadata": {
        "id": "9a7MiwdRRqhC"
      },
      "source": [
        "## TfidfVectorizer Test"
      ]
    },
    {
      "cell_type": "code",
      "metadata": {
        "id": "Y0x3RcciHDge",
        "colab": {
          "base_uri": "https://localhost:8080/"
        },
        "outputId": "1740c466-bf5f-4665-9d2d-12a7b2c9216e"
      },
      "source": [
        "v = TfidfVectorizer()\n",
        "x = v.fit_transform(data_lem_strings['lem fact'])\n",
        "print(x.toarray())\n",
        "print(x.toarray().shape)"
      ],
      "execution_count": null,
      "outputs": [
        {
          "output_type": "stream",
          "text": [
            "[[0. 0. 0. ... 0. 0. 0.]\n",
            " [0. 0. 0. ... 0. 0. 0.]\n",
            " [0. 0. 0. ... 0. 0. 0.]\n",
            " ...\n",
            " [0. 0. 0. ... 0. 0. 0.]\n",
            " [0. 0. 0. ... 0. 0. 0.]\n",
            " [0. 0. 0. ... 0. 0. 0.]]\n",
            "(6492, 4166)\n"
          ],
          "name": "stdout"
        }
      ]
    },
    {
      "cell_type": "code",
      "metadata": {
        "id": "lzTeiiszHDeG",
        "colab": {
          "base_uri": "https://localhost:8080/"
        },
        "outputId": "63eff4d1-f004-4401-df7b-6a8a738db905"
      },
      "source": [
        "v = TfidfVectorizer()\n",
        "x = v.fit_transform(data['facts'])\n",
        "print(x.toarray())\n",
        "print(x.toarray().shape)"
      ],
      "execution_count": null,
      "outputs": [
        {
          "output_type": "stream",
          "text": [
            "[[0. 0. 0. ... 0. 0. 0.]\n",
            " [0. 0. 0. ... 0. 0. 0.]\n",
            " [0. 0. 0. ... 0. 0. 0.]\n",
            " ...\n",
            " [0. 0. 0. ... 0. 0. 0.]\n",
            " [0. 0. 0. ... 0. 0. 0.]\n",
            " [0. 0. 0. ... 0. 0. 0.]]\n",
            "(6492, 5689)\n"
          ],
          "name": "stdout"
        }
      ]
    },
    {
      "cell_type": "markdown",
      "metadata": {
        "id": "Z90M8rghkB6w"
      },
      "source": [
        "#### WIP\n"
      ]
    },
    {
      "cell_type": "code",
      "metadata": {
        "id": "q4ZjOdAGHDb6",
        "colab": {
          "base_uri": "https://localhost:8080/"
        },
        "outputId": "628d5de0-f38d-478a-a9d9-0fe243306562"
      },
      "source": [
        "# nevermind this for now...\n",
        "vectors_for_training = x.toarray() #get the vectors back out of the dataframe for use in something else\n",
        "fact_vector = data['facts'].tolist()\n",
        "print(vectors_for_training.shape)\n",
        "X_train, y_train, X_test, y_test = train_test_split(vectors_for_training, fact_vector)\n",
        "\n",
        "nb_classifier = MultinomialNB()\n",
        "nb_classifier.fit(X_train, y_train)\n",
        "nb_predictions = nb_classifier.predict(df.tfidf.tolist())"
      ],
      "execution_count": null,
      "outputs": [
        {
          "output_type": "stream",
          "text": [
            "(6492, 5689)\n"
          ],
          "name": "stdout"
        },
        {
          "output_type": "error",
          "ename": "ValueError",
          "evalue": "ignored",
          "traceback": [
            "\u001b[0;31m---------------------------------------------------------------------------\u001b[0m",
            "\u001b[0;31mValueError\u001b[0m                                Traceback (most recent call last)",
            "\u001b[0;32m<ipython-input-10-0e7e104481cd>\u001b[0m in \u001b[0;36m<module>\u001b[0;34m()\u001b[0m\n\u001b[1;32m      6\u001b[0m \u001b[0;34m\u001b[0m\u001b[0m\n\u001b[1;32m      7\u001b[0m \u001b[0mnb_classifier\u001b[0m \u001b[0;34m=\u001b[0m \u001b[0mMultinomialNB\u001b[0m\u001b[0;34m(\u001b[0m\u001b[0;34m)\u001b[0m\u001b[0;34m\u001b[0m\u001b[0;34m\u001b[0m\u001b[0m\n\u001b[0;32m----> 8\u001b[0;31m \u001b[0mnb_classifier\u001b[0m\u001b[0;34m.\u001b[0m\u001b[0mfit\u001b[0m\u001b[0;34m(\u001b[0m\u001b[0mX_train\u001b[0m\u001b[0;34m,\u001b[0m \u001b[0my_train\u001b[0m\u001b[0;34m)\u001b[0m\u001b[0;34m\u001b[0m\u001b[0;34m\u001b[0m\u001b[0m\n\u001b[0m\u001b[1;32m      9\u001b[0m \u001b[0mnb_predictions\u001b[0m \u001b[0;34m=\u001b[0m \u001b[0mnb_classifier\u001b[0m\u001b[0;34m.\u001b[0m\u001b[0mpredict\u001b[0m\u001b[0;34m(\u001b[0m\u001b[0mdf\u001b[0m\u001b[0;34m.\u001b[0m\u001b[0mtfidf\u001b[0m\u001b[0;34m.\u001b[0m\u001b[0mtolist\u001b[0m\u001b[0;34m(\u001b[0m\u001b[0;34m)\u001b[0m\u001b[0;34m)\u001b[0m\u001b[0;34m\u001b[0m\u001b[0;34m\u001b[0m\u001b[0m\n",
            "\u001b[0;32m/usr/local/lib/python3.7/dist-packages/sklearn/naive_bayes.py\u001b[0m in \u001b[0;36mfit\u001b[0;34m(self, X, y, sample_weight)\u001b[0m\n\u001b[1;32m    607\u001b[0m         \u001b[0mself\u001b[0m \u001b[0;34m:\u001b[0m \u001b[0mobject\u001b[0m\u001b[0;34m\u001b[0m\u001b[0;34m\u001b[0m\u001b[0m\n\u001b[1;32m    608\u001b[0m         \"\"\"\n\u001b[0;32m--> 609\u001b[0;31m         \u001b[0mX\u001b[0m\u001b[0;34m,\u001b[0m \u001b[0my\u001b[0m \u001b[0;34m=\u001b[0m \u001b[0mself\u001b[0m\u001b[0;34m.\u001b[0m\u001b[0m_check_X_y\u001b[0m\u001b[0;34m(\u001b[0m\u001b[0mX\u001b[0m\u001b[0;34m,\u001b[0m \u001b[0my\u001b[0m\u001b[0;34m)\u001b[0m\u001b[0;34m\u001b[0m\u001b[0;34m\u001b[0m\u001b[0m\n\u001b[0m\u001b[1;32m    610\u001b[0m         \u001b[0m_\u001b[0m\u001b[0;34m,\u001b[0m \u001b[0mn_features\u001b[0m \u001b[0;34m=\u001b[0m \u001b[0mX\u001b[0m\u001b[0;34m.\u001b[0m\u001b[0mshape\u001b[0m\u001b[0;34m\u001b[0m\u001b[0;34m\u001b[0m\u001b[0m\n\u001b[1;32m    611\u001b[0m         \u001b[0mself\u001b[0m\u001b[0;34m.\u001b[0m\u001b[0mn_features_\u001b[0m \u001b[0;34m=\u001b[0m \u001b[0mn_features\u001b[0m\u001b[0;34m\u001b[0m\u001b[0;34m\u001b[0m\u001b[0m\n",
            "\u001b[0;32m/usr/local/lib/python3.7/dist-packages/sklearn/naive_bayes.py\u001b[0m in \u001b[0;36m_check_X_y\u001b[0;34m(self, X, y)\u001b[0m\n\u001b[1;32m    473\u001b[0m \u001b[0;34m\u001b[0m\u001b[0m\n\u001b[1;32m    474\u001b[0m     \u001b[0;32mdef\u001b[0m \u001b[0m_check_X_y\u001b[0m\u001b[0;34m(\u001b[0m\u001b[0mself\u001b[0m\u001b[0;34m,\u001b[0m \u001b[0mX\u001b[0m\u001b[0;34m,\u001b[0m \u001b[0my\u001b[0m\u001b[0;34m)\u001b[0m\u001b[0;34m:\u001b[0m\u001b[0;34m\u001b[0m\u001b[0;34m\u001b[0m\u001b[0m\n\u001b[0;32m--> 475\u001b[0;31m         \u001b[0;32mreturn\u001b[0m \u001b[0mcheck_X_y\u001b[0m\u001b[0;34m(\u001b[0m\u001b[0mX\u001b[0m\u001b[0;34m,\u001b[0m \u001b[0my\u001b[0m\u001b[0;34m,\u001b[0m \u001b[0maccept_sparse\u001b[0m\u001b[0;34m=\u001b[0m\u001b[0;34m'csr'\u001b[0m\u001b[0;34m)\u001b[0m\u001b[0;34m\u001b[0m\u001b[0;34m\u001b[0m\u001b[0m\n\u001b[0m\u001b[1;32m    476\u001b[0m \u001b[0;34m\u001b[0m\u001b[0m\n\u001b[1;32m    477\u001b[0m     \u001b[0;32mdef\u001b[0m \u001b[0m_update_class_log_prior\u001b[0m\u001b[0;34m(\u001b[0m\u001b[0mself\u001b[0m\u001b[0;34m,\u001b[0m \u001b[0mclass_prior\u001b[0m\u001b[0;34m=\u001b[0m\u001b[0;32mNone\u001b[0m\u001b[0;34m)\u001b[0m\u001b[0;34m:\u001b[0m\u001b[0;34m\u001b[0m\u001b[0;34m\u001b[0m\u001b[0m\n",
            "\u001b[0;32m/usr/local/lib/python3.7/dist-packages/sklearn/utils/validation.py\u001b[0m in \u001b[0;36mcheck_X_y\u001b[0;34m(X, y, accept_sparse, accept_large_sparse, dtype, order, copy, force_all_finite, ensure_2d, allow_nd, multi_output, ensure_min_samples, ensure_min_features, y_numeric, warn_on_dtype, estimator)\u001b[0m\n\u001b[1;32m    758\u001b[0m                         dtype=None)\n\u001b[1;32m    759\u001b[0m     \u001b[0;32melse\u001b[0m\u001b[0;34m:\u001b[0m\u001b[0;34m\u001b[0m\u001b[0;34m\u001b[0m\u001b[0m\n\u001b[0;32m--> 760\u001b[0;31m         \u001b[0my\u001b[0m \u001b[0;34m=\u001b[0m \u001b[0mcolumn_or_1d\u001b[0m\u001b[0;34m(\u001b[0m\u001b[0my\u001b[0m\u001b[0;34m,\u001b[0m \u001b[0mwarn\u001b[0m\u001b[0;34m=\u001b[0m\u001b[0;32mTrue\u001b[0m\u001b[0;34m)\u001b[0m\u001b[0;34m\u001b[0m\u001b[0;34m\u001b[0m\u001b[0m\n\u001b[0m\u001b[1;32m    761\u001b[0m         \u001b[0m_assert_all_finite\u001b[0m\u001b[0;34m(\u001b[0m\u001b[0my\u001b[0m\u001b[0;34m)\u001b[0m\u001b[0;34m\u001b[0m\u001b[0;34m\u001b[0m\u001b[0m\n\u001b[1;32m    762\u001b[0m     \u001b[0;32mif\u001b[0m \u001b[0my_numeric\u001b[0m \u001b[0;32mand\u001b[0m \u001b[0my\u001b[0m\u001b[0;34m.\u001b[0m\u001b[0mdtype\u001b[0m\u001b[0;34m.\u001b[0m\u001b[0mkind\u001b[0m \u001b[0;34m==\u001b[0m \u001b[0;34m'O'\u001b[0m\u001b[0;34m:\u001b[0m\u001b[0;34m\u001b[0m\u001b[0;34m\u001b[0m\u001b[0m\n",
            "\u001b[0;32m/usr/local/lib/python3.7/dist-packages/sklearn/utils/validation.py\u001b[0m in \u001b[0;36mcolumn_or_1d\u001b[0;34m(y, warn)\u001b[0m\n\u001b[1;32m    795\u001b[0m         \u001b[0;32mreturn\u001b[0m \u001b[0mnp\u001b[0m\u001b[0;34m.\u001b[0m\u001b[0mravel\u001b[0m\u001b[0;34m(\u001b[0m\u001b[0my\u001b[0m\u001b[0;34m)\u001b[0m\u001b[0;34m\u001b[0m\u001b[0;34m\u001b[0m\u001b[0m\n\u001b[1;32m    796\u001b[0m \u001b[0;34m\u001b[0m\u001b[0m\n\u001b[0;32m--> 797\u001b[0;31m     \u001b[0;32mraise\u001b[0m \u001b[0mValueError\u001b[0m\u001b[0;34m(\u001b[0m\u001b[0;34m\"bad input shape {0}\"\u001b[0m\u001b[0;34m.\u001b[0m\u001b[0mformat\u001b[0m\u001b[0;34m(\u001b[0m\u001b[0mshape\u001b[0m\u001b[0;34m)\u001b[0m\u001b[0;34m)\u001b[0m\u001b[0;34m\u001b[0m\u001b[0;34m\u001b[0m\u001b[0m\n\u001b[0m\u001b[1;32m    798\u001b[0m \u001b[0;34m\u001b[0m\u001b[0m\n\u001b[1;32m    799\u001b[0m \u001b[0;34m\u001b[0m\u001b[0m\n",
            "\u001b[0;31mValueError\u001b[0m: bad input shape (1623, 5689)"
          ]
        }
      ]
    },
    {
      "cell_type": "markdown",
      "metadata": {
        "id": "8Apkyk-8RwvO"
      },
      "source": [
        "## SentenceTransformer Test"
      ]
    },
    {
      "cell_type": "markdown",
      "metadata": {
        "id": "vpV7upbfXjWV"
      },
      "source": [
        "### common functions"
      ]
    },
    {
      "cell_type": "code",
      "metadata": {
        "id": "XYuJg_vHXUc1"
      },
      "source": [
        "def load_embeddings():\n",
        "    return pickle.load(open(\"embeddings.pkl\", \"rb\"))\n",
        "\n",
        "def load_sentence_ids():\n",
        "    return pickle.load(open(\"sentence_ids.pkl\", \"rb\"))\n",
        "\n",
        "def get_embeddings_dim(embeddings):\n",
        "    dim = None\n",
        "    for embedding in embeddings.values():\n",
        "        new_dim = len(embedding)\n",
        "        if dim is None:\n",
        "            dim = new_dim\n",
        "        else:\n",
        "            assert(new_dim == dim)  # All embeddings have the same dimention.\n",
        "    return dim"
      ],
      "execution_count": 6,
      "outputs": []
    },
    {
      "cell_type": "markdown",
      "metadata": {
        "id": "Aep61ngVXxUq"
      },
      "source": [
        "### adapt dataset"
      ]
    },
    {
      "cell_type": "code",
      "metadata": {
        "id": "CwL-CSOz3CPY"
      },
      "source": [
        "def adapt_dataset(f):\n",
        "    all_data = []\n",
        "    all_ids = set()\n",
        "    for line in f:\n",
        "        entry = json.loads(line)\n",
        "        #assert(len(entry) == 3)\n",
        "\n",
        "        question_id = entry[\"id\"]\n",
        "        correct_answer = entry[\"answerKey\"]\n",
        "        assert(isinstance(question_id, string_types))\n",
        "        assert(correct_answer in [\"A\", \"B\", \"C\", \"D\"])\n",
        "\n",
        "        entry = entry[\"question\"]\n",
        "        assert(len(entry) == 2)\n",
        "        question = entry[\"stem\"]\n",
        "        answers = [\n",
        "            choice[\"text\"]\n",
        "            for choice in sorted(\n",
        "                entry[\"choices\"],\n",
        "                key=lambda x: x[\"label\"])\n",
        "        ]\n",
        "        assert(isinstance(question, string_types))\n",
        "        assert(len(answers) == 4)\n",
        "        for answer in answers:\n",
        "            assert(isinstance(answer, string_types))\n",
        "        assert(question_id not in all_ids)\n",
        "        all_ids.add(question_id)\n",
        "        new_row = {\n",
        "            \"id\": question_id,\n",
        "            \"question\": question,\n",
        "            \"answers\": answers,\n",
        "            \"correct\": correct_answer\n",
        "        }\n",
        "        all_data.append(new_row)\n",
        "    assert(len(all_data) == len(all_ids))\n",
        "    df = pd.DataFrame(all_data)\n",
        "    return df\n",
        "#    print(train_df)\n",
        "\n",
        "f = open('/content/OpenBookQA-V1-Sep2018/Data/Additional/train_complete.jsonl', 'rt')\n",
        "train_df = adapt_dataset(f)\n",
        "f.close()\n",
        "\n",
        "f = open('/content/OpenBookQA-V1-Sep2018/Data/Additional/dev_complete.jsonl', 'rt')\n",
        "dev_df = adapt_dataset(f)\n",
        "f.close()\n",
        "\n",
        "f = open('/content/OpenBookQA-V1-Sep2018/Data/Additional/test_complete.jsonl', 'rt')\n",
        "test_df = adapt_dataset(f)\n",
        "f.close()"
      ],
      "execution_count": 12,
      "outputs": []
    },
    {
      "cell_type": "markdown",
      "metadata": {
        "id": "yu6iirldXBT3"
      },
      "source": [
        "### Create embeddings for Dataset"
      ]
    },
    {
      "cell_type": "code",
      "metadata": {
        "colab": {
          "base_uri": "https://localhost:8080/",
          "height": 151,
          "referenced_widgets": [
            "8b42262bef274af88cda4fdae52ec543",
            "386a74e0f5d648cd843e3149c4e518f5",
            "08d1ca4197dd41c8924c629aeeee6efc",
            "2e79275d8fd94b0ea8afd87cd5f26323",
            "686817e54b064de892573b2476d33d7a",
            "a2181a3e021342a29cb2896f3b2af78f",
            "6603afcbcb55474791c9598b0f86599f",
            "d903f671c4004889895d1959141739e6"
          ]
        },
        "id": "GNIPKRoB3CZy",
        "outputId": "2b79bb7f-9172-45dd-a30a-d29a60d48322"
      },
      "source": [
        "def get_all_sentences():\n",
        "    sentences = list(OBQAFacts())\n",
        "    df = pd.concat(map(dm.ALLEN_AI_OBQA, list(OBQAType)))\n",
        "    for _, row in df.iterrows():\n",
        "        sentences.append(row.question)\n",
        "        for answer in row.answers:\n",
        "            sentences.append(row.question + \" \" + answer)\n",
        "        sentences.append(row.question + \" \" + \", \".join(row.answers))\n",
        "    return list(set(sentences))\n",
        "    \n",
        "#model = SentenceTransformer(\"roberta-large-nli-mean-tokens\")\n",
        "model = SentenceTransformer(\"msmarco-roberta-base-v3\")\n",
        "sentences = list(set(data['facts']))\n",
        "print(len(sentences))\n",
        "df = train_df\n",
        "for _, row in df.iterrows():\n",
        "    sentences.append(row.question)\n",
        "    for answer in row.answers:\n",
        "        sentences.append(row.question + \" \" + answer)\n",
        "    sentences.append(row.question + \" \" + \", \".join(row.answers))\n",
        "print(len(sentences))\n",
        "df = dev_df\n",
        "for _, row in df.iterrows():\n",
        "    sentences.append(row.question)\n",
        "    for answer in row.answers:\n",
        "        sentences.append(row.question + \" \" + answer)\n",
        "    sentences.append(row.question + \" \" + \", \".join(row.answers))\n",
        "print(len(sentences))\n",
        "df = test_df\n",
        "for _, row in df.iterrows():\n",
        "    sentences.append(row.question)\n",
        "    for answer in row.answers:\n",
        "        sentences.append(row.question + \" \" + answer)\n",
        "    sentences.append(row.question + \" \" + \", \".join(row.answers))\n",
        "sentence_embeddings = model.encode(sentences, show_progress_bar=True)\n",
        "print(len(sentences))\n",
        "assert(len(sentence_embeddings) == len(sentences))\n",
        "data_emb = {}\n",
        "for sentence, embedding in zip(sentences, sentence_embeddings):\n",
        "    data_emb[sentence] = embedding\n",
        "pickle.dump(data_emb, open(\"embeddings.pkl\", \"wb\"))\n",
        "print(\"Embeddings written to embeddings.pkl\")"
      ],
      "execution_count": 18,
      "outputs": [
        {
          "output_type": "stream",
          "text": [
            "6487\n",
            "36229\n",
            "39229\n"
          ],
          "name": "stdout"
        },
        {
          "output_type": "display_data",
          "data": {
            "application/vnd.jupyter.widget-view+json": {
              "model_id": "8b42262bef274af88cda4fdae52ec543",
              "version_minor": 0,
              "version_major": 2
            },
            "text/plain": [
              "HBox(children=(FloatProgress(value=0.0, description='Batches', max=1320.0, style=ProgressStyle(description_wid…"
            ]
          },
          "metadata": {
            "tags": []
          }
        },
        {
          "output_type": "stream",
          "text": [
            "\n",
            "42229\n",
            "Embeddings written to embeddings.pkl\n"
          ],
          "name": "stdout"
        }
      ]
    },
    {
      "cell_type": "code",
      "metadata": {
        "colab": {
          "base_uri": "https://localhost:8080/"
        },
        "id": "OLLINcaSwpU_",
        "outputId": "d19d87ad-3ed9-4632-8823-96d1d6b9925b"
      },
      "source": [
        "print(len(list(set(data['facts']))))\n",
        "print(len(sentences))\n",
        "print(len(sentences))"
      ],
      "execution_count": 17,
      "outputs": [
        {
          "output_type": "stream",
          "text": [
            "42229\n"
          ],
          "name": "stdout"
        }
      ]
    },
    {
      "cell_type": "markdown",
      "metadata": {
        "id": "AAtoC3tWXowh"
      },
      "source": [
        "### create index"
      ]
    },
    {
      "cell_type": "code",
      "metadata": {
        "colab": {
          "base_uri": "https://localhost:8080/"
        },
        "id": "zq1LAI3r3CTv",
        "outputId": "1805205c-e6ba-4064-87b5-bdeabcd4a0e9"
      },
      "source": [
        "embeddings = load_embeddings()\n",
        "print(\"Found {} embeddings.\".format(len(embeddings)))\n",
        "\n",
        "# Annoy uses Euclidean distance of normalized vectors for its angular\n",
        "# distance, which for two vectors u,v is equal to sqrt(2(1-cos(u,v))).\n",
        "index = AnnoyIndex(get_embeddings_dim(embeddings), \"angular\")\n",
        "sentence_ids = {}\n",
        "for idx, fact in enumerate(data['facts']):\n",
        "    index.add_item(idx, embeddings[fact])\n",
        "    sentence_ids[idx] = fact\n",
        "index.build(1024)  # N trees\n",
        "index.save('index.ann')\n",
        "pickle.dump(sentence_ids, open(\"sentence_ids.pkl\", \"wb\"))\n",
        "print(\"Index saved to index.ann\")\n",
        "print(\"Sentence IDs saved to sentence_ids.pkl\")"
      ],
      "execution_count": 19,
      "outputs": [
        {
          "output_type": "stream",
          "text": [
            "Found 41690 embeddings.\n",
            "Index saved to index.ann\n",
            "Sentence IDs saved to sentence_ids.pkl\n"
          ],
          "name": "stdout"
        }
      ]
    },
    {
      "cell_type": "markdown",
      "metadata": {
        "id": "l07gRS7uYFcv"
      },
      "source": [
        "### WIP: testing Results, annotate question db for downstream task "
      ]
    },
    {
      "cell_type": "code",
      "metadata": {
        "id": "BcAdMS7T3CNG",
        "colab": {
          "base_uri": "https://localhost:8080/"
        },
        "outputId": "4429a7fe-47f0-4798-db63-4f0974d2be82"
      },
      "source": [
        "embeddings = load_embeddings()\n",
        "sentence_ids = load_sentence_ids()\n",
        "index = AnnoyIndex(get_embeddings_dim(embeddings), \"angular\")\n",
        "index.load(\"index.ann\")\n",
        "\n",
        "\n",
        "def get_similar_sentences(query, k):\n",
        "#    embeddings = load_embeddings()\n",
        "#    sentence_ids = load_sentence_ids()\n",
        "#    index = AnnoyIndex(get_embeddings_dim(embeddings), \"angular\")\n",
        "#    index.load(\"index.ann\")\n",
        "#    print(\"Found {} items in the index.\".format(index.get_n_items()))\n",
        "#    print(\"The index uses {} trees.\".format(index.get_n_trees()))\n",
        "#    print(\"\")\n",
        "    if query in embeddings:\n",
        "        closest, dists = index.get_nns_by_vector(embeddings[query], k, include_distances=True)  # noqa: E501\n",
        "    else:\n",
        "        q_embed = model.encode(query, show_progress_bar=True)\n",
        "        closest, dists = index.get_nns_by_vector(q_embed, k, include_distances=True)  # noqa: E501\n",
        "#    assert(len(closest) == len(dists))\n",
        "    closest = map(lambda sid: sentence_ids[sid], closest)\n",
        "    return zip(closest, dists)\n",
        "\n",
        "def by_sentence(query):\n",
        "    similar = get_similar_sentences(query)\n",
        "    print(\"Query: `{}`\".format(query))\n",
        "    for i, (sentence, dist) in enumerate(similar):\n",
        "        print(\"{}) {} ({})\".format(i, sentence, dist))\n",
        "\n",
        "def get_query_facts(sample, k):\n",
        "#    facts = []\n",
        "    similar_all = []    \n",
        "#    similar_filtered = []      \n",
        "    unique_facts = []   \n",
        "    # Todo: this i_ variable is shit, find better solution  \n",
        "#    i_ = []\n",
        "#    _question = sample[\"question\"]['stem']\n",
        "#    for idx in range(len(sample['question']['choices'])):\n",
        "#        similar = get_similar_sentences(_question + sample[\"question\"]['choices'][idx]['text'])\n",
        "\n",
        "\n",
        "#    train_samples = []\n",
        "#    with open('/content/OpenBookQA-V1-Sep2018/Data/Additional/train_complete.jsonl') as f:\n",
        "#        for item in json_lines.reader(f):\n",
        "#            train_samples.append(item)\n",
        "\n",
        "#    sample = train_samples[23]\n",
        "    _question = sample[\"question\"]['stem']\n",
        "\n",
        "#    print(\"Question: \" + _question + \"\\n\")\n",
        "#-------------------------------------------------------------------\n",
        "\n",
        "#    for idx in range(len(sample['question']['choices'])): \n",
        "#        similar = get_similar_sentences(_question + ' ' + sample[\"question\"]['choices'][idx]['text'])\n",
        "#        print(\"{}) {}\".format(idx, sample[\"question\"]['choices'][idx]['text']))\n",
        "#        for i, (sentence, dist) in enumerate(similar):\n",
        "#            similar_all.append([idx, [sentence, dist]])\n",
        "\n",
        "#-------------------------------------------------------------------\n",
        "    similar = get_similar_sentences(_question, k)\n",
        "\n",
        "#-------------------------------------------------------------------\n",
        "\n",
        "\n",
        "#    df = train_df.sample(n=1)\n",
        "#    row = next(df.iterrows())[1]\n",
        "#    print(\"Question: \" + row.question + \"\\n\")\n",
        "#    for idx, answer in zip([\"A\", \"B\", \"C\", \"D\"], row.answers):\n",
        "#        print(\"{}) {}\".format(idx, answer))\n",
        "#    print(\"\")\n",
        "#    print(\"Answer: \" + row.correct + \"\\n\")\n",
        "#    print(\"---------------------------------\")\n",
        "#   \n",
        "#    for idx, answer in zip([\"A\", \"B\", \"C\", \"D\"], row.answers):\n",
        "#        similar = get_similar_sentences(row.question + ' ' + answer)\n",
        "#        for i, (sentence, dist) in enumerate(similar):\n",
        "#            similar_all.append([idx, [sentence, dist]])\n",
        "## Todo:\n",
        "#        j = 0\n",
        "#        for i, (sentence, dist) in enumerate(similar):\n",
        "#            if sentence not in unique_facts:\n",
        "#                facts.append(sentence)\n",
        "#                j += 1\n",
        "#            if j>3:\n",
        "#                break\n",
        "##\n",
        "        \n",
        "#        i_.append(0)\n",
        "\n",
        "#    for idx in range(len(sample['question']['choices'])):\n",
        "#        for i, (sentence, dist) in enumerate(similar_all[idx]):\n",
        "#            for element in unique_facts:\n",
        "#                if element[1][0] == sentence:\n",
        "#                    if element[1] >\n",
        "#            if sentence not in unique_facts:##-------------------------------\n",
        "#                unique_facts.append(similar_all[idx][i])\n",
        "#            else:\n",
        "#                if dist < unique_facts.index(sentence)\n",
        "#            print(\"{}) {} ({})\".format(i, sentence, dist))\n",
        "#            i_[idx] += 1\n",
        "#            if i_[idx] > 4:\n",
        "#                break; \n",
        "#    similar_all.sort(key = lambda x: x[1][1])\n",
        "#    print(similar_all)\n",
        "#    print(\"---------------------------------\")\n",
        "     \n",
        "#    i_ = {\"A\":0,\"B\":0,\"C\":0,\"D\":0}\n",
        "#    i_ = [0,0,0,0]\n",
        "#    i = 0 \n",
        "#    for fact in similar_all:\n",
        "#        if i > 9:\n",
        "#            break\n",
        "#        if i_[fact[0]] > 2:\n",
        "#            continue\n",
        "#        if fact[1][0] not in unique_facts:\n",
        "#            unique_facts.append(fact[1][0])\n",
        "#            i_[fact[0]] += 1\n",
        "#            i += 1\n",
        "\n",
        "    for i, (sentence, dist) in enumerate(similar):\n",
        "        unique_facts.append(sentence)\n",
        "    \n",
        "#    print(unique_facts)\n",
        "#    print(\"---------------------------------\")\n",
        "    return unique_facts\n",
        "\n",
        "def get_string_facts(s,k):  \n",
        "    unique_facts = []   \n",
        "    similar = get_similar_sentences(s,k)\n",
        "    for i, (sentence, dist) in enumerate(similar):\n",
        "        unique_facts.append(sentence)\n",
        "    return unique_facts\n",
        "\n",
        "def by_random_question():\n",
        "    df = train_df.sample(n=1)\n",
        "    row = next(df.iterrows())[1]\n",
        "    print(\"Question: \" + row.question + \"\\n\")\n",
        "    for idx, answer in zip([\"A\", \"B\", \"C\", \"D\"], row.answers):\n",
        "        print(\"{}) {}\".format(idx, answer))\n",
        "    print(\"\")\n",
        "    print(\"Answer: \" + row.correct + \"\\n\")\n",
        "    similar = get_string_facts(row.question + ' ' + row.answers[0], 4)\n",
        "    print(\"Similar facts A:\")\n",
        "    for i, sentence in enumerate(similar):\n",
        "        print(\"{}) {}\".format(i, sentence))\n",
        "    similar = get_string_facts(row.question + ' ' + row.answers[1], 4)\n",
        "    print(\"Similar facts B:\")\n",
        "    for i, sentence in enumerate(similar):\n",
        "        print(\"{}) {}\".format(i, sentence))\n",
        "    similar = get_string_facts(row.question + ' ' + row.answers[2], 4)\n",
        "    print(\"Similar facts C:\")\n",
        "    for i, sentence in enumerate(similar):\n",
        "        print(\"{}) {}\".format(i, sentence))\n",
        "    similar = get_string_facts(row.question + ' ' + row.answers[3], 4)\n",
        "    print(\"Similar facts D:\")\n",
        "    for i, sentence in enumerate(similar):\n",
        "        print(\"{}) {}\".format(i, sentence))\n",
        "    \n",
        "\n",
        "def annotate_all_questions():\n",
        "    embeddings = load_embeddings()\n",
        "    sentence_ids = load_sentence_ids()\n",
        "    index = AnnoyIndex(get_embeddings_dim(embeddings), \"angular\")\n",
        "    index.load(\"index.ann\")\n",
        "    print(\"Found {} items in the index.\".format(index.get_n_items()))\n",
        "    print(\"The index uses {} trees.\".format(index.get_n_trees()))\n",
        "    print(\"\")\n",
        "\n",
        "    df = train_df\n",
        "    annotations = {}\n",
        "    for _, row in tqdm.tqdm(df.iterrows(), total=len(df)):\n",
        "        for answer in row.answers:\n",
        "            sent = row.question + \" \" + answer\n",
        "            closest = index.get_nns_by_vector(embeddings[sent], 75)\n",
        "            closest = list(map(lambda sid: sentence_ids[sid], closest))\n",
        "            annotations[sent] = closest\n",
        "    pickle.dump(annotations, open(\"annotations.pkl\", \"wb\"))\n",
        "    print(\"Annotations written to annotations.pkl\")\n",
        "\n",
        "\n",
        "# by_sentence(\"Pasta may be cooked in water when\")\n",
        "# by_sentence(\"what is the closest source of plasma to our planet?\")\n",
        "# by_sentence(\"If an organism is existing then it is made up of\")\n",
        "by_random_question()\n",
        "# annotate_all_questions()\n",
        "\n",
        "# get_query_facts(1)"
      ],
      "execution_count": 38,
      "outputs": [
        {
          "output_type": "stream",
          "text": [
            "Question: The moon will show a different type of this each week.\n",
            "\n",
            "A) locale\n",
            "B) rate\n",
            "C) fullness\n",
            "D) scent\n",
            "\n",
            "Answer: C\n",
            "\n",
            "Similar facts A:\n",
            "0) a different moon phase occurs once per week\n",
            "1) the moon goes through all of the different phases each month\n",
            "2) whether the moon is full depends on the week\n",
            "3) the surface of the Moon contains mountains\n",
            "Similar facts B:\n",
            "0) a different moon phase occurs once per week\n",
            "1) the moon goes through all of the different phases each month\n",
            "2) A new moon happens once per revolution of the moon.\n",
            "3) the phases of the Moon change the appearance of the Moon\n",
            "Similar facts C:\n",
            "0) whether the moon is full depends on the week\n",
            "1) a different moon phase occurs once per week\n",
            "2) the moon goes through all of the different phases each month\n",
            "3) The moon is full just under a month out of the year\n",
            "Similar facts D:\n",
            "0) a different moon phase occurs once per week\n",
            "1) the moon goes through all of the different phases each month\n",
            "2) the phases of the Moon change the appearance of the Moon\n",
            "3) whether the moon is full depends on the week\n"
          ],
          "name": "stdout"
        }
      ]
    },
    {
      "cell_type": "code",
      "metadata": {
        "id": "h3skTNzyULY4"
      },
      "source": [
        ""
      ],
      "execution_count": null,
      "outputs": []
    },
    {
      "cell_type": "markdown",
      "metadata": {
        "id": "U_hhWQRjGTRs"
      },
      "source": [
        "# random test stuff"
      ]
    },
    {
      "cell_type": "code",
      "metadata": {
        "colab": {
          "base_uri": "https://localhost:8080/"
        },
        "id": "L4_xByM8FekQ",
        "outputId": "43817aa4-0c2d-4172-fa39-6208f70048e8"
      },
      "source": [
        "# Setup\n",
        "!pip install -q wordcloud\n",
        "import wordcloud\n",
        "\n",
        "import nltk\n",
        "import numpy as np\n",
        "import pandas as pd\n",
        "import matplotlib.pyplot as plt\n",
        "\n",
        "from sklearn.feature_extraction.text import TfidfVectorizer, CountVectorizer, TfidfTransformer\n",
        "\n",
        "from sklearn.metrics.pairwise import cosine_similarity\n",
        "\n",
        "from sklearn.cluster import KMeans\n",
        "from sklearn.decomposition import NMF, LatentDirichletAllocation\n",
        "from sklearn.decomposition import PCA\n",
        "from sklearn.manifold import MDS\n",
        "\n",
        "pd.set_option(\"display.precision\", 4)\n",
        "\n",
        "# Load toy dataset\n",
        "dat = [\n",
        "         ['X', 'aaa aaa'],\n",
        "         ['Y', 'aaa bbb bbb'],\n",
        "         ['Y', 'aaa bbb bbb ddd'],\n",
        "         ['Z', 'aaa bbb ccc eee'],\n",
        "         ['Z', 'aaa bbb ccc fff']\n",
        "      ]\n",
        "df_sentences = pd.DataFrame(dat, columns=['Label', 'Sentence'])\n",
        "\n",
        "labels = df_sentences['Label']\n",
        "print(\"labels:\")\n",
        "print(labels)\n",
        "\n",
        "n_clusters = np.unique(labels).shape[0]\n",
        "print(\"n_clusters:\", n_clusters)"
      ],
      "execution_count": null,
      "outputs": [
        {
          "output_type": "stream",
          "text": [
            "labels:\n",
            "0    X\n",
            "1    Y\n",
            "2    Y\n",
            "3    Z\n",
            "4    Z\n",
            "Name: Label, dtype: object\n",
            "n_clusters: 3\n"
          ],
          "name": "stdout"
        }
      ]
    },
    {
      "cell_type": "markdown",
      "metadata": {
        "id": "N7zx6kmRfKkB"
      },
      "source": [
        ""
      ]
    },
    {
      "cell_type": "markdown",
      "metadata": {
        "id": "0Kh6kyDsZfSa"
      },
      "source": [
        "# Albert OpenbookQA\n",
        "Author: Siyu Chen \n",
        "\n",
        "Messing around with it: Philippe Schwarz\n"
      ]
    },
    {
      "cell_type": "markdown",
      "metadata": {
        "id": "145QEP2ZkX2K"
      },
      "source": [
        "## Setup"
      ]
    },
    {
      "cell_type": "markdown",
      "metadata": {
        "id": "5s2KppPnaTOi"
      },
      "source": [
        "### Install dependencies"
      ]
    },
    {
      "cell_type": "code",
      "metadata": {
        "id": "S0s5EEyc2_L-"
      },
      "source": [
        "# use tpu in pytorch\n",
        "!pip install --quiet cloud-tpu-client==0.10 https://storage.googleapis.com/tpu-pytorch/wheels/torch_xla-1.8-cp37-cp37m-linux_x86_64.whl"
      ],
      "execution_count": 30,
      "outputs": []
    },
    {
      "cell_type": "code",
      "metadata": {
        "id": "4UBzhGwElKT4"
      },
      "source": [
        "!pip install --quiet lineflow\n",
        "!pip install --quiet transformers\n",
        "!pip install --quiet pytorch-lightning\n",
        "!pip install --quiet json_lines\n",
        "\n",
        "# Albert requires SentencePiece\n",
        "!pip install --quiet SentencePiece"
      ],
      "execution_count": 31,
      "outputs": []
    },
    {
      "cell_type": "markdown",
      "metadata": {
        "id": "cnt_dJL-aGDH"
      },
      "source": [
        "### Import libraries which are needed for fine-tuning"
      ]
    },
    {
      "cell_type": "code",
      "metadata": {
        "id": "BmVZtxllk8w9"
      },
      "source": [
        "from typing import Dict\n",
        "from pathlib import Path\n",
        "import json\n",
        "from functools import partial\n",
        "from collections import OrderedDict\n",
        "from argparse import ArgumentParser\n",
        "\n",
        "import lineflow as lf\n",
        "from transformers import AlbertForMultipleChoice, AlbertTokenizer, AdamW\n",
        "import pytorch_lightning as pl\n",
        "\n",
        "import torch\n",
        "from torch.utils.data import DataLoader, SequentialSampler, RandomSampler\n",
        "import json_lines"
      ],
      "execution_count": 33,
      "outputs": []
    },
    {
      "cell_type": "markdown",
      "metadata": {
        "id": "WvDo628xR-70"
      },
      "source": [
        "### Define constant variables"
      ]
    },
    {
      "cell_type": "code",
      "metadata": {
        "id": "01cOCWa56gKI"
      },
      "source": [
        "MAX_LEN = 64\n",
        "NUM_LABELS = 4\n",
        "label_map = {\"A\": 0, \"B\": 1, \"C\": 2, \"D\": 3}\n",
        "BATCH_SIZE = 32"
      ],
      "execution_count": 34,
      "outputs": []
    },
    {
      "cell_type": "markdown",
      "metadata": {
        "id": "ykmf-YTlc7u6"
      },
      "source": [
        "## Dataset"
      ]
    },
    {
      "cell_type": "markdown",
      "metadata": {
        "id": "idQnyRDId1lj"
      },
      "source": [
        "### WIP Useful function to process dataset"
      ]
    },
    {
      "cell_type": "code",
      "metadata": {
        "id": "zFOG_GiplB9h"
      },
      "source": [
        "def raw_samples_to_dataset(samples):\n",
        "    datas = []\n",
        "    i = 0\n",
        "    for sample in samples:\n",
        "        i+=1\n",
        "        if i%250 == 0:\n",
        "            print(i)\n",
        "        _id = sample[\"id\"]\n",
        "        _article = get_query_facts(sample, 5)\n",
        "        _question = sample[\"question\"]['stem']\n",
        "        _options = []\n",
        "        _answer = sample[\"answerKey\"]\n",
        "        for idx in range(len(sample['question']['choices'])): \n",
        "            _options.append(sample[\"question\"]['choices'][idx]['text'])\n",
        "\n",
        "        data = {\n",
        "                \"id\": _id,\n",
        "                \"article\": _article,\n",
        "                \"options\": _options,\n",
        "                \"question\": _question,\n",
        "                \"answer\": _answer\n",
        "                }\n",
        "        datas.append(data)\n",
        "#        print(\".\")\n",
        "    return lf.Dataset(datas)\n",
        "\n",
        "\n",
        "def preprocess(tokenizer: AlbertTokenizer, x: Dict) -> Dict:\n",
        "\n",
        "    choices_features = []\n",
        "\n",
        "    option: str\n",
        "    for option in x[\"options\"]:\n",
        "        text_a = x[\"article\"]\n",
        "        text_b = x[\"question\"] + \" \" + option\n",
        "\n",
        "        inputs = tokenizer.encode_plus(\n",
        "                text_a,\n",
        "                text_b,\n",
        "                add_special_tokens=True,\n",
        "                max_length=MAX_LEN\n",
        "                )\n",
        "        input_ids, token_type_ids = inputs[\"input_ids\"], inputs[\"token_type_ids\"]\n",
        "        attention_mask = [1] * len(input_ids)\n",
        "\n",
        "        pad_token_id = tokenizer.pad_token_id\n",
        "        padding_length = MAX_LEN - len(input_ids)\n",
        "        input_ids = input_ids + ([pad_token_id] * padding_length)\n",
        "        attention_mask = attention_mask + ([0] * padding_length)\n",
        "        token_type_ids = token_type_ids + ([pad_token_id] * padding_length)\n",
        "\n",
        "        assert len(input_ids) == MAX_LEN, \"Error with input length {} vs {}\".format(len(input_ids), MAX_LEN)\n",
        "        assert len(attention_mask) == MAX_LEN, \"Error with input length {} vs {}\".format(len(attention_mask), MAX_LEN)\n",
        "        assert len(token_type_ids) == MAX_LEN, \"Error with input length {} vs {}\".format(len(token_type_ids), MAX_LEN)\n",
        "\n",
        "        choices_features.append({\n",
        "            \"input_ids\": input_ids,\n",
        "            \"attention_mask\": attention_mask,\n",
        "            \"token_type_ids\": token_type_ids,\n",
        "            })\n",
        "\n",
        "    labels = label_map.get(x[\"answer\"], -1)\n",
        "    label = torch.tensor(labels).long()\n",
        "\n",
        "    return {\n",
        "            \"id\": x[\"id\"],\n",
        "            \"label\": label,\n",
        "            \"input_ids\": torch.tensor([cf[\"input_ids\"] for cf in choices_features]),\n",
        "            \"attention_mask\": torch.tensor([cf[\"attention_mask\"] for cf in choices_features]),\n",
        "            \"token_type_ids\": torch.tensor([cf[\"token_type_ids\"] for cf in choices_features]),\n",
        "            }\n",
        "\n",
        "\n",
        "def get_dataloader(tokenizer, datadir: str, cachedir: str = \"./\"):\n",
        "    datadir = Path(datadir)\n",
        "    cachedir = Path(cachedir)\n",
        "    \n",
        "\n",
        "    preprocessor = partial(preprocess, tokenizer)\n",
        "\n",
        "    train_samples = []\n",
        "    with open(datadir / \"train_complete.jsonl\") as f:\n",
        "        for item in json_lines.reader(f):\n",
        "            train_samples.append(item)\n",
        "    print(\"train\")\n",
        "    train = raw_samples_to_dataset(train_samples)\n",
        "    print(train)\n",
        "    train_dataloader = DataLoader(\n",
        "            train.map(preprocessor).save(cachedir / \"train_openbook.cache\"),\n",
        "            sampler=RandomSampler(train),\n",
        "            batch_size=BATCH_SIZE\n",
        "            )\n",
        "\n",
        "    val_samples = []\n",
        "    with open(datadir / \"dev_complete.jsonl\") as f:\n",
        "        for item in json_lines.reader(f):\n",
        "            val_samples.append(item)\n",
        "    print(\"val\")\n",
        "    val = raw_samples_to_dataset(val_samples)\n",
        "    val_dataloader = DataLoader(\n",
        "            val.map(preprocessor).save(cachedir / \"val_openbook.cache\"),\n",
        "            sampler=SequentialSampler(val),\n",
        "            batch_size=BATCH_SIZE\n",
        "            )\n",
        "\n",
        "    \n",
        "    test_samples = []\n",
        "    with open(datadir / \"test_complete.jsonl\") as f:\n",
        "        for item in json_lines.reader(f):\n",
        "            test_samples.append(item)\n",
        "    print(\"test\")\n",
        "    test = raw_samples_to_dataset(test_samples)\n",
        "    test_dataloader = DataLoader(\n",
        "            test.map(preprocessor).save(cachedir / \"test_openbook.cache\"),\n",
        "            sampler=SequentialSampler(test),\n",
        "            batch_size=BATCH_SIZE\n",
        "            )\n",
        "\n",
        "    return train_dataloader, val_dataloader, test_dataloader"
      ],
      "execution_count": 39,
      "outputs": []
    },
    {
      "cell_type": "markdown",
      "metadata": {
        "id": "dsf2Mk0mdFZK"
      },
      "source": [
        "### Download OpenBook dataset and unzip dataset"
      ]
    },
    {
      "cell_type": "markdown",
      "metadata": {
        "id": "1Fk9XAzZdUey"
      },
      "source": [
        "#### Download dataset"
      ]
    },
    {
      "cell_type": "code",
      "metadata": {
        "colab": {
          "base_uri": "https://localhost:8080/"
        },
        "id": "t8ckit1Ol3qh",
        "outputId": "8e4b5682-d1cc-484f-938d-dd58f86b7569"
      },
      "source": [
        "!ls \n",
        "!wget https://ai2-public-datasets.s3.amazonaws.com/open-book-qa/OpenBookQA-V1-Sep2018.zip"
      ],
      "execution_count": 27,
      "outputs": [
        {
          "output_type": "stream",
          "text": [
            "embeddings.pkl\tOpenBookQA-V1-Sep2018\t   sample_data\n",
            "index.ann\tOpenBookQA-V1-Sep2018.zip  sentence_ids.pkl\n",
            "--2021-05-07 12:33:36--  https://ai2-public-datasets.s3.amazonaws.com/open-book-qa/OpenBookQA-V1-Sep2018.zip\n",
            "Resolving ai2-public-datasets.s3.amazonaws.com (ai2-public-datasets.s3.amazonaws.com)... 52.218.144.62\n",
            "Connecting to ai2-public-datasets.s3.amazonaws.com (ai2-public-datasets.s3.amazonaws.com)|52.218.144.62|:443... connected.\n",
            "HTTP request sent, awaiting response... 200 OK\n",
            "Length: 1446098 (1.4M) [binary/octet-stream]\n",
            "Saving to: ‘OpenBookQA-V1-Sep2018.zip.1’\n",
            "\n",
            "OpenBookQA-V1-Sep20 100%[===================>]   1.38M  1.40MB/s    in 1.0s    \n",
            "\n",
            "2021-05-07 12:33:37 (1.40 MB/s) - ‘OpenBookQA-V1-Sep2018.zip.1’ saved [1446098/1446098]\n",
            "\n"
          ],
          "name": "stdout"
        }
      ]
    },
    {
      "cell_type": "markdown",
      "metadata": {
        "id": "BnE6ivhqdfWX"
      },
      "source": [
        "#### Unzip dataset"
      ]
    },
    {
      "cell_type": "code",
      "metadata": {
        "colab": {
          "base_uri": "https://localhost:8080/"
        },
        "id": "RVA_Bvk5namn",
        "outputId": "c556a0cb-8072-44c2-8984-68aa62e3077c"
      },
      "source": [
        "!ls \n",
        "!unzip OpenBookQA-V1-Sep2018.zip && ls "
      ],
      "execution_count": 28,
      "outputs": [
        {
          "output_type": "stream",
          "text": [
            "embeddings.pkl\t       OpenBookQA-V1-Sep2018.zip    sentence_ids.pkl\n",
            "index.ann\t       OpenBookQA-V1-Sep2018.zip.1\n",
            "OpenBookQA-V1-Sep2018  sample_data\n",
            "Archive:  OpenBookQA-V1-Sep2018.zip\n",
            "replace OpenBookQA-V1-Sep2018/Data/Additional/test_complete.jsonl? [y]es, [n]o, [A]ll, [N]one, [r]ename: A\n",
            "  inflating: OpenBookQA-V1-Sep2018/Data/Additional/test_complete.jsonl  \n",
            "  inflating: OpenBookQA-V1-Sep2018/Data/Additional/train_complete.jsonl  \n",
            "  inflating: OpenBookQA-V1-Sep2018/Data/Additional/crowdsourced-facts.txt  \n",
            "  inflating: OpenBookQA-V1-Sep2018/Data/Additional/dev_complete.jsonl  \n",
            "  inflating: OpenBookQA-V1-Sep2018/Data/Main/train.jsonl  \n",
            "  inflating: OpenBookQA-V1-Sep2018/Data/Main/test.jsonl  \n",
            "  inflating: OpenBookQA-V1-Sep2018/Data/Main/train.tsv  \n",
            "  inflating: OpenBookQA-V1-Sep2018/Data/Main/dev.tsv  \n",
            "  inflating: OpenBookQA-V1-Sep2018/Data/Main/dev.jsonl  \n",
            "  inflating: OpenBookQA-V1-Sep2018/Data/Main/openbook.txt  \n",
            "  inflating: OpenBookQA-V1-Sep2018/Data/Main/test.tsv  \n",
            "embeddings.pkl\t       OpenBookQA-V1-Sep2018.zip    sentence_ids.pkl\n",
            "index.ann\t       OpenBookQA-V1-Sep2018.zip.1\n",
            "OpenBookQA-V1-Sep2018  sample_data\n"
          ],
          "name": "stdout"
        }
      ]
    },
    {
      "cell_type": "code",
      "metadata": {
        "colab": {
          "base_uri": "https://localhost:8080/"
        },
        "id": "D96OKgqUn9nT",
        "outputId": "6537be17-fb0a-4e3e-e9e8-822d133dbfc9"
      },
      "source": [
        "!cd OpenBookQA-V1-Sep2018/Data/Additional && ls && pwd"
      ],
      "execution_count": 36,
      "outputs": [
        {
          "output_type": "stream",
          "text": [
            "crowdsourced-facts.txt\ttest_complete.jsonl\n",
            "dev_complete.jsonl\ttrain_complete.jsonl\n",
            "/content/OpenBookQA-V1-Sep2018/Data/Additional\n"
          ],
          "name": "stdout"
        }
      ]
    },
    {
      "cell_type": "markdown",
      "metadata": {
        "id": "4ZNZZJchd-vt"
      },
      "source": [
        "### Call functions to handle raw dataset"
      ]
    },
    {
      "cell_type": "code",
      "metadata": {
        "colab": {
          "base_uri": "https://localhost:8080/"
        },
        "id": "ucVm6Tbide3-",
        "outputId": "9901ff58-9538-40df-e175-1378ef0b2043"
      },
      "source": [
        "tokenizer = AlbertTokenizer.from_pretrained(\"albert-base-v2\", do_lower_case=True)\n",
        "train_dataloader, val_dataloader, test_dataloader = get_dataloader(tokenizer, '/content/OpenBookQA-V1-Sep2018/Data/Additional')"
      ],
      "execution_count": 40,
      "outputs": [
        {
          "output_type": "stream",
          "text": [
            "train\n",
            "250\n",
            "500\n",
            "750\n",
            "1000\n",
            "1250\n",
            "1500\n",
            "1750\n",
            "2000\n",
            "2250\n",
            "2500\n",
            "2750\n",
            "3000\n",
            "3250\n",
            "3500\n",
            "3750\n",
            "4000\n",
            "4250\n",
            "4500\n",
            "4750\n"
          ],
          "name": "stdout"
        },
        {
          "output_type": "stream",
          "text": [
            "Truncation was not explicitly activated but `max_length` is provided a specific value, please use `truncation=True` to explicitly truncate examples to max length. Defaulting to 'longest_first' truncation strategy. If you encode pairs of sequences (GLUE-style) with the tokenizer you can select this strategy more precisely by providing a specific strategy to `truncation`.\n"
          ],
          "name": "stderr"
        },
        {
          "output_type": "stream",
          "text": [
            "<lineflow.core.Dataset object at 0x7f68be2fc990>\n",
            "Saving data to train_openbook.cache...\n",
            "val\n",
            "250\n",
            "500\n",
            "Saving data to val_openbook.cache...\n",
            "test\n",
            "250\n",
            "500\n",
            "Saving data to test_openbook.cache...\n"
          ],
          "name": "stdout"
        }
      ]
    },
    {
      "cell_type": "code",
      "metadata": {
        "colab": {
          "base_uri": "https://localhost:8080/"
        },
        "id": "Nj6hWzXXQjLb",
        "outputId": "f4c473fe-e9fb-4f45-c850-bbbf0754c9d2"
      },
      "source": [
        "print(len(train_dataloader))\n",
        "print(len(val_dataloader))\n",
        "print(len(test_dataloader))"
      ],
      "execution_count": 41,
      "outputs": [
        {
          "output_type": "stream",
          "text": [
            "155\n",
            "16\n",
            "16\n"
          ],
          "name": "stdout"
        }
      ]
    },
    {
      "cell_type": "markdown",
      "metadata": {
        "id": "zyWCjsYEidWm"
      },
      "source": [
        "## Play around with `DataLoader`"
      ]
    },
    {
      "cell_type": "markdown",
      "metadata": {
        "id": "kX29d_V2iwwG"
      },
      "source": [
        "### Get a batch of dataloader"
      ]
    },
    {
      "cell_type": "code",
      "metadata": {
        "id": "KRTt91ytx0Wg"
      },
      "source": [
        "sample = next(iter(test_dataloader))"
      ],
      "execution_count": null,
      "outputs": []
    },
    {
      "cell_type": "markdown",
      "metadata": {
        "id": "ViMgojHxi2DG"
      },
      "source": [
        "### Print some information of dataloader"
      ]
    },
    {
      "cell_type": "code",
      "metadata": {
        "colab": {
          "base_uri": "https://localhost:8080/"
        },
        "id": "_GnTDxdaymAl",
        "outputId": "9f276c39-5ff4-483e-869a-78ace531dfc6"
      },
      "source": [
        "# type of sample\n",
        "print(type(sample))\n",
        "# keys of sample\n",
        "print(sample.keys())\n",
        "# ids of sample\n",
        "print(sample['id'])\n",
        "# label of sample\n",
        "print(sample['label'])"
      ],
      "execution_count": null,
      "outputs": [
        {
          "output_type": "stream",
          "text": [
            "<class 'dict'>\n",
            "dict_keys(['id', 'label', 'input_ids', 'attention_mask', 'token_type_ids'])\n",
            "['8-343', '1129', '880', '7-999', '8-464', '9-794', '9-1163', '9-322', '7-1140', '7-903', '7-511', '9-937', '8-201', '1618', '758', '7-414', '9-675', '9-163', '1032', '889', '1160', '9-298', '1189', '8-395', '7-238', '7-372', '8-35', '9-271', '9-409', '530', '1426', '8-466']\n",
            "tensor([1, 0, 2, 2, 2, 2, 2, 1, 3, 1, 2, 1, 2, 0, 2, 3, 2, 2, 0, 1, 0, 0, 0, 1,\n",
            "        1, 1, 3, 0, 3, 1, 2, 3])\n"
          ],
          "name": "stdout"
        }
      ]
    },
    {
      "cell_type": "code",
      "metadata": {
        "colab": {
          "base_uri": "https://localhost:8080/"
        },
        "id": "aSpZpJYY0iZG",
        "outputId": "d1752ab4-b68b-495d-bfa5-50fabe9a72eb"
      },
      "source": [
        "# tokenised context and question\n",
        "print(sample['input_ids'][0].size())\n",
        "print(sample['input_ids'][0][0])"
      ],
      "execution_count": null,
      "outputs": [
        {
          "output_type": "stream",
          "text": [
            "torch.Size([4, 64])\n",
            "tensor([    2,     1,     1,     1,     1,     1,     1,     1,     1,     1,\n",
            "            1,     3,    21,   840,  2846,    20,   799,  7599,   875,    86,\n",
            "           30,    59,    92,  7829,    21,  2210, 10057,    35,    14,   241,\n",
            "           16,    14,   159,     9,    75,   699,    84,    66,  3391,    17,\n",
            "        12640,    15,    59,  4073,    14,   246,   161,    20,  2079,   875,\n",
            "           25,    20,   233,    91,  1132,  3029,     3,     0,     0,     0,\n",
            "            0,     0,     0,     0])\n"
          ],
          "name": "stdout"
        }
      ]
    },
    {
      "cell_type": "markdown",
      "metadata": {
        "id": "2DtiQ-Q4jXho"
      },
      "source": [
        "### Decode tokenised context and question"
      ]
    },
    {
      "cell_type": "code",
      "metadata": {
        "id": "nRH6g1D706WW"
      },
      "source": [
        "de_tokenizer = tokenizer"
      ],
      "execution_count": null,
      "outputs": []
    },
    {
      "cell_type": "code",
      "metadata": {
        "colab": {
          "base_uri": "https://localhost:8080/",
          "height": 52
        },
        "id": "khPEjv_Z1AEk",
        "outputId": "5548315f-e385-45c1-f33d-89abb84e3aa0"
      },
      "source": [
        "de_tokenizer.decode(sample['input_ids'][0][1])"
      ],
      "execution_count": null,
      "outputs": [
        {
          "output_type": "execute_result",
          "data": {
            "application/vnd.google.colaboratory.intrinsic+json": {
              "type": "string"
            },
            "text/plain": [
              "'[CLS]<unk><unk><unk><unk><unk><unk><unk><unk><unk><unk>[SEP] a person wants to start saving money so that they can afford a nice vacation at the end of the year. after looking over their budget and expenses, they decide the best way to save money is to quit eating lunch out[SEP]<pad><pad><pad><pad><pad><pad><pad>'"
            ]
          },
          "metadata": {
            "tags": []
          },
          "execution_count": 34
        }
      ]
    },
    {
      "cell_type": "markdown",
      "metadata": {
        "id": "nd956g7TjvGu"
      },
      "source": [
        "## Fine tuning on AlbertModel"
      ]
    },
    {
      "cell_type": "markdown",
      "metadata": {
        "id": "5UKJop7_m3t9"
      },
      "source": [
        "### Set up connection to Google drive in order to save checkpoint"
      ]
    },
    {
      "cell_type": "code",
      "metadata": {
        "colab": {
          "base_uri": "https://localhost:8080/"
        },
        "id": "q9qnIA95N_if",
        "outputId": "170f19b4-6e9b-479f-f71a-7b27f58adc54"
      },
      "source": [
        "from google.colab import drive\n",
        "drive.mount('/content/drive')"
      ],
      "execution_count": null,
      "outputs": [
        {
          "output_type": "stream",
          "text": [
            "Mounted at /content/drive\n"
          ],
          "name": "stdout"
        }
      ]
    },
    {
      "cell_type": "markdown",
      "metadata": {
        "id": "yft_52HznAPJ"
      },
      "source": [
        "### Define a model"
      ]
    },
    {
      "cell_type": "code",
      "metadata": {
        "id": "-p1JZexsqoFX"
      },
      "source": [
        "from pytorch_lightning.metrics import functional as FM\n",
        "from pytorch_lightning.callbacks import ModelCheckpoint"
      ],
      "execution_count": null,
      "outputs": []
    },
    {
      "cell_type": "code",
      "metadata": {
        "id": "3AL2uFrV2aRP"
      },
      "source": [
        "class Model(pl.LightningModule):\n",
        "\n",
        "    def __init__(self):\n",
        "        super(Model, self).__init__()\n",
        "\n",
        "        model = AlbertForMultipleChoice.from_pretrained(\"albert-base-v2\", num_labels=NUM_LABELS)\n",
        "        self.model = model\n",
        "\n",
        "        self._train_dataloader = train_dataloader\n",
        "        self._val_dataloader = val_dataloader\n",
        "        self._test_dataloader = test_dataloader\n",
        "\n",
        "    def configure_optimizers(self):\n",
        "        no_decay = ['bias', 'LayerNorm.weight']\n",
        "        weight_decay = 0.0\n",
        "        adam_epsilon = 1e-8\n",
        "\n",
        "        optimizer_grouped_parameters = [\n",
        "            {\n",
        "                'params': [p for n, p in self.model.named_parameters() if not any(nd in n for nd in no_decay)],\n",
        "                'weight_decay': weight_decay\n",
        "                },\n",
        "            {\n",
        "                'params': [p for n, p in self.model.named_parameters() if any(nd in n for nd in no_decay)],\n",
        "                'weight_decay': 0.0,\n",
        "                }\n",
        "            ]\n",
        "        optimizer = AdamW(optimizer_grouped_parameters, lr=2e-5, eps=adam_epsilon)\n",
        "\n",
        "        return optimizer\n",
        "\n",
        "    def training_step(self, batch, batch_idx):\n",
        "        labels = batch[\"label\"]\n",
        "        input_ids = batch[\"input_ids\"]\n",
        "        attention_mask = batch[\"attention_mask\"]\n",
        "        token_type_ids = batch[\"token_type_ids\"]\n",
        "\n",
        "        outputs = self.model(\n",
        "                input_ids,\n",
        "                token_type_ids=token_type_ids,\n",
        "                attention_mask=attention_mask,\n",
        "                labels=labels\n",
        "                )\n",
        "        \n",
        "        self.log('train_loss', outputs.loss, on_epoch=True, on_step=True, prog_bar=True, logger=True)\n",
        "        return outputs.loss\n",
        "\n",
        "    def validation_step(self, batch, batch_idx):\n",
        "        labels = batch[\"label\"]\n",
        "        input_ids = batch[\"input_ids\"]\n",
        "        attention_mask = batch[\"attention_mask\"]\n",
        "        token_type_ids = batch[\"token_type_ids\"]\n",
        "\n",
        "        outputs = self.model(\n",
        "                input_ids,\n",
        "                token_type_ids=token_type_ids,\n",
        "                attention_mask=attention_mask,\n",
        "                labels=labels\n",
        "                )\n",
        "        \n",
        "        labels_hat = torch.argmax(outputs.logits, dim=1)\n",
        "\n",
        "        acc = FM.accuracy(labels_hat, labels)\n",
        "\n",
        "        self.log('val_loss', outputs.loss, on_epoch=True, on_step=True, prog_bar=True, logger=True)\n",
        "        self.log('val_acc', acc, on_epoch=True, on_step=True, prog_bar=True, logger=True)\n",
        "                \n",
        "        return acc\n",
        "\n",
        "    def test_step(self, batch, batch_idx):\n",
        "        acc = self.validation_step(batch, batch_idx)\n",
        "        self.log('test_acc', acc, on_step=True, on_epoch=True, prog_bar=True, logger=True)\n",
        "\n",
        "    def train_dataloader(self):\n",
        "        return self._train_dataloader\n",
        "\n",
        "    def val_dataloader(self):\n",
        "        return self._val_dataloader\n",
        "\n",
        "    def test_dataloader(self):\n",
        "        return self._test_dataloader"
      ],
      "execution_count": null,
      "outputs": []
    },
    {
      "cell_type": "markdown",
      "metadata": {
        "id": "BL_uuKGfVNlg"
      },
      "source": [
        "### Use checkpointcallback to save the model with minimal val_loss"
      ]
    },
    {
      "cell_type": "code",
      "metadata": {
        "colab": {
          "base_uri": "https://localhost:8080/",
          "height": 231
        },
        "id": "Eosmba529y-E",
        "outputId": "5981ec84-3b01-47e3-f0dc-9c3a142f9e9d"
      },
      "source": [
        "# saves a file like: my/path/albert-openbook-epoch=02-val_loss_epoch=0.32.ckpt\n",
        "# if you don't want to save checkpoint into google drive, change dirpath!!!\n",
        "checkpoint_callback = ModelCheckpoint(\n",
        "    monitor='val_loss_epoch',\n",
        "    dirpath='/content/drive/My Drive/AlbertModel/',\n",
        "    # dirpath='/your/path/',\n",
        "    filename='albert-openbook-{epoch:02d}-{val_loss_epoch:.2f}',\n",
        "    save_top_k=3,\n",
        "    mode='min',\n",
        ")\n",
        "\n",
        "trainer = pl.Trainer(tpu_cores=8, max_epochs=100, callbacks=[checkpoint_callback])"
      ],
      "execution_count": null,
      "outputs": [
        {
          "output_type": "error",
          "ename": "NameError",
          "evalue": "ignored",
          "traceback": [
            "\u001b[0;31m---------------------------------------------------------------------------\u001b[0m",
            "\u001b[0;31mNameError\u001b[0m                                 Traceback (most recent call last)",
            "\u001b[0;32m<ipython-input-1-90c2af8aec82>\u001b[0m in \u001b[0;36m<module>\u001b[0;34m()\u001b[0m\n\u001b[1;32m      1\u001b[0m \u001b[0;31m# saves a file like: my/path/albert-openbook-epoch=02-val_loss_epoch=0.32.ckpt\u001b[0m\u001b[0;34m\u001b[0m\u001b[0;34m\u001b[0m\u001b[0;34m\u001b[0m\u001b[0m\n\u001b[1;32m      2\u001b[0m \u001b[0;31m# if you don't want to save checkpoint into google drive, change dirpath!!!\u001b[0m\u001b[0;34m\u001b[0m\u001b[0;34m\u001b[0m\u001b[0;34m\u001b[0m\u001b[0m\n\u001b[0;32m----> 3\u001b[0;31m checkpoint_callback = ModelCheckpoint(\n\u001b[0m\u001b[1;32m      4\u001b[0m     \u001b[0mmonitor\u001b[0m\u001b[0;34m=\u001b[0m\u001b[0;34m'val_loss_epoch'\u001b[0m\u001b[0;34m,\u001b[0m\u001b[0;34m\u001b[0m\u001b[0;34m\u001b[0m\u001b[0m\n\u001b[1;32m      5\u001b[0m     \u001b[0mdirpath\u001b[0m\u001b[0;34m=\u001b[0m\u001b[0;34m'/content/drive/My Drive/AlbertModel/'\u001b[0m\u001b[0;34m,\u001b[0m\u001b[0;34m\u001b[0m\u001b[0;34m\u001b[0m\u001b[0m\n",
            "\u001b[0;31mNameError\u001b[0m: name 'ModelCheckpoint' is not defined"
          ]
        }
      ]
    },
    {
      "cell_type": "code",
      "metadata": {
        "id": "uHZog_XbHAzs",
        "colab": {
          "base_uri": "https://localhost:8080/"
        },
        "outputId": "b3fa3494-9919-495b-e95f-af4827816cb1"
      },
      "source": [
        "pl_model = Model()"
      ],
      "execution_count": null,
      "outputs": [
        {
          "output_type": "stream",
          "text": [
            "Some weights of the model checkpoint at albert-base-v2 were not used when initializing AlbertForMultipleChoice: ['predictions.bias', 'predictions.LayerNorm.weight', 'predictions.LayerNorm.bias', 'predictions.dense.weight', 'predictions.dense.bias', 'predictions.decoder.weight', 'predictions.decoder.bias']\n",
            "- This IS expected if you are initializing AlbertForMultipleChoice from the checkpoint of a model trained on another task or with another architecture (e.g. initializing a BertForSequenceClassification model from a BertForPreTraining model).\n",
            "- This IS NOT expected if you are initializing AlbertForMultipleChoice from the checkpoint of a model that you expect to be exactly identical (initializing a BertForSequenceClassification model from a BertForSequenceClassification model).\n",
            "Some weights of AlbertForMultipleChoice were not initialized from the model checkpoint at albert-base-v2 and are newly initialized: ['classifier.weight', 'classifier.bias']\n",
            "You should probably TRAIN this model on a down-stream task to be able to use it for predictions and inference.\n"
          ],
          "name": "stderr"
        }
      ]
    },
    {
      "cell_type": "markdown",
      "metadata": {
        "id": "rbNuCFGyVhPd"
      },
      "source": [
        "### Train the model on TPU"
      ]
    },
    {
      "cell_type": "code",
      "metadata": {
        "colab": {
          "base_uri": "https://localhost:8080/",
          "height": 270,
          "referenced_widgets": [
            "6ca073702d5a4ad5873c878739455e31",
            "0795a7b92c994dd5827e6f00d8b9de1a",
            "06fd6ecd2f4548ba960c88deb089e30b",
            "145eec093bf347b39177a64c62db8256",
            "05110a13d64c43508b4ec63b8bb40bbb",
            "ca958467192c43458c6cf9c40c8ad34a",
            "e0d4383dc7d54aada0dfc453fd951a13",
            "3d678ab4a2e148d8ab8837dda31d2eb5",
            "b014610b91de41739fb249b8c48359dd",
            "bd26e2b36adf4af4b45acd94c42c0729",
            "09d42b83f0044d0194d009dc5922c268",
            "040563fc87ba48c3aea03ab0e8c95669",
            "659c7fe710eb4cc99b69b70758da6617",
            "5e608da0bf044a5cb2eea3f1c4e1bcfd",
            "4736e7c283104ba58d0e6d30e5db2e5a",
            "67c7df8f5b164e12aa6357a735e9aa51",
            "84d623b67dbf42b8bce43ef5ede3bdb2",
            "80cecd75f17b43d991ee1a5ecfa43ff2",
            "276008ac6db2456781443493ec2b9852",
            "61730461bf3047379edc0c0e749db79f",
            "88fcc6b4ff98409d85e84642a552338b",
            "7c5472cb68044333b3079949a4c66ed0",
            "47748bedaae940d1a5b1aea4e95978d5",
            "27d4ffd312eb48b8a5d9c9c333a00971",
            "ba928e1b63194e5fb918f8792fc896dd",
            "5651ad90b3df4cb69316a6b36dedc921",
            "ebab44af019e495aab3fcfa067cfc490",
            "60e1b552f2954c23a265f44d2063c857",
            "c5006c1572494a2a8d5adc9899faab03",
            "97688224a9bb4b07829c020da2c01d79",
            "ec8140665e5645faaebe273f62c38754",
            "79d7de3c6d2f447f8fbd7070818d11bb",
            "1a78f5a9d3814f38bf8c0d1fb534a2f9",
            "49126dfb69e24c6cb2b041b942130736",
            "a27d1bbde25847f796f8ed4e34530b85",
            "f7db1d2c5659447abd5d02c5987f9c2f",
            "fece27b2fe8b4645b5e0f4290c923587",
            "af0898b69b474b0b8e93caae7538c1e6",
            "5e81b68fe84a497b9e3477f412c2339b",
            "038b6d99550b4e10a6563ad4622fa308",
            "c16e06dc57bb43bda43a8e36a14f0e8a",
            "f9efdc115e7646ae97a913bc0db63d30",
            "41af00159bd24e6a903df90a19f128a6",
            "28c54a0308514a4782feb241755cd340",
            "e3db3674edae424e8e7bf73c112bab0e",
            "e5ec82cd382c4e44b55eb63db9eb82d2",
            "d5fc764f396643dcad8be519bdd80817",
            "d7daeba4588a4d6dbfd900fa104bdba9",
            "760ddf15d0d24061803e5ef338de20d6",
            "282c6bd237dc4919b06edda0f6b1296a",
            "15b667bb0de6409b9144721aa2002fb1",
            "df7c23fffed449e9a5a3549cae191b14",
            "d44200ddb6b34ad980eb8b17478085ec",
            "e0d4ad6d57fc44eeaacfe2cb80801a9b",
            "4e70ae04b3474c23be1384f0c0450b35",
            "ab39fcdefcf74bb38aa2ea81121c3851",
            "3d2ecc1300cf43b094170b531109ea25",
            "a0000c8a16ef44c6bbdd22173a7d7e2e",
            "faca6579149247f7b972cf2b9e0f251f",
            "2815a3ad63a84f6faf43de108595af70",
            "2a96c72d19714a7cbe3214ccf3f43d79",
            "7f6831c4a7bc425c926ff29ffb4e95cf",
            "2477308fbc1b4e8aacca3813cdfdd2a7",
            "2f77b0d40b624c36a4655ca1c771bd1e",
            "3c0d325fe0074fb9ab0c33d02b537042",
            "01a6d11ec92c4553a0cf44b6f6cc00d5",
            "56438cd2225640128c5c663a7da1744b",
            "277c53a229fe4b9b9bec770a8ce317e3",
            "a98e1aff6c464d47889878aefa9d2ef2",
            "787dd89a835140da9c85aac8c8549a3f",
            "6033d8baad654b74a7ef93f98db16099",
            "b1ace91ac2564c3bb52ed7721f7dcfad",
            "cfe5f52b35614dfd85882fe93477af9b",
            "50dc038699324b4caa29d75dc37863e4",
            "cfd6ffb42efa49e6acc9f6e2574b56db",
            "767565a1a07b49459618661f5b817368",
            "e5b06888d30c45fbad143d44de513a9a",
            "ab81bb4aeff448b9973d350b499161d0",
            "37e00d32ad0d4b8d9aedf3ee267f844e",
            "f5b0c8139c244278aca5597e9ae6fd4a",
            "470bd4cc4d5e44d0b98cffc65a08ad0f",
            "fe63daf112b743b2ab8351f1d66bdbc6",
            "651feb683d304072af6ca2187215f6c7",
            "9e8093271faf4f89b2a85f0aefc2d258",
            "464b24634f554793ada5d3594948ba0d",
            "f72b8994cabd43a487a4429e95f0dcd0",
            "ee6da6cd925840769e3cfd2c54d48c65",
            "86f4b8cd9e964ff28b77d52db8dda5fb",
            "11de77f95efe4161ab908cbc0f908e57",
            "9602978aab3c415490536578f3b4b177",
            "9e8e61bb08114db98093849e54870ee5",
            "8465a66dab0042578dae7b9a034f347b",
            "9ac81897d8614230b5d4069182ad6648",
            "8d7c2c08bbaf44e58472b6c49568a695",
            "271c91c0ad5a44dab7cadfc586964aac",
            "26128292893f4e21a2f6d768a6268c76",
            "7dae0cc1e58c4eacae88bd5a6bda06ea",
            "4b57b745ba8c4d18ad289ef5b76bb282",
            "13163d820bee4e6bbad0210edc2f7499",
            "4258b89860774f4dbab6bf26653ed7bb",
            "53ba4d61d6c140ebbe3e2b270340ac70",
            "f1750473ac9f4047b0ad785913740b21",
            "af236583af194b43af5160085079d968",
            "68dcd6d624ac4c62a4cab38f2e0dd3fa",
            "d4d7524b9970404eaf9d8fcbea5793a2",
            "32c13abb2d1c4792b478d38d9708bed8",
            "b33e47c2299043f5a40df18926775ce8",
            "06b619655ab84bcca0d135cdbd766f2a",
            "65e4e14258aa430f897ef3235bc7f176",
            "a5448b0f8dad499c9be7943946ce3e5c",
            "938a52d225574a708c7d62c957d581d1",
            "d915349f84dd412cada41ca701eb6ca8",
            "3ba7eaf1a32e457a8d41279b328fd6f4",
            "1b074a29cf4c446098ab32a3b2fc49aa",
            "72a48990cfb143709cb104916c36d5f2",
            "263ab56fcb9e4bce86b646fb5703bb58",
            "5c0a7773f4d1436f8ac11ae713e84147",
            "1d47b513379143828a6d11625e016e4d",
            "b77d4047bd464ce385e8b7b0f7d9040c",
            "9c7f49e0a19a4cd78fe7c123b3b5cc9d",
            "51c75e1cd2664aab8f549eab411e0fa9",
            "414a767c78484e6597413262f52215c6",
            "fe8d75c72f5144e18073da2120d48db9",
            "ec539201def44b7783fad31adf5669b1",
            "f67bd4f1c05a4323b3cdc4d4f1c86258",
            "5a7d931ba8154e12bf3c25f9f331bebd",
            "41eb9369b69e48ec8336f5147a9c691d",
            "9dc5c9f4ef514449808364e4a5ac9240",
            "35158a390a81423cb4a20010d1e2810f",
            "1acfadd2dea342beb413dfa060b4ff55",
            "cb786d92d46b47e08f3f01d47b53e83a",
            "a7d06ee3ebfd4b0b9be41061ad7e1065",
            "26ec537561a24b538e6b2229cac93df4",
            "f96fb5706a66443ea1718583cd8e2f9f",
            "2c3c8fa2c4fb4a3faa188490f480e286",
            "40b41815efd94797a3cc8349a8e812c8",
            "854aa44322234d6cb8d21a1af8aeda99",
            "61e1f5b39d8e4869878addd72094dc96",
            "8af6d3b36f7845129ff75df43bc5dd82",
            "e8d5a88697a641a781157ae1bfa3c1c9",
            "19ab56c30e474bd38440fa05d3041364",
            "8f77659639964365baaef52ae54575da",
            "6388dead08584bc6bfe0b358bef07e2d",
            "a0d0c431047d4ad3afd1caf5deaa71be",
            "6df9763ee3f84ad9aaddfdfe1694a0b1",
            "26c3f804f1e44a78b41d6e79bff38a24",
            "1ded61a0dffa46dfb7ea8eac8b68fbbd",
            "1773a1bc39b5420cb9f8d8c5fa46804d",
            "30edc486408740edb34612af200efe64",
            "9f1d2f948f844e84b034b0e9442a10f2",
            "920c30f1ba3548e68604893e67998b35",
            "013acd5bacf14a939163f6b129e0b642",
            "7be85fce76e044f099b163a75f7ea5e0",
            "d940f362c09b4b66991e49fb2c61140d",
            "f6c35ebecfc44b6ca18ae0057c302b39",
            "cc037ca3dbb64281b4bad6e15bb2e6c9",
            "7254219650e54ad68ad6eefee4fb8f93",
            "0ad56a1b3e81476ca0eb262011def082",
            "3694597157ca4bc18177e6ac0c3f8c80",
            "d437a5ce413e441291c528347caa0587",
            "82e1387ec26c49fdbf2349a23f592e2f",
            "0fe6695615514acf807c7a57979c4e5f",
            "68750c1907674bb69bf12d8dc872642d",
            "91a57b462ce54a419e94dfea17b69cfb",
            "faa1c42cb446431cac1a1c3ae0c5da6c",
            "d74eb4945f2d455aa00ee0b69a732e0e",
            "6145820048924211a89ef4f0e8255c25",
            "351914ccc068423d8835074d1f378812",
            "0e673458c6a4426c94a48d239aa1b720",
            "367c4c85f772474eb8449eb2b81c5c74",
            "b153faf1aaac430196d4f70dbad20e0d",
            "dc72c4c4d260467c9ca6cf68219840f2",
            "5ed7043b4dcd4cde88828261f41f4950",
            "de08c2aedd66461eb58f3b764ab0fb80",
            "9b92774d011a4679917cd8824130ef19",
            "7d4928df28f3489a8ab649761acec47b",
            "7b468ba25e474183817e723494a096eb",
            "81aba70bbd644ce09ba483db2aba3ab9",
            "e5dd31c59eed44149e98f0a6dcd30e97",
            "ea12160189014dab8140e6eb5c0de0f7",
            "281d9d1d06b14b0d8f3742d114de5f32",
            "bb83ac9ede504bb5a001e891b2a5ed24",
            "c37cc207309d4629b6607874206e9f02",
            "3b0c315d6ca343d784ecc4b68bc7e62c",
            "675c1ca6e0774cb7af1b1837a9272b78",
            "1e46e4ac15e14e5dbcdd2749cc0aa78c",
            "225d85a0053546ac80624c3235721ff2",
            "c5f4b457320f4f51bd40376f1d360304",
            "7020f7194aa1498580d69e069b04127f",
            "f8dde7fc719f4766bb3ba6904e37c273",
            "ea23a25bfecc454692b53a0952d2feaa",
            "58ad9bfec39343bb9a1253d4dd5fa24c",
            "333a20bb2fde44dc98f174769859f1b8",
            "29452452548e4974947830d52d5e20b0",
            "46b95f336d1941d28162f71f5beaa05e",
            "d0ace986f3074c7fa74f959056f349c8",
            "3e5919f618874e6a8282980d1cf28c57",
            "156ba600ffef4fcb87fe1c1e5ac8867b",
            "bcc4231b1b6a43478bd8391ecb9cb357",
            "9f5e5d4a906747c68dfc554f95676626",
            "43d63ac5179244658f9cc26ee3316c8d",
            "b588e97740734c76822c8af0c67299bb",
            "2a5778b100eb4c89a9d6f0c6c8792886",
            "3fffd139a9594aa3bfc3fef78e2550c9",
            "0e7870c9fa3044b5aeab3432f5fcc1a2",
            "f95c6b967d0a47b585288c5b2d0519dc",
            "b988daad7fcf40b28b02ec7e079c61a9",
            "457a9c11268c4f0fa12854bc43d66de8",
            "18ab544856ab45f0be39923dded66c21",
            "99ad977274334678a7722efd32776f1a",
            "2d82822b24c24af3bc736bb74d4aeaac",
            "6fcfe20a048548218dbb57728de9f664",
            "024ee368151846caab812ef110eced71",
            "bbdffbd34c92467199cf4887d7741770",
            "48ba1da1862d4054a56b88f037c6d1f0",
            "9aa53e61b6774aee9da1849eaee61a38",
            "feb4448363d94b6888480792ed0f7412",
            "61779128fc4f4592acef6a3951bd390f",
            "f778ae9184544d0ca3eaed2186786944",
            "53d505874bc84d33bddc405f2259b45c",
            "80d759a10c77491c92c3533ba0401d47",
            "253eb079779b4b29abeaaf492c3e42b4",
            "509195bab3a04000a127a093cfc1c84d",
            "b886305466d848b18934b0df78c277cf",
            "6d2f128f9c284b12a49930ff8271eb6a",
            "b2c931bade6843e5b6f291085725f616",
            "7ae8c1e4ebb44a43be2a8f2e468838c2",
            "191a64caa3f64c839e55f8dbd3cc319e",
            "2c77b4bf3a244431a6c5f406279cc740",
            "89fc2f9388f949c6a8e5737a1f938b50",
            "6e32bdda53554ea885e9c9d119a9ea9f",
            "9d291846dcab4c339061d9b68ef094de",
            "1c1723a6acc74c8b9a7c730eec267ee0",
            "2772a52dc12448bab1b88d210acd0759",
            "f1f97c8aecab47658442f44c3c5fb4b8",
            "c18d684a912d48728dc12d8d82becf56",
            "d14a638810844acf83c96a7b187ed757",
            "d10956e48f634cc595ac912080764a76",
            "ab23edc78343491fb108aceda62c9829",
            "f57018ee1ccc445cbb758691fa2399d2",
            "fd78609507ff4295b2373b947abf4fc2",
            "b8ce9ac250b846b98a02436cbc726793",
            "9e5606fd51bf4f599c7028ecaee52f86",
            "3daaca70eb014070b78328136c2b0162",
            "b364971428e24a5789f391ddb9a40e13",
            "cc0ff2a13fc543cf8d4af0d538977ba1",
            "747621ed00a44cad8269ce96442115c7",
            "a5ab08103b704989a304912dbc1499fa",
            "9eb8a50b9b2b4ea8967f97f328356224",
            "35d63a8144ef48d2864639288f1ea311",
            "e506ba4b189e4eb6bb4431360eea12ed",
            "04b54d2e4d47468fb3a6f8bc709f7584",
            "db49e8653617462b93571b43627c0f69",
            "4ca43f197e5147569225e7e237c9c3ee",
            "13b1e4227b46440e8a5bd0d7597238ac",
            "70c9ae3b09be464f9810344cdb0bc752",
            "842002a0b222464a8df14be93b49ebe3",
            "ec571eecf3764056b6658136d8b52180",
            "4139447b689d40a5b91448775c77aa1e",
            "2ba6c1e369db4640ab2b15f20c98aed0",
            "322a8c83010f4049adaa9a85d8e921f2",
            "5f479d7176244f9da118a75ff37c289a",
            "79e130eeccbd4f99b863136181f71a0d",
            "5d560cc7cda9497cb6a3701ace5d17f7",
            "a9a00e04a39f4ec788524d238d8a7d27",
            "f23cbf054a414116bfef9963e2922c15",
            "30c55b0431eb4f5aad99c7a0700b73e9",
            "bd8ad48b8c0e4b99872048aef0bde0de",
            "ec1c71448d4d43968a8923883c553942",
            "fc5b8d0c2fd447d7929e22858aacfa65",
            "ea5073ac25114a5ea8db7a83ce9ac24f",
            "8582ed9c29ef44fdb3244e413c628a67",
            "3a2fe13e56c24636847a7ba5bab1d1b2",
            "bb358c833d5f4cd6b31b8007759622dc",
            "7768571dc2914151a9810258a0bc5b91",
            "a6273359b20c448482a4e9ae5f12d647",
            "3694e72cc9554975bedd3f0798171f03",
            "9e6ad4264eec46f2a49fe07b80dee45f",
            "a32f0b2133fc4f33ab48923aa6810b72",
            "090076c02e4d44f18769a01a1e332f70",
            "8bae09bbbd8a4759a9a2db70da87f339",
            "2a47b086b41e4ed78a8574f7ec6121a7",
            "0af9100fd7fa46a48dccac96a2eb052f",
            "1348e3010ffc4d83a1cd1fb17dcec02d",
            "3a826b407d5c457496079aa94e252d61",
            "4754fa9dc3134dc7b4d36b98972d7678",
            "cb10f7ce67854228aae90c9a70fc7c41",
            "b965c55b41fe4211b5e7ccda8ad055d9",
            "e4710b20410c43578241e33936bf4c34",
            "e4606250cbc74400bf4beaf67c2453a7",
            "5c3b280f421e4932b1f14049fa8914d0",
            "e8eec3b08edd40b08d740768ee4d2f59",
            "b1a8e7106b7d49368f7d0b62d5cb8781",
            "ac000f262aa5437dbf86d54c92370ae8",
            "572e59d6823f4361960195d0a337a914",
            "f74a6c1c61ef4d45816152e7ceb49270",
            "e24948bdf07b4635bb7b6cad1d103a15",
            "eb8c895ad96d4546a27c0ec0dd97dee6",
            "ae5510d75b3841dbb20a969f92e5244b",
            "389c906bec9e4229a6cc3e432f810eb3",
            "274e78fad831416f83a3e3032d9b1d93",
            "a1ed637a13ba42f29fbb87a6fbd49d43",
            "ded0bb06c51d494eb3ae8561a858787c",
            "457a1f8216bc40089fc7bce9c5992eb2",
            "6ae4755a9e0443d08b39c8a155d36c28",
            "03c782936b944408a2f55bc42c8fc73f",
            "cad6c85650604a01979cdb81e911e28f",
            "7ce6b5ba63c546a49268ff9cab84288e",
            "185823f4d42442feb56d91fbb9c3a727",
            "5bbb2a5fbbed49be99a1bced45bcc69a",
            "588785059e09468e8b05b1b5aed2fba5",
            "6c2be0db013043ab9909a6d055a7eff9",
            "0a7905cf3e07445fa35130238f4eaed7",
            "d06970ee77bb4f848f656097c3638c36",
            "18dc3c707d5a4c1ca730623028e3c393",
            "4c68d35bf5704a29b6f097195569d142",
            "d0d2537e05b94101955e44864f957410",
            "7d4006b7e570488ca0570a9afd1f348e",
            "488c1d108ff84f48b7e12173fb62a625",
            "ae49de5efe724339bd35df012422dd21",
            "5d43ab8322bd434da1317818f66864f5",
            "9d00e6b6c949453f82834278647416b2",
            "95336cf587b949c9b224e1e41a89ef10",
            "3565f983444b4f16a25e5b2094039288",
            "a2bc4221759840658c05111a1ba36b40",
            "321abd8974494a32aa429c5aa8552a88",
            "bc51dc927be54a9eaef3a6d92525d50b",
            "12eb43b591f349a79be5494c4ec3bb50",
            "a3296142985b4d32a13dbd2770b37840",
            "874e56548c114df498613772003af530",
            "925143b64201402e8341106f3e00efbe",
            "96cc2683bdfe4aaba0ebf93f64f4ee74",
            "426193f8b006411dbdcbd2f18773ccb1",
            "61baf3fc83c943809f53b754df9e9a99",
            "56cadee3db1748e0adc09bac735bd71a",
            "dd495fa944274c3b9554418348d639a6",
            "c009edc5aae446929e09d8c81a852d20",
            "62d549ce7441421ca43693a8d155a041",
            "9844a713e31a4b50a034ae99a3e240f9",
            "edf1a24859d84fd98dcd4e3f6fb79873",
            "7b52383ebbff43e6a5461e5aa0a1e6cc",
            "8494a045df8d455aadd17e02dd3495a2",
            "5f4212d147954d24ab21ce6bdd60dc29",
            "654b260cfe5e4534aa2f85776f4215a1",
            "24477c0e20ae47149513f853de9b164b",
            "4be69416838e4bb8a506a4dd612988c7",
            "61b250216f294ca591347fbd2cfd1cbb",
            "f9188434c5664b91a75a3f45a7c72494",
            "95bed78c50ab4519a33af35848340b16",
            "c903078edd76468ea1ac353d4142315c",
            "f040bcc70bc544e4a8ae5166dbd6f827",
            "11201dacffc14b45a47099b58c397adf",
            "0e579c9afe6447fb88e2805b13b717b1",
            "d9e9214eba324d3696a1c3bf3aef4765",
            "42d4829455864747a12c307d4aea54b6",
            "6b520046fa564b8199f2102a3230d44a",
            "d574d5376ada42b492ef0e30e5f13490",
            "d5e4a5661cd04eaabba2e19afe9f2368",
            "4ed06fc54b5b425798f4da7ef62d2a3f",
            "e240de4a442c4e1a900e48aebfa152f5",
            "510e43cbc18e42d8bac7065f92a702e5",
            "daafc767e7c945aaa9cc15909ba8998d",
            "b05b3a23d148437a8e433e0c70ba20d5",
            "2ab828fbf1ca4528bbc8e6fbe0e8bffb",
            "12d2a6e13d9741b0a377720e1034a349",
            "9be38f82f354402481d25792fcc986b3",
            "25904a916a2d4d9fb31e4e3e40313105",
            "f37ee2b2e7ff4ed4a65d2663f7d0d2b8",
            "51414e444ffe41389bf570833cf9d7c8",
            "4e0fd59b766f49eca5883aa678d1e43d",
            "fb4a55a5067241249770314dc4fdc3e6",
            "27c05c991d274f7daac0be146d133f41",
            "65f008106b74421ba1aedb3b0c93a368",
            "0e085d6c59b54d969443dfd7279f5a6c",
            "28c0d911b33943cab9daa746cdc68e30",
            "e4f7572ed7aa4d34b82c7ea3174446c8",
            "8302ff4f3e224ccfb15053ad402c66a6",
            "0e98e0ea575f42c1ba5aa99d852243df",
            "efaa4823e0ab4ddf9c9cfe2c8596b4a8",
            "73fca3bef0574b439a2113496f7a9ef1",
            "351d4fe19c2f42e792ce6f5521a5ee6c",
            "ea4ec63bce7b4b43a30e07463ea83924",
            "3e3d8c560b47436cb2663e1740a1197a",
            "1bf1ca0b4a784af193b535f2f5c4f53c",
            "a39a5b8b477040ed87a0470ddc3d5e21",
            "65175da74918416baf3f1f3ce958db9b",
            "84a5a2b8ff0c48da85fc65a49f487433",
            "0879b425f19a402899cc97ad33469f57",
            "fdfcd6a126ca4742a013418f19f38f81",
            "ed2b364cebc342dbb57e3e5de65e1700",
            "55cc17d775a74a63a227c98915da1fb0",
            "c88f0eb7934e4077baf589c0aab84587",
            "f94a5583f737443ba94f16ba0f912ce9",
            "4b31ce0e93aa42ffa2d0ff1e0d55dc77",
            "9a46a4b38e1e411db8687815fd0847de",
            "7b5b1eb7d9454a21be1f8b6b304c932c",
            "b3238d75ecff4342aaea2347a658107a",
            "91232d0ee97c42e494c27341571e9cf9",
            "fcd0006ebb854dd78a31e3b512c26f84",
            "c702dbcc3771404d99b354bb22cf1f37",
            "51498d9449cc40e58be7fcf6c7f971c0",
            "7629b2c99cf0458dbe40a4f7cf3d7cd5",
            "31185ca6c2f6464a9cd4d47c14f746a3",
            "607395027cb14d0784793ad9b581aa6d",
            "5d1a65b62c1544d0bf5f6fd9d6ff2c8a",
            "127efa544e35494cae1ec318df32645b",
            "70d463ae8a864d93a4d83fe3c5c0bdeb",
            "b66b8f7a2695491b9e8ff487d2265804",
            "6318e4a7e74447acb9bae332b1839e79",
            "b576746b593b4844b945e667e3adf1d1",
            "6480a82e64884457ba628390704038b5",
            "7ae4aa3bf5cd4d9fa8395ba067d0a26c",
            "0a0e56e24dc54acab388672e5042517d",
            "c3ce533f934a464e93fd2718994b54cd",
            "921868e5881c43c3b7b0ac135b026560",
            "de01286175664104aa7a6fed072e72b7",
            "d92bb83075864eefbba1ed1b6fadbf14",
            "7939c976cc9140b5b96c5d36383b9730",
            "1abdc56dc186432480d73d409870393b",
            "b0e6feb4a509483392adeccf55a4c6d6",
            "199abe1b77ca4ea58e8a77001d663f16",
            "9483ece0deca496fadfa9567c0033fb1",
            "225b2534e7344cff9f34dae6f87c43ed",
            "c7bd772b067f4086b3eeba460dd0e819",
            "fe3bce913f574532a4df9430abf127f5",
            "8ecfad05708744799eca23c492ca2efa",
            "36fd40eb7149435d8fa7d3bc1f9ad5ca",
            "63e7a751775a49979d313b1ceb54bfb7",
            "9175b734bd9a467db2a00f97675cb573",
            "71342664fd15415e97cf8c0ade2d8e9b",
            "fdfe6757b9f344e0bae6bfda646880d4",
            "99154c87c5584561befae70dcfa6894c",
            "e51c2faa9e904aba90173a83c21d020b",
            "07afc0b7a3b948cfa27138a08909b236",
            "00147f1798134258aa164bbd02a1314e",
            "f70f745365dd4ec8ba4e5d9ddc20e4c1",
            "899b0000eb1b44388e3761e2b8d7516f",
            "02b6699de67d4b0a91aa2fa41686a22b",
            "bedf2b1b9f614d5885e852ca137e38c9",
            "922018dc8ca94d83a38763afd92e57d1",
            "bcb6d03f0eb5409ab2ddce9e759eaeb0",
            "8265e5b6af464590889e8e3dae4bfa30",
            "355c10dc4fb24e88bb6c3d6fd9b55e5a",
            "da147d6d625f410891f83c0d5ca26171",
            "42aa04acf44d4397bca6423e1c3d99c6",
            "603db6bfd6bc4ba59f442d5e6018975c",
            "c770f14a6a3041fbb55a381d98e6e448",
            "9d203c7b4ba144c2820d0a834a52f740",
            "9f1f8691296f48a18b4c2c1265abeca2",
            "ce129325a3b64b4ab00fb0206a502816",
            "439f098ff69a44178792ea0fdffc35d9",
            "cc1e6bd9590c4eaf957f6d5888bf891d",
            "d7de74240b6641e192b8bcce63a95d86",
            "45ae773593474221ab45b8beec3fbe37",
            "cc18ea66481d4011938b8821c9d0fee5",
            "c203ca14b2064ea3b7d76f954ffaa6ff",
            "e2fa6c04b46c4f2080aa4138ec38da69",
            "6315edc6adc849688317ef70306ef7fa",
            "cbf22417e3624f1aa0bcd631939db636",
            "7047a431e5854198acbe020f488b5b9b",
            "6b90fb498e984cb0b4b5927d71e430fb",
            "626dffd8286c493784402c9a3ff01121",
            "963832a58ebf4eb7b421a6a4f25ead0c",
            "7bc3fb7908684625bdc2945e31ea30f6",
            "a725b8c94c2f4107a3d413a2aa0a737f",
            "f2de7c4151574b5692593157a9d721d6",
            "4cf3ac939f134685ac54a1d2031da692",
            "a2ae42185de94e33bcccb98ea54bf35a",
            "58427f55498a4f7c859623acdcd1e45c",
            "78f71e9cde4446e686ea12ea6e74751f",
            "674bbc8ac9714f8abbec22ceb8676ad4",
            "ea51f2e3890247cab6c9606ce44eab06",
            "5dc0b3f8ce8d4c219760b47bd206e6fb",
            "64456c596b054fd8840f147ed607a55a",
            "997b737885334d969fd56a33ffd428e6",
            "7cc3d1c3423d44158938d291e798446a",
            "ddadcd1cf91e411e93f26093fb81d680",
            "a4c64449575c4bffb90bf8ba9e610370",
            "ed84a2e02ef64491bbe4f11af0c7a27f",
            "b8c1b15d794045be991f64b59efcaae5",
            "c1ce286fe8454589a8bf398fe2baf75f",
            "3c86aec668ff4327a85f94b8d97b4c16",
            "3c28ad5233304fc5ab1c2d8d1c7dbb87",
            "12e5ba2c47964b12ab9c61b8c1bc756b",
            "889b15fca1b247bdb5ae877767890170",
            "f6a11d50826b4b3488a0e7f9e8b57ff4",
            "da6776244b384e5e9f2097f1d42179d2",
            "966338f6bcc1430ba0ba463f261c5758",
            "24763eeb2e3042f3a0839c0f932e3dc1",
            "f7b5ed72999f44f095f95477fc3a8ba5",
            "4b4e63b6d6df4977ba77bbddce0df06a",
            "1c1969f85b2340dd8cebb7e91a53df82",
            "449c6127fa28420f897a9cc9e47df876",
            "78f574481e5a4a24b80e7706ec1b43ed",
            "fa5a7e9a93e24fb7bd68eb879d7684a8",
            "99c550e07a7447819bb0d57d2dad6f05",
            "817383d67fa649f8b531dcd0873b3679",
            "3b14fb475e2440958984e781ba098fcf",
            "c3fe6d47edc4454ab17bfd9d344daf0f",
            "3995be87f0ec4decbc72aa17b98d78ed",
            "18f3dcd5393d4964a544367c1c6aa6da",
            "e1365ef526bb4e9087b1c70eabd902c0",
            "34898ea8f1b44de3b8def44c2c4fdfe9",
            "ca421250d1c344b8aa04d5146b61f05e",
            "b2d3880a3fa94f80b02cf7b441e67223",
            "8038e5b521e74aafbd202d91e3bcbdd6",
            "e1372a01090c4f59a0670327d678cce4",
            "3e9a3aebab744285801a6500747c8445",
            "e52d9bf624f04e318b5c80b1e5427399",
            "980006a7328e45bbaa02dabf7d3d2663",
            "3d7c2522474b47edba33fb79b8f66329",
            "fb9d30b64c0a4d2ca6f30d003b4d2eac",
            "c553ccb69482475cb218b7b4d48c119e",
            "59c9e3dce9f5421c97d62170058c0064",
            "f38e3629897d46bd9b1a5e5629f6101d",
            "6d82d174922542eea587b884bd1fbe80",
            "68a00dd54fbe4b2ea3db49e396a73fac",
            "c54975e354624eb3bf4d2139f1545c4d",
            "815187c30cda451089f606dd40e18a45",
            "15e20ed225a743b1a6054545e2c04d91",
            "c4d7f8997d6c4ea48ce8a0bca9ee09c8",
            "7dd0465489cc432e81ee02748769f2f6",
            "95064ad3456c49e39e084fee2a5b2fdc",
            "2cda199b20264ed3b2736f07c3c51013",
            "755c235d01114770b0b40d7874051dd8",
            "3ff3559eeb684f8e8d679b83565c39eb",
            "485a1291958b4af2b326bd14a92221be",
            "f211bcd919564adca0900b8b5f883ca5",
            "3d32681574744406867aa3b8bfc77ceb",
            "673ed3a57dee42f086d3a62552842667",
            "44a42cfb06ca4df1b9b846043ba50d2c",
            "290d52d248f64239a5e770bf81b87c2a",
            "e05fd800d522423abb1acdbef63fbb84",
            "795b716470884eefaeb2e1d94f4b9b68",
            "aa27f89369664041b7545d8e6c539c39",
            "83cea04543d341c4894acf721d2163e0",
            "e1d89b1a67c441cb9853c74d7e2d7bb3",
            "10fb894693ea44d9955a39d308c53147",
            "93f83d4eef0040b3b66cf42b3bc50c35",
            "295814b3afb648d0a95660705b401111",
            "bbe0f87476a24d558ebf9f3ca9b54cd7",
            "005fb541ab734453a595530064298152",
            "2f419d6df6eb42ffa32bcc5b68b7204a",
            "faeb6300bdeb40e18d4db2f4c6542193",
            "2772493ff94345de843c509dcab475c6",
            "04b2a755c156411283854b36025bfd1c",
            "6f4d323b77284630b806c38c19c5f941",
            "1d5e76c7ba1a47e5bb0ffba730e25f12",
            "b0f425b7eb354a84b8e9a1aa55883122",
            "146486b0a2cb48c59cb92445d3df255a",
            "d1e1908572de42e1a6381d0eaddac0f3",
            "cd7b03b2d25f4c9f8ccd11d460d21ab2",
            "80f9e7bb476c45ce971c1758c76357f2",
            "faffe8d4ec5d49828c9de676adcd96a9",
            "5e155d143a414947a105522b18ad822d",
            "9a221a82400b41a2899982f95bb554b0",
            "4c2fc2e919094ca3a9790b9ab72e780b",
            "cb81b907c54141c298b3c8b0279fb19f",
            "2d3509cfa90e4e37860b99000c3f8bba",
            "dedf9567557845bfa1c2ab14dc3cbcc5",
            "f8fe601255c442f9bfd2277d5f2a0bc3",
            "b655da1de0774c05a1364979c2426f58",
            "a02cf687e0a140bb961362cf6b593048",
            "9883b8329bcf473387e80a4c5d63bed8",
            "9306911819d54fd9a3480b1977f1f73c",
            "acc7db80d50b4cb09fa71b73abf3fef6",
            "523fb5c64f844646a36176b8f8386358",
            "130c8b77f785441a9fc223bff6757c86",
            "a8f884ab81034c9bb6a57b29a8d96e0b",
            "cf41acd1f9044e1b8700a4a0f480344b",
            "ba2a013dd5cf497abadb85c8a878d172",
            "4f18c2f24f434e9686c07bba51c0f54e",
            "3a4007f9998445619e3151f760340df8",
            "d25f524aabf2486c9581e89210c52fc8",
            "9b13fcf65fb149719b802754b23ade9e",
            "ea6a4027cb134dd0802f7b94c7898cb9",
            "6eabc5c6850b44c0b7ba2803ac761724",
            "72cd637c47fd464e8851013b2863a048",
            "b3bf9b52b8364125a1fa9f7f1862d7ff",
            "3aeb2cf3e2404cfb8bd703e383ea2c66",
            "ba637de0cc8e4fa09fdca4fb4c6f1f85",
            "c78a1766ba204035a2716c2527e4b1f8",
            "ac600734b2c0424595dcf90a1ff38909",
            "7373ad743c2d44d19c57ee8824b39be8",
            "3fa1605f7138415fa21332f292293c48",
            "8cd6c01563ff434ab5ed13903c234647",
            "5b2272e1c1cf41e79db0828715c08cdb",
            "79d78f8735cb4e21a903b0c2f052cfcf",
            "5f7e176343f645d0ab45d9bac87f6161",
            "1ecd17aa6df546b6961652a222e31f67",
            "94230da3426a43bfbadadf1c290501bd",
            "ece85b759b4f4e3a92a568a0fee7504c",
            "574eec455a6b4db0a6e97b42afdbaed5",
            "770c9f09ec0540bba09a39b2d33944c1",
            "119abcaaebea4e0a9f415d29eb272447",
            "ee42f19e811045be81ceb60af8ecc547",
            "a078ead662e5438dab3471ee0fd01e14",
            "41d8aeb0cef3484dbf9e5366410d5c82",
            "6a4e1c46a9124e819a3529e6273b0eaa",
            "bf935385ad454ba3b78382fcf1bc0882",
            "c775d6573fbd4e81886005f8f79aa0ad",
            "2fbb7128ce424f59a4500c77a14065ee",
            "e044963b8f2043f98e7b8f75db3f9385",
            "2b24426dc3de4ca58bf8e8f42c34cf6f",
            "e75353602df74d9eac300897f7f9337e",
            "9fc6f54a64304d9bac01d65e76d4d0f8",
            "87ee4135bbeb49e3b5eba34d5e452fb0",
            "22faa438ac0f4803bb0c794cb0ccfe85",
            "cda180610ace43259d0e77a5f7bdfb89",
            "8a1274325d2a443ca92060173d637ee4",
            "9557f2e25b0842edb57170c813a6ba64",
            "f1c278faf961439db6f05357b215deb9",
            "a3203fbc7ba140d1a5bfbd4b2da7f91f",
            "8a8f8432a8f44aa3bc67748a67c55880",
            "465e8c6138f749958f248e73314f99e8",
            "8756f44711c443d6a45b75f8c01c7caf",
            "4dcde05b443043c0b124bc18b2bbfc26",
            "a13c2ac8ab96488da3835c3650055a04",
            "ae6eed7e79e04a6e85a9ef15b2092faa",
            "9b36c7aa8c3b45c496b30a2e0b6fc7cf",
            "0ff308cc8d934452b5f2c9d1f30673b7",
            "231b14c752ba4c68a993be21bf5ebf75",
            "a9b9ce9ecee940eba666ce4869af040e",
            "a3fbc0caa7354dab8982c1ecd3726ab0",
            "ad49c283b4584aaa9d3ff76c5d45e1c4",
            "019b98a6f59d457b87c0ffcd50869b88",
            "86e912e4bbc948b09b1c1307383c602a",
            "da0617468ef2447c9580d0f00d195183",
            "8f04734b6f6c471d8c1774ab9e50d498",
            "e29a99d49dd44b5a82fb0ae845a0fbbd",
            "bbc85ccf7cf64577b072c5c064416540",
            "0b7ba9ea2456431e9ad25021c6feaa6d",
            "7305c7cbf09d4a1d8c09b2e4388b179f",
            "212c29a81f9742048381ff44e2a16904",
            "ff3001dd9c2448078b8bed7704748e8d",
            "675d16776beb42699f8a04f0be8a47c0",
            "376b70a327734cdebac13ea1cf97d331",
            "7c4e97f5c95e46ef85942d503f264a8d",
            "0baa543d331c4df8bd649e7ab21f8b4d",
            "79bfcd213e0d448abda24be9e64ce515",
            "21f864f0c1df4abf8e5f6e947209d443",
            "62dfeffb4efc479f9deab47fed9b5185",
            "03f4ed31d1574e459c465d6a0ca535f6",
            "e558cbbad5ce4b329de79e0b0a483de4",
            "48cb0004cd334eb9a5628173bed427ba",
            "72fa43ed8f5c4c3c953be79b9b683902",
            "2d75b660231142c2b6f021644d930274",
            "7f46af91e9244e02873c904d4513fe4c",
            "b203ca5b36834e558dcfa71c9789a5bb",
            "f1d16ee7bd544e668da7ac291a0e75e9",
            "c49945326b3e4431a5cb3ada52f23b68",
            "e221cbc06ce54a6cb2247b4048c12f37",
            "15c9d14c8618482f9ff06ba79271f9c5",
            "135660a50cd843668d1c0f935fa342e0",
            "e358916568124eef898eed4f0a945849",
            "f2a28d2e21e94ac8b266c1b3246a798d",
            "e76e672ac717459eb35a779e72e94d5a",
            "679a80ab056241b98393070871a07e02",
            "9b8dbb8f1e7e452184fdf56404e96a99",
            "581281995a0149f889aae18fc35fc38a",
            "65e27d9f21fb4c84bbd67cad85e01e36",
            "a721cd0fcf834ca1bc33022359e7a51c",
            "2a8d56bcf038423d9578726d86314d1c",
            "646b1734595b410c93726bff6c632e95",
            "66ec9194f44c4719809b32daaafafa98",
            "7ef8b1efed75444a8859d130c1e1d3f7",
            "8ff69b85e8f04e78b546bcfdfbc0a5ac",
            "6d2c2abe1a85445293f3f99ab39e5de4",
            "eadcf5a75f9c41acb42fe78fa7f62e2b",
            "b61fc2257fd64fb4baadb35180acc01e",
            "4e83ceece3914b05bc044d86990929f7",
            "27f5e0c467b548dbad577b0ec7c93c41",
            "4e636e8f73fd46b094bffe65a9022b25",
            "6ddadd08960146c4a9fe984add503e86",
            "c430ea4346a94a78ae9eb60a8a5db261",
            "b25800ec3d9e4aaabd0f413b9f084111",
            "3a2b86165f944b74af7169fecd0400b0",
            "9925ae8ff2cb4b37a7683c2114aaee1c",
            "20d03d53845b4eaa9111a25b09a3abe1",
            "ecc4695768bc4675be060ebf58ac90d5",
            "02855dd57ce548a3a764f94a478c0050",
            "6b6cad359da440b7a536ae154c14c35c",
            "332ed03092fa406e8b86b7fad146b32f",
            "496756f96a864136a7c6d001f06441a9",
            "ef5d25415cc644798987234471d1152e",
            "34ccd741347945c2af7111ae0d191d04",
            "53298b5038d74854a94ee109668e04b9",
            "7378df4122174122bb109f5779bae725",
            "59440304f4944a258914202d5ade087b",
            "f4efb959dde5426e9f17c1e79357bee6",
            "28ddc9bb4dbc42e6ad57a5898764e8c8",
            "bcb4e6e3d18e4d5189a5c868751f0fd2",
            "152023188736465a8f7418952d94ea8c",
            "5a2e65189cfc410faef4b7aab074a3ef",
            "f5dc19e7416a44f6b7d61fe5365a6f73",
            "2980e825f7304dd9b98226ae8f720662",
            "a4c0102d35ba447bbc13cf743e0ab198",
            "a2fea8a7f98a424b8dce02cc6b4911b2",
            "f0e3249da5cf4ed0a0e0f67e042eb850",
            "4797cc758f654347a2b0d371cf26ca8d",
            "c4aec05d320f4539a8d676bfd6920d6f",
            "85b6a87412d3480bb22aec255f5f052a",
            "7746e448b8f348d09ae0ada93cc2c237",
            "10db9f5f387047bf8cf44fefd69172d4",
            "1e114db418b34cd194cffa2f8f272e92",
            "6be0895a113c4b0e9d09ac1276b73ed3",
            "74208382730549b49178002862e84cce",
            "30063417d22a402f9e4ddd4b00be5927",
            "e379111022e3428a8a68054a4279d06e",
            "9ff708faa1d0448b89e30d1c8fa1fc53",
            "2b13fdf23ff94546a18e567a48097fd1",
            "e3327db4b58046b3bf8d10326aa18179",
            "129538b5796a4fc7b274514c50c77ddf",
            "b8d35caff89b42358b9736204cfdc4c9",
            "d826cc43fe3b47e99fbd7c97631046fb",
            "d7e6d727455542b3a0aa6ccbc4c365cb",
            "0b6b91bada41427a9ee91fe6b424ab27",
            "abfb87a50a9c444a9ce65a4bb2bd1a02",
            "7c437c1b31f6409dbd8830ab9c7d8688",
            "ac11c318c2a24f6685c3db32431db7bc",
            "f2cd459145534071a89332e5f3e33da4",
            "01f565c55e744c8c9967329c9d31b7ac",
            "26ad201ff8224d09ba8287ca4053331f",
            "36107beddcbf4a11b72af8665a9f4823",
            "1f54f001feda4467a9556fc99540ae74",
            "162c90260f514e5ebc53c9d78b5290db",
            "5628e679aea24ab7b5f436750a705728",
            "2213fcbaf67a4bd0927071560a22fb13",
            "8f531f28a5ef4f309be964997d4c7058",
            "36d80938ae734770af62d447e69480c2",
            "b9a45814de154af2bd1209cf54919780",
            "cbd12179f23a4e1eae13827a4faff82f",
            "499e9f5a7a77431f8e5b0769e1412816",
            "ff54411d4aef4f44b83ee118ab028347",
            "8011c24b014a4bdf980d27dd57e61c40",
            "fe272e327a434d899d236dab07614d86",
            "5f1bf9570b8f49e69017955756372d1d",
            "8091a53738a04be19722b4724cc2b94f",
            "ad335ed6d95e4cce9be4a5dffee02522",
            "19cf5a06c38d4dafb4c061c0a28e60b4",
            "c763f6c12b5249d092c4722b3b5ea03c",
            "e31f2b53893d41deb039e836c54d5ee6",
            "904ba76ca56c4e1a8bf50d910c4ae888",
            "c1391227ec434dbd9654bef6cfb6ba57",
            "24508410b66148c6a056bbe58821a276",
            "ab7c8760760341af9ca9a5fbab82a203",
            "e364d85e0726439f9eaa10310ff089c4",
            "f5142ff043a14e7b9fefd07652abf86a",
            "e095115ff9d1403d901d734c36328d91",
            "bdade5423ed643e4a47be30a379710c9",
            "298b8366c9904d6b94811579eb16bdda",
            "0355c50e5de74836bcdb5fc771327c88",
            "2caba2fa4639435bb184d132a65ce6a8",
            "f5bc450a05a74e6f9ae7fdda8c4d5a6f",
            "82201fd82636458d9715701151cfc616",
            "52b4358638ad44d583dd221d976dd0a0",
            "4d7d818376694f74a7b6b79a3f3c7d37",
            "3fa1504b9ef64175a3a20b5439d226cd",
            "4873a89613b24a0386128240d13c7d72",
            "f093bb14883d4034992f38a63ac57ea5",
            "8e544b39924f480f9db201018d556af6",
            "dfa39f6841e9461f8cbcd223e7aa6a2f",
            "5c418d748ef943929a1fee6aeae10451",
            "9b06ce0ce80949ac998ecabeb7ff3498",
            "e85c7c3555c3473bbc564d200f5c3f60",
            "6bdb2b2765c54381a1ec7123f523d463",
            "3cac2fe703a44effb696c158bf00433c",
            "f7b472416de54991b628fda67dd5a3c4",
            "c14d4205dfc14844a2ebf5b42b48c82c",
            "f928e261898749d5a4e2bec958fcdb1e",
            "a2c55b092b20491fb95123b2fbcd0924",
            "ff2650c95d064eb3ab8d9f771684be66",
            "84e7123ea22b4cc989efa9f58b39c7fa",
            "b1456057f552485f99560388b6b3f8d8",
            "88a4e4f17f7642c4bbcd888b53efc014",
            "aa8b03754df24f10a1d44df87fb574cf",
            "a743e16c32b346cc82ecb1a2b2c1bd71",
            "67be2eaa21ae4b61a15409332180e095",
            "446b0ebd7ca24afbab362b363cd3dd6c",
            "72e9f5d4d0db415680069e5e3d34a03e",
            "6bc968c5c0ca415b91f38282acc9834a",
            "4c273cb3fc4c4ca1b87039849c87d905",
            "28e274c26d2e4c7aa44f4f3d7a8185d5",
            "f8d9ed1b98de4f1c825e28a2a67256a9",
            "725bfb7eb6bf45c3b0985516f5cf3412",
            "b332c70c3a6a4c808c86b788d52ff2c1",
            "609ae1c6b12c44e283777da59a01808c",
            "99939c59c3bc417390da4b0b09024a94",
            "3d79f156912440b7b40f453ea1d7ed81",
            "23d8d75200994b669ade7f8d3b91ce38",
            "036478674b9d49a99af1e03cb60d5849",
            "a02da6066f244ca3823ee0abb18631c7",
            "dc506c55c39b4c97b8b7c1f138132641",
            "1414b7b590224dfbb19a7c83651b6dc0",
            "1451c099deaa4de1b4be61430d8fb2ba",
            "e3368b94e2df454ba19f754e31cabd14",
            "b255e3496303401388febb1ff0687c14",
            "892b31591ad44438a5c99df49bba80c3",
            "9fa072e28788426592c70b27bc646b2d",
            "32df3b58dfbc4e14b856943c7032a599",
            "b6c98748332b457a8150f5cc6dcad2c3",
            "472d3d4878224dc4bfb3c8fb2db1a3a8",
            "5a80307ecef243f897a130fb3f7df6fc",
            "19955760f77946a49bda37f57127458d",
            "f79ba149d49445449187db22b18dbad3",
            "d3d6ec14642740f3a022cfd7465019d7",
            "487c2f6de86249a6a543ad511093ee1a",
            "d1c0dacf064140c3a4bb74fbb46471fe",
            "a29fa6c2a79a4ce2b82d9f1bfe9510ce",
            "12e996b55a7d465388b83954e8e18b49",
            "466b020bd4a640c589de93d4bfd092fa",
            "603f0c55b2694731b800306e5dbee686",
            "445b866bc2d6460d80aa854e030fd26b",
            "553ba459a619445885951accf29b0929",
            "bd0f976f605c41f69622aa21df0f2df8",
            "71ed53d6d03a4fa7b94b56a3b953d272"
          ]
        },
        "id": "LQSEZMjds3vI",
        "outputId": "67c6c741-537e-4b98-b351-a0e532135561"
      },
      "source": [
        "trainer.fit(pl_model)"
      ],
      "execution_count": null,
      "outputs": [
        {
          "output_type": "stream",
          "text": [
            "\n",
            "  | Name  | Type                    | Params\n",
            "--------------------------------------------------\n",
            "0 | model | AlbertForMultipleChoice | 11.7 M\n",
            "--------------------------------------------------\n",
            "11.7 M    Trainable params\n",
            "0         Non-trainable params\n",
            "11.7 M    Total params\n",
            "46.737    Total estimated model params size (MB)\n"
          ],
          "name": "stderr"
        },
        {
          "output_type": "display_data",
          "data": {
            "application/vnd.jupyter.widget-view+json": {
              "model_id": "6ca073702d5a4ad5873c878739455e31",
              "version_minor": 0,
              "version_major": 2
            },
            "text/plain": [
              "HBox(children=(FloatProgress(value=1.0, bar_style='info', description='Validation sanity check', layout=Layout…"
            ]
          },
          "metadata": {
            "tags": []
          }
        },
        {
          "output_type": "stream",
          "text": [
            "\r"
          ],
          "name": "stdout"
        },
        {
          "output_type": "display_data",
          "data": {
            "application/vnd.jupyter.widget-view+json": {
              "model_id": "b014610b91de41739fb249b8c48359dd",
              "version_minor": 0,
              "version_major": 2
            },
            "text/plain": [
              "HBox(children=(FloatProgress(value=1.0, bar_style='info', description='Training', layout=Layout(flex='2'), max…"
            ]
          },
          "metadata": {
            "tags": []
          }
        },
        {
          "output_type": "display_data",
          "data": {
            "application/vnd.jupyter.widget-view+json": {
              "model_id": "84d623b67dbf42b8bce43ef5ede3bdb2",
              "version_minor": 0,
              "version_major": 2
            },
            "text/plain": [
              "HBox(children=(FloatProgress(value=1.0, bar_style='info', description='Validating', layout=Layout(flex='2'), m…"
            ]
          },
          "metadata": {
            "tags": []
          }
        },
        {
          "output_type": "display_data",
          "data": {
            "application/vnd.jupyter.widget-view+json": {
              "model_id": "ba928e1b63194e5fb918f8792fc896dd",
              "version_minor": 0,
              "version_major": 2
            },
            "text/plain": [
              "HBox(children=(FloatProgress(value=1.0, bar_style='info', description='Validating', layout=Layout(flex='2'), m…"
            ]
          },
          "metadata": {
            "tags": []
          }
        },
        {
          "output_type": "display_data",
          "data": {
            "application/vnd.jupyter.widget-view+json": {
              "model_id": "1a78f5a9d3814f38bf8c0d1fb534a2f9",
              "version_minor": 0,
              "version_major": 2
            },
            "text/plain": [
              "HBox(children=(FloatProgress(value=1.0, bar_style='info', description='Validating', layout=Layout(flex='2'), m…"
            ]
          },
          "metadata": {
            "tags": []
          }
        },
        {
          "output_type": "display_data",
          "data": {
            "application/vnd.jupyter.widget-view+json": {
              "model_id": "c16e06dc57bb43bda43a8e36a14f0e8a",
              "version_minor": 0,
              "version_major": 2
            },
            "text/plain": [
              "HBox(children=(FloatProgress(value=1.0, bar_style='info', description='Validating', layout=Layout(flex='2'), m…"
            ]
          },
          "metadata": {
            "tags": []
          }
        },
        {
          "output_type": "display_data",
          "data": {
            "application/vnd.jupyter.widget-view+json": {
              "model_id": "760ddf15d0d24061803e5ef338de20d6",
              "version_minor": 0,
              "version_major": 2
            },
            "text/plain": [
              "HBox(children=(FloatProgress(value=1.0, bar_style='info', description='Validating', layout=Layout(flex='2'), m…"
            ]
          },
          "metadata": {
            "tags": []
          }
        },
        {
          "output_type": "display_data",
          "data": {
            "application/vnd.jupyter.widget-view+json": {
              "model_id": "3d2ecc1300cf43b094170b531109ea25",
              "version_minor": 0,
              "version_major": 2
            },
            "text/plain": [
              "HBox(children=(FloatProgress(value=1.0, bar_style='info', description='Validating', layout=Layout(flex='2'), m…"
            ]
          },
          "metadata": {
            "tags": []
          }
        },
        {
          "output_type": "display_data",
          "data": {
            "application/vnd.jupyter.widget-view+json": {
              "model_id": "3c0d325fe0074fb9ab0c33d02b537042",
              "version_minor": 0,
              "version_major": 2
            },
            "text/plain": [
              "HBox(children=(FloatProgress(value=1.0, bar_style='info', description='Validating', layout=Layout(flex='2'), m…"
            ]
          },
          "metadata": {
            "tags": []
          }
        },
        {
          "output_type": "display_data",
          "data": {
            "application/vnd.jupyter.widget-view+json": {
              "model_id": "cfe5f52b35614dfd85882fe93477af9b",
              "version_minor": 0,
              "version_major": 2
            },
            "text/plain": [
              "HBox(children=(FloatProgress(value=1.0, bar_style='info', description='Validating', layout=Layout(flex='2'), m…"
            ]
          },
          "metadata": {
            "tags": []
          }
        },
        {
          "output_type": "display_data",
          "data": {
            "application/vnd.jupyter.widget-view+json": {
              "model_id": "470bd4cc4d5e44d0b98cffc65a08ad0f",
              "version_minor": 0,
              "version_major": 2
            },
            "text/plain": [
              "HBox(children=(FloatProgress(value=1.0, bar_style='info', description='Validating', layout=Layout(flex='2'), m…"
            ]
          },
          "metadata": {
            "tags": []
          }
        },
        {
          "output_type": "display_data",
          "data": {
            "application/vnd.jupyter.widget-view+json": {
              "model_id": "11de77f95efe4161ab908cbc0f908e57",
              "version_minor": 0,
              "version_major": 2
            },
            "text/plain": [
              "HBox(children=(FloatProgress(value=1.0, bar_style='info', description='Validating', layout=Layout(flex='2'), m…"
            ]
          },
          "metadata": {
            "tags": []
          }
        },
        {
          "output_type": "display_data",
          "data": {
            "application/vnd.jupyter.widget-view+json": {
              "model_id": "7dae0cc1e58c4eacae88bd5a6bda06ea",
              "version_minor": 0,
              "version_major": 2
            },
            "text/plain": [
              "HBox(children=(FloatProgress(value=1.0, bar_style='info', description='Validating', layout=Layout(flex='2'), m…"
            ]
          },
          "metadata": {
            "tags": []
          }
        },
        {
          "output_type": "display_data",
          "data": {
            "application/vnd.jupyter.widget-view+json": {
              "model_id": "d4d7524b9970404eaf9d8fcbea5793a2",
              "version_minor": 0,
              "version_major": 2
            },
            "text/plain": [
              "HBox(children=(FloatProgress(value=1.0, bar_style='info', description='Validating', layout=Layout(flex='2'), m…"
            ]
          },
          "metadata": {
            "tags": []
          }
        },
        {
          "output_type": "display_data",
          "data": {
            "application/vnd.jupyter.widget-view+json": {
              "model_id": "3ba7eaf1a32e457a8d41279b328fd6f4",
              "version_minor": 0,
              "version_major": 2
            },
            "text/plain": [
              "HBox(children=(FloatProgress(value=1.0, bar_style='info', description='Validating', layout=Layout(flex='2'), m…"
            ]
          },
          "metadata": {
            "tags": []
          }
        },
        {
          "output_type": "display_data",
          "data": {
            "application/vnd.jupyter.widget-view+json": {
              "model_id": "51c75e1cd2664aab8f549eab411e0fa9",
              "version_minor": 0,
              "version_major": 2
            },
            "text/plain": [
              "HBox(children=(FloatProgress(value=1.0, bar_style='info', description='Validating', layout=Layout(flex='2'), m…"
            ]
          },
          "metadata": {
            "tags": []
          }
        },
        {
          "output_type": "display_data",
          "data": {
            "application/vnd.jupyter.widget-view+json": {
              "model_id": "35158a390a81423cb4a20010d1e2810f",
              "version_minor": 0,
              "version_major": 2
            },
            "text/plain": [
              "HBox(children=(FloatProgress(value=1.0, bar_style='info', description='Validating', layout=Layout(flex='2'), m…"
            ]
          },
          "metadata": {
            "tags": []
          }
        },
        {
          "output_type": "display_data",
          "data": {
            "application/vnd.jupyter.widget-view+json": {
              "model_id": "854aa44322234d6cb8d21a1af8aeda99",
              "version_minor": 0,
              "version_major": 2
            },
            "text/plain": [
              "HBox(children=(FloatProgress(value=1.0, bar_style='info', description='Validating', layout=Layout(flex='2'), m…"
            ]
          },
          "metadata": {
            "tags": []
          }
        },
        {
          "output_type": "display_data",
          "data": {
            "application/vnd.jupyter.widget-view+json": {
              "model_id": "6df9763ee3f84ad9aaddfdfe1694a0b1",
              "version_minor": 0,
              "version_major": 2
            },
            "text/plain": [
              "HBox(children=(FloatProgress(value=1.0, bar_style='info', description='Validating', layout=Layout(flex='2'), m…"
            ]
          },
          "metadata": {
            "tags": []
          }
        },
        {
          "output_type": "display_data",
          "data": {
            "application/vnd.jupyter.widget-view+json": {
              "model_id": "7be85fce76e044f099b163a75f7ea5e0",
              "version_minor": 0,
              "version_major": 2
            },
            "text/plain": [
              "HBox(children=(FloatProgress(value=1.0, bar_style='info', description='Validating', layout=Layout(flex='2'), m…"
            ]
          },
          "metadata": {
            "tags": []
          }
        },
        {
          "output_type": "display_data",
          "data": {
            "application/vnd.jupyter.widget-view+json": {
              "model_id": "82e1387ec26c49fdbf2349a23f592e2f",
              "version_minor": 0,
              "version_major": 2
            },
            "text/plain": [
              "HBox(children=(FloatProgress(value=1.0, bar_style='info', description='Validating', layout=Layout(flex='2'), m…"
            ]
          },
          "metadata": {
            "tags": []
          }
        },
        {
          "output_type": "display_data",
          "data": {
            "application/vnd.jupyter.widget-view+json": {
              "model_id": "0e673458c6a4426c94a48d239aa1b720",
              "version_minor": 0,
              "version_major": 2
            },
            "text/plain": [
              "HBox(children=(FloatProgress(value=1.0, bar_style='info', description='Validating', layout=Layout(flex='2'), m…"
            ]
          },
          "metadata": {
            "tags": []
          }
        },
        {
          "output_type": "display_data",
          "data": {
            "application/vnd.jupyter.widget-view+json": {
              "model_id": "7b468ba25e474183817e723494a096eb",
              "version_minor": 0,
              "version_major": 2
            },
            "text/plain": [
              "HBox(children=(FloatProgress(value=1.0, bar_style='info', description='Validating', layout=Layout(flex='2'), m…"
            ]
          },
          "metadata": {
            "tags": []
          }
        },
        {
          "output_type": "display_data",
          "data": {
            "application/vnd.jupyter.widget-view+json": {
              "model_id": "675c1ca6e0774cb7af1b1837a9272b78",
              "version_minor": 0,
              "version_major": 2
            },
            "text/plain": [
              "HBox(children=(FloatProgress(value=1.0, bar_style='info', description='Validating', layout=Layout(flex='2'), m…"
            ]
          },
          "metadata": {
            "tags": []
          }
        },
        {
          "output_type": "display_data",
          "data": {
            "application/vnd.jupyter.widget-view+json": {
              "model_id": "333a20bb2fde44dc98f174769859f1b8",
              "version_minor": 0,
              "version_major": 2
            },
            "text/plain": [
              "HBox(children=(FloatProgress(value=1.0, bar_style='info', description='Validating', layout=Layout(flex='2'), m…"
            ]
          },
          "metadata": {
            "tags": []
          }
        },
        {
          "output_type": "display_data",
          "data": {
            "application/vnd.jupyter.widget-view+json": {
              "model_id": "43d63ac5179244658f9cc26ee3316c8d",
              "version_minor": 0,
              "version_major": 2
            },
            "text/plain": [
              "HBox(children=(FloatProgress(value=1.0, bar_style='info', description='Validating', layout=Layout(flex='2'), m…"
            ]
          },
          "metadata": {
            "tags": []
          }
        },
        {
          "output_type": "display_data",
          "data": {
            "application/vnd.jupyter.widget-view+json": {
              "model_id": "18ab544856ab45f0be39923dded66c21",
              "version_minor": 0,
              "version_major": 2
            },
            "text/plain": [
              "HBox(children=(FloatProgress(value=1.0, bar_style='info', description='Validating', layout=Layout(flex='2'), m…"
            ]
          },
          "metadata": {
            "tags": []
          }
        },
        {
          "output_type": "display_data",
          "data": {
            "application/vnd.jupyter.widget-view+json": {
              "model_id": "feb4448363d94b6888480792ed0f7412",
              "version_minor": 0,
              "version_major": 2
            },
            "text/plain": [
              "HBox(children=(FloatProgress(value=1.0, bar_style='info', description='Validating', layout=Layout(flex='2'), m…"
            ]
          },
          "metadata": {
            "tags": []
          }
        },
        {
          "output_type": "display_data",
          "data": {
            "application/vnd.jupyter.widget-view+json": {
              "model_id": "6d2f128f9c284b12a49930ff8271eb6a",
              "version_minor": 0,
              "version_major": 2
            },
            "text/plain": [
              "HBox(children=(FloatProgress(value=1.0, bar_style='info', description='Validating', layout=Layout(flex='2'), m…"
            ]
          },
          "metadata": {
            "tags": []
          }
        },
        {
          "output_type": "display_data",
          "data": {
            "application/vnd.jupyter.widget-view+json": {
              "model_id": "1c1723a6acc74c8b9a7c730eec267ee0",
              "version_minor": 0,
              "version_major": 2
            },
            "text/plain": [
              "HBox(children=(FloatProgress(value=1.0, bar_style='info', description='Validating', layout=Layout(flex='2'), m…"
            ]
          },
          "metadata": {
            "tags": []
          }
        },
        {
          "output_type": "display_data",
          "data": {
            "application/vnd.jupyter.widget-view+json": {
              "model_id": "fd78609507ff4295b2373b947abf4fc2",
              "version_minor": 0,
              "version_major": 2
            },
            "text/plain": [
              "HBox(children=(FloatProgress(value=1.0, bar_style='info', description='Validating', layout=Layout(flex='2'), m…"
            ]
          },
          "metadata": {
            "tags": []
          }
        },
        {
          "output_type": "display_data",
          "data": {
            "application/vnd.jupyter.widget-view+json": {
              "model_id": "9eb8a50b9b2b4ea8967f97f328356224",
              "version_minor": 0,
              "version_major": 2
            },
            "text/plain": [
              "HBox(children=(FloatProgress(value=1.0, bar_style='info', description='Validating', layout=Layout(flex='2'), m…"
            ]
          },
          "metadata": {
            "tags": []
          }
        },
        {
          "output_type": "display_data",
          "data": {
            "application/vnd.jupyter.widget-view+json": {
              "model_id": "842002a0b222464a8df14be93b49ebe3",
              "version_minor": 0,
              "version_major": 2
            },
            "text/plain": [
              "HBox(children=(FloatProgress(value=1.0, bar_style='info', description='Validating', layout=Layout(flex='2'), m…"
            ]
          },
          "metadata": {
            "tags": []
          }
        },
        {
          "output_type": "display_data",
          "data": {
            "application/vnd.jupyter.widget-view+json": {
              "model_id": "a9a00e04a39f4ec788524d238d8a7d27",
              "version_minor": 0,
              "version_major": 2
            },
            "text/plain": [
              "HBox(children=(FloatProgress(value=1.0, bar_style='info', description='Validating', layout=Layout(flex='2'), m…"
            ]
          },
          "metadata": {
            "tags": []
          }
        },
        {
          "output_type": "display_data",
          "data": {
            "application/vnd.jupyter.widget-view+json": {
              "model_id": "3a2fe13e56c24636847a7ba5bab1d1b2",
              "version_minor": 0,
              "version_major": 2
            },
            "text/plain": [
              "HBox(children=(FloatProgress(value=1.0, bar_style='info', description='Validating', layout=Layout(flex='2'), m…"
            ]
          },
          "metadata": {
            "tags": []
          }
        },
        {
          "output_type": "display_data",
          "data": {
            "application/vnd.jupyter.widget-view+json": {
              "model_id": "8bae09bbbd8a4759a9a2db70da87f339",
              "version_minor": 0,
              "version_major": 2
            },
            "text/plain": [
              "HBox(children=(FloatProgress(value=1.0, bar_style='info', description='Validating', layout=Layout(flex='2'), m…"
            ]
          },
          "metadata": {
            "tags": []
          }
        },
        {
          "output_type": "display_data",
          "data": {
            "application/vnd.jupyter.widget-view+json": {
              "model_id": "e4710b20410c43578241e33936bf4c34",
              "version_minor": 0,
              "version_major": 2
            },
            "text/plain": [
              "HBox(children=(FloatProgress(value=1.0, bar_style='info', description='Validating', layout=Layout(flex='2'), m…"
            ]
          },
          "metadata": {
            "tags": []
          }
        },
        {
          "output_type": "display_data",
          "data": {
            "application/vnd.jupyter.widget-view+json": {
              "model_id": "e24948bdf07b4635bb7b6cad1d103a15",
              "version_minor": 0,
              "version_major": 2
            },
            "text/plain": [
              "HBox(children=(FloatProgress(value=1.0, bar_style='info', description='Validating', layout=Layout(flex='2'), m…"
            ]
          },
          "metadata": {
            "tags": []
          }
        },
        {
          "output_type": "display_data",
          "data": {
            "application/vnd.jupyter.widget-view+json": {
              "model_id": "6ae4755a9e0443d08b39c8a155d36c28",
              "version_minor": 0,
              "version_major": 2
            },
            "text/plain": [
              "HBox(children=(FloatProgress(value=1.0, bar_style='info', description='Validating', layout=Layout(flex='2'), m…"
            ]
          },
          "metadata": {
            "tags": []
          }
        },
        {
          "output_type": "display_data",
          "data": {
            "application/vnd.jupyter.widget-view+json": {
              "model_id": "0a7905cf3e07445fa35130238f4eaed7",
              "version_minor": 0,
              "version_major": 2
            },
            "text/plain": [
              "HBox(children=(FloatProgress(value=1.0, bar_style='info', description='Validating', layout=Layout(flex='2'), m…"
            ]
          },
          "metadata": {
            "tags": []
          }
        },
        {
          "output_type": "display_data",
          "data": {
            "application/vnd.jupyter.widget-view+json": {
              "model_id": "5d43ab8322bd434da1317818f66864f5",
              "version_minor": 0,
              "version_major": 2
            },
            "text/plain": [
              "HBox(children=(FloatProgress(value=1.0, bar_style='info', description='Validating', layout=Layout(flex='2'), m…"
            ]
          },
          "metadata": {
            "tags": []
          }
        },
        {
          "output_type": "display_data",
          "data": {
            "application/vnd.jupyter.widget-view+json": {
              "model_id": "a3296142985b4d32a13dbd2770b37840",
              "version_minor": 0,
              "version_major": 2
            },
            "text/plain": [
              "HBox(children=(FloatProgress(value=1.0, bar_style='info', description='Validating', layout=Layout(flex='2'), m…"
            ]
          },
          "metadata": {
            "tags": []
          }
        },
        {
          "output_type": "display_data",
          "data": {
            "application/vnd.jupyter.widget-view+json": {
              "model_id": "c009edc5aae446929e09d8c81a852d20",
              "version_minor": 0,
              "version_major": 2
            },
            "text/plain": [
              "HBox(children=(FloatProgress(value=1.0, bar_style='info', description='Validating', layout=Layout(flex='2'), m…"
            ]
          },
          "metadata": {
            "tags": []
          }
        },
        {
          "output_type": "display_data",
          "data": {
            "application/vnd.jupyter.widget-view+json": {
              "model_id": "24477c0e20ae47149513f853de9b164b",
              "version_minor": 0,
              "version_major": 2
            },
            "text/plain": [
              "HBox(children=(FloatProgress(value=1.0, bar_style='info', description='Validating', layout=Layout(flex='2'), m…"
            ]
          },
          "metadata": {
            "tags": []
          }
        },
        {
          "output_type": "display_data",
          "data": {
            "application/vnd.jupyter.widget-view+json": {
              "model_id": "0e579c9afe6447fb88e2805b13b717b1",
              "version_minor": 0,
              "version_major": 2
            },
            "text/plain": [
              "HBox(children=(FloatProgress(value=1.0, bar_style='info', description='Validating', layout=Layout(flex='2'), m…"
            ]
          },
          "metadata": {
            "tags": []
          }
        },
        {
          "output_type": "display_data",
          "data": {
            "application/vnd.jupyter.widget-view+json": {
              "model_id": "510e43cbc18e42d8bac7065f92a702e5",
              "version_minor": 0,
              "version_major": 2
            },
            "text/plain": [
              "HBox(children=(FloatProgress(value=1.0, bar_style='info', description='Validating', layout=Layout(flex='2'), m…"
            ]
          },
          "metadata": {
            "tags": []
          }
        },
        {
          "output_type": "display_data",
          "data": {
            "application/vnd.jupyter.widget-view+json": {
              "model_id": "51414e444ffe41389bf570833cf9d7c8",
              "version_minor": 0,
              "version_major": 2
            },
            "text/plain": [
              "HBox(children=(FloatProgress(value=1.0, bar_style='info', description='Validating', layout=Layout(flex='2'), m…"
            ]
          },
          "metadata": {
            "tags": []
          }
        },
        {
          "output_type": "display_data",
          "data": {
            "application/vnd.jupyter.widget-view+json": {
              "model_id": "8302ff4f3e224ccfb15053ad402c66a6",
              "version_minor": 0,
              "version_major": 2
            },
            "text/plain": [
              "HBox(children=(FloatProgress(value=1.0, bar_style='info', description='Validating', layout=Layout(flex='2'), m…"
            ]
          },
          "metadata": {
            "tags": []
          }
        },
        {
          "output_type": "display_data",
          "data": {
            "application/vnd.jupyter.widget-view+json": {
              "model_id": "a39a5b8b477040ed87a0470ddc3d5e21",
              "version_minor": 0,
              "version_major": 2
            },
            "text/plain": [
              "HBox(children=(FloatProgress(value=1.0, bar_style='info', description='Validating', layout=Layout(flex='2'), m…"
            ]
          },
          "metadata": {
            "tags": []
          }
        },
        {
          "output_type": "display_data",
          "data": {
            "application/vnd.jupyter.widget-view+json": {
              "model_id": "f94a5583f737443ba94f16ba0f912ce9",
              "version_minor": 0,
              "version_major": 2
            },
            "text/plain": [
              "HBox(children=(FloatProgress(value=1.0, bar_style='info', description='Validating', layout=Layout(flex='2'), m…"
            ]
          },
          "metadata": {
            "tags": []
          }
        },
        {
          "output_type": "display_data",
          "data": {
            "application/vnd.jupyter.widget-view+json": {
              "model_id": "51498d9449cc40e58be7fcf6c7f971c0",
              "version_minor": 0,
              "version_major": 2
            },
            "text/plain": [
              "HBox(children=(FloatProgress(value=1.0, bar_style='info', description='Validating', layout=Layout(flex='2'), m…"
            ]
          },
          "metadata": {
            "tags": []
          }
        },
        {
          "output_type": "display_data",
          "data": {
            "application/vnd.jupyter.widget-view+json": {
              "model_id": "6318e4a7e74447acb9bae332b1839e79",
              "version_minor": 0,
              "version_major": 2
            },
            "text/plain": [
              "HBox(children=(FloatProgress(value=1.0, bar_style='info', description='Validating', layout=Layout(flex='2'), m…"
            ]
          },
          "metadata": {
            "tags": []
          }
        },
        {
          "output_type": "display_data",
          "data": {
            "application/vnd.jupyter.widget-view+json": {
              "model_id": "d92bb83075864eefbba1ed1b6fadbf14",
              "version_minor": 0,
              "version_major": 2
            },
            "text/plain": [
              "HBox(children=(FloatProgress(value=1.0, bar_style='info', description='Validating', layout=Layout(flex='2'), m…"
            ]
          },
          "metadata": {
            "tags": []
          }
        },
        {
          "output_type": "display_data",
          "data": {
            "application/vnd.jupyter.widget-view+json": {
              "model_id": "fe3bce913f574532a4df9430abf127f5",
              "version_minor": 0,
              "version_major": 2
            },
            "text/plain": [
              "HBox(children=(FloatProgress(value=1.0, bar_style='info', description='Validating', layout=Layout(flex='2'), m…"
            ]
          },
          "metadata": {
            "tags": []
          }
        },
        {
          "output_type": "display_data",
          "data": {
            "application/vnd.jupyter.widget-view+json": {
              "model_id": "e51c2faa9e904aba90173a83c21d020b",
              "version_minor": 0,
              "version_major": 2
            },
            "text/plain": [
              "HBox(children=(FloatProgress(value=1.0, bar_style='info', description='Validating', layout=Layout(flex='2'), m…"
            ]
          },
          "metadata": {
            "tags": []
          }
        },
        {
          "output_type": "display_data",
          "data": {
            "application/vnd.jupyter.widget-view+json": {
              "model_id": "bcb6d03f0eb5409ab2ddce9e759eaeb0",
              "version_minor": 0,
              "version_major": 2
            },
            "text/plain": [
              "HBox(children=(FloatProgress(value=1.0, bar_style='info', description='Validating', layout=Layout(flex='2'), m…"
            ]
          },
          "metadata": {
            "tags": []
          }
        },
        {
          "output_type": "display_data",
          "data": {
            "application/vnd.jupyter.widget-view+json": {
              "model_id": "9f1f8691296f48a18b4c2c1265abeca2",
              "version_minor": 0,
              "version_major": 2
            },
            "text/plain": [
              "HBox(children=(FloatProgress(value=1.0, bar_style='info', description='Validating', layout=Layout(flex='2'), m…"
            ]
          },
          "metadata": {
            "tags": []
          }
        },
        {
          "output_type": "display_data",
          "data": {
            "application/vnd.jupyter.widget-view+json": {
              "model_id": "e2fa6c04b46c4f2080aa4138ec38da69",
              "version_minor": 0,
              "version_major": 2
            },
            "text/plain": [
              "HBox(children=(FloatProgress(value=1.0, bar_style='info', description='Validating', layout=Layout(flex='2'), m…"
            ]
          },
          "metadata": {
            "tags": []
          }
        },
        {
          "output_type": "display_data",
          "data": {
            "application/vnd.jupyter.widget-view+json": {
              "model_id": "a725b8c94c2f4107a3d413a2aa0a737f",
              "version_minor": 0,
              "version_major": 2
            },
            "text/plain": [
              "HBox(children=(FloatProgress(value=1.0, bar_style='info', description='Validating', layout=Layout(flex='2'), m…"
            ]
          },
          "metadata": {
            "tags": []
          }
        },
        {
          "output_type": "display_data",
          "data": {
            "application/vnd.jupyter.widget-view+json": {
              "model_id": "5dc0b3f8ce8d4c219760b47bd206e6fb",
              "version_minor": 0,
              "version_major": 2
            },
            "text/plain": [
              "HBox(children=(FloatProgress(value=1.0, bar_style='info', description='Validating', layout=Layout(flex='2'), m…"
            ]
          },
          "metadata": {
            "tags": []
          }
        },
        {
          "output_type": "display_data",
          "data": {
            "application/vnd.jupyter.widget-view+json": {
              "model_id": "c1ce286fe8454589a8bf398fe2baf75f",
              "version_minor": 0,
              "version_major": 2
            },
            "text/plain": [
              "HBox(children=(FloatProgress(value=1.0, bar_style='info', description='Validating', layout=Layout(flex='2'), m…"
            ]
          },
          "metadata": {
            "tags": []
          }
        },
        {
          "output_type": "display_data",
          "data": {
            "application/vnd.jupyter.widget-view+json": {
              "model_id": "24763eeb2e3042f3a0839c0f932e3dc1",
              "version_minor": 0,
              "version_major": 2
            },
            "text/plain": [
              "HBox(children=(FloatProgress(value=1.0, bar_style='info', description='Validating', layout=Layout(flex='2'), m…"
            ]
          },
          "metadata": {
            "tags": []
          }
        },
        {
          "output_type": "display_data",
          "data": {
            "application/vnd.jupyter.widget-view+json": {
              "model_id": "817383d67fa649f8b531dcd0873b3679",
              "version_minor": 0,
              "version_major": 2
            },
            "text/plain": [
              "HBox(children=(FloatProgress(value=1.0, bar_style='info', description='Validating', layout=Layout(flex='2'), m…"
            ]
          },
          "metadata": {
            "tags": []
          }
        },
        {
          "output_type": "display_data",
          "data": {
            "application/vnd.jupyter.widget-view+json": {
              "model_id": "b2d3880a3fa94f80b02cf7b441e67223",
              "version_minor": 0,
              "version_major": 2
            },
            "text/plain": [
              "HBox(children=(FloatProgress(value=1.0, bar_style='info', description='Validating', layout=Layout(flex='2'), m…"
            ]
          },
          "metadata": {
            "tags": []
          }
        },
        {
          "output_type": "display_data",
          "data": {
            "application/vnd.jupyter.widget-view+json": {
              "model_id": "c553ccb69482475cb218b7b4d48c119e",
              "version_minor": 0,
              "version_major": 2
            },
            "text/plain": [
              "HBox(children=(FloatProgress(value=1.0, bar_style='info', description='Validating', layout=Layout(flex='2'), m…"
            ]
          },
          "metadata": {
            "tags": []
          }
        },
        {
          "output_type": "display_data",
          "data": {
            "application/vnd.jupyter.widget-view+json": {
              "model_id": "c4d7f8997d6c4ea48ce8a0bca9ee09c8",
              "version_minor": 0,
              "version_major": 2
            },
            "text/plain": [
              "HBox(children=(FloatProgress(value=1.0, bar_style='info', description='Validating', layout=Layout(flex='2'), m…"
            ]
          },
          "metadata": {
            "tags": []
          }
        },
        {
          "output_type": "display_data",
          "data": {
            "application/vnd.jupyter.widget-view+json": {
              "model_id": "3d32681574744406867aa3b8bfc77ceb",
              "version_minor": 0,
              "version_major": 2
            },
            "text/plain": [
              "HBox(children=(FloatProgress(value=1.0, bar_style='info', description='Validating', layout=Layout(flex='2'), m…"
            ]
          },
          "metadata": {
            "tags": []
          }
        },
        {
          "output_type": "display_data",
          "data": {
            "application/vnd.jupyter.widget-view+json": {
              "model_id": "e1d89b1a67c441cb9853c74d7e2d7bb3",
              "version_minor": 0,
              "version_major": 2
            },
            "text/plain": [
              "HBox(children=(FloatProgress(value=1.0, bar_style='info', description='Validating', layout=Layout(flex='2'), m…"
            ]
          },
          "metadata": {
            "tags": []
          }
        },
        {
          "output_type": "display_data",
          "data": {
            "application/vnd.jupyter.widget-view+json": {
              "model_id": "2772493ff94345de843c509dcab475c6",
              "version_minor": 0,
              "version_major": 2
            },
            "text/plain": [
              "HBox(children=(FloatProgress(value=1.0, bar_style='info', description='Validating', layout=Layout(flex='2'), m…"
            ]
          },
          "metadata": {
            "tags": []
          }
        },
        {
          "output_type": "display_data",
          "data": {
            "application/vnd.jupyter.widget-view+json": {
              "model_id": "80f9e7bb476c45ce971c1758c76357f2",
              "version_minor": 0,
              "version_major": 2
            },
            "text/plain": [
              "HBox(children=(FloatProgress(value=1.0, bar_style='info', description='Validating', layout=Layout(flex='2'), m…"
            ]
          },
          "metadata": {
            "tags": []
          }
        },
        {
          "output_type": "display_data",
          "data": {
            "application/vnd.jupyter.widget-view+json": {
              "model_id": "f8fe601255c442f9bfd2277d5f2a0bc3",
              "version_minor": 0,
              "version_major": 2
            },
            "text/plain": [
              "HBox(children=(FloatProgress(value=1.0, bar_style='info', description='Validating', layout=Layout(flex='2'), m…"
            ]
          },
          "metadata": {
            "tags": []
          }
        },
        {
          "output_type": "display_data",
          "data": {
            "application/vnd.jupyter.widget-view+json": {
              "model_id": "a8f884ab81034c9bb6a57b29a8d96e0b",
              "version_minor": 0,
              "version_major": 2
            },
            "text/plain": [
              "HBox(children=(FloatProgress(value=1.0, bar_style='info', description='Validating', layout=Layout(flex='2'), m…"
            ]
          },
          "metadata": {
            "tags": []
          }
        },
        {
          "output_type": "display_data",
          "data": {
            "application/vnd.jupyter.widget-view+json": {
              "model_id": "6eabc5c6850b44c0b7ba2803ac761724",
              "version_minor": 0,
              "version_major": 2
            },
            "text/plain": [
              "HBox(children=(FloatProgress(value=1.0, bar_style='info', description='Validating', layout=Layout(flex='2'), m…"
            ]
          },
          "metadata": {
            "tags": []
          }
        },
        {
          "output_type": "display_data",
          "data": {
            "application/vnd.jupyter.widget-view+json": {
              "model_id": "3fa1605f7138415fa21332f292293c48",
              "version_minor": 0,
              "version_major": 2
            },
            "text/plain": [
              "HBox(children=(FloatProgress(value=1.0, bar_style='info', description='Validating', layout=Layout(flex='2'), m…"
            ]
          },
          "metadata": {
            "tags": []
          }
        },
        {
          "output_type": "display_data",
          "data": {
            "application/vnd.jupyter.widget-view+json": {
              "model_id": "574eec455a6b4db0a6e97b42afdbaed5",
              "version_minor": 0,
              "version_major": 2
            },
            "text/plain": [
              "HBox(children=(FloatProgress(value=1.0, bar_style='info', description='Validating', layout=Layout(flex='2'), m…"
            ]
          },
          "metadata": {
            "tags": []
          }
        },
        {
          "output_type": "display_data",
          "data": {
            "application/vnd.jupyter.widget-view+json": {
              "model_id": "c775d6573fbd4e81886005f8f79aa0ad",
              "version_minor": 0,
              "version_major": 2
            },
            "text/plain": [
              "HBox(children=(FloatProgress(value=1.0, bar_style='info', description='Validating', layout=Layout(flex='2'), m…"
            ]
          },
          "metadata": {
            "tags": []
          }
        },
        {
          "output_type": "display_data",
          "data": {
            "application/vnd.jupyter.widget-view+json": {
              "model_id": "cda180610ace43259d0e77a5f7bdfb89",
              "version_minor": 0,
              "version_major": 2
            },
            "text/plain": [
              "HBox(children=(FloatProgress(value=1.0, bar_style='info', description='Validating', layout=Layout(flex='2'), m…"
            ]
          },
          "metadata": {
            "tags": []
          }
        },
        {
          "output_type": "display_data",
          "data": {
            "application/vnd.jupyter.widget-view+json": {
              "model_id": "4dcde05b443043c0b124bc18b2bbfc26",
              "version_minor": 0,
              "version_major": 2
            },
            "text/plain": [
              "HBox(children=(FloatProgress(value=1.0, bar_style='info', description='Validating', layout=Layout(flex='2'), m…"
            ]
          },
          "metadata": {
            "tags": []
          }
        },
        {
          "output_type": "display_data",
          "data": {
            "application/vnd.jupyter.widget-view+json": {
              "model_id": "ad49c283b4584aaa9d3ff76c5d45e1c4",
              "version_minor": 0,
              "version_major": 2
            },
            "text/plain": [
              "HBox(children=(FloatProgress(value=1.0, bar_style='info', description='Validating', layout=Layout(flex='2'), m…"
            ]
          },
          "metadata": {
            "tags": []
          }
        },
        {
          "output_type": "display_data",
          "data": {
            "application/vnd.jupyter.widget-view+json": {
              "model_id": "7305c7cbf09d4a1d8c09b2e4388b179f",
              "version_minor": 0,
              "version_major": 2
            },
            "text/plain": [
              "HBox(children=(FloatProgress(value=1.0, bar_style='info', description='Validating', layout=Layout(flex='2'), m…"
            ]
          },
          "metadata": {
            "tags": []
          }
        },
        {
          "output_type": "display_data",
          "data": {
            "application/vnd.jupyter.widget-view+json": {
              "model_id": "21f864f0c1df4abf8e5f6e947209d443",
              "version_minor": 0,
              "version_major": 2
            },
            "text/plain": [
              "HBox(children=(FloatProgress(value=1.0, bar_style='info', description='Validating', layout=Layout(flex='2'), m…"
            ]
          },
          "metadata": {
            "tags": []
          }
        },
        {
          "output_type": "display_data",
          "data": {
            "application/vnd.jupyter.widget-view+json": {
              "model_id": "b203ca5b36834e558dcfa71c9789a5bb",
              "version_minor": 0,
              "version_major": 2
            },
            "text/plain": [
              "HBox(children=(FloatProgress(value=1.0, bar_style='info', description='Validating', layout=Layout(flex='2'), m…"
            ]
          },
          "metadata": {
            "tags": []
          }
        },
        {
          "output_type": "display_data",
          "data": {
            "application/vnd.jupyter.widget-view+json": {
              "model_id": "e76e672ac717459eb35a779e72e94d5a",
              "version_minor": 0,
              "version_major": 2
            },
            "text/plain": [
              "HBox(children=(FloatProgress(value=1.0, bar_style='info', description='Validating', layout=Layout(flex='2'), m…"
            ]
          },
          "metadata": {
            "tags": []
          }
        },
        {
          "output_type": "display_data",
          "data": {
            "application/vnd.jupyter.widget-view+json": {
              "model_id": "66ec9194f44c4719809b32daaafafa98",
              "version_minor": 0,
              "version_major": 2
            },
            "text/plain": [
              "HBox(children=(FloatProgress(value=1.0, bar_style='info', description='Validating', layout=Layout(flex='2'), m…"
            ]
          },
          "metadata": {
            "tags": []
          }
        },
        {
          "output_type": "display_data",
          "data": {
            "application/vnd.jupyter.widget-view+json": {
              "model_id": "4e636e8f73fd46b094bffe65a9022b25",
              "version_minor": 0,
              "version_major": 2
            },
            "text/plain": [
              "HBox(children=(FloatProgress(value=1.0, bar_style='info', description='Validating', layout=Layout(flex='2'), m…"
            ]
          },
          "metadata": {
            "tags": []
          }
        },
        {
          "output_type": "display_data",
          "data": {
            "application/vnd.jupyter.widget-view+json": {
              "model_id": "02855dd57ce548a3a764f94a478c0050",
              "version_minor": 0,
              "version_major": 2
            },
            "text/plain": [
              "HBox(children=(FloatProgress(value=1.0, bar_style='info', description='Validating', layout=Layout(flex='2'), m…"
            ]
          },
          "metadata": {
            "tags": []
          }
        },
        {
          "output_type": "display_data",
          "data": {
            "application/vnd.jupyter.widget-view+json": {
              "model_id": "59440304f4944a258914202d5ade087b",
              "version_minor": 0,
              "version_major": 2
            },
            "text/plain": [
              "HBox(children=(FloatProgress(value=1.0, bar_style='info', description='Validating', layout=Layout(flex='2'), m…"
            ]
          },
          "metadata": {
            "tags": []
          }
        },
        {
          "output_type": "display_data",
          "data": {
            "application/vnd.jupyter.widget-view+json": {
              "model_id": "a4c0102d35ba447bbc13cf743e0ab198",
              "version_minor": 0,
              "version_major": 2
            },
            "text/plain": [
              "HBox(children=(FloatProgress(value=1.0, bar_style='info', description='Validating', layout=Layout(flex='2'), m…"
            ]
          },
          "metadata": {
            "tags": []
          }
        },
        {
          "output_type": "display_data",
          "data": {
            "application/vnd.jupyter.widget-view+json": {
              "model_id": "1e114db418b34cd194cffa2f8f272e92",
              "version_minor": 0,
              "version_major": 2
            },
            "text/plain": [
              "HBox(children=(FloatProgress(value=1.0, bar_style='info', description='Validating', layout=Layout(flex='2'), m…"
            ]
          },
          "metadata": {
            "tags": []
          }
        },
        {
          "output_type": "display_data",
          "data": {
            "application/vnd.jupyter.widget-view+json": {
              "model_id": "129538b5796a4fc7b274514c50c77ddf",
              "version_minor": 0,
              "version_major": 2
            },
            "text/plain": [
              "HBox(children=(FloatProgress(value=1.0, bar_style='info', description='Validating', layout=Layout(flex='2'), m…"
            ]
          },
          "metadata": {
            "tags": []
          }
        },
        {
          "output_type": "display_data",
          "data": {
            "application/vnd.jupyter.widget-view+json": {
              "model_id": "f2cd459145534071a89332e5f3e33da4",
              "version_minor": 0,
              "version_major": 2
            },
            "text/plain": [
              "HBox(children=(FloatProgress(value=1.0, bar_style='info', description='Validating', layout=Layout(flex='2'), m…"
            ]
          },
          "metadata": {
            "tags": []
          }
        },
        {
          "output_type": "display_data",
          "data": {
            "application/vnd.jupyter.widget-view+json": {
              "model_id": "8f531f28a5ef4f309be964997d4c7058",
              "version_minor": 0,
              "version_major": 2
            },
            "text/plain": [
              "HBox(children=(FloatProgress(value=1.0, bar_style='info', description='Validating', layout=Layout(flex='2'), m…"
            ]
          },
          "metadata": {
            "tags": []
          }
        },
        {
          "output_type": "display_data",
          "data": {
            "application/vnd.jupyter.widget-view+json": {
              "model_id": "5f1bf9570b8f49e69017955756372d1d",
              "version_minor": 0,
              "version_major": 2
            },
            "text/plain": [
              "HBox(children=(FloatProgress(value=1.0, bar_style='info', description='Validating', layout=Layout(flex='2'), m…"
            ]
          },
          "metadata": {
            "tags": []
          }
        },
        {
          "output_type": "display_data",
          "data": {
            "application/vnd.jupyter.widget-view+json": {
              "model_id": "24508410b66148c6a056bbe58821a276",
              "version_minor": 0,
              "version_major": 2
            },
            "text/plain": [
              "HBox(children=(FloatProgress(value=1.0, bar_style='info', description='Validating', layout=Layout(flex='2'), m…"
            ]
          },
          "metadata": {
            "tags": []
          }
        },
        {
          "output_type": "display_data",
          "data": {
            "application/vnd.jupyter.widget-view+json": {
              "model_id": "2caba2fa4639435bb184d132a65ce6a8",
              "version_minor": 0,
              "version_major": 2
            },
            "text/plain": [
              "HBox(children=(FloatProgress(value=1.0, bar_style='info', description='Validating', layout=Layout(flex='2'), m…"
            ]
          },
          "metadata": {
            "tags": []
          }
        },
        {
          "output_type": "display_data",
          "data": {
            "application/vnd.jupyter.widget-view+json": {
              "model_id": "8e544b39924f480f9db201018d556af6",
              "version_minor": 0,
              "version_major": 2
            },
            "text/plain": [
              "HBox(children=(FloatProgress(value=1.0, bar_style='info', description='Validating', layout=Layout(flex='2'), m…"
            ]
          },
          "metadata": {
            "tags": []
          }
        },
        {
          "output_type": "display_data",
          "data": {
            "application/vnd.jupyter.widget-view+json": {
              "model_id": "c14d4205dfc14844a2ebf5b42b48c82c",
              "version_minor": 0,
              "version_major": 2
            },
            "text/plain": [
              "HBox(children=(FloatProgress(value=1.0, bar_style='info', description='Validating', layout=Layout(flex='2'), m…"
            ]
          },
          "metadata": {
            "tags": []
          }
        },
        {
          "output_type": "display_data",
          "data": {
            "application/vnd.jupyter.widget-view+json": {
              "model_id": "a743e16c32b346cc82ecb1a2b2c1bd71",
              "version_minor": 0,
              "version_major": 2
            },
            "text/plain": [
              "HBox(children=(FloatProgress(value=1.0, bar_style='info', description='Validating', layout=Layout(flex='2'), m…"
            ]
          },
          "metadata": {
            "tags": []
          }
        },
        {
          "output_type": "display_data",
          "data": {
            "application/vnd.jupyter.widget-view+json": {
              "model_id": "725bfb7eb6bf45c3b0985516f5cf3412",
              "version_minor": 0,
              "version_major": 2
            },
            "text/plain": [
              "HBox(children=(FloatProgress(value=1.0, bar_style='info', description='Validating', layout=Layout(flex='2'), m…"
            ]
          },
          "metadata": {
            "tags": []
          }
        },
        {
          "output_type": "display_data",
          "data": {
            "application/vnd.jupyter.widget-view+json": {
              "model_id": "dc506c55c39b4c97b8b7c1f138132641",
              "version_minor": 0,
              "version_major": 2
            },
            "text/plain": [
              "HBox(children=(FloatProgress(value=1.0, bar_style='info', description='Validating', layout=Layout(flex='2'), m…"
            ]
          },
          "metadata": {
            "tags": []
          }
        },
        {
          "output_type": "display_data",
          "data": {
            "application/vnd.jupyter.widget-view+json": {
              "model_id": "b6c98748332b457a8150f5cc6dcad2c3",
              "version_minor": 0,
              "version_major": 2
            },
            "text/plain": [
              "HBox(children=(FloatProgress(value=1.0, bar_style='info', description='Validating', layout=Layout(flex='2'), m…"
            ]
          },
          "metadata": {
            "tags": []
          }
        },
        {
          "output_type": "display_data",
          "data": {
            "application/vnd.jupyter.widget-view+json": {
              "model_id": "a29fa6c2a79a4ce2b82d9f1bfe9510ce",
              "version_minor": 0,
              "version_major": 2
            },
            "text/plain": [
              "HBox(children=(FloatProgress(value=1.0, bar_style='info', description='Validating', layout=Layout(flex='2'), m…"
            ]
          },
          "metadata": {
            "tags": []
          }
        },
        {
          "output_type": "stream",
          "text": [
            "\n"
          ],
          "name": "stdout"
        },
        {
          "output_type": "stream",
          "text": [
            "/usr/local/lib/python3.7/dist-packages/pytorch_lightning/utilities/distributed.py:68: UserWarning: cleaning up ddp environment...\n",
            "  warnings.warn(*args, **kwargs)\n"
          ],
          "name": "stderr"
        },
        {
          "output_type": "execute_result",
          "data": {
            "text/plain": [
              "1"
            ]
          },
          "metadata": {
            "tags": []
          },
          "execution_count": 21
        }
      ]
    },
    {
      "cell_type": "markdown",
      "metadata": {
        "id": "WQCg7yUJV1PG"
      },
      "source": [
        "### Test model on test dataset and print accuaracy"
      ]
    },
    {
      "cell_type": "code",
      "metadata": {
        "colab": {
          "base_uri": "https://localhost:8080/"
        },
        "id": "6TJcs8NDrEVx",
        "outputId": "39cbc54d-1750-4d2b-f0ce-292f0829480d"
      },
      "source": [
        "result = trainer.test(test_dataloaders=test_dataloader)"
      ],
      "execution_count": null,
      "outputs": [
        {
          "output_type": "stream",
          "text": [
            "\n",
            "--------------------------------------------------------------------------------\n",
            "DATALOADER:0 TEST RESULTS\n",
            "{'test_acc': 0.5806451439857483,\n",
            " 'test_acc_epoch': 0.6083669662475586,\n",
            " 'val_acc': 0.5806451439857483,\n",
            " 'val_acc_epoch': 0.6083669662475586,\n",
            " 'val_loss': 1.0365203619003296,\n",
            " 'val_loss_epoch': 0.9303032159805298}\n",
            "--------------------------------------------------------------------------------\n"
          ],
          "name": "stdout"
        },
        {
          "output_type": "stream",
          "text": [
            "/usr/local/lib/python3.7/dist-packages/pytorch_lightning/utilities/distributed.py:68: UserWarning: cleaning up ddp environment...\n",
            "  warnings.warn(*args, **kwargs)\n"
          ],
          "name": "stderr"
        }
      ]
    },
    {
      "cell_type": "markdown",
      "metadata": {
        "id": "N62Wxo8uV-Qr"
      },
      "source": [
        "### Print the best model path with `checkpoint_callback`"
      ]
    },
    {
      "cell_type": "code",
      "metadata": {
        "colab": {
          "base_uri": "https://localhost:8080/",
          "height": 37
        },
        "id": "q9IFuHnoAp0g",
        "outputId": "6f2850a5-e390-4eab-88dd-58e41c6511d3"
      },
      "source": [
        "checkpoint_callback.best_model_path"
      ],
      "execution_count": null,
      "outputs": [
        {
          "output_type": "execute_result",
          "data": {
            "application/vnd.google.colaboratory.intrinsic+json": {
              "type": "string"
            },
            "text/plain": [
              "'/content/drive/My Drive/AlbertModel/albert-openbook-epoch=11-val_loss_epoch=0.78.ckpt'"
            ]
          },
          "metadata": {
            "tags": []
          },
          "execution_count": 23
        }
      ]
    },
    {
      "cell_type": "markdown",
      "metadata": {
        "id": "vMacYukcWMIe"
      },
      "source": [
        "### Save the last model into Google drive and load it again"
      ]
    },
    {
      "cell_type": "code",
      "metadata": {
        "id": "10XuIUobePcs"
      },
      "source": [
        "trainer.model.model.save_pretrained(\"/content/drive/My Drive/AlbertModel/lastModel\")"
      ],
      "execution_count": null,
      "outputs": []
    },
    {
      "cell_type": "code",
      "metadata": {
        "id": "GDEP4Jdvb7HV"
      },
      "source": [
        "reload_last_model = AlbertForMultipleChoice.from_pretrained(\"/content/drive/My Drive/AlbertModel/lastModel\")"
      ],
      "execution_count": null,
      "outputs": []
    },
    {
      "cell_type": "markdown",
      "metadata": {
        "id": "QYGx91yRWffK"
      },
      "source": [
        "### Load model from checkpoint which is just saved "
      ]
    },
    {
      "cell_type": "code",
      "metadata": {
        "id": "0wP9ikRH-HQe"
      },
      "source": [
        "checkpoint = torch.load(\"/content/drive/My Drive/AlbertModel/albert-openbook-epoch=11-val_loss_epoch=0.78.ckpt\")"
      ],
      "execution_count": null,
      "outputs": []
    },
    {
      "cell_type": "code",
      "metadata": {
        "id": "ZuHcRdG4W5O9"
      },
      "source": [
        "# important !!! \n",
        "# please read it !!!\n",
        "# in general you can use the code below to reload the model, but some keys in checkpoint[state_dict'] is a little\n",
        "# different from the trainer.model.model.state_dict(). So we have to adjust it manually.\n",
        "\n",
        "# from transformers import AlbertConfig\n",
        "# config = AlbertConfig.from_pretrained('albert-base-v2')\n",
        "# m = AlbertForMultipleChoice.from_pretrained(pretrained_model_name_or_path= None, config=config, state_dict=trainer.model.model.state_dict())\n",
        "\n",
        "new_checkpoint = {}\n",
        "\n",
        "for key in checkpoint['state_dict'].keys():\n",
        "  if 'model' in key:\n",
        "    new_key = key[6:]\n",
        "    new_checkpoint[new_key] = checkpoint['state_dict'][key]\n",
        "  else:\n",
        "    new_checkpoint[key] = checkpoint['state_dict'][key]"
      ],
      "execution_count": null,
      "outputs": []
    },
    {
      "cell_type": "code",
      "metadata": {
        "id": "GcvGPWMQsFhx"
      },
      "source": [
        "from transformers import AlbertConfig\n",
        "config = AlbertConfig.from_pretrained('albert-base-v2')\n",
        "m = AlbertForMultipleChoice.from_pretrained(pretrained_model_name_or_path= None, config=config, state_dict=new_checkpoint)"
      ],
      "execution_count": null,
      "outputs": []
    },
    {
      "cell_type": "code",
      "metadata": {
        "id": "OSsrTVbJ62_S"
      },
      "source": [
        "from pytorch_lightning.metrics import functional as FM"
      ],
      "execution_count": null,
      "outputs": []
    },
    {
      "cell_type": "code",
      "metadata": {
        "id": "kof3VbTy4jUw"
      },
      "source": [
        "class TestModel(pl.LightningModule):\n",
        "\n",
        "    def __init__(self, model, test_dataloader):\n",
        "        super(TestModel, self).__init__()\n",
        "\n",
        "        self.model = model\n",
        "        self._test_dataloader = test_dataloader\n",
        "\n",
        "    def test_step(self, batch, batch_idx):\n",
        "        labels = batch[\"label\"]\n",
        "        input_ids = batch[\"input_ids\"]\n",
        "        attention_mask = batch[\"attention_mask\"]\n",
        "        token_type_ids = batch[\"token_type_ids\"]\n",
        "\n",
        "        outputs = self.model(\n",
        "                input_ids,\n",
        "                token_type_ids=token_type_ids,\n",
        "                attention_mask=attention_mask,\n",
        "                labels=labels\n",
        "                )\n",
        "        \n",
        "        labels_hat = torch.argmax(outputs.logits, dim=1)\n",
        "\n",
        "        acc = FM.accuracy(labels_hat, labels)\n",
        "        self.log('test_acc', acc, on_step=True, on_epoch=True, prog_bar=True, logger=True)\n",
        "\n",
        "    def test_dataloader(self):\n",
        "        return self._test_dataloader"
      ],
      "execution_count": null,
      "outputs": []
    },
    {
      "cell_type": "code",
      "metadata": {
        "colab": {
          "base_uri": "https://localhost:8080/"
        },
        "id": "G2q9kKv_5WpP",
        "outputId": "73cce0e2-b831-43fc-dac1-eb4bc84640a0"
      },
      "source": [
        "trainer_for_test = pl.Trainer(tpu_cores=8)\n",
        "model_for_test = TestModel(m, test_dataloader)"
      ],
      "execution_count": null,
      "outputs": [
        {
          "output_type": "stream",
          "text": [
            "GPU available: False, used: False\n",
            "TPU available: True, using: 8 TPU cores\n"
          ],
          "name": "stderr"
        }
      ]
    },
    {
      "cell_type": "code",
      "metadata": {
        "colab": {
          "base_uri": "https://localhost:8080/"
        },
        "id": "k88tZwrA6VA3",
        "outputId": "34ff6afd-24c0-4b88-9925-6f2119f4372f"
      },
      "source": [
        "trainer_for_test.test(model=model_for_test)"
      ],
      "execution_count": null,
      "outputs": [
        {
          "output_type": "stream",
          "text": [
            "\n",
            "--------------------------------------------------------------------------------\n",
            "DATALOADER:0 TEST RESULTS\n",
            "{'test_acc': 0.5806451439857483, 'test_acc_epoch': 0.6083669662475586}\n",
            "--------------------------------------------------------------------------------\n"
          ],
          "name": "stdout"
        },
        {
          "output_type": "stream",
          "text": [
            "/usr/local/lib/python3.7/dist-packages/pytorch_lightning/utilities/distributed.py:68: UserWarning: cleaning up ddp environment...\n",
            "  warnings.warn(*args, **kwargs)\n"
          ],
          "name": "stderr"
        },
        {
          "output_type": "execute_result",
          "data": {
            "text/plain": [
              "[{'test_acc': 0.5806451439857483, 'test_acc_epoch': 0.6083669662475586}]"
            ]
          },
          "metadata": {
            "tags": []
          },
          "execution_count": 21
        }
      ]
    }
  ]
}