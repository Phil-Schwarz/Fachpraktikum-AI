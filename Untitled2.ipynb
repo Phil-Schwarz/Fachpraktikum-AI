{
 "cells": [
  {
   "cell_type": "code",
   "execution_count": 1,
   "id": "communist-wholesale",
   "metadata": {},
   "outputs": [
    {
     "name": "stdout",
     "output_type": "stream",
     "text": [
      "Thu May 13 00:03:15 2021       \n",
      "+-----------------------------------------------------------------------------+\n",
      "| NVIDIA-SMI 450.51.06    Driver Version: 450.51.06    CUDA Version: 11.0     |\n",
      "|-------------------------------+----------------------+----------------------+\n",
      "| GPU  Name        Persistence-M| Bus-Id        Disp.A | Volatile Uncorr. ECC |\n",
      "| Fan  Temp  Perf  Pwr:Usage/Cap|         Memory-Usage | GPU-Util  Compute M. |\n",
      "|                               |                      |               MIG M. |\n",
      "|===============================+======================+======================|\n",
      "|   0  Tesla V100-SXM2...  Off  | 00000000:15:00.0 Off |                    0 |\n",
      "| N/A   30C    P0    40W / 300W |      9MiB / 32510MiB |      0%      Default |\n",
      "|                               |                      |                  N/A |\n",
      "+-------------------------------+----------------------+----------------------+\n",
      "|   1  Tesla V100-SXM2...  Off  | 00000000:16:00.0 Off |                    0 |\n",
      "| N/A   32C    P0    40W / 300W |      9MiB / 32510MiB |      0%      Default |\n",
      "|                               |                      |                  N/A |\n",
      "+-------------------------------+----------------------+----------------------+\n",
      "|   2  Tesla V100-SXM2...  Off  | 00000000:3A:00.0 Off |                    0 |\n",
      "| N/A   29C    P0    41W / 300W |      9MiB / 32510MiB |      0%      Default |\n",
      "|                               |                      |                  N/A |\n",
      "+-------------------------------+----------------------+----------------------+\n",
      "|   3  Tesla V100-SXM2...  Off  | 00000000:3B:00.0 Off |                    0 |\n",
      "| N/A   32C    P0    39W / 300W |      9MiB / 32510MiB |      0%      Default |\n",
      "|                               |                      |                  N/A |\n",
      "+-------------------------------+----------------------+----------------------+\n",
      "                                                                               \n",
      "+-----------------------------------------------------------------------------+\n",
      "| Processes:                                                                  |\n",
      "|  GPU   GI   CI        PID   Type   Process name                  GPU Memory |\n",
      "|        ID   ID                                                   Usage      |\n",
      "|=============================================================================|\n",
      "|    0   N/A  N/A      1780      G   /usr/libexec/Xorg                   8MiB |\n",
      "|    1   N/A  N/A      1780      G   /usr/libexec/Xorg                   8MiB |\n",
      "|    2   N/A  N/A      1780      G   /usr/libexec/Xorg                   8MiB |\n",
      "|    3   N/A  N/A      1780      G   /usr/libexec/Xorg                   8MiB |\n",
      "+-----------------------------------------------------------------------------+\n"
     ]
    }
   ],
   "source": [
    "!nvidia-smi\n"
   ]
  },
  {
   "cell_type": "code",
   "execution_count": 2,
   "id": "physical-toronto",
   "metadata": {},
   "outputs": [
    {
     "name": "stdout",
     "output_type": "stream",
     "text": [
      "['', '/home/st/st_us-051200/st_st171103/.local/lib/python3.6/site-packages', '/opt/bwhpc/common/jupyter/base/lib/python3.6/site-packages', '/usr/lib64/python36.zip', '/usr/lib64/python3.6', '/usr/lib64/python3.6/lib-dynload', '/pfs/data5/home/st/st_us-051200/st_st171103/testenv/lib64/python3.6/site-packages', '/pfs/data5/home/st/st_us-051200/st_st171103/testenv/lib/python3.6/site-packages', '/opt/bwhpc/common/jupyter/base/lib/python3.6/site-packages/IPython/extensions', '/pfs/data5/home/st/st_us-051200/st_st171103/.ipython']\n"
     ]
    }
   ],
   "source": [
    "import sys\n",
    "print (sys.path)"
   ]
  },
  {
   "cell_type": "code",
   "execution_count": 3,
   "id": "quantitative-local",
   "metadata": {},
   "outputs": [],
   "source": [
    "#sys.path.append('/pfs/data5/home/st/st_us-051200/st_st171103/testenv/lib/python3.6/site-packages')"
   ]
  },
  {
   "cell_type": "code",
   "execution_count": 3,
   "id": "inclusive-marriage",
   "metadata": {},
   "outputs": [
    {
     "name": "stderr",
     "output_type": "stream",
     "text": [
      "05/13/2021 00:04:10 - INFO - faiss.loader -   Loading faiss with AVX2 support.\n",
      "05/13/2021 00:04:10 - INFO - faiss.loader -   Loading faiss.\n",
      "05/13/2021 00:04:31 - INFO - farm.modeling.prediction_head -   Better speed can be achieved with apex installed from https://www.github.com/nvidia/apex .\n"
     ]
    }
   ],
   "source": [
    "import haystack\n",
    "#!{sys.executable} -m pip install elasticsearch\n",
    "\n",
    "import pandas as pd\n",
    "import matplotlib.pyplot as plt\n",
    "import io\n",
    "import unicodedata\n",
    "import numpy as np\n",
    "import re\n",
    "import string\n",
    "\n",
    "import csv\n",
    "                 \n",
    "import pickle\n",
    "\n",
    "import json\n",
    "\n",
    "from six import string_types\n",
    "\n",
    "import tqdm\n",
    "\n",
    "from haystack.preprocessor.cleaning import clean_wiki_text\n",
    "from haystack.preprocessor.utils import convert_files_to_dicts, fetch_archive_from_http\n",
    "from haystack.reader.farm import FARMReader\n",
    "from haystack.reader.transformers import TransformersReader\n",
    "from haystack.utils import print_answers\n",
    "\n",
    "import elasticsearch"
   ]
  },
  {
   "cell_type": "code",
   "execution_count": null,
   "id": "organizational-lodge",
   "metadata": {},
   "outputs": [],
   "source": []
  },
  {
   "cell_type": "code",
   "execution_count": 4,
   "id": "executed-poster",
   "metadata": {},
   "outputs": [],
   "source": [
    "! ./elasticsearch-7.12.1/bin/elasticsearch -d\n",
    "# wait until ES has started\n",
    "! sleep 45"
   ]
  },
  {
   "cell_type": "code",
   "execution_count": 10,
   "id": "technical-prague",
   "metadata": {},
   "outputs": [
    {
     "name": "stdout",
     "output_type": "stream",
     "text": [
      "curl: (7) Failed to connect to localhost port 9200: Connection refused\n"
     ]
    }
   ],
   "source": [
    "!curl localhost:9200"
   ]
  },
  {
   "cell_type": "code",
   "execution_count": null,
   "id": "electrical-teaching",
   "metadata": {},
   "outputs": [],
   "source": []
  },
  {
   "cell_type": "code",
   "execution_count": 32,
   "id": "departmental-folder",
   "metadata": {},
   "outputs": [
    {
     "name": "stderr",
     "output_type": "stream",
     "text": [
      "05/12/2021 15:51:35 - INFO - elasticsearch -   HEAD http://localhost:9200/ [status:200 request:0.013s]\n",
      "05/12/2021 15:51:36 - INFO - elasticsearch -   PUT http://localhost:9200/document [status:200 request:0.531s]\n",
      "05/12/2021 15:51:36 - INFO - elasticsearch -   PUT http://localhost:9200/label [status:200 request:0.239s]\n"
     ]
    }
   ],
   "source": [
    "from haystack.document_store.elasticsearch import ElasticsearchDocumentStore\n",
    "document_store = ElasticsearchDocumentStore(host=\"localhost\", username=\"\", password=\"\", index=\"document\")"
   ]
  },
  {
   "cell_type": "code",
   "execution_count": 40,
   "id": "emotional-lightweight",
   "metadata": {},
   "outputs": [
    {
     "name": "stderr",
     "output_type": "stream",
     "text": [
      "05/12/2021 15:58:46 - INFO - haystack.preprocessor.utils -   Found data stored in `data/article_txt_got`. Delete this first if you really want to fetch new data.\n",
      "05/12/2021 15:58:46 - INFO - haystack.preprocessor.utils -   Converting data/article_txt_got/198_A_Clash_of_Kings.txt\n",
      "05/12/2021 15:58:46 - INFO - haystack.preprocessor.utils -   Converting data/article_txt_got/121_The_Bear_and_the_Maiden_Fair.txt\n",
      "05/12/2021 15:58:46 - INFO - haystack.preprocessor.utils -   Converting data/article_txt_got/102_The_Princess_and_the_Queen.txt\n",
      "05/12/2021 15:58:46 - INFO - haystack.preprocessor.utils -   Converting data/article_txt_got/40_Stannis_Baratheon.txt\n",
      "05/12/2021 15:58:46 - INFO - haystack.preprocessor.utils -   Converting data/article_txt_got/211_The_Watchers_on_the_Wall.txt\n",
      "05/12/2021 15:58:46 - INFO - haystack.preprocessor.utils -   Converting data/article_txt_got/2_Stormborn.txt\n",
      "05/12/2021 15:58:46 - INFO - haystack.preprocessor.utils -   Converting data/article_txt_got/210_The_Mountain_and_the_Viper.txt\n",
      "05/12/2021 15:58:46 - INFO - haystack.preprocessor.utils -   Converting data/article_txt_got/446_A_Golden_Crown.txt\n",
      "05/12/2021 15:58:46 - INFO - haystack.preprocessor.utils -   Converting data/article_txt_got/98_Black_Friday__South_Park_.txt\n",
      "05/12/2021 15:58:46 - INFO - haystack.preprocessor.utils -   Converting data/article_txt_got/233_Myrcella_Baratheon.txt\n",
      "05/12/2021 15:58:46 - INFO - haystack.preprocessor.utils -   Converting data/article_txt_got/452_Fire_and_Blood__Game_of_Thrones_.txt\n",
      "05/12/2021 15:58:46 - INFO - haystack.preprocessor.utils -   Converting data/article_txt_got/378_A_Game_of_Thrones__board_game_.txt\n",
      "05/12/2021 15:58:46 - INFO - haystack.preprocessor.utils -   Converting data/article_txt_got/195_World_of_A_Song_of_Ice_and_Fire.txt\n",
      "05/12/2021 15:58:46 - INFO - haystack.preprocessor.utils -   Converting data/article_txt_got/191_Gendry.txt\n",
      "05/12/2021 15:58:46 - INFO - haystack.preprocessor.utils -   Converting data/article_txt_got/54_Two_Swords__Game_of_Thrones_.txt\n",
      "05/12/2021 15:58:46 - INFO - haystack.preprocessor.utils -   Converting data/article_txt_got/332_Sansa_Stark.txt\n",
      "05/12/2021 15:58:46 - INFO - haystack.preprocessor.utils -   Converting data/article_txt_got/482_Petyr_Baelish.txt\n",
      "05/12/2021 15:58:46 - INFO - haystack.preprocessor.utils -   Converting data/article_txt_got/506_Game_of_Thrones_Theme.txt\n",
      "05/12/2021 15:58:46 - INFO - haystack.preprocessor.utils -   Converting data/article_txt_got/341_Ned_Stark.txt\n",
      "05/12/2021 15:58:46 - INFO - haystack.preprocessor.utils -   Converting data/article_txt_got/273_High_Sparrow.txt\n",
      "05/12/2021 15:58:46 - INFO - haystack.preprocessor.utils -   Converting data/article_txt_got/120_And_Now_His_Watch_Is_Ended.txt\n",
      "05/12/2021 15:58:46 - INFO - haystack.preprocessor.utils -   Converting data/article_txt_got/424_Night_King.txt\n",
      "05/12/2021 15:58:46 - INFO - haystack.preprocessor.utils -   Converting data/article_txt_got/101_Titties_and_Dragons.txt\n",
      "05/12/2021 15:58:46 - INFO - haystack.preprocessor.utils -   Converting data/article_txt_got/24_Game_of_Thrones__Season_1__soundtrack_.txt\n",
      "05/12/2021 15:58:46 - INFO - haystack.preprocessor.utils -   Converting data/article_txt_got/208_Robb_Stark.txt\n",
      "05/12/2021 15:58:47 - INFO - haystack.preprocessor.utils -   Converting data/article_txt_got/402_A_Knight_of_the_Seven_Kingdoms__Game_of_Thrones_.txt\n",
      "05/12/2021 15:58:47 - INFO - haystack.preprocessor.utils -   Converting data/article_txt_got/435_White_Walker.txt\n",
      "05/12/2021 15:58:47 - INFO - haystack.preprocessor.utils -   Converting data/article_txt_got/368_Jaime_Lannister.txt\n",
      "05/12/2021 15:58:47 - INFO - haystack.preprocessor.utils -   Converting data/article_txt_got/360_List_of_Game_of_Thrones_episodes.txt\n",
      "05/12/2021 15:58:47 - INFO - haystack.preprocessor.utils -   Converting data/article_txt_got/263_Tormund_Giantsbane.txt\n",
      "05/12/2021 15:58:47 - INFO - haystack.preprocessor.utils -   Converting data/article_txt_got/148_Game_of_Thrones__Winter_Is_Coming.txt\n",
      "05/12/2021 15:58:47 - INFO - haystack.preprocessor.utils -   Converting data/article_txt_got/214_Dothraki_language.txt\n",
      "05/12/2021 15:58:47 - INFO - haystack.preprocessor.utils -   Converting data/article_txt_got/53_The_Lion_and_the_Rose.txt\n",
      "05/12/2021 15:58:47 - INFO - haystack.preprocessor.utils -   Converting data/article_txt_got/0_Game_of_Thrones__season_8_.txt\n",
      "05/12/2021 15:58:47 - INFO - haystack.preprocessor.utils -   Converting data/article_txt_got/75_Blackwater__Game_of_Thrones_.txt\n",
      "05/12/2021 15:58:47 - INFO - haystack.preprocessor.utils -   Converting data/article_txt_got/367_Gregor_Clegane.txt\n",
      "05/12/2021 15:58:47 - INFO - haystack.preprocessor.utils -   Converting data/article_txt_got/76_Valar_Morghulis.txt\n",
      "05/12/2021 15:58:47 - INFO - haystack.preprocessor.utils -   Converting data/article_txt_got/445_The_Wolf_and_the_Lion.txt\n",
      "05/12/2021 15:58:47 - INFO - haystack.preprocessor.utils -   Converting data/article_txt_got/444_Cripples__Bastards__and_Broken_Things.txt\n",
      "05/12/2021 15:58:47 - INFO - haystack.preprocessor.utils -   Converting data/article_txt_got/56_First_of_His_Name.txt\n",
      "05/12/2021 15:58:47 - INFO - haystack.preprocessor.utils -   Converting data/article_txt_got/481_Sandor_Clegane.txt\n",
      "05/12/2021 15:58:47 - INFO - haystack.preprocessor.utils -   Converting data/article_txt_got/8_Eastwatch.txt\n",
      "05/12/2021 15:58:47 - INFO - haystack.preprocessor.utils -   Converting data/article_txt_got/201_A_Game_of_Thrones__card_game_.txt\n",
      "05/12/2021 15:58:47 - INFO - haystack.preprocessor.utils -   Converting data/article_txt_got/27_Game_of_Thrones__Season_4__soundtrack_.txt\n",
      "05/12/2021 15:58:47 - INFO - haystack.preprocessor.utils -   Converting data/article_txt_got/495_Hodor.txt\n",
      "05/12/2021 15:58:47 - INFO - haystack.preprocessor.utils -   Converting data/article_txt_got/28_Jorah_Mormont.txt\n",
      "05/12/2021 15:58:47 - INFO - haystack.preprocessor.utils -   Converting data/article_txt_got/348_The_Winds_of_Winter.txt\n",
      "05/12/2021 15:58:47 - INFO - haystack.preprocessor.utils -   Converting data/article_txt_got/224_The_Night_Lands.txt\n",
      "05/12/2021 15:58:47 - INFO - haystack.preprocessor.utils -   Converting data/article_txt_got/67_Unbowed__Unbent__Unbroken.txt\n",
      "05/12/2021 15:58:47 - INFO - haystack.preprocessor.utils -   Converting data/article_txt_got/501_Khal_Drogo.txt\n",
      "05/12/2021 15:58:47 - INFO - haystack.preprocessor.utils -   Converting data/article_txt_got/52_Catch_the_Throne.txt\n",
      "05/12/2021 15:58:47 - INFO - haystack.preprocessor.utils -   Converting data/article_txt_got/194_A_Song_of_Ice_and_Fire.txt\n",
      "05/12/2021 15:58:47 - INFO - haystack.preprocessor.utils -   Converting data/article_txt_got/126_Kissed_by_Fire.txt\n",
      "05/12/2021 15:58:47 - INFO - haystack.preprocessor.utils -   Converting data/article_txt_got/262_Gilly__character_.txt\n",
      "05/12/2021 15:58:47 - INFO - haystack.preprocessor.utils -   Converting data/article_txt_got/299_Rani_Mahal__TV_series_.txt\n",
      "05/12/2021 15:58:47 - INFO - haystack.preprocessor.utils -   Converting data/article_txt_got/408_The_Last_of_the_Starks.txt\n",
      "05/12/2021 15:58:47 - INFO - haystack.preprocessor.utils -   Converting data/article_txt_got/401_Power_Is_Power.txt\n",
      "05/12/2021 15:58:47 - INFO - haystack.preprocessor.utils -   Converting data/article_txt_got/85_Game_of_Thrones__Seven_Kingdoms.txt\n",
      "05/12/2021 15:58:47 - INFO - haystack.preprocessor.utils -   Converting data/article_txt_got/73_A_Man_Without_Honor.txt\n",
      "05/12/2021 15:58:47 - INFO - haystack.preprocessor.utils -   Converting data/article_txt_got/329_Robert_Baratheon.txt\n",
      "05/12/2021 15:58:47 - INFO - haystack.preprocessor.utils -   Converting data/article_txt_got/97_Tyrion_Lannister.txt\n",
      "05/12/2021 15:58:47 - INFO - haystack.preprocessor.utils -   Converting data/article_txt_got/55_Breaker_of_Chains.txt\n",
      "05/12/2021 15:58:47 - INFO - haystack.preprocessor.utils -   Converting data/article_txt_got/485_Oathkeeper.txt\n",
      "05/12/2021 15:58:47 - INFO - haystack.preprocessor.utils -   Converting data/article_txt_got/342_Theon_Greyjoy.txt\n",
      "05/12/2021 15:58:47 - INFO - haystack.preprocessor.utils -   Converting data/article_txt_got/442_Game_of_Thrones__season_1_.txt\n",
      "05/12/2021 15:58:47 - INFO - haystack.preprocessor.utils -   Converting data/article_txt_got/51_Iron_Throne__A_Song_of_Ice_and_Fire_.txt\n",
      "05/12/2021 15:58:47 - INFO - haystack.preprocessor.utils -   Converting data/article_txt_got/20_Light_of_the_Seven.txt\n",
      "05/12/2021 15:58:47 - INFO - haystack.preprocessor.utils -   Converting data/article_txt_got/365_A_Song_of_Ice_and_Fire_Roleplaying.txt\n",
      "05/12/2021 15:58:47 - INFO - haystack.preprocessor.utils -   Converting data/article_txt_got/145_Elio_M._García_Jr._and_Linda_Antonsson.txt\n",
      "05/12/2021 15:58:47 - INFO - haystack.preprocessor.utils -   Converting data/article_txt_got/454_Music_of_Game_of_Thrones.txt\n",
      "05/12/2021 15:58:47 - INFO - haystack.preprocessor.utils -   Converting data/article_txt_got/202_A_Feast_for_Crows.txt\n",
      "05/12/2021 15:58:47 - INFO - haystack.preprocessor.utils -   Converting data/article_txt_got/22_The_Rains_of_Castamere__song_.txt\n",
      "05/12/2021 15:58:47 - INFO - haystack.preprocessor.utils -   Converting data/article_txt_got/343_Catelyn_Stark.txt\n",
      "05/12/2021 15:58:47 - INFO - haystack.preprocessor.utils -   Converting data/article_txt_got/129_Second_Sons.txt\n",
      "05/12/2021 15:58:47 - INFO - haystack.preprocessor.utils -   Converting data/article_txt_got/371_Cersei_Lannister.txt\n",
      "05/12/2021 15:58:47 - INFO - haystack.preprocessor.utils -   Converting data/article_txt_got/207_Jon_Snow__character_.txt\n",
      "05/12/2021 15:58:47 - INFO - haystack.preprocessor.utils -   Converting data/article_txt_got/443_The_Kingsroad.txt\n",
      "05/12/2021 15:58:47 - INFO - haystack.preprocessor.utils -   Converting data/article_txt_got/330_Oberyn_Martell.txt\n",
      "05/12/2021 15:58:47 - INFO - haystack.preprocessor.utils -   Converting data/article_txt_got/43_Arya_Stark.txt\n",
      "05/12/2021 15:58:47 - INFO - haystack.preprocessor.utils -   Converting data/article_txt_got/410_The_Bells__Game_of_Thrones_.txt\n",
      "05/12/2021 15:58:47 - INFO - haystack.preprocessor.utils -   Converting data/article_txt_got/135_Game_of_Thrones__Season_7__soundtrack_.txt\n",
      "05/12/2021 15:58:47 - INFO - haystack.preprocessor.utils -   Converting data/article_txt_got/334_Rickon_Stark.txt\n",
      "05/12/2021 15:58:47 - INFO - haystack.preprocessor.utils -   Converting data/article_txt_got/228_Souad_Faress.txt\n",
      "05/12/2021 15:58:47 - INFO - haystack.preprocessor.utils -   Converting data/article_txt_got/21_The_Bear_and_the_Maiden_Fair__song_.txt\n",
      "05/12/2021 15:58:47 - INFO - haystack.preprocessor.utils -   Converting data/article_txt_got/403_Jenny_of_Oldstones.txt\n",
      "05/12/2021 15:58:47 - INFO - haystack.preprocessor.utils -   Converting data/article_txt_got/78_The_Rains_of_Castamere.txt\n",
      "05/12/2021 15:58:47 - INFO - haystack.preprocessor.utils -   Converting data/article_txt_got/44_Daenerys_Targaryen.txt\n",
      "05/12/2021 15:58:47 - INFO - haystack.preprocessor.utils -   Converting data/article_txt_got/146_The_Sons_of_the_Dragon.txt\n",
      "05/12/2021 15:58:47 - INFO - haystack.preprocessor.utils -   Converting data/article_txt_got/33_David_Benioff.txt\n",
      "05/12/2021 15:58:47 - INFO - haystack.preprocessor.utils -   Converting data/article_txt_got/10_Beyond_the_Wall__Game_of_Thrones_.txt\n",
      "05/12/2021 15:58:47 - INFO - haystack.preprocessor.utils -   Converting data/article_txt_got/229_Game_of_Thrones.txt\n",
      "05/12/2021 15:58:47 - INFO - haystack.preprocessor.utils -   Converting data/article_txt_got/26_Game_of_Thrones__Season_3__soundtrack_.txt\n",
      "05/12/2021 15:58:47 - INFO - haystack.preprocessor.utils -   Converting data/article_txt_got/399_For_the_Throne__Music_Inspired_by_the_HBO_Series_Game_of_Thrones.txt\n",
      "05/12/2021 15:58:47 - INFO - haystack.preprocessor.utils -   Converting data/article_txt_got/504_List_of_A_Song_of_Ice_and_Fire_video_games.txt\n",
      "05/12/2021 15:58:47 - INFO - haystack.preprocessor.utils -   Converting data/article_txt_got/136_Game_of_Thrones__Season_8__soundtrack_.txt\n",
      "05/12/2021 15:58:47 - INFO - haystack.preprocessor.utils -   Converting data/article_txt_got/7_The_Spoils_of_War__Game_of_Thrones_.txt\n",
      "05/12/2021 15:58:47 - INFO - haystack.preprocessor.utils -   Converting data/article_txt_got/317_The_Broken_Man.txt\n",
      "05/12/2021 15:58:47 - INFO - haystack.preprocessor.utils -   Converting data/article_txt_got/514_Book_of_the_Stranger.txt\n",
      "05/12/2021 15:58:47 - INFO - haystack.preprocessor.utils -   Converting data/article_txt_got/345_A_Game_of_Thrones__comics_.txt\n",
      "05/12/2021 15:58:47 - INFO - haystack.preprocessor.utils -   Converting data/article_txt_got/508_A_Game_of_Thrones__Second_Edition__card_game_.txt\n",
      "05/12/2021 15:58:47 - INFO - haystack.preprocessor.utils -   Converting data/article_txt_got/480_Varys.txt\n",
      "05/12/2021 15:58:47 - INFO - haystack.preprocessor.utils -   Converting data/article_txt_got/134_Game_of_Thrones__Season_6__soundtrack_.txt\n",
      "05/12/2021 15:58:47 - INFO - haystack.preprocessor.utils -   Converting data/article_txt_got/379_Davos_Seaworth.txt\n",
      "05/12/2021 15:58:47 - INFO - haystack.preprocessor.utils -   Converting data/article_txt_got/373_Tywin_Lannister.txt\n",
      "05/12/2021 15:58:47 - INFO - haystack.preprocessor.utils -   Converting data/article_txt_got/77_Game_of_Thrones_Ascent.txt\n",
      "05/12/2021 15:58:47 - INFO - haystack.preprocessor.utils -   Converting data/article_txt_got/512_Home__Game_of_Thrones_.txt\n",
      "05/12/2021 15:58:47 - INFO - haystack.preprocessor.utils -   Converting data/article_txt_got/151_Ellaria_Sand.txt\n",
      "05/12/2021 15:58:47 - INFO - haystack.preprocessor.utils -   Converting data/article_txt_got/133_Game_of_Thrones__Season_5__soundtrack_.txt\n",
      "05/12/2021 15:58:47 - INFO - haystack.preprocessor.utils -   Converting data/article_txt_got/86_Game_of_Thrones__season_4_.txt\n",
      "05/12/2021 15:58:47 - INFO - haystack.preprocessor.utils -   Converting data/article_txt_got/9_Game_of_Thrones_Tapestry.txt\n",
      "05/12/2021 15:58:47 - INFO - haystack.preprocessor.utils -   Converting data/article_txt_got/84_List_of_awards_and_nominations_received_by_Game_of_Thrones.txt\n",
      "05/12/2021 15:58:47 - INFO - haystack.preprocessor.utils -   Converting data/article_txt_got/400_Winterfell__Game_of_Thrones_episode_.txt\n",
      "05/12/2021 15:58:47 - INFO - haystack.preprocessor.utils -   Converting data/article_txt_got/79_Thronecast.txt\n",
      "05/12/2021 15:58:47 - INFO - haystack.preprocessor.utils -   Converting data/article_txt_got/447_You_Win_or_You_Die.txt\n",
      "05/12/2021 15:58:47 - INFO - haystack.preprocessor.utils -   Converting data/article_txt_got/3_The_Queen_s_Justice.txt\n",
      "05/12/2021 15:58:47 - INFO - haystack.preprocessor.utils -   Converting data/article_txt_got/347_Game_of_Thrones__season_2_.txt\n",
      "05/12/2021 15:58:47 - INFO - haystack.preprocessor.utils -   Converting data/article_txt_got/87_Valar_Dohaeris.txt\n",
      "05/12/2021 15:58:47 - INFO - haystack.preprocessor.utils -   Converting data/article_txt_got/1_Dragonstone__Game_of_Thrones_episode_.txt\n",
      "05/12/2021 15:58:47 - INFO - haystack.preprocessor.utils -   Converting data/article_txt_got/461_The_Winds_of_Winter__Game_of_Thrones_.txt\n",
      "05/12/2021 15:58:47 - INFO - haystack.preprocessor.utils -   Converting data/article_txt_got/37_Joffrey_Baratheon.txt\n",
      "05/12/2021 15:58:47 - INFO - haystack.preprocessor.utils -   Converting data/article_txt_got/425_No_One__Game_of_Thrones_.txt\n",
      "05/12/2021 15:58:47 - INFO - haystack.preprocessor.utils -   Converting data/article_txt_got/11_The_Dragon_and_the_Wolf.txt\n",
      "05/12/2021 15:58:47 - INFO - haystack.preprocessor.utils -   Converting data/article_txt_got/515_The_Door__Game_of_Thrones_.txt\n",
      "05/12/2021 15:58:47 - INFO - haystack.preprocessor.utils -   Converting data/article_txt_got/356_Tales_of_Dunk_and_Egg.txt\n",
      "05/12/2021 15:58:47 - INFO - haystack.preprocessor.utils -   Converting data/article_txt_got/511_After_the_Thrones.txt\n",
      "05/12/2021 15:58:47 - INFO - haystack.preprocessor.utils -   Converting data/article_txt_got/304_Hardhome.txt\n",
      "05/12/2021 15:58:47 - INFO - haystack.preprocessor.utils -   Converting data/article_txt_got/154_Margaery_Tyrell.txt\n",
      "05/12/2021 15:58:47 - INFO - haystack.preprocessor.utils -   Converting data/article_txt_got/474_Bronn__character_.txt\n",
      "05/12/2021 15:58:47 - INFO - haystack.preprocessor.utils -   Converting data/article_txt_got/450_Baelor.txt\n",
      "05/12/2021 15:58:47 - INFO - haystack.preprocessor.utils -   Converting data/article_txt_got/460_Battle_of_the_Bastards.txt\n",
      "05/12/2021 15:58:47 - INFO - haystack.preprocessor.utils -   Converting data/article_txt_got/39_Renly_Baratheon.txt\n",
      "05/12/2021 15:58:47 - INFO - haystack.preprocessor.utils -   Converting data/article_txt_got/346_Ygritte.txt\n",
      "05/12/2021 15:58:47 - INFO - haystack.preprocessor.utils -   Converting data/article_txt_got/477_A_Dance_with_Dragons.txt\n",
      "05/12/2021 15:58:47 - INFO - haystack.preprocessor.utils -   Converting data/article_txt_got/340_Roose_Bolton.txt\n",
      "05/12/2021 15:58:47 - INFO - haystack.preprocessor.utils -   Converting data/article_txt_got/193_Lord_Snow.txt\n",
      "05/12/2021 15:58:47 - INFO - haystack.preprocessor.utils -   Converting data/article_txt_got/396_Game_of_Thrones__season_6_.txt\n",
      "05/12/2021 15:58:47 - INFO - haystack.preprocessor.utils -   Converting data/article_txt_got/449_The_Pointy_End.txt\n",
      "05/12/2021 15:58:47 - INFO - haystack.preprocessor.utils -   Converting data/article_txt_got/362_Winter_Is_Coming.txt\n",
      "05/12/2021 15:58:47 - INFO - haystack.preprocessor.utils -   Converting data/article_txt_got/74_The_Prince_of_Winterfell.txt\n",
      "05/12/2021 15:58:47 - INFO - haystack.preprocessor.utils -   Converting data/article_txt_got/131_Mhysa.txt\n",
      "05/12/2021 15:58:47 - INFO - haystack.preprocessor.utils -   Converting data/article_txt_got/411_The_Iron_Throne__Game_of_Thrones_.txt\n",
      "05/12/2021 15:58:47 - INFO - haystack.preprocessor.utils -   Converting data/article_txt_got/407_The_Long_Night__Game_of_Thrones_.txt\n",
      "05/12/2021 15:58:47 - INFO - haystack.preprocessor.utils -   Converting data/article_txt_got/160_Viserys_Targaryen.txt\n",
      "05/12/2021 15:58:47 - INFO - haystack.preprocessor.utils -   Converting data/article_txt_got/209_Mockingbird__Game_of_Thrones_.txt\n",
      "05/12/2021 15:58:47 - INFO - haystack.preprocessor.utils -   Converting data/article_txt_got/68_The_Gift__Game_of_Thrones_.txt\n",
      "05/12/2021 15:58:47 - INFO - haystack.preprocessor.utils -   Converting data/article_txt_got/212_The_Children__Game_of_Thrones_.txt\n",
      "05/12/2021 15:58:47 - INFO - haystack.preprocessor.utils -   Converting data/article_txt_got/453_Game_of_Thrones__2012_video_game_.txt\n",
      "05/12/2021 15:58:47 - INFO - haystack.preprocessor.utils -   Converting data/article_txt_got/130_Game_of_Thrones_title_sequence.txt\n",
      "05/12/2021 15:58:47 - INFO - haystack.preprocessor.utils -   Converting data/article_txt_got/359_Kill_the_Boy.txt\n",
      "05/12/2021 15:58:47 - INFO - haystack.preprocessor.utils -   Converting data/article_txt_got/25_Game_of_Thrones__Season_2__soundtrack_.txt\n",
      "05/12/2021 15:58:47 - INFO - haystack.preprocessor.utils -   Converting data/article_txt_got/394_Game_of_Thrones__2014_video_game_.txt\n",
      "05/12/2021 15:58:47 - INFO - haystack.preprocessor.utils -   Converting data/article_txt_got/331_Bran_Stark.txt\n",
      "05/12/2021 15:58:47 - INFO - haystack.preprocessor.utils -   Converting data/article_txt_got/23_Game_of_Thrones_Live_Concert_Experience.txt\n",
      "05/12/2021 15:58:47 - INFO - haystack.preprocessor.utils -   Converting data/article_txt_got/358_A_Game_of_Thrones__Genesis.txt\n",
      "05/12/2021 15:58:47 - INFO - haystack.preprocessor.utils -   Converting data/article_txt_got/456_Works_based_on_A_Song_of_Ice_and_Fire.txt\n",
      "05/12/2021 15:58:47 - INFO - haystack.preprocessor.utils -   Converting data/article_txt_got/80_A_Song_of_Ice_and_Fire_fandom.txt\n",
      "05/12/2021 15:58:47 - INFO - haystack.preprocessor.utils -   Converting data/article_txt_got/213_Valyrian_languages.txt\n",
      "05/12/2021 15:58:47 - INFO - haystack.preprocessor.utils -   Converting data/article_txt_got/488_Brienne_of_Tarth.txt\n",
      "05/12/2021 15:58:47 - INFO - haystack.preprocessor.utils -   Converting data/article_txt_got/469_Outline_of_A_Song_of_Ice_and_Fire_franchise.txt\n",
      "05/12/2021 15:58:47 - INFO - haystack.preprocessor.utils -   Converting data/article_txt_got/306_The_Dance_of_Dragons.txt\n",
      "05/12/2021 15:58:47 - INFO - haystack.preprocessor.utils -   Converting data/article_txt_got/118_Dark_Wings__Dark_Words.txt\n",
      "05/12/2021 15:58:47 - INFO - haystack.preprocessor.utils -   Converting data/article_txt_got/69_The_Red_Woman.txt\n",
      "05/12/2021 15:58:47 - INFO - haystack.preprocessor.utils -   Converting data/article_txt_got/439_Melisandre.txt\n",
      "05/12/2021 15:58:47 - INFO - haystack.preprocessor.utils -   Converting data/article_txt_got/199_A_Storm_of_Swords.txt\n",
      "05/12/2021 15:58:47 - INFO - haystack.preprocessor.utils -   Converting data/article_txt_got/475_A_Game_of_Thrones__role-playing_game_.txt\n",
      "05/12/2021 15:58:47 - INFO - haystack.preprocessor.utils -   Converting data/article_txt_got/369_Samwell_Tarly.txt\n",
      "05/12/2021 15:58:47 - INFO - haystack.preprocessor.utils -   Converting data/article_txt_got/349_List_of_Game_of_Thrones_characters.txt\n",
      "05/12/2021 15:58:47 - INFO - haystack.preprocessor.utils -   Converting data/article_txt_got/395_Game_of_Thrones__season_5_.txt\n",
      "05/12/2021 15:58:47 - INFO - haystack.preprocessor.utils -   Converting data/article_txt_got/513_Oathbreaker__Game_of_Thrones_.txt\n",
      "05/12/2021 15:58:47 - INFO - haystack.preprocessor.utils -   Converting data/article_txt_got/217_The_Rogue_Prince.txt\n",
      "05/12/2021 15:58:47 - INFO - haystack.preprocessor.utils -   Converting data/article_txt_got/197_A_Game_of_Thrones.txt\n",
      "05/12/2021 15:58:47 - INFO - haystack.preprocessor.utils -   Converting data/article_txt_got/310_Mother_s_Mercy.txt\n",
      "05/12/2021 15:58:47 - INFO - haystack.preprocessor.utils -   Converting data/article_txt_got/420_Blood_of_My_Blood.txt\n",
      "05/12/2021 15:58:47 - INFO - haystack.preprocessor.utils -   Converting data/article_txt_got/57_The_Laws_of_Gods_and_Men.txt\n",
      "05/12/2021 15:58:47 - INFO - haystack.preprocessor.utils -   Converting data/article_txt_got/12_Fire.txt\n",
      "05/12/2021 15:58:47 - INFO - haystack.preprocessor.utils -   Converting data/article_txt_got/487_Ramsay_Bolton.txt\n",
      "05/12/2021 15:58:47 - INFO - haystack.preprocessor.utils -   Converting data/article_txt_got/30_List_of_A_Song_of_Ice_and_Fire_characters.txt\n",
      "05/12/2021 15:58:47 - INFO - haystack.preprocessor.utils -   Converting data/article_txt_got/311_Game_of_Thrones__season_7_.txt\n",
      "05/12/2021 15:58:47 - INFO - haystack.preprocessor.utils -   Converting data/article_txt_got/99_A_Song_of_Ass_and_Fire.txt\n",
      "05/12/2021 15:58:47 - INFO - haystack.preprocessor.utils -   Converting data/article_txt_got/232_Tommen_Baratheon.txt\n",
      "05/12/2021 15:58:47 - INFO - haystack.preprocessor.utils -   Converting data/article_txt_got/127_The_Climb__Game_of_Thrones_.txt\n",
      "05/12/2021 15:58:47 - INFO - haystack.preprocessor.utils -   Converting data/article_txt_got/218_Olenna_Tyrell.txt\n",
      "05/12/2021 15:58:47 - INFO - haystack.preprocessor.utils -   Converting data/article_txt_got/119_Walk_of_Punishment.txt\n"
     ]
    },
    {
     "name": "stdout",
     "output_type": "stream",
     "text": [
      "[{'text': \"'''''A Clash of Kings''''' is the second novel in ''A Song of Ice and Fire'', an epic fantasy series by American author George R. R. Martin expected to consist of seven volumes. It was first published on 16 November 1998 in the United Kingdom, although the first United States edition did not follow until February 2, 1999 Like its predecessor, ''A Game of Thrones'', it won the Locus Award (in 1999) for Best Novel and was nominated for the Nebula Award (also in 1999) for best novel. In May 2005 Meisha Merlin released a limited edition of the novel, fully illustrated by John Howe.\\nThe novel has been adapted for television by HBO as the second season of the TV series ''Game of Thrones''.\\n''A Clash of Kings'' is also the name of the first expansion to the ''Game of Thrones'' board game.\", 'meta': {'name': '198_A_Clash_of_Kings.txt'}}, {'text': \"\\n== Plot summary ==\\n''A Clash of Kings'' depicts the Seven Kingdoms of Westeros in civil war, while the Night's Watch mounts a reconnaissance to investigate the mysterious people known as wildlings. Meanwhile, Daenerys Targaryen continues her plan to reconquer the Seven Kingdoms.\", 'meta': {'name': '198_A_Clash_of_Kings.txt'}}, {'text': '\\n===In the Seven Kingdoms===\\nWith King Robert Baratheon dead, his purported son Joffrey and his brothers Renly and Stannis all claim the throne of the Seven Kingdoms. Two regions attempt to secede from the realm: Robb Stark is declared \"King in the North\" while Balon Greyjoy declares himself king of the Iron Islands. The war among these contenders is dubbed the War of the Five Kings.\\nStannis Baratheon, claiming the throne as Robert\\'s eldest brother and therefore heir, is supported by Melisandre, a foreign priestess who believes Stannis to be the reincarnation of Azor Ahai, a messianic figure of her faith. Renly Baratheon has married Margaery Tyrell, the daughter of the wealthy Lord Mace Tyrell, who is supporting Renly\\'s attempt to usurp the throne. Robb sends his mother Catelyn Stark to meet with Renly and Stannis to discuss an alliance against Joffrey\\'s family, the Lannisters, but she is unable to reach an agreement with them. Melisandre uses magic to send a shadow to assassinate Renly; after witnessing Renly\\'s death, Catelyn and Renly\\'s bodyguard Brienne of Tarth flee the scene. Having lost Renly, some of his followers shift their support to Stannis.\\nTyrion Lannister, Joffrey\\'s uncle, arrives at King\\'s Landing as acting Hand of the King, the senior adviser to Joffrey\\'s reign. Whilst jockeying for power against Joffrey\\'s mother, the Queen Regent Cersei, Tyrion improves the defenses of the city. Learning of Renly\\'s death, and knowing that the Tyrells will not support Stannis, Tyrion sends the crown\\'s treasurer Petyr “Littlefinger” Baelish to negotiate a marriage alliance between Margaery and Joffrey. Riots break out in the city due to Joffrey\\'s cruelty and food shortages caused by the ongoing war.\\nRobb wins several victories against the Lannisters while Robb\\'s younger brother Bran rules the Northern stronghold of Winterfell in his absence. Robb sends his friend Theon Greyjoy, Balon Greyjoy\\'s son, who grew up as a hostage in Winterfell, to negotiate an alliance between the North and the Iron Islands. Theon betrays Robb and attacks Winterfell, taking the castle and capturing Bran and his younger brother Rickon. When Bran and Rickon escape, Theon fakes their deaths. Believing this ruse, Stark supporters besiege the castle, including a force from the Starks\\' sometime ally House Bolton. However, the Bolton soldiers turn against the Stark and Greyjoy forces alike, burn Winterfell, slaughter its inhabitants, and take Theon prisoner.\\nRobb\\'s sister Arya is taken north posing as a new recruit for the Night\\'s Watch. The recruits are attacked by Lannister forces, and the survivors are taken to the gigantic castle of Harrenhal, which is controlled by Joffrey\\'s grandfather Tywin Lannister, and put to work as servants. For saving his life during the attack, a mysterious man named Jaqen H\\'ghar promises to repay Arya by killing three men of her choice. Arya leverages this offer to help Northern forces retake control of Harrenhal. Jaqen gives Arya a mysterious iron coin and tells her to find him in the foreign city of Braavos if she should ever desire to learn his secrets. Arya soon escapes the castle.\\nStannis\\' army launches assaults on King\\'s Landing by both land and sea in a battle in Blackwater Bay. Under Tyrion\\'s command, the Lannister forces use \"wildfire\" (similar to Greek fire) to ignite the bay, and raise a massive chain across its mouth to prevent Stannis\\' fleet from retreating. Tywin leads his army and the Tyrell forces to the defense of King\\'s Landing, and Stannis\\'s forces are defeated. During the battle, Tyrion is attacked and injured by a knight of Joffrey\\'s Kingsguard; by the time Tyrion regains consciousness after the battle, Tywin has assumed the post of Hand of the King.', 'meta': {'name': '198_A_Clash_of_Kings.txt'}}]\n"
     ]
    },
    {
     "name": "stderr",
     "output_type": "stream",
     "text": [
      "05/12/2021 15:58:47 - INFO - elasticsearch -   POST http://localhost:9200/_bulk?refresh=wait_for [status:200 request:0.347s]\n",
      "05/12/2021 15:58:48 - INFO - elasticsearch -   POST http://localhost:9200/_bulk?refresh=wait_for [status:200 request:1.045s]\n",
      "05/12/2021 15:58:49 - INFO - elasticsearch -   POST http://localhost:9200/_bulk?refresh=wait_for [status:200 request:1.045s]\n",
      "05/12/2021 15:58:51 - INFO - elasticsearch -   POST http://localhost:9200/_bulk?refresh=wait_for [status:200 request:1.042s]\n",
      "05/12/2021 15:58:52 - INFO - elasticsearch -   POST http://localhost:9200/_bulk?refresh=wait_for [status:200 request:1.040s]\n"
     ]
    }
   ],
   "source": [
    "# Let's first fetch some documents that we want to query\n",
    "# Here: 517 Wikipedia articles for Game of Thrones\n",
    "doc_dir = \"data/article_txt_got\"\n",
    "s3_url = \"https://s3.eu-central-1.amazonaws.com/deepset.ai-farm-qa/datasets/documents/wiki_gameofthrones_txt.zip\"\n",
    "fetch_archive_from_http(url=s3_url, output_dir=doc_dir)\n",
    "\n",
    "# Convert files to dicts\n",
    "# You can optionally supply a cleaning function that is applied to each doc (e.g. to remove footers)\n",
    "# It must take a str as input, and return a str.\n",
    "dicts = convert_files_to_dicts(dir_path=doc_dir, clean_func=clean_wiki_text, split_paragraphs=True)\n",
    "\n",
    "# We now have a list of dictionaries that we can write to our document store.\n",
    "# If your texts come from a different source (e.g. a DB), you can of course skip convert_files_to_dicts() and create the dictionaries yourself.\n",
    "# The default format here is:\n",
    "# {\n",
    "#    'text': \"<DOCUMENT_TEXT_HERE>\",\n",
    "#    'meta': {'name': \"<DOCUMENT_NAME_HERE>\", ...}\n",
    "#}\n",
    "# (Optionally: you can also add more key-value-pairs here, that will be indexed as fields in Elasticsearch and\n",
    "# can be accessed later for filtering or shown in the responses of the Finder)\n",
    "\n",
    "# Let's have a look at the first 3 entries:\n",
    "print(dicts[:3])\n",
    "\n",
    "# Now, let's write the dicts containing documents to our DB.\n",
    "document_store.write_documents(dicts)"
   ]
  },
  {
   "cell_type": "code",
   "execution_count": 34,
   "id": "quarterly-debate",
   "metadata": {},
   "outputs": [],
   "source": [
    "from haystack.retriever.sparse import ElasticsearchRetriever\n",
    "retriever = ElasticsearchRetriever(document_store=document_store)"
   ]
  },
  {
   "cell_type": "code",
   "execution_count": 36,
   "id": "literary-culture",
   "metadata": {},
   "outputs": [
    {
     "name": "stderr",
     "output_type": "stream",
     "text": [
      "05/12/2021 15:55:26 - INFO - elasticsearch -   POST http://localhost:9200/document/_search [status:200 request:0.119s]\n"
     ]
    },
    {
     "name": "stdout",
     "output_type": "stream",
     "text": [
      "[{'text': \"\\n===In the Riverlands===\\nThe Stark army reaches the Twins, a bridge stronghold controlled by Walder Frey, who agrees to allow the army to cross the river and to commit his troops in return for Robb and Arya Stark marrying two of his children.\\nTyrion Lannister suspects his father Tywin, who decides Tyrion and his barbarians will fight in the vanguard, wants him killed. As Tyrion, Bronn, and the prostitute Shae swap stories, Tyrion reveals he was married to a woman his father revealed was a prostitute, and made Tyrion watch as his guardsmen raped her.\\nAs a Stark force approaches, Tyrion is trampled in the rush and regains consciousness to find the battle over. Tywin discovers the Stark host was only 2,000 men, not the 20,000 he was led to expect.\\nRobb, having divided his forces, defeats Jaime Lannister's army with his remaining 18,000 men and captures Jaime.\", 'id': '8e859ad6-50ce-4452-9dbd-9f5f23de004b', 'score': 11.656843, 'probability': 0.8110895501528345, 'question': None, 'meta': {'name': '450_Baelor.txt'}, 'embedding': None}, {'text': '\\n===On the Kingsroad===\\nCity Watchmen search the caravan for Gendry but are turned away by Yoren. Gendry tells Arya Stark that he knows she is a girl, and she reveals she is actually Arya Stark after learning that her father met Gendry before he was executed.', 'id': '5a0bdd38-f6dd-46bc-a70e-198698789cda', 'score': 11.3836775, 'probability': 0.8058019827683869, 'question': None, 'meta': {'name': '224_The_Night_Lands.txt'}, 'embedding': None}, {'text': '\\n===\\'\\'A Game of Thrones\\'\\'===\\nSansa Stark begins the novel by being betrothed to Crown Prince Joffrey Baratheon, believing Joffrey to be a gallant prince. While Joffrey and Sansa are walking through the woods, Joffrey notices Arya sparring with the butcher\\'s boy, Mycah. A fight breaks out and Joffrey is attacked by Nymeria (Arya\\'s direwolf) after Joffrey threatens to hurt Arya. Sansa lies to King Robert about the circumstances of the fight in order to protect both Joffrey and her sister Arya.  Since Arya ran off with her wolf to save it, Sansa\\'s wolf is killed instead, estranging the Stark daughters.\\nDuring the Tourney of the Hand to honour her father Lord Eddard Stark, Sansa Stark is enchanted by the knights performing in the event.  At the request of his mother, Queen Cersei Lannister, Joffrey spends a portion of the tourney with Sansa, but near the end he commands his guard Sandor Clegane, better known as The Hound, to take her back to her quarters. Sandor explains how his older brother, Gregor, aka \"Mountain that Rides\" pushed his face into a brazier of hot coals, for playing with one of his wooden toys.\\nAfter Eddard discovers the truth of Joffrey\\'s paternity, he tells Sansa that they will be heading back to Winterfell. Sansa is devastated and wishes to stay in King\\'s Landing, so she runs off to inform Queen Cersei of her father\\'s plans, unwittingly providing Cersei with the information needed to arrest her father. After Robert dies, Sansa begs Joffrey to show mercy on her father and he agrees, if Ned will swear an oath of loyalty, but executes him anyway, in front of Sansa.  Sansa is now effectively a hostage in King\\'s Landing and finally sees Joffrey\\'s true nature, after he forces her to look at the tarred head of her now-deceased father.', 'id': '22d0c92a-106a-4e42-9363-cd0440abcd18', 'score': 11.194147, 'probability': 0.8020677650524326, 'question': None, 'meta': {'name': '332_Sansa_Stark.txt'}, 'embedding': None}, {'text': \"\\n===Season 2===\\nGendry travels North with Yoren and other Night's Watch recruits, including Arya Stark (disguised as an orphan boy named 'Arry), Lommy Greenhands, Hot Pie and Jaqen H'ghar. During their journey, they are stopped by the Goldcloaks of the City Watch, who demand that Yoren hand Gendry over to them - King Joffrey has ordered that all of his father Robert's bastards be killed, but Yoren turns the Goldcloaks away. Later, Gendry forces Arya to reveal her true identity, and is surprised to learn she is in fact Ned Stark's daughter. After the Goldcloaks get help from Ser Amory Lorch and his men, they ambush the travelling party. In the chaos, Yoren is killed. Gendry's life is then saved by Arya, who convinces the Goldcloaks that Lommy, who was killed during the attack, was in fact Gendry. Gendry and the rest of the recruits are then escorted to Harrenhal, the ruined castle-turned-prison. Ser Gregor Clegane oversees order here, and arbitrarily has many of the prisoners tortured and killed. Gendry is nearly tortured and killed but is saved by the arrival of Lord Tywin Lannister, who chides Clegane's men for their reckless treatment of the prisoners. Thanks to Jaqen H'ghars help, Arya, Gendry and Hot Pie are able to escape Harrenhal.\", 'id': '09ee3298-e01a-47cd-bb02-bce069158e6a', 'score': 11.098732, 'probability': 0.8001674895900547, 'question': None, 'meta': {'name': '191_Gendry.txt'}, 'embedding': None}, {'text': '\\n====Season 1====\\nArya accompanies her father Ned and her sister Sansa to King\\'s Landing. Before their departure, Arya\\'s half-brother Jon Snow gifts Arya a sword which she dubs \"Needle\". On the Kingsroad, Arya is sparring with a butcher\\'s boy, Mycah, when Sansa\\'s betrothed Prince Joffrey Baratheon attacks Mycah, prompting Arya\\'s direwolf Nymeria to bite Joffrey. Arya shoos Nymeria away so she is not killed, but is furious when Sansa later refuses to support her version of events. Mycah is later killed by Joffrey\\'s bodyguard Sandor \"The Hound\" Clegane, earning him Arya\\'s hatred. Ned arranges for Arya to have sword lessons with the Braavosi Syrio Forel, who later defends her from Ser Meryn Trant after Joffrey ascends to the throne and kills the Stark household. Arya flees the Red Keep, accidentally killing a stable boy in her escape, hiding out as a beggar in the streets of King\\'s Landing. Ned is eventually taken to the Great Sept of Baelor to face judgment; he spots Arya in the crowd, and alerts the Night\\'s Watch recruiter Yoren to her presence. Yoren prevents Arya from witnessing Ned\\'s execution and has her pose as a boy, \"Arry\", to avoid detection as she joins Yoren\\'s recruits traveling north to Castle Black.', 'id': 'bbe6b409-2942-4da0-b8ed-9a1a25e0b0c9', 'score': 10.634479, 'probability': 0.7907264571073125, 'question': None, 'meta': {'name': '43_Arya_Stark.txt'}, 'embedding': None}, {'text': '\\n===In King\\'s Landing===\\nAfter Varys tells him that Sansa Stark\\'s life is also at stake, Eddard \"Ned\" Stark agrees to make a false confession and swear loyalty to King Joffrey Baratheon.\\nArya Stark finds a crowd gathering to watch her father be judged, and climbs onto the statue of Baelor the Blessed. Ned notices Arya and alerts Night\\'s Watch recruiter Yoren. Before Sansa, Cersei Lannister, Joffrey and the Small Council, Ned confesses to treason and swears fealty to Joffrey. Instead of sparing Ned as promised, Joffrey orders him to be executed. Seeing that Arya has been rescued by Yoren, Ned accepts his fate and is beheaded.', 'id': '177542f5-635c-4f5c-933e-79613b919d96', 'score': 10.627409, 'probability': 0.7905801782386174, 'question': None, 'meta': {'name': '450_Baelor.txt'}, 'embedding': None}, {'text': \"\\n==== ''A Storm of Swords'' and ''A Feast for Crows'' ====\\nPrior to the Red Wedding, Roose Bolton presents Robb Stark with a piece of Theon's skin, revealing that Ramsay has been flaying him; though disgusted, Robb acquiesces to Theon's further captivity, as Theon's father Balon has recently died and Theon's absence presents a succession crisis for the Ironborn. Following Robb Stark's death, King Tommen Baratheon legitimizes Ramsay as a Bolton. The Lannisters pass off Jeyne Poole as Arya Stark and send her north to be betrothed to Ramsay, with only the Lannisters and Boltons aware she is not the real Arya Stark.\", 'id': '5c80a39d-baf5-4858-b667-d85d131e2f83', 'score': 10.533444, 'probability': 0.788628898071797, 'question': None, 'meta': {'name': '487_Ramsay_Bolton.txt'}, 'embedding': None}, {'text': '\\n===House Frey===\\n* \\'\\'\\'Walder Frey\\'\\'\\' (seasons 1, 3, 6–7) portrayed by David Bradley. David Bradley Lord Walder Frey, nicknamed the \"Late Lord Frey\", is the head of House Frey, Lord of the Crossing and bannerman to House Tully. He is known for outliving his many wives (now on his 8th) and siring over 100 children (both bastard and trueborn). Because the use of the Twins became a strategic necessity for Robb\\'s host, Walder was able to negotiate marriage contracts for his children to Robb and Arya Stark. But during Season 2 Robb broke his word and married Lady Talisa. For this slight, and willing to take advantage of the war\\'s changing fortunes, he conspires with Tywin Lannister and Roose Bolton to betray Robb Stark at the wedding of his liege Edmure Tully, which he insists in return for support of his men. Frey hosts the infamous \"Red Wedding\" at which Robb Stark, his wife and mother are all murdered, refusing to spare Robb even as Catelyn holds Lady Frey hostage and threatens to slit her throat, which she does. He is subsequently granted Riverrun and its lands (though the title Lord Paramount of the Riverlands passes to Harrenhal and House Baelish) and expresses delight to take another young wife, but his house is irredeemably tarnished by the betrayal and House Tully\\'s vassals refuse to submit to his rule. In Season 6, he is outraged when he hears of the Blackfish recapture\\' of Riverrun and blames his sons Lothar and Black Walder for allowing him to escape. He then orders them to retake the castle using Edmure Tully as a hostage. Though they successfully retake Riverrun with the help of a Lannister host led by Jaime Lannister, Walder is ambushed shortly afterwards by Arya Stark, who slits his throat in revenge for the Red Wedding. In Season 7, Arya uses Walder\\'s face to deceive and poison the rest of his family.\\n* \\'\\'\\'Lothar Frey\\'\\'\\' (seasons 3, 6) portrayed by Tom Brooke in season 3, and by Daniel Tuite in season 6. One of Lord Walder Frey\\'s many sons, nicknamed “Lame Lothar” because of his twisted leg. He and his half-brother Black Walder are sent by their father to Riverrun to propose a marriage between Lord Edmure Tully and Roslin Frey as terms for House Frey rejoining Robb Stark\\'s campaign against the Lannisters. He is one of the first to commence the \"Red Wedding\", stabbing Talisa Stark in the womb several times and killing her and her unborn child. In the sixth season, he is ordered by Walder to retake Riverrun from Brynden Tully. Though they succeed with Lannister help, he is killed by Arya Stark, who subsequently bakes him into a pie.\\n* \\'\\'\\'Black Walder Rivers\\'\\'\\' (seasons 3, 6) portrayed by Tim Plester. One of Lord Walder Frey\\'s many bastard sons, nicknamed “Black Walder” for his dark demeanor. He and his half-brother Lame Lothar are sent by their father to Riverrun to propose a marriage between Lord Edmure Tully and Roslin Frey as terms for House Frey rejoining Robb Stark\\'s campaign against the Lannister. He kills Catelyn Stark at the Red Wedding, after she slits Lady Frey\\'s throat in retaliation for her son\\'s death. In the sixth season, he takes part in the siege of Riverrun. Though the Freys reclaim the castle with the help of a Lannister host, Black Walder is killed shortly afterwards along with Lothar by Arya Stark, who bakes them both into a pie.', 'id': 'da44a7a0-7e95-4e05-8f26-3f4be9d02b01', 'score': 10.513748, 'probability': 0.7882182073903166, 'question': None, 'meta': {'name': '349_List_of_Game_of_Thrones_characters.txt'}, 'embedding': None}, {'text': '\\n==== \\'\\'A Game of Thrones\\'\\' ====\\nArya adopts a direwolf cub, which she names Nymeria after a legendary warrior queen. She travels with her father, Eddard, to King\\'s Landing when he is made Hand of the King. Before she leaves, her half-brother Jon Snow has a smallsword made for her as a parting gift, which she names \"Needle\" after her least favorite ladylike activity.\\nWhile taking a walk together, Prince Joffrey and her sister Sansa happen upon Arya and her friend, the low-born butcher apprentice Mycah, sparring in the woods with broomsticks.  Arya defends Mycah from Joffrey\\'s torments and her direwolf Nymeria helps Arya fight off Joffrey, wounding his arm in the process.  Knowing that Nymeria will likely be killed in retribution, Arya chases her wolf away; but Sansa\\'s direwolf Lady is killed in Nymeria\\'s stead and Mycah is hunted down and killed by Sandor Clegane, Joffrey\\'s bodyguard.\\nIn King\\'s Landing, her father discovers Arya\\'s possession of Needle, but instead of confiscating it he arranges for fencing lessons under the Braavosi swordmaster Syrio Forel, who teaches her the style of fighting known as \"water dancing\".  After her father\\'s arrest, Syrio is killed protecting her and Arya narrowly escapes capture.  She later witnesses the public execution of her father before falling under the protection of the Night\\'s Watch recruiter Yoren.', 'id': 'e310eca9-d9f1-4a2f-81ab-302733ade38d', 'score': 10.344947, 'probability': 0.7846745387990397, 'question': None, 'meta': {'name': '43_Arya_Stark.txt'}, 'embedding': None}, {'text': '\\n== Character description ==\\nGendry was conceived and born in King\\'s Landing after Robert\\'s Rebellion ended and is one of sixteen (twenty in the television series) bastard children of King Robert Baratheon,.  He is portrayed as tall and very muscled, having blue eyes and thick black hair, very similar to his biological father Robert and uncle Renly in their youth (Brienne of Tarth once almost mistook him for Renly for a moment).  He is stubborn and easily confused.\\nDespite being one of the only four surviving biological children of King Robert (along with Mya Stone, Edric Storm and Bella Rivers), Gendry never knew who his father was.  His mother was reported to have been a worker at an alehouse who died when Gendry was still a young boy, and all he remembers of her was that she had blond hair. Later on, Tobho Mott, a master armourer from Qohor, was offered double the customary fee by a \"lord\" with concealed identity to take Gendry in as a smith apprentice, but accepted him for free after being impressed by the boy\\'s physique.  Gendry turns out to be a talented apprentice, and likes to spend time polishing a bull head helmet that he proudly made for himself, which earned him the nickname \"Bull\" by Arya Stark.', 'id': '50f8b314-163c-46fa-afed-8fd979a62a86', 'score': 9.938516, 'probability': 0.7759666295293488, 'question': None, 'meta': {'name': '191_Gendry.txt'}, 'embedding': None}]\n"
     ]
    }
   ],
   "source": [
    "print(retriever.retrieve(query=\"Who is the father of Arya Stark?\", top_k=10))"
   ]
  },
  {
   "cell_type": "code",
   "execution_count": 44,
   "id": "polish-duplicate",
   "metadata": {},
   "outputs": [
    {
     "name": "stderr",
     "output_type": "stream",
     "text": [
      "05/12/2021 15:59:40 - INFO - elasticsearch -   POST http://localhost:9200/document/_search?scroll=1d&size=10000 [status:200 request:0.004s]\n",
      "05/12/2021 15:59:40 - INFO - elasticsearch -   DELETE http://localhost:9200/_search/scroll [status:200 request:0.001s]\n"
     ]
    },
    {
     "data": {
      "text/plain": [
       "[]"
      ]
     },
     "execution_count": 44,
     "metadata": {},
     "output_type": "execute_result"
    }
   ],
   "source": [
    "document_store.get_all_documents()"
   ]
  },
  {
   "cell_type": "code",
   "execution_count": 45,
   "id": "wound-andorra",
   "metadata": {},
   "outputs": [
    {
     "name": "stderr",
     "output_type": "stream",
     "text": [
      "05/12/2021 16:27:59 - INFO - elasticsearch -   POST http://localhost:9200/document/_delete_by_query [status:200 request:12.005s]\n"
     ]
    }
   ],
   "source": [
    "document_store.delete_all_documents()"
   ]
  },
  {
   "cell_type": "code",
   "execution_count": 43,
   "id": "humanitarian-blackjack",
   "metadata": {},
   "outputs": [
    {
     "name": "stderr",
     "output_type": "stream",
     "text": [
      "05/12/2021 15:59:13 - INFO - elasticsearch -   POST http://localhost:9200/document/_search?scroll=1d&size=10000 [status:200 request:0.005s]\n",
      "05/12/2021 15:59:13 - INFO - elasticsearch -   DELETE http://localhost:9200/_search/scroll [status:200 request:0.001s]\n"
     ]
    },
    {
     "data": {
      "text/plain": [
       "[]"
      ]
     },
     "execution_count": 43,
     "metadata": {},
     "output_type": "execute_result"
    }
   ],
   "source": [
    "document_store.get_all_documents()"
   ]
  },
  {
   "cell_type": "code",
   "execution_count": null,
   "id": "coastal-nancy",
   "metadata": {},
   "outputs": [],
   "source": []
  },
  {
   "cell_type": "code",
   "execution_count": null,
   "id": "therapeutic-assignment",
   "metadata": {},
   "outputs": [],
   "source": []
  },
  {
   "cell_type": "code",
   "execution_count": null,
   "id": "temporal-strike",
   "metadata": {},
   "outputs": [],
   "source": []
  },
  {
   "cell_type": "code",
   "execution_count": null,
   "id": "vocal-radio",
   "metadata": {},
   "outputs": [],
   "source": [
    "def get_query_facts(sample, k):\n",
    "#    facts = []\n",
    "    similar_all = []    \n",
    "#    similar_filtered = []      \n",
    "    unique_facts = []   \n",
    "    # Todo: this i_ variable is shit, find better solution  \n",
    "#    i_ = []\n",
    "#    _question = sample[\"question\"]['stem']\n",
    "#    for idx in range(len(sample['question']['choices'])):\n",
    "#        similar = get_similar_sentences(_question + sample[\"question\"]['choices'][idx]['text'])\n",
    "\n",
    "\n",
    "#    train_samples = []\n",
    "#    with open('/content/OpenBookQA-V1-Sep2018/Data/Additional/train_complete.jsonl') as f:\n",
    "#        for item in json_lines.reader(f):\n",
    "#            train_samples.append(item)\n",
    "\n",
    "#    sample = train_samples[23]\n",
    "    _question = sample[\"question\"]['stem']\n",
    "\n",
    "#    print(\"Question: \" + _question + \"\\n\")\n",
    "#-------------------------------------------------------------------\n",
    "\n",
    "    for idx in range(len(sample['question']['choices'])): \n",
    "        similar = get_similar_sentences(_question + ' ' + sample[\"question\"]['choices'][idx]['text'], 7)\n",
    "#        print(\"{}) {}\".format(idx, sample[\"question\"]['choices'][idx]['text']))\n",
    "        for i, (sentence, dist) in enumerate(similar):\n",
    "            similar_all.append([idx, [sentence, dist]])\n",
    "\n",
    "#-------------------------------------------------------------------\n",
    "#    similar = get_similar_sentences(_question, k)\n",
    "\n",
    "#-------------------------------------------------------------------\n",
    "\n",
    "\n",
    "#    df = train_df.sample(n=1)\n",
    "#    row = next(df.iterrows())[1]\n",
    "#    print(\"Question: \" + row.question + \"\\n\")\n",
    "#    for idx, answer in zip([\"A\", \"B\", \"C\", \"D\"], row.answers):\n",
    "#        print(\"{}) {}\".format(idx, answer))\n",
    "#    print(\"\")\n",
    "#    print(\"Answer: \" + row.correct + \"\\n\")\n",
    "#    print(\"---------------------------------\")\n",
    "#   \n",
    "#    for idx, answer in zip([\"A\", \"B\", \"C\", \"D\"], row.answers):\n",
    "#        similar = get_similar_sentences(row.question + ' ' + answer)\n",
    "#        for i, (sentence, dist) in enumerate(similar):\n",
    "#            similar_all.append([idx, [sentence, dist]])\n",
    "## Todo:\n",
    "#        j = 0\n",
    "#        for i, (sentence, dist) in enumerate(similar):\n",
    "#            if sentence not in unique_facts:\n",
    "#                facts.append(sentence)\n",
    "#                j += 1\n",
    "#            if j>3:\n",
    "#                break\n",
    "##\n",
    "        \n",
    "#        i_.append(0)\n",
    "\n",
    "#    for idx in range(len(sample['question']['choices'])):\n",
    "#        for i, (sentence, dist) in enumerate(similar_all[idx]):\n",
    "#            for element in unique_facts:\n",
    "#                if element[1][0] == sentence:\n",
    "#                    if element[1] >\n",
    "#            if sentence not in unique_facts:##-------------------------------\n",
    "#                unique_facts.append(similar_all[idx][i])\n",
    "#            else:\n",
    "#                if dist < unique_facts.index(sentence)\n",
    "#            print(\"{}) {} ({})\".format(i, sentence, dist))\n",
    "#            i_[idx] += 1\n",
    "#            if i_[idx] > 4:\n",
    "#                break; \n",
    "#    similar_all.sort(key = lambda x: x[1][1])\n",
    "#    print(similar_all)\n",
    "#    print(\"---------------------------------\")\n",
    "     \n",
    "#    i_ = {\"A\":0,\"B\":0,\"C\":0,\"D\":0}\n",
    "    i_ = [0,0,0,0]\n",
    "    i = 0 \n",
    "    for fact in similar_all:\n",
    "#        print(\"{}) {}\".format(fact[0], fact[1][0]))\n",
    "        if i > 9:\n",
    "            break\n",
    "        if i_[fact[0]] > 2:\n",
    "            continue\n",
    "        if fact[1][0] not in unique_facts:\n",
    "            unique_facts.append(fact[1][0])\n",
    "            i_[fact[0]] += 1\n",
    "            i += 1\n",
    "\n",
    "#    for i, (sentence, dist) in enumerate(similar):\n",
    "#        unique_facts.append(sentence)\n",
    "    \n",
    "#    print(unique_facts)\n",
    "#    print(\"---------------------------------\")\n",
    "    return unique_facts"
   ]
  },
  {
   "cell_type": "code",
   "execution_count": null,
   "id": "consecutive-people",
   "metadata": {},
   "outputs": [],
   "source": [
    "def raw_samples_to_dataset(samples):\n",
    "    datas = []\n",
    "    for sample in samples:\n",
    "        _id = sample[\"id\"]\n",
    "        _article = sample[\"fact1\"]\n",
    "        _question = sample[\"question\"]['stem']\n",
    "        _options = []\n",
    "        _answer = sample[\"answerKey\"]\n",
    "        for idx in range(len(sample['question']['choices'])): \n",
    "            _options.append(sample[\"question\"]['choices'][idx]['text'])\n",
    "\n",
    "        data = {\n",
    "                \"id\": _id,\n",
    "                \"article\": _article,\n",
    "                \"options\": _options,\n",
    "                \"question\": _question,\n",
    "                \"answer\": _answer\n",
    "                }\n",
    "        datas.append(data)\n",
    "    return lf.Dataset(datas)\n",
    "\n",
    "\n",
    "def preprocess(tokenizer: AlbertTokenizer, x: Dict) -> Dict:\n",
    "\n",
    "    choices_features = []\n",
    "\n",
    "    option: str\n",
    "    for option in x[\"options\"]:\n",
    "        text_a = x[\"article\"]\n",
    "        text_b = x[\"question\"] + \" \" + option\n",
    "\n",
    "        inputs = tokenizer.encode_plus(\n",
    "                text_a,\n",
    "                text_b,\n",
    "                add_special_tokens=True,\n",
    "                max_length=MAX_LEN\n",
    "                )\n",
    "        input_ids, token_type_ids = inputs[\"input_ids\"], inputs[\"token_type_ids\"]\n",
    "        attention_mask = [1] * len(input_ids)\n",
    "\n",
    "        pad_token_id = tokenizer.pad_token_id\n",
    "        padding_length = MAX_LEN - len(input_ids)\n",
    "        input_ids = input_ids + ([pad_token_id] * padding_length)\n",
    "        attention_mask = attention_mask + ([0] * padding_length)\n",
    "        token_type_ids = token_type_ids + ([pad_token_id] * padding_length)\n",
    "\n",
    "        assert len(input_ids) == MAX_LEN, \"Error with input length {} vs {}\".format(len(input_ids), MAX_LEN)\n",
    "        assert len(attention_mask) == MAX_LEN, \"Error with input length {} vs {}\".format(len(attention_mask), MAX_LEN)\n",
    "        assert len(token_type_ids) == MAX_LEN, \"Error with input length {} vs {}\".format(len(token_type_ids), MAX_LEN)\n",
    "\n",
    "        choices_features.append({\n",
    "            \"input_ids\": input_ids,\n",
    "            \"attention_mask\": attention_mask,\n",
    "            \"token_type_ids\": token_type_ids,\n",
    "            })\n",
    "\n",
    "    labels = label_map.get(x[\"answer\"], -1)\n",
    "    label = torch.tensor(labels).long()\n",
    "\n",
    "    return {\n",
    "            \"id\": x[\"id\"],\n",
    "            \"label\": label,\n",
    "            \"input_ids\": torch.tensor([cf[\"input_ids\"] for cf in choices_features]),\n",
    "            \"attention_mask\": torch.tensor([cf[\"attention_mask\"] for cf in choices_features]),\n",
    "            \"token_type_ids\": torch.tensor([cf[\"token_type_ids\"] for cf in choices_features]),\n",
    "            }\n",
    "\n",
    "\n",
    "def get_dataloader(tokenizer, datadir: str, cachedir: str = \"./\"):\n",
    "    datadir = Path(datadir)\n",
    "    cachedir = Path(cachedir)\n",
    "    \n",
    "    preprocessor = partial(preprocess, tokenizer)\n",
    "\n",
    "    test_samples = []\n",
    "    with open(datadir / \"test_complete.jsonl\") as f:\n",
    "        for item in json_lines.reader(f):\n",
    "            test_samples.append(item)\n",
    "    test = raw_samples_to_dataset(test_samples)\n",
    "    test_dataloader = DataLoader(\n",
    "            test.map(preprocessor).save(cachedir / \"test_openbook.cache\"),\n",
    "            sampler=SequentialSampler(test),\n",
    "            batch_size=BATCH_SIZE\n",
    "            )\n",
    "\n",
    "    return test_dataloader"
   ]
  },
  {
   "cell_type": "code",
   "execution_count": null,
   "id": "medieval-proportion",
   "metadata": {},
   "outputs": [],
   "source": [
    "def load_dataloader_from_cache(tokenizer,cachedir: str = \"./\"):\n",
    "    cachedir = Path(cachedir)\n",
    "    test_file_name = \"test_openbook.cache\"\n",
    "    test_path = Path(cachedir / test_file_name)\n",
    "    if test_path.exists():\n",
    "        print(f'Loading data from {test_file_name}...')\n",
    "        with test_path.open('rb') as f:\n",
    "            test_cache = pickle.load(f)\n",
    "\n",
    "    test_dataloader = DataLoader(\n",
    "            lf.core.CacheDataset(test_cache),\n",
    "            batch_size=BATCH_SIZE\n",
    "            )\n",
    "\n",
    "    return test_dataloader"
   ]
  },
  {
   "cell_type": "code",
   "execution_count": null,
   "id": "serious-begin",
   "metadata": {},
   "outputs": [],
   "source": [
    "tokenizer = AlbertTokenizer.from_pretrained(\"albert-base-v2\", do_lower_case=True)\n",
    "test_dataloader = get_dataloader(tokenizer, './OpenBookQA-V1-Sep2018/Data/Additional')"
   ]
  },
  {
   "cell_type": "code",
   "execution_count": null,
   "id": "proprietary-lucas",
   "metadata": {},
   "outputs": [],
   "source": [
    "checkpoint_path = \"./albert-openbook-epoch=10-val_loss_epoch=0.87.ckpt\"\n",
    "checkpoint = torch.load(checkpoint_path)"
   ]
  },
  {
   "cell_type": "code",
   "execution_count": null,
   "id": "happy-martial",
   "metadata": {},
   "outputs": [],
   "source": [
    "# important !!! \n",
    "# please read it !!!\n",
    "# in general you can use the code below to reload the model, but some keys in checkpoint[state_dict'] is a little\n",
    "# different from the trainer.model.model.state_dict(). So we have to adjust it manually.\n",
    "\n",
    "# from transformers import AlbertConfig\n",
    "# config = AlbertConfig.from_pretrained('albert-base-v2')\n",
    "# m = AlbertForMultipleChoice.from_pretrained(pretrained_model_name_or_path= None, config=config, state_dict=trainer.model.model.state_dict())\n",
    "\n",
    "new_checkpoint = {}\n",
    "\n",
    "for key in checkpoint['state_dict'].keys():\n",
    "  if 'model' in key:\n",
    "    new_key = key[6:]\n",
    "    new_checkpoint[new_key] = checkpoint['state_dict'][key]\n",
    "  else:\n",
    "    new_checkpoint[key] = checkpoint['state_dict'][key]"
   ]
  },
  {
   "cell_type": "code",
   "execution_count": null,
   "id": "numerous-pennsylvania",
   "metadata": {},
   "outputs": [],
   "source": [
    "from transformers import AlbertConfig\n",
    "config = AlbertConfig.from_pretrained('albert-base-v2')\n",
    "m = AlbertForMultipleChoice.from_pretrained(pretrained_model_name_or_path= None, config=config, state_dict=new_checkpoint)"
   ]
  },
  {
   "cell_type": "code",
   "execution_count": null,
   "id": "blank-processor",
   "metadata": {},
   "outputs": [],
   "source": [
    "class TestModel(pl.LightningModule):\n",
    "\n",
    "    def __init__(self, model, test_dataloader):\n",
    "        super(TestModel, self).__init__()\n",
    "\n",
    "        self.model = model\n",
    "        self._test_dataloader = test_dataloader\n",
    "\n",
    "    def test_step(self, batch, batch_idx):\n",
    "        labels = batch[\"label\"]\n",
    "        input_ids = batch[\"input_ids\"]\n",
    "        attention_mask = batch[\"attention_mask\"]\n",
    "        token_type_ids = batch[\"token_type_ids\"]\n",
    "\n",
    "        outputs = self.model(\n",
    "                input_ids,\n",
    "                token_type_ids=token_type_ids,\n",
    "                attention_mask=attention_mask,\n",
    "                labels=labels\n",
    "                )\n",
    "        \n",
    "        labels_hat = torch.argmax(outputs.logits, dim=1)\n",
    "#        print(labels_hat)\n",
    "#        print(labels)\n",
    "\n",
    "        acc = FM.accuracy(labels_hat, labels)\n",
    "#        print(acc)\n",
    "        self.log('test_acc', acc, on_step=True, on_epoch=True, prog_bar=True, logger=True)\n",
    "\n",
    "    def test_dataloader(self):\n",
    "      return self._test_dataloader"
   ]
  },
  {
   "cell_type": "code",
   "execution_count": null,
   "id": "fancy-disposal",
   "metadata": {},
   "outputs": [],
   "source": [
    "trainer_for_test = pl.Trainer(gpus=-1, accelerator='dp')\n",
    "model_for_test = TestModel(m, test_dataloader)"
   ]
  },
  {
   "cell_type": "code",
   "execution_count": null,
   "id": "italian-crawford",
   "metadata": {},
   "outputs": [],
   "source": [
    "trainer_for_test.test(model=model_for_test)"
   ]
  }
 ],
 "metadata": {
  "kernelspec": {
   "display_name": "HayStackKernel",
   "language": "python",
   "name": "haystackkernel"
  },
  "language_info": {
   "codemirror_mode": {
    "name": "ipython",
    "version": 3
   },
   "file_extension": ".py",
   "mimetype": "text/x-python",
   "name": "python",
   "nbconvert_exporter": "python",
   "pygments_lexer": "ipython3",
   "version": "3.6.8"
  }
 },
 "nbformat": 4,
 "nbformat_minor": 5
}
