{
  "nbformat": 4,
  "nbformat_minor": 0,
  "metadata": {
    "colab": {
      "name": "CreateCosmosQACache.ipynb",
      "provenance": []
    },
    "kernelspec": {
      "name": "python3",
      "display_name": "Python 3"
    },
    "language_info": {
      "name": "python"
    },
    "widgets": {
      "application/vnd.jupyter.widget-state+json": {
        "a52ff3ae37544a2da7f752761a645d87": {
          "model_module": "@jupyter-widgets/controls",
          "model_name": "HBoxModel",
          "state": {
            "_view_name": "HBoxView",
            "_dom_classes": [],
            "_model_name": "HBoxModel",
            "_view_module": "@jupyter-widgets/controls",
            "_model_module_version": "1.5.0",
            "_view_count": null,
            "_view_module_version": "1.5.0",
            "box_style": "",
            "layout": "IPY_MODEL_1e3c948d7bc54355bdd8dd0bd8feed69",
            "_model_module": "@jupyter-widgets/controls",
            "children": [
              "IPY_MODEL_9242c953d2d348ab833525d4558cd81a",
              "IPY_MODEL_88d72e6d303e450183e4ccee4287ce9f"
            ]
          }
        },
        "1e3c948d7bc54355bdd8dd0bd8feed69": {
          "model_module": "@jupyter-widgets/base",
          "model_name": "LayoutModel",
          "state": {
            "_view_name": "LayoutView",
            "grid_template_rows": null,
            "right": null,
            "justify_content": null,
            "_view_module": "@jupyter-widgets/base",
            "overflow": null,
            "_model_module_version": "1.2.0",
            "_view_count": null,
            "flex_flow": null,
            "width": null,
            "min_width": null,
            "border": null,
            "align_items": null,
            "bottom": null,
            "_model_module": "@jupyter-widgets/base",
            "top": null,
            "grid_column": null,
            "overflow_y": null,
            "overflow_x": null,
            "grid_auto_flow": null,
            "grid_area": null,
            "grid_template_columns": null,
            "flex": null,
            "_model_name": "LayoutModel",
            "justify_items": null,
            "grid_row": null,
            "max_height": null,
            "align_content": null,
            "visibility": null,
            "align_self": null,
            "height": null,
            "min_height": null,
            "padding": null,
            "grid_auto_rows": null,
            "grid_gap": null,
            "max_width": null,
            "order": null,
            "_view_module_version": "1.2.0",
            "grid_template_areas": null,
            "object_position": null,
            "object_fit": null,
            "grid_auto_columns": null,
            "margin": null,
            "display": null,
            "left": null
          }
        },
        "9242c953d2d348ab833525d4558cd81a": {
          "model_module": "@jupyter-widgets/controls",
          "model_name": "FloatProgressModel",
          "state": {
            "_view_name": "ProgressView",
            "style": "IPY_MODEL_cb7f9b218ee049968388b69e46fea4d5",
            "_dom_classes": [],
            "description": "Downloading: 100%",
            "_model_name": "FloatProgressModel",
            "bar_style": "success",
            "max": 760289,
            "_view_module": "@jupyter-widgets/controls",
            "_model_module_version": "1.5.0",
            "value": 760289,
            "_view_count": null,
            "_view_module_version": "1.5.0",
            "orientation": "horizontal",
            "min": 0,
            "description_tooltip": null,
            "_model_module": "@jupyter-widgets/controls",
            "layout": "IPY_MODEL_b89c099a989f49e2be082c2b0074e024"
          }
        },
        "88d72e6d303e450183e4ccee4287ce9f": {
          "model_module": "@jupyter-widgets/controls",
          "model_name": "HTMLModel",
          "state": {
            "_view_name": "HTMLView",
            "style": "IPY_MODEL_1d5f72eb4038454dade9dd987380cfa6",
            "_dom_classes": [],
            "description": "",
            "_model_name": "HTMLModel",
            "placeholder": "​",
            "_view_module": "@jupyter-widgets/controls",
            "_model_module_version": "1.5.0",
            "value": " 760k/760k [01:07&lt;00:00, 11.3kB/s]",
            "_view_count": null,
            "_view_module_version": "1.5.0",
            "description_tooltip": null,
            "_model_module": "@jupyter-widgets/controls",
            "layout": "IPY_MODEL_0ad7f49018de48b8abcf2bbbd749dbd7"
          }
        },
        "cb7f9b218ee049968388b69e46fea4d5": {
          "model_module": "@jupyter-widgets/controls",
          "model_name": "ProgressStyleModel",
          "state": {
            "_view_name": "StyleView",
            "_model_name": "ProgressStyleModel",
            "description_width": "initial",
            "_view_module": "@jupyter-widgets/base",
            "_model_module_version": "1.5.0",
            "_view_count": null,
            "_view_module_version": "1.2.0",
            "bar_color": null,
            "_model_module": "@jupyter-widgets/controls"
          }
        },
        "b89c099a989f49e2be082c2b0074e024": {
          "model_module": "@jupyter-widgets/base",
          "model_name": "LayoutModel",
          "state": {
            "_view_name": "LayoutView",
            "grid_template_rows": null,
            "right": null,
            "justify_content": null,
            "_view_module": "@jupyter-widgets/base",
            "overflow": null,
            "_model_module_version": "1.2.0",
            "_view_count": null,
            "flex_flow": null,
            "width": null,
            "min_width": null,
            "border": null,
            "align_items": null,
            "bottom": null,
            "_model_module": "@jupyter-widgets/base",
            "top": null,
            "grid_column": null,
            "overflow_y": null,
            "overflow_x": null,
            "grid_auto_flow": null,
            "grid_area": null,
            "grid_template_columns": null,
            "flex": null,
            "_model_name": "LayoutModel",
            "justify_items": null,
            "grid_row": null,
            "max_height": null,
            "align_content": null,
            "visibility": null,
            "align_self": null,
            "height": null,
            "min_height": null,
            "padding": null,
            "grid_auto_rows": null,
            "grid_gap": null,
            "max_width": null,
            "order": null,
            "_view_module_version": "1.2.0",
            "grid_template_areas": null,
            "object_position": null,
            "object_fit": null,
            "grid_auto_columns": null,
            "margin": null,
            "display": null,
            "left": null
          }
        },
        "1d5f72eb4038454dade9dd987380cfa6": {
          "model_module": "@jupyter-widgets/controls",
          "model_name": "DescriptionStyleModel",
          "state": {
            "_view_name": "StyleView",
            "_model_name": "DescriptionStyleModel",
            "description_width": "",
            "_view_module": "@jupyter-widgets/base",
            "_model_module_version": "1.5.0",
            "_view_count": null,
            "_view_module_version": "1.2.0",
            "_model_module": "@jupyter-widgets/controls"
          }
        },
        "0ad7f49018de48b8abcf2bbbd749dbd7": {
          "model_module": "@jupyter-widgets/base",
          "model_name": "LayoutModel",
          "state": {
            "_view_name": "LayoutView",
            "grid_template_rows": null,
            "right": null,
            "justify_content": null,
            "_view_module": "@jupyter-widgets/base",
            "overflow": null,
            "_model_module_version": "1.2.0",
            "_view_count": null,
            "flex_flow": null,
            "width": null,
            "min_width": null,
            "border": null,
            "align_items": null,
            "bottom": null,
            "_model_module": "@jupyter-widgets/base",
            "top": null,
            "grid_column": null,
            "overflow_y": null,
            "overflow_x": null,
            "grid_auto_flow": null,
            "grid_area": null,
            "grid_template_columns": null,
            "flex": null,
            "_model_name": "LayoutModel",
            "justify_items": null,
            "grid_row": null,
            "max_height": null,
            "align_content": null,
            "visibility": null,
            "align_self": null,
            "height": null,
            "min_height": null,
            "padding": null,
            "grid_auto_rows": null,
            "grid_gap": null,
            "max_width": null,
            "order": null,
            "_view_module_version": "1.2.0",
            "grid_template_areas": null,
            "object_position": null,
            "object_fit": null,
            "grid_auto_columns": null,
            "margin": null,
            "display": null,
            "left": null
          }
        },
        "d5d0f03073ec44afb4bf19e07af48433": {
          "model_module": "@jupyter-widgets/controls",
          "model_name": "HBoxModel",
          "state": {
            "_view_name": "HBoxView",
            "_dom_classes": [],
            "_model_name": "HBoxModel",
            "_view_module": "@jupyter-widgets/controls",
            "_model_module_version": "1.5.0",
            "_view_count": null,
            "_view_module_version": "1.5.0",
            "box_style": "",
            "layout": "IPY_MODEL_7c4813562fd64af0a36357bc88933f5c",
            "_model_module": "@jupyter-widgets/controls",
            "children": [
              "IPY_MODEL_45e1076d8eb64cb7a590829ed69dda64",
              "IPY_MODEL_9728249637e641dfa64ce02d47b96b8b"
            ]
          }
        },
        "7c4813562fd64af0a36357bc88933f5c": {
          "model_module": "@jupyter-widgets/base",
          "model_name": "LayoutModel",
          "state": {
            "_view_name": "LayoutView",
            "grid_template_rows": null,
            "right": null,
            "justify_content": null,
            "_view_module": "@jupyter-widgets/base",
            "overflow": null,
            "_model_module_version": "1.2.0",
            "_view_count": null,
            "flex_flow": null,
            "width": null,
            "min_width": null,
            "border": null,
            "align_items": null,
            "bottom": null,
            "_model_module": "@jupyter-widgets/base",
            "top": null,
            "grid_column": null,
            "overflow_y": null,
            "overflow_x": null,
            "grid_auto_flow": null,
            "grid_area": null,
            "grid_template_columns": null,
            "flex": null,
            "_model_name": "LayoutModel",
            "justify_items": null,
            "grid_row": null,
            "max_height": null,
            "align_content": null,
            "visibility": null,
            "align_self": null,
            "height": null,
            "min_height": null,
            "padding": null,
            "grid_auto_rows": null,
            "grid_gap": null,
            "max_width": null,
            "order": null,
            "_view_module_version": "1.2.0",
            "grid_template_areas": null,
            "object_position": null,
            "object_fit": null,
            "grid_auto_columns": null,
            "margin": null,
            "display": null,
            "left": null
          }
        },
        "45e1076d8eb64cb7a590829ed69dda64": {
          "model_module": "@jupyter-widgets/controls",
          "model_name": "FloatProgressModel",
          "state": {
            "_view_name": "ProgressView",
            "style": "IPY_MODEL_888baed16cb74dc08d45f78d75cc4291",
            "_dom_classes": [],
            "description": "Downloading: 100%",
            "_model_name": "FloatProgressModel",
            "bar_style": "success",
            "max": 1312669,
            "_view_module": "@jupyter-widgets/controls",
            "_model_module_version": "1.5.0",
            "value": 1312669,
            "_view_count": null,
            "_view_module_version": "1.5.0",
            "orientation": "horizontal",
            "min": 0,
            "description_tooltip": null,
            "_model_module": "@jupyter-widgets/controls",
            "layout": "IPY_MODEL_3625dd87f30c436aa1f3d9d52495c828"
          }
        },
        "9728249637e641dfa64ce02d47b96b8b": {
          "model_module": "@jupyter-widgets/controls",
          "model_name": "HTMLModel",
          "state": {
            "_view_name": "HTMLView",
            "style": "IPY_MODEL_718f11019ffc4195923f930f48192889",
            "_dom_classes": [],
            "description": "",
            "_model_name": "HTMLModel",
            "placeholder": "​",
            "_view_module": "@jupyter-widgets/controls",
            "_model_module_version": "1.5.0",
            "value": " 1.31M/1.31M [01:05&lt;00:00, 20.0kB/s]",
            "_view_count": null,
            "_view_module_version": "1.5.0",
            "description_tooltip": null,
            "_model_module": "@jupyter-widgets/controls",
            "layout": "IPY_MODEL_6793b242dff046deb281e4ad40b22e15"
          }
        },
        "888baed16cb74dc08d45f78d75cc4291": {
          "model_module": "@jupyter-widgets/controls",
          "model_name": "ProgressStyleModel",
          "state": {
            "_view_name": "StyleView",
            "_model_name": "ProgressStyleModel",
            "description_width": "initial",
            "_view_module": "@jupyter-widgets/base",
            "_model_module_version": "1.5.0",
            "_view_count": null,
            "_view_module_version": "1.2.0",
            "bar_color": null,
            "_model_module": "@jupyter-widgets/controls"
          }
        },
        "3625dd87f30c436aa1f3d9d52495c828": {
          "model_module": "@jupyter-widgets/base",
          "model_name": "LayoutModel",
          "state": {
            "_view_name": "LayoutView",
            "grid_template_rows": null,
            "right": null,
            "justify_content": null,
            "_view_module": "@jupyter-widgets/base",
            "overflow": null,
            "_model_module_version": "1.2.0",
            "_view_count": null,
            "flex_flow": null,
            "width": null,
            "min_width": null,
            "border": null,
            "align_items": null,
            "bottom": null,
            "_model_module": "@jupyter-widgets/base",
            "top": null,
            "grid_column": null,
            "overflow_y": null,
            "overflow_x": null,
            "grid_auto_flow": null,
            "grid_area": null,
            "grid_template_columns": null,
            "flex": null,
            "_model_name": "LayoutModel",
            "justify_items": null,
            "grid_row": null,
            "max_height": null,
            "align_content": null,
            "visibility": null,
            "align_self": null,
            "height": null,
            "min_height": null,
            "padding": null,
            "grid_auto_rows": null,
            "grid_gap": null,
            "max_width": null,
            "order": null,
            "_view_module_version": "1.2.0",
            "grid_template_areas": null,
            "object_position": null,
            "object_fit": null,
            "grid_auto_columns": null,
            "margin": null,
            "display": null,
            "left": null
          }
        },
        "718f11019ffc4195923f930f48192889": {
          "model_module": "@jupyter-widgets/controls",
          "model_name": "DescriptionStyleModel",
          "state": {
            "_view_name": "StyleView",
            "_model_name": "DescriptionStyleModel",
            "description_width": "",
            "_view_module": "@jupyter-widgets/base",
            "_model_module_version": "1.5.0",
            "_view_count": null,
            "_view_module_version": "1.2.0",
            "_model_module": "@jupyter-widgets/controls"
          }
        },
        "6793b242dff046deb281e4ad40b22e15": {
          "model_module": "@jupyter-widgets/base",
          "model_name": "LayoutModel",
          "state": {
            "_view_name": "LayoutView",
            "grid_template_rows": null,
            "right": null,
            "justify_content": null,
            "_view_module": "@jupyter-widgets/base",
            "overflow": null,
            "_model_module_version": "1.2.0",
            "_view_count": null,
            "flex_flow": null,
            "width": null,
            "min_width": null,
            "border": null,
            "align_items": null,
            "bottom": null,
            "_model_module": "@jupyter-widgets/base",
            "top": null,
            "grid_column": null,
            "overflow_y": null,
            "overflow_x": null,
            "grid_auto_flow": null,
            "grid_area": null,
            "grid_template_columns": null,
            "flex": null,
            "_model_name": "LayoutModel",
            "justify_items": null,
            "grid_row": null,
            "max_height": null,
            "align_content": null,
            "visibility": null,
            "align_self": null,
            "height": null,
            "min_height": null,
            "padding": null,
            "grid_auto_rows": null,
            "grid_gap": null,
            "max_width": null,
            "order": null,
            "_view_module_version": "1.2.0",
            "grid_template_areas": null,
            "object_position": null,
            "object_fit": null,
            "grid_auto_columns": null,
            "margin": null,
            "display": null,
            "left": null
          }
        }
      }
    }
  },
  "cells": [
    {
      "cell_type": "markdown",
      "metadata": {
        "id": "o0AKx-PPg6mk"
      },
      "source": [
        "# Install libraries"
      ]
    },
    {
      "cell_type": "code",
      "metadata": {
        "colab": {
          "base_uri": "https://localhost:8080/"
        },
        "id": "RuZt_DBHckDr",
        "outputId": "78287e4c-b8ce-4b7d-d800-f8d1cd9133f2"
      },
      "source": [
        "!pip install --quiet json_lines\n",
        "!pip install --quiet transformers\n",
        "!pip install --quiet lineflow\n",
        "\n",
        "# Albert requires SentencePiece\n",
        "!pip install --quiet SentencePiece"
      ],
      "execution_count": 44,
      "outputs": [
        {
          "output_type": "stream",
          "text": [
            "\u001b[K     |████████████████████████████████| 2.3MB 7.9MB/s \n",
            "\u001b[K     |████████████████████████████████| 901kB 37.4MB/s \n",
            "\u001b[K     |████████████████████████████████| 3.3MB 36.7MB/s \n",
            "\u001b[?25h"
          ],
          "name": "stdout"
        }
      ]
    },
    {
      "cell_type": "markdown",
      "metadata": {
        "id": "GYVf3Rrlg_8x"
      },
      "source": [
        "# Import libraries"
      ]
    },
    {
      "cell_type": "code",
      "metadata": {
        "id": "Gz6TtZLscfkZ"
      },
      "source": [
        "from typing import Dict\n",
        "import csv\n",
        "import lineflow as lf\n",
        "import json_lines\n",
        "from functools import partial\n",
        "import torch\n",
        "from torch.utils.data import DataLoader, SequentialSampler, RandomSampler\n",
        "from transformers import AlbertForMultipleChoice, AlbertTokenizer, AdamW"
      ],
      "execution_count": 47,
      "outputs": []
    },
    {
      "cell_type": "markdown",
      "metadata": {
        "id": "m-8Km2NchDoN"
      },
      "source": [
        "# Download train, valid and test files"
      ]
    },
    {
      "cell_type": "markdown",
      "metadata": {
        "id": "zeNA1x4Yhb9X"
      },
      "source": [
        "## Download `train.csv` and `valid.csv`"
      ]
    },
    {
      "cell_type": "code",
      "metadata": {
        "colab": {
          "base_uri": "https://localhost:8080/"
        },
        "id": "UOxWc67JRdha",
        "outputId": "91246aa0-15cd-4dc4-d9c2-e42b318e07ae"
      },
      "source": [
        "!ls\n",
        "!wget https://raw.githubusercontent.com/wilburOne/cosmosqa/master/data/valid.csv\n",
        "!wget https://raw.githubusercontent.com/wilburOne/cosmosqa/master/data/train.csv"
      ],
      "execution_count": 30,
      "outputs": [
        {
          "output_type": "stream",
          "text": [
            "sample_data  sample_prediction.csv  test.jsonl\tvalid.csv\n",
            "--2021-06-01 21:18:24--  https://raw.githubusercontent.com/wilburOne/cosmosqa/master/data/train.csv\n",
            "Resolving raw.githubusercontent.com (raw.githubusercontent.com)... 185.199.108.133, 185.199.109.133, 185.199.110.133, ...\n",
            "Connecting to raw.githubusercontent.com (raw.githubusercontent.com)|185.199.108.133|:443... connected.\n",
            "HTTP request sent, awaiting response... 200 OK\n",
            "Length: 16660449 (16M) [text/plain]\n",
            "Saving to: ‘train.csv’\n",
            "\n",
            "train.csv           100%[===================>]  15.89M  40.4MB/s    in 0.4s    \n",
            "\n",
            "2021-06-01 21:18:27 (40.4 MB/s) - ‘train.csv’ saved [16660449/16660449]\n",
            "\n"
          ],
          "name": "stdout"
        }
      ]
    },
    {
      "cell_type": "markdown",
      "metadata": {
        "id": "WwhhIW-jhMrO"
      },
      "source": [
        "## Create `val_dataset` and `train_dataset`"
      ]
    },
    {
      "cell_type": "code",
      "metadata": {
        "id": "utgSXWRGSwcC"
      },
      "source": [
        "val_datas = []\n",
        "with open('valid.csv', 'r') as file:\n",
        "    reader = csv.reader(file)\n",
        "    next(reader)\n",
        "    for sample in reader:\n",
        "      _id = sample[0]\n",
        "      _article = sample[1]\n",
        "      _question = sample[2]\n",
        "      _options = []\n",
        "      _answer = sample[-1]\n",
        "      _options.append(sample[3])\n",
        "      _options.append(sample[4])\n",
        "      _options.append(sample[5])\n",
        "      _options.append(sample[6])\n",
        "\n",
        "      data = {\n",
        "              \"id\": _id,\n",
        "              \"article\": _article,\n",
        "              \"options\": _options,\n",
        "              \"question\": _question,\n",
        "              \"answer\": _answer\n",
        "              }\n",
        "      val_datas.append(data)\n",
        "val_dataset = lf.Dataset(val_datas)"
      ],
      "execution_count": 34,
      "outputs": []
    },
    {
      "cell_type": "code",
      "metadata": {
        "id": "LLncLW9kcZpN"
      },
      "source": [
        "train_datas = []\n",
        "with open('train.csv', 'r') as file:\n",
        "    reader = csv.reader(file)\n",
        "    next(reader)\n",
        "    for sample in reader:\n",
        "      _id = sample[0]\n",
        "      _article = sample[1]\n",
        "      _question = sample[2]\n",
        "      _options = []\n",
        "      _answer = sample[-1]\n",
        "      _options.append(sample[3])\n",
        "      _options.append(sample[4])\n",
        "      _options.append(sample[5])\n",
        "      _options.append(sample[6])\n",
        "\n",
        "      data = {\n",
        "              \"id\": _id,\n",
        "              \"article\": _article,\n",
        "              \"options\": _options,\n",
        "              \"question\": _question,\n",
        "              \"answer\": _answer\n",
        "              }\n",
        "      train_datas.append(data)\n",
        "train_dataset = lf.Dataset(train_datas)"
      ],
      "execution_count": 40,
      "outputs": []
    },
    {
      "cell_type": "markdown",
      "metadata": {
        "id": "6CrMEAAuhlYA"
      },
      "source": [
        "## Download `test.jsonl`"
      ]
    },
    {
      "cell_type": "code",
      "metadata": {
        "colab": {
          "base_uri": "https://localhost:8080/"
        },
        "id": "SXZZBWjcV3N0",
        "outputId": "d539378b-a4ae-4644-9cf6-54d63093d244"
      },
      "source": [
        "!wget https://raw.githubusercontent.com/wilburOne/cosmosqa/master/data/test.jsonl\n",
        "!ls"
      ],
      "execution_count": 10,
      "outputs": [
        {
          "output_type": "stream",
          "text": [
            "--2021-06-01 20:50:31--  https://raw.githubusercontent.com/wilburOne/cosmosqa/master/data/test.jsonl\n",
            "Resolving raw.githubusercontent.com (raw.githubusercontent.com)... 185.199.111.133, 185.199.108.133, 185.199.109.133, ...\n",
            "Connecting to raw.githubusercontent.com (raw.githubusercontent.com)|185.199.111.133|:443... connected.\n",
            "HTTP request sent, awaiting response... 200 OK\n",
            "Length: 5610681 (5.4M) [text/plain]\n",
            "Saving to: ‘test.jsonl’\n",
            "\n",
            "test.jsonl          100%[===================>]   5.35M  --.-KB/s    in 0.1s    \n",
            "\n",
            "2021-06-01 20:50:32 (39.3 MB/s) - ‘test.jsonl’ saved [5610681/5610681]\n",
            "\n",
            "sample_data  test.jsonl  valid.csv\n"
          ],
          "name": "stdout"
        }
      ]
    },
    {
      "cell_type": "markdown",
      "metadata": {
        "id": "AyoMaT2QhqzF"
      },
      "source": [
        "## Download labels file `sample_prediction` of `test.jsonl`"
      ]
    },
    {
      "cell_type": "code",
      "metadata": {
        "colab": {
          "base_uri": "https://localhost:8080/"
        },
        "id": "9EaK9-05WyMQ",
        "outputId": "def271fa-7830-4522-9cf2-bef584e1b8b2"
      },
      "source": [
        "!wget https://raw.githubusercontent.com/wilburOne/cosmosqa/master/data/sample_prediction.csv"
      ],
      "execution_count": 18,
      "outputs": [
        {
          "output_type": "stream",
          "text": [
            "--2021-06-01 20:54:31--  https://raw.githubusercontent.com/wilburOne/cosmosqa/master/data/sample_prediction.csv\n",
            "Resolving raw.githubusercontent.com (raw.githubusercontent.com)... 185.199.108.133, 185.199.111.133, 185.199.109.133, ...\n",
            "Connecting to raw.githubusercontent.com (raw.githubusercontent.com)|185.199.108.133|:443... connected.\n",
            "HTTP request sent, awaiting response... 200 OK\n",
            "Length: 932788 (911K) [text/plain]\n",
            "Saving to: ‘sample_prediction.csv’\n",
            "\n",
            "sample_prediction.c 100%[===================>] 910.93K  --.-KB/s    in 0.06s   \n",
            "\n",
            "2021-06-01 20:54:32 (14.9 MB/s) - ‘sample_prediction.csv’ saved [932788/932788]\n",
            "\n"
          ],
          "name": "stdout"
        }
      ]
    },
    {
      "cell_type": "markdown",
      "metadata": {
        "id": "vcKMoBCzh3AM"
      },
      "source": [
        "## Generate `test_dataset`"
      ]
    },
    {
      "cell_type": "code",
      "metadata": {
        "id": "Y7uOvH_wV6w9"
      },
      "source": [
        "test_datas = []\n",
        "labels = []\n",
        "with open('sample_prediction.csv', 'r') as f:\n",
        "  test_samples_labels = csv.reader(f)\n",
        "  next(test_samples_labels)\n",
        "  for label in test_samples_labels:\n",
        "    labels.append(label)\n",
        "\n",
        "with open(\"test.jsonl\") as f:\n",
        "  index = 0\n",
        "  for sample in json_lines.reader(f):\n",
        "    if not sample['id'] == labels[index][0]:\n",
        "      print(\"not equal\")\n",
        "    _id = sample['id']\n",
        "    _article = sample['context']\n",
        "    _question = sample['question']\n",
        "    _options = []\n",
        "    _answer = str(labels[index][1])\n",
        "    _options.append(sample['answer0'])\n",
        "    _options.append(sample['answer1'])\n",
        "    _options.append(sample['answer2'])\n",
        "    _options.append(sample['answer3'])\n",
        "\n",
        "    test_data = {\n",
        "            \"id\": _id,\n",
        "            \"article\": _article,\n",
        "            \"options\": _options,\n",
        "            \"question\": _question,\n",
        "            \"answer\": _answer\n",
        "            }\n",
        "    test_datas.append(test_data)\n",
        "    index += 1\n",
        "test_dataset = lf.Dataset(test_datas)"
      ],
      "execution_count": 36,
      "outputs": []
    },
    {
      "cell_type": "markdown",
      "metadata": {
        "id": "V-ZAt7-th-wL"
      },
      "source": [
        "# Define constant variables"
      ]
    },
    {
      "cell_type": "code",
      "metadata": {
        "id": "fgvd7G7CeL2Z"
      },
      "source": [
        "MAX_LEN = 256\n",
        "NUM_LABELS = 4\n",
        "label_map = {\"A\": 0, \"B\": 1, \"C\": 2, \"D\": 3}\n",
        "BATCH_SIZE = 8"
      ],
      "execution_count": 38,
      "outputs": []
    },
    {
      "cell_type": "markdown",
      "metadata": {
        "id": "m39_m_CviGb4"
      },
      "source": [
        "# Define function to generate `cache` files"
      ]
    },
    {
      "cell_type": "code",
      "metadata": {
        "id": "j2bw440sdbGt"
      },
      "source": [
        "def preprocess(tokenizer: AlbertTokenizer, x: Dict) -> Dict:\n",
        "\n",
        "    choices_features = []\n",
        "\n",
        "    option: str\n",
        "    for option in x[\"options\"]:\n",
        "        text_a = x[\"article\"]\n",
        "        text_b = x[\"question\"] + \" \" + option\n",
        "\n",
        "        inputs = tokenizer.encode_plus(\n",
        "                text_a,\n",
        "                text_b,\n",
        "                add_special_tokens=True,\n",
        "                max_length=MAX_LEN\n",
        "                )\n",
        "        input_ids, token_type_ids = inputs[\"input_ids\"], inputs[\"token_type_ids\"]\n",
        "        attention_mask = [1] * len(input_ids)\n",
        "\n",
        "        pad_token_id = tokenizer.pad_token_id\n",
        "        padding_length = MAX_LEN - len(input_ids)\n",
        "        input_ids = input_ids + ([pad_token_id] * padding_length)\n",
        "        attention_mask = attention_mask + ([0] * padding_length)\n",
        "        token_type_ids = token_type_ids + ([pad_token_id] * padding_length)\n",
        "\n",
        "        assert len(input_ids) == MAX_LEN, \"Error with input length {} vs {}\".format(len(input_ids), MAX_LEN)\n",
        "        assert len(attention_mask) == MAX_LEN, \"Error with input length {} vs {}\".format(len(attention_mask), MAX_LEN)\n",
        "        assert len(token_type_ids) == MAX_LEN, \"Error with input length {} vs {}\".format(len(token_type_ids), MAX_LEN)\n",
        "\n",
        "        choices_features.append({\n",
        "            \"input_ids\": input_ids,\n",
        "            \"attention_mask\": attention_mask,\n",
        "            \"token_type_ids\": token_type_ids,\n",
        "            })\n",
        "\n",
        "    labels = int(x[\"answer\"])\n",
        "    label = torch.tensor(labels).long()\n",
        "\n",
        "    return {\n",
        "            \"id\": x[\"id\"],\n",
        "            \"label\": label,\n",
        "            \"input_ids\": torch.tensor([cf[\"input_ids\"] for cf in choices_features]),\n",
        "            \"attention_mask\": torch.tensor([cf[\"attention_mask\"] for cf in choices_features]),\n",
        "            \"token_type_ids\": torch.tensor([cf[\"token_type_ids\"] for cf in choices_features]),\n",
        "            }\n",
        "\n",
        "\n",
        "def get_dataloader(tokenizer):\n",
        "    preprocessor = partial(preprocess, tokenizer)\n",
        "\n",
        "    train_dataloader = DataLoader(\n",
        "            train_dataset.map(preprocessor).save(\"train_cosmos.cache\"),\n",
        "            sampler=RandomSampler(train_dataset),\n",
        "            batch_size=BATCH_SIZE\n",
        "            )\n",
        "\n",
        "    val_dataloader = DataLoader(\n",
        "            val_dataset.map(preprocessor).save(\"val_cosmos.cache\"),\n",
        "            sampler=SequentialSampler(val_dataset),\n",
        "            batch_size=BATCH_SIZE\n",
        "            )\n",
        "\n",
        "    test_dataloader = DataLoader(\n",
        "            test_dataset.map(preprocessor).save(\"test_cosmos.cache\"),\n",
        "            sampler=SequentialSampler(test_dataset),\n",
        "            batch_size=BATCH_SIZE\n",
        "            )\n",
        "\n",
        "    return train_dataloader, val_dataloader, test_dataloader"
      ],
      "execution_count": 51,
      "outputs": []
    },
    {
      "cell_type": "markdown",
      "metadata": {
        "id": "if2spEILiO_b"
      },
      "source": [
        "# Create `tokenizer`"
      ]
    },
    {
      "cell_type": "code",
      "metadata": {
        "colab": {
          "base_uri": "https://localhost:8080/",
          "height": 115,
          "referenced_widgets": [
            "a52ff3ae37544a2da7f752761a645d87",
            "1e3c948d7bc54355bdd8dd0bd8feed69",
            "9242c953d2d348ab833525d4558cd81a",
            "88d72e6d303e450183e4ccee4287ce9f",
            "cb7f9b218ee049968388b69e46fea4d5",
            "b89c099a989f49e2be082c2b0074e024",
            "1d5f72eb4038454dade9dd987380cfa6",
            "0ad7f49018de48b8abcf2bbbd749dbd7",
            "d5d0f03073ec44afb4bf19e07af48433",
            "7c4813562fd64af0a36357bc88933f5c",
            "45e1076d8eb64cb7a590829ed69dda64",
            "9728249637e641dfa64ce02d47b96b8b",
            "888baed16cb74dc08d45f78d75cc4291",
            "3625dd87f30c436aa1f3d9d52495c828",
            "718f11019ffc4195923f930f48192889",
            "6793b242dff046deb281e4ad40b22e15"
          ]
        },
        "id": "xJwjShiQfVPt",
        "outputId": "04a8e99d-30f3-40d7-a7e8-1bec7902f580"
      },
      "source": [
        "tokenizer = AlbertTokenizer.from_pretrained(\"albert-base-v2\", do_lower_case=True)"
      ],
      "execution_count": 49,
      "outputs": [
        {
          "output_type": "display_data",
          "data": {
            "application/vnd.jupyter.widget-view+json": {
              "model_id": "a52ff3ae37544a2da7f752761a645d87",
              "version_minor": 0,
              "version_major": 2
            },
            "text/plain": [
              "HBox(children=(FloatProgress(value=0.0, description='Downloading', max=760289.0, style=ProgressStyle(descripti…"
            ]
          },
          "metadata": {
            "tags": []
          }
        },
        {
          "output_type": "stream",
          "text": [
            "\n"
          ],
          "name": "stdout"
        },
        {
          "output_type": "display_data",
          "data": {
            "application/vnd.jupyter.widget-view+json": {
              "model_id": "d5d0f03073ec44afb4bf19e07af48433",
              "version_minor": 0,
              "version_major": 2
            },
            "text/plain": [
              "HBox(children=(FloatProgress(value=0.0, description='Downloading', max=1312669.0, style=ProgressStyle(descript…"
            ]
          },
          "metadata": {
            "tags": []
          }
        },
        {
          "output_type": "stream",
          "text": [
            "\n"
          ],
          "name": "stdout"
        }
      ]
    },
    {
      "cell_type": "markdown",
      "metadata": {
        "id": "M8Pd9U_2iVWK"
      },
      "source": [
        "## Use function to get `train_dataloader`,  `val_dataloader` and `test_dataloader`"
      ]
    },
    {
      "cell_type": "code",
      "metadata": {
        "colab": {
          "base_uri": "https://localhost:8080/"
        },
        "id": "EhRy9Ir8fbBB",
        "outputId": "e5d7a269-1348-4c71-842f-22a2184a008d"
      },
      "source": [
        "train_dataloader, val_dataloader, test_dataloader = get_dataloader(tokenizer)"
      ],
      "execution_count": 52,
      "outputs": [
        {
          "output_type": "stream",
          "text": [
            "Truncation was not explicitly activated but `max_length` is provided a specific value, please use `truncation=True` to explicitly truncate examples to max length. Defaulting to 'longest_first' truncation strategy. If you encode pairs of sequences (GLUE-style) with the tokenizer you can select this strategy more precisely by providing a specific strategy to `truncation`.\n"
          ],
          "name": "stderr"
        },
        {
          "output_type": "stream",
          "text": [
            "Saving data to train_cosmos.cache...\n",
            "Saving data to val_cosmos.cache...\n",
            "Saving data to test_cosmos.cache...\n"
          ],
          "name": "stdout"
        }
      ]
    },
    {
      "cell_type": "markdown",
      "metadata": {
        "id": "7O3ETljNimOo"
      },
      "source": [
        "# Copy `cache` files into `Google Drive`"
      ]
    },
    {
      "cell_type": "code",
      "metadata": {
        "colab": {
          "base_uri": "https://localhost:8080/"
        },
        "id": "2G5CKJ_BgMl9",
        "outputId": "7dbb14db-60e7-436a-f5bf-751d2bfa00ae"
      },
      "source": [
        "from google.colab import drive\n",
        "drive.mount('/content/drive')"
      ],
      "execution_count": 53,
      "outputs": [
        {
          "output_type": "stream",
          "text": [
            "Mounted at /content/drive\n"
          ],
          "name": "stdout"
        }
      ]
    },
    {
      "cell_type": "code",
      "metadata": {
        "id": "U9jI55XygXZk"
      },
      "source": [
        "!cp train_cosmos.cache /content/drive/My\\ Drive/Cosmos/AlbertCache\n",
        "!cp val_cosmos.cache /content/drive/My\\ Drive/Cosmos/AlbertCache\n",
        "!cp test_cosmos.cache /content/drive/My\\ Drive/Cosmos/AlbertCache"
      ],
      "execution_count": 55,
      "outputs": []
    },
    {
      "cell_type": "code",
      "metadata": {
        "colab": {
          "base_uri": "https://localhost:8080/"
        },
        "id": "LJtdbEw4i4-g",
        "outputId": "b1871d09-43eb-4d66-9a1b-70deaa388253"
      },
      "source": [
        "print(len(train_dataloader))\n",
        "print(len(val_dataloader))\n",
        "print(len(test_dataloader))"
      ],
      "execution_count": 56,
      "outputs": [
        {
          "output_type": "stream",
          "text": [
            "3158\n",
            "374\n",
            "871\n"
          ],
          "name": "stdout"
        }
      ]
    }
  ]
}