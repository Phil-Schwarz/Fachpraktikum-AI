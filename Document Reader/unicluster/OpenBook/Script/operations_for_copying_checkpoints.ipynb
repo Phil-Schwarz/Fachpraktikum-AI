{
 "cells": [
  {
   "cell_type": "code",
   "execution_count": 1,
   "id": "intimate-belle",
   "metadata": {},
   "outputs": [],
   "source": [
    "!cp -r ./start_learning_rate=1e-5/ ./Second_Experiment"
   ]
  },
  {
   "cell_type": "code",
   "execution_count": 1,
   "id": "magnetic-technology",
   "metadata": {},
   "outputs": [],
   "source": [
    "!rm -r Second_Experiment"
   ]
  },
  {
   "cell_type": "code",
   "execution_count": 2,
   "id": "after-photograph",
   "metadata": {},
   "outputs": [],
   "source": [
    "!rm -r lr=2e-5"
   ]
  },
  {
   "cell_type": "code",
   "execution_count": 3,
   "id": "champion-buddy",
   "metadata": {},
   "outputs": [],
   "source": [
    "!rm -r lightning_logs"
   ]
  },
  {
   "cell_type": "code",
   "execution_count": 4,
   "id": "architectural-blackberry",
   "metadata": {},
   "outputs": [],
   "source": [
    "!rm -r ../Checkpoints/lr=2e-5"
   ]
  },
  {
   "cell_type": "code",
   "execution_count": 5,
   "id": "incorporated-papua",
   "metadata": {},
   "outputs": [],
   "source": [
    "!rm -r ../Checkpoints/Second_Experiment"
   ]
  },
  {
   "cell_type": "code",
   "execution_count": 6,
   "id": "successful-extension",
   "metadata": {},
   "outputs": [],
   "source": [
    "!cp -r without_document_retriever/Try1/ ./"
   ]
  },
  {
   "cell_type": "code",
   "execution_count": 1,
   "id": "editorial-market",
   "metadata": {},
   "outputs": [
    {
     "name": "stdout",
     "output_type": "stream",
     "text": [
      "/pfs/data5/home/st/st_us-051200/st_st169719/OpenBook/Script\n"
     ]
    }
   ],
   "source": [
    "!pwd"
   ]
  },
  {
   "cell_type": "code",
   "execution_count": 2,
   "id": "comprehensive-asthma",
   "metadata": {},
   "outputs": [],
   "source": [
    "!cp -r without_document_retriever/Try2/ ./"
   ]
  },
  {
   "cell_type": "code",
   "execution_count": null,
   "id": "welsh-sacramento",
   "metadata": {},
   "outputs": [],
   "source": []
  }
 ],
 "metadata": {
  "kernelspec": {
   "display_name": "Python 3",
   "language": "python",
   "name": "python3"
  },
  "language_info": {
   "codemirror_mode": {
    "name": "ipython",
    "version": 3
   },
   "file_extension": ".py",
   "mimetype": "text/x-python",
   "name": "python",
   "nbconvert_exporter": "python",
   "pygments_lexer": "ipython3",
   "version": "3.6.8"
  }
 },
 "nbformat": 4,
 "nbformat_minor": 5
}
