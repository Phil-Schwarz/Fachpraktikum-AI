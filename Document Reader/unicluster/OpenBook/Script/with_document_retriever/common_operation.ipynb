{
 "cells": [
  {
   "cell_type": "code",
   "execution_count": 1,
   "id": "7e323821-52e3-4926-bc8c-3b6744bd6865",
   "metadata": {},
   "outputs": [],
   "source": [
    "!rm -r start_learning_rate=2e-6"
   ]
  },
  {
   "cell_type": "code",
   "execution_count": 2,
   "id": "56121299-ed10-4945-ba27-f71d6c136020",
   "metadata": {},
   "outputs": [],
   "source": [
    "!rm -r /pfs/data5/home/st/st_us-051200/st_st169719/OpenBook/Checkpoints/with_document_retriever/DR2e-6"
   ]
  },
  {
   "cell_type": "code",
   "execution_count": null,
   "id": "f54554bd-874e-4e99-850b-2bb13c45f839",
   "metadata": {},
   "outputs": [],
   "source": []
  }
 ],
 "metadata": {
  "kernelspec": {
   "display_name": "Python 3",
   "language": "python",
   "name": "python3"
  },
  "language_info": {
   "codemirror_mode": {
    "name": "ipython",
    "version": 3
   },
   "file_extension": ".py",
   "mimetype": "text/x-python",
   "name": "python",
   "nbconvert_exporter": "python",
   "pygments_lexer": "ipython3",
   "version": "3.6.8"
  }
 },
 "nbformat": 4,
 "nbformat_minor": 5
}
