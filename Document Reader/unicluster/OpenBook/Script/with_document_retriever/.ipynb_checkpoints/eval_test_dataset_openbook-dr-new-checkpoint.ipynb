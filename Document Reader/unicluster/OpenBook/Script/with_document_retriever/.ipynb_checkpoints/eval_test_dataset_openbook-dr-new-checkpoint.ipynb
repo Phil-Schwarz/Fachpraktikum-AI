{
 "cells": [
  {
   "cell_type": "code",
   "execution_count": 1,
   "id": "driving-desire",
   "metadata": {},
   "outputs": [
    {
     "name": "stdout",
     "output_type": "stream",
     "text": [
      "['', '/home/st/st_us-051200/st_st169719/.local/lib/python3.6/site-packages', '/opt/bwhpc/common/jupyter/base/lib/python3.6/site-packages', '/usr/lib64/python36.zip', '/usr/lib64/python3.6', '/usr/lib64/python3.6/lib-dynload', '/pfs/data5/software_uc2/bwhpc/common/jupyter/base/lib64/python3.6/site-packages', '/pfs/data5/software_uc2/bwhpc/common/jupyter/base/lib/python3.6/site-packages', '/usr/lib64/python3.6/site-packages', '/usr/lib/python3.6/site-packages', '/opt/bwhpc/common/jupyter/base/lib/python3.6/site-packages/IPython/extensions', '/pfs/data5/home/st/st_us-051200/st_st169719/.ipython', '/pfs/data5/home/st/st_us-051200/st_st169719/third_party']\n"
     ]
    }
   ],
   "source": [
    "import sys\n",
    "sys.path.append(\"/pfs/data5/home/st/st_us-051200/st_st169719/third_party\")\n",
    "print(sys.path)"
   ]
  },
  {
   "cell_type": "code",
   "execution_count": 2,
   "id": "junior-forth",
   "metadata": {},
   "outputs": [],
   "source": [
    "from typing import Dict\n",
    "from pathlib import Path\n",
    "import json\n",
    "from functools import partial\n",
    "from collections import OrderedDict\n",
    "from argparse import ArgumentParser\n",
    "\n",
    "import lineflow as lf\n",
    "from transformers import AlbertForMultipleChoice, AlbertTokenizer, AdamW\n",
    "import pytorch_lightning as pl\n",
    "\n",
    "import torch\n",
    "from torch.utils.data import DataLoader, SequentialSampler, RandomSampler\n",
    "import json_lines\n",
    "from transformers import AlbertConfig\n",
    "import pickle\n",
    "from pytorch_lightning.metrics import functional as FM"
   ]
  },
  {
   "cell_type": "code",
   "execution_count": 3,
   "id": "japanese-advocate",
   "metadata": {},
   "outputs": [
    {
     "name": "stderr",
     "output_type": "stream",
     "text": [
      "Global seed set to 0\n"
     ]
    },
    {
     "data": {
      "text/plain": [
       "0"
      ]
     },
     "execution_count": 3,
     "metadata": {},
     "output_type": "execute_result"
    }
   ],
   "source": [
    "# fixed seed\n",
    "import torch\n",
    "torch.manual_seed(0)\n",
    "import random\n",
    "random.seed(0)\n",
    "import numpy as np\n",
    "np.random.seed(0)\n",
    "\n",
    "pl.utilities.seed.seed_everything(seed=0, workers=False)"
   ]
  },
  {
   "cell_type": "code",
   "execution_count": 4,
   "id": "congressional-calvin",
   "metadata": {},
   "outputs": [],
   "source": [
    "# fixed seed for generating dataset\n",
    "def seed_worker(worker_id):\n",
    "    worker_seed = torch.initial_seed() % 2**32\n",
    "    np.random.seed(worker_seed)\n",
    "    random.seed(worker_seed)"
   ]
  },
  {
   "cell_type": "code",
   "execution_count": 5,
   "id": "shaped-forum",
   "metadata": {},
   "outputs": [],
   "source": [
    "MAX_LEN = 512\n",
    "BATCH_SIZE = 32"
   ]
  },
  {
   "cell_type": "code",
   "execution_count": 6,
   "id": "governmental-license",
   "metadata": {},
   "outputs": [],
   "source": [
    "def load_dataloader_from_cache(cachedir :str):\n",
    "    cachedir = Path(cachedir)\n",
    "    \n",
    "    test_file_name = \"cache4_test_ob.cache\"\n",
    "    test_path = Path(cachedir / test_file_name)\n",
    "    if test_path.exists():\n",
    "        print(f'Loading data from {test_file_name}...')\n",
    "        with test_path.open('rb') as f:\n",
    "            test_cache = pickle.load(f)\n",
    "\n",
    "    test_dataloader = DataLoader(\n",
    "            lf.core.CacheDataset(test_cache),\n",
    "            batch_size=BATCH_SIZE,\n",
    "            worker_init_fn=seed_worker,\n",
    "            num_workers=40\n",
    "            )\n",
    "    return test_dataloader"
   ]
  },
  {
   "cell_type": "code",
   "execution_count": 7,
   "id": "stock-terrain",
   "metadata": {},
   "outputs": [],
   "source": [
    "class TestModel(pl.LightningModule):\n",
    "\n",
    "    def __init__(self, model, test_dataloader):\n",
    "        super(TestModel, self).__init__()\n",
    "\n",
    "        self.model = model\n",
    "        self._test_dataloader = test_dataloader\n",
    "\n",
    "    def test_step(self, batch, batch_idx):\n",
    "        labels = batch[\"label\"]\n",
    "        input_ids = batch[\"input_ids\"]\n",
    "        attention_mask = batch[\"attention_mask\"]\n",
    "        token_type_ids = batch[\"token_type_ids\"]\n",
    "\n",
    "        outputs = self.model(\n",
    "                input_ids,\n",
    "                token_type_ids=token_type_ids,\n",
    "                attention_mask=attention_mask,\n",
    "                labels=labels\n",
    "                )\n",
    "        \n",
    "        labels_hat = torch.argmax(outputs.logits, dim=1)\n",
    "\n",
    "        print(\"labels:\", labels)\n",
    "        print(\"labels_hat\", labels_hat)\n",
    "        \n",
    "        acc = FM.accuracy(labels_hat, labels)\n",
    "        self.log('test_acc', acc, on_step=True, on_epoch=True, prog_bar=True, logger=True)\n",
    "\n",
    "    def test_dataloader(self):\n",
    "        return self._test_dataloader"
   ]
  },
  {
   "cell_type": "code",
   "execution_count": 8,
   "id": "designing-marker",
   "metadata": {},
   "outputs": [
    {
     "name": "stdout",
     "output_type": "stream",
     "text": [
      "Loading data from cache4_test_ob.cache...\n"
     ]
    }
   ],
   "source": [
    "test_dataloader = load_dataloader_from_cache('/pfs/data5/home/st/st_us-051200/st_st169719/Philippe/Caches_New/')"
   ]
  },
  {
   "cell_type": "code",
   "execution_count": 9,
   "id": "funky-acting",
   "metadata": {},
   "outputs": [],
   "source": [
    "import glob\n",
    "path_list = glob.glob(\"/pfs/data5/home/st/st_us-051200/st_st169719/OpenBook/Checkpoints/DR2e-5/*/*.ckpt\")"
   ]
  },
  {
   "cell_type": "code",
   "execution_count": 10,
   "id": "burning-documentation",
   "metadata": {},
   "outputs": [
    {
     "name": "stdout",
     "output_type": "stream",
     "text": [
      "Model in path:/pfs/data5/home/st/st_us-051200/st_st169719/OpenBook/Checkpoints/DR2e-5/Ex03/dr_ex03-albert-openbook-epoch=02-val_acc_epoch=0.596.ckpt\n"
     ]
    },
    {
     "name": "stderr",
     "output_type": "stream",
     "text": [
      "GPU available: True, used: True\n",
      "TPU available: False, using: 0 TPU cores\n",
      "LOCAL_RANK: 0 - CUDA_VISIBLE_DEVICES: [0,1,2,3]\n"
     ]
    },
    {
     "data": {
      "application/vnd.jupyter.widget-view+json": {
       "model_id": "f978e798b06b4565882d0aadbc3617ef",
       "version_major": 2,
       "version_minor": 0
      },
      "text/plain": [
       "Testing: 0it [00:00, ?it/s]"
      ]
     },
     "metadata": {},
     "output_type": "display_data"
    },
    {
     "name": "stdout",
     "output_type": "stream",
     "text": [
      "tensor([1, 1, 3, 0, 3, 1, 2, 3], device='cuda:3') tensor([3, 1, 2, 1, 2, 0, 2, 3], device='cuda:1')tensor([1, 1, 1, 1, 3, 1, 2, 0], device='cuda:3')\n",
      " tensor([1, 0, 2, 2, 2, 2, 2, 1], device='cuda:0') tensor([2, 2, 0, 1, 0, 0, 0, 1], device='cuda:2') tensor([1, 0, 0, 1, 2, 0, 3, 3], device='cuda:1')\n",
      "tensor([2, 0, 0, 3, 2, 0, 0, 3], device='cuda:2')tensor([0, 0, 2, 2, 2, 2, 1, 1], device='cuda:0')\n",
      "\n",
      "tensor([3, 3, 0, 3, 0, 0, 0, 0], device='cuda:1') tensor([1, 2, 0, 3, 0, 3, 2, 0], device='cuda:2') tensor([2, 3, 1, 0, 2, 2, 0, 1], device='cuda:3') tensor([2, 3, 1, 1, 2, 1, 3, 0], device='cuda:1')\n",
      "tensor([1, 2, 2, 3, 1, 0, 3, 1], device='cuda:2')\n",
      "tensor([1, 1, 2, 0, 2, 2, 2, 0], device='cuda:3')tensor([1, 0, 1, 0, 0, 3, 3, 0], device='cuda:0') \n",
      "tensor([3, 3, 3, 2, 2, 2, 2, 0], device='cuda:0')\n",
      "tensor([2, 0, 0, 1, 3, 1, 3, 3], device='cuda:2') tensor([2, 0, 2, 1, 3, 3, 2, 2], device='cuda:2')\n",
      "tensor([2, 0, 2, 2, 0, 2, 1, 2], device='cuda:1') tensor([2, 0, 0, 3, 2, 0, 2, 2], device='cuda:3') tensor([2, 0, 2, 0, 0, 2, 1, 1], device='cuda:1')\n",
      "tensor([3, 1, 0, 3, 1, 3, 2, 2], device='cuda:3')\n",
      "tensor([1, 2, 0, 0, 0, 3, 1, 2], device='cuda:0') tensor([2, 2, 1, 0, 1, 3, 2, 2], device='cuda:0')\n",
      "tensor([1, 2, 0, 2, 3, 3, 0, 1], device='cuda:2') tensor([1, 3, 1, 0, 3, 2, 2, 1], device='cuda:1')tensor([1, 2, 0, 1, 3, 3, 3, 1], device='cuda:2') \n",
      "tensor([2, 1, 1, 0, 3, 2, 2, 2], device='cuda:1')\n",
      "tensor([2, 1, 0, 2, 1, 1, 0, 3], device='cuda:0') tensor([2, 1, 1, 2, 3, 3, 3, 3], device='cuda:0')\n",
      "tensor([0, 3, 0, 3, 1, 0, 0, 3], device='cuda:3') tensor([3, 1, 0, 3, 1, 1, 0, 1], device='cuda:3')\n",
      "tensor([3, 1, 1, 0, 2, 0, 3, 3], device='cuda:1') tensor([3, 3, 1, 1, 3, 0, 1, 3], device='cuda:1')\n",
      "tensor([0, 3, 0, 0, 0, 0, 2, 3], device='cuda:2') tensor([1, 3, 2, 1, 0, 3, 3, 3], device='cuda:2')\n",
      "tensor([1, 2, 0, 1, 0, 2, 2, 1], device='cuda:3') tensor([0, 3, 0, 2, 0, 2, 1, 1], device='cuda:3')\n",
      "tensor([1, 2, 1, 3, 2, 0, 3, 0], device='cuda:0') tensor([1, 0, 2, 1, 2, 0, 0, 0], device='cuda:0')\n",
      "tensor([1, 0, 3, 1, 2, 2, 2, 2], device='cuda:2') tensor([2, 1, 2, 0, 2, 0, 1, 1], device='cuda:1') tensor([0, 0, 1, 3, 3, 2, 2, 2], device='cuda:2')\n",
      "tensor([3, 3, 2, 0, 3, 0, 3, 1], device='cuda:1')\n",
      "tensor([3, 0, 3, 2, 3, 2, 2, 1], device='cuda:3') tensor([2, 0, 3, 2, 3, 3, 3, 1], device='cuda:3')\n",
      "tensor([2, 0, 1, 2, 0, 2, 0, 2], device='cuda:0') tensor([2, 3, 0, 1, 2, 0, 3, 2], device='cuda:0')\n",
      "tensor([1, 0, 1, 1, 3, 1, 1, 2], device='cuda:2') tensor([3, 3, 2, 0, 2, 2, 3, 3], device='cuda:1') tensor([1, 0, 1, 0, 3, 3, 2, 3], device='cuda:2')\n",
      "tensor([0, 0, 2, 2, 2, 1, 3, 2], device='cuda:1')\n",
      "tensor([3, 0, 2, 1, 0, 0, 2, 2], device='cuda:0') tensor([1, 0, 3, 3, 0, 0, 2, 2], device='cuda:0')\n",
      "tensor([2, 3, 3, 0, 0, 3, 0, 3], device='cuda:3') tensor([1, 3, 3, 0, 0, 1, 2, 3], device='cuda:3')\n",
      "tensor([0, 2, 2, 1, 0, 0, 2, 3], device='cuda:1') tensor([0, 3, 3, 1, 0, 0, 0, 2], device='cuda:2') tensor([0, 1, 2, 1, 3, 2, 2, 3], device='cuda:1')\n",
      "tensor([0, 2, 3, 3, 3, 2, 0, 2], device='cuda:2')\n",
      "tensor([3, 3, 3, 1, 2, 0, 1, 3], device='cuda:3') tensor([1, 2, 3, 1, 1, 1, 3, 1], device='cuda:0') tensor([0, 2, 3, 1, 0, 0, 2, 3], device='cuda:3')\n",
      "tensor([3, 3, 0, 2, 0, 0, 1, 1], device='cuda:0')\n",
      "tensor([1, 3, 3, 3, 1, 2, 3, 1], device='cuda:2') tensor([2, 3, 0, 2, 3, 3, 2, 0], device='cuda:1') tensor([1, 3, 3, 3, 1, 0, 3, 1], device='cuda:2')\n",
      "tensor([2, 3, 3, 0, 3, 2, 2, 2], device='cuda:1')\n",
      "tensor([0, 3, 2, 3, 1, 0, 1, 1], device='cuda:3') tensor([0, 3, 0, 3, 1, 1, 2, 1], device='cuda:3')\n",
      "tensor([3, 0, 3, 3, 1, 1, 1, 1], device='cuda:0') tensor([2, 0, 3, 1, 1, 1, 2, 3], device='cuda:0')\n",
      "tensor([3, 2, 2, 0, 1, 3, 3, 0], device='cuda:1') tensor([2, 3, 0, 3, 2, 1, 0, 3], device='cuda:1')\n",
      "tensor([2, 0, 2, 1, 2, 1, 1, 0], device='cuda:2') tensor([3, 1, 1, 1, 1, 1, 0, 0], device='cuda:2')\n",
      "tensor([1, 3, 1, 2, 2, 1, 1, 1], device='cuda:3') tensor([1, 2, 2, 2, 2, 1, 1, 2], device='cuda:3')\n",
      "tensor([1, 0, 0, 2, 2, 0, 0, 0], device='cuda:0') tensor([0, 1, 0, 1, 2, 1, 0, 2], device='cuda:0')\n",
      "tensor([2, 3, 0, 0, 3, 3, 1, 3], device='cuda:1') tensor([1, 0, 1, 0, 2, 1, 2, 0], device='cuda:2') tensor([2, 0, 0, 3, 3, 3, 2, 3], device='cuda:1')\n",
      "tensor([1, 1, 2, 2, 2, 0, 0, 1], device='cuda:2')\n",
      "tensor([3, 1, 0, 0, 0, 2, 1, 3], device='cuda:3') tensor([1, 1, 0, 3, 0, 2, 1, 3], device='cuda:3')\n",
      "tensor([0, 3, 1, 2, 3, 2, 0, 3], device='cuda:0') tensor([0, 1, 2, 3, 2, 1, 2, 3], device='cuda:0')\n",
      "tensor([3, 3, 1, 0, 2, 3, 1, 2], device='cuda:1') tensor([1, 1, 1, 2, 1, 0, 2, 0], device='cuda:2')tensor([3, 1, 1, 1, 0, 3, 1, 2], device='cuda:1') \n",
      "tensor([1, 1, 1, 1, 1, 3, 3, 0], device='cuda:2')\n",
      "tensor([1, 2, 3, 2, 1, 0, 3, 0], device='cuda:3') tensor([2, 0, 1, 0, 0, 1, 1, 1], device='cuda:0') tensor([3, 2, 3, 2, 1, 0, 0, 1], device='cuda:3')\n",
      "tensor([2, 1, 3, 0, 1, 0, 1, 1], device='cuda:0')\n",
      "tensor([0, 1, 2, 0, 3, 1, 0, 1], device='cuda:2') tensor([0, 1, 2, 0, 0, 1, 0, 1], device='cuda:2')\n",
      "tensor([1, 2, 0, 3, 0, 0, 3, 2], device='cuda:1') tensor([2, 1, 0, 1, 0, 2, 3, 3], device='cuda:1')\n",
      "tensor([3, 3, 3, 1, 0, 1, 1, 0], device='cuda:3') tensor([2, 0, 1, 3, 2, 0, 2, 1], device='cuda:0') tensor([1, 1, 2, 1, 1, 0, 2, 2], device='cuda:3')\n",
      "tensor([1, 0, 1, 3, 2, 3, 2, 1], device='cuda:0')\n",
      "tensor([1, 2, 1, 2, 0, 0, 0, 0], device='cuda:2') tensor([3, 2, 1, 2, 0, 0, 0, 2], device='cuda:2')\n",
      "tensor([0, 0, 2, 2, 0, 2, 0, 1], device='cuda:1') tensor([0, 0, 2, 2, 2, 3, 1, 1], device='cuda:1')\n",
      "tensor([2, 2, 0, 3, 3, 1, 1, 3], device='cuda:3') tensor([0, 1, 0, 3, 3, 3, 1, 2], device='cuda:3')tensor([0, 2, 0, 2, 2, 2, 2, 2], device='cuda:0') \n",
      "tensor([1, 3, 2, 2, 2, 1, 0, 2], device='cuda:0')\n",
      "tensor([1, 1, 2, 3, 1, 2, 2, 0], device='cuda:1') tensor([2, 2, 2, 2, 1, 0, 1, 1], device='cuda:2') tensor([1, 0, 2, 3, 1, 2, 0, 3], device='cuda:1')\n",
      "tensor([3, 2, 1, 0, 3, 1, 0, 2], device='cuda:2')\n",
      "tensor([2, 1, 3, 3, 2, 2, 1, 0], device='cuda:3') tensor([2, 1, 0, 3, 2, 0, 1, 1], device='cuda:3')\n",
      "tensor([3, 1, 0, 1, 0, 0, 1, 3], device='cuda:0') tensor([3, 1, 1, 0, 3, 3, 1, 0], device='cuda:0')\n",
      "tensor([2, 1, 3, 1, 1], device='cuda:1') tensor([0, 1, 3, 1, 2], device='cuda:1')\n",
      "tensor([0, 0, 2, 2, 0], device='cuda:2') tensor([1, 3, 1, 2, 0], device='cuda:2')\n",
      "tensor([0, 2, 2, 1, 2], device='cuda:3') tensor([0, 2, 3, 1, 0], device='cuda:3')\n",
      "tensor([3, 0, 3, 1, 2], device='cuda:0') tensor([2, 1, 2, 1, 3], device='cuda:0')\n",
      "--------------------------------------------------------------------------------\n",
      "DATALOADER:0 TEST RESULTS\n",
      "{'test_acc': 0.20000000298023224, 'test_acc_epoch': 0.3919871747493744}\n",
      "--------------------------------------------------------------------------------\n",
      "Model in path:/pfs/data5/home/st/st_us-051200/st_st169719/OpenBook/Checkpoints/DR2e-5/Ex03/dr_ex03-albert-openbook-epoch=00-val_loss_epoch=1.063.ckpt\n"
     ]
    },
    {
     "name": "stderr",
     "output_type": "stream",
     "text": [
      "GPU available: True, used: True\n",
      "TPU available: False, using: 0 TPU cores\n",
      "LOCAL_RANK: 0 - CUDA_VISIBLE_DEVICES: [0,1,2,3]\n"
     ]
    },
    {
     "data": {
      "application/vnd.jupyter.widget-view+json": {
       "model_id": "03991d796665435eb22899f41b46c400",
       "version_major": 2,
       "version_minor": 0
      },
      "text/plain": [
       "Testing: 0it [00:00, ?it/s]"
      ]
     },
     "metadata": {},
     "output_type": "display_data"
    },
    {
     "name": "stdout",
     "output_type": "stream",
     "text": [
      "tensor([1, 1, 3, 0, 3, 1, 2, 3], device='cuda:3') tensor([1, 1, 2, 3, 3, 1, 3, 0], device='cuda:3')\n",
      "tensor([3, 1, 2, 1, 2, 0, 2, 3], device='cuda:1') tensor([3, 0, 1, 1, 2, 0, 3, 3], device='cuda:1')\n",
      "tensor([1, 0, 2, 2, 2, 2, 2, 1], device='cuda:0') tensor([2, 2, 0, 1, 0, 0, 0, 1], device='cuda:2') tensor([2, 1, 2, 2, 2, 2, 2, 1], device='cuda:0')\n",
      "tensor([2, 3, 0, 2, 2, 0, 0, 1], device='cuda:2')\n",
      "tensor([3, 3, 0, 3, 0, 0, 0, 0], device='cuda:1') tensor([2, 3, 1, 0, 2, 2, 0, 1], device='cuda:3') tensor([1, 2, 0, 3, 0, 3, 2, 0], device='cuda:2') tensor([2, 3, 3, 1, 1, 1, 3, 0], device='cuda:1')\n",
      "tensor([1, 3, 2, 2, 3, 2, 2, 0], device='cuda:3')\n",
      "tensor([2, 2, 1, 3, 1, 0, 3, 1], device='cuda:2')\n",
      "tensor([1, 0, 1, 0, 0, 3, 3, 0], device='cuda:0') tensor([3, 3, 3, 2, 2, 2, 2, 0], device='cuda:0')\n",
      "tensor([2, 0, 2, 2, 0, 2, 1, 2], device='cuda:1') tensor([2, 0, 2, 0, 2, 2, 1, 1], device='cuda:1')\n",
      "tensor([2, 0, 0, 1, 3, 1, 3, 3], device='cuda:2') tensor([1, 0, 2, 1, 3, 3, 2, 2], device='cuda:2')\n",
      "tensor([2, 0, 0, 3, 2, 0, 2, 2], device='cuda:3') tensor([3, 0, 0, 3, 1, 0, 2, 2], device='cuda:3')\n",
      "tensor([1, 2, 0, 0, 0, 3, 1, 2], device='cuda:0') tensor([3, 2, 1, 2, 1, 3, 2, 1], device='cuda:0')\n",
      "tensor([1, 2, 0, 2, 3, 3, 0, 1], device='cuda:2') tensor([1, 3, 1, 0, 3, 2, 2, 1], device='cuda:1')tensor([1, 2, 0, 1, 3, 3, 3, 1], device='cuda:2')\n",
      " tensor([2, 1, 0, 2, 3, 2, 2, 2], device='cuda:1')\n",
      "tensor([0, 3, 0, 3, 1, 0, 0, 3], device='cuda:3') tensor([3, 1, 0, 3, 1, 1, 1, 1], device='cuda:3')\n",
      "tensor([2, 1, 0, 2, 1, 1, 0, 3], device='cuda:0') tensor([2, 1, 1, 2, 1, 3, 1, 3], device='cuda:0')\n",
      "tensor([3, 1, 1, 0, 2, 0, 3, 3], device='cuda:1') tensor([0, 3, 0, 0, 0, 0, 2, 3], device='cuda:2') tensor([3, 3, 1, 2, 3, 0, 2, 3], device='cuda:1')\n",
      "tensor([1, 3, 3, 1, 0, 0, 3, 3], device='cuda:2')\n",
      "tensor([1, 2, 0, 1, 0, 2, 2, 1], device='cuda:3') tensor([1, 3, 3, 2, 2, 2, 1, 0], device='cuda:3')\n",
      "tensor([1, 2, 1, 3, 2, 0, 3, 0], device='cuda:0') tensor([1, 0, 3, 1, 2, 1, 1, 0], device='cuda:0')\n",
      "tensor([1, 0, 3, 1, 2, 2, 2, 2], device='cuda:2') tensor([2, 1, 2, 0, 2, 0, 1, 1], device='cuda:1') tensor([1, 0, 2, 3, 3, 2, 2, 2], device='cuda:2')\n",
      "tensor([2, 3, 2, 0, 3, 0, 3, 1], device='cuda:1')\n",
      "tensor([3, 0, 3, 2, 3, 2, 2, 1], device='cuda:3') tensor([3, 0, 3, 2, 3, 3, 3, 1], device='cuda:3')\n",
      "tensor([2, 0, 1, 2, 0, 2, 0, 2], device='cuda:0') tensor([2, 2, 0, 1, 2, 0, 3, 2], device='cuda:0')\n",
      "tensor([1, 0, 1, 1, 3, 1, 1, 2], device='cuda:2') tensor([3, 3, 2, 0, 2, 2, 3, 3], device='cuda:1') tensor([1, 0, 1, 1, 3, 3, 2, 0], device='cuda:2')\n",
      "tensor([0, 0, 2, 2, 2, 1, 3, 0], device='cuda:1')\n",
      "tensor([2, 3, 3, 0, 0, 3, 0, 3], device='cuda:3') tensor([1, 3, 3, 0, 0, 1, 2, 3], device='cuda:3')\n",
      "tensor([3, 0, 2, 1, 0, 0, 2, 2], device='cuda:0') tensor([1, 0, 2, 3, 0, 0, 2, 2], device='cuda:0')\n",
      "tensor([0, 2, 2, 1, 0, 0, 2, 3], device='cuda:1') tensor([0, 3, 3, 1, 0, 0, 0, 2], device='cuda:2') tensor([0, 1, 2, 3, 3, 2, 2, 3], device='cuda:1')\n",
      "tensor([3, 3, 3, 1, 2, 0, 1, 3], device='cuda:3') tensor([0, 1, 2, 3, 3, 2, 0, 2], device='cuda:2')\n",
      "tensor([2, 2, 3, 1, 0, 0, 2, 3], device='cuda:3')\n",
      "tensor([1, 2, 3, 1, 1, 1, 3, 1], device='cuda:0') tensor([3, 2, 0, 2, 0, 1, 1, 1], device='cuda:0')\n",
      "tensor([1, 3, 3, 3, 1, 2, 3, 1], device='cuda:2') tensor([2, 3, 0, 2, 3, 3, 2, 0], device='cuda:1')tensor([1, 1, 3, 3, 1, 2, 3, 1], device='cuda:2')\n",
      " tensor([2, 3, 3, 0, 1, 3, 2, 2], device='cuda:1')\n",
      "tensor([0, 3, 2, 3, 1, 0, 1, 1], device='cuda:3') tensor([0, 3, 3, 3, 1, 1, 2, 3], device='cuda:3')\n",
      "tensor([3, 0, 3, 3, 1, 1, 1, 1], device='cuda:0') tensor([2, 3, 3, 3, 3, 1, 2, 3], device='cuda:0')\n",
      "tensor([3, 2, 2, 0, 1, 3, 3, 0], device='cuda:1') tensor([2, 0, 2, 1, 2, 1, 1, 0], device='cuda:2') tensor([2, 3, 0, 3, 2, 3, 1, 3], device='cuda:1')\n",
      "tensor([3, 1, 1, 1, 2, 1, 0, 0], device='cuda:2')tensor([1, 3, 1, 2, 2, 1, 1, 1], device='cuda:3') \n",
      "tensor([1, 3, 2, 2, 2, 3, 1, 2], device='cuda:3')\n",
      "tensor([1, 0, 0, 2, 2, 0, 0, 0], device='cuda:0') tensor([0, 3, 0, 1, 2, 3, 1, 2], device='cuda:0')\n",
      "tensor([2, 3, 0, 0, 3, 3, 1, 3], device='cuda:1') tensor([2, 2, 0, 1, 3, 3, 3, 3], device='cuda:1')\n",
      "tensor([1, 0, 1, 0, 2, 1, 2, 0], device='cuda:2') tensor([1, 0, 1, 2, 2, 0, 0, 0], device='cuda:2')\n",
      "tensor([3, 1, 0, 0, 0, 2, 1, 3], device='cuda:3') tensor([1, 1, 0, 3, 0, 2, 1, 1], device='cuda:3')\n",
      "tensor([0, 3, 1, 2, 3, 2, 0, 3], device='cuda:0') tensor([0, 1, 2, 2, 2, 1, 2, 3], device='cuda:0')\n",
      "tensor([3, 3, 1, 0, 2, 3, 1, 2], device='cuda:1') tensor([1, 1, 1, 2, 1, 0, 2, 0], device='cuda:2') tensor([3, 1, 1, 1, 0, 3, 1, 2], device='cuda:1')\n",
      "tensor([1, 1, 1, 1, 1, 3, 3, 0], device='cuda:2')\n",
      "tensor([2, 0, 1, 0, 0, 1, 1, 1], device='cuda:0') tensor([1, 2, 3, 2, 1, 0, 3, 0], device='cuda:3') tensor([2, 0, 3, 0, 1, 0, 1, 1], device='cuda:0')\n",
      "tensor([3, 2, 3, 2, 3, 0, 0, 1], device='cuda:3')\n",
      "tensor([1, 2, 0, 3, 0, 0, 3, 2], device='cuda:1') tensor([1, 1, 0, 1, 0, 2, 3, 3], device='cuda:1')\n",
      "tensor([0, 1, 2, 0, 3, 1, 0, 1], device='cuda:2') tensor([0, 1, 3, 0, 0, 1, 0, 1], device='cuda:2')\n",
      "tensor([3, 3, 3, 1, 0, 1, 1, 0], device='cuda:3') tensor([1, 1, 2, 1, 1, 1, 2, 2], device='cuda:3')\n",
      "tensor([2, 0, 1, 3, 2, 0, 2, 1], device='cuda:0') tensor([1, 0, 1, 3, 2, 3, 2, 1], device='cuda:0')\n",
      "tensor([1, 2, 1, 2, 0, 0, 0, 0], device='cuda:2') tensor([0, 0, 2, 2, 0, 2, 0, 1], device='cuda:1') tensor([3, 0, 1, 2, 0, 0, 0, 0], device='cuda:2')\n",
      "tensor([0, 0, 3, 2, 2, 3, 1, 1], device='cuda:1')\n",
      "tensor([2, 2, 0, 3, 3, 1, 1, 3], device='cuda:3') tensor([0, 1, 2, 3, 3, 3, 2, 2], device='cuda:3')\n",
      "tensor([0, 2, 0, 2, 2, 2, 2, 2], device='cuda:0') tensor([1, 2, 0, 2, 0, 0, 1, 2], device='cuda:0')\n",
      "tensor([1, 1, 2, 3, 1, 2, 2, 0], device='cuda:1') tensor([2, 2, 2, 2, 1, 0, 1, 1], device='cuda:2') tensor([2, 0, 2, 3, 1, 2, 0, 3], device='cuda:1')\n",
      "tensor([3, 2, 1, 0, 1, 1, 0, 2], device='cuda:2')tensor([2, 1, 3, 3, 2, 2, 1, 0], device='cuda:3') \n",
      "tensor([2, 2, 1, 3, 2, 3, 1, 1], device='cuda:3')\n",
      "tensor([3, 1, 0, 1, 0, 0, 1, 3], device='cuda:0') tensor([3, 1, 0, 0, 3, 3, 2, 0], device='cuda:0')\n",
      "tensor([0, 0, 2, 2, 0], device='cuda:2')tensor([2, 1, 3, 1, 1], device='cuda:1')  tensor([0, 2, 2, 1, 2], device='cuda:3')tensor([0, 1, 0, 1, 1], device='cuda:1') \n",
      "tensor([1, 3, 1, 2, 0], device='cuda:2')\n",
      "tensor([0, 2, 3, 1, 3], device='cuda:3')\n",
      "tensor([3, 0, 3, 1, 2], device='cuda:0') tensor([2, 1, 3, 1, 3], device='cuda:0')\n",
      "--------------------------------------------------------------------------------\n",
      "DATALOADER:0 TEST RESULTS\n",
      "{'test_acc': 0.4000000059604645, 'test_acc_epoch': 0.4266025722026825}\n",
      "--------------------------------------------------------------------------------\n",
      "Model in path:/pfs/data5/home/st/st_us-051200/st_st169719/OpenBook/Checkpoints/DR2e-5/Ex03/dr_ex03-albert-openbook-epoch=01-val_acc_epoch=0.606.ckpt\n"
     ]
    },
    {
     "name": "stderr",
     "output_type": "stream",
     "text": [
      "GPU available: True, used: True\n",
      "TPU available: False, using: 0 TPU cores\n",
      "LOCAL_RANK: 0 - CUDA_VISIBLE_DEVICES: [0,1,2,3]\n"
     ]
    },
    {
     "data": {
      "application/vnd.jupyter.widget-view+json": {
       "model_id": "e95cf91fac894246bbac37899abe962e",
       "version_major": 2,
       "version_minor": 0
      },
      "text/plain": [
       "Testing: 0it [00:00, ?it/s]"
      ]
     },
     "metadata": {},
     "output_type": "display_data"
    },
    {
     "name": "stdout",
     "output_type": "stream",
     "text": [
      "tensor([3, 1, 2, 1, 2, 0, 2, 3], device='cuda:1') tensor([1, 0, 1, 1, 2, 0, 3, 3], device='cuda:1')\n",
      "tensor([1, 0, 2, 2, 2, 2, 2, 1], device='cuda:0') tensor([1, 1, 3, 0, 3, 1, 2, 3], device='cuda:3') tensor([2, 2, 0, 1, 0, 0, 0, 1], device='cuda:2')tensor([2, 0, 2, 2, 2, 2, 2, 1], device='cuda:0') \n",
      "tensor([1, 1, 1, 1, 3, 1, 3, 0], device='cuda:3')\n",
      "tensor([2, 3, 0, 2, 2, 0, 0, 3], device='cuda:2')\n",
      "tensor([3, 3, 0, 3, 0, 0, 0, 0], device='cuda:1') tensor([1, 2, 0, 3, 0, 3, 2, 0], device='cuda:2')tensor([2, 3, 1, 1, 2, 1, 3, 0], device='cuda:1') \n",
      "tensor([2, 2, 2, 3, 1, 0, 3, 1], device='cuda:2')\n",
      "tensor([2, 3, 1, 0, 2, 2, 0, 1], device='cuda:3') tensor([1, 3, 0, 2, 3, 2, 2, 0], device='cuda:3')\n",
      "tensor([1, 0, 1, 0, 0, 3, 3, 0], device='cuda:0') tensor([3, 3, 3, 2, 2, 2, 2, 0], device='cuda:0')\n",
      "tensor([2, 0, 0, 1, 3, 1, 3, 3], device='cuda:2') tensor([2, 0, 2, 2, 0, 2, 1, 2], device='cuda:1') tensor([2, 0, 2, 1, 3, 3, 2, 2], device='cuda:2')\n",
      "tensor([2, 0, 2, 0, 0, 2, 1, 2], device='cuda:1')\n",
      "tensor([2, 0, 0, 3, 2, 0, 2, 2], device='cuda:3') tensor([3, 0, 0, 3, 1, 2, 2, 2], device='cuda:3')\n",
      "tensor([1, 2, 0, 0, 0, 3, 1, 2], device='cuda:0') tensor([2, 2, 1, 2, 1, 3, 2, 1], device='cuda:0')\n",
      "tensor([1, 3, 1, 0, 3, 2, 2, 1], device='cuda:1') tensor([2, 1, 0, 2, 3, 2, 2, 2], device='cuda:1')\n",
      "tensor([1, 2, 0, 2, 3, 3, 0, 1], device='cuda:2') tensor([1, 2, 0, 1, 3, 3, 3, 1], device='cuda:2')\n",
      "tensor([0, 3, 0, 3, 1, 0, 0, 3], device='cuda:3') tensor([3, 1, 0, 3, 1, 1, 0, 1], device='cuda:3')\n",
      "tensor([2, 1, 0, 2, 1, 1, 0, 3], device='cuda:0') tensor([2, 1, 1, 2, 3, 3, 0, 3], device='cuda:0')\n",
      "tensor([3, 1, 1, 0, 2, 0, 3, 3], device='cuda:1') tensor([3, 3, 1, 2, 3, 0, 2, 3], device='cuda:1')\n",
      "tensor([0, 3, 0, 0, 0, 0, 2, 3], device='cuda:2') tensor([1, 3, 3, 1, 0, 0, 3, 3], device='cuda:2')\n",
      "tensor([1, 2, 0, 1, 0, 2, 2, 1], device='cuda:3') tensor([0, 3, 3, 2, 0, 2, 1, 1], device='cuda:3')\n",
      "tensor([1, 2, 1, 3, 2, 0, 3, 0], device='cuda:0') tensor([1, 0, 2, 1, 2, 1, 1, 0], device='cuda:0')\n",
      "tensor([1, 0, 3, 1, 2, 2, 2, 2], device='cuda:2') tensor([2, 1, 2, 0, 2, 0, 1, 1], device='cuda:1')tensor([0, 0, 1, 3, 3, 2, 2, 2], device='cuda:2')\n",
      " tensor([3, 3, 2, 0, 3, 0, 3, 1], device='cuda:1')\n",
      "tensor([3, 0, 3, 2, 3, 2, 2, 1], device='cuda:3') tensor([3, 0, 3, 2, 3, 3, 3, 1], device='cuda:3')\n",
      "tensor([2, 0, 1, 2, 0, 2, 0, 2], device='cuda:0') tensor([2, 2, 0, 1, 2, 0, 0, 2], device='cuda:0')\n",
      "tensor([3, 3, 2, 0, 2, 2, 3, 3], device='cuda:1') tensor([0, 0, 2, 2, 2, 1, 3, 0], device='cuda:1')\n",
      "tensor([1, 0, 1, 1, 3, 1, 1, 2], device='cuda:2') tensor([1, 0, 1, 0, 3, 3, 2, 3], device='cuda:2')\n",
      "tensor([3, 0, 2, 1, 0, 0, 2, 2], device='cuda:0') tensor([2, 3, 3, 0, 0, 3, 0, 3], device='cuda:3') tensor([1, 0, 2, 3, 0, 0, 2, 2], device='cuda:0')\n",
      "tensor([1, 3, 3, 0, 0, 1, 2, 3], device='cuda:3')\n",
      "tensor([0, 2, 2, 1, 0, 0, 2, 3], device='cuda:1') tensor([0, 3, 3, 1, 0, 0, 0, 2], device='cuda:2') tensor([0, 1, 2, 1, 3, 2, 2, 3], device='cuda:1')\n",
      "tensor([0, 1, 3, 3, 3, 2, 0, 2], device='cuda:2')\n",
      "tensor([3, 3, 3, 1, 2, 0, 1, 3], device='cuda:3') tensor([1, 2, 3, 1, 1, 1, 3, 1], device='cuda:0') tensor([2, 2, 3, 1, 0, 0, 2, 3], device='cuda:3')\n",
      "tensor([3, 2, 0, 2, 0, 0, 1, 1], device='cuda:0')\n",
      "tensor([1, 3, 3, 3, 1, 2, 3, 1], device='cuda:2') tensor([2, 3, 0, 2, 3, 3, 2, 0], device='cuda:1')tensor([1, 3, 3, 3, 1, 0, 3, 1], device='cuda:2')\n",
      " tensor([2, 3, 3, 0, 3, 3, 2, 2], device='cuda:1')\n",
      "tensor([0, 3, 2, 3, 1, 0, 1, 1], device='cuda:3')tensor([3, 0, 3, 3, 1, 1, 1, 1], device='cuda:0')  tensor([2, 3, 3, 1, 3, 1, 2, 3], device='cuda:0')\n",
      "tensor([0, 3, 3, 3, 1, 1, 2, 1], device='cuda:3')\n",
      "tensor([2, 0, 2, 1, 2, 1, 1, 0], device='cuda:2') tensor([3, 1, 1, 1, 1, 1, 0, 0], device='cuda:2')\n",
      "tensor([3, 2, 2, 0, 1, 3, 3, 0], device='cuda:1') tensor([2, 3, 0, 3, 2, 1, 0, 3], device='cuda:1')tensor([1, 3, 1, 2, 2, 1, 1, 1], device='cuda:3') \n",
      "tensor([1, 2, 2, 2, 2, 1, 1, 2], device='cuda:3')\n",
      "tensor([1, 0, 0, 2, 2, 0, 0, 0], device='cuda:0') tensor([0, 3, 0, 1, 2, 3, 0, 2], device='cuda:0')\n",
      "tensor([2, 3, 0, 0, 3, 3, 1, 3], device='cuda:1') tensor([2, 0, 0, 1, 3, 3, 3, 3], device='cuda:1')\n",
      "tensor([1, 0, 1, 0, 2, 1, 2, 0], device='cuda:2') tensor([1, 0, 2, 2, 2, 0, 0, 1], device='cuda:2')\n",
      "tensor([3, 1, 0, 0, 0, 2, 1, 3], device='cuda:3') tensor([1, 1, 0, 3, 0, 2, 1, 3], device='cuda:3')\n",
      "tensor([0, 3, 1, 2, 3, 2, 0, 3], device='cuda:0') tensor([0, 1, 2, 2, 2, 1, 2, 3], device='cuda:0')\n",
      "tensor([3, 3, 1, 0, 2, 3, 1, 2], device='cuda:1') tensor([3, 1, 1, 1, 0, 3, 1, 2], device='cuda:1')\n",
      "tensor([1, 1, 1, 2, 1, 0, 2, 0], device='cuda:2') tensor([1, 1, 1, 1, 1, 3, 3, 0], device='cuda:2')\n",
      "tensor([1, 2, 3, 2, 1, 0, 3, 0], device='cuda:3') tensor([2, 0, 1, 0, 0, 1, 1, 1], device='cuda:0')tensor([3, 2, 3, 2, 1, 0, 0, 1], device='cuda:3')\n",
      " tensor([2, 0, 3, 0, 1, 0, 1, 1], device='cuda:0')\n",
      "tensor([1, 2, 0, 3, 0, 0, 3, 2], device='cuda:1') tensor([2, 1, 0, 1, 0, 2, 3, 3], device='cuda:1')\n",
      "tensor([3, 3, 3, 1, 0, 1, 1, 0], device='cuda:3') tensor([0, 1, 2, 0, 3, 1, 0, 1], device='cuda:2') tensor([1, 1, 2, 1, 1, 1, 2, 2], device='cuda:3')\n",
      "tensor([0, 1, 2, 1, 0, 1, 0, 1], device='cuda:2')\n",
      "tensor([2, 0, 1, 3, 2, 0, 2, 1], device='cuda:0') tensor([1, 0, 1, 3, 2, 3, 2, 1], device='cuda:0')\n",
      "tensor([0, 0, 2, 2, 0, 2, 0, 1], device='cuda:1') tensor([1, 2, 1, 2, 0, 0, 0, 0], device='cuda:2') tensor([0, 0, 2, 2, 2, 3, 1, 1], device='cuda:1')\n",
      "tensor([3, 2, 1, 2, 0, 0, 0, 2], device='cuda:2')\n",
      "tensor([0, 2, 0, 2, 2, 2, 2, 2], device='cuda:0') tensor([2, 2, 0, 3, 3, 1, 1, 3], device='cuda:3') tensor([1, 2, 2, 2, 2, 1, 0, 2], device='cuda:0')\n",
      "tensor([0, 1, 2, 3, 3, 3, 2, 2], device='cuda:3')\n",
      "tensor([2, 2, 2, 2, 1, 0, 1, 1], device='cuda:2') tensor([1, 1, 2, 3, 1, 2, 2, 0], device='cuda:1') tensor([3, 2, 1, 0, 1, 1, 1, 2], device='cuda:2')\n",
      "tensor([1, 0, 2, 3, 1, 2, 0, 3], device='cuda:1')\n",
      "tensor([2, 1, 3, 3, 2, 2, 1, 0], device='cuda:3') tensor([3, 1, 0, 1, 0, 0, 1, 3], device='cuda:0')tensor([2, 2, 0, 3, 2, 3, 1, 1], device='cuda:3') \n",
      "tensor([3, 1, 1, 0, 3, 3, 2, 0], device='cuda:0')\n",
      "tensor([2, 1, 3, 1, 1], device='cuda:1') tensor([0, 1, 0, 1, 1], device='cuda:1')tensor([0, 0, 2, 2, 0], device='cuda:2')\n",
      " tensor([1, 3, 1, 2, 0], device='cuda:2')\n",
      "tensor([0, 2, 2, 1, 2], device='cuda:3') tensor([0, 2, 3, 1, 3], device='cuda:3')\n",
      "tensor([3, 0, 3, 1, 2], device='cuda:0') tensor([2, 1, 2, 1, 3], device='cuda:0')\n",
      "--------------------------------------------------------------------------------\n",
      "DATALOADER:0 TEST RESULTS\n",
      "{'test_acc': 0.20000000298023224, 'test_acc_epoch': 0.3791666626930237}\n",
      "--------------------------------------------------------------------------------\n",
      "Model in path:/pfs/data5/home/st/st_us-051200/st_st169719/OpenBook/Checkpoints/DR2e-5/Ex03/dr_ex03-albert-openbook-epoch=01-val_loss_epoch=1.194.ckpt\n"
     ]
    },
    {
     "name": "stderr",
     "output_type": "stream",
     "text": [
      "GPU available: True, used: True\n",
      "TPU available: False, using: 0 TPU cores\n",
      "LOCAL_RANK: 0 - CUDA_VISIBLE_DEVICES: [0,1,2,3]\n"
     ]
    },
    {
     "data": {
      "application/vnd.jupyter.widget-view+json": {
       "model_id": "3c0e10d0f7a74442b5b12f709c153d9f",
       "version_major": 2,
       "version_minor": 0
      },
      "text/plain": [
       "Testing: 0it [00:00, ?it/s]"
      ]
     },
     "metadata": {},
     "output_type": "display_data"
    },
    {
     "name": "stdout",
     "output_type": "stream",
     "text": [
      "tensor([3, 1, 2, 1, 2, 0, 2, 3], device='cuda:1') tensor([1, 0, 2, 2, 2, 2, 2, 1], device='cuda:0')tensor([1, 0, 1, 1, 2, 0, 3, 3], device='cuda:1') \n",
      "tensor([2, 0, 2, 2, 2, 2, 2, 1], device='cuda:0')\n",
      "tensor([2, 2, 0, 1, 0, 0, 0, 1], device='cuda:2') tensor([2, 3, 0, 2, 2, 0, 0, 3], device='cuda:2')\n",
      "tensor([1, 1, 3, 0, 3, 1, 2, 3], device='cuda:3') tensor([1, 1, 1, 1, 3, 1, 3, 0], device='cuda:3')\n",
      "tensor([1, 2, 0, 3, 0, 3, 2, 0], device='cuda:2') tensor([3, 3, 0, 3, 0, 0, 0, 0], device='cuda:1') tensor([2, 2, 2, 3, 1, 0, 3, 1], device='cuda:2')\n",
      "tensor([2, 3, 1, 1, 2, 1, 3, 0], device='cuda:1')\n",
      "tensor([2, 3, 1, 0, 2, 2, 0, 1], device='cuda:3') tensor([1, 3, 0, 2, 3, 2, 2, 0], device='cuda:3')\n",
      "tensor([1, 0, 1, 0, 0, 3, 3, 0], device='cuda:0') tensor([3, 3, 3, 2, 2, 2, 2, 0], device='cuda:0')\n",
      "tensor([2, 0, 2, 2, 0, 2, 1, 2], device='cuda:1') tensor([2, 0, 2, 0, 0, 2, 1, 2], device='cuda:1')\n",
      "tensor([2, 0, 0, 1, 3, 1, 3, 3], device='cuda:2') tensor([2, 0, 2, 1, 3, 3, 2, 2], device='cuda:2')\n",
      "tensor([2, 0, 0, 3, 2, 0, 2, 2], device='cuda:3') tensor([3, 0, 0, 3, 1, 2, 2, 2], device='cuda:3')\n",
      "tensor([1, 2, 0, 0, 0, 3, 1, 2], device='cuda:0') tensor([2, 2, 1, 2, 1, 3, 2, 1], device='cuda:0')\n",
      "tensor([1, 3, 1, 0, 3, 2, 2, 1], device='cuda:1') tensor([1, 2, 0, 2, 3, 3, 0, 1], device='cuda:2')tensor([2, 1, 0, 2, 3, 2, 2, 2], device='cuda:1')\n",
      " tensor([1, 2, 0, 1, 3, 3, 3, 1], device='cuda:2')\n",
      "tensor([2, 1, 0, 2, 1, 1, 0, 3], device='cuda:0') tensor([0, 3, 0, 3, 1, 0, 0, 3], device='cuda:3') tensor([2, 1, 1, 2, 3, 3, 0, 3], device='cuda:0')\n",
      "tensor([3, 1, 0, 3, 1, 1, 0, 1], device='cuda:3')\n",
      "tensor([0, 3, 0, 0, 0, 0, 2, 3], device='cuda:2') tensor([3, 1, 1, 0, 2, 0, 3, 3], device='cuda:1') tensor([1, 3, 3, 1, 0, 0, 3, 3], device='cuda:2')\n",
      "tensor([3, 3, 1, 2, 3, 0, 2, 3], device='cuda:1')\n",
      "tensor([1, 2, 0, 1, 0, 2, 2, 1], device='cuda:3') tensor([0, 3, 3, 2, 0, 2, 1, 1], device='cuda:3')\n",
      "tensor([1, 2, 1, 3, 2, 0, 3, 0], device='cuda:0') tensor([1, 0, 2, 1, 2, 1, 1, 0], device='cuda:0')\n",
      "tensor([2, 1, 2, 0, 2, 0, 1, 1], device='cuda:1') tensor([3, 3, 2, 0, 3, 0, 3, 1], device='cuda:1')\n",
      "tensor([1, 0, 3, 1, 2, 2, 2, 2], device='cuda:2') tensor([0, 0, 1, 3, 3, 2, 2, 2], device='cuda:2')\n",
      "tensor([3, 0, 3, 2, 3, 2, 2, 1], device='cuda:3') tensor([3, 0, 3, 2, 3, 3, 3, 1], device='cuda:3')\n",
      "tensor([2, 0, 1, 2, 0, 2, 0, 2], device='cuda:0') tensor([2, 2, 0, 1, 2, 0, 0, 2], device='cuda:0')\n",
      "tensor([1, 0, 1, 1, 3, 1, 1, 2], device='cuda:2') tensor([1, 0, 1, 0, 3, 3, 2, 3], device='cuda:2')\n",
      "tensor([3, 3, 2, 0, 2, 2, 3, 3], device='cuda:1') tensor([0, 0, 2, 2, 2, 1, 3, 0], device='cuda:1')\n",
      "tensor([2, 3, 3, 0, 0, 3, 0, 3], device='cuda:3') tensor([1, 3, 3, 0, 0, 1, 2, 3], device='cuda:3')\n",
      "tensor([3, 0, 2, 1, 0, 0, 2, 2], device='cuda:0') tensor([1, 0, 2, 3, 0, 0, 2, 2], device='cuda:0')\n",
      "tensor([0, 2, 2, 1, 0, 0, 2, 3], device='cuda:1') tensor([0, 1, 2, 1, 3, 2, 2, 3], device='cuda:1')\n",
      "tensor([0, 3, 3, 1, 0, 0, 0, 2], device='cuda:2') tensor([0, 1, 3, 3, 3, 2, 0, 2], device='cuda:2')\n",
      "tensor([3, 3, 3, 1, 2, 0, 1, 3], device='cuda:3') tensor([2, 2, 3, 1, 0, 0, 2, 3], device='cuda:3')\n",
      "tensor([1, 2, 3, 1, 1, 1, 3, 1], device='cuda:0') tensor([3, 2, 0, 2, 0, 0, 1, 1], device='cuda:0')\n",
      "tensor([1, 3, 3, 3, 1, 2, 3, 1], device='cuda:2') tensor([1, 3, 3, 3, 1, 0, 3, 1], device='cuda:2')\n",
      "tensor([2, 3, 0, 2, 3, 3, 2, 0], device='cuda:1') tensor([2, 3, 3, 0, 3, 3, 2, 2], device='cuda:1')\n",
      "tensor([0, 3, 2, 3, 1, 0, 1, 1], device='cuda:3') tensor([3, 0, 3, 3, 1, 1, 1, 1], device='cuda:0') tensor([0, 3, 3, 3, 1, 1, 2, 1], device='cuda:3')\n",
      "tensor([2, 3, 3, 1, 3, 1, 2, 3], device='cuda:0')\n",
      "tensor([2, 0, 2, 1, 2, 1, 1, 0], device='cuda:2') tensor([3, 2, 2, 0, 1, 3, 3, 0], device='cuda:1') tensor([3, 1, 1, 1, 1, 1, 0, 0], device='cuda:2')\n",
      "tensor([2, 3, 0, 3, 2, 1, 0, 3], device='cuda:1')\n",
      "tensor([1, 3, 1, 2, 2, 1, 1, 1], device='cuda:3') tensor([1, 0, 0, 2, 2, 0, 0, 0], device='cuda:0') tensor([1, 2, 2, 2, 2, 1, 1, 2], device='cuda:3')\n",
      "tensor([0, 3, 0, 1, 2, 3, 0, 2], device='cuda:0')\n",
      "tensor([2, 3, 0, 0, 3, 3, 1, 3], device='cuda:1') tensor([2, 0, 0, 1, 3, 3, 3, 3], device='cuda:1')\n",
      "tensor([1, 0, 1, 0, 2, 1, 2, 0], device='cuda:2') tensor([1, 0, 2, 2, 2, 0, 0, 1], device='cuda:2')\n",
      "tensor([3, 1, 0, 0, 0, 2, 1, 3], device='cuda:3') tensor([1, 1, 0, 3, 0, 2, 1, 3], device='cuda:3')\n",
      "tensor([0, 3, 1, 2, 3, 2, 0, 3], device='cuda:0') tensor([0, 1, 2, 2, 2, 1, 2, 3], device='cuda:0')\n",
      "tensor([1, 1, 1, 2, 1, 0, 2, 0], device='cuda:2') tensor([3, 3, 1, 0, 2, 3, 1, 2], device='cuda:1') tensor([1, 1, 1, 1, 1, 3, 3, 0], device='cuda:2')\n",
      "tensor([3, 1, 1, 1, 0, 3, 1, 2], device='cuda:1')\n",
      "tensor([1, 2, 3, 2, 1, 0, 3, 0], device='cuda:3') tensor([3, 2, 3, 2, 1, 0, 0, 1], device='cuda:3')\n",
      "tensor([2, 0, 1, 0, 0, 1, 1, 1], device='cuda:0') tensor([2, 0, 3, 0, 1, 0, 1, 1], device='cuda:0')\n",
      "tensor([1, 2, 0, 3, 0, 0, 3, 2], device='cuda:1') tensor([2, 1, 0, 1, 0, 2, 3, 3], device='cuda:1')\n",
      "tensor([0, 1, 2, 0, 3, 1, 0, 1], device='cuda:2') tensor([0, 1, 2, 1, 0, 1, 0, 1], device='cuda:2')\n",
      "tensor([3, 3, 3, 1, 0, 1, 1, 0], device='cuda:3') tensor([1, 1, 2, 1, 1, 1, 2, 2], device='cuda:3')\n",
      "tensor([2, 0, 1, 3, 2, 0, 2, 1], device='cuda:0') tensor([1, 0, 1, 3, 2, 3, 2, 1], device='cuda:0')\n",
      "tensor([0, 0, 2, 2, 0, 2, 0, 1], device='cuda:1') tensor([0, 0, 2, 2, 2, 3, 1, 1], device='cuda:1')\n",
      "tensor([1, 2, 1, 2, 0, 0, 0, 0], device='cuda:2') tensor([3, 2, 1, 2, 0, 0, 0, 2], device='cuda:2')\n",
      "tensor([2, 2, 0, 3, 3, 1, 1, 3], device='cuda:3')tensor([0, 2, 0, 2, 2, 2, 2, 2], device='cuda:0')  tensor([1, 2, 2, 2, 2, 1, 0, 2], device='cuda:0')tensor([0, 1, 2, 3, 3, 3, 2, 2], device='cuda:3')\n",
      "\n",
      "tensor([2, 2, 2, 2, 1, 0, 1, 1], device='cuda:2') tensor([3, 2, 1, 0, 1, 1, 1, 2], device='cuda:2')\n",
      "tensor([1, 1, 2, 3, 1, 2, 2, 0], device='cuda:1') tensor([1, 0, 2, 3, 1, 2, 0, 3], device='cuda:1')\n",
      "tensor([2, 1, 3, 3, 2, 2, 1, 0], device='cuda:3') tensor([2, 2, 0, 3, 2, 3, 1, 1], device='cuda:3')\n",
      "tensor([3, 1, 0, 1, 0, 0, 1, 3], device='cuda:0') tensor([3, 1, 1, 0, 3, 3, 2, 0], device='cuda:0')\n",
      "tensor([2, 1, 3, 1, 1], device='cuda:1') tensor([0, 1, 0, 1, 1], device='cuda:1')\n",
      "tensor([0, 0, 2, 2, 0], device='cuda:2') tensor([1, 3, 1, 2, 0], device='cuda:2')\n",
      "tensor([0, 2, 2, 1, 2], device='cuda:3') tensor([0, 2, 3, 1, 3], device='cuda:3')\n",
      "tensor([3, 0, 3, 1, 2], device='cuda:0') tensor([2, 1, 2, 1, 3], device='cuda:0')\n",
      "--------------------------------------------------------------------------------\n",
      "DATALOADER:0 TEST RESULTS\n",
      "{'test_acc': 0.20000000298023224, 'test_acc_epoch': 0.3759615421295166}\n",
      "--------------------------------------------------------------------------------\n",
      "Model in path:/pfs/data5/home/st/st_us-051200/st_st169719/OpenBook/Checkpoints/DR2e-5/Ex02/dr_ex02-albert-openbook-epoch=01-val_loss_epoch=1.492.ckpt\n"
     ]
    },
    {
     "name": "stderr",
     "output_type": "stream",
     "text": [
      "GPU available: True, used: True\n",
      "TPU available: False, using: 0 TPU cores\n",
      "LOCAL_RANK: 0 - CUDA_VISIBLE_DEVICES: [0,1,2,3]\n"
     ]
    },
    {
     "data": {
      "application/vnd.jupyter.widget-view+json": {
       "model_id": "d8b9ed9fea93445eae1e4e6f8126ac5c",
       "version_major": 2,
       "version_minor": 0
      },
      "text/plain": [
       "Testing: 0it [00:00, ?it/s]"
      ]
     },
     "metadata": {},
     "output_type": "display_data"
    },
    {
     "name": "stdout",
     "output_type": "stream",
     "text": [
      "tensor([1, 0, 2, 2, 2, 2, 2, 1], device='cuda:0') tensor([0, 0, 2, 2, 2, 0, 1, 1], device='cuda:0')\n",
      "tensor([3, 1, 2, 1, 2, 0, 2, 3], device='cuda:1') tensor([1, 1, 3, 0, 3, 1, 2, 3], device='cuda:3') tensor([1, 0, 1, 1, 2, 0, 3, 3], device='cuda:1')\n",
      "tensor([1, 1, 2, 3, 3, 1, 2, 1], device='cuda:3')\n",
      "tensor([2, 2, 0, 1, 0, 0, 0, 1], device='cuda:2') tensor([2, 0, 0, 3, 2, 0, 0, 3], device='cuda:2')\n",
      "tensor([3, 3, 0, 3, 0, 0, 0, 0], device='cuda:1') tensor([2, 3, 1, 0, 2, 0, 3, 0], device='cuda:1')\n",
      "tensor([1, 2, 0, 3, 0, 3, 2, 0], device='cuda:2') tensor([1, 2, 1, 3, 1, 0, 3, 1], device='cuda:2')\n",
      "tensor([2, 3, 1, 0, 2, 2, 0, 1], device='cuda:3') tensor([0, 1, 3, 0, 3, 2, 2, 0], device='cuda:3')\n",
      "tensor([1, 0, 1, 0, 0, 3, 3, 0], device='cuda:0') tensor([3, 3, 2, 2, 2, 2, 2, 0], device='cuda:0')\n",
      "tensor([2, 0, 2, 2, 0, 2, 1, 2], device='cuda:1') tensor([2, 0, 2, 2, 0, 2, 1, 2], device='cuda:1')\n",
      "tensor([2, 0, 0, 1, 3, 1, 3, 3], device='cuda:2') tensor([1, 0, 2, 1, 3, 3, 2, 2], device='cuda:2')\n",
      "tensor([2, 0, 0, 3, 2, 0, 2, 2], device='cuda:3') tensor([3, 0, 0, 3, 1, 3, 2, 2], device='cuda:3')\n",
      "tensor([1, 2, 0, 0, 0, 3, 1, 2], device='cuda:0') tensor([3, 2, 1, 1, 1, 3, 2, 2], device='cuda:0')\n"
     ]
    },
    {
     "ename": "KeyboardInterrupt",
     "evalue": "",
     "output_type": "error",
     "traceback": [
      "\u001b[0;31m---------------------------------------------------------------------------\u001b[0m",
      "\u001b[0;31mKeyboardInterrupt\u001b[0m                         Traceback (most recent call last)",
      "\u001b[0;32m<ipython-input-10-4632ab99f9b1>\u001b[0m in \u001b[0;36m<module>\u001b[0;34m\u001b[0m\n\u001b[1;32m     18\u001b[0m     \u001b[0mtrainer_for_test\u001b[0m \u001b[0;34m=\u001b[0m \u001b[0mpl\u001b[0m\u001b[0;34m.\u001b[0m\u001b[0mTrainer\u001b[0m\u001b[0;34m(\u001b[0m\u001b[0mgpus\u001b[0m\u001b[0;34m=\u001b[0m\u001b[0;36m4\u001b[0m\u001b[0;34m,\u001b[0m \u001b[0maccelerator\u001b[0m\u001b[0;34m=\u001b[0m\u001b[0;34m'dp'\u001b[0m\u001b[0;34m)\u001b[0m\u001b[0;34m\u001b[0m\u001b[0;34m\u001b[0m\u001b[0m\n\u001b[1;32m     19\u001b[0m     \u001b[0mmodel_for_test\u001b[0m \u001b[0;34m=\u001b[0m \u001b[0mTestModel\u001b[0m\u001b[0;34m(\u001b[0m\u001b[0mm\u001b[0m\u001b[0;34m,\u001b[0m \u001b[0mtest_dataloader\u001b[0m\u001b[0;34m)\u001b[0m\u001b[0;34m\u001b[0m\u001b[0;34m\u001b[0m\u001b[0m\n\u001b[0;32m---> 20\u001b[0;31m     \u001b[0mtrainer_for_test\u001b[0m\u001b[0;34m.\u001b[0m\u001b[0mtest\u001b[0m\u001b[0;34m(\u001b[0m\u001b[0mmodel\u001b[0m\u001b[0;34m=\u001b[0m\u001b[0mmodel_for_test\u001b[0m\u001b[0;34m)\u001b[0m\u001b[0;34m\u001b[0m\u001b[0;34m\u001b[0m\u001b[0m\n\u001b[0m",
      "\u001b[0;32m/pfs/data5/home/st/st_us-051200/st_st169719/third_party/pytorch_lightning/trainer/trainer.py\u001b[0m in \u001b[0;36mtest\u001b[0;34m(self, model, test_dataloaders, ckpt_path, verbose, datamodule)\u001b[0m\n\u001b[1;32m    577\u001b[0m \u001b[0;34m\u001b[0m\u001b[0m\n\u001b[1;32m    578\u001b[0m         \u001b[0;31m# run test\u001b[0m\u001b[0;34m\u001b[0m\u001b[0;34m\u001b[0m\u001b[0;34m\u001b[0m\u001b[0m\n\u001b[0;32m--> 579\u001b[0;31m         \u001b[0mresults\u001b[0m \u001b[0;34m=\u001b[0m \u001b[0mself\u001b[0m\u001b[0;34m.\u001b[0m\u001b[0m_run\u001b[0m\u001b[0;34m(\u001b[0m\u001b[0mmodel\u001b[0m\u001b[0;34m)\u001b[0m\u001b[0;34m\u001b[0m\u001b[0;34m\u001b[0m\u001b[0m\n\u001b[0m\u001b[1;32m    580\u001b[0m \u001b[0;34m\u001b[0m\u001b[0m\n\u001b[1;32m    581\u001b[0m         \u001b[0;32massert\u001b[0m \u001b[0mself\u001b[0m\u001b[0;34m.\u001b[0m\u001b[0mstate\u001b[0m\u001b[0;34m.\u001b[0m\u001b[0mstopped\u001b[0m\u001b[0;34m\u001b[0m\u001b[0;34m\u001b[0m\u001b[0m\n",
      "\u001b[0;32m/pfs/data5/home/st/st_us-051200/st_st169719/third_party/pytorch_lightning/trainer/trainer.py\u001b[0m in \u001b[0;36m_run\u001b[0;34m(self, model)\u001b[0m\n\u001b[1;32m    754\u001b[0m \u001b[0;34m\u001b[0m\u001b[0m\n\u001b[1;32m    755\u001b[0m         \u001b[0;31m# dispatch `start_training` or `start_evaluating` or `start_predicting`\u001b[0m\u001b[0;34m\u001b[0m\u001b[0;34m\u001b[0m\u001b[0;34m\u001b[0m\u001b[0m\n\u001b[0;32m--> 756\u001b[0;31m         \u001b[0mself\u001b[0m\u001b[0;34m.\u001b[0m\u001b[0mdispatch\u001b[0m\u001b[0;34m(\u001b[0m\u001b[0;34m)\u001b[0m\u001b[0;34m\u001b[0m\u001b[0;34m\u001b[0m\u001b[0m\n\u001b[0m\u001b[1;32m    757\u001b[0m \u001b[0;34m\u001b[0m\u001b[0m\n\u001b[1;32m    758\u001b[0m         \u001b[0;31m# plugin will finalized fitting (e.g. ddp_spawn will load trained model)\u001b[0m\u001b[0;34m\u001b[0m\u001b[0;34m\u001b[0m\u001b[0;34m\u001b[0m\u001b[0m\n",
      "\u001b[0;32m/pfs/data5/home/st/st_us-051200/st_st169719/third_party/pytorch_lightning/trainer/trainer.py\u001b[0m in \u001b[0;36mdispatch\u001b[0;34m(self)\u001b[0m\n\u001b[1;32m    791\u001b[0m     \u001b[0;32mdef\u001b[0m \u001b[0mdispatch\u001b[0m\u001b[0;34m(\u001b[0m\u001b[0mself\u001b[0m\u001b[0;34m)\u001b[0m\u001b[0;34m:\u001b[0m\u001b[0;34m\u001b[0m\u001b[0;34m\u001b[0m\u001b[0m\n\u001b[1;32m    792\u001b[0m         \u001b[0;32mif\u001b[0m \u001b[0mself\u001b[0m\u001b[0;34m.\u001b[0m\u001b[0mevaluating\u001b[0m\u001b[0;34m:\u001b[0m\u001b[0;34m\u001b[0m\u001b[0;34m\u001b[0m\u001b[0m\n\u001b[0;32m--> 793\u001b[0;31m             \u001b[0mself\u001b[0m\u001b[0;34m.\u001b[0m\u001b[0maccelerator\u001b[0m\u001b[0;34m.\u001b[0m\u001b[0mstart_evaluating\u001b[0m\u001b[0;34m(\u001b[0m\u001b[0mself\u001b[0m\u001b[0;34m)\u001b[0m\u001b[0;34m\u001b[0m\u001b[0;34m\u001b[0m\u001b[0m\n\u001b[0m\u001b[1;32m    794\u001b[0m         \u001b[0;32melif\u001b[0m \u001b[0mself\u001b[0m\u001b[0;34m.\u001b[0m\u001b[0mpredicting\u001b[0m\u001b[0;34m:\u001b[0m\u001b[0;34m\u001b[0m\u001b[0;34m\u001b[0m\u001b[0m\n\u001b[1;32m    795\u001b[0m             \u001b[0mself\u001b[0m\u001b[0;34m.\u001b[0m\u001b[0maccelerator\u001b[0m\u001b[0;34m.\u001b[0m\u001b[0mstart_predicting\u001b[0m\u001b[0;34m(\u001b[0m\u001b[0mself\u001b[0m\u001b[0;34m)\u001b[0m\u001b[0;34m\u001b[0m\u001b[0;34m\u001b[0m\u001b[0m\n",
      "\u001b[0;32m/pfs/data5/home/st/st_us-051200/st_st169719/third_party/pytorch_lightning/accelerators/accelerator.py\u001b[0m in \u001b[0;36mstart_evaluating\u001b[0;34m(self, trainer)\u001b[0m\n\u001b[1;32m     97\u001b[0m \u001b[0;34m\u001b[0m\u001b[0m\n\u001b[1;32m     98\u001b[0m     \u001b[0;32mdef\u001b[0m \u001b[0mstart_evaluating\u001b[0m\u001b[0;34m(\u001b[0m\u001b[0mself\u001b[0m\u001b[0;34m,\u001b[0m \u001b[0mtrainer\u001b[0m\u001b[0;34m:\u001b[0m \u001b[0;34m'pl.Trainer'\u001b[0m\u001b[0;34m)\u001b[0m \u001b[0;34m->\u001b[0m \u001b[0;32mNone\u001b[0m\u001b[0;34m:\u001b[0m\u001b[0;34m\u001b[0m\u001b[0;34m\u001b[0m\u001b[0m\n\u001b[0;32m---> 99\u001b[0;31m         \u001b[0mself\u001b[0m\u001b[0;34m.\u001b[0m\u001b[0mtraining_type_plugin\u001b[0m\u001b[0;34m.\u001b[0m\u001b[0mstart_evaluating\u001b[0m\u001b[0;34m(\u001b[0m\u001b[0mtrainer\u001b[0m\u001b[0;34m)\u001b[0m\u001b[0;34m\u001b[0m\u001b[0;34m\u001b[0m\u001b[0m\n\u001b[0m\u001b[1;32m    100\u001b[0m \u001b[0;34m\u001b[0m\u001b[0m\n\u001b[1;32m    101\u001b[0m     \u001b[0;32mdef\u001b[0m \u001b[0mstart_predicting\u001b[0m\u001b[0;34m(\u001b[0m\u001b[0mself\u001b[0m\u001b[0;34m,\u001b[0m \u001b[0mtrainer\u001b[0m\u001b[0;34m:\u001b[0m \u001b[0;34m'pl.Trainer'\u001b[0m\u001b[0;34m)\u001b[0m \u001b[0;34m->\u001b[0m \u001b[0;32mNone\u001b[0m\u001b[0;34m:\u001b[0m\u001b[0;34m\u001b[0m\u001b[0;34m\u001b[0m\u001b[0m\n",
      "\u001b[0;32m/pfs/data5/home/st/st_us-051200/st_st169719/third_party/pytorch_lightning/plugins/training_type/training_type_plugin.py\u001b[0m in \u001b[0;36mstart_evaluating\u001b[0;34m(self, trainer)\u001b[0m\n\u001b[1;32m    146\u001b[0m     \u001b[0;32mdef\u001b[0m \u001b[0mstart_evaluating\u001b[0m\u001b[0;34m(\u001b[0m\u001b[0mself\u001b[0m\u001b[0;34m,\u001b[0m \u001b[0mtrainer\u001b[0m\u001b[0;34m:\u001b[0m \u001b[0;34m'pl.Trainer'\u001b[0m\u001b[0;34m)\u001b[0m \u001b[0;34m->\u001b[0m \u001b[0;32mNone\u001b[0m\u001b[0;34m:\u001b[0m\u001b[0;34m\u001b[0m\u001b[0;34m\u001b[0m\u001b[0m\n\u001b[1;32m    147\u001b[0m         \u001b[0;31m# double dispatch to initiate the test loop\u001b[0m\u001b[0;34m\u001b[0m\u001b[0;34m\u001b[0m\u001b[0;34m\u001b[0m\u001b[0m\n\u001b[0;32m--> 148\u001b[0;31m         \u001b[0mself\u001b[0m\u001b[0;34m.\u001b[0m\u001b[0m_results\u001b[0m \u001b[0;34m=\u001b[0m \u001b[0mtrainer\u001b[0m\u001b[0;34m.\u001b[0m\u001b[0mrun_stage\u001b[0m\u001b[0;34m(\u001b[0m\u001b[0;34m)\u001b[0m\u001b[0;34m\u001b[0m\u001b[0;34m\u001b[0m\u001b[0m\n\u001b[0m\u001b[1;32m    149\u001b[0m \u001b[0;34m\u001b[0m\u001b[0m\n\u001b[1;32m    150\u001b[0m     \u001b[0;32mdef\u001b[0m \u001b[0mstart_predicting\u001b[0m\u001b[0;34m(\u001b[0m\u001b[0mself\u001b[0m\u001b[0;34m,\u001b[0m \u001b[0mtrainer\u001b[0m\u001b[0;34m:\u001b[0m \u001b[0;34m'pl.Trainer'\u001b[0m\u001b[0;34m)\u001b[0m \u001b[0;34m->\u001b[0m \u001b[0;32mNone\u001b[0m\u001b[0;34m:\u001b[0m\u001b[0;34m\u001b[0m\u001b[0;34m\u001b[0m\u001b[0m\n",
      "\u001b[0;32m/pfs/data5/home/st/st_us-051200/st_st169719/third_party/pytorch_lightning/trainer/trainer.py\u001b[0m in \u001b[0;36mrun_stage\u001b[0;34m(self)\u001b[0m\n\u001b[1;32m    802\u001b[0m \u001b[0;34m\u001b[0m\u001b[0m\n\u001b[1;32m    803\u001b[0m         \u001b[0;32mif\u001b[0m \u001b[0mself\u001b[0m\u001b[0;34m.\u001b[0m\u001b[0mevaluating\u001b[0m\u001b[0;34m:\u001b[0m\u001b[0;34m\u001b[0m\u001b[0;34m\u001b[0m\u001b[0m\n\u001b[0;32m--> 804\u001b[0;31m             \u001b[0;32mreturn\u001b[0m \u001b[0mself\u001b[0m\u001b[0;34m.\u001b[0m\u001b[0mrun_evaluate\u001b[0m\u001b[0;34m(\u001b[0m\u001b[0;34m)\u001b[0m\u001b[0;34m\u001b[0m\u001b[0;34m\u001b[0m\u001b[0m\n\u001b[0m\u001b[1;32m    805\u001b[0m         \u001b[0;32mif\u001b[0m \u001b[0mself\u001b[0m\u001b[0;34m.\u001b[0m\u001b[0mpredicting\u001b[0m\u001b[0;34m:\u001b[0m\u001b[0;34m\u001b[0m\u001b[0;34m\u001b[0m\u001b[0m\n\u001b[1;32m    806\u001b[0m             \u001b[0;32mreturn\u001b[0m \u001b[0mself\u001b[0m\u001b[0;34m.\u001b[0m\u001b[0mrun_predict\u001b[0m\u001b[0;34m(\u001b[0m\u001b[0;34m)\u001b[0m\u001b[0;34m\u001b[0m\u001b[0;34m\u001b[0m\u001b[0m\n",
      "\u001b[0;32m/pfs/data5/home/st/st_us-051200/st_st169719/third_party/pytorch_lightning/trainer/trainer.py\u001b[0m in \u001b[0;36mrun_evaluate\u001b[0;34m(self)\u001b[0m\n\u001b[1;32m   1042\u001b[0m \u001b[0;34m\u001b[0m\u001b[0m\n\u001b[1;32m   1043\u001b[0m         \u001b[0;32mwith\u001b[0m \u001b[0mself\u001b[0m\u001b[0;34m.\u001b[0m\u001b[0mprofiler\u001b[0m\u001b[0;34m.\u001b[0m\u001b[0mprofile\u001b[0m\u001b[0;34m(\u001b[0m\u001b[0;34mf\"run_{self.state.stage}_evaluation\"\u001b[0m\u001b[0;34m)\u001b[0m\u001b[0;34m:\u001b[0m\u001b[0;34m\u001b[0m\u001b[0;34m\u001b[0m\u001b[0m\n\u001b[0;32m-> 1044\u001b[0;31m             \u001b[0meval_loop_results\u001b[0m \u001b[0;34m=\u001b[0m \u001b[0mself\u001b[0m\u001b[0;34m.\u001b[0m\u001b[0mrun_evaluation\u001b[0m\u001b[0;34m(\u001b[0m\u001b[0;34m)\u001b[0m\u001b[0;34m\u001b[0m\u001b[0;34m\u001b[0m\u001b[0m\n\u001b[0m\u001b[1;32m   1045\u001b[0m \u001b[0;34m\u001b[0m\u001b[0m\n\u001b[1;32m   1046\u001b[0m         \u001b[0;31m# remove the tensors from the eval results\u001b[0m\u001b[0;34m\u001b[0m\u001b[0;34m\u001b[0m\u001b[0;34m\u001b[0m\u001b[0m\n",
      "\u001b[0;32m/pfs/data5/home/st/st_us-051200/st_st169719/third_party/pytorch_lightning/trainer/trainer.py\u001b[0m in \u001b[0;36mrun_evaluation\u001b[0;34m(self, on_epoch)\u001b[0m\n\u001b[1;32m    960\u001b[0m                 \u001b[0;31m# lightning module methods\u001b[0m\u001b[0;34m\u001b[0m\u001b[0;34m\u001b[0m\u001b[0;34m\u001b[0m\u001b[0m\n\u001b[1;32m    961\u001b[0m                 \u001b[0;32mwith\u001b[0m \u001b[0mself\u001b[0m\u001b[0;34m.\u001b[0m\u001b[0mprofiler\u001b[0m\u001b[0;34m.\u001b[0m\u001b[0mprofile\u001b[0m\u001b[0;34m(\u001b[0m\u001b[0;34m\"evaluation_step_and_end\"\u001b[0m\u001b[0;34m)\u001b[0m\u001b[0;34m:\u001b[0m\u001b[0;34m\u001b[0m\u001b[0;34m\u001b[0m\u001b[0m\n\u001b[0;32m--> 962\u001b[0;31m                     \u001b[0moutput\u001b[0m \u001b[0;34m=\u001b[0m \u001b[0mself\u001b[0m\u001b[0;34m.\u001b[0m\u001b[0mevaluation_loop\u001b[0m\u001b[0;34m.\u001b[0m\u001b[0mevaluation_step\u001b[0m\u001b[0;34m(\u001b[0m\u001b[0mbatch\u001b[0m\u001b[0;34m,\u001b[0m \u001b[0mbatch_idx\u001b[0m\u001b[0;34m,\u001b[0m \u001b[0mdataloader_idx\u001b[0m\u001b[0;34m)\u001b[0m\u001b[0;34m\u001b[0m\u001b[0;34m\u001b[0m\u001b[0m\n\u001b[0m\u001b[1;32m    963\u001b[0m                     \u001b[0moutput\u001b[0m \u001b[0;34m=\u001b[0m \u001b[0mself\u001b[0m\u001b[0;34m.\u001b[0m\u001b[0mevaluation_loop\u001b[0m\u001b[0;34m.\u001b[0m\u001b[0mevaluation_step_end\u001b[0m\u001b[0;34m(\u001b[0m\u001b[0moutput\u001b[0m\u001b[0;34m)\u001b[0m\u001b[0;34m\u001b[0m\u001b[0;34m\u001b[0m\u001b[0m\n\u001b[1;32m    964\u001b[0m \u001b[0;34m\u001b[0m\u001b[0m\n",
      "\u001b[0;32m/pfs/data5/home/st/st_us-051200/st_st169719/third_party/pytorch_lightning/trainer/evaluation_loop.py\u001b[0m in \u001b[0;36mevaluation_step\u001b[0;34m(self, batch, batch_idx, dataloader_idx)\u001b[0m\n\u001b[1;32m    168\u001b[0m             \u001b[0mmodel_ref\u001b[0m\u001b[0;34m.\u001b[0m\u001b[0m_current_fx_name\u001b[0m \u001b[0;34m=\u001b[0m \u001b[0;34m\"test_step\"\u001b[0m\u001b[0;34m\u001b[0m\u001b[0;34m\u001b[0m\u001b[0m\n\u001b[1;32m    169\u001b[0m             \u001b[0;32mwith\u001b[0m \u001b[0mself\u001b[0m\u001b[0;34m.\u001b[0m\u001b[0mtrainer\u001b[0m\u001b[0;34m.\u001b[0m\u001b[0mprofiler\u001b[0m\u001b[0;34m.\u001b[0m\u001b[0mprofile\u001b[0m\u001b[0;34m(\u001b[0m\u001b[0;34m\"test_step\"\u001b[0m\u001b[0;34m)\u001b[0m\u001b[0;34m:\u001b[0m\u001b[0;34m\u001b[0m\u001b[0;34m\u001b[0m\u001b[0m\n\u001b[0;32m--> 170\u001b[0;31m                 \u001b[0moutput\u001b[0m \u001b[0;34m=\u001b[0m \u001b[0mself\u001b[0m\u001b[0;34m.\u001b[0m\u001b[0mtrainer\u001b[0m\u001b[0;34m.\u001b[0m\u001b[0maccelerator\u001b[0m\u001b[0;34m.\u001b[0m\u001b[0mtest_step\u001b[0m\u001b[0;34m(\u001b[0m\u001b[0margs\u001b[0m\u001b[0;34m)\u001b[0m\u001b[0;34m\u001b[0m\u001b[0;34m\u001b[0m\u001b[0m\n\u001b[0m\u001b[1;32m    171\u001b[0m         \u001b[0;32melse\u001b[0m\u001b[0;34m:\u001b[0m\u001b[0;34m\u001b[0m\u001b[0;34m\u001b[0m\u001b[0m\n\u001b[1;32m    172\u001b[0m             \u001b[0mmodel_ref\u001b[0m\u001b[0;34m.\u001b[0m\u001b[0m_current_fx_name\u001b[0m \u001b[0;34m=\u001b[0m \u001b[0;34m\"validation_step\"\u001b[0m\u001b[0;34m\u001b[0m\u001b[0;34m\u001b[0m\u001b[0m\n",
      "\u001b[0;32m/pfs/data5/home/st/st_us-051200/st_st169719/third_party/pytorch_lightning/accelerators/accelerator.py\u001b[0m in \u001b[0;36mtest_step\u001b[0;34m(self, args)\u001b[0m\n\u001b[1;32m    243\u001b[0m \u001b[0;34m\u001b[0m\u001b[0m\n\u001b[1;32m    244\u001b[0m         \u001b[0;32mwith\u001b[0m \u001b[0mself\u001b[0m\u001b[0;34m.\u001b[0m\u001b[0mprecision_plugin\u001b[0m\u001b[0;34m.\u001b[0m\u001b[0mtest_step_context\u001b[0m\u001b[0;34m(\u001b[0m\u001b[0;34m)\u001b[0m\u001b[0;34m,\u001b[0m \u001b[0mself\u001b[0m\u001b[0;34m.\u001b[0m\u001b[0mtraining_type_plugin\u001b[0m\u001b[0;34m.\u001b[0m\u001b[0mtest_step_context\u001b[0m\u001b[0;34m(\u001b[0m\u001b[0;34m)\u001b[0m\u001b[0;34m:\u001b[0m\u001b[0;34m\u001b[0m\u001b[0;34m\u001b[0m\u001b[0m\n\u001b[0;32m--> 245\u001b[0;31m             \u001b[0;32mreturn\u001b[0m \u001b[0mself\u001b[0m\u001b[0;34m.\u001b[0m\u001b[0mtraining_type_plugin\u001b[0m\u001b[0;34m.\u001b[0m\u001b[0mtest_step\u001b[0m\u001b[0;34m(\u001b[0m\u001b[0;34m*\u001b[0m\u001b[0margs\u001b[0m\u001b[0;34m)\u001b[0m\u001b[0;34m\u001b[0m\u001b[0;34m\u001b[0m\u001b[0m\n\u001b[0m\u001b[1;32m    246\u001b[0m \u001b[0;34m\u001b[0m\u001b[0m\n\u001b[1;32m    247\u001b[0m     \u001b[0;32mdef\u001b[0m \u001b[0mpredict_step\u001b[0m\u001b[0;34m(\u001b[0m\u001b[0mself\u001b[0m\u001b[0;34m,\u001b[0m \u001b[0margs\u001b[0m\u001b[0;34m:\u001b[0m \u001b[0mList\u001b[0m\u001b[0;34m[\u001b[0m\u001b[0mUnion\u001b[0m\u001b[0;34m[\u001b[0m\u001b[0mAny\u001b[0m\u001b[0;34m,\u001b[0m \u001b[0mint\u001b[0m\u001b[0;34m]\u001b[0m\u001b[0;34m]\u001b[0m\u001b[0;34m)\u001b[0m \u001b[0;34m->\u001b[0m \u001b[0mSTEP_OUTPUT\u001b[0m\u001b[0;34m:\u001b[0m\u001b[0;34m\u001b[0m\u001b[0;34m\u001b[0m\u001b[0m\n",
      "\u001b[0;32m/pfs/data5/home/st/st_us-051200/st_st169719/third_party/pytorch_lightning/plugins/training_type/dp.py\u001b[0m in \u001b[0;36mtest_step\u001b[0;34m(self, *args, **kwargs)\u001b[0m\n\u001b[1;32m    102\u001b[0m \u001b[0;34m\u001b[0m\u001b[0m\n\u001b[1;32m    103\u001b[0m     \u001b[0;32mdef\u001b[0m \u001b[0mtest_step\u001b[0m\u001b[0;34m(\u001b[0m\u001b[0mself\u001b[0m\u001b[0;34m,\u001b[0m \u001b[0;34m*\u001b[0m\u001b[0margs\u001b[0m\u001b[0;34m,\u001b[0m \u001b[0;34m**\u001b[0m\u001b[0mkwargs\u001b[0m\u001b[0;34m)\u001b[0m\u001b[0;34m:\u001b[0m\u001b[0;34m\u001b[0m\u001b[0;34m\u001b[0m\u001b[0m\n\u001b[0;32m--> 104\u001b[0;31m         \u001b[0;32mreturn\u001b[0m \u001b[0mself\u001b[0m\u001b[0;34m.\u001b[0m\u001b[0mmodel\u001b[0m\u001b[0;34m(\u001b[0m\u001b[0;34m*\u001b[0m\u001b[0margs\u001b[0m\u001b[0;34m,\u001b[0m \u001b[0;34m**\u001b[0m\u001b[0mkwargs\u001b[0m\u001b[0;34m)\u001b[0m\u001b[0;34m\u001b[0m\u001b[0;34m\u001b[0m\u001b[0m\n\u001b[0m\u001b[1;32m    105\u001b[0m \u001b[0;34m\u001b[0m\u001b[0m\n\u001b[1;32m    106\u001b[0m     \u001b[0;32mdef\u001b[0m \u001b[0mpredict_step\u001b[0m\u001b[0;34m(\u001b[0m\u001b[0mself\u001b[0m\u001b[0;34m,\u001b[0m \u001b[0;34m*\u001b[0m\u001b[0margs\u001b[0m\u001b[0;34m,\u001b[0m \u001b[0;34m**\u001b[0m\u001b[0mkwargs\u001b[0m\u001b[0;34m)\u001b[0m\u001b[0;34m:\u001b[0m\u001b[0;34m\u001b[0m\u001b[0;34m\u001b[0m\u001b[0m\n",
      "\u001b[0;32m~/.local/lib/python3.6/site-packages/torch/nn/modules/module.py\u001b[0m in \u001b[0;36m_call_impl\u001b[0;34m(self, *input, **kwargs)\u001b[0m\n\u001b[1;32m    887\u001b[0m             \u001b[0mresult\u001b[0m \u001b[0;34m=\u001b[0m \u001b[0mself\u001b[0m\u001b[0;34m.\u001b[0m\u001b[0m_slow_forward\u001b[0m\u001b[0;34m(\u001b[0m\u001b[0;34m*\u001b[0m\u001b[0minput\u001b[0m\u001b[0;34m,\u001b[0m \u001b[0;34m**\u001b[0m\u001b[0mkwargs\u001b[0m\u001b[0;34m)\u001b[0m\u001b[0;34m\u001b[0m\u001b[0;34m\u001b[0m\u001b[0m\n\u001b[1;32m    888\u001b[0m         \u001b[0;32melse\u001b[0m\u001b[0;34m:\u001b[0m\u001b[0;34m\u001b[0m\u001b[0;34m\u001b[0m\u001b[0m\n\u001b[0;32m--> 889\u001b[0;31m             \u001b[0mresult\u001b[0m \u001b[0;34m=\u001b[0m \u001b[0mself\u001b[0m\u001b[0;34m.\u001b[0m\u001b[0mforward\u001b[0m\u001b[0;34m(\u001b[0m\u001b[0;34m*\u001b[0m\u001b[0minput\u001b[0m\u001b[0;34m,\u001b[0m \u001b[0;34m**\u001b[0m\u001b[0mkwargs\u001b[0m\u001b[0;34m)\u001b[0m\u001b[0;34m\u001b[0m\u001b[0;34m\u001b[0m\u001b[0m\n\u001b[0m\u001b[1;32m    890\u001b[0m         for hook in itertools.chain(\n\u001b[1;32m    891\u001b[0m                 \u001b[0m_global_forward_hooks\u001b[0m\u001b[0;34m.\u001b[0m\u001b[0mvalues\u001b[0m\u001b[0;34m(\u001b[0m\u001b[0;34m)\u001b[0m\u001b[0;34m,\u001b[0m\u001b[0;34m\u001b[0m\u001b[0;34m\u001b[0m\u001b[0m\n",
      "\u001b[0;32m~/.local/lib/python3.6/site-packages/torch/nn/parallel/data_parallel.py\u001b[0m in \u001b[0;36mforward\u001b[0;34m(self, *inputs, **kwargs)\u001b[0m\n\u001b[1;32m    165\u001b[0m             \u001b[0;32mreturn\u001b[0m \u001b[0mself\u001b[0m\u001b[0;34m.\u001b[0m\u001b[0mmodule\u001b[0m\u001b[0;34m(\u001b[0m\u001b[0;34m*\u001b[0m\u001b[0minputs\u001b[0m\u001b[0;34m[\u001b[0m\u001b[0;36m0\u001b[0m\u001b[0;34m]\u001b[0m\u001b[0;34m,\u001b[0m \u001b[0;34m**\u001b[0m\u001b[0mkwargs\u001b[0m\u001b[0;34m[\u001b[0m\u001b[0;36m0\u001b[0m\u001b[0;34m]\u001b[0m\u001b[0;34m)\u001b[0m\u001b[0;34m\u001b[0m\u001b[0;34m\u001b[0m\u001b[0m\n\u001b[1;32m    166\u001b[0m         \u001b[0mreplicas\u001b[0m \u001b[0;34m=\u001b[0m \u001b[0mself\u001b[0m\u001b[0;34m.\u001b[0m\u001b[0mreplicate\u001b[0m\u001b[0;34m(\u001b[0m\u001b[0mself\u001b[0m\u001b[0;34m.\u001b[0m\u001b[0mmodule\u001b[0m\u001b[0;34m,\u001b[0m \u001b[0mself\u001b[0m\u001b[0;34m.\u001b[0m\u001b[0mdevice_ids\u001b[0m\u001b[0;34m[\u001b[0m\u001b[0;34m:\u001b[0m\u001b[0mlen\u001b[0m\u001b[0;34m(\u001b[0m\u001b[0minputs\u001b[0m\u001b[0;34m)\u001b[0m\u001b[0;34m]\u001b[0m\u001b[0;34m)\u001b[0m\u001b[0;34m\u001b[0m\u001b[0;34m\u001b[0m\u001b[0m\n\u001b[0;32m--> 167\u001b[0;31m         \u001b[0moutputs\u001b[0m \u001b[0;34m=\u001b[0m \u001b[0mself\u001b[0m\u001b[0;34m.\u001b[0m\u001b[0mparallel_apply\u001b[0m\u001b[0;34m(\u001b[0m\u001b[0mreplicas\u001b[0m\u001b[0;34m,\u001b[0m \u001b[0minputs\u001b[0m\u001b[0;34m,\u001b[0m \u001b[0mkwargs\u001b[0m\u001b[0;34m)\u001b[0m\u001b[0;34m\u001b[0m\u001b[0;34m\u001b[0m\u001b[0m\n\u001b[0m\u001b[1;32m    168\u001b[0m         \u001b[0;32mreturn\u001b[0m \u001b[0mself\u001b[0m\u001b[0;34m.\u001b[0m\u001b[0mgather\u001b[0m\u001b[0;34m(\u001b[0m\u001b[0moutputs\u001b[0m\u001b[0;34m,\u001b[0m \u001b[0mself\u001b[0m\u001b[0;34m.\u001b[0m\u001b[0moutput_device\u001b[0m\u001b[0;34m)\u001b[0m\u001b[0;34m\u001b[0m\u001b[0;34m\u001b[0m\u001b[0m\n\u001b[1;32m    169\u001b[0m \u001b[0;34m\u001b[0m\u001b[0m\n",
      "\u001b[0;32m~/.local/lib/python3.6/site-packages/torch/nn/parallel/data_parallel.py\u001b[0m in \u001b[0;36mparallel_apply\u001b[0;34m(self, replicas, inputs, kwargs)\u001b[0m\n\u001b[1;32m    175\u001b[0m \u001b[0;34m\u001b[0m\u001b[0m\n\u001b[1;32m    176\u001b[0m     \u001b[0;32mdef\u001b[0m \u001b[0mparallel_apply\u001b[0m\u001b[0;34m(\u001b[0m\u001b[0mself\u001b[0m\u001b[0;34m,\u001b[0m \u001b[0mreplicas\u001b[0m\u001b[0;34m,\u001b[0m \u001b[0minputs\u001b[0m\u001b[0;34m,\u001b[0m \u001b[0mkwargs\u001b[0m\u001b[0;34m)\u001b[0m\u001b[0;34m:\u001b[0m\u001b[0;34m\u001b[0m\u001b[0;34m\u001b[0m\u001b[0m\n\u001b[0;32m--> 177\u001b[0;31m         \u001b[0;32mreturn\u001b[0m \u001b[0mparallel_apply\u001b[0m\u001b[0;34m(\u001b[0m\u001b[0mreplicas\u001b[0m\u001b[0;34m,\u001b[0m \u001b[0minputs\u001b[0m\u001b[0;34m,\u001b[0m \u001b[0mkwargs\u001b[0m\u001b[0;34m,\u001b[0m \u001b[0mself\u001b[0m\u001b[0;34m.\u001b[0m\u001b[0mdevice_ids\u001b[0m\u001b[0;34m[\u001b[0m\u001b[0;34m:\u001b[0m\u001b[0mlen\u001b[0m\u001b[0;34m(\u001b[0m\u001b[0mreplicas\u001b[0m\u001b[0;34m)\u001b[0m\u001b[0;34m]\u001b[0m\u001b[0;34m)\u001b[0m\u001b[0;34m\u001b[0m\u001b[0;34m\u001b[0m\u001b[0m\n\u001b[0m\u001b[1;32m    178\u001b[0m \u001b[0;34m\u001b[0m\u001b[0m\n\u001b[1;32m    179\u001b[0m     \u001b[0;32mdef\u001b[0m \u001b[0mgather\u001b[0m\u001b[0;34m(\u001b[0m\u001b[0mself\u001b[0m\u001b[0;34m,\u001b[0m \u001b[0moutputs\u001b[0m\u001b[0;34m,\u001b[0m \u001b[0moutput_device\u001b[0m\u001b[0;34m)\u001b[0m\u001b[0;34m:\u001b[0m\u001b[0;34m\u001b[0m\u001b[0;34m\u001b[0m\u001b[0m\n",
      "\u001b[0;32m~/.local/lib/python3.6/site-packages/torch/nn/parallel/parallel_apply.py\u001b[0m in \u001b[0;36mparallel_apply\u001b[0;34m(modules, inputs, kwargs_tup, devices)\u001b[0m\n\u001b[1;32m     76\u001b[0m             \u001b[0mthread\u001b[0m\u001b[0;34m.\u001b[0m\u001b[0mstart\u001b[0m\u001b[0;34m(\u001b[0m\u001b[0;34m)\u001b[0m\u001b[0;34m\u001b[0m\u001b[0;34m\u001b[0m\u001b[0m\n\u001b[1;32m     77\u001b[0m         \u001b[0;32mfor\u001b[0m \u001b[0mthread\u001b[0m \u001b[0;32min\u001b[0m \u001b[0mthreads\u001b[0m\u001b[0;34m:\u001b[0m\u001b[0;34m\u001b[0m\u001b[0;34m\u001b[0m\u001b[0m\n\u001b[0;32m---> 78\u001b[0;31m             \u001b[0mthread\u001b[0m\u001b[0;34m.\u001b[0m\u001b[0mjoin\u001b[0m\u001b[0;34m(\u001b[0m\u001b[0;34m)\u001b[0m\u001b[0;34m\u001b[0m\u001b[0;34m\u001b[0m\u001b[0m\n\u001b[0m\u001b[1;32m     79\u001b[0m     \u001b[0;32melse\u001b[0m\u001b[0;34m:\u001b[0m\u001b[0;34m\u001b[0m\u001b[0;34m\u001b[0m\u001b[0m\n\u001b[1;32m     80\u001b[0m         \u001b[0m_worker\u001b[0m\u001b[0;34m(\u001b[0m\u001b[0;36m0\u001b[0m\u001b[0;34m,\u001b[0m \u001b[0mmodules\u001b[0m\u001b[0;34m[\u001b[0m\u001b[0;36m0\u001b[0m\u001b[0;34m]\u001b[0m\u001b[0;34m,\u001b[0m \u001b[0minputs\u001b[0m\u001b[0;34m[\u001b[0m\u001b[0;36m0\u001b[0m\u001b[0;34m]\u001b[0m\u001b[0;34m,\u001b[0m \u001b[0mkwargs_tup\u001b[0m\u001b[0;34m[\u001b[0m\u001b[0;36m0\u001b[0m\u001b[0;34m]\u001b[0m\u001b[0;34m,\u001b[0m \u001b[0mdevices\u001b[0m\u001b[0;34m[\u001b[0m\u001b[0;36m0\u001b[0m\u001b[0;34m]\u001b[0m\u001b[0;34m)\u001b[0m\u001b[0;34m\u001b[0m\u001b[0;34m\u001b[0m\u001b[0m\n",
      "\u001b[0;32m/usr/lib64/python3.6/threading.py\u001b[0m in \u001b[0;36mjoin\u001b[0;34m(self, timeout)\u001b[0m\n\u001b[1;32m   1054\u001b[0m \u001b[0;34m\u001b[0m\u001b[0m\n\u001b[1;32m   1055\u001b[0m         \u001b[0;32mif\u001b[0m \u001b[0mtimeout\u001b[0m \u001b[0;32mis\u001b[0m \u001b[0;32mNone\u001b[0m\u001b[0;34m:\u001b[0m\u001b[0;34m\u001b[0m\u001b[0;34m\u001b[0m\u001b[0m\n\u001b[0;32m-> 1056\u001b[0;31m             \u001b[0mself\u001b[0m\u001b[0;34m.\u001b[0m\u001b[0m_wait_for_tstate_lock\u001b[0m\u001b[0;34m(\u001b[0m\u001b[0;34m)\u001b[0m\u001b[0;34m\u001b[0m\u001b[0;34m\u001b[0m\u001b[0m\n\u001b[0m\u001b[1;32m   1057\u001b[0m         \u001b[0;32melse\u001b[0m\u001b[0;34m:\u001b[0m\u001b[0;34m\u001b[0m\u001b[0;34m\u001b[0m\u001b[0m\n\u001b[1;32m   1058\u001b[0m             \u001b[0;31m# the behavior of a negative timeout isn't documented, but\u001b[0m\u001b[0;34m\u001b[0m\u001b[0;34m\u001b[0m\u001b[0;34m\u001b[0m\u001b[0m\n",
      "\u001b[0;32m/usr/lib64/python3.6/threading.py\u001b[0m in \u001b[0;36m_wait_for_tstate_lock\u001b[0;34m(self, block, timeout)\u001b[0m\n\u001b[1;32m   1070\u001b[0m         \u001b[0;32mif\u001b[0m \u001b[0mlock\u001b[0m \u001b[0;32mis\u001b[0m \u001b[0;32mNone\u001b[0m\u001b[0;34m:\u001b[0m  \u001b[0;31m# already determined that the C code is done\u001b[0m\u001b[0;34m\u001b[0m\u001b[0;34m\u001b[0m\u001b[0m\n\u001b[1;32m   1071\u001b[0m             \u001b[0;32massert\u001b[0m \u001b[0mself\u001b[0m\u001b[0;34m.\u001b[0m\u001b[0m_is_stopped\u001b[0m\u001b[0;34m\u001b[0m\u001b[0;34m\u001b[0m\u001b[0m\n\u001b[0;32m-> 1072\u001b[0;31m         \u001b[0;32melif\u001b[0m \u001b[0mlock\u001b[0m\u001b[0;34m.\u001b[0m\u001b[0macquire\u001b[0m\u001b[0;34m(\u001b[0m\u001b[0mblock\u001b[0m\u001b[0;34m,\u001b[0m \u001b[0mtimeout\u001b[0m\u001b[0;34m)\u001b[0m\u001b[0;34m:\u001b[0m\u001b[0;34m\u001b[0m\u001b[0;34m\u001b[0m\u001b[0m\n\u001b[0m\u001b[1;32m   1073\u001b[0m             \u001b[0mlock\u001b[0m\u001b[0;34m.\u001b[0m\u001b[0mrelease\u001b[0m\u001b[0;34m(\u001b[0m\u001b[0;34m)\u001b[0m\u001b[0;34m\u001b[0m\u001b[0;34m\u001b[0m\u001b[0m\n\u001b[1;32m   1074\u001b[0m             \u001b[0mself\u001b[0m\u001b[0;34m.\u001b[0m\u001b[0m_stop\u001b[0m\u001b[0;34m(\u001b[0m\u001b[0;34m)\u001b[0m\u001b[0;34m\u001b[0m\u001b[0;34m\u001b[0m\u001b[0m\n",
      "\u001b[0;31mKeyboardInterrupt\u001b[0m: "
     ]
    }
   ],
   "source": [
    "# use AlbertModel, donot use AlbertforMultiChoice\n",
    "config = AlbertConfig.from_pretrained('albert-base-v2')\n",
    "\n",
    "# # load checkpoint file which you want to use\n",
    "# for path in path_list:\n",
    "#     print('Model in path:' + path)\n",
    "#     checkpoint = torch.load(path)\n",
    "#     new_checkpoint = {}\n",
    "\n",
    "#     for key in checkpoint['state_dict'].keys():\n",
    "#       if 'model' in key:\n",
    "#         new_key = key[6:]\n",
    "#         new_checkpoint[new_key] = checkpoint['state_dict'][key]\n",
    "#       else:\n",
    "#         new_checkpoint[key] = checkpoint['state_dict'][key]\n",
    "        \n",
    "#     m = AlbertForMultipleChoice.from_pretrained(pretrained_model_name_or_path= None, config=config, state_dict=new_checkpoint)\n",
    "#     trainer_for_test = pl.Trainer(gpus=4, accelerator='dp')\n",
    "#     model_for_test = TestModel(m, test_dataloader)\n",
    "#     trainer_for_test.test(model=model_for_test)\n",
    "\n",
    "path = path_list[0]\n",
    "print('Model in path:' + path)\n",
    "checkpoint = torch.load(path)\n",
    "new_checkpoint = {}\n",
    "\n",
    "for key in checkpoint['state_dict'].keys():\n",
    "  if 'model' in key:\n",
    "    new_key = key[6:]\n",
    "    new_checkpoint[new_key] = checkpoint['state_dict'][key]\n",
    "  else:\n",
    "    new_checkpoint[key] = checkpoint['state_dict'][key]\n",
    "\n",
    "m = AlbertForMultipleChoice.from_pretrained(pretrained_model_name_or_path= None, config=config, state_dict=new_checkpoint)\n",
    "trainer_for_test = pl.Trainer(gpus=4, accelerator='dp')\n",
    "model_for_test = TestModel(m, test_dataloader)\n",
    "trainer_for_test.test(model=model_for_test)"
   ]
  },
  {
   "cell_type": "code",
   "execution_count": 22,
   "id": "interracial-apple",
   "metadata": {},
   "outputs": [
    {
     "name": "stdout",
     "output_type": "stream",
     "text": [
      "Cosmos\tRACE\n",
      "Cosmos\tOpenBook  RACE\n"
     ]
    }
   ],
   "source": [
    "!cd /pfs/work7/workspace/scratch/st_st169719-TQA-0/Chen/ && ls && mkdir OpenBook && ls"
   ]
  },
  {
   "cell_type": "code",
   "execution_count": 23,
   "id": "spatial-survivor",
   "metadata": {},
   "outputs": [],
   "source": [
    "!cp /pfs/data5/home/st/st_us-051200/st_st169719/OpenBook/Checkpoints/DR/Ex01/dr_ex01-albert-openbook-epoch=02-val_acc_epoch=0.557.ckpt /pfs/work7/workspace/scratch/st_st169719-TQA-0/Chen/OpenBook"
   ]
  },
  {
   "cell_type": "code",
   "execution_count": 24,
   "id": "critical-blowing",
   "metadata": {},
   "outputs": [
    {
     "name": "stdout",
     "output_type": "stream",
     "text": [
      "'dr_ex01-albert-openbook-epoch=02-val_acc_epoch=0.557.ckpt'\n"
     ]
    }
   ],
   "source": [
    "!cd /pfs/work7/workspace/scratch/st_st169719-TQA-0/Chen/OpenBook/ && ls"
   ]
  },
  {
   "cell_type": "code",
   "execution_count": null,
   "id": "baking-bottom",
   "metadata": {},
   "outputs": [],
   "source": []
  }
 ],
 "metadata": {
  "kernelspec": {
   "display_name": "Python 3",
   "language": "python",
   "name": "python3"
  },
  "language_info": {
   "codemirror_mode": {
    "name": "ipython",
    "version": 3
   },
   "file_extension": ".py",
   "mimetype": "text/x-python",
   "name": "python",
   "nbconvert_exporter": "python",
   "pygments_lexer": "ipython3",
   "version": "3.6.8"
  }
 },
 "nbformat": 4,
 "nbformat_minor": 5
}
